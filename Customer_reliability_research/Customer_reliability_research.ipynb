{
 "cells": [
  {
   "cell_type": "markdown",
   "id": "fa9e9474",
   "metadata": {
    "deletable": false,
    "editable": false,
    "id": "c81daeeb"
   },
   "source": [
    "# Исследование надежности заемщиков\n"
   ]
  },
  {
   "cell_type": "markdown",
   "id": "b40ea841",
   "metadata": {
    "deletable": false,
    "editable": false,
    "id": "744d7639"
   },
   "source": [
    "## Откройте таблицу и изучите общую информацию о данных"
   ]
  },
  {
   "cell_type": "markdown",
   "id": "32385ba6",
   "metadata": {
    "deletable": false,
    "editable": false,
    "id": "e7a14c31"
   },
   "source": [
    "**Задание 1. Импортируйте библиотеку pandas. Считайте данные из csv-файла в датафрейм и сохраните в переменную `data`. Путь к файлу:**\n",
    "\n",
    "`/datasets/data.csv`"
   ]
  },
  {
   "cell_type": "code",
   "execution_count": 1,
   "id": "eaa1b1e8",
   "metadata": {
    "deletable": false,
    "id": "7bcf75c9"
   },
   "outputs": [],
   "source": [
    "import pandas as pd\n",
    "\n",
    "try:\n",
    "    data = pd.read_csv('/datasets/data.csv')\n",
    "except:\n",
    "    data = pd.read_csv('https://code.s3.yandex.net/datasets/data.csv')"
   ]
  },
  {
   "cell_type": "markdown",
   "id": "668f2fb5",
   "metadata": {
    "deletable": false,
    "editable": false,
    "id": "b8038fe3"
   },
   "source": [
    "**Задание 2. Выведите первые 20 строчек датафрейма `data` на экран.**"
   ]
  },
  {
   "cell_type": "code",
   "execution_count": 2,
   "id": "f4d72018",
   "metadata": {
    "deletable": false,
    "id": "2a7cab99",
    "outputId": "1a8f3ef2-d323-4ec2-ddf7-89670b5944c4"
   },
   "outputs": [
    {
     "data": {
      "text/html": [
       "<div>\n",
       "<style scoped>\n",
       "    .dataframe tbody tr th:only-of-type {\n",
       "        vertical-align: middle;\n",
       "    }\n",
       "\n",
       "    .dataframe tbody tr th {\n",
       "        vertical-align: top;\n",
       "    }\n",
       "\n",
       "    .dataframe thead th {\n",
       "        text-align: right;\n",
       "    }\n",
       "</style>\n",
       "<table border=\"1\" class=\"dataframe\">\n",
       "  <thead>\n",
       "    <tr style=\"text-align: right;\">\n",
       "      <th></th>\n",
       "      <th>children</th>\n",
       "      <th>days_employed</th>\n",
       "      <th>dob_years</th>\n",
       "      <th>education</th>\n",
       "      <th>education_id</th>\n",
       "      <th>family_status</th>\n",
       "      <th>family_status_id</th>\n",
       "      <th>gender</th>\n",
       "      <th>income_type</th>\n",
       "      <th>debt</th>\n",
       "      <th>total_income</th>\n",
       "      <th>purpose</th>\n",
       "    </tr>\n",
       "  </thead>\n",
       "  <tbody>\n",
       "    <tr>\n",
       "      <th>0</th>\n",
       "      <td>1</td>\n",
       "      <td>-8437.673028</td>\n",
       "      <td>42</td>\n",
       "      <td>высшее</td>\n",
       "      <td>0</td>\n",
       "      <td>женат / замужем</td>\n",
       "      <td>0</td>\n",
       "      <td>F</td>\n",
       "      <td>сотрудник</td>\n",
       "      <td>0</td>\n",
       "      <td>253875.639453</td>\n",
       "      <td>покупка жилья</td>\n",
       "    </tr>\n",
       "    <tr>\n",
       "      <th>1</th>\n",
       "      <td>1</td>\n",
       "      <td>-4024.803754</td>\n",
       "      <td>36</td>\n",
       "      <td>среднее</td>\n",
       "      <td>1</td>\n",
       "      <td>женат / замужем</td>\n",
       "      <td>0</td>\n",
       "      <td>F</td>\n",
       "      <td>сотрудник</td>\n",
       "      <td>0</td>\n",
       "      <td>112080.014102</td>\n",
       "      <td>приобретение автомобиля</td>\n",
       "    </tr>\n",
       "    <tr>\n",
       "      <th>2</th>\n",
       "      <td>0</td>\n",
       "      <td>-5623.422610</td>\n",
       "      <td>33</td>\n",
       "      <td>Среднее</td>\n",
       "      <td>1</td>\n",
       "      <td>женат / замужем</td>\n",
       "      <td>0</td>\n",
       "      <td>M</td>\n",
       "      <td>сотрудник</td>\n",
       "      <td>0</td>\n",
       "      <td>145885.952297</td>\n",
       "      <td>покупка жилья</td>\n",
       "    </tr>\n",
       "    <tr>\n",
       "      <th>3</th>\n",
       "      <td>3</td>\n",
       "      <td>-4124.747207</td>\n",
       "      <td>32</td>\n",
       "      <td>среднее</td>\n",
       "      <td>1</td>\n",
       "      <td>женат / замужем</td>\n",
       "      <td>0</td>\n",
       "      <td>M</td>\n",
       "      <td>сотрудник</td>\n",
       "      <td>0</td>\n",
       "      <td>267628.550329</td>\n",
       "      <td>дополнительное образование</td>\n",
       "    </tr>\n",
       "    <tr>\n",
       "      <th>4</th>\n",
       "      <td>0</td>\n",
       "      <td>340266.072047</td>\n",
       "      <td>53</td>\n",
       "      <td>среднее</td>\n",
       "      <td>1</td>\n",
       "      <td>гражданский брак</td>\n",
       "      <td>1</td>\n",
       "      <td>F</td>\n",
       "      <td>пенсионер</td>\n",
       "      <td>0</td>\n",
       "      <td>158616.077870</td>\n",
       "      <td>сыграть свадьбу</td>\n",
       "    </tr>\n",
       "    <tr>\n",
       "      <th>5</th>\n",
       "      <td>0</td>\n",
       "      <td>-926.185831</td>\n",
       "      <td>27</td>\n",
       "      <td>высшее</td>\n",
       "      <td>0</td>\n",
       "      <td>гражданский брак</td>\n",
       "      <td>1</td>\n",
       "      <td>M</td>\n",
       "      <td>компаньон</td>\n",
       "      <td>0</td>\n",
       "      <td>255763.565419</td>\n",
       "      <td>покупка жилья</td>\n",
       "    </tr>\n",
       "    <tr>\n",
       "      <th>6</th>\n",
       "      <td>0</td>\n",
       "      <td>-2879.202052</td>\n",
       "      <td>43</td>\n",
       "      <td>высшее</td>\n",
       "      <td>0</td>\n",
       "      <td>женат / замужем</td>\n",
       "      <td>0</td>\n",
       "      <td>F</td>\n",
       "      <td>компаньон</td>\n",
       "      <td>0</td>\n",
       "      <td>240525.971920</td>\n",
       "      <td>операции с жильем</td>\n",
       "    </tr>\n",
       "    <tr>\n",
       "      <th>7</th>\n",
       "      <td>0</td>\n",
       "      <td>-152.779569</td>\n",
       "      <td>50</td>\n",
       "      <td>СРЕДНЕЕ</td>\n",
       "      <td>1</td>\n",
       "      <td>женат / замужем</td>\n",
       "      <td>0</td>\n",
       "      <td>M</td>\n",
       "      <td>сотрудник</td>\n",
       "      <td>0</td>\n",
       "      <td>135823.934197</td>\n",
       "      <td>образование</td>\n",
       "    </tr>\n",
       "    <tr>\n",
       "      <th>8</th>\n",
       "      <td>2</td>\n",
       "      <td>-6929.865299</td>\n",
       "      <td>35</td>\n",
       "      <td>ВЫСШЕЕ</td>\n",
       "      <td>0</td>\n",
       "      <td>гражданский брак</td>\n",
       "      <td>1</td>\n",
       "      <td>F</td>\n",
       "      <td>сотрудник</td>\n",
       "      <td>0</td>\n",
       "      <td>95856.832424</td>\n",
       "      <td>на проведение свадьбы</td>\n",
       "    </tr>\n",
       "    <tr>\n",
       "      <th>9</th>\n",
       "      <td>0</td>\n",
       "      <td>-2188.756445</td>\n",
       "      <td>41</td>\n",
       "      <td>среднее</td>\n",
       "      <td>1</td>\n",
       "      <td>женат / замужем</td>\n",
       "      <td>0</td>\n",
       "      <td>M</td>\n",
       "      <td>сотрудник</td>\n",
       "      <td>0</td>\n",
       "      <td>144425.938277</td>\n",
       "      <td>покупка жилья для семьи</td>\n",
       "    </tr>\n",
       "    <tr>\n",
       "      <th>10</th>\n",
       "      <td>2</td>\n",
       "      <td>-4171.483647</td>\n",
       "      <td>36</td>\n",
       "      <td>высшее</td>\n",
       "      <td>0</td>\n",
       "      <td>женат / замужем</td>\n",
       "      <td>0</td>\n",
       "      <td>M</td>\n",
       "      <td>компаньон</td>\n",
       "      <td>0</td>\n",
       "      <td>113943.491460</td>\n",
       "      <td>покупка недвижимости</td>\n",
       "    </tr>\n",
       "    <tr>\n",
       "      <th>11</th>\n",
       "      <td>0</td>\n",
       "      <td>-792.701887</td>\n",
       "      <td>40</td>\n",
       "      <td>среднее</td>\n",
       "      <td>1</td>\n",
       "      <td>женат / замужем</td>\n",
       "      <td>0</td>\n",
       "      <td>F</td>\n",
       "      <td>сотрудник</td>\n",
       "      <td>0</td>\n",
       "      <td>77069.234271</td>\n",
       "      <td>покупка коммерческой недвижимости</td>\n",
       "    </tr>\n",
       "    <tr>\n",
       "      <th>12</th>\n",
       "      <td>0</td>\n",
       "      <td>NaN</td>\n",
       "      <td>65</td>\n",
       "      <td>среднее</td>\n",
       "      <td>1</td>\n",
       "      <td>гражданский брак</td>\n",
       "      <td>1</td>\n",
       "      <td>M</td>\n",
       "      <td>пенсионер</td>\n",
       "      <td>0</td>\n",
       "      <td>NaN</td>\n",
       "      <td>сыграть свадьбу</td>\n",
       "    </tr>\n",
       "    <tr>\n",
       "      <th>13</th>\n",
       "      <td>0</td>\n",
       "      <td>-1846.641941</td>\n",
       "      <td>54</td>\n",
       "      <td>неоконченное высшее</td>\n",
       "      <td>2</td>\n",
       "      <td>женат / замужем</td>\n",
       "      <td>0</td>\n",
       "      <td>F</td>\n",
       "      <td>сотрудник</td>\n",
       "      <td>0</td>\n",
       "      <td>130458.228857</td>\n",
       "      <td>приобретение автомобиля</td>\n",
       "    </tr>\n",
       "    <tr>\n",
       "      <th>14</th>\n",
       "      <td>0</td>\n",
       "      <td>-1844.956182</td>\n",
       "      <td>56</td>\n",
       "      <td>высшее</td>\n",
       "      <td>0</td>\n",
       "      <td>гражданский брак</td>\n",
       "      <td>1</td>\n",
       "      <td>F</td>\n",
       "      <td>компаньон</td>\n",
       "      <td>1</td>\n",
       "      <td>165127.911772</td>\n",
       "      <td>покупка жилой недвижимости</td>\n",
       "    </tr>\n",
       "    <tr>\n",
       "      <th>15</th>\n",
       "      <td>1</td>\n",
       "      <td>-972.364419</td>\n",
       "      <td>26</td>\n",
       "      <td>среднее</td>\n",
       "      <td>1</td>\n",
       "      <td>женат / замужем</td>\n",
       "      <td>0</td>\n",
       "      <td>F</td>\n",
       "      <td>сотрудник</td>\n",
       "      <td>0</td>\n",
       "      <td>116820.904450</td>\n",
       "      <td>строительство собственной недвижимости</td>\n",
       "    </tr>\n",
       "    <tr>\n",
       "      <th>16</th>\n",
       "      <td>0</td>\n",
       "      <td>-1719.934226</td>\n",
       "      <td>35</td>\n",
       "      <td>среднее</td>\n",
       "      <td>1</td>\n",
       "      <td>женат / замужем</td>\n",
       "      <td>0</td>\n",
       "      <td>F</td>\n",
       "      <td>сотрудник</td>\n",
       "      <td>0</td>\n",
       "      <td>289202.704229</td>\n",
       "      <td>недвижимость</td>\n",
       "    </tr>\n",
       "    <tr>\n",
       "      <th>17</th>\n",
       "      <td>0</td>\n",
       "      <td>-2369.999720</td>\n",
       "      <td>33</td>\n",
       "      <td>высшее</td>\n",
       "      <td>0</td>\n",
       "      <td>гражданский брак</td>\n",
       "      <td>1</td>\n",
       "      <td>M</td>\n",
       "      <td>сотрудник</td>\n",
       "      <td>0</td>\n",
       "      <td>90410.586745</td>\n",
       "      <td>строительство недвижимости</td>\n",
       "    </tr>\n",
       "    <tr>\n",
       "      <th>18</th>\n",
       "      <td>0</td>\n",
       "      <td>400281.136913</td>\n",
       "      <td>53</td>\n",
       "      <td>среднее</td>\n",
       "      <td>1</td>\n",
       "      <td>вдовец / вдова</td>\n",
       "      <td>2</td>\n",
       "      <td>F</td>\n",
       "      <td>пенсионер</td>\n",
       "      <td>0</td>\n",
       "      <td>56823.777243</td>\n",
       "      <td>на покупку подержанного автомобиля</td>\n",
       "    </tr>\n",
       "    <tr>\n",
       "      <th>19</th>\n",
       "      <td>0</td>\n",
       "      <td>-10038.818549</td>\n",
       "      <td>48</td>\n",
       "      <td>СРЕДНЕЕ</td>\n",
       "      <td>1</td>\n",
       "      <td>в разводе</td>\n",
       "      <td>3</td>\n",
       "      <td>F</td>\n",
       "      <td>сотрудник</td>\n",
       "      <td>0</td>\n",
       "      <td>242831.107982</td>\n",
       "      <td>на покупку своего автомобиля</td>\n",
       "    </tr>\n",
       "  </tbody>\n",
       "</table>\n",
       "</div>"
      ],
      "text/plain": [
       "    children  days_employed  dob_years            education  education_id  \\\n",
       "0          1   -8437.673028         42               высшее             0   \n",
       "1          1   -4024.803754         36              среднее             1   \n",
       "2          0   -5623.422610         33              Среднее             1   \n",
       "3          3   -4124.747207         32              среднее             1   \n",
       "4          0  340266.072047         53              среднее             1   \n",
       "5          0    -926.185831         27               высшее             0   \n",
       "6          0   -2879.202052         43               высшее             0   \n",
       "7          0    -152.779569         50              СРЕДНЕЕ             1   \n",
       "8          2   -6929.865299         35               ВЫСШЕЕ             0   \n",
       "9          0   -2188.756445         41              среднее             1   \n",
       "10         2   -4171.483647         36               высшее             0   \n",
       "11         0    -792.701887         40              среднее             1   \n",
       "12         0            NaN         65              среднее             1   \n",
       "13         0   -1846.641941         54  неоконченное высшее             2   \n",
       "14         0   -1844.956182         56               высшее             0   \n",
       "15         1    -972.364419         26              среднее             1   \n",
       "16         0   -1719.934226         35              среднее             1   \n",
       "17         0   -2369.999720         33               высшее             0   \n",
       "18         0  400281.136913         53              среднее             1   \n",
       "19         0  -10038.818549         48              СРЕДНЕЕ             1   \n",
       "\n",
       "       family_status  family_status_id gender income_type  debt  \\\n",
       "0    женат / замужем                 0      F   сотрудник     0   \n",
       "1    женат / замужем                 0      F   сотрудник     0   \n",
       "2    женат / замужем                 0      M   сотрудник     0   \n",
       "3    женат / замужем                 0      M   сотрудник     0   \n",
       "4   гражданский брак                 1      F   пенсионер     0   \n",
       "5   гражданский брак                 1      M   компаньон     0   \n",
       "6    женат / замужем                 0      F   компаньон     0   \n",
       "7    женат / замужем                 0      M   сотрудник     0   \n",
       "8   гражданский брак                 1      F   сотрудник     0   \n",
       "9    женат / замужем                 0      M   сотрудник     0   \n",
       "10   женат / замужем                 0      M   компаньон     0   \n",
       "11   женат / замужем                 0      F   сотрудник     0   \n",
       "12  гражданский брак                 1      M   пенсионер     0   \n",
       "13   женат / замужем                 0      F   сотрудник     0   \n",
       "14  гражданский брак                 1      F   компаньон     1   \n",
       "15   женат / замужем                 0      F   сотрудник     0   \n",
       "16   женат / замужем                 0      F   сотрудник     0   \n",
       "17  гражданский брак                 1      M   сотрудник     0   \n",
       "18    вдовец / вдова                 2      F   пенсионер     0   \n",
       "19         в разводе                 3      F   сотрудник     0   \n",
       "\n",
       "     total_income                                 purpose  \n",
       "0   253875.639453                           покупка жилья  \n",
       "1   112080.014102                 приобретение автомобиля  \n",
       "2   145885.952297                           покупка жилья  \n",
       "3   267628.550329              дополнительное образование  \n",
       "4   158616.077870                         сыграть свадьбу  \n",
       "5   255763.565419                           покупка жилья  \n",
       "6   240525.971920                       операции с жильем  \n",
       "7   135823.934197                             образование  \n",
       "8    95856.832424                   на проведение свадьбы  \n",
       "9   144425.938277                 покупка жилья для семьи  \n",
       "10  113943.491460                    покупка недвижимости  \n",
       "11   77069.234271       покупка коммерческой недвижимости  \n",
       "12            NaN                         сыграть свадьбу  \n",
       "13  130458.228857                 приобретение автомобиля  \n",
       "14  165127.911772              покупка жилой недвижимости  \n",
       "15  116820.904450  строительство собственной недвижимости  \n",
       "16  289202.704229                            недвижимость  \n",
       "17   90410.586745              строительство недвижимости  \n",
       "18   56823.777243      на покупку подержанного автомобиля  \n",
       "19  242831.107982            на покупку своего автомобиля  "
      ]
     },
     "execution_count": 2,
     "metadata": {},
     "output_type": "execute_result"
    }
   ],
   "source": [
    "data.head(20)"
   ]
  },
  {
   "cell_type": "markdown",
   "id": "733f7803",
   "metadata": {
    "deletable": false,
    "editable": false,
    "id": "1c12e233"
   },
   "source": [
    "**Задание 3. Выведите основную информацию о датафрейме с помощью метода `info()`.**"
   ]
  },
  {
   "cell_type": "code",
   "execution_count": 3,
   "id": "435efb36",
   "metadata": {
    "deletable": false,
    "id": "2b757bca",
    "outputId": "15376089-8dad-46c9-b520-c05248d43158"
   },
   "outputs": [
    {
     "name": "stdout",
     "output_type": "stream",
     "text": [
      "<class 'pandas.core.frame.DataFrame'>\n",
      "RangeIndex: 21525 entries, 0 to 21524\n",
      "Data columns (total 12 columns):\n",
      " #   Column            Non-Null Count  Dtype  \n",
      "---  ------            --------------  -----  \n",
      " 0   children          21525 non-null  int64  \n",
      " 1   days_employed     19351 non-null  float64\n",
      " 2   dob_years         21525 non-null  int64  \n",
      " 3   education         21525 non-null  object \n",
      " 4   education_id      21525 non-null  int64  \n",
      " 5   family_status     21525 non-null  object \n",
      " 6   family_status_id  21525 non-null  int64  \n",
      " 7   gender            21525 non-null  object \n",
      " 8   income_type       21525 non-null  object \n",
      " 9   debt              21525 non-null  int64  \n",
      " 10  total_income      19351 non-null  float64\n",
      " 11  purpose           21525 non-null  object \n",
      "dtypes: float64(2), int64(5), object(5)\n",
      "memory usage: 2.0+ MB\n"
     ]
    }
   ],
   "source": [
    "data.info()"
   ]
  },
  {
   "cell_type": "markdown",
   "id": "ee0eb325",
   "metadata": {
    "deletable": false,
    "editable": false,
    "id": "333ec665"
   },
   "source": [
    "## Предобработка данных"
   ]
  },
  {
   "cell_type": "markdown",
   "id": "bbfb066c",
   "metadata": {
    "deletable": false,
    "editable": false,
    "id": "02d92d53"
   },
   "source": [
    "### Удаление пропусков"
   ]
  },
  {
   "cell_type": "markdown",
   "id": "8682c5ba",
   "metadata": {
    "deletable": false,
    "editable": false,
    "id": "cd84967c"
   },
   "source": [
    "**Задание 4. Выведите количество пропущенных значений для каждого столбца. Используйте комбинацию двух методов.**"
   ]
  },
  {
   "cell_type": "code",
   "execution_count": 4,
   "id": "a9076c3e",
   "metadata": {
    "deletable": false,
    "id": "7f9b2309",
    "outputId": "81f4d817-781c-465c-ed15-91ce4446810d"
   },
   "outputs": [
    {
     "data": {
      "text/plain": [
       "children               0\n",
       "days_employed       2174\n",
       "dob_years              0\n",
       "education              0\n",
       "education_id           0\n",
       "family_status          0\n",
       "family_status_id       0\n",
       "gender                 0\n",
       "income_type            0\n",
       "debt                   0\n",
       "total_income        2174\n",
       "purpose                0\n",
       "dtype: int64"
      ]
     },
     "execution_count": 4,
     "metadata": {},
     "output_type": "execute_result"
    }
   ],
   "source": [
    "data.isna().sum()"
   ]
  },
  {
   "cell_type": "markdown",
   "id": "b84bdbb9",
   "metadata": {
    "deletable": false,
    "editable": false,
    "id": "db86e27b"
   },
   "source": [
    "**Задание 5. В двух столбцах есть пропущенные значения. Один из них — `days_employed`. Пропуски в этом столбце вы обработаете на следующем этапе. Другой столбец с пропущенными значениями — `total_income` — хранит данные о доходах. На сумму дохода сильнее всего влияет тип занятости, поэтому заполнить пропуски в этом столбце нужно медианным значением по каждому типу из столбца `income_type`. Например, у человека с типом занятости `сотрудник` пропуск в столбце `total_income` должен быть заполнен медианным доходом среди всех записей с тем же типом.**"
   ]
  },
  {
   "cell_type": "code",
   "execution_count": 5,
   "id": "e7b60e55",
   "metadata": {
    "deletable": false,
    "id": "42006a93"
   },
   "outputs": [],
   "source": [
    "for t in data['income_type'].unique():\n",
    "    data.loc[(data['income_type'] == t) & (data['total_income'].isna()), 'total_income'] = \\\n",
    "    data.loc[(data['income_type'] == t), 'total_income'].median()"
   ]
  },
  {
   "cell_type": "markdown",
   "id": "15700d76",
   "metadata": {
    "deletable": false,
    "editable": false,
    "id": "89da5ece"
   },
   "source": [
    "### Обработка аномальных значений"
   ]
  },
  {
   "cell_type": "markdown",
   "id": "e6f06267",
   "metadata": {
    "deletable": false,
    "editable": false,
    "id": "57964554"
   },
   "source": [
    "**Задание 6. В данных могут встречаться артефакты (аномалии) — значения, которые не отражают действительность и появились по какой-то ошибке. таким артефактом будет отрицательное количество дней трудового стажа в столбце `days_employed`. Для реальных данных это нормально. Обработайте значения в этом столбце: замените все отрицательные значения положительными с помощью метода `abs()`.**"
   ]
  },
  {
   "cell_type": "code",
   "execution_count": 6,
   "id": "ea04f601",
   "metadata": {
    "deletable": false,
    "id": "f6f055bf"
   },
   "outputs": [],
   "source": [
    "data['days_employed'] = data['days_employed'].abs()"
   ]
  },
  {
   "cell_type": "markdown",
   "id": "55fff333",
   "metadata": {
    "deletable": false,
    "editable": false,
    "id": "6107dd2f"
   },
   "source": [
    "**Задание 7. Для каждого типа занятости выведите медианное значение трудового стажа `days_employed` в днях.**"
   ]
  },
  {
   "cell_type": "code",
   "execution_count": 7,
   "id": "a5902ce8",
   "metadata": {
    "deletable": false,
    "id": "85a5faf6",
    "outputId": "801ef80e-522b-4668-f34e-565af7432bcf"
   },
   "outputs": [
    {
     "data": {
      "text/plain": [
       "income_type\n",
       "безработный        366413.652744\n",
       "в декрете            3296.759962\n",
       "госслужащий          2689.368353\n",
       "компаньон            1547.382223\n",
       "пенсионер          365213.306266\n",
       "предприниматель       520.848083\n",
       "сотрудник            1574.202821\n",
       "студент               578.751554\n",
       "Name: days_employed, dtype: float64"
      ]
     },
     "execution_count": 7,
     "metadata": {},
     "output_type": "execute_result"
    }
   ],
   "source": [
    "data.groupby('income_type')['days_employed'].agg('median')"
   ]
  },
  {
   "cell_type": "markdown",
   "id": "6658a548",
   "metadata": {
    "deletable": false,
    "editable": false,
    "id": "38d1a030"
   },
   "source": [
    "У двух типов (безработные и пенсионеры) получатся аномально большие значения. Исправить такие значения сложно, поэтому оставьте их как есть. Тем более этот столбец не понадобится вам для исследования."
   ]
  },
  {
   "cell_type": "markdown",
   "id": "bd8c5ec5",
   "metadata": {
    "deletable": false,
    "editable": false,
    "id": "d8a9f147"
   },
   "source": [
    "**Задание 8. Выведите перечень уникальных значений столбца `children`.**"
   ]
  },
  {
   "cell_type": "code",
   "execution_count": 8,
   "id": "3aca44a6",
   "metadata": {
    "deletable": false,
    "id": "ef5056eb",
    "outputId": "6975b15c-7f95-4697-d16d-a0c79b657b03"
   },
   "outputs": [
    {
     "data": {
      "text/plain": [
       "array([ 1,  0,  3,  2, -1,  4, 20,  5])"
      ]
     },
     "execution_count": 8,
     "metadata": {},
     "output_type": "execute_result"
    }
   ],
   "source": [
    "data['children'].unique()"
   ]
  },
  {
   "cell_type": "markdown",
   "id": "856177dc",
   "metadata": {
    "deletable": false,
    "editable": false,
    "id": "40b9ebf2"
   },
   "source": [
    "**Задание 9. В столбце `children` есть два аномальных значения. Удалите строки, в которых встречаются такие аномальные значения из датафрейма `data`.**"
   ]
  },
  {
   "cell_type": "code",
   "execution_count": 9,
   "id": "bc287c3f",
   "metadata": {
    "deletable": false,
    "id": "3ff9801d"
   },
   "outputs": [],
   "source": [
    "data = data[(data['children'] != -1) & (data['children'] != 20)]"
   ]
  },
  {
   "cell_type": "markdown",
   "id": "045a27e8",
   "metadata": {
    "deletable": false,
    "editable": false,
    "id": "bbc4d0ce"
   },
   "source": [
    "**Задание 10. Ещё раз выведите перечень уникальных значений столбца `children`, чтобы убедиться, что артефакты удалены.**"
   ]
  },
  {
   "cell_type": "code",
   "execution_count": 10,
   "id": "bf1af292",
   "metadata": {
    "deletable": false,
    "id": "ad4fa8b7",
    "outputId": "b2097101-d49d-44d9-901b-32a65c9463d1"
   },
   "outputs": [
    {
     "data": {
      "text/plain": [
       "array([1, 0, 3, 2, 4, 5])"
      ]
     },
     "execution_count": 10,
     "metadata": {},
     "output_type": "execute_result"
    }
   ],
   "source": [
    "data['children'].unique()"
   ]
  },
  {
   "cell_type": "markdown",
   "id": "3bbe05da",
   "metadata": {
    "deletable": false,
    "editable": false,
    "id": "75440b63"
   },
   "source": [
    "### Удаление пропусков (продолжение)"
   ]
  },
  {
   "cell_type": "markdown",
   "id": "d14675df",
   "metadata": {
    "deletable": false,
    "editable": false,
    "id": "f4ea573f"
   },
   "source": [
    "**Задание 11. Заполните пропуски в столбце `days_employed` медианными значениями по каждого типа занятости `income_type`.**"
   ]
  },
  {
   "cell_type": "code",
   "execution_count": 11,
   "id": "c44addb2",
   "metadata": {
    "deletable": false,
    "id": "af6b1a7e"
   },
   "outputs": [],
   "source": [
    "for t in data['income_type'].unique():\n",
    "    data.loc[(data['income_type'] == t) & (data['days_employed'].isna()), 'days_employed'] = \\\n",
    "    data.loc[(data['income_type'] == t), 'days_employed'].median()"
   ]
  },
  {
   "cell_type": "markdown",
   "id": "1f2c0821",
   "metadata": {
    "deletable": false,
    "editable": false,
    "id": "2753f40d"
   },
   "source": [
    "**Задание 12. Убедитесь, что все пропуски заполнены. Проверьте себя и ещё раз выведите количество пропущенных значений для каждого столбца с помощью двух методов.**"
   ]
  },
  {
   "cell_type": "code",
   "execution_count": 12,
   "id": "e01be99e",
   "metadata": {
    "deletable": false,
    "id": "55f78bc2",
    "outputId": "8da1e4e1-358e-4e87-98c9-f261bce0a7b2"
   },
   "outputs": [
    {
     "data": {
      "text/plain": [
       "children            0\n",
       "days_employed       0\n",
       "dob_years           0\n",
       "education           0\n",
       "education_id        0\n",
       "family_status       0\n",
       "family_status_id    0\n",
       "gender              0\n",
       "income_type         0\n",
       "debt                0\n",
       "total_income        0\n",
       "purpose             0\n",
       "dtype: int64"
      ]
     },
     "execution_count": 12,
     "metadata": {},
     "output_type": "execute_result"
    }
   ],
   "source": [
    "data.isna().sum()"
   ]
  },
  {
   "cell_type": "markdown",
   "id": "efb35185",
   "metadata": {
    "deletable": false,
    "editable": false,
    "id": "ddc81e43"
   },
   "source": [
    "### Изменение типов данных"
   ]
  },
  {
   "cell_type": "markdown",
   "id": "69431a5d",
   "metadata": {
    "deletable": false,
    "editable": false,
    "id": "42d19d24"
   },
   "source": [
    "**Задание 13. Замените вещественный тип данных в столбце `total_income` на целочисленный с помощью метода `astype()`.**"
   ]
  },
  {
   "cell_type": "code",
   "execution_count": 13,
   "id": "75f5a104",
   "metadata": {
    "deletable": false,
    "id": "920b65ad"
   },
   "outputs": [],
   "source": [
    "data['total_income'] = data['total_income'].astype(int)"
   ]
  },
  {
   "cell_type": "markdown",
   "id": "550ad860",
   "metadata": {
    "deletable": false,
    "editable": false,
    "id": "80c420ba"
   },
   "source": [
    "### Обработка дубликатов"
   ]
  },
  {
   "cell_type": "markdown",
   "id": "6d4421b8",
   "metadata": {
    "deletable": false,
    "editable": false
   },
   "source": [
    "**Задание 14. Обработайте неявные дубликаты в столбце `education`. В этом столбце есть одни и те же значения, но записанные по-разному: с использованием заглавных и строчных букв. Приведите их к нижнему регистру. Проверьте остальные столбцы.**"
   ]
  },
  {
   "cell_type": "code",
   "execution_count": 14,
   "id": "fe3aa362",
   "metadata": {
    "deletable": false
   },
   "outputs": [],
   "source": [
    "data['education'] = data['education'].str.lower()"
   ]
  },
  {
   "cell_type": "markdown",
   "id": "115c2cb3",
   "metadata": {
    "deletable": false,
    "editable": false,
    "id": "dc587695"
   },
   "source": [
    "**Задание 15. Выведите на экран количество строк-дубликатов в данных. Если такие строки присутствуют, удалите их.**"
   ]
  },
  {
   "cell_type": "code",
   "execution_count": 15,
   "id": "848eb2b3",
   "metadata": {
    "deletable": false,
    "id": "3ee445e4",
    "outputId": "9684deba-1934-42d1-99e1-cda61740f822"
   },
   "outputs": [
    {
     "data": {
      "text/plain": [
       "71"
      ]
     },
     "execution_count": 15,
     "metadata": {},
     "output_type": "execute_result"
    }
   ],
   "source": [
    "data.duplicated().sum()"
   ]
  },
  {
   "cell_type": "code",
   "execution_count": 16,
   "id": "b97bf781",
   "metadata": {
    "deletable": false,
    "id": "8575fe05"
   },
   "outputs": [],
   "source": [
    "data = data.drop_duplicates()"
   ]
  },
  {
   "cell_type": "markdown",
   "id": "66c268c6",
   "metadata": {
    "deletable": false,
    "editable": false,
    "id": "9904cf55"
   },
   "source": [
    "### Категоризация данных"
   ]
  },
  {
   "cell_type": "markdown",
   "id": "ab142ea3",
   "metadata": {
    "deletable": false,
    "editable": false,
    "id": "72fcc8a2"
   },
   "source": [
    "**Задание 16. На основании диапазонов, указанных ниже, создайте в датафрейме `data` столбец `total_income_category` с категориями:**\n",
    "\n",
    "- 0–30000 — `'E'`;\n",
    "- 30001–50000 — `'D'`;\n",
    "- 50001–200000 — `'C'`;\n",
    "- 200001–1000000 — `'B'`;\n",
    "- 1000001 и выше — `'A'`.\n",
    "\n",
    "\n",
    "**Например, кредитополучателю с доходом 25000 нужно назначить категорию `'E'`, а клиенту, получающему 235000, — `'B'`. Используйте собственную функцию с именем `categorize_income()` и метод `apply()`.**"
   ]
  },
  {
   "cell_type": "code",
   "execution_count": 17,
   "id": "00953794",
   "metadata": {
    "deletable": false,
    "id": "e1771346"
   },
   "outputs": [],
   "source": [
    "def categorize_income(income):\n",
    "    try:\n",
    "        if 0 <= income <= 30000:\n",
    "            return 'E'\n",
    "        elif 30001 <= income <= 50000:\n",
    "            return 'D'\n",
    "        elif 50001 <= income <= 200000:\n",
    "            return 'C'\n",
    "        elif 200001 <= income <= 1000000:\n",
    "            return 'B'\n",
    "        elif income >= 1000001:\n",
    "            return 'A'\n",
    "    except:\n",
    "        pass"
   ]
  },
  {
   "cell_type": "code",
   "execution_count": 18,
   "id": "63914af8",
   "metadata": {
    "deletable": false,
    "id": "d5f3586d"
   },
   "outputs": [],
   "source": [
    "data['total_income_category'] = data['total_income'].apply(categorize_income)"
   ]
  },
  {
   "cell_type": "markdown",
   "id": "67be6e4e",
   "metadata": {
    "deletable": false,
    "editable": false,
    "id": "dde49b5c"
   },
   "source": [
    "**Задание 17. Выведите на экран перечень уникальных целей взятия кредита из столбца `purpose`.**"
   ]
  },
  {
   "cell_type": "code",
   "execution_count": 19,
   "id": "130ce2fb",
   "metadata": {
    "deletable": false,
    "id": "f67ce9b3",
    "outputId": "673c12d9-7d7e-4ae0-9812-c622c89dd244"
   },
   "outputs": [
    {
     "data": {
      "text/plain": [
       "array(['покупка жилья', 'приобретение автомобиля',\n",
       "       'дополнительное образование', 'сыграть свадьбу',\n",
       "       'операции с жильем', 'образование', 'на проведение свадьбы',\n",
       "       'покупка жилья для семьи', 'покупка недвижимости',\n",
       "       'покупка коммерческой недвижимости', 'покупка жилой недвижимости',\n",
       "       'строительство собственной недвижимости', 'недвижимость',\n",
       "       'строительство недвижимости', 'на покупку подержанного автомобиля',\n",
       "       'на покупку своего автомобиля',\n",
       "       'операции с коммерческой недвижимостью',\n",
       "       'строительство жилой недвижимости', 'жилье',\n",
       "       'операции со своей недвижимостью', 'автомобили',\n",
       "       'заняться образованием', 'сделка с подержанным автомобилем',\n",
       "       'получение образования', 'автомобиль', 'свадьба',\n",
       "       'получение дополнительного образования', 'покупка своего жилья',\n",
       "       'операции с недвижимостью', 'получение высшего образования',\n",
       "       'свой автомобиль', 'сделка с автомобилем',\n",
       "       'профильное образование', 'высшее образование',\n",
       "       'покупка жилья для сдачи', 'на покупку автомобиля', 'ремонт жилью',\n",
       "       'заняться высшим образованием'], dtype=object)"
      ]
     },
     "execution_count": 19,
     "metadata": {},
     "output_type": "execute_result"
    }
   ],
   "source": [
    "data['purpose'].unique()"
   ]
  },
  {
   "cell_type": "markdown",
   "id": "ebd64447",
   "metadata": {
    "deletable": false,
    "editable": false,
    "id": "85d0aef0"
   },
   "source": [
    "**Задание 18. Создайте функцию, которая на основании данных из столбца `purpose` сформирует новый столбец `purpose_category`, в который войдут следующие категории:**\n",
    "\n",
    "- `'операции с автомобилем'`,\n",
    "- `'операции с недвижимостью'`,\n",
    "- `'проведение свадьбы'`,\n",
    "- `'получение образования'`.\n",
    "\n",
    "**Например, если в столбце `purpose` находится подстрока `'на покупку автомобиля'`, то в столбце `purpose_category` должна появиться строка `'операции с автомобилем'`.**\n",
    "\n",
    "**Используйте собственную функцию с именем `categorize_purpose()` и метод `apply()`. Изучите данные в столбце `purpose` и определите, какие подстроки помогут вам правильно определить категорию.**"
   ]
  },
  {
   "cell_type": "code",
   "execution_count": 20,
   "id": "eb2a8de4",
   "metadata": {
    "deletable": false,
    "id": "e149fab4"
   },
   "outputs": [],
   "source": [
    "def categorize_purpose(row):\n",
    "    try:\n",
    "        if 'автом' in row:\n",
    "            return 'операции с автомобилем'\n",
    "        elif 'жил' in row or 'недвиж' in row:\n",
    "            return 'операции с недвижимостью'\n",
    "        elif 'свад' in row:\n",
    "            return 'проведение свадьбы'\n",
    "        elif 'образов' in row:\n",
    "            return 'получение образования'\n",
    "    except:\n",
    "        return 'нет категории'"
   ]
  },
  {
   "cell_type": "code",
   "execution_count": 21,
   "id": "13298b01",
   "metadata": {
    "deletable": false,
    "id": "bf36e69b"
   },
   "outputs": [],
   "source": [
    "data['purpose_category'] = data['purpose'].apply(categorize_purpose)"
   ]
  },
  {
   "cell_type": "markdown",
   "id": "c7f52f5e",
   "metadata": {
    "deletable": false,
    "editable": false,
    "id": "09b242bf"
   },
   "source": [
    "### Шаг 3. Исследуйте данные и ответьте на вопросы"
   ]
  },
  {
   "cell_type": "markdown",
   "id": "bc7d47ec",
   "metadata": {
    "deletable": false,
    "editable": false,
    "id": "c5d66278"
   },
   "source": [
    "#### 3.1 Есть ли зависимость между количеством детей и возвратом кредита в срок?"
   ]
  },
  {
   "cell_type": "code",
   "execution_count": 22,
   "id": "27317bf5",
   "metadata": {
    "deletable": false,
    "id": "2cacfc4a"
   },
   "outputs": [
    {
     "data": {
      "text/html": [
       "<div>\n",
       "<style scoped>\n",
       "    .dataframe tbody tr th:only-of-type {\n",
       "        vertical-align: middle;\n",
       "    }\n",
       "\n",
       "    .dataframe tbody tr th {\n",
       "        vertical-align: top;\n",
       "    }\n",
       "\n",
       "    .dataframe thead th {\n",
       "        text-align: right;\n",
       "    }\n",
       "</style>\n",
       "<table border=\"1\" class=\"dataframe\">\n",
       "  <thead>\n",
       "    <tr style=\"text-align: right;\">\n",
       "      <th></th>\n",
       "      <th>children</th>\n",
       "      <th>days_employed</th>\n",
       "      <th>dob_years</th>\n",
       "      <th>education</th>\n",
       "      <th>education_id</th>\n",
       "      <th>family_status</th>\n",
       "      <th>family_status_id</th>\n",
       "      <th>gender</th>\n",
       "      <th>income_type</th>\n",
       "      <th>debt</th>\n",
       "      <th>total_income</th>\n",
       "      <th>purpose</th>\n",
       "      <th>total_income_category</th>\n",
       "      <th>purpose_category</th>\n",
       "    </tr>\n",
       "  </thead>\n",
       "  <tbody>\n",
       "    <tr>\n",
       "      <th>0</th>\n",
       "      <td>1</td>\n",
       "      <td>8437.673028</td>\n",
       "      <td>42</td>\n",
       "      <td>высшее</td>\n",
       "      <td>0</td>\n",
       "      <td>женат / замужем</td>\n",
       "      <td>0</td>\n",
       "      <td>F</td>\n",
       "      <td>сотрудник</td>\n",
       "      <td>0</td>\n",
       "      <td>253875</td>\n",
       "      <td>покупка жилья</td>\n",
       "      <td>B</td>\n",
       "      <td>операции с недвижимостью</td>\n",
       "    </tr>\n",
       "    <tr>\n",
       "      <th>1</th>\n",
       "      <td>1</td>\n",
       "      <td>4024.803754</td>\n",
       "      <td>36</td>\n",
       "      <td>среднее</td>\n",
       "      <td>1</td>\n",
       "      <td>женат / замужем</td>\n",
       "      <td>0</td>\n",
       "      <td>F</td>\n",
       "      <td>сотрудник</td>\n",
       "      <td>0</td>\n",
       "      <td>112080</td>\n",
       "      <td>приобретение автомобиля</td>\n",
       "      <td>C</td>\n",
       "      <td>операции с автомобилем</td>\n",
       "    </tr>\n",
       "    <tr>\n",
       "      <th>2</th>\n",
       "      <td>0</td>\n",
       "      <td>5623.422610</td>\n",
       "      <td>33</td>\n",
       "      <td>среднее</td>\n",
       "      <td>1</td>\n",
       "      <td>женат / замужем</td>\n",
       "      <td>0</td>\n",
       "      <td>M</td>\n",
       "      <td>сотрудник</td>\n",
       "      <td>0</td>\n",
       "      <td>145885</td>\n",
       "      <td>покупка жилья</td>\n",
       "      <td>C</td>\n",
       "      <td>операции с недвижимостью</td>\n",
       "    </tr>\n",
       "    <tr>\n",
       "      <th>3</th>\n",
       "      <td>3</td>\n",
       "      <td>4124.747207</td>\n",
       "      <td>32</td>\n",
       "      <td>среднее</td>\n",
       "      <td>1</td>\n",
       "      <td>женат / замужем</td>\n",
       "      <td>0</td>\n",
       "      <td>M</td>\n",
       "      <td>сотрудник</td>\n",
       "      <td>0</td>\n",
       "      <td>267628</td>\n",
       "      <td>дополнительное образование</td>\n",
       "      <td>B</td>\n",
       "      <td>получение образования</td>\n",
       "    </tr>\n",
       "    <tr>\n",
       "      <th>4</th>\n",
       "      <td>0</td>\n",
       "      <td>340266.072047</td>\n",
       "      <td>53</td>\n",
       "      <td>среднее</td>\n",
       "      <td>1</td>\n",
       "      <td>гражданский брак</td>\n",
       "      <td>1</td>\n",
       "      <td>F</td>\n",
       "      <td>пенсионер</td>\n",
       "      <td>0</td>\n",
       "      <td>158616</td>\n",
       "      <td>сыграть свадьбу</td>\n",
       "      <td>C</td>\n",
       "      <td>проведение свадьбы</td>\n",
       "    </tr>\n",
       "    <tr>\n",
       "      <th>...</th>\n",
       "      <td>...</td>\n",
       "      <td>...</td>\n",
       "      <td>...</td>\n",
       "      <td>...</td>\n",
       "      <td>...</td>\n",
       "      <td>...</td>\n",
       "      <td>...</td>\n",
       "      <td>...</td>\n",
       "      <td>...</td>\n",
       "      <td>...</td>\n",
       "      <td>...</td>\n",
       "      <td>...</td>\n",
       "      <td>...</td>\n",
       "      <td>...</td>\n",
       "    </tr>\n",
       "    <tr>\n",
       "      <th>21520</th>\n",
       "      <td>1</td>\n",
       "      <td>4529.316663</td>\n",
       "      <td>43</td>\n",
       "      <td>среднее</td>\n",
       "      <td>1</td>\n",
       "      <td>гражданский брак</td>\n",
       "      <td>1</td>\n",
       "      <td>F</td>\n",
       "      <td>компаньон</td>\n",
       "      <td>0</td>\n",
       "      <td>224791</td>\n",
       "      <td>операции с жильем</td>\n",
       "      <td>B</td>\n",
       "      <td>операции с недвижимостью</td>\n",
       "    </tr>\n",
       "    <tr>\n",
       "      <th>21521</th>\n",
       "      <td>0</td>\n",
       "      <td>343937.404131</td>\n",
       "      <td>67</td>\n",
       "      <td>среднее</td>\n",
       "      <td>1</td>\n",
       "      <td>женат / замужем</td>\n",
       "      <td>0</td>\n",
       "      <td>F</td>\n",
       "      <td>пенсионер</td>\n",
       "      <td>0</td>\n",
       "      <td>155999</td>\n",
       "      <td>сделка с автомобилем</td>\n",
       "      <td>C</td>\n",
       "      <td>операции с автомобилем</td>\n",
       "    </tr>\n",
       "    <tr>\n",
       "      <th>21522</th>\n",
       "      <td>1</td>\n",
       "      <td>2113.346888</td>\n",
       "      <td>38</td>\n",
       "      <td>среднее</td>\n",
       "      <td>1</td>\n",
       "      <td>гражданский брак</td>\n",
       "      <td>1</td>\n",
       "      <td>M</td>\n",
       "      <td>сотрудник</td>\n",
       "      <td>1</td>\n",
       "      <td>89672</td>\n",
       "      <td>недвижимость</td>\n",
       "      <td>C</td>\n",
       "      <td>операции с недвижимостью</td>\n",
       "    </tr>\n",
       "    <tr>\n",
       "      <th>21523</th>\n",
       "      <td>3</td>\n",
       "      <td>3112.481705</td>\n",
       "      <td>38</td>\n",
       "      <td>среднее</td>\n",
       "      <td>1</td>\n",
       "      <td>женат / замужем</td>\n",
       "      <td>0</td>\n",
       "      <td>M</td>\n",
       "      <td>сотрудник</td>\n",
       "      <td>1</td>\n",
       "      <td>244093</td>\n",
       "      <td>на покупку своего автомобиля</td>\n",
       "      <td>B</td>\n",
       "      <td>операции с автомобилем</td>\n",
       "    </tr>\n",
       "    <tr>\n",
       "      <th>21524</th>\n",
       "      <td>2</td>\n",
       "      <td>1984.507589</td>\n",
       "      <td>40</td>\n",
       "      <td>среднее</td>\n",
       "      <td>1</td>\n",
       "      <td>женат / замужем</td>\n",
       "      <td>0</td>\n",
       "      <td>F</td>\n",
       "      <td>сотрудник</td>\n",
       "      <td>0</td>\n",
       "      <td>82047</td>\n",
       "      <td>на покупку автомобиля</td>\n",
       "      <td>C</td>\n",
       "      <td>операции с автомобилем</td>\n",
       "    </tr>\n",
       "  </tbody>\n",
       "</table>\n",
       "<p>21331 rows × 14 columns</p>\n",
       "</div>"
      ],
      "text/plain": [
       "       children  days_employed  dob_years education  education_id  \\\n",
       "0             1    8437.673028         42    высшее             0   \n",
       "1             1    4024.803754         36   среднее             1   \n",
       "2             0    5623.422610         33   среднее             1   \n",
       "3             3    4124.747207         32   среднее             1   \n",
       "4             0  340266.072047         53   среднее             1   \n",
       "...         ...            ...        ...       ...           ...   \n",
       "21520         1    4529.316663         43   среднее             1   \n",
       "21521         0  343937.404131         67   среднее             1   \n",
       "21522         1    2113.346888         38   среднее             1   \n",
       "21523         3    3112.481705         38   среднее             1   \n",
       "21524         2    1984.507589         40   среднее             1   \n",
       "\n",
       "          family_status  family_status_id gender income_type  debt  \\\n",
       "0       женат / замужем                 0      F   сотрудник     0   \n",
       "1       женат / замужем                 0      F   сотрудник     0   \n",
       "2       женат / замужем                 0      M   сотрудник     0   \n",
       "3       женат / замужем                 0      M   сотрудник     0   \n",
       "4      гражданский брак                 1      F   пенсионер     0   \n",
       "...                 ...               ...    ...         ...   ...   \n",
       "21520  гражданский брак                 1      F   компаньон     0   \n",
       "21521   женат / замужем                 0      F   пенсионер     0   \n",
       "21522  гражданский брак                 1      M   сотрудник     1   \n",
       "21523   женат / замужем                 0      M   сотрудник     1   \n",
       "21524   женат / замужем                 0      F   сотрудник     0   \n",
       "\n",
       "       total_income                       purpose total_income_category  \\\n",
       "0            253875                 покупка жилья                     B   \n",
       "1            112080       приобретение автомобиля                     C   \n",
       "2            145885                 покупка жилья                     C   \n",
       "3            267628    дополнительное образование                     B   \n",
       "4            158616               сыграть свадьбу                     C   \n",
       "...             ...                           ...                   ...   \n",
       "21520        224791             операции с жильем                     B   \n",
       "21521        155999          сделка с автомобилем                     C   \n",
       "21522         89672                  недвижимость                     C   \n",
       "21523        244093  на покупку своего автомобиля                     B   \n",
       "21524         82047         на покупку автомобиля                     C   \n",
       "\n",
       "               purpose_category  \n",
       "0      операции с недвижимостью  \n",
       "1        операции с автомобилем  \n",
       "2      операции с недвижимостью  \n",
       "3         получение образования  \n",
       "4            проведение свадьбы  \n",
       "...                         ...  \n",
       "21520  операции с недвижимостью  \n",
       "21521    операции с автомобилем  \n",
       "21522  операции с недвижимостью  \n",
       "21523    операции с автомобилем  \n",
       "21524    операции с автомобилем  \n",
       "\n",
       "[21331 rows x 14 columns]"
      ]
     },
     "execution_count": 22,
     "metadata": {},
     "output_type": "execute_result"
    }
   ],
   "source": [
    "data"
   ]
  },
  {
   "cell_type": "code",
   "execution_count": 23,
   "id": "df47e27f",
   "metadata": {
    "scrolled": true
   },
   "outputs": [
    {
     "data": {
      "text/html": [
       "<style  type=\"text/css\" >\n",
       "</style><table id=\"T_ca972_\" ><thead>    <tr>        <th class=\"blank level0\" ></th>        <th class=\"col_heading level0 col0\" >count</th>        <th class=\"col_heading level0 col1\" >sum</th>        <th class=\"col_heading level0 col2\" >mean</th>    </tr>    <tr>        <th class=\"blank level1\" ></th>        <th class=\"col_heading level1 col0\" >debt</th>        <th class=\"col_heading level1 col1\" >debt</th>        <th class=\"col_heading level1 col2\" >debt</th>    </tr>    <tr>        <th class=\"index_name level0\" >children</th>        <th class=\"blank\" ></th>        <th class=\"blank\" ></th>        <th class=\"blank\" ></th>    </tr></thead><tbody>\n",
       "                <tr>\n",
       "                        <th id=\"T_ca972_level0_row0\" class=\"row_heading level0 row0\" >4</th>\n",
       "                        <td id=\"T_ca972_row0_col0\" class=\"data row0 col0\" >41</td>\n",
       "                        <td id=\"T_ca972_row0_col1\" class=\"data row0 col1\" >4</td>\n",
       "                        <td id=\"T_ca972_row0_col2\" class=\"data row0 col2\" >9.76%</td>\n",
       "            </tr>\n",
       "            <tr>\n",
       "                        <th id=\"T_ca972_level0_row1\" class=\"row_heading level0 row1\" >2</th>\n",
       "                        <td id=\"T_ca972_row1_col0\" class=\"data row1 col0\" >2052</td>\n",
       "                        <td id=\"T_ca972_row1_col1\" class=\"data row1 col1\" >194</td>\n",
       "                        <td id=\"T_ca972_row1_col2\" class=\"data row1 col2\" >9.45%</td>\n",
       "            </tr>\n",
       "            <tr>\n",
       "                        <th id=\"T_ca972_level0_row2\" class=\"row_heading level0 row2\" >1</th>\n",
       "                        <td id=\"T_ca972_row2_col0\" class=\"data row2 col0\" >4808</td>\n",
       "                        <td id=\"T_ca972_row2_col1\" class=\"data row2 col1\" >444</td>\n",
       "                        <td id=\"T_ca972_row2_col2\" class=\"data row2 col2\" >9.23%</td>\n",
       "            </tr>\n",
       "            <tr>\n",
       "                        <th id=\"T_ca972_level0_row3\" class=\"row_heading level0 row3\" >3</th>\n",
       "                        <td id=\"T_ca972_row3_col0\" class=\"data row3 col0\" >330</td>\n",
       "                        <td id=\"T_ca972_row3_col1\" class=\"data row3 col1\" >27</td>\n",
       "                        <td id=\"T_ca972_row3_col2\" class=\"data row3 col2\" >8.18%</td>\n",
       "            </tr>\n",
       "            <tr>\n",
       "                        <th id=\"T_ca972_level0_row4\" class=\"row_heading level0 row4\" >0</th>\n",
       "                        <td id=\"T_ca972_row4_col0\" class=\"data row4 col0\" >14091</td>\n",
       "                        <td id=\"T_ca972_row4_col1\" class=\"data row4 col1\" >1063</td>\n",
       "                        <td id=\"T_ca972_row4_col2\" class=\"data row4 col2\" >7.54%</td>\n",
       "            </tr>\n",
       "            <tr>\n",
       "                        <th id=\"T_ca972_level0_row5\" class=\"row_heading level0 row5\" >5</th>\n",
       "                        <td id=\"T_ca972_row5_col0\" class=\"data row5 col0\" >9</td>\n",
       "                        <td id=\"T_ca972_row5_col1\" class=\"data row5 col1\" >0</td>\n",
       "                        <td id=\"T_ca972_row5_col2\" class=\"data row5 col2\" >0.00%</td>\n",
       "            </tr>\n",
       "    </tbody></table>"
      ],
      "text/plain": [
       "<pandas.io.formats.style.Styler at 0x7f88de3c8d90>"
      ]
     },
     "metadata": {},
     "output_type": "display_data"
    }
   ],
   "source": [
    "# Подготовим данные таблицы для исследования\n",
    "relation_children_debt  = data.pivot_table(index='children', values='debt', aggfunc=['count', 'sum', 'mean'])\n",
    "relation_children_debt = relation_children_debt.sort_values(by=('mean','debt'), ascending=False)\n",
    "display(relation_children_debt.style.format({('mean','debt'):'{:.2%}'}))"
   ]
  },
  {
   "cell_type": "markdown",
   "id": "c490179b",
   "metadata": {
    "deletable": false,
    "id": "3a6b99ec"
   },
   "source": [
    "**Вывод:** "
   ]
  },
  {
   "cell_type": "markdown",
   "id": "77a100b5",
   "metadata": {},
   "source": [
    "Исходя из полученных данных мы можем сделать вывод, что клиенты относительно колличства детей довольно стабильно выплачивают кредит в срок, в отличии от ~ 8,8% должников. Так же заметим, что клиенты имеющие 5-ых детей всегда возвращают кредит в срок.\n",
    "Можем сказать что зависимости от количества детей - нету."
   ]
  },
  {
   "cell_type": "markdown",
   "id": "e91fccf6",
   "metadata": {
    "deletable": false,
    "editable": false,
    "id": "97be82ca"
   },
   "source": [
    "#### 3.2 Есть ли зависимость между семейным положением и возвратом кредита в срок?"
   ]
  },
  {
   "cell_type": "code",
   "execution_count": null,
   "id": "f06c7f4c",
   "metadata": {
    "deletable": false,
    "id": "dc3f7ee8"
   },
   "outputs": [],
   "source": []
  },
  {
   "cell_type": "code",
   "execution_count": 25,
   "id": "0f8a6ceb",
   "metadata": {},
   "outputs": [
    {
     "data": {
      "text/html": [
       "<style  type=\"text/css\" >\n",
       "</style><table id=\"T_da564_\" ><thead>    <tr>        <th class=\"blank level0\" ></th>        <th class=\"col_heading level0 col0\" >count</th>        <th class=\"col_heading level0 col1\" >sum</th>        <th class=\"col_heading level0 col2\" >mean</th>    </tr>    <tr>        <th class=\"blank level1\" ></th>        <th class=\"col_heading level1 col0\" >debt</th>        <th class=\"col_heading level1 col1\" >debt</th>        <th class=\"col_heading level1 col2\" >debt</th>    </tr>    <tr>        <th class=\"index_name level0\" >family_status</th>        <th class=\"blank\" ></th>        <th class=\"blank\" ></th>        <th class=\"blank\" ></th>    </tr></thead><tbody>\n",
       "                <tr>\n",
       "                        <th id=\"T_da564_level0_row0\" class=\"row_heading level0 row0\" >Не женат / не замужем</th>\n",
       "                        <td id=\"T_da564_row0_col0\" class=\"data row0 col0\" >2796</td>\n",
       "                        <td id=\"T_da564_row0_col1\" class=\"data row0 col1\" >273</td>\n",
       "                        <td id=\"T_da564_row0_col2\" class=\"data row0 col2\" >9.76%</td>\n",
       "            </tr>\n",
       "            <tr>\n",
       "                        <th id=\"T_da564_level0_row1\" class=\"row_heading level0 row1\" >гражданский брак</th>\n",
       "                        <td id=\"T_da564_row1_col0\" class=\"data row1 col0\" >4134</td>\n",
       "                        <td id=\"T_da564_row1_col1\" class=\"data row1 col1\" >385</td>\n",
       "                        <td id=\"T_da564_row1_col2\" class=\"data row1 col2\" >9.31%</td>\n",
       "            </tr>\n",
       "            <tr>\n",
       "                        <th id=\"T_da564_level0_row2\" class=\"row_heading level0 row2\" >женат / замужем</th>\n",
       "                        <td id=\"T_da564_row2_col0\" class=\"data row2 col0\" >12261</td>\n",
       "                        <td id=\"T_da564_row2_col1\" class=\"data row2 col1\" >927</td>\n",
       "                        <td id=\"T_da564_row2_col2\" class=\"data row2 col2\" >7.56%</td>\n",
       "            </tr>\n",
       "            <tr>\n",
       "                        <th id=\"T_da564_level0_row3\" class=\"row_heading level0 row3\" >в разводе</th>\n",
       "                        <td id=\"T_da564_row3_col0\" class=\"data row3 col0\" >1189</td>\n",
       "                        <td id=\"T_da564_row3_col1\" class=\"data row3 col1\" >84</td>\n",
       "                        <td id=\"T_da564_row3_col2\" class=\"data row3 col2\" >7.06%</td>\n",
       "            </tr>\n",
       "            <tr>\n",
       "                        <th id=\"T_da564_level0_row4\" class=\"row_heading level0 row4\" >вдовец / вдова</th>\n",
       "                        <td id=\"T_da564_row4_col0\" class=\"data row4 col0\" >951</td>\n",
       "                        <td id=\"T_da564_row4_col1\" class=\"data row4 col1\" >63</td>\n",
       "                        <td id=\"T_da564_row4_col2\" class=\"data row4 col2\" >6.62%</td>\n",
       "            </tr>\n",
       "    </tbody></table>"
      ],
      "text/plain": [
       "<pandas.io.formats.style.Styler at 0x7f891b0af9d0>"
      ]
     },
     "metadata": {},
     "output_type": "display_data"
    }
   ],
   "source": [
    "# Подготовим данные таблицы для исследования\n",
    "relation_family_status_debt = data.pivot_table(index='family_status', values='debt', aggfunc=['count', 'sum', 'mean'])\n",
    "relation_family_status_debt = relation_family_status_debt.sort_values(by=('mean','debt'), ascending=False)\n",
    "display(relation_family_status_debt.style.format({('mean','debt'):'{:.2%}'}))"
   ]
  },
  {
   "cell_type": "markdown",
   "id": "e183fcc3",
   "metadata": {
    "deletable": false,
    "id": "1cef7837"
   },
   "source": [
    "**Вывод:** "
   ]
  },
  {
   "cell_type": "markdown",
   "id": "ad46c382",
   "metadata": {},
   "source": [
    "Исходя из полученных данных мы можем сделать вывод, что с примерно таким же соотношением клиента и должника процент невыплачиваний в срок гараздо выше чем у людей находящихся в разводе или являющимися вдовами/вдовцами. Как и само количество кредиторов, примерно в 3 раза.  Можем предположить, что люди рание небывшие в браке или находящиеся в нём имеют более нестабильное финансовое положение, в следствии чего, чаще не выплачивают в срок кредит.  Таким образом можем сказать, что зависимость от семйного положения - есть."
   ]
  },
  {
   "cell_type": "markdown",
   "id": "0c1b832e",
   "metadata": {
    "deletable": false,
    "editable": false,
    "id": "1e8b2fca"
   },
   "source": [
    "#### 3.3 Есть ли зависимость между уровнем дохода и возвратом кредита в срок?"
   ]
  },
  {
   "cell_type": "code",
   "execution_count": 26,
   "id": "4c69857f",
   "metadata": {
    "deletable": false,
    "id": "cd7e3720"
   },
   "outputs": [],
   "source": []
  },
  {
   "cell_type": "code",
   "execution_count": 27,
   "id": "807f3848",
   "metadata": {},
   "outputs": [
    {
     "data": {
      "text/html": [
       "<style  type=\"text/css\" >\n",
       "</style><table id=\"T_2669d_\" ><thead>    <tr>        <th class=\"blank level0\" ></th>        <th class=\"col_heading level0 col0\" >count</th>        <th class=\"col_heading level0 col1\" >sum</th>        <th class=\"col_heading level0 col2\" >mean</th>    </tr>    <tr>        <th class=\"blank level1\" ></th>        <th class=\"col_heading level1 col0\" >debt</th>        <th class=\"col_heading level1 col1\" >debt</th>        <th class=\"col_heading level1 col2\" >debt</th>    </tr>    <tr>        <th class=\"index_name level0\" >total_income_category</th>        <th class=\"blank\" ></th>        <th class=\"blank\" ></th>        <th class=\"blank\" ></th>    </tr></thead><tbody>\n",
       "                <tr>\n",
       "                        <th id=\"T_2669d_level0_row0\" class=\"row_heading level0 row0\" >E</th>\n",
       "                        <td id=\"T_2669d_row0_col0\" class=\"data row0 col0\" >22</td>\n",
       "                        <td id=\"T_2669d_row0_col1\" class=\"data row0 col1\" >2</td>\n",
       "                        <td id=\"T_2669d_row0_col2\" class=\"data row0 col2\" >9.09%</td>\n",
       "            </tr>\n",
       "            <tr>\n",
       "                        <th id=\"T_2669d_level0_row1\" class=\"row_heading level0 row1\" >C</th>\n",
       "                        <td id=\"T_2669d_row1_col0\" class=\"data row1 col0\" >15921</td>\n",
       "                        <td id=\"T_2669d_row1_col1\" class=\"data row1 col1\" >1353</td>\n",
       "                        <td id=\"T_2669d_row1_col2\" class=\"data row1 col2\" >8.50%</td>\n",
       "            </tr>\n",
       "            <tr>\n",
       "                        <th id=\"T_2669d_level0_row2\" class=\"row_heading level0 row2\" >A</th>\n",
       "                        <td id=\"T_2669d_row2_col0\" class=\"data row2 col0\" >25</td>\n",
       "                        <td id=\"T_2669d_row2_col1\" class=\"data row2 col1\" >2</td>\n",
       "                        <td id=\"T_2669d_row2_col2\" class=\"data row2 col2\" >8.00%</td>\n",
       "            </tr>\n",
       "            <tr>\n",
       "                        <th id=\"T_2669d_level0_row3\" class=\"row_heading level0 row3\" >B</th>\n",
       "                        <td id=\"T_2669d_row3_col0\" class=\"data row3 col0\" >5014</td>\n",
       "                        <td id=\"T_2669d_row3_col1\" class=\"data row3 col1\" >354</td>\n",
       "                        <td id=\"T_2669d_row3_col2\" class=\"data row3 col2\" >7.06%</td>\n",
       "            </tr>\n",
       "            <tr>\n",
       "                        <th id=\"T_2669d_level0_row4\" class=\"row_heading level0 row4\" >D</th>\n",
       "                        <td id=\"T_2669d_row4_col0\" class=\"data row4 col0\" >349</td>\n",
       "                        <td id=\"T_2669d_row4_col1\" class=\"data row4 col1\" >21</td>\n",
       "                        <td id=\"T_2669d_row4_col2\" class=\"data row4 col2\" >6.02%</td>\n",
       "            </tr>\n",
       "    </tbody></table>"
      ],
      "text/plain": [
       "<pandas.io.formats.style.Styler at 0x7f88de3c8d90>"
      ]
     },
     "metadata": {},
     "output_type": "display_data"
    }
   ],
   "source": [
    "# Подготовим данные таблицы для исследования\n",
    "relation_total_income_debt = data.pivot_table(index='total_income_category', values='debt', aggfunc=['count', 'sum', 'mean'])\n",
    "relation_total_income_debt = relation_total_income_debt.sort_values(by=('mean','debt'), ascending=False)\n",
    "display(relation_total_income_debt.style.format({('mean','debt'):'{:.2%}'}))"
   ]
  },
  {
   "cell_type": "markdown",
   "id": "9b836d0d",
   "metadata": {},
   "source": [
    "Вспомним про категории доходов:"
   ]
  },
  {
   "cell_type": "markdown",
   "id": "a6101251",
   "metadata": {},
   "source": [
    "    0–30000 — 'E'\n",
    "    30001–50000 — 'D'\n",
    "    50001–200000 — 'C'\n",
    "    200001–1000000 — 'B'\n",
    "    1000001 и выше — 'A'."
   ]
  },
  {
   "cell_type": "markdown",
   "id": "8578f788",
   "metadata": {
    "deletable": false,
    "id": "e8593def"
   },
   "source": [
    "**Вывод:** "
   ]
  },
  {
   "cell_type": "markdown",
   "id": "296da9a5",
   "metadata": {},
   "source": [
    "Исходя из полученных данных мы можем сделать вывод, что зависимости между уровнем дохода и возвратом кредита в срок нет.  Категории с наименьшей зарплатой (D & E) разнесены по таблице как самые возвращающие в срок кредит клиенты и как больше всех остающиеся должниками."
   ]
  },
  {
   "cell_type": "markdown",
   "id": "a1566ffc",
   "metadata": {
    "deletable": false,
    "editable": false,
    "id": "99ecbd1f"
   },
   "source": [
    "#### 3.4 Как разные цели кредита влияют на его возврат в срок?"
   ]
  },
  {
   "cell_type": "code",
   "execution_count": 28,
   "id": "30cfa58b",
   "metadata": {
    "deletable": false,
    "id": "2b687290"
   },
   "outputs": [],
   "source": []
  },
  {
   "cell_type": "code",
   "execution_count": 29,
   "id": "3c463cdb",
   "metadata": {},
   "outputs": [
    {
     "data": {
      "text/html": [
       "<style  type=\"text/css\" >\n",
       "</style><table id=\"T_d0afd_\" ><thead>    <tr>        <th class=\"blank level0\" ></th>        <th class=\"col_heading level0 col0\" >count</th>        <th class=\"col_heading level0 col1\" >sum</th>        <th class=\"col_heading level0 col2\" >mean</th>    </tr>    <tr>        <th class=\"blank level1\" ></th>        <th class=\"col_heading level1 col0\" >debt</th>        <th class=\"col_heading level1 col1\" >debt</th>        <th class=\"col_heading level1 col2\" >debt</th>    </tr>    <tr>        <th class=\"index_name level0\" >purpose_category</th>        <th class=\"blank\" ></th>        <th class=\"blank\" ></th>        <th class=\"blank\" ></th>    </tr></thead><tbody>\n",
       "                <tr>\n",
       "                        <th id=\"T_d0afd_level0_row0\" class=\"row_heading level0 row0\" >операции с автомобилем</th>\n",
       "                        <td id=\"T_d0afd_row0_col0\" class=\"data row0 col0\" >4279</td>\n",
       "                        <td id=\"T_d0afd_row0_col1\" class=\"data row0 col1\" >400</td>\n",
       "                        <td id=\"T_d0afd_row0_col2\" class=\"data row0 col2\" >9.35%</td>\n",
       "            </tr>\n",
       "            <tr>\n",
       "                        <th id=\"T_d0afd_level0_row1\" class=\"row_heading level0 row1\" >получение образования</th>\n",
       "                        <td id=\"T_d0afd_row1_col0\" class=\"data row1 col0\" >3988</td>\n",
       "                        <td id=\"T_d0afd_row1_col1\" class=\"data row1 col1\" >369</td>\n",
       "                        <td id=\"T_d0afd_row1_col2\" class=\"data row1 col2\" >9.25%</td>\n",
       "            </tr>\n",
       "            <tr>\n",
       "                        <th id=\"T_d0afd_level0_row2\" class=\"row_heading level0 row2\" >проведение свадьбы</th>\n",
       "                        <td id=\"T_d0afd_row2_col0\" class=\"data row2 col0\" >2313</td>\n",
       "                        <td id=\"T_d0afd_row2_col1\" class=\"data row2 col1\" >183</td>\n",
       "                        <td id=\"T_d0afd_row2_col2\" class=\"data row2 col2\" >7.91%</td>\n",
       "            </tr>\n",
       "            <tr>\n",
       "                        <th id=\"T_d0afd_level0_row3\" class=\"row_heading level0 row3\" >операции с недвижимостью</th>\n",
       "                        <td id=\"T_d0afd_row3_col0\" class=\"data row3 col0\" >10751</td>\n",
       "                        <td id=\"T_d0afd_row3_col1\" class=\"data row3 col1\" >780</td>\n",
       "                        <td id=\"T_d0afd_row3_col2\" class=\"data row3 col2\" >7.26%</td>\n",
       "            </tr>\n",
       "    </tbody></table>"
      ],
      "text/plain": [
       "<pandas.io.formats.style.Styler at 0x7f88deaa5af0>"
      ]
     },
     "metadata": {},
     "output_type": "display_data"
    }
   ],
   "source": [
    "# Подготовим данные таблицы для исследования\n",
    "relation_purpose_debt = data.pivot_table(index='purpose_category', values='debt', aggfunc=['count', 'sum', 'mean'])\n",
    "relation_purpose_debt = relation_purpose_debt.sort_values(by=('mean','debt'), ascending=False)\n",
    "display(relation_purpose_debt.style.format({('mean','debt'):'{:.2%}'}))"
   ]
  },
  {
   "cell_type": "markdown",
   "id": "09d6cd9b",
   "metadata": {
    "deletable": false,
    "id": "b4bb2ce6"
   },
   "source": [
    "**Вывод:** "
   ]
  },
  {
   "cell_type": "markdown",
   "id": "0aeadc59",
   "metadata": {},
   "source": [
    "Исходя из полученных данных мы можем сделать вывод, что клиенты более ответственно отдают кредит в срок по категории \n",
    "_операции с недвижимостью_ т.к. можно предположить что это является операция первой необходимости и клиенту не хотелось бы полчучить штраф или остаться без собственного жилья."
   ]
  },
  {
   "cell_type": "markdown",
   "id": "63263dc0",
   "metadata": {
    "deletable": false,
    "editable": false,
    "id": "09c3ac4c"
   },
   "source": [
    "#### 3.5 Приведите возможные причины появления пропусков в исходных данных."
   ]
  },
  {
   "cell_type": "markdown",
   "id": "f6969bdd",
   "metadata": {
    "deletable": false,
    "id": "9da2ceda"
   },
   "source": [
    "*Ответ:* "
   ]
  },
  {
   "cell_type": "markdown",
   "id": "2886586c",
   "metadata": {},
   "source": [
    "Могу предположить, что некоторым клиентам не приятно уточнять о своём образовании или о количестве детей, зарплате, возрасте.\n",
    "Так же могли быть ошибки и потери данных при форматировании файла или его редактирования.\n",
    "                          _       _\n",
    "Возможно хакерская атака   \\(0w0)/"
   ]
  },
  {
   "cell_type": "markdown",
   "id": "33034107",
   "metadata": {
    "deletable": false,
    "editable": false,
    "id": "7b0487d6"
   },
   "source": [
    "#### 3.6 Объясните, почему заполнить пропуски медианным значением — лучшее решение для количественных переменных."
   ]
  },
  {
   "cell_type": "markdown",
   "id": "ce1cea9c",
   "metadata": {
    "deletable": false,
    "id": "7ecf2b8e"
   },
   "source": [
    "*Ответ:* "
   ]
  },
  {
   "cell_type": "markdown",
   "id": "c185c065",
   "metadata": {},
   "source": [
    "Заполнить пропуски медианным значением — лучшее решение для количественных переменных, т.к. в данных могу встречаться аномально большие или маленькие значения относительно всех других +- средних значениях, и если, условно, значения в таблице в диапозоне 45-65, то брать среднее арифметическое значение с аномальными цифрами(9 и 100000000) будет некорректно."
   ]
  },
  {
   "cell_type": "markdown",
   "id": "2dc5abb4",
   "metadata": {
    "deletable": false,
    "editable": false,
    "id": "6db5255a"
   },
   "source": [
    "### Шаг 4: общий вывод."
   ]
  },
  {
   "cell_type": "markdown",
   "id": "9d1233da",
   "metadata": {
    "deletable": false,
    "id": "bad65432"
   },
   "source": [
    "Напишите ваш общий вывод."
   ]
  },
  {
   "cell_type": "markdown",
   "id": "91c59f48",
   "metadata": {},
   "source": [
    "Под итог мы выяснили, что:\n",
    "    1) клиенты относительно колличства детей довольно стабильно выплачивают кредит в срок, в отличии от ~ 8,8% должников;\n",
    "    2) с примерно таким же соотношением клиента и должника процент невыплачиваний в срок гараздо выше чем у людей находящихся в разводе или являющимися вдовами/вдовцами. Как и само количество кредиторов, примерно в 3 раза.  Можем предположить, что люди рание небывшие в браке или находящиеся в нём имеют более нестабильное финансовое положение, в следствии чего, чаще не выплачивают в срок кредит;\n",
    "    3) категории с наименьшей зарплатой (D & E) разнесены по таблице как самые возвращающие в срок кредит клиенты и как больше всех остающиеся должниками."
   ]
  },
  {
   "cell_type": "markdown",
   "id": "6f2780b0",
   "metadata": {},
   "source": [
    "<div class=\"alert alert-info\">\n",
    "    <h2> Общий вывод<a class=\"tocSkip\"></h2>\n",
    "        \n",
    "<b>Из проделанного исследования мы можем подвести итоги:\n",
    "1) В данных достаточное количество аномально низких занчений для того чтобы помешать нормальному анализу\n",
    "2) Для нормального сравнения приходиться отбрасывать мешающий значения \n",
    "3) Под итог вышло:\n",
    "    a) наличие ребёнка в семье и в правду влияет на возврат кредита в срок;\n",
    "    b) клиенты рание бывшие в браке отдают в срок кредит гораздо чаще чем клиенты находящиеся в браке или никогда не были в нём;\n",
    "    c) с классификацией по зарплате самые сознательные клиенты это категория В и самые не отдающие в кредит срок - категория С.\n",
    "4) Для более точных данных нужно в пробленных значениях взять более длительный период, чтобы количество людей примерно совпадало с количеством из других категорий. (Если конечно банк не проводил каких нибудь акций до предоставленных данных, а то, мне кажется, данны будут не сравнимыми т.к. одна категория дюдей попала в акцию, а другая нет)\n",
    "</b> \n",
    "</div>"
   ]
  }
 ],
 "metadata": {
  "ExecuteTimeLog": [
   {
    "duration": 488,
    "start_time": "2022-08-19T19:49:51.262Z"
   },
   {
    "duration": 21,
    "start_time": "2022-08-19T19:49:51.752Z"
   },
   {
    "duration": 14,
    "start_time": "2022-08-19T19:49:51.775Z"
   },
   {
    "duration": 9,
    "start_time": "2022-08-19T19:49:51.791Z"
   },
   {
    "duration": 35,
    "start_time": "2022-08-19T19:49:51.802Z"
   },
   {
    "duration": 21,
    "start_time": "2022-08-19T19:49:51.839Z"
   },
   {
    "duration": 18,
    "start_time": "2022-08-19T19:49:51.861Z"
   },
   {
    "duration": 4,
    "start_time": "2022-08-19T19:49:51.881Z"
   },
   {
    "duration": 16,
    "start_time": "2022-08-19T19:49:51.886Z"
   },
   {
    "duration": 4,
    "start_time": "2022-08-19T19:49:51.905Z"
   },
   {
    "duration": 56,
    "start_time": "2022-08-19T19:49:51.910Z"
   },
   {
    "duration": 9,
    "start_time": "2022-08-19T19:49:51.967Z"
   },
   {
    "duration": 11,
    "start_time": "2022-08-19T19:49:51.978Z"
   },
   {
    "duration": 19,
    "start_time": "2022-08-19T19:49:51.990Z"
   },
   {
    "duration": 31,
    "start_time": "2022-08-19T19:49:52.011Z"
   },
   {
    "duration": 26,
    "start_time": "2022-08-19T19:49:52.044Z"
   },
   {
    "duration": 4,
    "start_time": "2022-08-19T19:49:52.071Z"
   },
   {
    "duration": 18,
    "start_time": "2022-08-19T19:49:52.076Z"
   },
   {
    "duration": 11,
    "start_time": "2022-08-19T19:49:52.096Z"
   },
   {
    "duration": 5,
    "start_time": "2022-08-19T19:49:52.109Z"
   },
   {
    "duration": 15,
    "start_time": "2022-08-19T19:49:52.115Z"
   },
   {
    "duration": 4,
    "start_time": "2022-08-19T19:49:52.132Z"
   },
   {
    "duration": 9,
    "start_time": "2022-08-19T19:49:52.137Z"
   },
   {
    "duration": 5,
    "start_time": "2022-08-19T19:49:52.147Z"
   },
   {
    "duration": 6,
    "start_time": "2022-08-19T19:49:52.153Z"
   },
   {
    "duration": 638,
    "start_time": "2022-08-21T07:45:24.570Z"
   },
   {
    "duration": 21,
    "start_time": "2022-08-21T07:45:25.210Z"
   },
   {
    "duration": 12,
    "start_time": "2022-08-21T07:45:25.233Z"
   },
   {
    "duration": 8,
    "start_time": "2022-08-21T07:45:25.247Z"
   },
   {
    "duration": 29,
    "start_time": "2022-08-21T07:45:25.256Z"
   },
   {
    "duration": 26,
    "start_time": "2022-08-21T07:45:25.286Z"
   },
   {
    "duration": 9,
    "start_time": "2022-08-21T07:45:25.313Z"
   },
   {
    "duration": 3,
    "start_time": "2022-08-21T07:45:25.323Z"
   },
   {
    "duration": 6,
    "start_time": "2022-08-21T07:45:25.328Z"
   },
   {
    "duration": 4,
    "start_time": "2022-08-21T07:45:25.336Z"
   },
   {
    "duration": 31,
    "start_time": "2022-08-21T07:45:25.341Z"
   },
   {
    "duration": 8,
    "start_time": "2022-08-21T07:45:25.373Z"
   },
   {
    "duration": 2,
    "start_time": "2022-08-21T07:45:25.411Z"
   },
   {
    "duration": 12,
    "start_time": "2022-08-21T07:45:25.415Z"
   },
   {
    "duration": 22,
    "start_time": "2022-08-21T07:45:25.428Z"
   },
   {
    "duration": 16,
    "start_time": "2022-08-21T07:45:25.452Z"
   },
   {
    "duration": 2,
    "start_time": "2022-08-21T07:45:25.470Z"
   },
   {
    "duration": 10,
    "start_time": "2022-08-21T07:45:25.474Z"
   },
   {
    "duration": 30,
    "start_time": "2022-08-21T07:45:25.485Z"
   },
   {
    "duration": 4,
    "start_time": "2022-08-21T07:45:25.516Z"
   },
   {
    "duration": 17,
    "start_time": "2022-08-21T07:45:25.521Z"
   },
   {
    "duration": 11,
    "start_time": "2022-08-21T07:45:25.539Z"
   },
   {
    "duration": 4,
    "start_time": "2022-08-21T07:45:25.551Z"
   },
   {
    "duration": 3,
    "start_time": "2022-08-21T07:45:25.556Z"
   },
   {
    "duration": 3,
    "start_time": "2022-08-21T07:45:25.561Z"
   },
   {
    "duration": 424,
    "start_time": "2022-08-21T07:49:29.258Z"
   },
   {
    "duration": 20,
    "start_time": "2022-08-21T07:49:29.683Z"
   },
   {
    "duration": 14,
    "start_time": "2022-08-21T07:49:29.707Z"
   },
   {
    "duration": 8,
    "start_time": "2022-08-21T07:49:29.723Z"
   },
   {
    "duration": 34,
    "start_time": "2022-08-21T07:49:29.732Z"
   },
   {
    "duration": 3,
    "start_time": "2022-08-21T07:49:29.768Z"
   },
   {
    "duration": 16,
    "start_time": "2022-08-21T07:49:29.772Z"
   },
   {
    "duration": 5,
    "start_time": "2022-08-21T07:49:29.789Z"
   },
   {
    "duration": 18,
    "start_time": "2022-08-21T07:49:29.795Z"
   },
   {
    "duration": 4,
    "start_time": "2022-08-21T07:49:29.814Z"
   },
   {
    "duration": 30,
    "start_time": "2022-08-21T07:49:29.819Z"
   },
   {
    "duration": 7,
    "start_time": "2022-08-21T07:49:29.851Z"
   },
   {
    "duration": 4,
    "start_time": "2022-08-21T07:49:29.861Z"
   },
   {
    "duration": 11,
    "start_time": "2022-08-21T07:49:29.866Z"
   },
   {
    "duration": 44,
    "start_time": "2022-08-21T07:49:29.878Z"
   },
   {
    "duration": 15,
    "start_time": "2022-08-21T07:49:29.923Z"
   },
   {
    "duration": 3,
    "start_time": "2022-08-21T07:49:29.940Z"
   },
   {
    "duration": 16,
    "start_time": "2022-08-21T07:49:29.944Z"
   },
   {
    "duration": 12,
    "start_time": "2022-08-21T07:49:29.961Z"
   },
   {
    "duration": 3,
    "start_time": "2022-08-21T07:49:29.974Z"
   },
   {
    "duration": 9,
    "start_time": "2022-08-21T07:49:29.978Z"
   },
   {
    "duration": 5,
    "start_time": "2022-08-21T07:49:29.988Z"
   },
   {
    "duration": 32,
    "start_time": "2022-08-21T07:49:29.994Z"
   },
   {
    "duration": 1,
    "start_time": "2022-08-21T07:49:30.028Z"
   },
   {
    "duration": 18,
    "start_time": "2022-08-21T07:49:30.031Z"
   },
   {
    "duration": 25,
    "start_time": "2022-08-21T07:49:30.050Z"
   },
   {
    "duration": 480,
    "start_time": "2022-08-21T09:37:01.883Z"
   },
   {
    "duration": 20,
    "start_time": "2022-08-21T09:37:02.365Z"
   },
   {
    "duration": 13,
    "start_time": "2022-08-21T09:37:02.386Z"
   },
   {
    "duration": 23,
    "start_time": "2022-08-21T09:37:02.401Z"
   },
   {
    "duration": 34,
    "start_time": "2022-08-21T09:37:02.425Z"
   },
   {
    "duration": 3,
    "start_time": "2022-08-21T09:37:02.461Z"
   },
   {
    "duration": 13,
    "start_time": "2022-08-21T09:37:02.465Z"
   },
   {
    "duration": 10,
    "start_time": "2022-08-21T09:37:02.480Z"
   },
   {
    "duration": 10,
    "start_time": "2022-08-21T09:37:02.492Z"
   },
   {
    "duration": 9,
    "start_time": "2022-08-21T09:37:02.504Z"
   },
   {
    "duration": 38,
    "start_time": "2022-08-21T09:37:02.514Z"
   },
   {
    "duration": 11,
    "start_time": "2022-08-21T09:37:02.554Z"
   },
   {
    "duration": 8,
    "start_time": "2022-08-21T09:37:02.568Z"
   },
   {
    "duration": 14,
    "start_time": "2022-08-21T09:37:02.578Z"
   },
   {
    "duration": 23,
    "start_time": "2022-08-21T09:37:02.612Z"
   },
   {
    "duration": 19,
    "start_time": "2022-08-21T09:37:02.637Z"
   },
   {
    "duration": 5,
    "start_time": "2022-08-21T09:37:02.658Z"
   },
   {
    "duration": 15,
    "start_time": "2022-08-21T09:37:02.664Z"
   },
   {
    "duration": 32,
    "start_time": "2022-08-21T09:37:02.681Z"
   },
   {
    "duration": 3,
    "start_time": "2022-08-21T09:37:02.715Z"
   },
   {
    "duration": 15,
    "start_time": "2022-08-21T09:37:02.720Z"
   },
   {
    "duration": 5,
    "start_time": "2022-08-21T09:37:02.736Z"
   },
   {
    "duration": 106,
    "start_time": "2022-08-21T09:37:02.742Z"
   },
   {
    "duration": 0,
    "start_time": "2022-08-21T09:37:02.850Z"
   },
   {
    "duration": 0,
    "start_time": "2022-08-21T09:37:02.851Z"
   },
   {
    "duration": 0,
    "start_time": "2022-08-21T09:37:02.852Z"
   },
   {
    "duration": 433,
    "start_time": "2022-08-21T09:37:24.975Z"
   },
   {
    "duration": 22,
    "start_time": "2022-08-21T09:37:25.410Z"
   },
   {
    "duration": 15,
    "start_time": "2022-08-21T09:37:25.437Z"
   },
   {
    "duration": 9,
    "start_time": "2022-08-21T09:37:25.454Z"
   },
   {
    "duration": 57,
    "start_time": "2022-08-21T09:37:25.464Z"
   },
   {
    "duration": 2,
    "start_time": "2022-08-21T09:37:25.523Z"
   },
   {
    "duration": 12,
    "start_time": "2022-08-21T09:37:25.526Z"
   },
   {
    "duration": 3,
    "start_time": "2022-08-21T09:37:25.540Z"
   },
   {
    "duration": 8,
    "start_time": "2022-08-21T09:37:25.545Z"
   },
   {
    "duration": 6,
    "start_time": "2022-08-21T09:37:25.554Z"
   },
   {
    "duration": 30,
    "start_time": "2022-08-21T09:37:25.561Z"
   },
   {
    "duration": 10,
    "start_time": "2022-08-21T09:37:25.610Z"
   },
   {
    "duration": 5,
    "start_time": "2022-08-21T09:37:25.621Z"
   },
   {
    "duration": 28,
    "start_time": "2022-08-21T09:37:25.627Z"
   },
   {
    "duration": 18,
    "start_time": "2022-08-21T09:37:25.656Z"
   },
   {
    "duration": 14,
    "start_time": "2022-08-21T09:37:25.676Z"
   },
   {
    "duration": 3,
    "start_time": "2022-08-21T09:37:25.692Z"
   },
   {
    "duration": 24,
    "start_time": "2022-08-21T09:37:25.696Z"
   },
   {
    "duration": 6,
    "start_time": "2022-08-21T09:37:25.721Z"
   },
   {
    "duration": 3,
    "start_time": "2022-08-21T09:37:25.728Z"
   },
   {
    "duration": 15,
    "start_time": "2022-08-21T09:37:25.732Z"
   },
   {
    "duration": 2,
    "start_time": "2022-08-21T09:37:25.749Z"
   },
   {
    "duration": 49,
    "start_time": "2022-08-21T09:37:25.752Z"
   },
   {
    "duration": 0,
    "start_time": "2022-08-21T09:37:25.803Z"
   },
   {
    "duration": 0,
    "start_time": "2022-08-21T09:37:25.804Z"
   },
   {
    "duration": 1,
    "start_time": "2022-08-21T09:37:25.804Z"
   },
   {
    "duration": 446,
    "start_time": "2022-08-21T09:38:05.231Z"
   },
   {
    "duration": 23,
    "start_time": "2022-08-21T09:38:05.679Z"
   },
   {
    "duration": 19,
    "start_time": "2022-08-21T09:38:05.703Z"
   },
   {
    "duration": 8,
    "start_time": "2022-08-21T09:38:05.724Z"
   },
   {
    "duration": 33,
    "start_time": "2022-08-21T09:38:05.733Z"
   },
   {
    "duration": 3,
    "start_time": "2022-08-21T09:38:05.767Z"
   },
   {
    "duration": 8,
    "start_time": "2022-08-21T09:38:05.772Z"
   },
   {
    "duration": 3,
    "start_time": "2022-08-21T09:38:05.782Z"
   },
   {
    "duration": 26,
    "start_time": "2022-08-21T09:38:05.786Z"
   },
   {
    "duration": 3,
    "start_time": "2022-08-21T09:38:05.815Z"
   },
   {
    "duration": 31,
    "start_time": "2022-08-21T09:38:05.819Z"
   },
   {
    "duration": 8,
    "start_time": "2022-08-21T09:38:05.851Z"
   },
   {
    "duration": 3,
    "start_time": "2022-08-21T09:38:05.860Z"
   },
   {
    "duration": 11,
    "start_time": "2022-08-21T09:38:05.864Z"
   },
   {
    "duration": 39,
    "start_time": "2022-08-21T09:38:05.876Z"
   },
   {
    "duration": 16,
    "start_time": "2022-08-21T09:38:05.917Z"
   },
   {
    "duration": 3,
    "start_time": "2022-08-21T09:38:05.935Z"
   },
   {
    "duration": 11,
    "start_time": "2022-08-21T09:38:05.939Z"
   },
   {
    "duration": 5,
    "start_time": "2022-08-21T09:38:05.951Z"
   },
   {
    "duration": 3,
    "start_time": "2022-08-21T09:38:05.958Z"
   },
   {
    "duration": 11,
    "start_time": "2022-08-21T09:38:05.963Z"
   },
   {
    "duration": 2,
    "start_time": "2022-08-21T09:38:05.975Z"
   },
   {
    "duration": 48,
    "start_time": "2022-08-21T09:38:05.978Z"
   },
   {
    "duration": 0,
    "start_time": "2022-08-21T09:38:06.028Z"
   },
   {
    "duration": 0,
    "start_time": "2022-08-21T09:38:06.029Z"
   },
   {
    "duration": 0,
    "start_time": "2022-08-21T09:38:06.030Z"
   },
   {
    "duration": 439,
    "start_time": "2022-08-21T09:38:40.435Z"
   },
   {
    "duration": 20,
    "start_time": "2022-08-21T09:38:40.876Z"
   },
   {
    "duration": 12,
    "start_time": "2022-08-21T09:38:40.898Z"
   },
   {
    "duration": 7,
    "start_time": "2022-08-21T09:38:40.912Z"
   },
   {
    "duration": 30,
    "start_time": "2022-08-21T09:38:40.921Z"
   },
   {
    "duration": 3,
    "start_time": "2022-08-21T09:38:40.952Z"
   },
   {
    "duration": 10,
    "start_time": "2022-08-21T09:38:40.956Z"
   },
   {
    "duration": 3,
    "start_time": "2022-08-21T09:38:40.967Z"
   },
   {
    "duration": 8,
    "start_time": "2022-08-21T09:38:40.971Z"
   },
   {
    "duration": 30,
    "start_time": "2022-08-21T09:38:40.980Z"
   },
   {
    "duration": 31,
    "start_time": "2022-08-21T09:38:41.012Z"
   },
   {
    "duration": 9,
    "start_time": "2022-08-21T09:38:41.045Z"
   },
   {
    "duration": 4,
    "start_time": "2022-08-21T09:38:41.056Z"
   },
   {
    "duration": 10,
    "start_time": "2022-08-21T09:38:41.063Z"
   },
   {
    "duration": 42,
    "start_time": "2022-08-21T09:38:41.075Z"
   },
   {
    "duration": 16,
    "start_time": "2022-08-21T09:38:41.118Z"
   },
   {
    "duration": 4,
    "start_time": "2022-08-21T09:38:41.135Z"
   },
   {
    "duration": 12,
    "start_time": "2022-08-21T09:38:41.140Z"
   },
   {
    "duration": 8,
    "start_time": "2022-08-21T09:38:41.153Z"
   },
   {
    "duration": 6,
    "start_time": "2022-08-21T09:38:41.162Z"
   },
   {
    "duration": 16,
    "start_time": "2022-08-21T09:38:41.169Z"
   },
   {
    "duration": 30,
    "start_time": "2022-08-21T09:38:41.187Z"
   },
   {
    "duration": 60,
    "start_time": "2022-08-21T09:38:41.218Z"
   },
   {
    "duration": 0,
    "start_time": "2022-08-21T09:38:41.279Z"
   },
   {
    "duration": 0,
    "start_time": "2022-08-21T09:38:41.280Z"
   },
   {
    "duration": 1,
    "start_time": "2022-08-21T09:38:41.280Z"
   },
   {
    "duration": 437,
    "start_time": "2022-08-21T09:50:37.732Z"
   },
   {
    "duration": 20,
    "start_time": "2022-08-21T09:50:38.170Z"
   },
   {
    "duration": 13,
    "start_time": "2022-08-21T09:50:38.193Z"
   },
   {
    "duration": 9,
    "start_time": "2022-08-21T09:50:38.207Z"
   },
   {
    "duration": 30,
    "start_time": "2022-08-21T09:50:38.218Z"
   },
   {
    "duration": 3,
    "start_time": "2022-08-21T09:50:38.250Z"
   },
   {
    "duration": 11,
    "start_time": "2022-08-21T09:50:38.254Z"
   },
   {
    "duration": 7,
    "start_time": "2022-08-21T09:50:38.266Z"
   },
   {
    "duration": 7,
    "start_time": "2022-08-21T09:50:38.274Z"
   },
   {
    "duration": 4,
    "start_time": "2022-08-21T09:50:38.285Z"
   },
   {
    "duration": 30,
    "start_time": "2022-08-21T09:50:38.311Z"
   },
   {
    "duration": 8,
    "start_time": "2022-08-21T09:50:38.342Z"
   },
   {
    "duration": 5,
    "start_time": "2022-08-21T09:50:38.351Z"
   },
   {
    "duration": 12,
    "start_time": "2022-08-21T09:50:38.357Z"
   },
   {
    "duration": 19,
    "start_time": "2022-08-21T09:50:38.371Z"
   },
   {
    "duration": 16,
    "start_time": "2022-08-21T09:50:38.411Z"
   },
   {
    "duration": 3,
    "start_time": "2022-08-21T09:50:38.429Z"
   },
   {
    "duration": 11,
    "start_time": "2022-08-21T09:50:38.434Z"
   },
   {
    "duration": 7,
    "start_time": "2022-08-21T09:50:38.447Z"
   },
   {
    "duration": 4,
    "start_time": "2022-08-21T09:50:38.456Z"
   },
   {
    "duration": 10,
    "start_time": "2022-08-21T09:50:38.462Z"
   },
   {
    "duration": 40,
    "start_time": "2022-08-21T09:50:38.473Z"
   },
   {
    "duration": 70,
    "start_time": "2022-08-21T09:50:38.515Z"
   },
   {
    "duration": 0,
    "start_time": "2022-08-21T09:50:38.586Z"
   },
   {
    "duration": 0,
    "start_time": "2022-08-21T09:50:38.587Z"
   },
   {
    "duration": 0,
    "start_time": "2022-08-21T09:50:38.588Z"
   },
   {
    "duration": 422,
    "start_time": "2022-08-21T09:51:13.857Z"
   },
   {
    "duration": 21,
    "start_time": "2022-08-21T09:51:14.282Z"
   },
   {
    "duration": 12,
    "start_time": "2022-08-21T09:51:14.305Z"
   },
   {
    "duration": 9,
    "start_time": "2022-08-21T09:51:14.319Z"
   },
   {
    "duration": 30,
    "start_time": "2022-08-21T09:51:14.329Z"
   },
   {
    "duration": 2,
    "start_time": "2022-08-21T09:51:14.361Z"
   },
   {
    "duration": 9,
    "start_time": "2022-08-21T09:51:14.365Z"
   },
   {
    "duration": 4,
    "start_time": "2022-08-21T09:51:14.375Z"
   },
   {
    "duration": 32,
    "start_time": "2022-08-21T09:51:14.380Z"
   },
   {
    "duration": 3,
    "start_time": "2022-08-21T09:51:14.415Z"
   },
   {
    "duration": 31,
    "start_time": "2022-08-21T09:51:14.420Z"
   },
   {
    "duration": 9,
    "start_time": "2022-08-21T09:51:14.452Z"
   },
   {
    "duration": 7,
    "start_time": "2022-08-21T09:51:14.462Z"
   },
   {
    "duration": 13,
    "start_time": "2022-08-21T09:51:14.470Z"
   },
   {
    "duration": 40,
    "start_time": "2022-08-21T09:51:14.484Z"
   },
   {
    "duration": 16,
    "start_time": "2022-08-21T09:51:14.526Z"
   },
   {
    "duration": 3,
    "start_time": "2022-08-21T09:51:14.544Z"
   },
   {
    "duration": 11,
    "start_time": "2022-08-21T09:51:14.548Z"
   },
   {
    "duration": 7,
    "start_time": "2022-08-21T09:51:14.561Z"
   },
   {
    "duration": 4,
    "start_time": "2022-08-21T09:51:14.569Z"
   },
   {
    "duration": 37,
    "start_time": "2022-08-21T09:51:14.574Z"
   },
   {
    "duration": 19,
    "start_time": "2022-08-21T09:51:14.614Z"
   },
   {
    "duration": 86,
    "start_time": "2022-08-21T09:51:14.635Z"
   },
   {
    "duration": 0,
    "start_time": "2022-08-21T09:51:14.722Z"
   },
   {
    "duration": 0,
    "start_time": "2022-08-21T09:51:14.723Z"
   },
   {
    "duration": 0,
    "start_time": "2022-08-21T09:51:14.725Z"
   },
   {
    "duration": 430,
    "start_time": "2022-08-21T09:51:33.649Z"
   },
   {
    "duration": 21,
    "start_time": "2022-08-21T09:51:34.080Z"
   },
   {
    "duration": 16,
    "start_time": "2022-08-21T09:51:34.102Z"
   },
   {
    "duration": 9,
    "start_time": "2022-08-21T09:51:34.119Z"
   },
   {
    "duration": 29,
    "start_time": "2022-08-21T09:51:34.129Z"
   },
   {
    "duration": 3,
    "start_time": "2022-08-21T09:51:34.160Z"
   },
   {
    "duration": 11,
    "start_time": "2022-08-21T09:51:34.164Z"
   },
   {
    "duration": 4,
    "start_time": "2022-08-21T09:51:34.177Z"
   },
   {
    "duration": 29,
    "start_time": "2022-08-21T09:51:34.182Z"
   },
   {
    "duration": 4,
    "start_time": "2022-08-21T09:51:34.213Z"
   },
   {
    "duration": 42,
    "start_time": "2022-08-21T09:51:34.218Z"
   },
   {
    "duration": 8,
    "start_time": "2022-08-21T09:51:34.262Z"
   },
   {
    "duration": 9,
    "start_time": "2022-08-21T09:51:34.272Z"
   },
   {
    "duration": 13,
    "start_time": "2022-08-21T09:51:34.282Z"
   },
   {
    "duration": 26,
    "start_time": "2022-08-21T09:51:34.297Z"
   },
   {
    "duration": 16,
    "start_time": "2022-08-21T09:51:34.325Z"
   },
   {
    "duration": 3,
    "start_time": "2022-08-21T09:51:34.343Z"
   },
   {
    "duration": 15,
    "start_time": "2022-08-21T09:51:34.347Z"
   },
   {
    "duration": 9,
    "start_time": "2022-08-21T09:51:34.364Z"
   },
   {
    "duration": 3,
    "start_time": "2022-08-21T09:51:34.375Z"
   },
   {
    "duration": 11,
    "start_time": "2022-08-21T09:51:34.380Z"
   },
   {
    "duration": 19,
    "start_time": "2022-08-21T09:51:34.411Z"
   },
   {
    "duration": 80,
    "start_time": "2022-08-21T09:51:34.432Z"
   },
   {
    "duration": 0,
    "start_time": "2022-08-21T09:51:34.513Z"
   },
   {
    "duration": 0,
    "start_time": "2022-08-21T09:51:34.514Z"
   },
   {
    "duration": 0,
    "start_time": "2022-08-21T09:51:34.515Z"
   },
   {
    "duration": 420,
    "start_time": "2022-08-21T09:52:33.468Z"
   },
   {
    "duration": 20,
    "start_time": "2022-08-21T09:52:33.890Z"
   },
   {
    "duration": 14,
    "start_time": "2022-08-21T09:52:33.911Z"
   },
   {
    "duration": 8,
    "start_time": "2022-08-21T09:52:33.927Z"
   },
   {
    "duration": 30,
    "start_time": "2022-08-21T09:52:33.937Z"
   },
   {
    "duration": 3,
    "start_time": "2022-08-21T09:52:33.969Z"
   },
   {
    "duration": 38,
    "start_time": "2022-08-21T09:52:33.973Z"
   },
   {
    "duration": 4,
    "start_time": "2022-08-21T09:52:34.013Z"
   },
   {
    "duration": 11,
    "start_time": "2022-08-21T09:52:34.018Z"
   },
   {
    "duration": 3,
    "start_time": "2022-08-21T09:52:34.031Z"
   },
   {
    "duration": 33,
    "start_time": "2022-08-21T09:52:34.036Z"
   },
   {
    "duration": 8,
    "start_time": "2022-08-21T09:52:34.070Z"
   },
   {
    "duration": 4,
    "start_time": "2022-08-21T09:52:34.079Z"
   },
   {
    "duration": 33,
    "start_time": "2022-08-21T09:52:34.085Z"
   },
   {
    "duration": 18,
    "start_time": "2022-08-21T09:52:34.120Z"
   },
   {
    "duration": 16,
    "start_time": "2022-08-21T09:52:34.140Z"
   },
   {
    "duration": 3,
    "start_time": "2022-08-21T09:52:34.158Z"
   },
   {
    "duration": 14,
    "start_time": "2022-08-21T09:52:34.163Z"
   },
   {
    "duration": 13,
    "start_time": "2022-08-21T09:52:34.178Z"
   },
   {
    "duration": 19,
    "start_time": "2022-08-21T09:52:34.192Z"
   },
   {
    "duration": 11,
    "start_time": "2022-08-21T09:52:34.212Z"
   },
   {
    "duration": 19,
    "start_time": "2022-08-21T09:52:34.224Z"
   },
   {
    "duration": 34,
    "start_time": "2022-08-21T09:52:34.244Z"
   },
   {
    "duration": 2,
    "start_time": "2022-08-21T09:52:34.280Z"
   },
   {
    "duration": 7,
    "start_time": "2022-08-21T09:52:34.284Z"
   },
   {
    "duration": 25,
    "start_time": "2022-08-21T09:52:34.292Z"
   },
   {
    "duration": 436,
    "start_time": "2022-08-21T09:52:53.336Z"
   },
   {
    "duration": 19,
    "start_time": "2022-08-21T09:52:53.774Z"
   },
   {
    "duration": 14,
    "start_time": "2022-08-21T09:52:53.795Z"
   },
   {
    "duration": 7,
    "start_time": "2022-08-21T09:52:53.811Z"
   },
   {
    "duration": 39,
    "start_time": "2022-08-21T09:52:53.820Z"
   },
   {
    "duration": 3,
    "start_time": "2022-08-21T09:52:53.860Z"
   },
   {
    "duration": 9,
    "start_time": "2022-08-21T09:52:53.865Z"
   },
   {
    "duration": 5,
    "start_time": "2022-08-21T09:52:53.876Z"
   },
   {
    "duration": 13,
    "start_time": "2022-08-21T09:52:53.882Z"
   },
   {
    "duration": 4,
    "start_time": "2022-08-21T09:52:53.910Z"
   },
   {
    "duration": 31,
    "start_time": "2022-08-21T09:52:53.915Z"
   },
   {
    "duration": 9,
    "start_time": "2022-08-21T09:52:53.947Z"
   },
   {
    "duration": 7,
    "start_time": "2022-08-21T09:52:53.957Z"
   },
   {
    "duration": 14,
    "start_time": "2022-08-21T09:52:53.966Z"
   },
   {
    "duration": 36,
    "start_time": "2022-08-21T09:52:53.981Z"
   },
   {
    "duration": 16,
    "start_time": "2022-08-21T09:52:54.018Z"
   },
   {
    "duration": 3,
    "start_time": "2022-08-21T09:52:54.036Z"
   },
   {
    "duration": 11,
    "start_time": "2022-08-21T09:52:54.040Z"
   },
   {
    "duration": 6,
    "start_time": "2022-08-21T09:52:54.053Z"
   },
   {
    "duration": 4,
    "start_time": "2022-08-21T09:52:54.061Z"
   },
   {
    "duration": 12,
    "start_time": "2022-08-21T09:52:54.066Z"
   },
   {
    "duration": 45,
    "start_time": "2022-08-21T09:52:54.080Z"
   },
   {
    "duration": 38,
    "start_time": "2022-08-21T09:52:54.127Z"
   },
   {
    "duration": 2,
    "start_time": "2022-08-21T09:52:54.167Z"
   },
   {
    "duration": 4,
    "start_time": "2022-08-21T09:52:54.171Z"
   },
   {
    "duration": 6,
    "start_time": "2022-08-21T09:52:54.176Z"
   },
   {
    "duration": 448,
    "start_time": "2022-08-21T09:56:17.134Z"
   },
   {
    "duration": 20,
    "start_time": "2022-08-21T09:56:17.583Z"
   },
   {
    "duration": 14,
    "start_time": "2022-08-21T09:56:17.607Z"
   },
   {
    "duration": 8,
    "start_time": "2022-08-21T09:56:17.623Z"
   },
   {
    "duration": 37,
    "start_time": "2022-08-21T09:56:17.633Z"
   },
   {
    "duration": 3,
    "start_time": "2022-08-21T09:56:17.672Z"
   },
   {
    "duration": 33,
    "start_time": "2022-08-21T09:56:17.676Z"
   },
   {
    "duration": 18,
    "start_time": "2022-08-21T09:56:17.710Z"
   },
   {
    "duration": 16,
    "start_time": "2022-08-21T09:56:17.730Z"
   },
   {
    "duration": 18,
    "start_time": "2022-08-21T09:56:17.747Z"
   },
   {
    "duration": 29,
    "start_time": "2022-08-21T09:56:17.767Z"
   },
   {
    "duration": 8,
    "start_time": "2022-08-21T09:56:17.798Z"
   },
   {
    "duration": 15,
    "start_time": "2022-08-21T09:56:17.808Z"
   },
   {
    "duration": 17,
    "start_time": "2022-08-21T09:56:17.824Z"
   },
   {
    "duration": 23,
    "start_time": "2022-08-21T09:56:17.843Z"
   },
   {
    "duration": 17,
    "start_time": "2022-08-21T09:56:17.868Z"
   },
   {
    "duration": 16,
    "start_time": "2022-08-21T09:56:17.887Z"
   },
   {
    "duration": 21,
    "start_time": "2022-08-21T09:56:17.905Z"
   },
   {
    "duration": 14,
    "start_time": "2022-08-21T09:56:17.927Z"
   },
   {
    "duration": 7,
    "start_time": "2022-08-21T09:56:17.943Z"
   },
   {
    "duration": 26,
    "start_time": "2022-08-21T09:56:17.951Z"
   },
   {
    "duration": 25,
    "start_time": "2022-08-21T09:56:17.978Z"
   },
   {
    "duration": 73,
    "start_time": "2022-08-21T09:56:18.005Z"
   },
   {
    "duration": 2,
    "start_time": "2022-08-21T09:56:18.080Z"
   },
   {
    "duration": 26,
    "start_time": "2022-08-21T09:56:18.084Z"
   },
   {
    "duration": 14,
    "start_time": "2022-08-21T09:56:18.111Z"
   },
   {
    "duration": 441,
    "start_time": "2022-08-21T10:02:17.243Z"
   },
   {
    "duration": 23,
    "start_time": "2022-08-21T10:02:17.686Z"
   },
   {
    "duration": 15,
    "start_time": "2022-08-21T10:02:17.710Z"
   },
   {
    "duration": 10,
    "start_time": "2022-08-21T10:02:17.727Z"
   },
   {
    "duration": 28,
    "start_time": "2022-08-21T10:02:17.739Z"
   },
   {
    "duration": 3,
    "start_time": "2022-08-21T10:02:17.768Z"
   },
   {
    "duration": 9,
    "start_time": "2022-08-21T10:02:17.773Z"
   },
   {
    "duration": 3,
    "start_time": "2022-08-21T10:02:17.783Z"
   },
   {
    "duration": 29,
    "start_time": "2022-08-21T10:02:17.787Z"
   },
   {
    "duration": 15,
    "start_time": "2022-08-21T10:02:17.817Z"
   },
   {
    "duration": 30,
    "start_time": "2022-08-21T10:02:17.833Z"
   },
   {
    "duration": 9,
    "start_time": "2022-08-21T10:02:17.864Z"
   },
   {
    "duration": 5,
    "start_time": "2022-08-21T10:02:17.874Z"
   },
   {
    "duration": 30,
    "start_time": "2022-08-21T10:02:17.881Z"
   },
   {
    "duration": 19,
    "start_time": "2022-08-21T10:02:17.912Z"
   },
   {
    "duration": 15,
    "start_time": "2022-08-21T10:02:17.932Z"
   },
   {
    "duration": 4,
    "start_time": "2022-08-21T10:02:17.948Z"
   },
   {
    "duration": 10,
    "start_time": "2022-08-21T10:02:17.953Z"
   },
   {
    "duration": 5,
    "start_time": "2022-08-21T10:02:17.965Z"
   },
   {
    "duration": 3,
    "start_time": "2022-08-21T10:02:17.971Z"
   },
   {
    "duration": 36,
    "start_time": "2022-08-21T10:02:17.975Z"
   },
   {
    "duration": 21,
    "start_time": "2022-08-21T10:02:18.012Z"
   },
   {
    "duration": 25,
    "start_time": "2022-08-21T10:02:18.034Z"
   },
   {
    "duration": 2,
    "start_time": "2022-08-21T10:02:18.060Z"
   },
   {
    "duration": 5,
    "start_time": "2022-08-21T10:02:18.063Z"
   },
   {
    "duration": 4,
    "start_time": "2022-08-21T10:02:18.069Z"
   },
   {
    "duration": 25,
    "start_time": "2022-08-21T10:05:10.942Z"
   },
   {
    "duration": 39,
    "start_time": "2022-08-21T10:05:35.814Z"
   },
   {
    "duration": 19,
    "start_time": "2022-08-21T10:05:53.274Z"
   },
   {
    "duration": 19,
    "start_time": "2022-08-21T10:06:14.399Z"
   },
   {
    "duration": 4,
    "start_time": "2022-08-21T10:07:11.424Z"
   },
   {
    "duration": 6,
    "start_time": "2022-08-21T10:07:40.888Z"
   },
   {
    "duration": 11,
    "start_time": "2022-08-21T10:07:46.505Z"
   },
   {
    "duration": 8,
    "start_time": "2022-08-21T10:07:52.064Z"
   },
   {
    "duration": 14,
    "start_time": "2022-08-21T10:08:04.857Z"
   },
   {
    "duration": 22,
    "start_time": "2022-08-21T10:09:45.368Z"
   },
   {
    "duration": 87,
    "start_time": "2022-08-21T10:16:30.855Z"
   },
   {
    "duration": 60,
    "start_time": "2022-08-21T10:17:10.849Z"
   },
   {
    "duration": 104,
    "start_time": "2022-08-21T10:17:26.058Z"
   },
   {
    "duration": 23,
    "start_time": "2022-08-21T10:17:36.889Z"
   },
   {
    "duration": 2,
    "start_time": "2022-08-21T10:20:07.881Z"
   },
   {
    "duration": 459,
    "start_time": "2022-08-21T10:20:12.638Z"
   },
   {
    "duration": 22,
    "start_time": "2022-08-21T10:20:13.099Z"
   },
   {
    "duration": 14,
    "start_time": "2022-08-21T10:20:13.123Z"
   },
   {
    "duration": 10,
    "start_time": "2022-08-21T10:20:13.138Z"
   },
   {
    "duration": 30,
    "start_time": "2022-08-21T10:20:13.151Z"
   },
   {
    "duration": 4,
    "start_time": "2022-08-21T10:20:13.183Z"
   },
   {
    "duration": 30,
    "start_time": "2022-08-21T10:20:13.188Z"
   },
   {
    "duration": 4,
    "start_time": "2022-08-21T10:20:13.220Z"
   },
   {
    "duration": 9,
    "start_time": "2022-08-21T10:20:13.225Z"
   },
   {
    "duration": 4,
    "start_time": "2022-08-21T10:20:13.235Z"
   },
   {
    "duration": 30,
    "start_time": "2022-08-21T10:20:13.241Z"
   },
   {
    "duration": 41,
    "start_time": "2022-08-21T10:20:13.273Z"
   },
   {
    "duration": 4,
    "start_time": "2022-08-21T10:20:13.315Z"
   },
   {
    "duration": 12,
    "start_time": "2022-08-21T10:20:13.321Z"
   },
   {
    "duration": 19,
    "start_time": "2022-08-21T10:20:13.334Z"
   },
   {
    "duration": 16,
    "start_time": "2022-08-21T10:20:13.354Z"
   },
   {
    "duration": 3,
    "start_time": "2022-08-21T10:20:13.372Z"
   },
   {
    "duration": 11,
    "start_time": "2022-08-21T10:20:13.376Z"
   },
   {
    "duration": 9,
    "start_time": "2022-08-21T10:20:13.410Z"
   },
   {
    "duration": 4,
    "start_time": "2022-08-21T10:20:13.420Z"
   },
   {
    "duration": 17,
    "start_time": "2022-08-21T10:20:13.425Z"
   },
   {
    "duration": 2,
    "start_time": "2022-08-21T10:20:13.443Z"
   },
   {
    "duration": 34,
    "start_time": "2022-08-21T10:20:13.447Z"
   },
   {
    "duration": 2,
    "start_time": "2022-08-21T10:20:13.482Z"
   },
   {
    "duration": 6,
    "start_time": "2022-08-21T10:20:13.486Z"
   },
   {
    "duration": 5,
    "start_time": "2022-08-21T10:20:13.510Z"
   },
   {
    "duration": 440,
    "start_time": "2022-08-21T10:20:31.739Z"
   },
   {
    "duration": 21,
    "start_time": "2022-08-21T10:20:32.181Z"
   },
   {
    "duration": 20,
    "start_time": "2022-08-21T10:20:32.204Z"
   },
   {
    "duration": 8,
    "start_time": "2022-08-21T10:20:32.226Z"
   },
   {
    "duration": 29,
    "start_time": "2022-08-21T10:20:32.236Z"
   },
   {
    "duration": 3,
    "start_time": "2022-08-21T10:20:32.267Z"
   },
   {
    "duration": 9,
    "start_time": "2022-08-21T10:20:32.271Z"
   },
   {
    "duration": 3,
    "start_time": "2022-08-21T10:20:32.282Z"
   },
   {
    "duration": 28,
    "start_time": "2022-08-21T10:20:32.286Z"
   },
   {
    "duration": 4,
    "start_time": "2022-08-21T10:20:32.315Z"
   },
   {
    "duration": 32,
    "start_time": "2022-08-21T10:20:32.320Z"
   },
   {
    "duration": 9,
    "start_time": "2022-08-21T10:20:32.353Z"
   },
   {
    "duration": 4,
    "start_time": "2022-08-21T10:20:32.363Z"
   },
   {
    "duration": 9,
    "start_time": "2022-08-21T10:20:32.369Z"
   },
   {
    "duration": 49,
    "start_time": "2022-08-21T10:20:32.380Z"
   },
   {
    "duration": 21,
    "start_time": "2022-08-21T10:20:32.431Z"
   },
   {
    "duration": 16,
    "start_time": "2022-08-21T10:20:32.454Z"
   },
   {
    "duration": 18,
    "start_time": "2022-08-21T10:20:32.472Z"
   },
   {
    "duration": 7,
    "start_time": "2022-08-21T10:20:32.491Z"
   },
   {
    "duration": 20,
    "start_time": "2022-08-21T10:20:32.500Z"
   },
   {
    "duration": 20,
    "start_time": "2022-08-21T10:20:32.521Z"
   },
   {
    "duration": 8,
    "start_time": "2022-08-21T10:20:32.544Z"
   },
   {
    "duration": 35,
    "start_time": "2022-08-21T10:20:32.554Z"
   },
   {
    "duration": 2,
    "start_time": "2022-08-21T10:20:32.592Z"
   },
   {
    "duration": 15,
    "start_time": "2022-08-21T10:20:32.596Z"
   },
   {
    "duration": 6,
    "start_time": "2022-08-21T10:20:32.612Z"
   },
   {
    "duration": 482,
    "start_time": "2022-08-21T10:22:13.008Z"
   },
   {
    "duration": 20,
    "start_time": "2022-08-21T10:22:13.492Z"
   },
   {
    "duration": 13,
    "start_time": "2022-08-21T10:22:13.514Z"
   },
   {
    "duration": 8,
    "start_time": "2022-08-21T10:22:13.528Z"
   },
   {
    "duration": 30,
    "start_time": "2022-08-21T10:22:13.537Z"
   },
   {
    "duration": 4,
    "start_time": "2022-08-21T10:22:13.568Z"
   },
   {
    "duration": 12,
    "start_time": "2022-08-21T10:22:13.573Z"
   },
   {
    "duration": 28,
    "start_time": "2022-08-21T10:22:13.586Z"
   },
   {
    "duration": 12,
    "start_time": "2022-08-21T10:22:13.615Z"
   },
   {
    "duration": 5,
    "start_time": "2022-08-21T10:22:13.630Z"
   },
   {
    "duration": 30,
    "start_time": "2022-08-21T10:22:13.636Z"
   },
   {
    "duration": 8,
    "start_time": "2022-08-21T10:22:13.668Z"
   },
   {
    "duration": 33,
    "start_time": "2022-08-21T10:22:13.678Z"
   },
   {
    "duration": 10,
    "start_time": "2022-08-21T10:22:13.712Z"
   },
   {
    "duration": 24,
    "start_time": "2022-08-21T10:22:13.724Z"
   },
   {
    "duration": 16,
    "start_time": "2022-08-21T10:22:13.749Z"
   },
   {
    "duration": 4,
    "start_time": "2022-08-21T10:22:13.767Z"
   },
   {
    "duration": 17,
    "start_time": "2022-08-21T10:22:13.772Z"
   },
   {
    "duration": 22,
    "start_time": "2022-08-21T10:22:13.791Z"
   },
   {
    "duration": 3,
    "start_time": "2022-08-21T10:22:13.814Z"
   },
   {
    "duration": 9,
    "start_time": "2022-08-21T10:22:13.819Z"
   },
   {
    "duration": 2,
    "start_time": "2022-08-21T10:22:13.829Z"
   },
   {
    "duration": 32,
    "start_time": "2022-08-21T10:22:13.832Z"
   },
   {
    "duration": 2,
    "start_time": "2022-08-21T10:22:13.865Z"
   },
   {
    "duration": 5,
    "start_time": "2022-08-21T10:22:13.868Z"
   },
   {
    "duration": 5,
    "start_time": "2022-08-21T10:22:13.874Z"
   },
   {
    "duration": 514,
    "start_time": "2022-08-21T10:32:23.321Z"
   },
   {
    "duration": 439,
    "start_time": "2022-08-21T10:32:33.945Z"
   },
   {
    "duration": 22,
    "start_time": "2022-08-21T10:32:34.385Z"
   },
   {
    "duration": 13,
    "start_time": "2022-08-21T10:32:34.408Z"
   },
   {
    "duration": 8,
    "start_time": "2022-08-21T10:32:34.422Z"
   },
   {
    "duration": 31,
    "start_time": "2022-08-21T10:32:34.431Z"
   },
   {
    "duration": 3,
    "start_time": "2022-08-21T10:32:34.464Z"
   },
   {
    "duration": 9,
    "start_time": "2022-08-21T10:32:34.468Z"
   },
   {
    "duration": 5,
    "start_time": "2022-08-21T10:32:34.478Z"
   },
   {
    "duration": 29,
    "start_time": "2022-08-21T10:32:34.484Z"
   },
   {
    "duration": 5,
    "start_time": "2022-08-21T10:32:34.515Z"
   },
   {
    "duration": 32,
    "start_time": "2022-08-21T10:32:34.521Z"
   },
   {
    "duration": 8,
    "start_time": "2022-08-21T10:32:34.554Z"
   },
   {
    "duration": 4,
    "start_time": "2022-08-21T10:32:34.563Z"
   },
   {
    "duration": 11,
    "start_time": "2022-08-21T10:32:34.569Z"
   },
   {
    "duration": 43,
    "start_time": "2022-08-21T10:32:34.582Z"
   },
   {
    "duration": 16,
    "start_time": "2022-08-21T10:32:34.627Z"
   },
   {
    "duration": 3,
    "start_time": "2022-08-21T10:32:34.645Z"
   },
   {
    "duration": 12,
    "start_time": "2022-08-21T10:32:34.650Z"
   },
   {
    "duration": 9,
    "start_time": "2022-08-21T10:32:34.664Z"
   },
   {
    "duration": 3,
    "start_time": "2022-08-21T10:32:34.675Z"
   },
   {
    "duration": 31,
    "start_time": "2022-08-21T10:32:34.680Z"
   },
   {
    "duration": 2,
    "start_time": "2022-08-21T10:32:34.712Z"
   },
   {
    "duration": 515,
    "start_time": "2022-08-21T10:32:34.716Z"
   },
   {
    "duration": 0,
    "start_time": "2022-08-21T10:32:35.233Z"
   },
   {
    "duration": 0,
    "start_time": "2022-08-21T10:32:35.234Z"
   },
   {
    "duration": 0,
    "start_time": "2022-08-21T10:32:35.236Z"
   },
   {
    "duration": 141,
    "start_time": "2022-08-21T10:37:54.651Z"
   },
   {
    "duration": 23,
    "start_time": "2022-08-21T10:38:25.144Z"
   },
   {
    "duration": 90,
    "start_time": "2022-08-21T10:49:23.016Z"
   },
   {
    "duration": 43,
    "start_time": "2022-08-21T10:50:16.379Z"
   },
   {
    "duration": 485,
    "start_time": "2022-08-21T10:50:23.235Z"
   },
   {
    "duration": 20,
    "start_time": "2022-08-21T10:50:23.722Z"
   },
   {
    "duration": 13,
    "start_time": "2022-08-21T10:50:23.743Z"
   },
   {
    "duration": 10,
    "start_time": "2022-08-21T10:50:23.758Z"
   },
   {
    "duration": 43,
    "start_time": "2022-08-21T10:50:23.770Z"
   },
   {
    "duration": 3,
    "start_time": "2022-08-21T10:50:23.814Z"
   },
   {
    "duration": 13,
    "start_time": "2022-08-21T10:50:23.818Z"
   },
   {
    "duration": 4,
    "start_time": "2022-08-21T10:50:23.833Z"
   },
   {
    "duration": 10,
    "start_time": "2022-08-21T10:50:23.839Z"
   },
   {
    "duration": 5,
    "start_time": "2022-08-21T10:50:23.852Z"
   },
   {
    "duration": 53,
    "start_time": "2022-08-21T10:50:23.858Z"
   },
   {
    "duration": 10,
    "start_time": "2022-08-21T10:50:23.913Z"
   },
   {
    "duration": 7,
    "start_time": "2022-08-21T10:50:23.925Z"
   },
   {
    "duration": 17,
    "start_time": "2022-08-21T10:50:23.933Z"
   },
   {
    "duration": 22,
    "start_time": "2022-08-21T10:50:23.952Z"
   },
   {
    "duration": 17,
    "start_time": "2022-08-21T10:50:23.975Z"
   },
   {
    "duration": 18,
    "start_time": "2022-08-21T10:50:23.993Z"
   },
   {
    "duration": 18,
    "start_time": "2022-08-21T10:50:24.013Z"
   },
   {
    "duration": 13,
    "start_time": "2022-08-21T10:50:24.032Z"
   },
   {
    "duration": 5,
    "start_time": "2022-08-21T10:50:24.046Z"
   },
   {
    "duration": 9,
    "start_time": "2022-08-21T10:50:24.052Z"
   },
   {
    "duration": 11,
    "start_time": "2022-08-21T10:50:24.062Z"
   },
   {
    "duration": 75,
    "start_time": "2022-08-21T10:50:24.075Z"
   },
   {
    "duration": 0,
    "start_time": "2022-08-21T10:50:24.151Z"
   },
   {
    "duration": 0,
    "start_time": "2022-08-21T10:50:24.152Z"
   },
   {
    "duration": 0,
    "start_time": "2022-08-21T10:50:24.153Z"
   },
   {
    "duration": 45,
    "start_time": "2022-08-21T10:51:07.531Z"
   },
   {
    "duration": 86,
    "start_time": "2022-08-21T10:52:10.066Z"
   },
   {
    "duration": 425,
    "start_time": "2022-08-21T10:52:14.945Z"
   },
   {
    "duration": 20,
    "start_time": "2022-08-21T10:52:15.372Z"
   },
   {
    "duration": 14,
    "start_time": "2022-08-21T10:52:15.394Z"
   },
   {
    "duration": 8,
    "start_time": "2022-08-21T10:52:15.410Z"
   },
   {
    "duration": 37,
    "start_time": "2022-08-21T10:52:15.419Z"
   },
   {
    "duration": 4,
    "start_time": "2022-08-21T10:52:15.457Z"
   },
   {
    "duration": 12,
    "start_time": "2022-08-21T10:52:15.462Z"
   },
   {
    "duration": 5,
    "start_time": "2022-08-21T10:52:15.476Z"
   },
   {
    "duration": 29,
    "start_time": "2022-08-21T10:52:15.482Z"
   },
   {
    "duration": 4,
    "start_time": "2022-08-21T10:52:15.514Z"
   },
   {
    "duration": 33,
    "start_time": "2022-08-21T10:52:15.520Z"
   },
   {
    "duration": 9,
    "start_time": "2022-08-21T10:52:15.555Z"
   },
   {
    "duration": 3,
    "start_time": "2022-08-21T10:52:15.566Z"
   },
   {
    "duration": 12,
    "start_time": "2022-08-21T10:52:15.571Z"
   },
   {
    "duration": 18,
    "start_time": "2022-08-21T10:52:15.610Z"
   },
   {
    "duration": 16,
    "start_time": "2022-08-21T10:52:15.630Z"
   },
   {
    "duration": 4,
    "start_time": "2022-08-21T10:52:15.647Z"
   },
   {
    "duration": 11,
    "start_time": "2022-08-21T10:52:15.652Z"
   },
   {
    "duration": 8,
    "start_time": "2022-08-21T10:52:15.664Z"
   },
   {
    "duration": 8,
    "start_time": "2022-08-21T10:52:15.673Z"
   },
   {
    "duration": 29,
    "start_time": "2022-08-21T10:52:15.682Z"
   },
   {
    "duration": 2,
    "start_time": "2022-08-21T10:52:15.712Z"
   },
   {
    "duration": 96,
    "start_time": "2022-08-21T10:52:15.715Z"
   },
   {
    "duration": 0,
    "start_time": "2022-08-21T10:52:15.812Z"
   },
   {
    "duration": 0,
    "start_time": "2022-08-21T10:52:15.813Z"
   },
   {
    "duration": 0,
    "start_time": "2022-08-21T10:52:15.814Z"
   },
   {
    "duration": 23,
    "start_time": "2022-08-21T10:52:36.586Z"
   },
   {
    "duration": 420,
    "start_time": "2022-08-21T10:52:45.556Z"
   },
   {
    "duration": 20,
    "start_time": "2022-08-21T10:52:45.978Z"
   },
   {
    "duration": 14,
    "start_time": "2022-08-21T10:52:45.999Z"
   },
   {
    "duration": 9,
    "start_time": "2022-08-21T10:52:46.015Z"
   },
   {
    "duration": 31,
    "start_time": "2022-08-21T10:52:46.025Z"
   },
   {
    "duration": 3,
    "start_time": "2022-08-21T10:52:46.057Z"
   },
   {
    "duration": 11,
    "start_time": "2022-08-21T10:52:46.061Z"
   },
   {
    "duration": 5,
    "start_time": "2022-08-21T10:52:46.073Z"
   },
   {
    "duration": 8,
    "start_time": "2022-08-21T10:52:46.080Z"
   },
   {
    "duration": 6,
    "start_time": "2022-08-21T10:52:46.113Z"
   },
   {
    "duration": 31,
    "start_time": "2022-08-21T10:52:46.120Z"
   },
   {
    "duration": 8,
    "start_time": "2022-08-21T10:52:46.153Z"
   },
   {
    "duration": 3,
    "start_time": "2022-08-21T10:52:46.163Z"
   },
   {
    "duration": 12,
    "start_time": "2022-08-21T10:52:46.168Z"
   },
   {
    "duration": 43,
    "start_time": "2022-08-21T10:52:46.181Z"
   },
   {
    "duration": 15,
    "start_time": "2022-08-21T10:52:46.225Z"
   },
   {
    "duration": 4,
    "start_time": "2022-08-21T10:52:46.242Z"
   },
   {
    "duration": 11,
    "start_time": "2022-08-21T10:52:46.247Z"
   },
   {
    "duration": 9,
    "start_time": "2022-08-21T10:52:46.259Z"
   },
   {
    "duration": 4,
    "start_time": "2022-08-21T10:52:46.269Z"
   },
   {
    "duration": 9,
    "start_time": "2022-08-21T10:52:46.275Z"
   },
   {
    "duration": 25,
    "start_time": "2022-08-21T10:52:46.286Z"
   },
   {
    "duration": 45,
    "start_time": "2022-08-21T10:52:46.313Z"
   },
   {
    "duration": 2,
    "start_time": "2022-08-21T10:52:46.360Z"
   },
   {
    "duration": 5,
    "start_time": "2022-08-21T10:52:46.363Z"
   },
   {
    "duration": 5,
    "start_time": "2022-08-21T10:52:46.369Z"
   },
   {
    "duration": 445,
    "start_time": "2022-08-21T10:52:59.638Z"
   },
   {
    "duration": 21,
    "start_time": "2022-08-21T10:53:00.085Z"
   },
   {
    "duration": 16,
    "start_time": "2022-08-21T10:53:00.108Z"
   },
   {
    "duration": 8,
    "start_time": "2022-08-21T10:53:00.126Z"
   },
   {
    "duration": 29,
    "start_time": "2022-08-21T10:53:00.136Z"
   },
   {
    "duration": 3,
    "start_time": "2022-08-21T10:53:00.167Z"
   },
   {
    "duration": 13,
    "start_time": "2022-08-21T10:53:00.171Z"
   },
   {
    "duration": 4,
    "start_time": "2022-08-21T10:53:00.185Z"
   },
   {
    "duration": 7,
    "start_time": "2022-08-21T10:53:00.211Z"
   },
   {
    "duration": 4,
    "start_time": "2022-08-21T10:53:00.220Z"
   },
   {
    "duration": 36,
    "start_time": "2022-08-21T10:53:00.225Z"
   },
   {
    "duration": 8,
    "start_time": "2022-08-21T10:53:00.262Z"
   },
   {
    "duration": 7,
    "start_time": "2022-08-21T10:53:00.271Z"
   },
   {
    "duration": 39,
    "start_time": "2022-08-21T10:53:00.279Z"
   },
   {
    "duration": 23,
    "start_time": "2022-08-21T10:53:00.319Z"
   },
   {
    "duration": 15,
    "start_time": "2022-08-21T10:53:00.343Z"
   },
   {
    "duration": 3,
    "start_time": "2022-08-21T10:53:00.360Z"
   },
   {
    "duration": 30,
    "start_time": "2022-08-21T10:53:00.365Z"
   },
   {
    "duration": 19,
    "start_time": "2022-08-21T10:53:00.397Z"
   },
   {
    "duration": 7,
    "start_time": "2022-08-21T10:53:00.417Z"
   },
   {
    "duration": 16,
    "start_time": "2022-08-21T10:53:00.425Z"
   },
   {
    "duration": 3,
    "start_time": "2022-08-21T10:53:00.442Z"
   },
   {
    "duration": 35,
    "start_time": "2022-08-21T10:53:00.447Z"
   },
   {
    "duration": 2,
    "start_time": "2022-08-21T10:53:00.484Z"
   },
   {
    "duration": 9,
    "start_time": "2022-08-21T10:53:00.488Z"
   },
   {
    "duration": 5,
    "start_time": "2022-08-21T10:53:00.498Z"
   },
   {
    "duration": 61,
    "start_time": "2022-08-21T10:53:30.179Z"
   },
   {
    "duration": 511,
    "start_time": "2022-08-21T10:53:52.226Z"
   },
   {
    "duration": 27,
    "start_time": "2022-08-21T10:53:52.739Z"
   },
   {
    "duration": 22,
    "start_time": "2022-08-21T10:53:52.768Z"
   },
   {
    "duration": 21,
    "start_time": "2022-08-21T10:53:52.793Z"
   },
   {
    "duration": 34,
    "start_time": "2022-08-21T10:53:52.816Z"
   },
   {
    "duration": 3,
    "start_time": "2022-08-21T10:53:52.851Z"
   },
   {
    "duration": 11,
    "start_time": "2022-08-21T10:53:52.856Z"
   },
   {
    "duration": 4,
    "start_time": "2022-08-21T10:53:52.868Z"
   },
   {
    "duration": 8,
    "start_time": "2022-08-21T10:53:52.873Z"
   },
   {
    "duration": 4,
    "start_time": "2022-08-21T10:53:52.912Z"
   },
   {
    "duration": 33,
    "start_time": "2022-08-21T10:53:52.917Z"
   },
   {
    "duration": 8,
    "start_time": "2022-08-21T10:53:52.952Z"
   },
   {
    "duration": 6,
    "start_time": "2022-08-21T10:53:52.961Z"
   },
   {
    "duration": 14,
    "start_time": "2022-08-21T10:53:52.968Z"
   },
   {
    "duration": 43,
    "start_time": "2022-08-21T10:53:52.984Z"
   },
   {
    "duration": 16,
    "start_time": "2022-08-21T10:53:53.028Z"
   },
   {
    "duration": 4,
    "start_time": "2022-08-21T10:53:53.045Z"
   },
   {
    "duration": 12,
    "start_time": "2022-08-21T10:53:53.050Z"
   },
   {
    "duration": 10,
    "start_time": "2022-08-21T10:53:53.064Z"
   },
   {
    "duration": 4,
    "start_time": "2022-08-21T10:53:53.075Z"
   },
   {
    "duration": 32,
    "start_time": "2022-08-21T10:53:53.080Z"
   },
   {
    "duration": 2,
    "start_time": "2022-08-21T10:53:53.114Z"
   },
   {
    "duration": 30,
    "start_time": "2022-08-21T10:53:53.118Z"
   },
   {
    "duration": 3,
    "start_time": "2022-08-21T10:53:53.149Z"
   },
   {
    "duration": 8,
    "start_time": "2022-08-21T10:53:53.153Z"
   },
   {
    "duration": 5,
    "start_time": "2022-08-21T10:53:53.163Z"
   },
   {
    "duration": 475,
    "start_time": "2022-08-21T11:11:24.082Z"
   },
   {
    "duration": 21,
    "start_time": "2022-08-21T11:11:24.559Z"
   },
   {
    "duration": 14,
    "start_time": "2022-08-21T11:11:24.581Z"
   },
   {
    "duration": 18,
    "start_time": "2022-08-21T11:11:24.596Z"
   },
   {
    "duration": 31,
    "start_time": "2022-08-21T11:11:24.616Z"
   },
   {
    "duration": 4,
    "start_time": "2022-08-21T11:11:24.648Z"
   },
   {
    "duration": 11,
    "start_time": "2022-08-21T11:11:24.653Z"
   },
   {
    "duration": 5,
    "start_time": "2022-08-21T11:11:24.666Z"
   },
   {
    "duration": 11,
    "start_time": "2022-08-21T11:11:24.672Z"
   },
   {
    "duration": 28,
    "start_time": "2022-08-21T11:11:24.685Z"
   },
   {
    "duration": 29,
    "start_time": "2022-08-21T11:11:24.714Z"
   },
   {
    "duration": 8,
    "start_time": "2022-08-21T11:11:24.744Z"
   },
   {
    "duration": 5,
    "start_time": "2022-08-21T11:11:24.754Z"
   },
   {
    "duration": 14,
    "start_time": "2022-08-21T11:11:24.761Z"
   },
   {
    "duration": 34,
    "start_time": "2022-08-21T11:11:24.777Z"
   },
   {
    "duration": 17,
    "start_time": "2022-08-21T11:11:24.813Z"
   },
   {
    "duration": 3,
    "start_time": "2022-08-21T11:11:24.831Z"
   },
   {
    "duration": 12,
    "start_time": "2022-08-21T11:11:24.835Z"
   },
   {
    "duration": 5,
    "start_time": "2022-08-21T11:11:24.848Z"
   },
   {
    "duration": 6,
    "start_time": "2022-08-21T11:11:24.855Z"
   },
   {
    "duration": 10,
    "start_time": "2022-08-21T11:11:24.863Z"
   },
   {
    "duration": 40,
    "start_time": "2022-08-21T11:11:24.874Z"
   },
   {
    "duration": 27,
    "start_time": "2022-08-21T11:11:24.915Z"
   },
   {
    "duration": 2,
    "start_time": "2022-08-21T11:11:24.943Z"
   },
   {
    "duration": 7,
    "start_time": "2022-08-21T11:11:24.946Z"
   },
   {
    "duration": 4,
    "start_time": "2022-08-21T11:11:24.954Z"
   },
   {
    "duration": 447,
    "start_time": "2022-08-21T11:18:34.224Z"
   },
   {
    "duration": 20,
    "start_time": "2022-08-21T11:18:34.673Z"
   },
   {
    "duration": 12,
    "start_time": "2022-08-21T11:18:34.695Z"
   },
   {
    "duration": 8,
    "start_time": "2022-08-21T11:18:34.709Z"
   },
   {
    "duration": 31,
    "start_time": "2022-08-21T11:18:34.719Z"
   },
   {
    "duration": 3,
    "start_time": "2022-08-21T11:18:34.752Z"
   },
   {
    "duration": 20,
    "start_time": "2022-08-21T11:18:34.756Z"
   },
   {
    "duration": 3,
    "start_time": "2022-08-21T11:18:34.778Z"
   },
   {
    "duration": 8,
    "start_time": "2022-08-21T11:18:34.783Z"
   },
   {
    "duration": 4,
    "start_time": "2022-08-21T11:18:34.793Z"
   },
   {
    "duration": 29,
    "start_time": "2022-08-21T11:18:34.810Z"
   },
   {
    "duration": 8,
    "start_time": "2022-08-21T11:18:34.840Z"
   },
   {
    "duration": 3,
    "start_time": "2022-08-21T11:18:34.850Z"
   },
   {
    "duration": 11,
    "start_time": "2022-08-21T11:18:34.855Z"
   },
   {
    "duration": 18,
    "start_time": "2022-08-21T11:18:34.868Z"
   },
   {
    "duration": 15,
    "start_time": "2022-08-21T11:18:34.911Z"
   },
   {
    "duration": 3,
    "start_time": "2022-08-21T11:18:34.928Z"
   },
   {
    "duration": 11,
    "start_time": "2022-08-21T11:18:34.932Z"
   },
   {
    "duration": 5,
    "start_time": "2022-08-21T11:18:34.944Z"
   },
   {
    "duration": 3,
    "start_time": "2022-08-21T11:18:34.950Z"
   },
   {
    "duration": 11,
    "start_time": "2022-08-21T11:18:34.954Z"
   },
   {
    "duration": 45,
    "start_time": "2022-08-21T11:18:34.966Z"
   },
   {
    "duration": 27,
    "start_time": "2022-08-21T11:18:35.012Z"
   },
   {
    "duration": 2,
    "start_time": "2022-08-21T11:18:35.041Z"
   },
   {
    "duration": 28,
    "start_time": "2022-08-21T11:18:35.044Z"
   },
   {
    "duration": 2,
    "start_time": "2022-08-21T11:18:35.073Z"
   },
   {
    "duration": 5,
    "start_time": "2022-08-21T11:18:35.076Z"
   },
   {
    "duration": 26,
    "start_time": "2022-08-21T11:19:54.199Z"
   },
   {
    "duration": 482,
    "start_time": "2022-08-21T11:20:16.686Z"
   },
   {
    "duration": 21,
    "start_time": "2022-08-21T11:20:17.170Z"
   },
   {
    "duration": 13,
    "start_time": "2022-08-21T11:20:17.193Z"
   },
   {
    "duration": 8,
    "start_time": "2022-08-21T11:20:17.210Z"
   },
   {
    "duration": 29,
    "start_time": "2022-08-21T11:20:17.219Z"
   },
   {
    "duration": 3,
    "start_time": "2022-08-21T11:20:17.250Z"
   },
   {
    "duration": 8,
    "start_time": "2022-08-21T11:20:17.254Z"
   },
   {
    "duration": 4,
    "start_time": "2022-08-21T11:20:17.263Z"
   },
   {
    "duration": 6,
    "start_time": "2022-08-21T11:20:17.269Z"
   },
   {
    "duration": 4,
    "start_time": "2022-08-21T11:20:17.278Z"
   },
   {
    "duration": 30,
    "start_time": "2022-08-21T11:20:17.311Z"
   },
   {
    "duration": 9,
    "start_time": "2022-08-21T11:20:17.343Z"
   },
   {
    "duration": 3,
    "start_time": "2022-08-21T11:20:17.354Z"
   },
   {
    "duration": 17,
    "start_time": "2022-08-21T11:20:17.359Z"
   },
   {
    "duration": 42,
    "start_time": "2022-08-21T11:20:17.377Z"
   },
   {
    "duration": 17,
    "start_time": "2022-08-21T11:20:17.420Z"
   },
   {
    "duration": 4,
    "start_time": "2022-08-21T11:20:17.438Z"
   },
   {
    "duration": 13,
    "start_time": "2022-08-21T11:20:17.444Z"
   },
   {
    "duration": 6,
    "start_time": "2022-08-21T11:20:17.459Z"
   },
   {
    "duration": 7,
    "start_time": "2022-08-21T11:20:17.466Z"
   },
   {
    "duration": 37,
    "start_time": "2022-08-21T11:20:17.475Z"
   },
   {
    "duration": 19,
    "start_time": "2022-08-21T11:20:17.513Z"
   },
   {
    "duration": 28,
    "start_time": "2022-08-21T11:20:17.533Z"
   },
   {
    "duration": 2,
    "start_time": "2022-08-21T11:20:17.563Z"
   },
   {
    "duration": 29,
    "start_time": "2022-08-21T11:20:17.566Z"
   },
   {
    "duration": 15,
    "start_time": "2022-08-21T11:20:17.596Z"
   },
   {
    "duration": 4,
    "start_time": "2022-08-21T11:20:17.612Z"
   },
   {
    "duration": 84,
    "start_time": "2022-08-21T11:25:49.945Z"
   },
   {
    "duration": 26,
    "start_time": "2022-08-21T11:26:03.247Z"
   },
   {
    "duration": 25,
    "start_time": "2022-08-21T11:27:05.630Z"
   },
   {
    "duration": 58,
    "start_time": "2022-08-21T11:27:14.198Z"
   },
   {
    "duration": 423,
    "start_time": "2022-08-21T11:27:17.648Z"
   },
   {
    "duration": 20,
    "start_time": "2022-08-21T11:27:18.072Z"
   },
   {
    "duration": 17,
    "start_time": "2022-08-21T11:27:18.094Z"
   },
   {
    "duration": 26,
    "start_time": "2022-08-21T11:27:18.113Z"
   },
   {
    "duration": 37,
    "start_time": "2022-08-21T11:27:18.141Z"
   },
   {
    "duration": 4,
    "start_time": "2022-08-21T11:27:18.179Z"
   },
   {
    "duration": 21,
    "start_time": "2022-08-21T11:27:18.184Z"
   },
   {
    "duration": 13,
    "start_time": "2022-08-21T11:27:18.206Z"
   },
   {
    "duration": 25,
    "start_time": "2022-08-21T11:27:18.220Z"
   },
   {
    "duration": 13,
    "start_time": "2022-08-21T11:27:18.249Z"
   },
   {
    "duration": 46,
    "start_time": "2022-08-21T11:27:18.263Z"
   },
   {
    "duration": 8,
    "start_time": "2022-08-21T11:27:18.310Z"
   },
   {
    "duration": 5,
    "start_time": "2022-08-21T11:27:18.320Z"
   },
   {
    "duration": 19,
    "start_time": "2022-08-21T11:27:18.327Z"
   },
   {
    "duration": 32,
    "start_time": "2022-08-21T11:27:18.348Z"
   },
   {
    "duration": 16,
    "start_time": "2022-08-21T11:27:18.382Z"
   },
   {
    "duration": 12,
    "start_time": "2022-08-21T11:27:18.399Z"
   },
   {
    "duration": 8,
    "start_time": "2022-08-21T11:27:18.413Z"
   },
   {
    "duration": 9,
    "start_time": "2022-08-21T11:27:18.423Z"
   },
   {
    "duration": 7,
    "start_time": "2022-08-21T11:27:18.433Z"
   },
   {
    "duration": 21,
    "start_time": "2022-08-21T11:27:18.442Z"
   },
   {
    "duration": 25,
    "start_time": "2022-08-21T11:27:18.464Z"
   },
   {
    "duration": 43,
    "start_time": "2022-08-21T11:27:18.490Z"
   },
   {
    "duration": 0,
    "start_time": "2022-08-21T11:27:18.534Z"
   },
   {
    "duration": 0,
    "start_time": "2022-08-21T11:27:18.535Z"
   },
   {
    "duration": 0,
    "start_time": "2022-08-21T11:27:18.536Z"
   },
   {
    "duration": 0,
    "start_time": "2022-08-21T11:27:18.537Z"
   },
   {
    "duration": 25,
    "start_time": "2022-08-21T11:28:47.274Z"
   },
   {
    "duration": 572,
    "start_time": "2022-08-21T11:29:02.344Z"
   },
   {
    "duration": 21,
    "start_time": "2022-08-21T11:29:02.918Z"
   },
   {
    "duration": 14,
    "start_time": "2022-08-21T11:29:02.940Z"
   },
   {
    "duration": 9,
    "start_time": "2022-08-21T11:29:02.955Z"
   },
   {
    "duration": 51,
    "start_time": "2022-08-21T11:29:02.967Z"
   },
   {
    "duration": 3,
    "start_time": "2022-08-21T11:29:03.019Z"
   },
   {
    "duration": 12,
    "start_time": "2022-08-21T11:29:03.023Z"
   },
   {
    "duration": 4,
    "start_time": "2022-08-21T11:29:03.036Z"
   },
   {
    "duration": 7,
    "start_time": "2022-08-21T11:29:03.041Z"
   },
   {
    "duration": 6,
    "start_time": "2022-08-21T11:29:03.049Z"
   },
   {
    "duration": 55,
    "start_time": "2022-08-21T11:29:03.056Z"
   },
   {
    "duration": 9,
    "start_time": "2022-08-21T11:29:03.113Z"
   },
   {
    "duration": 9,
    "start_time": "2022-08-21T11:29:03.123Z"
   },
   {
    "duration": 11,
    "start_time": "2022-08-21T11:29:03.134Z"
   },
   {
    "duration": 19,
    "start_time": "2022-08-21T11:29:03.147Z"
   },
   {
    "duration": 16,
    "start_time": "2022-08-21T11:29:03.167Z"
   },
   {
    "duration": 28,
    "start_time": "2022-08-21T11:29:03.184Z"
   },
   {
    "duration": 17,
    "start_time": "2022-08-21T11:29:03.214Z"
   },
   {
    "duration": 7,
    "start_time": "2022-08-21T11:29:03.233Z"
   },
   {
    "duration": 4,
    "start_time": "2022-08-21T11:29:03.242Z"
   },
   {
    "duration": 14,
    "start_time": "2022-08-21T11:29:03.247Z"
   },
   {
    "duration": 50,
    "start_time": "2022-08-21T11:29:03.263Z"
   },
   {
    "duration": 39,
    "start_time": "2022-08-21T11:29:03.315Z"
   },
   {
    "duration": 2,
    "start_time": "2022-08-21T11:29:03.356Z"
   },
   {
    "duration": 31,
    "start_time": "2022-08-21T11:29:03.360Z"
   },
   {
    "duration": 2,
    "start_time": "2022-08-21T11:29:03.393Z"
   },
   {
    "duration": 20,
    "start_time": "2022-08-21T11:29:03.396Z"
   },
   {
    "duration": 33,
    "start_time": "2022-08-21T11:29:12.098Z"
   },
   {
    "duration": 84,
    "start_time": "2022-08-21T11:32:41.363Z"
   },
   {
    "duration": 25,
    "start_time": "2022-08-21T11:33:10.227Z"
   },
   {
    "duration": 22,
    "start_time": "2022-08-21T11:33:19.338Z"
   },
   {
    "duration": 498,
    "start_time": "2022-08-21T11:33:32.330Z"
   },
   {
    "duration": 20,
    "start_time": "2022-08-21T11:33:32.830Z"
   },
   {
    "duration": 17,
    "start_time": "2022-08-21T11:33:32.851Z"
   },
   {
    "duration": 9,
    "start_time": "2022-08-21T11:33:32.870Z"
   },
   {
    "duration": 35,
    "start_time": "2022-08-21T11:33:32.881Z"
   },
   {
    "duration": 3,
    "start_time": "2022-08-21T11:33:32.917Z"
   },
   {
    "duration": 12,
    "start_time": "2022-08-21T11:33:32.922Z"
   },
   {
    "duration": 3,
    "start_time": "2022-08-21T11:33:32.936Z"
   },
   {
    "duration": 11,
    "start_time": "2022-08-21T11:33:32.941Z"
   },
   {
    "duration": 15,
    "start_time": "2022-08-21T11:33:32.953Z"
   },
   {
    "duration": 46,
    "start_time": "2022-08-21T11:33:32.969Z"
   },
   {
    "duration": 8,
    "start_time": "2022-08-21T11:33:33.016Z"
   },
   {
    "duration": 17,
    "start_time": "2022-08-21T11:33:33.025Z"
   },
   {
    "duration": 62,
    "start_time": "2022-08-21T11:33:33.045Z"
   },
   {
    "duration": 27,
    "start_time": "2022-08-21T11:33:33.108Z"
   },
   {
    "duration": 15,
    "start_time": "2022-08-21T11:33:33.137Z"
   },
   {
    "duration": 3,
    "start_time": "2022-08-21T11:33:33.153Z"
   },
   {
    "duration": 12,
    "start_time": "2022-08-21T11:33:33.158Z"
   },
   {
    "duration": 10,
    "start_time": "2022-08-21T11:33:33.171Z"
   },
   {
    "duration": 6,
    "start_time": "2022-08-21T11:33:33.183Z"
   },
   {
    "duration": 15,
    "start_time": "2022-08-21T11:33:33.190Z"
   },
   {
    "duration": 26,
    "start_time": "2022-08-21T11:33:33.206Z"
   },
   {
    "duration": 30,
    "start_time": "2022-08-21T11:33:33.234Z"
   },
   {
    "duration": 2,
    "start_time": "2022-08-21T11:33:33.266Z"
   },
   {
    "duration": 28,
    "start_time": "2022-08-21T11:33:33.270Z"
   },
   {
    "duration": 12,
    "start_time": "2022-08-21T11:33:33.300Z"
   },
   {
    "duration": 7,
    "start_time": "2022-08-21T11:33:33.313Z"
   },
   {
    "duration": 468,
    "start_time": "2022-08-21T11:33:59.818Z"
   },
   {
    "duration": 20,
    "start_time": "2022-08-21T11:34:00.288Z"
   },
   {
    "duration": 14,
    "start_time": "2022-08-21T11:34:00.309Z"
   },
   {
    "duration": 12,
    "start_time": "2022-08-21T11:34:00.325Z"
   },
   {
    "duration": 39,
    "start_time": "2022-08-21T11:34:00.338Z"
   },
   {
    "duration": 3,
    "start_time": "2022-08-21T11:34:00.378Z"
   },
   {
    "duration": 16,
    "start_time": "2022-08-21T11:34:00.383Z"
   },
   {
    "duration": 11,
    "start_time": "2022-08-21T11:34:00.400Z"
   },
   {
    "duration": 12,
    "start_time": "2022-08-21T11:34:00.413Z"
   },
   {
    "duration": 14,
    "start_time": "2022-08-21T11:34:00.427Z"
   },
   {
    "duration": 36,
    "start_time": "2022-08-21T11:34:00.442Z"
   },
   {
    "duration": 8,
    "start_time": "2022-08-21T11:34:00.479Z"
   },
   {
    "duration": 10,
    "start_time": "2022-08-21T11:34:00.488Z"
   },
   {
    "duration": 15,
    "start_time": "2022-08-21T11:34:00.499Z"
   },
   {
    "duration": 19,
    "start_time": "2022-08-21T11:34:00.515Z"
   },
   {
    "duration": 16,
    "start_time": "2022-08-21T11:34:00.535Z"
   },
   {
    "duration": 3,
    "start_time": "2022-08-21T11:34:00.552Z"
   },
   {
    "duration": 23,
    "start_time": "2022-08-21T11:34:00.556Z"
   },
   {
    "duration": 11,
    "start_time": "2022-08-21T11:34:00.580Z"
   },
   {
    "duration": 7,
    "start_time": "2022-08-21T11:34:00.593Z"
   },
   {
    "duration": 17,
    "start_time": "2022-08-21T11:34:00.602Z"
   },
   {
    "duration": 25,
    "start_time": "2022-08-21T11:34:00.620Z"
   },
   {
    "duration": 32,
    "start_time": "2022-08-21T11:34:00.647Z"
   },
   {
    "duration": 2,
    "start_time": "2022-08-21T11:34:00.681Z"
   },
   {
    "duration": 36,
    "start_time": "2022-08-21T11:34:00.685Z"
   },
   {
    "duration": 2,
    "start_time": "2022-08-21T11:34:00.722Z"
   },
   {
    "duration": 11,
    "start_time": "2022-08-21T11:34:00.725Z"
   },
   {
    "duration": 496,
    "start_time": "2022-08-21T11:37:42.025Z"
   },
   {
    "duration": 29,
    "start_time": "2022-08-21T11:37:42.524Z"
   },
   {
    "duration": 22,
    "start_time": "2022-08-21T11:37:42.555Z"
   },
   {
    "duration": 12,
    "start_time": "2022-08-21T11:37:42.580Z"
   },
   {
    "duration": 49,
    "start_time": "2022-08-21T11:37:42.594Z"
   },
   {
    "duration": 4,
    "start_time": "2022-08-21T11:37:42.645Z"
   },
   {
    "duration": 19,
    "start_time": "2022-08-21T11:37:42.651Z"
   },
   {
    "duration": 7,
    "start_time": "2022-08-21T11:37:42.672Z"
   },
   {
    "duration": 18,
    "start_time": "2022-08-21T11:37:42.680Z"
   },
   {
    "duration": 37,
    "start_time": "2022-08-21T11:37:42.700Z"
   },
   {
    "duration": 45,
    "start_time": "2022-08-21T11:37:42.738Z"
   },
   {
    "duration": 11,
    "start_time": "2022-08-21T11:37:42.785Z"
   },
   {
    "duration": 4,
    "start_time": "2022-08-21T11:37:42.797Z"
   },
   {
    "duration": 13,
    "start_time": "2022-08-21T11:37:42.810Z"
   },
   {
    "duration": 27,
    "start_time": "2022-08-21T11:37:42.825Z"
   },
   {
    "duration": 18,
    "start_time": "2022-08-21T11:37:42.854Z"
   },
   {
    "duration": 3,
    "start_time": "2022-08-21T11:37:42.873Z"
   },
   {
    "duration": 13,
    "start_time": "2022-08-21T11:37:42.877Z"
   },
   {
    "duration": 22,
    "start_time": "2022-08-21T11:37:42.891Z"
   },
   {
    "duration": 3,
    "start_time": "2022-08-21T11:37:42.915Z"
   },
   {
    "duration": 13,
    "start_time": "2022-08-21T11:37:42.919Z"
   },
   {
    "duration": 22,
    "start_time": "2022-08-21T11:37:42.934Z"
   },
   {
    "duration": 26,
    "start_time": "2022-08-21T11:37:42.957Z"
   },
   {
    "duration": 26,
    "start_time": "2022-08-21T11:37:42.985Z"
   },
   {
    "duration": 31,
    "start_time": "2022-08-21T11:37:43.012Z"
   },
   {
    "duration": 2,
    "start_time": "2022-08-21T11:37:43.045Z"
   },
   {
    "duration": 4,
    "start_time": "2022-08-21T11:37:43.048Z"
   },
   {
    "duration": 424,
    "start_time": "2022-08-21T11:43:01.460Z"
   },
   {
    "duration": 20,
    "start_time": "2022-08-21T11:43:01.886Z"
   },
   {
    "duration": 19,
    "start_time": "2022-08-21T11:43:01.908Z"
   },
   {
    "duration": 10,
    "start_time": "2022-08-21T11:43:01.929Z"
   },
   {
    "duration": 59,
    "start_time": "2022-08-21T11:43:01.940Z"
   },
   {
    "duration": 3,
    "start_time": "2022-08-21T11:43:02.001Z"
   },
   {
    "duration": 15,
    "start_time": "2022-08-21T11:43:02.005Z"
   },
   {
    "duration": 39,
    "start_time": "2022-08-21T11:43:02.021Z"
   },
   {
    "duration": 16,
    "start_time": "2022-08-21T11:43:02.062Z"
   },
   {
    "duration": 37,
    "start_time": "2022-08-21T11:43:02.081Z"
   },
   {
    "duration": 60,
    "start_time": "2022-08-21T11:43:02.120Z"
   },
   {
    "duration": 10,
    "start_time": "2022-08-21T11:43:02.181Z"
   },
   {
    "duration": 4,
    "start_time": "2022-08-21T11:43:02.192Z"
   },
   {
    "duration": 12,
    "start_time": "2022-08-21T11:43:02.198Z"
   },
   {
    "duration": 17,
    "start_time": "2022-08-21T11:43:02.211Z"
   },
   {
    "duration": 15,
    "start_time": "2022-08-21T11:43:02.229Z"
   },
   {
    "duration": 4,
    "start_time": "2022-08-21T11:43:02.245Z"
   },
   {
    "duration": 16,
    "start_time": "2022-08-21T11:43:02.250Z"
   },
   {
    "duration": 12,
    "start_time": "2022-08-21T11:43:02.267Z"
   },
   {
    "duration": 5,
    "start_time": "2022-08-21T11:43:02.281Z"
   },
   {
    "duration": 12,
    "start_time": "2022-08-21T11:43:02.287Z"
   },
   {
    "duration": 28,
    "start_time": "2022-08-21T11:43:02.300Z"
   },
   {
    "duration": 25,
    "start_time": "2022-08-21T11:43:02.329Z"
   },
   {
    "duration": 2,
    "start_time": "2022-08-21T11:43:02.355Z"
   },
   {
    "duration": 29,
    "start_time": "2022-08-21T11:43:02.358Z"
   },
   {
    "duration": 2,
    "start_time": "2022-08-21T11:43:02.410Z"
   },
   {
    "duration": 11,
    "start_time": "2022-08-21T11:43:02.414Z"
   },
   {
    "duration": 484,
    "start_time": "2022-08-21T12:42:48.288Z"
   },
   {
    "duration": 23,
    "start_time": "2022-08-21T12:42:48.774Z"
   },
   {
    "duration": 15,
    "start_time": "2022-08-21T12:42:48.799Z"
   },
   {
    "duration": 13,
    "start_time": "2022-08-21T12:42:48.816Z"
   },
   {
    "duration": 35,
    "start_time": "2022-08-21T12:42:48.831Z"
   },
   {
    "duration": 4,
    "start_time": "2022-08-21T12:42:48.868Z"
   },
   {
    "duration": 13,
    "start_time": "2022-08-21T12:42:48.873Z"
   },
   {
    "duration": 5,
    "start_time": "2022-08-21T12:42:48.911Z"
   },
   {
    "duration": 11,
    "start_time": "2022-08-21T12:42:48.918Z"
   },
   {
    "duration": 9,
    "start_time": "2022-08-21T12:42:48.933Z"
   },
   {
    "duration": 37,
    "start_time": "2022-08-21T12:42:48.943Z"
   },
   {
    "duration": 9,
    "start_time": "2022-08-21T12:42:48.981Z"
   },
   {
    "duration": 19,
    "start_time": "2022-08-21T12:42:48.992Z"
   },
   {
    "duration": 23,
    "start_time": "2022-08-21T12:42:49.013Z"
   },
   {
    "duration": 33,
    "start_time": "2022-08-21T12:42:49.038Z"
   },
   {
    "duration": 21,
    "start_time": "2022-08-21T12:42:49.073Z"
   },
   {
    "duration": 4,
    "start_time": "2022-08-21T12:42:49.096Z"
   },
   {
    "duration": 17,
    "start_time": "2022-08-21T12:42:49.102Z"
   },
   {
    "duration": 23,
    "start_time": "2022-08-21T12:42:49.121Z"
   },
   {
    "duration": 12,
    "start_time": "2022-08-21T12:42:49.145Z"
   },
   {
    "duration": 16,
    "start_time": "2022-08-21T12:42:49.159Z"
   },
   {
    "duration": 19,
    "start_time": "2022-08-21T12:42:49.177Z"
   },
   {
    "duration": 37,
    "start_time": "2022-08-21T12:42:49.197Z"
   },
   {
    "duration": 5,
    "start_time": "2022-08-21T12:42:49.235Z"
   },
   {
    "duration": 51,
    "start_time": "2022-08-21T12:42:49.241Z"
   },
   {
    "duration": 2,
    "start_time": "2022-08-21T12:42:49.294Z"
   },
   {
    "duration": 51,
    "start_time": "2022-08-21T12:42:49.298Z"
   },
   {
    "duration": 2,
    "start_time": "2022-08-21T12:42:49.352Z"
   },
   {
    "duration": 454,
    "start_time": "2022-08-21T12:46:30.578Z"
   },
   {
    "duration": 29,
    "start_time": "2022-08-21T12:46:31.034Z"
   },
   {
    "duration": 14,
    "start_time": "2022-08-21T12:46:31.065Z"
   },
   {
    "duration": 10,
    "start_time": "2022-08-21T12:46:31.081Z"
   },
   {
    "duration": 47,
    "start_time": "2022-08-21T12:46:31.093Z"
   },
   {
    "duration": 4,
    "start_time": "2022-08-21T12:46:31.141Z"
   },
   {
    "duration": 19,
    "start_time": "2022-08-21T12:46:31.147Z"
   },
   {
    "duration": 21,
    "start_time": "2022-08-21T12:46:31.168Z"
   },
   {
    "duration": 17,
    "start_time": "2022-08-21T12:46:31.191Z"
   },
   {
    "duration": 14,
    "start_time": "2022-08-21T12:46:31.211Z"
   },
   {
    "duration": 42,
    "start_time": "2022-08-21T12:46:31.226Z"
   },
   {
    "duration": 13,
    "start_time": "2022-08-21T12:46:31.269Z"
   },
   {
    "duration": 10,
    "start_time": "2022-08-21T12:46:31.284Z"
   },
   {
    "duration": 27,
    "start_time": "2022-08-21T12:46:31.297Z"
   },
   {
    "duration": 28,
    "start_time": "2022-08-21T12:46:31.326Z"
   },
   {
    "duration": 24,
    "start_time": "2022-08-21T12:46:31.355Z"
   },
   {
    "duration": 4,
    "start_time": "2022-08-21T12:46:31.381Z"
   },
   {
    "duration": 34,
    "start_time": "2022-08-21T12:46:31.386Z"
   },
   {
    "duration": 15,
    "start_time": "2022-08-21T12:46:31.422Z"
   },
   {
    "duration": 17,
    "start_time": "2022-08-21T12:46:31.439Z"
   },
   {
    "duration": 17,
    "start_time": "2022-08-21T12:46:31.458Z"
   },
   {
    "duration": 33,
    "start_time": "2022-08-21T12:46:31.477Z"
   },
   {
    "duration": 101,
    "start_time": "2022-08-21T12:46:31.512Z"
   },
   {
    "duration": 0,
    "start_time": "2022-08-21T12:46:31.614Z"
   },
   {
    "duration": 0,
    "start_time": "2022-08-21T12:46:31.616Z"
   },
   {
    "duration": 0,
    "start_time": "2022-08-21T12:46:31.618Z"
   },
   {
    "duration": 0,
    "start_time": "2022-08-21T12:46:31.619Z"
   },
   {
    "duration": 0,
    "start_time": "2022-08-21T12:46:31.620Z"
   },
   {
    "duration": 26,
    "start_time": "2022-08-21T12:46:46.394Z"
   },
   {
    "duration": 486,
    "start_time": "2022-08-21T12:46:49.584Z"
   },
   {
    "duration": 22,
    "start_time": "2022-08-21T12:46:50.072Z"
   },
   {
    "duration": 14,
    "start_time": "2022-08-21T12:46:50.096Z"
   },
   {
    "duration": 9,
    "start_time": "2022-08-21T12:46:50.112Z"
   },
   {
    "duration": 30,
    "start_time": "2022-08-21T12:46:50.124Z"
   },
   {
    "duration": 4,
    "start_time": "2022-08-21T12:46:50.156Z"
   },
   {
    "duration": 11,
    "start_time": "2022-08-21T12:46:50.161Z"
   },
   {
    "duration": 4,
    "start_time": "2022-08-21T12:46:50.174Z"
   },
   {
    "duration": 32,
    "start_time": "2022-08-21T12:46:50.179Z"
   },
   {
    "duration": 5,
    "start_time": "2022-08-21T12:46:50.213Z"
   },
   {
    "duration": 32,
    "start_time": "2022-08-21T12:46:50.219Z"
   },
   {
    "duration": 9,
    "start_time": "2022-08-21T12:46:50.253Z"
   },
   {
    "duration": 8,
    "start_time": "2022-08-21T12:46:50.264Z"
   },
   {
    "duration": 13,
    "start_time": "2022-08-21T12:46:50.274Z"
   },
   {
    "duration": 40,
    "start_time": "2022-08-21T12:46:50.288Z"
   },
   {
    "duration": 17,
    "start_time": "2022-08-21T12:46:50.329Z"
   },
   {
    "duration": 3,
    "start_time": "2022-08-21T12:46:50.348Z"
   },
   {
    "duration": 11,
    "start_time": "2022-08-21T12:46:50.352Z"
   },
   {
    "duration": 5,
    "start_time": "2022-08-21T12:46:50.364Z"
   },
   {
    "duration": 5,
    "start_time": "2022-08-21T12:46:50.371Z"
   },
   {
    "duration": 34,
    "start_time": "2022-08-21T12:46:50.378Z"
   },
   {
    "duration": 21,
    "start_time": "2022-08-21T12:46:50.414Z"
   },
   {
    "duration": 31,
    "start_time": "2022-08-21T12:46:50.437Z"
   },
   {
    "duration": 3,
    "start_time": "2022-08-21T12:46:50.470Z"
   },
   {
    "duration": 53,
    "start_time": "2022-08-21T12:46:50.474Z"
   },
   {
    "duration": 3,
    "start_time": "2022-08-21T12:46:50.528Z"
   },
   {
    "duration": 42,
    "start_time": "2022-08-21T12:46:50.532Z"
   },
   {
    "duration": 2,
    "start_time": "2022-08-21T12:46:50.576Z"
   },
   {
    "duration": 462,
    "start_time": "2022-08-21T12:54:19.343Z"
   },
   {
    "duration": 415,
    "start_time": "2022-08-21T12:54:26.463Z"
   },
   {
    "duration": 21,
    "start_time": "2022-08-21T12:54:26.880Z"
   },
   {
    "duration": 13,
    "start_time": "2022-08-21T12:54:26.903Z"
   },
   {
    "duration": 8,
    "start_time": "2022-08-21T12:54:26.918Z"
   },
   {
    "duration": 29,
    "start_time": "2022-08-21T12:54:26.928Z"
   },
   {
    "duration": 3,
    "start_time": "2022-08-21T12:54:26.959Z"
   },
   {
    "duration": 10,
    "start_time": "2022-08-21T12:54:26.963Z"
   },
   {
    "duration": 6,
    "start_time": "2022-08-21T12:54:26.974Z"
   },
   {
    "duration": 30,
    "start_time": "2022-08-21T12:54:26.981Z"
   },
   {
    "duration": 5,
    "start_time": "2022-08-21T12:54:27.013Z"
   },
   {
    "duration": 31,
    "start_time": "2022-08-21T12:54:27.019Z"
   },
   {
    "duration": 9,
    "start_time": "2022-08-21T12:54:27.052Z"
   },
   {
    "duration": 3,
    "start_time": "2022-08-21T12:54:27.062Z"
   },
   {
    "duration": 13,
    "start_time": "2022-08-21T12:54:27.068Z"
   },
   {
    "duration": 41,
    "start_time": "2022-08-21T12:54:27.083Z"
   },
   {
    "duration": 15,
    "start_time": "2022-08-21T12:54:27.126Z"
   },
   {
    "duration": 3,
    "start_time": "2022-08-21T12:54:27.143Z"
   },
   {
    "duration": 16,
    "start_time": "2022-08-21T12:54:27.147Z"
   },
   {
    "duration": 9,
    "start_time": "2022-08-21T12:54:27.164Z"
   },
   {
    "duration": 4,
    "start_time": "2022-08-21T12:54:27.174Z"
   },
   {
    "duration": 9,
    "start_time": "2022-08-21T12:54:27.180Z"
   },
   {
    "duration": 37,
    "start_time": "2022-08-21T12:54:27.190Z"
   },
   {
    "duration": 284,
    "start_time": "2022-08-21T12:54:27.229Z"
   },
   {
    "duration": 2,
    "start_time": "2022-08-21T12:54:27.514Z"
   },
   {
    "duration": 32,
    "start_time": "2022-08-21T12:54:27.518Z"
   },
   {
    "duration": 2,
    "start_time": "2022-08-21T12:54:27.552Z"
   },
   {
    "duration": 40,
    "start_time": "2022-08-21T12:54:27.555Z"
   },
   {
    "duration": 15,
    "start_time": "2022-08-21T12:54:27.597Z"
   },
   {
    "duration": 29,
    "start_time": "2022-08-21T12:54:56.525Z"
   },
   {
    "duration": 446,
    "start_time": "2022-08-21T12:55:48.431Z"
   },
   {
    "duration": 21,
    "start_time": "2022-08-21T12:55:48.879Z"
   },
   {
    "duration": 14,
    "start_time": "2022-08-21T12:55:48.901Z"
   },
   {
    "duration": 8,
    "start_time": "2022-08-21T12:55:48.917Z"
   },
   {
    "duration": 32,
    "start_time": "2022-08-21T12:55:48.926Z"
   },
   {
    "duration": 3,
    "start_time": "2022-08-21T12:55:48.960Z"
   },
   {
    "duration": 11,
    "start_time": "2022-08-21T12:55:48.964Z"
   },
   {
    "duration": 6,
    "start_time": "2022-08-21T12:55:48.977Z"
   },
   {
    "duration": 26,
    "start_time": "2022-08-21T12:55:48.985Z"
   },
   {
    "duration": 5,
    "start_time": "2022-08-21T12:55:49.013Z"
   },
   {
    "duration": 34,
    "start_time": "2022-08-21T12:55:49.020Z"
   },
   {
    "duration": 10,
    "start_time": "2022-08-21T12:55:49.056Z"
   },
   {
    "duration": 8,
    "start_time": "2022-08-21T12:55:49.067Z"
   },
   {
    "duration": 13,
    "start_time": "2022-08-21T12:55:49.076Z"
   },
   {
    "duration": 38,
    "start_time": "2022-08-21T12:55:49.091Z"
   },
   {
    "duration": 16,
    "start_time": "2022-08-21T12:55:49.131Z"
   },
   {
    "duration": 10,
    "start_time": "2022-08-21T12:55:49.149Z"
   },
   {
    "duration": 36,
    "start_time": "2022-08-21T12:55:49.160Z"
   },
   {
    "duration": 38,
    "start_time": "2022-08-21T12:55:49.197Z"
   },
   {
    "duration": 9,
    "start_time": "2022-08-21T12:55:49.237Z"
   },
   {
    "duration": 16,
    "start_time": "2022-08-21T12:55:49.247Z"
   },
   {
    "duration": 22,
    "start_time": "2022-08-21T12:55:49.265Z"
   },
   {
    "duration": 317,
    "start_time": "2022-08-21T12:55:49.289Z"
   },
   {
    "duration": 2,
    "start_time": "2022-08-21T12:55:49.607Z"
   },
   {
    "duration": 51,
    "start_time": "2022-08-21T12:55:49.611Z"
   },
   {
    "duration": 2,
    "start_time": "2022-08-21T12:55:49.663Z"
   },
   {
    "duration": 45,
    "start_time": "2022-08-21T12:55:49.667Z"
   },
   {
    "duration": 2,
    "start_time": "2022-08-21T12:55:49.715Z"
   },
   {
    "duration": 37,
    "start_time": "2022-08-21T12:58:02.364Z"
   },
   {
    "duration": 496,
    "start_time": "2022-08-21T12:58:22.234Z"
   },
   {
    "duration": 31,
    "start_time": "2022-08-21T12:58:22.733Z"
   },
   {
    "duration": 45,
    "start_time": "2022-08-21T12:58:22.765Z"
   },
   {
    "duration": 14,
    "start_time": "2022-08-21T12:58:22.813Z"
   },
   {
    "duration": 34,
    "start_time": "2022-08-21T12:58:22.829Z"
   },
   {
    "duration": 3,
    "start_time": "2022-08-21T12:58:22.864Z"
   },
   {
    "duration": 10,
    "start_time": "2022-08-21T12:58:22.868Z"
   },
   {
    "duration": 4,
    "start_time": "2022-08-21T12:58:22.879Z"
   },
   {
    "duration": 29,
    "start_time": "2022-08-21T12:58:22.884Z"
   },
   {
    "duration": 3,
    "start_time": "2022-08-21T12:58:22.916Z"
   },
   {
    "duration": 33,
    "start_time": "2022-08-21T12:58:22.921Z"
   },
   {
    "duration": 9,
    "start_time": "2022-08-21T12:58:22.955Z"
   },
   {
    "duration": 5,
    "start_time": "2022-08-21T12:58:22.965Z"
   },
   {
    "duration": 13,
    "start_time": "2022-08-21T12:58:22.972Z"
   },
   {
    "duration": 37,
    "start_time": "2022-08-21T12:58:22.987Z"
   },
   {
    "duration": 16,
    "start_time": "2022-08-21T12:58:23.025Z"
   },
   {
    "duration": 4,
    "start_time": "2022-08-21T12:58:23.042Z"
   },
   {
    "duration": 11,
    "start_time": "2022-08-21T12:58:23.047Z"
   },
   {
    "duration": 5,
    "start_time": "2022-08-21T12:58:23.060Z"
   },
   {
    "duration": 3,
    "start_time": "2022-08-21T12:58:23.067Z"
   },
   {
    "duration": 32,
    "start_time": "2022-08-21T12:58:23.071Z"
   },
   {
    "duration": 21,
    "start_time": "2022-08-21T12:58:23.105Z"
   },
   {
    "duration": 282,
    "start_time": "2022-08-21T12:58:23.127Z"
   },
   {
    "duration": 2,
    "start_time": "2022-08-21T12:58:23.411Z"
   },
   {
    "duration": 58,
    "start_time": "2022-08-21T12:58:23.415Z"
   },
   {
    "duration": 3,
    "start_time": "2022-08-21T12:58:23.475Z"
   },
   {
    "duration": 47,
    "start_time": "2022-08-21T12:58:23.479Z"
   },
   {
    "duration": 2,
    "start_time": "2022-08-21T12:58:23.530Z"
   },
   {
    "duration": 27,
    "start_time": "2022-08-21T12:58:39.891Z"
   },
   {
    "duration": 523,
    "start_time": "2022-08-21T12:59:02.313Z"
   },
   {
    "duration": 29,
    "start_time": "2022-08-21T12:59:02.838Z"
   },
   {
    "duration": 21,
    "start_time": "2022-08-21T12:59:02.869Z"
   },
   {
    "duration": 21,
    "start_time": "2022-08-21T12:59:02.892Z"
   },
   {
    "duration": 30,
    "start_time": "2022-08-21T12:59:02.916Z"
   },
   {
    "duration": 3,
    "start_time": "2022-08-21T12:59:02.948Z"
   },
   {
    "duration": 9,
    "start_time": "2022-08-21T12:59:02.953Z"
   },
   {
    "duration": 4,
    "start_time": "2022-08-21T12:59:02.964Z"
   },
   {
    "duration": 9,
    "start_time": "2022-08-21T12:59:02.969Z"
   },
   {
    "duration": 32,
    "start_time": "2022-08-21T12:59:02.979Z"
   },
   {
    "duration": 38,
    "start_time": "2022-08-21T12:59:03.013Z"
   },
   {
    "duration": 9,
    "start_time": "2022-08-21T12:59:03.052Z"
   },
   {
    "duration": 4,
    "start_time": "2022-08-21T12:59:03.062Z"
   },
   {
    "duration": 12,
    "start_time": "2022-08-21T12:59:03.068Z"
   },
   {
    "duration": 42,
    "start_time": "2022-08-21T12:59:03.082Z"
   },
   {
    "duration": 17,
    "start_time": "2022-08-21T12:59:03.125Z"
   },
   {
    "duration": 3,
    "start_time": "2022-08-21T12:59:03.144Z"
   },
   {
    "duration": 11,
    "start_time": "2022-08-21T12:59:03.149Z"
   },
   {
    "duration": 10,
    "start_time": "2022-08-21T12:59:03.162Z"
   },
   {
    "duration": 6,
    "start_time": "2022-08-21T12:59:03.173Z"
   },
   {
    "duration": 37,
    "start_time": "2022-08-21T12:59:03.180Z"
   },
   {
    "duration": 25,
    "start_time": "2022-08-21T12:59:03.218Z"
   },
   {
    "duration": 269,
    "start_time": "2022-08-21T12:59:03.245Z"
   },
   {
    "duration": 3,
    "start_time": "2022-08-21T12:59:03.516Z"
   },
   {
    "duration": 33,
    "start_time": "2022-08-21T12:59:03.521Z"
   },
   {
    "duration": 3,
    "start_time": "2022-08-21T12:59:03.556Z"
   },
   {
    "duration": 28,
    "start_time": "2022-08-21T12:59:03.560Z"
   },
   {
    "duration": 3,
    "start_time": "2022-08-21T12:59:03.589Z"
   },
   {
    "duration": 432,
    "start_time": "2022-08-21T13:22:18.439Z"
   },
   {
    "duration": 20,
    "start_time": "2022-08-21T13:22:18.873Z"
   },
   {
    "duration": 13,
    "start_time": "2022-08-21T13:22:18.896Z"
   },
   {
    "duration": 8,
    "start_time": "2022-08-21T13:22:18.910Z"
   },
   {
    "duration": 29,
    "start_time": "2022-08-21T13:22:18.919Z"
   },
   {
    "duration": 3,
    "start_time": "2022-08-21T13:22:18.949Z"
   },
   {
    "duration": 26,
    "start_time": "2022-08-21T13:22:18.954Z"
   },
   {
    "duration": 7,
    "start_time": "2022-08-21T13:22:18.982Z"
   },
   {
    "duration": 12,
    "start_time": "2022-08-21T13:22:18.992Z"
   },
   {
    "duration": 6,
    "start_time": "2022-08-21T13:22:19.005Z"
   },
   {
    "duration": 30,
    "start_time": "2022-08-21T13:22:19.012Z"
   },
   {
    "duration": 9,
    "start_time": "2022-08-21T13:22:19.043Z"
   },
   {
    "duration": 3,
    "start_time": "2022-08-21T13:22:19.053Z"
   },
   {
    "duration": 12,
    "start_time": "2022-08-21T13:22:19.057Z"
   },
   {
    "duration": 18,
    "start_time": "2022-08-21T13:22:19.070Z"
   },
   {
    "duration": 35,
    "start_time": "2022-08-21T13:22:19.089Z"
   },
   {
    "duration": 4,
    "start_time": "2022-08-21T13:22:19.125Z"
   },
   {
    "duration": 10,
    "start_time": "2022-08-21T13:22:19.130Z"
   },
   {
    "duration": 11,
    "start_time": "2022-08-21T13:22:19.142Z"
   },
   {
    "duration": 5,
    "start_time": "2022-08-21T13:22:19.154Z"
   },
   {
    "duration": 9,
    "start_time": "2022-08-21T13:22:19.160Z"
   },
   {
    "duration": 41,
    "start_time": "2022-08-21T13:22:19.170Z"
   },
   {
    "duration": 256,
    "start_time": "2022-08-21T13:22:19.213Z"
   },
   {
    "duration": 2,
    "start_time": "2022-08-21T13:22:19.471Z"
   },
   {
    "duration": 39,
    "start_time": "2022-08-21T13:22:19.475Z"
   },
   {
    "duration": 2,
    "start_time": "2022-08-21T13:22:19.516Z"
   },
   {
    "duration": 26,
    "start_time": "2022-08-21T13:22:19.522Z"
   },
   {
    "duration": 2,
    "start_time": "2022-08-21T13:22:19.550Z"
   },
   {
    "duration": 430,
    "start_time": "2022-08-21T13:22:58.545Z"
   },
   {
    "duration": 21,
    "start_time": "2022-08-21T13:22:58.977Z"
   },
   {
    "duration": 13,
    "start_time": "2022-08-21T13:22:59.000Z"
   },
   {
    "duration": 8,
    "start_time": "2022-08-21T13:22:59.015Z"
   },
   {
    "duration": 33,
    "start_time": "2022-08-21T13:22:59.025Z"
   },
   {
    "duration": 4,
    "start_time": "2022-08-21T13:22:59.060Z"
   },
   {
    "duration": 24,
    "start_time": "2022-08-21T13:22:59.065Z"
   },
   {
    "duration": 5,
    "start_time": "2022-08-21T13:22:59.091Z"
   },
   {
    "duration": 18,
    "start_time": "2022-08-21T13:22:59.097Z"
   },
   {
    "duration": 5,
    "start_time": "2022-08-21T13:22:59.118Z"
   },
   {
    "duration": 45,
    "start_time": "2022-08-21T13:22:59.124Z"
   },
   {
    "duration": 9,
    "start_time": "2022-08-21T13:22:59.170Z"
   },
   {
    "duration": 16,
    "start_time": "2022-08-21T13:22:59.181Z"
   },
   {
    "duration": 13,
    "start_time": "2022-08-21T13:22:59.199Z"
   },
   {
    "duration": 34,
    "start_time": "2022-08-21T13:22:59.214Z"
   },
   {
    "duration": 17,
    "start_time": "2022-08-21T13:22:59.250Z"
   },
   {
    "duration": 4,
    "start_time": "2022-08-21T13:22:59.269Z"
   },
   {
    "duration": 18,
    "start_time": "2022-08-21T13:22:59.275Z"
   },
   {
    "duration": 26,
    "start_time": "2022-08-21T13:22:59.295Z"
   },
   {
    "duration": 7,
    "start_time": "2022-08-21T13:22:59.323Z"
   },
   {
    "duration": 13,
    "start_time": "2022-08-21T13:22:59.332Z"
   },
   {
    "duration": 20,
    "start_time": "2022-08-21T13:22:59.347Z"
   },
   {
    "duration": 275,
    "start_time": "2022-08-21T13:22:59.369Z"
   },
   {
    "duration": 2,
    "start_time": "2022-08-21T13:22:59.646Z"
   },
   {
    "duration": 29,
    "start_time": "2022-08-21T13:22:59.649Z"
   },
   {
    "duration": 2,
    "start_time": "2022-08-21T13:22:59.680Z"
   },
   {
    "duration": 42,
    "start_time": "2022-08-21T13:22:59.683Z"
   },
   {
    "duration": 2,
    "start_time": "2022-08-21T13:22:59.727Z"
   },
   {
    "duration": 24,
    "start_time": "2022-08-21T13:30:14.655Z"
   },
   {
    "duration": 416,
    "start_time": "2022-08-21T13:33:17.855Z"
   },
   {
    "duration": 21,
    "start_time": "2022-08-21T13:33:18.273Z"
   },
   {
    "duration": 13,
    "start_time": "2022-08-21T13:33:18.295Z"
   },
   {
    "duration": 8,
    "start_time": "2022-08-21T13:33:18.310Z"
   },
   {
    "duration": 30,
    "start_time": "2022-08-21T13:33:18.319Z"
   },
   {
    "duration": 4,
    "start_time": "2022-08-21T13:33:18.350Z"
   },
   {
    "duration": 11,
    "start_time": "2022-08-21T13:33:18.355Z"
   },
   {
    "duration": 5,
    "start_time": "2022-08-21T13:33:18.367Z"
   },
   {
    "duration": 8,
    "start_time": "2022-08-21T13:33:18.373Z"
   },
   {
    "duration": 3,
    "start_time": "2022-08-21T13:33:18.384Z"
   },
   {
    "duration": 54,
    "start_time": "2022-08-21T13:33:18.388Z"
   },
   {
    "duration": 8,
    "start_time": "2022-08-21T13:33:18.443Z"
   },
   {
    "duration": 4,
    "start_time": "2022-08-21T13:33:18.452Z"
   },
   {
    "duration": 12,
    "start_time": "2022-08-21T13:33:18.457Z"
   },
   {
    "duration": 21,
    "start_time": "2022-08-21T13:33:18.470Z"
   },
   {
    "duration": 16,
    "start_time": "2022-08-21T13:33:18.511Z"
   },
   {
    "duration": 3,
    "start_time": "2022-08-21T13:33:18.529Z"
   },
   {
    "duration": 13,
    "start_time": "2022-08-21T13:33:18.533Z"
   },
   {
    "duration": 5,
    "start_time": "2022-08-21T13:33:18.548Z"
   },
   {
    "duration": 4,
    "start_time": "2022-08-21T13:33:18.554Z"
   },
   {
    "duration": 9,
    "start_time": "2022-08-21T13:33:18.559Z"
   },
   {
    "duration": 48,
    "start_time": "2022-08-21T13:33:18.569Z"
   },
   {
    "duration": 275,
    "start_time": "2022-08-21T13:33:18.618Z"
   },
   {
    "duration": 2,
    "start_time": "2022-08-21T13:33:18.895Z"
   },
   {
    "duration": 37,
    "start_time": "2022-08-21T13:33:18.898Z"
   },
   {
    "duration": 3,
    "start_time": "2022-08-21T13:33:18.936Z"
   },
   {
    "duration": 29,
    "start_time": "2022-08-21T13:33:18.940Z"
   },
   {
    "duration": 1,
    "start_time": "2022-08-21T13:33:18.972Z"
   },
   {
    "duration": 439,
    "start_time": "2022-08-21T14:15:34.650Z"
   },
   {
    "duration": 20,
    "start_time": "2022-08-21T14:15:35.091Z"
   },
   {
    "duration": 33,
    "start_time": "2022-08-21T14:15:35.112Z"
   },
   {
    "duration": 7,
    "start_time": "2022-08-21T14:15:35.147Z"
   },
   {
    "duration": 29,
    "start_time": "2022-08-21T14:15:35.156Z"
   },
   {
    "duration": 3,
    "start_time": "2022-08-21T14:15:35.186Z"
   },
   {
    "duration": 10,
    "start_time": "2022-08-21T14:15:35.191Z"
   },
   {
    "duration": 9,
    "start_time": "2022-08-21T14:15:35.202Z"
   },
   {
    "duration": 7,
    "start_time": "2022-08-21T14:15:35.212Z"
   },
   {
    "duration": 10,
    "start_time": "2022-08-21T14:15:35.221Z"
   },
   {
    "duration": 30,
    "start_time": "2022-08-21T14:15:35.232Z"
   },
   {
    "duration": 9,
    "start_time": "2022-08-21T14:15:35.263Z"
   },
   {
    "duration": 9,
    "start_time": "2022-08-21T14:15:35.273Z"
   },
   {
    "duration": 11,
    "start_time": "2022-08-21T14:15:35.284Z"
   },
   {
    "duration": 42,
    "start_time": "2022-08-21T14:15:35.296Z"
   },
   {
    "duration": 15,
    "start_time": "2022-08-21T14:15:35.339Z"
   },
   {
    "duration": 3,
    "start_time": "2022-08-21T14:15:35.355Z"
   },
   {
    "duration": 10,
    "start_time": "2022-08-21T14:15:35.360Z"
   },
   {
    "duration": 15,
    "start_time": "2022-08-21T14:15:35.371Z"
   },
   {
    "duration": 3,
    "start_time": "2022-08-21T14:15:35.387Z"
   },
   {
    "duration": 12,
    "start_time": "2022-08-21T14:15:35.391Z"
   },
   {
    "duration": 26,
    "start_time": "2022-08-21T14:15:35.404Z"
   },
   {
    "duration": 299,
    "start_time": "2022-08-21T14:15:35.432Z"
   },
   {
    "duration": 2,
    "start_time": "2022-08-21T14:15:35.733Z"
   },
   {
    "duration": 30,
    "start_time": "2022-08-21T14:15:35.736Z"
   },
   {
    "duration": 3,
    "start_time": "2022-08-21T14:15:35.767Z"
   },
   {
    "duration": 40,
    "start_time": "2022-08-21T14:15:35.771Z"
   },
   {
    "duration": 3,
    "start_time": "2022-08-21T14:15:35.813Z"
   },
   {
    "duration": 431,
    "start_time": "2022-08-21T14:34:26.455Z"
   },
   {
    "duration": 21,
    "start_time": "2022-08-21T14:34:26.887Z"
   },
   {
    "duration": 13,
    "start_time": "2022-08-21T14:34:26.910Z"
   },
   {
    "duration": 8,
    "start_time": "2022-08-21T14:34:26.925Z"
   },
   {
    "duration": 30,
    "start_time": "2022-08-21T14:34:26.935Z"
   },
   {
    "duration": 4,
    "start_time": "2022-08-21T14:34:26.967Z"
   },
   {
    "duration": 11,
    "start_time": "2022-08-21T14:34:26.973Z"
   },
   {
    "duration": 27,
    "start_time": "2022-08-21T14:34:26.986Z"
   },
   {
    "duration": 9,
    "start_time": "2022-08-21T14:34:27.015Z"
   },
   {
    "duration": 4,
    "start_time": "2022-08-21T14:34:27.027Z"
   },
   {
    "duration": 31,
    "start_time": "2022-08-21T14:34:27.033Z"
   },
   {
    "duration": 10,
    "start_time": "2022-08-21T14:34:27.065Z"
   },
   {
    "duration": 35,
    "start_time": "2022-08-21T14:34:27.077Z"
   },
   {
    "duration": 12,
    "start_time": "2022-08-21T14:34:27.114Z"
   },
   {
    "duration": 19,
    "start_time": "2022-08-21T14:34:27.127Z"
   },
   {
    "duration": 16,
    "start_time": "2022-08-21T14:34:27.148Z"
   },
   {
    "duration": 4,
    "start_time": "2022-08-21T14:34:27.166Z"
   },
   {
    "duration": 12,
    "start_time": "2022-08-21T14:34:27.171Z"
   },
   {
    "duration": 6,
    "start_time": "2022-08-21T14:34:27.210Z"
   },
   {
    "duration": 4,
    "start_time": "2022-08-21T14:34:27.217Z"
   },
   {
    "duration": 12,
    "start_time": "2022-08-21T14:34:27.222Z"
   },
   {
    "duration": 19,
    "start_time": "2022-08-21T14:34:27.235Z"
   },
   {
    "duration": 278,
    "start_time": "2022-08-21T14:34:27.255Z"
   },
   {
    "duration": 3,
    "start_time": "2022-08-21T14:34:27.534Z"
   },
   {
    "duration": 50,
    "start_time": "2022-08-21T14:34:27.538Z"
   },
   {
    "duration": 3,
    "start_time": "2022-08-21T14:34:27.589Z"
   },
   {
    "duration": 31,
    "start_time": "2022-08-21T14:34:27.593Z"
   },
   {
    "duration": 3,
    "start_time": "2022-08-21T14:34:27.627Z"
   },
   {
    "duration": 34,
    "start_time": "2022-08-21T14:34:27.632Z"
   },
   {
    "duration": 444,
    "start_time": "2022-08-21T14:34:44.440Z"
   },
   {
    "duration": 20,
    "start_time": "2022-08-21T14:34:44.886Z"
   },
   {
    "duration": 15,
    "start_time": "2022-08-21T14:34:44.907Z"
   },
   {
    "duration": 8,
    "start_time": "2022-08-21T14:34:44.924Z"
   },
   {
    "duration": 33,
    "start_time": "2022-08-21T14:34:44.933Z"
   },
   {
    "duration": 3,
    "start_time": "2022-08-21T14:34:44.967Z"
   },
   {
    "duration": 13,
    "start_time": "2022-08-21T14:34:44.971Z"
   },
   {
    "duration": 3,
    "start_time": "2022-08-21T14:34:44.986Z"
   },
   {
    "duration": 23,
    "start_time": "2022-08-21T14:34:44.991Z"
   },
   {
    "duration": 4,
    "start_time": "2022-08-21T14:34:45.017Z"
   },
   {
    "duration": 37,
    "start_time": "2022-08-21T14:34:45.022Z"
   },
   {
    "duration": 9,
    "start_time": "2022-08-21T14:34:45.060Z"
   },
   {
    "duration": 7,
    "start_time": "2022-08-21T14:34:45.070Z"
   },
   {
    "duration": 15,
    "start_time": "2022-08-21T14:34:45.078Z"
   },
   {
    "duration": 31,
    "start_time": "2022-08-21T14:34:45.094Z"
   },
   {
    "duration": 17,
    "start_time": "2022-08-21T14:34:45.127Z"
   },
   {
    "duration": 4,
    "start_time": "2022-08-21T14:34:45.145Z"
   },
   {
    "duration": 10,
    "start_time": "2022-08-21T14:34:45.151Z"
   },
   {
    "duration": 8,
    "start_time": "2022-08-21T14:34:45.163Z"
   },
   {
    "duration": 5,
    "start_time": "2022-08-21T14:34:45.172Z"
   },
   {
    "duration": 12,
    "start_time": "2022-08-21T14:34:45.179Z"
   },
   {
    "duration": 17,
    "start_time": "2022-08-21T14:34:45.211Z"
   },
   {
    "duration": 340,
    "start_time": "2022-08-21T14:34:45.230Z"
   },
   {
    "duration": 2,
    "start_time": "2022-08-21T14:34:45.572Z"
   },
   {
    "duration": 38,
    "start_time": "2022-08-21T14:34:45.575Z"
   },
   {
    "duration": 2,
    "start_time": "2022-08-21T14:34:45.615Z"
   },
   {
    "duration": 27,
    "start_time": "2022-08-21T14:34:45.618Z"
   },
   {
    "duration": 2,
    "start_time": "2022-08-21T14:34:45.647Z"
   },
   {
    "duration": 31,
    "start_time": "2022-08-21T14:34:45.650Z"
   },
   {
    "duration": 413,
    "start_time": "2022-08-21T14:47:47.268Z"
   },
   {
    "duration": 21,
    "start_time": "2022-08-21T14:47:47.682Z"
   },
   {
    "duration": 31,
    "start_time": "2022-08-21T14:47:47.704Z"
   },
   {
    "duration": 32,
    "start_time": "2022-08-21T14:47:47.736Z"
   },
   {
    "duration": 39,
    "start_time": "2022-08-21T14:47:47.769Z"
   },
   {
    "duration": 3,
    "start_time": "2022-08-21T14:47:47.810Z"
   },
   {
    "duration": 38,
    "start_time": "2022-08-21T14:47:47.814Z"
   },
   {
    "duration": 23,
    "start_time": "2022-08-21T14:47:47.854Z"
   },
   {
    "duration": 44,
    "start_time": "2022-08-21T14:47:47.878Z"
   },
   {
    "duration": 32,
    "start_time": "2022-08-21T14:47:47.924Z"
   },
   {
    "duration": 46,
    "start_time": "2022-08-21T14:47:47.957Z"
   },
   {
    "duration": 10,
    "start_time": "2022-08-21T14:47:48.004Z"
   },
   {
    "duration": 28,
    "start_time": "2022-08-21T14:47:48.016Z"
   },
   {
    "duration": 21,
    "start_time": "2022-08-21T14:47:48.045Z"
   },
   {
    "duration": 52,
    "start_time": "2022-08-21T14:47:48.067Z"
   },
   {
    "duration": 41,
    "start_time": "2022-08-21T14:47:48.120Z"
   },
   {
    "duration": 8,
    "start_time": "2022-08-21T14:47:48.163Z"
   },
   {
    "duration": 39,
    "start_time": "2022-08-21T14:47:48.173Z"
   },
   {
    "duration": 24,
    "start_time": "2022-08-21T14:47:48.213Z"
   },
   {
    "duration": 36,
    "start_time": "2022-08-21T14:47:48.238Z"
   },
   {
    "duration": 34,
    "start_time": "2022-08-21T14:47:48.275Z"
   },
   {
    "duration": 38,
    "start_time": "2022-08-21T14:47:48.311Z"
   },
   {
    "duration": 275,
    "start_time": "2022-08-21T14:47:48.350Z"
   },
   {
    "duration": 2,
    "start_time": "2022-08-21T14:47:48.626Z"
   },
   {
    "duration": 60,
    "start_time": "2022-08-21T14:47:48.629Z"
   },
   {
    "duration": 8,
    "start_time": "2022-08-21T14:47:48.690Z"
   },
   {
    "duration": 47,
    "start_time": "2022-08-21T14:47:48.699Z"
   },
   {
    "duration": 10,
    "start_time": "2022-08-21T14:47:48.750Z"
   },
   {
    "duration": 61,
    "start_time": "2022-08-21T14:47:48.761Z"
   },
   {
    "duration": 477,
    "start_time": "2022-08-21T15:05:48.809Z"
   },
   {
    "duration": 20,
    "start_time": "2022-08-21T15:05:49.288Z"
   },
   {
    "duration": 13,
    "start_time": "2022-08-21T15:05:49.310Z"
   },
   {
    "duration": 8,
    "start_time": "2022-08-21T15:05:49.325Z"
   },
   {
    "duration": 31,
    "start_time": "2022-08-21T15:05:49.334Z"
   },
   {
    "duration": 4,
    "start_time": "2022-08-21T15:05:49.366Z"
   },
   {
    "duration": 14,
    "start_time": "2022-08-21T15:05:49.371Z"
   },
   {
    "duration": 25,
    "start_time": "2022-08-21T15:05:49.387Z"
   },
   {
    "duration": 7,
    "start_time": "2022-08-21T15:05:49.414Z"
   },
   {
    "duration": 4,
    "start_time": "2022-08-21T15:05:49.424Z"
   },
   {
    "duration": 53,
    "start_time": "2022-08-21T15:05:49.429Z"
   },
   {
    "duration": 8,
    "start_time": "2022-08-21T15:05:49.483Z"
   },
   {
    "duration": 8,
    "start_time": "2022-08-21T15:05:49.492Z"
   },
   {
    "duration": 20,
    "start_time": "2022-08-21T15:05:49.501Z"
   },
   {
    "duration": 21,
    "start_time": "2022-08-21T15:05:49.522Z"
   },
   {
    "duration": 16,
    "start_time": "2022-08-21T15:05:49.545Z"
   },
   {
    "duration": 3,
    "start_time": "2022-08-21T15:05:49.562Z"
   },
   {
    "duration": 13,
    "start_time": "2022-08-21T15:05:49.566Z"
   },
   {
    "duration": 8,
    "start_time": "2022-08-21T15:05:49.581Z"
   },
   {
    "duration": 21,
    "start_time": "2022-08-21T15:05:49.591Z"
   },
   {
    "duration": 11,
    "start_time": "2022-08-21T15:05:49.613Z"
   },
   {
    "duration": 20,
    "start_time": "2022-08-21T15:05:49.626Z"
   },
   {
    "duration": 284,
    "start_time": "2022-08-21T15:05:49.648Z"
   },
   {
    "duration": 3,
    "start_time": "2022-08-21T15:05:49.934Z"
   },
   {
    "duration": 28,
    "start_time": "2022-08-21T15:05:49.939Z"
   },
   {
    "duration": 3,
    "start_time": "2022-08-21T15:05:49.969Z"
   },
   {
    "duration": 47,
    "start_time": "2022-08-21T15:05:49.973Z"
   },
   {
    "duration": 2,
    "start_time": "2022-08-21T15:05:50.024Z"
   },
   {
    "duration": 32,
    "start_time": "2022-08-21T15:05:50.027Z"
   },
   {
    "duration": 492,
    "start_time": "2022-08-21T15:12:06.788Z"
   },
   {
    "duration": 21,
    "start_time": "2022-08-21T15:12:07.282Z"
   },
   {
    "duration": 20,
    "start_time": "2022-08-21T15:12:07.305Z"
   },
   {
    "duration": 13,
    "start_time": "2022-08-21T15:12:07.328Z"
   },
   {
    "duration": 36,
    "start_time": "2022-08-21T15:12:07.342Z"
   },
   {
    "duration": 3,
    "start_time": "2022-08-21T15:12:07.379Z"
   },
   {
    "duration": 14,
    "start_time": "2022-08-21T15:12:07.383Z"
   },
   {
    "duration": 9,
    "start_time": "2022-08-21T15:12:07.398Z"
   },
   {
    "duration": 15,
    "start_time": "2022-08-21T15:12:07.408Z"
   },
   {
    "duration": 10,
    "start_time": "2022-08-21T15:12:07.427Z"
   },
   {
    "duration": 48,
    "start_time": "2022-08-21T15:12:07.438Z"
   },
   {
    "duration": 8,
    "start_time": "2022-08-21T15:12:07.487Z"
   },
   {
    "duration": 17,
    "start_time": "2022-08-21T15:12:07.496Z"
   },
   {
    "duration": 21,
    "start_time": "2022-08-21T15:12:07.514Z"
   },
   {
    "duration": 28,
    "start_time": "2022-08-21T15:12:07.537Z"
   },
   {
    "duration": 16,
    "start_time": "2022-08-21T15:12:07.566Z"
   },
   {
    "duration": 3,
    "start_time": "2022-08-21T15:12:07.584Z"
   },
   {
    "duration": 21,
    "start_time": "2022-08-21T15:12:07.589Z"
   },
   {
    "duration": 15,
    "start_time": "2022-08-21T15:12:07.611Z"
   },
   {
    "duration": 15,
    "start_time": "2022-08-21T15:12:07.628Z"
   },
   {
    "duration": 25,
    "start_time": "2022-08-21T15:12:07.644Z"
   },
   {
    "duration": 30,
    "start_time": "2022-08-21T15:12:07.671Z"
   },
   {
    "duration": 268,
    "start_time": "2022-08-21T15:12:07.702Z"
   },
   {
    "duration": 2,
    "start_time": "2022-08-21T15:12:07.972Z"
   },
   {
    "duration": 36,
    "start_time": "2022-08-21T15:12:07.975Z"
   },
   {
    "duration": 3,
    "start_time": "2022-08-21T15:12:08.013Z"
   },
   {
    "duration": 36,
    "start_time": "2022-08-21T15:12:08.018Z"
   },
   {
    "duration": 4,
    "start_time": "2022-08-21T15:12:08.056Z"
   },
   {
    "duration": 49,
    "start_time": "2022-08-21T15:12:08.061Z"
   },
   {
    "duration": 432,
    "start_time": "2022-08-21T15:12:14.940Z"
   },
   {
    "duration": 62,
    "start_time": "2022-08-21T15:12:15.373Z"
   },
   {
    "duration": 32,
    "start_time": "2022-08-21T15:12:15.436Z"
   },
   {
    "duration": 9,
    "start_time": "2022-08-21T15:12:15.470Z"
   },
   {
    "duration": 30,
    "start_time": "2022-08-21T15:12:15.480Z"
   },
   {
    "duration": 3,
    "start_time": "2022-08-21T15:12:15.511Z"
   },
   {
    "duration": 38,
    "start_time": "2022-08-21T15:12:15.515Z"
   },
   {
    "duration": 21,
    "start_time": "2022-08-21T15:12:15.555Z"
   },
   {
    "duration": 20,
    "start_time": "2022-08-21T15:12:15.578Z"
   },
   {
    "duration": 14,
    "start_time": "2022-08-21T15:12:15.601Z"
   },
   {
    "duration": 63,
    "start_time": "2022-08-21T15:12:15.616Z"
   },
   {
    "duration": 8,
    "start_time": "2022-08-21T15:12:15.680Z"
   },
   {
    "duration": 11,
    "start_time": "2022-08-21T15:12:15.689Z"
   },
   {
    "duration": 37,
    "start_time": "2022-08-21T15:12:15.701Z"
   },
   {
    "duration": 38,
    "start_time": "2022-08-21T15:12:15.739Z"
   },
   {
    "duration": 15,
    "start_time": "2022-08-21T15:12:15.779Z"
   },
   {
    "duration": 9,
    "start_time": "2022-08-21T15:12:15.796Z"
   },
   {
    "duration": 23,
    "start_time": "2022-08-21T15:12:15.806Z"
   },
   {
    "duration": 10,
    "start_time": "2022-08-21T15:12:15.830Z"
   },
   {
    "duration": 7,
    "start_time": "2022-08-21T15:12:15.842Z"
   },
   {
    "duration": 24,
    "start_time": "2022-08-21T15:12:15.851Z"
   },
   {
    "duration": 26,
    "start_time": "2022-08-21T15:12:15.877Z"
   },
   {
    "duration": 289,
    "start_time": "2022-08-21T15:12:15.905Z"
   },
   {
    "duration": 2,
    "start_time": "2022-08-21T15:12:16.196Z"
   },
   {
    "duration": 39,
    "start_time": "2022-08-21T15:12:16.199Z"
   },
   {
    "duration": 19,
    "start_time": "2022-08-21T15:12:16.240Z"
   },
   {
    "duration": 48,
    "start_time": "2022-08-21T15:12:16.260Z"
   },
   {
    "duration": 2,
    "start_time": "2022-08-21T15:12:16.311Z"
   },
   {
    "duration": 33,
    "start_time": "2022-08-21T15:12:16.314Z"
   },
   {
    "duration": 487,
    "start_time": "2022-08-21T16:10:12.984Z"
   },
   {
    "duration": 20,
    "start_time": "2022-08-21T16:10:13.473Z"
   },
   {
    "duration": 17,
    "start_time": "2022-08-21T16:10:13.495Z"
   },
   {
    "duration": 9,
    "start_time": "2022-08-21T16:10:13.514Z"
   },
   {
    "duration": 30,
    "start_time": "2022-08-21T16:10:13.525Z"
   },
   {
    "duration": 3,
    "start_time": "2022-08-21T16:10:13.557Z"
   },
   {
    "duration": 10,
    "start_time": "2022-08-21T16:10:13.562Z"
   },
   {
    "duration": 4,
    "start_time": "2022-08-21T16:10:13.574Z"
   },
   {
    "duration": 8,
    "start_time": "2022-08-21T16:10:13.611Z"
   },
   {
    "duration": 4,
    "start_time": "2022-08-21T16:10:13.623Z"
   },
   {
    "duration": 33,
    "start_time": "2022-08-21T16:10:13.628Z"
   },
   {
    "duration": 10,
    "start_time": "2022-08-21T16:10:13.663Z"
   },
   {
    "duration": 4,
    "start_time": "2022-08-21T16:10:13.675Z"
   },
   {
    "duration": 41,
    "start_time": "2022-08-21T16:10:13.680Z"
   },
   {
    "duration": 20,
    "start_time": "2022-08-21T16:10:13.722Z"
   },
   {
    "duration": 16,
    "start_time": "2022-08-21T16:10:13.743Z"
   },
   {
    "duration": 3,
    "start_time": "2022-08-21T16:10:13.760Z"
   },
   {
    "duration": 17,
    "start_time": "2022-08-21T16:10:13.765Z"
   },
   {
    "duration": 7,
    "start_time": "2022-08-21T16:10:13.783Z"
   },
   {
    "duration": 20,
    "start_time": "2022-08-21T16:10:13.792Z"
   },
   {
    "duration": 9,
    "start_time": "2022-08-21T16:10:13.813Z"
   },
   {
    "duration": 19,
    "start_time": "2022-08-21T16:10:13.824Z"
   },
   {
    "duration": 278,
    "start_time": "2022-08-21T16:10:13.844Z"
   },
   {
    "duration": 3,
    "start_time": "2022-08-21T16:10:14.123Z"
   },
   {
    "duration": 33,
    "start_time": "2022-08-21T16:10:14.127Z"
   },
   {
    "duration": 2,
    "start_time": "2022-08-21T16:10:14.161Z"
   },
   {
    "duration": 32,
    "start_time": "2022-08-21T16:10:14.164Z"
   },
   {
    "duration": 13,
    "start_time": "2022-08-21T16:10:14.198Z"
   },
   {
    "duration": 30,
    "start_time": "2022-08-21T16:10:14.213Z"
   },
   {
    "duration": 408,
    "start_time": "2022-08-21T16:40:47.162Z"
   },
   {
    "duration": 20,
    "start_time": "2022-08-21T16:40:47.572Z"
   },
   {
    "duration": 13,
    "start_time": "2022-08-21T16:40:47.593Z"
   },
   {
    "duration": 21,
    "start_time": "2022-08-21T16:40:47.608Z"
   },
   {
    "duration": 38,
    "start_time": "2022-08-21T16:40:47.630Z"
   },
   {
    "duration": 3,
    "start_time": "2022-08-21T16:40:47.670Z"
   },
   {
    "duration": 10,
    "start_time": "2022-08-21T16:40:47.674Z"
   },
   {
    "duration": 4,
    "start_time": "2022-08-21T16:40:47.685Z"
   },
   {
    "duration": 13,
    "start_time": "2022-08-21T16:40:47.690Z"
   },
   {
    "duration": 6,
    "start_time": "2022-08-21T16:40:47.705Z"
   },
   {
    "duration": 28,
    "start_time": "2022-08-21T16:40:47.712Z"
   },
   {
    "duration": 8,
    "start_time": "2022-08-21T16:40:47.742Z"
   },
   {
    "duration": 6,
    "start_time": "2022-08-21T16:40:47.751Z"
   },
   {
    "duration": 11,
    "start_time": "2022-08-21T16:40:47.758Z"
   },
   {
    "duration": 41,
    "start_time": "2022-08-21T16:40:47.770Z"
   },
   {
    "duration": 17,
    "start_time": "2022-08-21T16:40:47.812Z"
   },
   {
    "duration": 3,
    "start_time": "2022-08-21T16:40:47.830Z"
   },
   {
    "duration": 13,
    "start_time": "2022-08-21T16:40:47.835Z"
   },
   {
    "duration": 9,
    "start_time": "2022-08-21T16:40:47.849Z"
   },
   {
    "duration": 13,
    "start_time": "2022-08-21T16:40:47.860Z"
   },
   {
    "duration": 11,
    "start_time": "2022-08-21T16:40:47.874Z"
   },
   {
    "duration": 34,
    "start_time": "2022-08-21T16:40:47.886Z"
   },
   {
    "duration": 272,
    "start_time": "2022-08-21T16:40:47.922Z"
   },
   {
    "duration": 2,
    "start_time": "2022-08-21T16:40:48.196Z"
   },
   {
    "duration": 32,
    "start_time": "2022-08-21T16:40:48.199Z"
   },
   {
    "duration": 2,
    "start_time": "2022-08-21T16:40:48.232Z"
   },
   {
    "duration": 27,
    "start_time": "2022-08-21T16:40:48.235Z"
   },
   {
    "duration": 2,
    "start_time": "2022-08-21T16:40:48.265Z"
   },
   {
    "duration": 43,
    "start_time": "2022-08-21T16:40:48.268Z"
   },
   {
    "duration": 457,
    "start_time": "2022-08-21T16:58:10.412Z"
   },
   {
    "duration": 20,
    "start_time": "2022-08-21T16:58:10.871Z"
   },
   {
    "duration": 13,
    "start_time": "2022-08-21T16:58:10.892Z"
   },
   {
    "duration": 8,
    "start_time": "2022-08-21T16:58:10.906Z"
   },
   {
    "duration": 29,
    "start_time": "2022-08-21T16:58:10.915Z"
   },
   {
    "duration": 3,
    "start_time": "2022-08-21T16:58:10.946Z"
   },
   {
    "duration": 8,
    "start_time": "2022-08-21T16:58:10.950Z"
   },
   {
    "duration": 4,
    "start_time": "2022-08-21T16:58:10.959Z"
   },
   {
    "duration": 8,
    "start_time": "2022-08-21T16:58:10.965Z"
   },
   {
    "duration": 3,
    "start_time": "2022-08-21T16:58:10.976Z"
   },
   {
    "duration": 57,
    "start_time": "2022-08-21T16:58:10.981Z"
   },
   {
    "duration": 10,
    "start_time": "2022-08-21T16:58:11.039Z"
   },
   {
    "duration": 3,
    "start_time": "2022-08-21T16:58:11.051Z"
   },
   {
    "duration": 10,
    "start_time": "2022-08-21T16:58:11.056Z"
   },
   {
    "duration": 43,
    "start_time": "2022-08-21T16:58:11.068Z"
   },
   {
    "duration": 17,
    "start_time": "2022-08-21T16:58:11.113Z"
   },
   {
    "duration": 5,
    "start_time": "2022-08-21T16:58:11.131Z"
   },
   {
    "duration": 12,
    "start_time": "2022-08-21T16:58:11.137Z"
   },
   {
    "duration": 6,
    "start_time": "2022-08-21T16:58:11.151Z"
   },
   {
    "duration": 3,
    "start_time": "2022-08-21T16:58:11.159Z"
   },
   {
    "duration": 12,
    "start_time": "2022-08-21T16:58:11.163Z"
   },
   {
    "duration": 46,
    "start_time": "2022-08-21T16:58:11.177Z"
   },
   {
    "duration": 278,
    "start_time": "2022-08-21T16:58:11.224Z"
   },
   {
    "duration": 2,
    "start_time": "2022-08-21T16:58:11.504Z"
   },
   {
    "duration": 30,
    "start_time": "2022-08-21T16:58:11.511Z"
   },
   {
    "duration": 2,
    "start_time": "2022-08-21T16:58:11.542Z"
   },
   {
    "duration": 26,
    "start_time": "2022-08-21T16:58:11.546Z"
   },
   {
    "duration": 3,
    "start_time": "2022-08-21T16:58:11.575Z"
   },
   {
    "duration": 50,
    "start_time": "2022-08-21T16:58:11.580Z"
   },
   {
    "duration": 471,
    "start_time": "2022-08-21T16:59:27.353Z"
   },
   {
    "duration": 20,
    "start_time": "2022-08-21T16:59:27.826Z"
   },
   {
    "duration": 13,
    "start_time": "2022-08-21T16:59:27.847Z"
   },
   {
    "duration": 9,
    "start_time": "2022-08-21T16:59:27.862Z"
   },
   {
    "duration": 50,
    "start_time": "2022-08-21T16:59:27.872Z"
   },
   {
    "duration": 3,
    "start_time": "2022-08-21T16:59:27.924Z"
   },
   {
    "duration": 10,
    "start_time": "2022-08-21T16:59:27.928Z"
   },
   {
    "duration": 5,
    "start_time": "2022-08-21T16:59:27.939Z"
   },
   {
    "duration": 10,
    "start_time": "2022-08-21T16:59:27.945Z"
   },
   {
    "duration": 4,
    "start_time": "2022-08-21T16:59:27.957Z"
   },
   {
    "duration": 52,
    "start_time": "2022-08-21T16:59:27.963Z"
   },
   {
    "duration": 8,
    "start_time": "2022-08-21T16:59:28.017Z"
   },
   {
    "duration": 4,
    "start_time": "2022-08-21T16:59:28.026Z"
   },
   {
    "duration": 13,
    "start_time": "2022-08-21T16:59:28.031Z"
   },
   {
    "duration": 22,
    "start_time": "2022-08-21T16:59:28.045Z"
   },
   {
    "duration": 16,
    "start_time": "2022-08-21T16:59:28.068Z"
   },
   {
    "duration": 3,
    "start_time": "2022-08-21T16:59:28.085Z"
   },
   {
    "duration": 9,
    "start_time": "2022-08-21T16:59:28.111Z"
   },
   {
    "duration": 8,
    "start_time": "2022-08-21T16:59:28.122Z"
   },
   {
    "duration": 4,
    "start_time": "2022-08-21T16:59:28.132Z"
   },
   {
    "duration": 12,
    "start_time": "2022-08-21T16:59:28.137Z"
   },
   {
    "duration": 19,
    "start_time": "2022-08-21T16:59:28.150Z"
   },
   {
    "duration": 290,
    "start_time": "2022-08-21T16:59:28.170Z"
   },
   {
    "duration": 2,
    "start_time": "2022-08-21T16:59:28.461Z"
   },
   {
    "duration": 32,
    "start_time": "2022-08-21T16:59:28.465Z"
   },
   {
    "duration": 13,
    "start_time": "2022-08-21T16:59:28.498Z"
   },
   {
    "duration": 28,
    "start_time": "2022-08-21T16:59:28.512Z"
   },
   {
    "duration": 2,
    "start_time": "2022-08-21T16:59:28.543Z"
   },
   {
    "duration": 37,
    "start_time": "2022-08-21T16:59:28.547Z"
   },
   {
    "duration": 601,
    "start_time": "2022-08-22T12:30:13.752Z"
   },
   {
    "duration": 28,
    "start_time": "2022-08-22T12:30:14.355Z"
   },
   {
    "duration": 16,
    "start_time": "2022-08-22T12:30:14.385Z"
   },
   {
    "duration": 11,
    "start_time": "2022-08-22T12:30:14.404Z"
   },
   {
    "duration": 64,
    "start_time": "2022-08-22T12:30:14.417Z"
   },
   {
    "duration": 4,
    "start_time": "2022-08-22T12:30:14.483Z"
   },
   {
    "duration": 11,
    "start_time": "2022-08-22T12:30:14.489Z"
   },
   {
    "duration": 4,
    "start_time": "2022-08-22T12:30:14.502Z"
   },
   {
    "duration": 16,
    "start_time": "2022-08-22T12:30:14.507Z"
   },
   {
    "duration": 4,
    "start_time": "2022-08-22T12:30:14.527Z"
   },
   {
    "duration": 58,
    "start_time": "2022-08-22T12:30:14.533Z"
   },
   {
    "duration": 9,
    "start_time": "2022-08-22T12:30:14.593Z"
   },
   {
    "duration": 11,
    "start_time": "2022-08-22T12:30:14.603Z"
   },
   {
    "duration": 17,
    "start_time": "2022-08-22T12:30:14.615Z"
   },
   {
    "duration": 23,
    "start_time": "2022-08-22T12:30:14.634Z"
   },
   {
    "duration": 29,
    "start_time": "2022-08-22T12:30:14.659Z"
   },
   {
    "duration": 4,
    "start_time": "2022-08-22T12:30:14.690Z"
   },
   {
    "duration": 12,
    "start_time": "2022-08-22T12:30:14.695Z"
   },
   {
    "duration": 6,
    "start_time": "2022-08-22T12:30:14.708Z"
   },
   {
    "duration": 4,
    "start_time": "2022-08-22T12:30:14.715Z"
   },
   {
    "duration": 12,
    "start_time": "2022-08-22T12:30:14.721Z"
   },
   {
    "duration": 59,
    "start_time": "2022-08-22T12:30:14.734Z"
   },
   {
    "duration": 547,
    "start_time": "2022-08-22T12:30:14.795Z"
   },
   {
    "duration": 3,
    "start_time": "2022-08-22T12:30:15.344Z"
   },
   {
    "duration": 50,
    "start_time": "2022-08-22T12:30:15.349Z"
   },
   {
    "duration": 2,
    "start_time": "2022-08-22T12:30:15.401Z"
   },
   {
    "duration": 32,
    "start_time": "2022-08-22T12:30:15.404Z"
   },
   {
    "duration": 3,
    "start_time": "2022-08-22T12:30:15.439Z"
   },
   {
    "duration": 59,
    "start_time": "2022-08-22T12:30:15.443Z"
   },
   {
    "duration": 537,
    "start_time": "2022-08-22T12:50:59.193Z"
   },
   {
    "duration": 28,
    "start_time": "2022-08-22T12:50:59.732Z"
   },
   {
    "duration": 23,
    "start_time": "2022-08-22T12:50:59.775Z"
   },
   {
    "duration": 18,
    "start_time": "2022-08-22T12:50:59.800Z"
   },
   {
    "duration": 48,
    "start_time": "2022-08-22T12:50:59.820Z"
   },
   {
    "duration": 5,
    "start_time": "2022-08-22T12:50:59.870Z"
   },
   {
    "duration": 20,
    "start_time": "2022-08-22T12:50:59.878Z"
   },
   {
    "duration": 9,
    "start_time": "2022-08-22T12:50:59.900Z"
   },
   {
    "duration": 35,
    "start_time": "2022-08-22T12:50:59.910Z"
   },
   {
    "duration": 5,
    "start_time": "2022-08-22T12:50:59.948Z"
   },
   {
    "duration": 51,
    "start_time": "2022-08-22T12:50:59.955Z"
   },
   {
    "duration": 10,
    "start_time": "2022-08-22T12:51:00.009Z"
   },
   {
    "duration": 11,
    "start_time": "2022-08-22T12:51:00.021Z"
   },
   {
    "duration": 25,
    "start_time": "2022-08-22T12:51:00.034Z"
   },
   {
    "duration": 37,
    "start_time": "2022-08-22T12:51:00.061Z"
   },
   {
    "duration": 26,
    "start_time": "2022-08-22T12:51:00.100Z"
   },
   {
    "duration": 4,
    "start_time": "2022-08-22T12:51:00.128Z"
   },
   {
    "duration": 38,
    "start_time": "2022-08-22T12:51:00.134Z"
   },
   {
    "duration": 10,
    "start_time": "2022-08-22T12:51:00.174Z"
   },
   {
    "duration": 11,
    "start_time": "2022-08-22T12:51:00.186Z"
   },
   {
    "duration": 16,
    "start_time": "2022-08-22T12:51:00.199Z"
   },
   {
    "duration": 53,
    "start_time": "2022-08-22T12:51:00.217Z"
   },
   {
    "duration": 418,
    "start_time": "2022-08-22T12:51:00.271Z"
   },
   {
    "duration": 4,
    "start_time": "2022-08-22T12:51:00.691Z"
   },
   {
    "duration": 45,
    "start_time": "2022-08-22T12:51:00.700Z"
   },
   {
    "duration": 3,
    "start_time": "2022-08-22T12:51:00.747Z"
   },
   {
    "duration": 77,
    "start_time": "2022-08-22T12:51:00.752Z"
   },
   {
    "duration": 3,
    "start_time": "2022-08-22T12:51:00.834Z"
   },
   {
    "duration": 54,
    "start_time": "2022-08-22T12:51:00.838Z"
   },
   {
    "duration": 526,
    "start_time": "2022-08-22T12:54:16.085Z"
   },
   {
    "duration": 30,
    "start_time": "2022-08-22T12:54:16.614Z"
   },
   {
    "duration": 41,
    "start_time": "2022-08-22T12:54:16.646Z"
   },
   {
    "duration": 33,
    "start_time": "2022-08-22T12:54:16.690Z"
   },
   {
    "duration": 52,
    "start_time": "2022-08-22T12:54:16.725Z"
   },
   {
    "duration": 6,
    "start_time": "2022-08-22T12:54:16.780Z"
   },
   {
    "duration": 30,
    "start_time": "2022-08-22T12:54:16.788Z"
   },
   {
    "duration": 6,
    "start_time": "2022-08-22T12:54:16.820Z"
   },
   {
    "duration": 18,
    "start_time": "2022-08-22T12:54:16.829Z"
   },
   {
    "duration": 10,
    "start_time": "2022-08-22T12:54:16.850Z"
   },
   {
    "duration": 80,
    "start_time": "2022-08-22T12:54:16.863Z"
   },
   {
    "duration": 13,
    "start_time": "2022-08-22T12:54:16.946Z"
   },
   {
    "duration": 35,
    "start_time": "2022-08-22T12:54:16.961Z"
   },
   {
    "duration": 31,
    "start_time": "2022-08-22T12:54:16.998Z"
   },
   {
    "duration": 33,
    "start_time": "2022-08-22T12:54:17.032Z"
   },
   {
    "duration": 31,
    "start_time": "2022-08-22T12:54:17.066Z"
   },
   {
    "duration": 11,
    "start_time": "2022-08-22T12:54:17.099Z"
   },
   {
    "duration": 21,
    "start_time": "2022-08-22T12:54:17.112Z"
   },
   {
    "duration": 18,
    "start_time": "2022-08-22T12:54:17.135Z"
   },
   {
    "duration": 33,
    "start_time": "2022-08-22T12:54:17.155Z"
   },
   {
    "duration": 25,
    "start_time": "2022-08-22T12:54:17.190Z"
   },
   {
    "duration": 27,
    "start_time": "2022-08-22T12:54:17.217Z"
   },
   {
    "duration": 397,
    "start_time": "2022-08-22T12:54:17.245Z"
   },
   {
    "duration": 3,
    "start_time": "2022-08-22T12:54:17.643Z"
   },
   {
    "duration": 54,
    "start_time": "2022-08-22T12:54:17.648Z"
   },
   {
    "duration": 3,
    "start_time": "2022-08-22T12:54:17.704Z"
   },
   {
    "duration": 39,
    "start_time": "2022-08-22T12:54:17.708Z"
   },
   {
    "duration": 3,
    "start_time": "2022-08-22T12:54:17.750Z"
   },
   {
    "duration": 71,
    "start_time": "2022-08-22T12:54:17.754Z"
   },
   {
    "duration": 653,
    "start_time": "2022-08-23T10:27:21.725Z"
   },
   {
    "duration": 20,
    "start_time": "2022-08-23T10:27:22.380Z"
   },
   {
    "duration": 16,
    "start_time": "2022-08-23T10:27:22.402Z"
   },
   {
    "duration": 17,
    "start_time": "2022-08-23T10:27:22.419Z"
   },
   {
    "duration": 42,
    "start_time": "2022-08-23T10:27:22.438Z"
   },
   {
    "duration": 4,
    "start_time": "2022-08-23T10:27:22.481Z"
   },
   {
    "duration": 13,
    "start_time": "2022-08-23T10:27:22.486Z"
   },
   {
    "duration": 13,
    "start_time": "2022-08-23T10:27:22.501Z"
   },
   {
    "duration": 23,
    "start_time": "2022-08-23T10:27:22.516Z"
   },
   {
    "duration": 4,
    "start_time": "2022-08-23T10:27:22.544Z"
   },
   {
    "duration": 47,
    "start_time": "2022-08-23T10:27:22.550Z"
   },
   {
    "duration": 11,
    "start_time": "2022-08-23T10:27:22.601Z"
   },
   {
    "duration": 9,
    "start_time": "2022-08-23T10:27:22.614Z"
   },
   {
    "duration": 20,
    "start_time": "2022-08-23T10:27:22.624Z"
   },
   {
    "duration": 36,
    "start_time": "2022-08-23T10:27:22.646Z"
   },
   {
    "duration": 38,
    "start_time": "2022-08-23T10:27:22.684Z"
   },
   {
    "duration": 3,
    "start_time": "2022-08-23T10:27:22.724Z"
   },
   {
    "duration": 18,
    "start_time": "2022-08-23T10:27:22.729Z"
   },
   {
    "duration": 20,
    "start_time": "2022-08-23T10:27:22.748Z"
   },
   {
    "duration": 8,
    "start_time": "2022-08-23T10:27:22.770Z"
   },
   {
    "duration": 26,
    "start_time": "2022-08-23T10:27:22.779Z"
   },
   {
    "duration": 28,
    "start_time": "2022-08-23T10:27:22.808Z"
   },
   {
    "duration": 437,
    "start_time": "2022-08-23T10:27:22.838Z"
   },
   {
    "duration": 2,
    "start_time": "2022-08-23T10:27:23.277Z"
   },
   {
    "duration": 45,
    "start_time": "2022-08-23T10:27:23.281Z"
   },
   {
    "duration": 2,
    "start_time": "2022-08-23T10:27:23.328Z"
   },
   {
    "duration": 28,
    "start_time": "2022-08-23T10:27:23.331Z"
   },
   {
    "duration": 2,
    "start_time": "2022-08-23T10:27:23.362Z"
   },
   {
    "duration": 45,
    "start_time": "2022-08-23T10:27:23.365Z"
   }
  ],
  "colab": {
   "name": "dpp_template_part2.ipynb",
   "provenance": []
  },
  "kernelspec": {
   "display_name": "Python 3 (ipykernel)",
   "language": "python",
   "name": "python3"
  },
  "language_info": {
   "codemirror_mode": {
    "name": "ipython",
    "version": 3
   },
   "file_extension": ".py",
   "mimetype": "text/x-python",
   "name": "python",
   "nbconvert_exporter": "python",
   "pygments_lexer": "ipython3",
   "version": "3.10.11"
  },
  "toc": {
   "base_numbering": 1,
   "nav_menu": {},
   "number_sections": true,
   "sideBar": true,
   "skip_h1_title": true,
   "title_cell": "Table of Contents",
   "title_sidebar": "Contents",
   "toc_cell": false,
   "toc_position": {},
   "toc_section_display": true,
   "toc_window_display": true
  }
 },
 "nbformat": 4,
 "nbformat_minor": 5
}
