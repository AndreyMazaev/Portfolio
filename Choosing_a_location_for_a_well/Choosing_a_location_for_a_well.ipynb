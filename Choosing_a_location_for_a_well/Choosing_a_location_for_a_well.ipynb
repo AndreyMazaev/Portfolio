{
 "cells": [
  {
   "cell_type": "markdown",
   "metadata": {},
   "source": [
    "# Выбор локации для скважины"
   ]
  },
  {
   "cell_type": "markdown",
   "metadata": {},
   "source": [
    "Допустим, вы работаете в добывающей компании «ГлавРосГосНефть». Нужно решить, где бурить новую скважину.\n",
    "\n",
    "Вам предоставлены пробы нефти в трёх регионах: в каждом 10 000 месторождений, где измерили качество нефти и объём её запасов. Постройте модель машинного обучения, которая поможет определить регион, где добыча принесёт наибольшую прибыль. Проанализируйте возможную прибыль и риски техникой *Bootstrap.*\n",
    "\n",
    "Шаги для выбора локации:\n",
    "\n",
    "- В избранном регионе ищут месторождения, для каждого определяют значения признаков;\n",
    "- Строят модель и оценивают объём запасов;\n",
    "- Выбирают месторождения с самым высокими оценками значений. Количество месторождений зависит от бюджета компании и стоимости разработки одной скважины;\n",
    "- Прибыль равна суммарной прибыли отобранных месторождений."
   ]
  },
  {
   "cell_type": "markdown",
   "metadata": {},
   "source": [
    "VVVVVVVVVVVVVVVVVVVVVVVVVVVVVVVVVVVVVVVVVVVVVVVVVVVVVVVVVVVVVVVVVVVVVVVVVVVVVVVVVVVVVVVVVVVVVVVVVVVV"
   ]
  },
  {
   "cell_type": "markdown",
   "metadata": {},
   "source": [
    "### Импорт библиотек ⬇"
   ]
  },
  {
   "cell_type": "code",
   "execution_count": 1,
   "metadata": {},
   "outputs": [],
   "source": [
    "import pandas as pd\n",
    "import seaborn as sns\n",
    "import matplotlib.pyplot as plt\n",
    "import numpy as np\n",
    "from sklearn.model_selection import train_test_split\n",
    "from sklearn.linear_model import LinearRegression\n",
    "from sklearn.preprocessing import StandardScaler\n",
    "from sklearn.metrics import mean_squared_error"
   ]
  },
  {
   "cell_type": "markdown",
   "metadata": {},
   "source": [
    "### Введём заданные переменные"
   ]
  },
  {
   "cell_type": "code",
   "execution_count": 2,
   "metadata": {},
   "outputs": [],
   "source": [
    "BUDGET = 10*10**9 # бюджет - 10_000_000\n",
    "PRICE = 450000 # цена - 450_000\n",
    "POINTS = 200 # точки для разработки 200"
   ]
  },
  {
   "cell_type": "markdown",
   "metadata": {},
   "source": [
    "## Загрузка и подготовка данных"
   ]
  },
  {
   "cell_type": "markdown",
   "metadata": {},
   "source": [
    "### Первый регоион"
   ]
  },
  {
   "cell_type": "code",
   "execution_count": 3,
   "metadata": {},
   "outputs": [
    {
     "data": {
      "text/html": [
       "<div>\n",
       "<style scoped>\n",
       "    .dataframe tbody tr th:only-of-type {\n",
       "        vertical-align: middle;\n",
       "    }\n",
       "\n",
       "    .dataframe tbody tr th {\n",
       "        vertical-align: top;\n",
       "    }\n",
       "\n",
       "    .dataframe thead th {\n",
       "        text-align: right;\n",
       "    }\n",
       "</style>\n",
       "<table border=\"1\" class=\"dataframe\">\n",
       "  <thead>\n",
       "    <tr style=\"text-align: right;\">\n",
       "      <th></th>\n",
       "      <th>id</th>\n",
       "      <th>f0</th>\n",
       "      <th>f1</th>\n",
       "      <th>f2</th>\n",
       "      <th>product</th>\n",
       "    </tr>\n",
       "  </thead>\n",
       "  <tbody>\n",
       "    <tr>\n",
       "      <th>0</th>\n",
       "      <td>txEyH</td>\n",
       "      <td>0.705745</td>\n",
       "      <td>-0.497823</td>\n",
       "      <td>1.221170</td>\n",
       "      <td>105.280062</td>\n",
       "    </tr>\n",
       "    <tr>\n",
       "      <th>1</th>\n",
       "      <td>2acmU</td>\n",
       "      <td>1.334711</td>\n",
       "      <td>-0.340164</td>\n",
       "      <td>4.365080</td>\n",
       "      <td>73.037750</td>\n",
       "    </tr>\n",
       "    <tr>\n",
       "      <th>2</th>\n",
       "      <td>409Wp</td>\n",
       "      <td>1.022732</td>\n",
       "      <td>0.151990</td>\n",
       "      <td>1.419926</td>\n",
       "      <td>85.265647</td>\n",
       "    </tr>\n",
       "    <tr>\n",
       "      <th>3</th>\n",
       "      <td>iJLyR</td>\n",
       "      <td>-0.032172</td>\n",
       "      <td>0.139033</td>\n",
       "      <td>2.978566</td>\n",
       "      <td>168.620776</td>\n",
       "    </tr>\n",
       "    <tr>\n",
       "      <th>4</th>\n",
       "      <td>Xdl7t</td>\n",
       "      <td>1.988431</td>\n",
       "      <td>0.155413</td>\n",
       "      <td>4.751769</td>\n",
       "      <td>154.036647</td>\n",
       "    </tr>\n",
       "    <tr>\n",
       "      <th>...</th>\n",
       "      <td>...</td>\n",
       "      <td>...</td>\n",
       "      <td>...</td>\n",
       "      <td>...</td>\n",
       "      <td>...</td>\n",
       "    </tr>\n",
       "    <tr>\n",
       "      <th>99995</th>\n",
       "      <td>DLsed</td>\n",
       "      <td>0.971957</td>\n",
       "      <td>0.370953</td>\n",
       "      <td>6.075346</td>\n",
       "      <td>110.744026</td>\n",
       "    </tr>\n",
       "    <tr>\n",
       "      <th>99996</th>\n",
       "      <td>QKivN</td>\n",
       "      <td>1.392429</td>\n",
       "      <td>-0.382606</td>\n",
       "      <td>1.273912</td>\n",
       "      <td>122.346843</td>\n",
       "    </tr>\n",
       "    <tr>\n",
       "      <th>99997</th>\n",
       "      <td>3rnvd</td>\n",
       "      <td>1.029585</td>\n",
       "      <td>0.018787</td>\n",
       "      <td>-1.348308</td>\n",
       "      <td>64.375443</td>\n",
       "    </tr>\n",
       "    <tr>\n",
       "      <th>99998</th>\n",
       "      <td>7kl59</td>\n",
       "      <td>0.998163</td>\n",
       "      <td>-0.528582</td>\n",
       "      <td>1.583869</td>\n",
       "      <td>74.040764</td>\n",
       "    </tr>\n",
       "    <tr>\n",
       "      <th>99999</th>\n",
       "      <td>1CWhH</td>\n",
       "      <td>1.764754</td>\n",
       "      <td>-0.266417</td>\n",
       "      <td>5.722849</td>\n",
       "      <td>149.633246</td>\n",
       "    </tr>\n",
       "  </tbody>\n",
       "</table>\n",
       "<p>100000 rows × 5 columns</p>\n",
       "</div>"
      ],
      "text/plain": [
       "          id        f0        f1        f2     product\n",
       "0      txEyH  0.705745 -0.497823  1.221170  105.280062\n",
       "1      2acmU  1.334711 -0.340164  4.365080   73.037750\n",
       "2      409Wp  1.022732  0.151990  1.419926   85.265647\n",
       "3      iJLyR -0.032172  0.139033  2.978566  168.620776\n",
       "4      Xdl7t  1.988431  0.155413  4.751769  154.036647\n",
       "...      ...       ...       ...       ...         ...\n",
       "99995  DLsed  0.971957  0.370953  6.075346  110.744026\n",
       "99996  QKivN  1.392429 -0.382606  1.273912  122.346843\n",
       "99997  3rnvd  1.029585  0.018787 -1.348308   64.375443\n",
       "99998  7kl59  0.998163 -0.528582  1.583869   74.040764\n",
       "99999  1CWhH  1.764754 -0.266417  5.722849  149.633246\n",
       "\n",
       "[100000 rows x 5 columns]"
      ]
     },
     "metadata": {},
     "output_type": "display_data"
    },
    {
     "name": "stdout",
     "output_type": "stream",
     "text": [
      "<class 'pandas.core.frame.DataFrame'>\n",
      "RangeIndex: 100000 entries, 0 to 99999\n",
      "Data columns (total 5 columns):\n",
      " #   Column   Non-Null Count   Dtype  \n",
      "---  ------   --------------   -----  \n",
      " 0   id       100000 non-null  object \n",
      " 1   f0       100000 non-null  float64\n",
      " 2   f1       100000 non-null  float64\n",
      " 3   f2       100000 non-null  float64\n",
      " 4   product  100000 non-null  float64\n",
      "dtypes: float64(4), object(1)\n",
      "memory usage: 3.8+ MB\n"
     ]
    }
   ],
   "source": [
    "df_1 = pd.read_csv('/datasets/geo_data_0.csv')\n",
    "display(df_1)\n",
    "df_1.info()"
   ]
  },
  {
   "cell_type": "markdown",
   "metadata": {},
   "source": [
    "    Все данные в норме"
   ]
  },
  {
   "cell_type": "markdown",
   "metadata": {},
   "source": [
    "#### Удалим лишний столбец"
   ]
  },
  {
   "cell_type": "markdown",
   "metadata": {},
   "source": [
    "    Для обучения модели, столбец \"id\" нам не понадобится. Удалим его."
   ]
  },
  {
   "cell_type": "code",
   "execution_count": 4,
   "metadata": {
    "scrolled": true
   },
   "outputs": [
    {
     "data": {
      "text/html": [
       "<div>\n",
       "<style scoped>\n",
       "    .dataframe tbody tr th:only-of-type {\n",
       "        vertical-align: middle;\n",
       "    }\n",
       "\n",
       "    .dataframe tbody tr th {\n",
       "        vertical-align: top;\n",
       "    }\n",
       "\n",
       "    .dataframe thead th {\n",
       "        text-align: right;\n",
       "    }\n",
       "</style>\n",
       "<table border=\"1\" class=\"dataframe\">\n",
       "  <thead>\n",
       "    <tr style=\"text-align: right;\">\n",
       "      <th></th>\n",
       "      <th>f0</th>\n",
       "      <th>f1</th>\n",
       "      <th>f2</th>\n",
       "      <th>product</th>\n",
       "    </tr>\n",
       "  </thead>\n",
       "  <tbody>\n",
       "    <tr>\n",
       "      <th>0</th>\n",
       "      <td>0.705745</td>\n",
       "      <td>-0.497823</td>\n",
       "      <td>1.22117</td>\n",
       "      <td>105.280062</td>\n",
       "    </tr>\n",
       "    <tr>\n",
       "      <th>1</th>\n",
       "      <td>1.334711</td>\n",
       "      <td>-0.340164</td>\n",
       "      <td>4.36508</td>\n",
       "      <td>73.037750</td>\n",
       "    </tr>\n",
       "  </tbody>\n",
       "</table>\n",
       "</div>"
      ],
      "text/plain": [
       "         f0        f1       f2     product\n",
       "0  0.705745 -0.497823  1.22117  105.280062\n",
       "1  1.334711 -0.340164  4.36508   73.037750"
      ]
     },
     "metadata": {},
     "output_type": "display_data"
    }
   ],
   "source": [
    "df_1 = df_1.drop(['id'], axis=1)\n",
    "display(df_1.head(2))"
   ]
  },
  {
   "cell_type": "markdown",
   "metadata": {},
   "source": [
    "#### Посмотрим зависимость данных"
   ]
  },
  {
   "cell_type": "code",
   "execution_count": 5,
   "metadata": {
    "scrolled": false
   },
   "outputs": [
    {
     "data": {
      "image/png": "[encoded data removed]",
      "text/plain": [
       "<Figure size 1008x576 with 2 Axes>"
      ]
     },
     "metadata": {
      "needs_background": "light"
     },
     "output_type": "display_data"
    }
   ],
   "source": [
    "plt.figure(figsize=(14,8));\n",
    "sns.set_theme(style=\"white\");\n",
    "corr = df_1.corr();\n",
    "heatmap = sns.heatmap(corr, annot=True, cmap=\"Blues\", fmt='.1g');"
   ]
  },
  {
   "cell_type": "markdown",
   "metadata": {},
   "source": [
    "#### Разделим данные на валидационную и тестовую выборки"
   ]
  },
  {
   "cell_type": "code",
   "execution_count": 6,
   "metadata": {},
   "outputs": [],
   "source": [
    "df_1_train, df_1_valid = train_test_split(df_1, test_size=0.25, random_state=12345) # валидационная выборка"
   ]
  },
  {
   "cell_type": "code",
   "execution_count": 7,
   "metadata": {
    "scrolled": true
   },
   "outputs": [
    {
     "name": "stdout",
     "output_type": "stream",
     "text": [
      "df_1: 100000\n",
      "train_1: 75.0 %\n",
      "valid_1: 25.0 %\n"
     ]
    }
   ],
   "source": [
    "print('df_1:', df_1.shape[0])\n",
    "print('train_1:', (df_1_train.shape[0]*100) / df_1.shape[0],'%')\n",
    "print('valid_1:', (df_1_valid.shape[0]*100) / df_1.shape[0],'%')"
   ]
  },
  {
   "cell_type": "code",
   "execution_count": 8,
   "metadata": {},
   "outputs": [],
   "source": [
    "features_train_1 = df_1_train.drop(['product'], axis=1)\n",
    "target_train_1 = df_1_train['product']\n",
    "\n",
    "features_valid_1 = df_1_valid.drop(['product'], axis=1)\n",
    "target_valid_1 = df_1_valid['product']"
   ]
  },
  {
   "cell_type": "markdown",
   "metadata": {},
   "source": [
    "#### Маштабируем признаки"
   ]
  },
  {
   "cell_type": "code",
   "execution_count": 9,
   "metadata": {},
   "outputs": [],
   "source": [
    "numeric = ['f0', 'f1', 'f2']\n",
    "scaler1 = StandardScaler()\n",
    "scaler1.fit(features_train_1[numeric])\n",
    "features_train_1[numeric] = scaler1.transform(features_train_1[numeric])\n",
    "features_valid_1[numeric] = scaler1.transform(features_valid_1[numeric])"
   ]
  },
  {
   "cell_type": "markdown",
   "metadata": {},
   "source": [
    "### Второй регоион"
   ]
  },
  {
   "cell_type": "code",
   "execution_count": 10,
   "metadata": {},
   "outputs": [
    {
     "data": {
      "text/html": [
       "<div>\n",
       "<style scoped>\n",
       "    .dataframe tbody tr th:only-of-type {\n",
       "        vertical-align: middle;\n",
       "    }\n",
       "\n",
       "    .dataframe tbody tr th {\n",
       "        vertical-align: top;\n",
       "    }\n",
       "\n",
       "    .dataframe thead th {\n",
       "        text-align: right;\n",
       "    }\n",
       "</style>\n",
       "<table border=\"1\" class=\"dataframe\">\n",
       "  <thead>\n",
       "    <tr style=\"text-align: right;\">\n",
       "      <th></th>\n",
       "      <th>id</th>\n",
       "      <th>f0</th>\n",
       "      <th>f1</th>\n",
       "      <th>f2</th>\n",
       "      <th>product</th>\n",
       "    </tr>\n",
       "  </thead>\n",
       "  <tbody>\n",
       "    <tr>\n",
       "      <th>0</th>\n",
       "      <td>kBEdx</td>\n",
       "      <td>-15.001348</td>\n",
       "      <td>-8.276000</td>\n",
       "      <td>-0.005876</td>\n",
       "      <td>3.179103</td>\n",
       "    </tr>\n",
       "    <tr>\n",
       "      <th>1</th>\n",
       "      <td>62mP7</td>\n",
       "      <td>14.272088</td>\n",
       "      <td>-3.475083</td>\n",
       "      <td>0.999183</td>\n",
       "      <td>26.953261</td>\n",
       "    </tr>\n",
       "    <tr>\n",
       "      <th>2</th>\n",
       "      <td>vyE1P</td>\n",
       "      <td>6.263187</td>\n",
       "      <td>-5.948386</td>\n",
       "      <td>5.001160</td>\n",
       "      <td>134.766305</td>\n",
       "    </tr>\n",
       "    <tr>\n",
       "      <th>3</th>\n",
       "      <td>KcrkZ</td>\n",
       "      <td>-13.081196</td>\n",
       "      <td>-11.506057</td>\n",
       "      <td>4.999415</td>\n",
       "      <td>137.945408</td>\n",
       "    </tr>\n",
       "    <tr>\n",
       "      <th>4</th>\n",
       "      <td>AHL4O</td>\n",
       "      <td>12.702195</td>\n",
       "      <td>-8.147433</td>\n",
       "      <td>5.004363</td>\n",
       "      <td>134.766305</td>\n",
       "    </tr>\n",
       "    <tr>\n",
       "      <th>...</th>\n",
       "      <td>...</td>\n",
       "      <td>...</td>\n",
       "      <td>...</td>\n",
       "      <td>...</td>\n",
       "      <td>...</td>\n",
       "    </tr>\n",
       "    <tr>\n",
       "      <th>99995</th>\n",
       "      <td>QywKC</td>\n",
       "      <td>9.535637</td>\n",
       "      <td>-6.878139</td>\n",
       "      <td>1.998296</td>\n",
       "      <td>53.906522</td>\n",
       "    </tr>\n",
       "    <tr>\n",
       "      <th>99996</th>\n",
       "      <td>ptvty</td>\n",
       "      <td>-10.160631</td>\n",
       "      <td>-12.558096</td>\n",
       "      <td>5.005581</td>\n",
       "      <td>137.945408</td>\n",
       "    </tr>\n",
       "    <tr>\n",
       "      <th>99997</th>\n",
       "      <td>09gWa</td>\n",
       "      <td>-7.378891</td>\n",
       "      <td>-3.084104</td>\n",
       "      <td>4.998651</td>\n",
       "      <td>137.945408</td>\n",
       "    </tr>\n",
       "    <tr>\n",
       "      <th>99998</th>\n",
       "      <td>rqwUm</td>\n",
       "      <td>0.665714</td>\n",
       "      <td>-6.152593</td>\n",
       "      <td>1.000146</td>\n",
       "      <td>30.132364</td>\n",
       "    </tr>\n",
       "    <tr>\n",
       "      <th>99999</th>\n",
       "      <td>relB0</td>\n",
       "      <td>-3.426139</td>\n",
       "      <td>-7.794274</td>\n",
       "      <td>-0.003299</td>\n",
       "      <td>3.179103</td>\n",
       "    </tr>\n",
       "  </tbody>\n",
       "</table>\n",
       "<p>100000 rows × 5 columns</p>\n",
       "</div>"
      ],
      "text/plain": [
       "          id         f0         f1        f2     product\n",
       "0      kBEdx -15.001348  -8.276000 -0.005876    3.179103\n",
       "1      62mP7  14.272088  -3.475083  0.999183   26.953261\n",
       "2      vyE1P   6.263187  -5.948386  5.001160  134.766305\n",
       "3      KcrkZ -13.081196 -11.506057  4.999415  137.945408\n",
       "4      AHL4O  12.702195  -8.147433  5.004363  134.766305\n",
       "...      ...        ...        ...       ...         ...\n",
       "99995  QywKC   9.535637  -6.878139  1.998296   53.906522\n",
       "99996  ptvty -10.160631 -12.558096  5.005581  137.945408\n",
       "99997  09gWa  -7.378891  -3.084104  4.998651  137.945408\n",
       "99998  rqwUm   0.665714  -6.152593  1.000146   30.132364\n",
       "99999  relB0  -3.426139  -7.794274 -0.003299    3.179103\n",
       "\n",
       "[100000 rows x 5 columns]"
      ]
     },
     "metadata": {},
     "output_type": "display_data"
    },
    {
     "name": "stdout",
     "output_type": "stream",
     "text": [
      "<class 'pandas.core.frame.DataFrame'>\n",
      "RangeIndex: 100000 entries, 0 to 99999\n",
      "Data columns (total 5 columns):\n",
      " #   Column   Non-Null Count   Dtype  \n",
      "---  ------   --------------   -----  \n",
      " 0   id       100000 non-null  object \n",
      " 1   f0       100000 non-null  float64\n",
      " 2   f1       100000 non-null  float64\n",
      " 3   f2       100000 non-null  float64\n",
      " 4   product  100000 non-null  float64\n",
      "dtypes: float64(4), object(1)\n",
      "memory usage: 3.8+ MB\n"
     ]
    }
   ],
   "source": [
    "df_2 = pd.read_csv('/datasets/geo_data_1.csv')\n",
    "display(df_2)\n",
    "df_2.info()"
   ]
  },
  {
   "cell_type": "markdown",
   "metadata": {},
   "source": [
    "    Все данные в норме"
   ]
  },
  {
   "cell_type": "markdown",
   "metadata": {},
   "source": [
    "#### Удалим лишний столбец"
   ]
  },
  {
   "cell_type": "markdown",
   "metadata": {},
   "source": [
    "    Для обучения модели, столбец \"id\" нам не понадобится. Удалим его."
   ]
  },
  {
   "cell_type": "code",
   "execution_count": 11,
   "metadata": {
    "scrolled": true
   },
   "outputs": [
    {
     "data": {
      "text/html": [
       "<div>\n",
       "<style scoped>\n",
       "    .dataframe tbody tr th:only-of-type {\n",
       "        vertical-align: middle;\n",
       "    }\n",
       "\n",
       "    .dataframe tbody tr th {\n",
       "        vertical-align: top;\n",
       "    }\n",
       "\n",
       "    .dataframe thead th {\n",
       "        text-align: right;\n",
       "    }\n",
       "</style>\n",
       "<table border=\"1\" class=\"dataframe\">\n",
       "  <thead>\n",
       "    <tr style=\"text-align: right;\">\n",
       "      <th></th>\n",
       "      <th>f0</th>\n",
       "      <th>f1</th>\n",
       "      <th>f2</th>\n",
       "      <th>product</th>\n",
       "    </tr>\n",
       "  </thead>\n",
       "  <tbody>\n",
       "    <tr>\n",
       "      <th>0</th>\n",
       "      <td>-15.001348</td>\n",
       "      <td>-8.276000</td>\n",
       "      <td>-0.005876</td>\n",
       "      <td>3.179103</td>\n",
       "    </tr>\n",
       "    <tr>\n",
       "      <th>1</th>\n",
       "      <td>14.272088</td>\n",
       "      <td>-3.475083</td>\n",
       "      <td>0.999183</td>\n",
       "      <td>26.953261</td>\n",
       "    </tr>\n",
       "  </tbody>\n",
       "</table>\n",
       "</div>"
      ],
      "text/plain": [
       "          f0        f1        f2    product\n",
       "0 -15.001348 -8.276000 -0.005876   3.179103\n",
       "1  14.272088 -3.475083  0.999183  26.953261"
      ]
     },
     "metadata": {},
     "output_type": "display_data"
    }
   ],
   "source": [
    "df_2 = df_2.drop(['id'], axis=1)\n",
    "display(df_2.head(2))"
   ]
  },
  {
   "cell_type": "markdown",
   "metadata": {},
   "source": [
    "#### Посмотрим зависимость данных"
   ]
  },
  {
   "cell_type": "code",
   "execution_count": 12,
   "metadata": {
    "scrolled": false
   },
   "outputs": [
    {
     "data": {
      "image/png": "[encoded data removed]",
      "text/plain": [
       "<Figure size 1008x576 with 2 Axes>"
      ]
     },
     "metadata": {},
     "output_type": "display_data"
    }
   ],
   "source": [
    "plt.figure(figsize=(14,8));\n",
    "sns.set_theme(style=\"white\");\n",
    "corr = df_2.corr();\n",
    "heatmap = sns.heatmap(corr, annot=True, cmap=\"Blues\", fmt='.1g');"
   ]
  },
  {
   "cell_type": "markdown",
   "metadata": {},
   "source": [
    "#### Разделим данные на валидационную и тестовую выборки"
   ]
  },
  {
   "cell_type": "code",
   "execution_count": 13,
   "metadata": {},
   "outputs": [],
   "source": [
    "df_2_train, df_2_valid = train_test_split(df_2, test_size=0.25, random_state=12345) # валидационная выборка"
   ]
  },
  {
   "cell_type": "code",
   "execution_count": 14,
   "metadata": {
    "scrolled": true
   },
   "outputs": [
    {
     "name": "stdout",
     "output_type": "stream",
     "text": [
      "df_2: 100000\n",
      "train_2: 75.0 %\n",
      "valid_2: 25.0 %\n"
     ]
    }
   ],
   "source": [
    "print('df_2:', df_2.shape[0])\n",
    "print('train_2:', (df_2_train.shape[0]*100) / df_2.shape[0],'%')\n",
    "print('valid_2:', (df_2_valid.shape[0]*100) / df_2.shape[0],'%')"
   ]
  },
  {
   "cell_type": "code",
   "execution_count": 15,
   "metadata": {},
   "outputs": [],
   "source": [
    "features_train_2 = df_2_train.drop(['product'], axis=1)\n",
    "target_train_2 = df_2_train['product']\n",
    "\n",
    "features_valid_2 = df_2_valid.drop(['product'], axis=1)\n",
    "target_valid_2 = df_2_valid['product']"
   ]
  },
  {
   "cell_type": "markdown",
   "metadata": {},
   "source": [
    "#### Маштабируем признаки"
   ]
  },
  {
   "cell_type": "code",
   "execution_count": 16,
   "metadata": {},
   "outputs": [],
   "source": [
    "numeric = ['f0', 'f1', 'f2']\n",
    "scaler2 = StandardScaler()\n",
    "scaler2.fit(features_train_2[numeric])\n",
    "features_train_2[numeric] = scaler2.transform(features_train_2[numeric])\n",
    "features_valid_2[numeric] = scaler2.transform(features_valid_2[numeric])"
   ]
  },
  {
   "cell_type": "markdown",
   "metadata": {},
   "source": [
    "### Третий регоион"
   ]
  },
  {
   "cell_type": "code",
   "execution_count": 17,
   "metadata": {},
   "outputs": [
    {
     "data": {
      "text/html": [
       "<div>\n",
       "<style scoped>\n",
       "    .dataframe tbody tr th:only-of-type {\n",
       "        vertical-align: middle;\n",
       "    }\n",
       "\n",
       "    .dataframe tbody tr th {\n",
       "        vertical-align: top;\n",
       "    }\n",
       "\n",
       "    .dataframe thead th {\n",
       "        text-align: right;\n",
       "    }\n",
       "</style>\n",
       "<table border=\"1\" class=\"dataframe\">\n",
       "  <thead>\n",
       "    <tr style=\"text-align: right;\">\n",
       "      <th></th>\n",
       "      <th>id</th>\n",
       "      <th>f0</th>\n",
       "      <th>f1</th>\n",
       "      <th>f2</th>\n",
       "      <th>product</th>\n",
       "    </tr>\n",
       "  </thead>\n",
       "  <tbody>\n",
       "    <tr>\n",
       "      <th>0</th>\n",
       "      <td>fwXo0</td>\n",
       "      <td>-1.146987</td>\n",
       "      <td>0.963328</td>\n",
       "      <td>-0.828965</td>\n",
       "      <td>27.758673</td>\n",
       "    </tr>\n",
       "    <tr>\n",
       "      <th>1</th>\n",
       "      <td>WJtFt</td>\n",
       "      <td>0.262778</td>\n",
       "      <td>0.269839</td>\n",
       "      <td>-2.530187</td>\n",
       "      <td>56.069697</td>\n",
       "    </tr>\n",
       "    <tr>\n",
       "      <th>2</th>\n",
       "      <td>ovLUW</td>\n",
       "      <td>0.194587</td>\n",
       "      <td>0.289035</td>\n",
       "      <td>-5.586433</td>\n",
       "      <td>62.871910</td>\n",
       "    </tr>\n",
       "    <tr>\n",
       "      <th>3</th>\n",
       "      <td>q6cA6</td>\n",
       "      <td>2.236060</td>\n",
       "      <td>-0.553760</td>\n",
       "      <td>0.930038</td>\n",
       "      <td>114.572842</td>\n",
       "    </tr>\n",
       "    <tr>\n",
       "      <th>4</th>\n",
       "      <td>WPMUX</td>\n",
       "      <td>-0.515993</td>\n",
       "      <td>1.716266</td>\n",
       "      <td>5.899011</td>\n",
       "      <td>149.600746</td>\n",
       "    </tr>\n",
       "    <tr>\n",
       "      <th>...</th>\n",
       "      <td>...</td>\n",
       "      <td>...</td>\n",
       "      <td>...</td>\n",
       "      <td>...</td>\n",
       "      <td>...</td>\n",
       "    </tr>\n",
       "    <tr>\n",
       "      <th>99995</th>\n",
       "      <td>4GxBu</td>\n",
       "      <td>-1.777037</td>\n",
       "      <td>1.125220</td>\n",
       "      <td>6.263374</td>\n",
       "      <td>172.327046</td>\n",
       "    </tr>\n",
       "    <tr>\n",
       "      <th>99996</th>\n",
       "      <td>YKFjq</td>\n",
       "      <td>-1.261523</td>\n",
       "      <td>-0.894828</td>\n",
       "      <td>2.524545</td>\n",
       "      <td>138.748846</td>\n",
       "    </tr>\n",
       "    <tr>\n",
       "      <th>99997</th>\n",
       "      <td>tKPY3</td>\n",
       "      <td>-1.199934</td>\n",
       "      <td>-2.957637</td>\n",
       "      <td>5.219411</td>\n",
       "      <td>157.080080</td>\n",
       "    </tr>\n",
       "    <tr>\n",
       "      <th>99998</th>\n",
       "      <td>nmxp2</td>\n",
       "      <td>-2.419896</td>\n",
       "      <td>2.417221</td>\n",
       "      <td>-5.548444</td>\n",
       "      <td>51.795253</td>\n",
       "    </tr>\n",
       "    <tr>\n",
       "      <th>99999</th>\n",
       "      <td>V9kWn</td>\n",
       "      <td>-2.551421</td>\n",
       "      <td>-2.025625</td>\n",
       "      <td>6.090891</td>\n",
       "      <td>102.775767</td>\n",
       "    </tr>\n",
       "  </tbody>\n",
       "</table>\n",
       "<p>100000 rows × 5 columns</p>\n",
       "</div>"
      ],
      "text/plain": [
       "          id        f0        f1        f2     product\n",
       "0      fwXo0 -1.146987  0.963328 -0.828965   27.758673\n",
       "1      WJtFt  0.262778  0.269839 -2.530187   56.069697\n",
       "2      ovLUW  0.194587  0.289035 -5.586433   62.871910\n",
       "3      q6cA6  2.236060 -0.553760  0.930038  114.572842\n",
       "4      WPMUX -0.515993  1.716266  5.899011  149.600746\n",
       "...      ...       ...       ...       ...         ...\n",
       "99995  4GxBu -1.777037  1.125220  6.263374  172.327046\n",
       "99996  YKFjq -1.261523 -0.894828  2.524545  138.748846\n",
       "99997  tKPY3 -1.199934 -2.957637  5.219411  157.080080\n",
       "99998  nmxp2 -2.419896  2.417221 -5.548444   51.795253\n",
       "99999  V9kWn -2.551421 -2.025625  6.090891  102.775767\n",
       "\n",
       "[100000 rows x 5 columns]"
      ]
     },
     "metadata": {},
     "output_type": "display_data"
    },
    {
     "name": "stdout",
     "output_type": "stream",
     "text": [
      "<class 'pandas.core.frame.DataFrame'>\n",
      "RangeIndex: 100000 entries, 0 to 99999\n",
      "Data columns (total 5 columns):\n",
      " #   Column   Non-Null Count   Dtype  \n",
      "---  ------   --------------   -----  \n",
      " 0   id       100000 non-null  object \n",
      " 1   f0       100000 non-null  float64\n",
      " 2   f1       100000 non-null  float64\n",
      " 3   f2       100000 non-null  float64\n",
      " 4   product  100000 non-null  float64\n",
      "dtypes: float64(4), object(1)\n",
      "memory usage: 3.8+ MB\n"
     ]
    }
   ],
   "source": [
    "df_3 = pd.read_csv('/datasets/geo_data_2.csv')\n",
    "display(df_3)\n",
    "df_3.info()"
   ]
  },
  {
   "cell_type": "markdown",
   "metadata": {},
   "source": [
    "    Все данные в норме"
   ]
  },
  {
   "cell_type": "markdown",
   "metadata": {},
   "source": [
    "#### Удалим лишний столбец"
   ]
  },
  {
   "cell_type": "markdown",
   "metadata": {},
   "source": [
    "    Для обучения модели, столбец \"id\" нам не понадобится. Удалим его."
   ]
  },
  {
   "cell_type": "code",
   "execution_count": 18,
   "metadata": {
    "scrolled": true
   },
   "outputs": [
    {
     "data": {
      "text/html": [
       "<div>\n",
       "<style scoped>\n",
       "    .dataframe tbody tr th:only-of-type {\n",
       "        vertical-align: middle;\n",
       "    }\n",
       "\n",
       "    .dataframe tbody tr th {\n",
       "        vertical-align: top;\n",
       "    }\n",
       "\n",
       "    .dataframe thead th {\n",
       "        text-align: right;\n",
       "    }\n",
       "</style>\n",
       "<table border=\"1\" class=\"dataframe\">\n",
       "  <thead>\n",
       "    <tr style=\"text-align: right;\">\n",
       "      <th></th>\n",
       "      <th>f0</th>\n",
       "      <th>f1</th>\n",
       "      <th>f2</th>\n",
       "      <th>product</th>\n",
       "    </tr>\n",
       "  </thead>\n",
       "  <tbody>\n",
       "    <tr>\n",
       "      <th>0</th>\n",
       "      <td>-1.146987</td>\n",
       "      <td>0.963328</td>\n",
       "      <td>-0.828965</td>\n",
       "      <td>27.758673</td>\n",
       "    </tr>\n",
       "    <tr>\n",
       "      <th>1</th>\n",
       "      <td>0.262778</td>\n",
       "      <td>0.269839</td>\n",
       "      <td>-2.530187</td>\n",
       "      <td>56.069697</td>\n",
       "    </tr>\n",
       "  </tbody>\n",
       "</table>\n",
       "</div>"
      ],
      "text/plain": [
       "         f0        f1        f2    product\n",
       "0 -1.146987  0.963328 -0.828965  27.758673\n",
       "1  0.262778  0.269839 -2.530187  56.069697"
      ]
     },
     "metadata": {},
     "output_type": "display_data"
    }
   ],
   "source": [
    "df_3 = df_3.drop(['id'], axis=1)\n",
    "display(df_3.head(2))"
   ]
  },
  {
   "cell_type": "markdown",
   "metadata": {},
   "source": [
    "#### Посмотрим зависимость данных"
   ]
  },
  {
   "cell_type": "code",
   "execution_count": 19,
   "metadata": {
    "scrolled": false
   },
   "outputs": [
    {
     "data": {
      "image/png": "[encoded data removed]",
      "text/plain": [
       "<Figure size 1008x576 with 2 Axes>"
      ]
     },
     "metadata": {},
     "output_type": "display_data"
    }
   ],
   "source": [
    "plt.figure(figsize=(14,8));\n",
    "sns.set_theme(style=\"white\");\n",
    "corr = df_3.corr();\n",
    "heatmap = sns.heatmap(corr, annot=True, cmap=\"Blues\", fmt='.1g');"
   ]
  },
  {
   "cell_type": "markdown",
   "metadata": {},
   "source": [
    "#### Разделим данные на валидационную и тестовую выборки"
   ]
  },
  {
   "cell_type": "code",
   "execution_count": 20,
   "metadata": {},
   "outputs": [],
   "source": [
    "df_3_train, df_3_valid = train_test_split(df_3, test_size=0.25, random_state=12345) # валидационная выборка"
   ]
  },
  {
   "cell_type": "code",
   "execution_count": 21,
   "metadata": {
    "scrolled": true
   },
   "outputs": [
    {
     "name": "stdout",
     "output_type": "stream",
     "text": [
      "df_3: 100000\n",
      "train_3: 75.0 %\n",
      "valid_3: 25.0 %\n"
     ]
    }
   ],
   "source": [
    "print('df_3:', df_3.shape[0])\n",
    "print('train_3:', (df_3_train.shape[0]*100) / df_3.shape[0],'%')\n",
    "print('valid_3:', (df_3_valid.shape[0]*100) / df_3.shape[0],'%')"
   ]
  },
  {
   "cell_type": "code",
   "execution_count": 22,
   "metadata": {},
   "outputs": [],
   "source": [
    "features_train_3 = df_3_train.drop(['product'], axis=1)\n",
    "target_train_3 = df_3_train['product']\n",
    "\n",
    "features_valid_3 = df_3_valid.drop(['product'], axis=1)\n",
    "target_valid_3 = df_3_valid['product']"
   ]
  },
  {
   "cell_type": "markdown",
   "metadata": {},
   "source": [
    "#### Маштабируем признаки"
   ]
  },
  {
   "cell_type": "code",
   "execution_count": 23,
   "metadata": {},
   "outputs": [],
   "source": [
    "numeric = ['f0', 'f1', 'f2']\n",
    "scaler3 = StandardScaler()\n",
    "scaler3.fit(features_train_3[numeric])\n",
    "features_train_3[numeric] = scaler3.transform(features_train_3[numeric])\n",
    "features_valid_3[numeric] = scaler3.transform(features_valid_3[numeric])"
   ]
  },
  {
   "cell_type": "markdown",
   "metadata": {},
   "source": [
    "## Обучение и проверка модели"
   ]
  },
  {
   "cell_type": "markdown",
   "metadata": {},
   "source": [
    "### Первый регоион"
   ]
  },
  {
   "cell_type": "code",
   "execution_count": 24,
   "metadata": {},
   "outputs": [],
   "source": [
    "model_1 = LinearRegression()\n",
    "model_1.fit(features_train_1, target_train_1)\n",
    "predict_valid_1 = model_1.predict(features_valid_1)"
   ]
  },
  {
   "cell_type": "code",
   "execution_count": 25,
   "metadata": {},
   "outputs": [
    {
     "name": "stdout",
     "output_type": "stream",
     "text": [
      "Cредний запас предсказанного сырья на валидационной выборке: 92.593\n",
      "RMSE модели линейной регрессии на валидационной выборке: 37.579\n"
     ]
    }
   ],
   "source": [
    "result_1_bbls = predict_valid_1.mean()\n",
    "result_1_RMSE = mean_squared_error(target_valid_1, predict_valid_1, squared=False)\n",
    "print('Cредний запас предсказанного сырья на валидационной выборке:', result_1_bbls.round(3))\n",
    "print('RMSE модели линейной регрессии на валидационной выборке:', result_1_RMSE.round(3))"
   ]
  },
  {
   "cell_type": "markdown",
   "metadata": {},
   "source": [
    "### Второй регоион"
   ]
  },
  {
   "cell_type": "code",
   "execution_count": 26,
   "metadata": {},
   "outputs": [],
   "source": [
    "model_2 = LinearRegression()\n",
    "model_2.fit(features_train_2, target_train_2)\n",
    "predict_valid_2 = model_2.predict(features_valid_2)"
   ]
  },
  {
   "cell_type": "code",
   "execution_count": 27,
   "metadata": {},
   "outputs": [
    {
     "name": "stdout",
     "output_type": "stream",
     "text": [
      "Cредний запас предсказанного сырья на валидационной выборке: 68.729\n",
      "RMSE модели линейной регрессии на валидационной выборке: 0.893\n"
     ]
    }
   ],
   "source": [
    "result_2_bbls = predict_valid_2.mean()\n",
    "result_2_RMSE = mean_squared_error(target_valid_2, predict_valid_2, squared=False)\n",
    "print('Cредний запас предсказанного сырья на валидационной выборке:', result_2_bbls.round(3))\n",
    "print('RMSE модели линейной регрессии на валидационной выборке:', result_2_RMSE.round(3))"
   ]
  },
  {
   "cell_type": "markdown",
   "metadata": {},
   "source": [
    "### Третий регоион"
   ]
  },
  {
   "cell_type": "code",
   "execution_count": 28,
   "metadata": {},
   "outputs": [],
   "source": [
    "model_3 = LinearRegression()\n",
    "model_3.fit(features_train_3, target_train_3)\n",
    "predict_valid_3 = model_3.predict(features_valid_3)"
   ]
  },
  {
   "cell_type": "code",
   "execution_count": 29,
   "metadata": {},
   "outputs": [
    {
     "name": "stdout",
     "output_type": "stream",
     "text": [
      "Cредний запас предсказанного сырья на валидационной выборке: 94.965\n",
      "RMSE модели линейной регрессии на валидационной выборке: 40.03\n"
     ]
    }
   ],
   "source": [
    "result_3_bbls = predict_valid_3.mean()\n",
    "result_3_RMSE = mean_squared_error(target_valid_3, predict_valid_3, squared=False)\n",
    "print('Cредний запас предсказанного сырья на валидационной выборке:', result_3_bbls.round(3))\n",
    "print('RMSE модели линейной регрессии на валидационной выборке:', result_3_RMSE.round(3))"
   ]
  },
  {
   "cell_type": "markdown",
   "metadata": {},
   "source": [
    "### вывод\n",
    "    -Самый богатый регион - Третий\n",
    "    -Самый бедный регион - Второй\n",
    "    \n",
    "    -Самая малая RMSE во Втором регионе, что говорит нам о довольно точных данных\n",
    "    -Самая большая RMSE в Третьем регионе"
   ]
  },
  {
   "cell_type": "markdown",
   "metadata": {},
   "source": [
    "## Подготовка к расчёту прибыли"
   ]
  },
  {
   "cell_type": "markdown",
   "metadata": {},
   "source": [
    "### Посмотрим превышает ли среднее количество продукта на точку по каждому региону достаточный объем сырья для безубыточной добычи"
   ]
  },
  {
   "cell_type": "code",
   "execution_count": 30,
   "metadata": {},
   "outputs": [
    {
     "name": "stdout",
     "output_type": "stream",
     "text": [
      "Необходимое кол-во продукта для 200 точек, чтобы выйти в \"0\": 22222.222222222223\n"
     ]
    }
   ],
   "source": [
    "quantity = BUDGET/PRICE\n",
    "print('Необходимое кол-во продукта для 200 точек, чтобы выйти в \"0\":', quantity)"
   ]
  },
  {
   "cell_type": "code",
   "execution_count": 31,
   "metadata": {},
   "outputs": [
    {
     "name": "stdout",
     "output_type": "stream",
     "text": [
      "Достаточный объём сырья для безубыточной разработки одной скважины 111.11111111111111\n"
     ]
    }
   ],
   "source": [
    "quantity_for_1 = quantity / POINTS\n",
    "print('Достаточный объём сырья для безубыточной разработки одной скважины', quantity_for_1)"
   ]
  },
  {
   "cell_type": "markdown",
   "metadata": {},
   "source": [
    "### Первый регоион"
   ]
  },
  {
   "cell_type": "code",
   "execution_count": 32,
   "metadata": {},
   "outputs": [
    {
     "name": "stdout",
     "output_type": "stream",
     "text": [
      "Cредний запас предсказанного сырья: 92.59256778438035\n",
      "Достаточный объём сырья для безубыточной разработки одной скважины: 111.11111111111111\n"
     ]
    }
   ],
   "source": [
    "print('Cредний запас предсказанного сырья:', result_1_bbls)\n",
    "print('Достаточный объём сырья для безубыточной разработки одной скважины:', quantity_for_1)"
   ]
  },
  {
   "cell_type": "markdown",
   "metadata": {},
   "source": [
    "### Второй регоион"
   ]
  },
  {
   "cell_type": "code",
   "execution_count": 33,
   "metadata": {},
   "outputs": [
    {
     "name": "stdout",
     "output_type": "stream",
     "text": [
      "Cредний запас предсказанного сырья: 68.728546895446\n",
      "Достаточный объём сырья для безубыточной разработки одной скважины: 111.11111111111111\n"
     ]
    }
   ],
   "source": [
    "print('Cредний запас предсказанного сырья:', result_2_bbls)\n",
    "print('Достаточный объём сырья для безубыточной разработки одной скважины:', quantity_for_1)"
   ]
  },
  {
   "cell_type": "markdown",
   "metadata": {},
   "source": [
    "### Третий регоион"
   ]
  },
  {
   "cell_type": "code",
   "execution_count": 34,
   "metadata": {},
   "outputs": [
    {
     "name": "stdout",
     "output_type": "stream",
     "text": [
      "Cредний запас предсказанного сырья: 94.96504596800489\n",
      "Достаточный объём сырья для безубыточной разработки одной скважины: 111.11111111111111\n"
     ]
    }
   ],
   "source": [
    "print('Cредний запас предсказанного сырья:', result_3_bbls)\n",
    "print('Достаточный объём сырья для безубыточной разработки одной скважины:', quantity_for_1)"
   ]
  },
  {
   "cell_type": "markdown",
   "metadata": {},
   "source": [
    "    Видим что ни один регион не имеет достаточного объёма сырья для выхода в \"0\" или в прибыль"
   ]
  },
  {
   "cell_type": "markdown",
   "metadata": {},
   "source": [
    "## Расчёт прибыли и рисков "
   ]
  },
  {
   "cell_type": "code",
   "execution_count": 35,
   "metadata": {},
   "outputs": [
    {
     "data": {
      "text/plain": [
       "'Риск убытков = 50.00% '"
      ]
     },
     "execution_count": 35,
     "metadata": {},
     "output_type": "execute_result"
    }
   ],
   "source": [
    "'Риск убытков = {:.2%} '.format((pd.Series([-2, -1, 4, 5])<0).mean())"
   ]
  },
  {
   "cell_type": "markdown",
   "metadata": {},
   "source": [
    "    Для дальнейших расчетов необходимо использовать предсказания и целевой для валидационной выборки"
   ]
  },
  {
   "cell_type": "markdown",
   "metadata": {},
   "source": [
    "### Создадим функцию:"
   ]
  },
  {
   "cell_type": "markdown",
   "metadata": {},
   "source": [
    "#### прибыли"
   ]
  },
  {
   "cell_type": "code",
   "execution_count": 36,
   "metadata": {},
   "outputs": [],
   "source": [
    "def profit(pf):\n",
    "    ''' сортируем по предсказаниям'''\n",
    "    pf_sorted = pf.sort_values(by = 'pred', ascending=False)\n",
    "    ''' берем первые 200 реальных значений продукта'''    \n",
    "    target_sorted = pf_sorted['product'][:POINTS]\n",
    "\n",
    "    product = target_sorted.sum()\n",
    "    return product * PRICE - BUDGET       "
   ]
  },
  {
   "cell_type": "markdown",
   "metadata": {},
   "source": [
    "#### Bootstrap"
   ]
  },
  {
   "cell_type": "code",
   "execution_count": 37,
   "metadata": {},
   "outputs": [],
   "source": [
    "state = np.random.RandomState(12345)\n",
    "\n",
    "def bootstr(btr):\n",
    "    values = []\n",
    "    for i in range(1000):\n",
    "        ''' нам надо выбрать 500 случайных значений из датасета, к-й содержит предсказания и таргет_валид'''\n",
    "        data_500 = btr.sample(500, replace=True, random_state=state)\n",
    "        ''' подаем 500 случайных наблюдений из датасета в функцию прибыли'''\n",
    "        values.append(profit(data_500)) \n",
    "    ''' получили 1000 вариантов(значений) прибыли'''\n",
    "    values = pd.Series(values)\n",
    "    values_mean = values.mean()\n",
    "    print(values_mean.round(3))\n",
    "\n",
    "    upper_q = values.quantile(0.975)\n",
    "    lower_q = values.quantile(0.025)\n",
    "    print('upper_q:', upper_q.round(3))\n",
    "    print('lower_q:', lower_q.round(3))\n",
    "    \n",
    "    #'Риск убытков = {:.2%} '.format((pd.Series([-2, -1, 4, 5])<0).mean())\n",
    "    \n",
    "    print('Риск убытков = {:.2%} '.format((values<0).mean()))"
   ]
  },
  {
   "cell_type": "markdown",
   "metadata": {},
   "source": [
    "### Первый регоион"
   ]
  },
  {
   "cell_type": "code",
   "execution_count": 38,
   "metadata": {},
   "outputs": [
    {
     "data": {
      "text/html": [
       "<div>\n",
       "<style scoped>\n",
       "    .dataframe tbody tr th:only-of-type {\n",
       "        vertical-align: middle;\n",
       "    }\n",
       "\n",
       "    .dataframe tbody tr th {\n",
       "        vertical-align: top;\n",
       "    }\n",
       "\n",
       "    .dataframe thead th {\n",
       "        text-align: right;\n",
       "    }\n",
       "</style>\n",
       "<table border=\"1\" class=\"dataframe\">\n",
       "  <thead>\n",
       "    <tr style=\"text-align: right;\">\n",
       "      <th></th>\n",
       "      <th>product</th>\n",
       "      <th>pred</th>\n",
       "    </tr>\n",
       "  </thead>\n",
       "  <tbody>\n",
       "    <tr>\n",
       "      <th>71751</th>\n",
       "      <td>10.038645</td>\n",
       "      <td>95.894952</td>\n",
       "    </tr>\n",
       "    <tr>\n",
       "      <th>80493</th>\n",
       "      <td>114.551489</td>\n",
       "      <td>77.572583</td>\n",
       "    </tr>\n",
       "  </tbody>\n",
       "</table>\n",
       "</div>"
      ],
      "text/plain": [
       "          product       pred\n",
       "71751   10.038645  95.894952\n",
       "80493  114.551489  77.572583"
      ]
     },
     "metadata": {},
     "output_type": "display_data"
    }
   ],
   "source": [
    "data_1 = pd.DataFrame(target_valid_1)\n",
    "data_1['pred'] = predict_valid_1\n",
    "display(data_1.head(2))"
   ]
  },
  {
   "cell_type": "code",
   "execution_count": 39,
   "metadata": {
    "scrolled": true
   },
   "outputs": [
    {
     "name": "stdout",
     "output_type": "stream",
     "text": [
      "396164984.802\n",
      "upper_q: 909766941.553\n",
      "lower_q: -111215545.89\n",
      "Риск убытков = 6.90% \n"
     ]
    }
   ],
   "source": [
    "bootstr(data_1)"
   ]
  },
  {
   "cell_type": "markdown",
   "metadata": {},
   "source": [
    "### Второй регоион"
   ]
  },
  {
   "cell_type": "code",
   "execution_count": 40,
   "metadata": {},
   "outputs": [
    {
     "data": {
      "text/html": [
       "<div>\n",
       "<style scoped>\n",
       "    .dataframe tbody tr th:only-of-type {\n",
       "        vertical-align: middle;\n",
       "    }\n",
       "\n",
       "    .dataframe tbody tr th {\n",
       "        vertical-align: top;\n",
       "    }\n",
       "\n",
       "    .dataframe thead th {\n",
       "        text-align: right;\n",
       "    }\n",
       "</style>\n",
       "<table border=\"1\" class=\"dataframe\">\n",
       "  <thead>\n",
       "    <tr style=\"text-align: right;\">\n",
       "      <th></th>\n",
       "      <th>product</th>\n",
       "      <th>pred</th>\n",
       "    </tr>\n",
       "  </thead>\n",
       "  <tbody>\n",
       "    <tr>\n",
       "      <th>71751</th>\n",
       "      <td>80.859783</td>\n",
       "      <td>82.663314</td>\n",
       "    </tr>\n",
       "    <tr>\n",
       "      <th>80493</th>\n",
       "      <td>53.906522</td>\n",
       "      <td>54.431786</td>\n",
       "    </tr>\n",
       "  </tbody>\n",
       "</table>\n",
       "</div>"
      ],
      "text/plain": [
       "         product       pred\n",
       "71751  80.859783  82.663314\n",
       "80493  53.906522  54.431786"
      ]
     },
     "metadata": {},
     "output_type": "display_data"
    }
   ],
   "source": [
    "data_2 = pd.DataFrame(target_valid_2)\n",
    "data_2['pred'] = predict_valid_2\n",
    "display(data_2.head(2))"
   ]
  },
  {
   "cell_type": "code",
   "execution_count": 41,
   "metadata": {},
   "outputs": [
    {
     "name": "stdout",
     "output_type": "stream",
     "text": [
      "461155817.277\n",
      "upper_q: 862952060.264\n",
      "lower_q: 78050810.752\n",
      "Риск убытков = 0.70% \n"
     ]
    }
   ],
   "source": [
    "bootstr(data_2)"
   ]
  },
  {
   "cell_type": "markdown",
   "metadata": {},
   "source": [
    "### Третий регоион"
   ]
  },
  {
   "cell_type": "code",
   "execution_count": 42,
   "metadata": {
    "scrolled": true
   },
   "outputs": [
    {
     "data": {
      "text/html": [
       "<div>\n",
       "<style scoped>\n",
       "    .dataframe tbody tr th:only-of-type {\n",
       "        vertical-align: middle;\n",
       "    }\n",
       "\n",
       "    .dataframe tbody tr th {\n",
       "        vertical-align: top;\n",
       "    }\n",
       "\n",
       "    .dataframe thead th {\n",
       "        text-align: right;\n",
       "    }\n",
       "</style>\n",
       "<table border=\"1\" class=\"dataframe\">\n",
       "  <thead>\n",
       "    <tr style=\"text-align: right;\">\n",
       "      <th></th>\n",
       "      <th>product</th>\n",
       "      <th>pred</th>\n",
       "    </tr>\n",
       "  </thead>\n",
       "  <tbody>\n",
       "    <tr>\n",
       "      <th>71751</th>\n",
       "      <td>61.212375</td>\n",
       "      <td>93.599633</td>\n",
       "    </tr>\n",
       "    <tr>\n",
       "      <th>80493</th>\n",
       "      <td>41.850118</td>\n",
       "      <td>75.105159</td>\n",
       "    </tr>\n",
       "  </tbody>\n",
       "</table>\n",
       "</div>"
      ],
      "text/plain": [
       "         product       pred\n",
       "71751  61.212375  93.599633\n",
       "80493  41.850118  75.105159"
      ]
     },
     "metadata": {},
     "output_type": "display_data"
    }
   ],
   "source": [
    "data_3 = pd.DataFrame(target_valid_3)\n",
    "data_3['pred'] = predict_valid_3\n",
    "display(data_3.head(2))"
   ]
  },
  {
   "cell_type": "code",
   "execution_count": 43,
   "metadata": {},
   "outputs": [
    {
     "name": "stdout",
     "output_type": "stream",
     "text": [
      "392950475.171\n",
      "upper_q: 934562914.551\n",
      "lower_q: -112227625.379\n",
      "Риск убытков = 6.50% \n"
     ]
    }
   ],
   "source": [
    "bootstr(data_3)"
   ]
  },
  {
   "cell_type": "markdown",
   "metadata": {},
   "source": [
    "### Вывод"
   ]
  },
  {
   "cell_type": "markdown",
   "metadata": {},
   "source": [
    "Проведя анализ трёх регионов мы можем сделать вывод, что:\n",
    "    \n",
    "    -Первый регион в среднем даст 396_164_984,802 прибыли, что является самым низким показателем. Также этот регион имеет самый большой риск убытков - 6,9%\n",
    "        \n",
    "    -Второй регион в среднем даст 461_155_817,277 прибыли, что является самым высоким показателем. Также этот регион имеет самый маленький риск убытков - 0,7%\n",
    "        \n",
    "    -Третий регион в среднем даст 392_950_475,171 прибыли, что является средним показателем среди всех регионов, но также как и Первый регион имеет довольно высокий риск убытков - 6,5%"
   ]
  },
  {
   "cell_type": "markdown",
   "metadata": {},
   "source": [
    "        Основываясь на проделанной работе мы можем предложить начать разрабатывать скважины во Втором регионе."
   ]
  }
 ],
 "metadata": {
  "ExecuteTimeLog": [
   {
    "duration": 1548,
    "start_time": "2023-01-21T11:27:36.960Z"
   },
   {
    "duration": 4,
    "start_time": "2023-01-21T11:47:00.565Z"
   },
   {
    "duration": 542,
    "start_time": "2023-01-21T11:47:01.557Z"
   },
   {
    "duration": 153,
    "start_time": "2023-01-21T11:47:12.909Z"
   },
   {
    "duration": 167,
    "start_time": "2023-01-21T11:47:22.781Z"
   },
   {
    "duration": 1513,
    "start_time": "2023-01-21T12:03:04.659Z"
   },
   {
    "duration": 545,
    "start_time": "2023-01-21T12:03:06.174Z"
   },
   {
    "duration": 1016,
    "start_time": "2023-01-21T12:03:06.720Z"
   },
   {
    "duration": 626,
    "start_time": "2023-01-21T12:03:07.738Z"
   },
   {
    "duration": 1300,
    "start_time": "2023-01-21T12:20:11.491Z"
   },
   {
    "duration": 160,
    "start_time": "2023-01-21T12:20:12.793Z"
   },
   {
    "duration": 153,
    "start_time": "2023-01-21T12:20:12.954Z"
   },
   {
    "duration": 144,
    "start_time": "2023-01-21T12:20:13.108Z"
   },
   {
    "duration": 47,
    "start_time": "2023-01-21T15:36:41.703Z"
   },
   {
    "duration": 1503,
    "start_time": "2023-01-21T15:36:53.955Z"
   },
   {
    "duration": 526,
    "start_time": "2023-01-21T15:36:55.460Z"
   },
   {
    "duration": 26,
    "start_time": "2023-01-21T15:36:55.987Z"
   },
   {
    "duration": 209,
    "start_time": "2023-01-21T15:36:56.015Z"
   },
   {
    "duration": 225,
    "start_time": "2023-01-21T15:36:56.225Z"
   },
   {
    "duration": 102,
    "start_time": "2023-01-21T15:38:18.517Z"
   },
   {
    "duration": 6,
    "start_time": "2023-01-21T15:38:28.654Z"
   },
   {
    "duration": 28,
    "start_time": "2023-01-21T15:40:29.535Z"
   },
   {
    "duration": 1628,
    "start_time": "2023-01-21T16:23:39.923Z"
   },
   {
    "duration": 295,
    "start_time": "2023-01-21T16:23:41.553Z"
   },
   {
    "duration": 78,
    "start_time": "2023-01-21T16:23:41.849Z"
   },
   {
    "duration": 6,
    "start_time": "2023-01-21T16:23:41.929Z"
   },
   {
    "duration": 232,
    "start_time": "2023-01-21T16:23:41.937Z"
   },
   {
    "duration": 80,
    "start_time": "2023-01-21T16:23:42.171Z"
   },
   {
    "duration": 4,
    "start_time": "2023-01-21T16:23:42.253Z"
   },
   {
    "duration": 289,
    "start_time": "2023-01-21T16:23:42.259Z"
   },
   {
    "duration": 23,
    "start_time": "2023-01-21T16:23:42.550Z"
   },
   {
    "duration": 53,
    "start_time": "2023-01-21T16:23:42.575Z"
   },
   {
    "duration": 1330,
    "start_time": "2023-01-21T16:24:56.449Z"
   },
   {
    "duration": 150,
    "start_time": "2023-01-21T16:24:57.781Z"
   },
   {
    "duration": 26,
    "start_time": "2023-01-21T16:24:57.932Z"
   },
   {
    "duration": 4,
    "start_time": "2023-01-21T16:24:57.960Z"
   },
   {
    "duration": 138,
    "start_time": "2023-01-21T16:24:57.966Z"
   },
   {
    "duration": 29,
    "start_time": "2023-01-21T16:24:58.106Z"
   },
   {
    "duration": 4,
    "start_time": "2023-01-21T16:24:58.137Z"
   },
   {
    "duration": 132,
    "start_time": "2023-01-21T16:24:58.143Z"
   },
   {
    "duration": 24,
    "start_time": "2023-01-21T16:24:58.277Z"
   },
   {
    "duration": 5,
    "start_time": "2023-01-21T16:24:58.303Z"
   },
   {
    "duration": 1509,
    "start_time": "2023-01-22T10:29:30.782Z"
   },
   {
    "duration": 536,
    "start_time": "2023-01-22T10:29:32.293Z"
   },
   {
    "duration": 27,
    "start_time": "2023-01-22T10:29:32.831Z"
   },
   {
    "duration": 5,
    "start_time": "2023-01-22T10:29:32.861Z"
   },
   {
    "duration": 233,
    "start_time": "2023-01-22T10:29:32.868Z"
   },
   {
    "duration": 30,
    "start_time": "2023-01-22T10:29:33.103Z"
   },
   {
    "duration": 5,
    "start_time": "2023-01-22T10:29:33.135Z"
   },
   {
    "duration": 217,
    "start_time": "2023-01-22T10:29:33.142Z"
   },
   {
    "duration": 26,
    "start_time": "2023-01-22T10:29:33.361Z"
   },
   {
    "duration": 5,
    "start_time": "2023-01-22T10:29:33.389Z"
   },
   {
    "duration": 1382,
    "start_time": "2023-01-22T10:30:51.852Z"
   },
   {
    "duration": 147,
    "start_time": "2023-01-22T10:30:53.236Z"
   },
   {
    "duration": 27,
    "start_time": "2023-01-22T10:30:53.385Z"
   },
   {
    "duration": 16,
    "start_time": "2023-01-22T10:30:53.414Z"
   },
   {
    "duration": 153,
    "start_time": "2023-01-22T10:30:53.432Z"
   },
   {
    "duration": 26,
    "start_time": "2023-01-22T10:30:53.587Z"
   },
   {
    "duration": 15,
    "start_time": "2023-01-22T10:30:53.615Z"
   },
   {
    "duration": 135,
    "start_time": "2023-01-22T10:30:53.631Z"
   },
   {
    "duration": 25,
    "start_time": "2023-01-22T10:30:53.767Z"
   },
   {
    "duration": 5,
    "start_time": "2023-01-22T10:30:53.794Z"
   },
   {
    "duration": 1386,
    "start_time": "2023-01-22T10:55:37.655Z"
   },
   {
    "duration": 157,
    "start_time": "2023-01-22T10:55:39.043Z"
   },
   {
    "duration": 108,
    "start_time": "2023-01-22T10:55:39.201Z"
   },
   {
    "duration": 0,
    "start_time": "2023-01-22T10:55:39.311Z"
   },
   {
    "duration": 0,
    "start_time": "2023-01-22T10:55:39.312Z"
   },
   {
    "duration": 0,
    "start_time": "2023-01-22T10:55:39.314Z"
   },
   {
    "duration": 0,
    "start_time": "2023-01-22T10:55:39.327Z"
   },
   {
    "duration": 0,
    "start_time": "2023-01-22T10:55:39.328Z"
   },
   {
    "duration": 0,
    "start_time": "2023-01-22T10:55:39.329Z"
   },
   {
    "duration": 0,
    "start_time": "2023-01-22T10:55:39.330Z"
   },
   {
    "duration": 0,
    "start_time": "2023-01-22T10:55:39.331Z"
   },
   {
    "duration": 14,
    "start_time": "2023-01-22T10:55:54.988Z"
   },
   {
    "duration": 17,
    "start_time": "2023-01-22T10:56:00.533Z"
   },
   {
    "duration": 1438,
    "start_time": "2023-01-22T10:56:09.620Z"
   },
   {
    "duration": 155,
    "start_time": "2023-01-22T10:56:11.060Z"
   },
   {
    "duration": 19,
    "start_time": "2023-01-22T10:56:11.216Z"
   },
   {
    "duration": 33,
    "start_time": "2023-01-22T10:56:11.237Z"
   },
   {
    "duration": 5,
    "start_time": "2023-01-22T10:56:11.272Z"
   },
   {
    "duration": 134,
    "start_time": "2023-01-22T10:56:11.279Z"
   },
   {
    "duration": 35,
    "start_time": "2023-01-22T10:56:11.415Z"
   },
   {
    "duration": 6,
    "start_time": "2023-01-22T10:56:11.451Z"
   },
   {
    "duration": 168,
    "start_time": "2023-01-22T10:56:11.459Z"
   },
   {
    "duration": 28,
    "start_time": "2023-01-22T10:56:11.629Z"
   },
   {
    "duration": 6,
    "start_time": "2023-01-22T10:56:11.658Z"
   },
   {
    "duration": 1405,
    "start_time": "2023-01-22T10:57:45.664Z"
   },
   {
    "duration": 158,
    "start_time": "2023-01-22T10:57:47.071Z"
   },
   {
    "duration": 15,
    "start_time": "2023-01-22T10:57:47.231Z"
   },
   {
    "duration": 29,
    "start_time": "2023-01-22T10:57:47.248Z"
   },
   {
    "duration": 5,
    "start_time": "2023-01-22T10:57:47.279Z"
   },
   {
    "duration": 156,
    "start_time": "2023-01-22T10:57:47.286Z"
   },
   {
    "duration": 12,
    "start_time": "2023-01-22T10:57:47.444Z"
   },
   {
    "duration": 19,
    "start_time": "2023-01-22T10:57:47.458Z"
   },
   {
    "duration": 5,
    "start_time": "2023-01-22T10:57:47.478Z"
   },
   {
    "duration": 149,
    "start_time": "2023-01-22T10:57:47.486Z"
   },
   {
    "duration": 14,
    "start_time": "2023-01-22T10:57:47.637Z"
   },
   {
    "duration": 25,
    "start_time": "2023-01-22T10:57:47.652Z"
   },
   {
    "duration": 7,
    "start_time": "2023-01-22T10:57:47.679Z"
   },
   {
    "duration": 119,
    "start_time": "2023-01-22T12:15:58.560Z"
   },
   {
    "duration": 1731,
    "start_time": "2023-01-22T12:16:11.806Z"
   },
   {
    "duration": 293,
    "start_time": "2023-01-22T12:16:13.539Z"
   },
   {
    "duration": 14,
    "start_time": "2023-01-22T12:16:13.833Z"
   },
   {
    "duration": 19,
    "start_time": "2023-01-22T12:16:13.849Z"
   },
   {
    "duration": 60,
    "start_time": "2023-01-22T12:16:13.870Z"
   },
   {
    "duration": 230,
    "start_time": "2023-01-22T12:16:13.932Z"
   },
   {
    "duration": 67,
    "start_time": "2023-01-22T12:16:14.164Z"
   },
   {
    "duration": 24,
    "start_time": "2023-01-22T12:16:14.232Z"
   },
   {
    "duration": 5,
    "start_time": "2023-01-22T12:16:14.258Z"
   },
   {
    "duration": 285,
    "start_time": "2023-01-22T12:16:14.265Z"
   },
   {
    "duration": 13,
    "start_time": "2023-01-22T12:16:14.552Z"
   },
   {
    "duration": 69,
    "start_time": "2023-01-22T12:16:14.566Z"
   },
   {
    "duration": 5,
    "start_time": "2023-01-22T12:16:14.637Z"
   },
   {
    "duration": 1386,
    "start_time": "2023-01-22T12:19:13.417Z"
   },
   {
    "duration": 147,
    "start_time": "2023-01-22T12:19:14.805Z"
   },
   {
    "duration": 13,
    "start_time": "2023-01-22T12:19:14.953Z"
   },
   {
    "duration": 27,
    "start_time": "2023-01-22T12:19:14.968Z"
   },
   {
    "duration": 33,
    "start_time": "2023-01-22T12:19:14.997Z"
   },
   {
    "duration": 236,
    "start_time": "2023-01-22T12:19:15.031Z"
   },
   {
    "duration": 61,
    "start_time": "2023-01-22T12:19:15.269Z"
   },
   {
    "duration": 19,
    "start_time": "2023-01-22T12:19:15.332Z"
   },
   {
    "duration": 5,
    "start_time": "2023-01-22T12:19:15.353Z"
   },
   {
    "duration": 288,
    "start_time": "2023-01-22T12:19:15.359Z"
   },
   {
    "duration": 12,
    "start_time": "2023-01-22T12:19:15.648Z"
   },
   {
    "duration": 71,
    "start_time": "2023-01-22T12:19:15.661Z"
   },
   {
    "duration": 5,
    "start_time": "2023-01-22T12:19:15.734Z"
   },
   {
    "duration": 118,
    "start_time": "2023-01-22T12:30:29.575Z"
   },
   {
    "duration": 8,
    "start_time": "2023-01-22T12:31:00.794Z"
   },
   {
    "duration": 1307,
    "start_time": "2023-01-22T13:03:36.980Z"
   },
   {
    "duration": 150,
    "start_time": "2023-01-22T13:03:38.289Z"
   },
   {
    "duration": 13,
    "start_time": "2023-01-22T13:03:38.440Z"
   },
   {
    "duration": 20,
    "start_time": "2023-01-22T13:03:38.455Z"
   },
   {
    "duration": 6,
    "start_time": "2023-01-22T13:03:38.477Z"
   },
   {
    "duration": 15,
    "start_time": "2023-01-22T13:03:38.484Z"
   },
   {
    "duration": 146,
    "start_time": "2023-01-22T13:03:38.501Z"
   },
   {
    "duration": 16,
    "start_time": "2023-01-22T13:03:38.650Z"
   },
   {
    "duration": 16,
    "start_time": "2023-01-22T13:03:38.668Z"
   },
   {
    "duration": 6,
    "start_time": "2023-01-22T13:03:38.686Z"
   },
   {
    "duration": 13,
    "start_time": "2023-01-22T13:03:38.694Z"
   },
   {
    "duration": 151,
    "start_time": "2023-01-22T13:03:38.708Z"
   },
   {
    "duration": 13,
    "start_time": "2023-01-22T13:03:38.861Z"
   },
   {
    "duration": 21,
    "start_time": "2023-01-22T13:03:38.878Z"
   },
   {
    "duration": 6,
    "start_time": "2023-01-22T13:03:38.901Z"
   },
   {
    "duration": 7,
    "start_time": "2023-01-22T13:03:38.927Z"
   },
   {
    "duration": 1537,
    "start_time": "2023-01-22T13:35:02.386Z"
   },
   {
    "duration": 153,
    "start_time": "2023-01-22T13:35:03.926Z"
   },
   {
    "duration": 14,
    "start_time": "2023-01-22T13:35:04.080Z"
   },
   {
    "duration": 32,
    "start_time": "2023-01-22T13:35:04.096Z"
   },
   {
    "duration": 7,
    "start_time": "2023-01-22T13:35:04.130Z"
   },
   {
    "duration": 11,
    "start_time": "2023-01-22T13:35:04.138Z"
   },
   {
    "duration": 116,
    "start_time": "2023-01-22T13:35:04.151Z"
   },
   {
    "duration": 0,
    "start_time": "2023-01-22T13:35:04.269Z"
   },
   {
    "duration": 0,
    "start_time": "2023-01-22T13:35:04.269Z"
   },
   {
    "duration": 1,
    "start_time": "2023-01-22T13:35:04.270Z"
   },
   {
    "duration": 0,
    "start_time": "2023-01-22T13:35:04.272Z"
   },
   {
    "duration": 0,
    "start_time": "2023-01-22T13:35:04.273Z"
   },
   {
    "duration": 0,
    "start_time": "2023-01-22T13:35:04.274Z"
   },
   {
    "duration": 0,
    "start_time": "2023-01-22T13:35:04.275Z"
   },
   {
    "duration": 0,
    "start_time": "2023-01-22T13:35:04.276Z"
   },
   {
    "duration": 0,
    "start_time": "2023-01-22T13:35:04.277Z"
   },
   {
    "duration": 0,
    "start_time": "2023-01-22T13:35:04.278Z"
   },
   {
    "duration": 0,
    "start_time": "2023-01-22T13:35:04.279Z"
   },
   {
    "duration": 0,
    "start_time": "2023-01-22T13:35:04.280Z"
   },
   {
    "duration": 1404,
    "start_time": "2023-01-22T13:35:55.833Z"
   },
   {
    "duration": 155,
    "start_time": "2023-01-22T13:35:57.239Z"
   },
   {
    "duration": 14,
    "start_time": "2023-01-22T13:35:57.396Z"
   },
   {
    "duration": 29,
    "start_time": "2023-01-22T13:35:57.412Z"
   },
   {
    "duration": 6,
    "start_time": "2023-01-22T13:35:57.442Z"
   },
   {
    "duration": 8,
    "start_time": "2023-01-22T13:35:57.450Z"
   },
   {
    "duration": 22,
    "start_time": "2023-01-22T13:35:57.460Z"
   },
   {
    "duration": 151,
    "start_time": "2023-01-22T13:35:57.484Z"
   },
   {
    "duration": 13,
    "start_time": "2023-01-22T13:35:57.636Z"
   },
   {
    "duration": 16,
    "start_time": "2023-01-22T13:35:57.651Z"
   },
   {
    "duration": 5,
    "start_time": "2023-01-22T13:35:57.669Z"
   },
   {
    "duration": 7,
    "start_time": "2023-01-22T13:35:57.676Z"
   },
   {
    "duration": 48,
    "start_time": "2023-01-22T13:35:57.685Z"
   },
   {
    "duration": 135,
    "start_time": "2023-01-22T13:35:57.735Z"
   },
   {
    "duration": 13,
    "start_time": "2023-01-22T13:35:57.872Z"
   },
   {
    "duration": 17,
    "start_time": "2023-01-22T13:35:57.886Z"
   },
   {
    "duration": 26,
    "start_time": "2023-01-22T13:35:57.904Z"
   },
   {
    "duration": 11,
    "start_time": "2023-01-22T13:35:57.932Z"
   },
   {
    "duration": 21,
    "start_time": "2023-01-22T13:35:57.945Z"
   },
   {
    "duration": 109,
    "start_time": "2023-01-22T13:36:42.598Z"
   },
   {
    "duration": 4,
    "start_time": "2023-01-22T13:36:53.649Z"
   },
   {
    "duration": 1457,
    "start_time": "2023-01-22T13:37:39.956Z"
   },
   {
    "duration": 164,
    "start_time": "2023-01-22T13:37:41.415Z"
   },
   {
    "duration": 14,
    "start_time": "2023-01-22T13:37:41.581Z"
   },
   {
    "duration": 25,
    "start_time": "2023-01-22T13:37:41.597Z"
   },
   {
    "duration": 7,
    "start_time": "2023-01-22T13:37:41.623Z"
   },
   {
    "duration": 8,
    "start_time": "2023-01-22T13:37:41.632Z"
   },
   {
    "duration": 21,
    "start_time": "2023-01-22T13:37:41.641Z"
   },
   {
    "duration": 150,
    "start_time": "2023-01-22T13:37:41.664Z"
   },
   {
    "duration": 22,
    "start_time": "2023-01-22T13:37:41.816Z"
   },
   {
    "duration": 20,
    "start_time": "2023-01-22T13:37:41.840Z"
   },
   {
    "duration": 6,
    "start_time": "2023-01-22T13:37:41.861Z"
   },
   {
    "duration": 7,
    "start_time": "2023-01-22T13:37:41.869Z"
   },
   {
    "duration": 19,
    "start_time": "2023-01-22T13:37:41.877Z"
   },
   {
    "duration": 158,
    "start_time": "2023-01-22T13:37:41.898Z"
   },
   {
    "duration": 13,
    "start_time": "2023-01-22T13:37:42.058Z"
   },
   {
    "duration": 16,
    "start_time": "2023-01-22T13:37:42.073Z"
   },
   {
    "duration": 4,
    "start_time": "2023-01-22T13:37:42.091Z"
   },
   {
    "duration": 30,
    "start_time": "2023-01-22T13:37:42.097Z"
   },
   {
    "duration": 18,
    "start_time": "2023-01-22T13:37:42.129Z"
   },
   {
    "duration": 1464,
    "start_time": "2023-01-22T13:39:19.779Z"
   },
   {
    "duration": 152,
    "start_time": "2023-01-22T13:39:21.245Z"
   },
   {
    "duration": 13,
    "start_time": "2023-01-22T13:39:21.399Z"
   },
   {
    "duration": 19,
    "start_time": "2023-01-22T13:39:21.428Z"
   },
   {
    "duration": 6,
    "start_time": "2023-01-22T13:39:21.449Z"
   },
   {
    "duration": 8,
    "start_time": "2023-01-22T13:39:21.457Z"
   },
   {
    "duration": 21,
    "start_time": "2023-01-22T13:39:21.466Z"
   },
   {
    "duration": 158,
    "start_time": "2023-01-22T13:39:21.488Z"
   },
   {
    "duration": 15,
    "start_time": "2023-01-22T13:39:21.648Z"
   },
   {
    "duration": 19,
    "start_time": "2023-01-22T13:39:21.665Z"
   },
   {
    "duration": 7,
    "start_time": "2023-01-22T13:39:21.685Z"
   },
   {
    "duration": 37,
    "start_time": "2023-01-22T13:39:21.693Z"
   },
   {
    "duration": 20,
    "start_time": "2023-01-22T13:39:21.732Z"
   },
   {
    "duration": 133,
    "start_time": "2023-01-22T13:39:21.753Z"
   },
   {
    "duration": 12,
    "start_time": "2023-01-22T13:39:21.888Z"
   },
   {
    "duration": 29,
    "start_time": "2023-01-22T13:39:21.902Z"
   },
   {
    "duration": 6,
    "start_time": "2023-01-22T13:39:21.932Z"
   },
   {
    "duration": 10,
    "start_time": "2023-01-22T13:39:21.940Z"
   },
   {
    "duration": 21,
    "start_time": "2023-01-22T13:39:21.951Z"
   },
   {
    "duration": 1434,
    "start_time": "2023-01-22T14:32:16.014Z"
   },
   {
    "duration": 163,
    "start_time": "2023-01-22T14:32:17.451Z"
   },
   {
    "duration": 18,
    "start_time": "2023-01-22T14:32:17.616Z"
   },
   {
    "duration": 19,
    "start_time": "2023-01-22T14:32:17.637Z"
   },
   {
    "duration": 5,
    "start_time": "2023-01-22T14:32:17.658Z"
   },
   {
    "duration": 8,
    "start_time": "2023-01-22T14:32:17.665Z"
   },
   {
    "duration": 19,
    "start_time": "2023-01-22T14:32:17.675Z"
   },
   {
    "duration": 161,
    "start_time": "2023-01-22T14:32:17.695Z"
   },
   {
    "duration": 12,
    "start_time": "2023-01-22T14:32:17.857Z"
   },
   {
    "duration": 19,
    "start_time": "2023-01-22T14:32:17.871Z"
   },
   {
    "duration": 5,
    "start_time": "2023-01-22T14:32:17.892Z"
   },
   {
    "duration": 9,
    "start_time": "2023-01-22T14:32:17.898Z"
   },
   {
    "duration": 37,
    "start_time": "2023-01-22T14:32:17.908Z"
   },
   {
    "duration": 139,
    "start_time": "2023-01-22T14:32:17.947Z"
   },
   {
    "duration": 13,
    "start_time": "2023-01-22T14:32:18.089Z"
   },
   {
    "duration": 30,
    "start_time": "2023-01-22T14:32:18.103Z"
   },
   {
    "duration": 5,
    "start_time": "2023-01-22T14:32:18.135Z"
   },
   {
    "duration": 12,
    "start_time": "2023-01-22T14:32:18.142Z"
   },
   {
    "duration": 19,
    "start_time": "2023-01-22T14:32:18.156Z"
   },
   {
    "duration": 2001,
    "start_time": "2023-01-22T15:27:18.982Z"
   },
   {
    "duration": 580,
    "start_time": "2023-01-22T15:27:20.985Z"
   },
   {
    "duration": 15,
    "start_time": "2023-01-22T15:27:21.567Z"
   },
   {
    "duration": 85,
    "start_time": "2023-01-22T15:27:21.585Z"
   },
   {
    "duration": 42,
    "start_time": "2023-01-22T15:27:21.672Z"
   },
   {
    "duration": 88,
    "start_time": "2023-01-22T15:27:21.717Z"
   },
   {
    "duration": 99,
    "start_time": "2023-01-22T15:27:21.807Z"
   },
   {
    "duration": 314,
    "start_time": "2023-01-22T15:27:21.908Z"
   },
   {
    "duration": 19,
    "start_time": "2023-01-22T15:27:22.224Z"
   },
   {
    "duration": 109,
    "start_time": "2023-01-22T15:27:22.247Z"
   },
   {
    "duration": 64,
    "start_time": "2023-01-22T15:27:22.359Z"
   },
   {
    "duration": 81,
    "start_time": "2023-01-22T15:27:22.425Z"
   },
   {
    "duration": 65,
    "start_time": "2023-01-22T15:27:22.509Z"
   },
   {
    "duration": 324,
    "start_time": "2023-01-22T15:27:22.576Z"
   },
   {
    "duration": 14,
    "start_time": "2023-01-22T15:27:22.902Z"
   },
   {
    "duration": 79,
    "start_time": "2023-01-22T15:27:22.917Z"
   },
   {
    "duration": 30,
    "start_time": "2023-01-22T15:27:22.997Z"
   },
   {
    "duration": 62,
    "start_time": "2023-01-22T15:27:23.029Z"
   },
   {
    "duration": 85,
    "start_time": "2023-01-22T15:27:23.093Z"
   },
   {
    "duration": 76,
    "start_time": "2023-01-22T15:27:23.180Z"
   },
   {
    "duration": 183,
    "start_time": "2023-01-22T15:27:23.259Z"
   },
   {
    "duration": 5,
    "start_time": "2023-01-22T15:27:45.674Z"
   },
   {
    "duration": 5,
    "start_time": "2023-01-22T15:27:49.885Z"
   },
   {
    "duration": 6,
    "start_time": "2023-01-22T15:27:53.452Z"
   },
   {
    "duration": 5,
    "start_time": "2023-01-22T15:27:55.212Z"
   },
   {
    "duration": 115,
    "start_time": "2023-01-22T15:27:59.536Z"
   },
   {
    "duration": 5,
    "start_time": "2023-01-22T15:27:59.925Z"
   },
   {
    "duration": 1871,
    "start_time": "2023-01-22T15:28:06.716Z"
   },
   {
    "duration": 242,
    "start_time": "2023-01-22T15:28:08.589Z"
   },
   {
    "duration": 20,
    "start_time": "2023-01-22T15:28:08.841Z"
   },
   {
    "duration": 47,
    "start_time": "2023-01-22T15:28:08.866Z"
   },
   {
    "duration": 8,
    "start_time": "2023-01-22T15:28:08.916Z"
   },
   {
    "duration": 63,
    "start_time": "2023-01-22T15:28:08.927Z"
   },
   {
    "duration": 47,
    "start_time": "2023-01-22T15:28:08.992Z"
   },
   {
    "duration": 248,
    "start_time": "2023-01-22T15:28:09.047Z"
   },
   {
    "duration": 19,
    "start_time": "2023-01-22T15:28:09.298Z"
   },
   {
    "duration": 66,
    "start_time": "2023-01-22T15:28:09.323Z"
   },
   {
    "duration": 25,
    "start_time": "2023-01-22T15:28:09.394Z"
   },
   {
    "duration": 19,
    "start_time": "2023-01-22T15:28:09.422Z"
   },
   {
    "duration": 48,
    "start_time": "2023-01-22T15:28:09.444Z"
   },
   {
    "duration": 218,
    "start_time": "2023-01-22T15:28:09.494Z"
   },
   {
    "duration": 26,
    "start_time": "2023-01-22T15:28:09.714Z"
   },
   {
    "duration": 30,
    "start_time": "2023-01-22T15:28:09.742Z"
   },
   {
    "duration": 30,
    "start_time": "2023-01-22T15:28:09.776Z"
   },
   {
    "duration": 13,
    "start_time": "2023-01-22T15:28:09.809Z"
   },
   {
    "duration": 28,
    "start_time": "2023-01-22T15:28:09.824Z"
   },
   {
    "duration": 34,
    "start_time": "2023-01-22T15:28:09.854Z"
   },
   {
    "duration": 53,
    "start_time": "2023-01-22T15:28:09.892Z"
   },
   {
    "duration": 17,
    "start_time": "2023-01-22T15:29:15.524Z"
   },
   {
    "duration": 5,
    "start_time": "2023-01-22T15:29:15.908Z"
   },
   {
    "duration": 5,
    "start_time": "2023-01-22T15:29:34.181Z"
   },
   {
    "duration": 14,
    "start_time": "2023-01-22T15:30:34.798Z"
   },
   {
    "duration": 5,
    "start_time": "2023-01-22T15:30:35.133Z"
   },
   {
    "duration": 1634,
    "start_time": "2023-01-22T15:30:39.569Z"
   },
   {
    "duration": 194,
    "start_time": "2023-01-22T15:30:41.205Z"
   },
   {
    "duration": 15,
    "start_time": "2023-01-22T15:30:41.401Z"
   },
   {
    "duration": 36,
    "start_time": "2023-01-22T15:30:41.418Z"
   },
   {
    "duration": 5,
    "start_time": "2023-01-22T15:30:41.456Z"
   },
   {
    "duration": 10,
    "start_time": "2023-01-22T15:30:41.462Z"
   },
   {
    "duration": 25,
    "start_time": "2023-01-22T15:30:41.474Z"
   },
   {
    "duration": 164,
    "start_time": "2023-01-22T15:30:41.501Z"
   },
   {
    "duration": 13,
    "start_time": "2023-01-22T15:30:41.667Z"
   },
   {
    "duration": 17,
    "start_time": "2023-01-22T15:30:41.683Z"
   },
   {
    "duration": 5,
    "start_time": "2023-01-22T15:30:41.702Z"
   },
   {
    "duration": 8,
    "start_time": "2023-01-22T15:30:41.739Z"
   },
   {
    "duration": 28,
    "start_time": "2023-01-22T15:30:41.748Z"
   },
   {
    "duration": 185,
    "start_time": "2023-01-22T15:30:41.778Z"
   },
   {
    "duration": 13,
    "start_time": "2023-01-22T15:30:41.965Z"
   },
   {
    "duration": 21,
    "start_time": "2023-01-22T15:30:41.980Z"
   },
   {
    "duration": 8,
    "start_time": "2023-01-22T15:30:42.004Z"
   },
   {
    "duration": 26,
    "start_time": "2023-01-22T15:30:42.014Z"
   },
   {
    "duration": 24,
    "start_time": "2023-01-22T15:30:42.042Z"
   },
   {
    "duration": 73,
    "start_time": "2023-01-22T15:30:42.068Z"
   },
   {
    "duration": 94,
    "start_time": "2023-01-22T15:30:42.145Z"
   },
   {
    "duration": 102,
    "start_time": "2023-01-22T15:30:42.241Z"
   },
   {
    "duration": 98,
    "start_time": "2023-01-22T15:30:42.346Z"
   },
   {
    "duration": 109,
    "start_time": "2023-01-22T15:30:42.446Z"
   },
   {
    "duration": 90,
    "start_time": "2023-01-22T15:30:42.557Z"
   },
   {
    "duration": 4,
    "start_time": "2023-01-22T15:58:31.042Z"
   },
   {
    "duration": 6,
    "start_time": "2023-01-22T16:03:36.264Z"
   },
   {
    "duration": 2138,
    "start_time": "2023-01-22T16:03:56.602Z"
   },
   {
    "duration": 423,
    "start_time": "2023-01-22T16:03:58.743Z"
   },
   {
    "duration": 15,
    "start_time": "2023-01-22T16:03:59.168Z"
   },
   {
    "duration": 72,
    "start_time": "2023-01-22T16:03:59.185Z"
   },
   {
    "duration": 8,
    "start_time": "2023-01-22T16:03:59.259Z"
   },
   {
    "duration": 25,
    "start_time": "2023-01-22T16:03:59.268Z"
   },
   {
    "duration": 62,
    "start_time": "2023-01-22T16:03:59.295Z"
   },
   {
    "duration": 159,
    "start_time": "2023-01-22T16:03:59.359Z"
   },
   {
    "duration": 26,
    "start_time": "2023-01-22T16:03:59.520Z"
   },
   {
    "duration": 17,
    "start_time": "2023-01-22T16:03:59.550Z"
   },
   {
    "duration": 6,
    "start_time": "2023-01-22T16:03:59.569Z"
   },
   {
    "duration": 7,
    "start_time": "2023-01-22T16:03:59.577Z"
   },
   {
    "duration": 22,
    "start_time": "2023-01-22T16:03:59.585Z"
   },
   {
    "duration": 178,
    "start_time": "2023-01-22T16:03:59.609Z"
   },
   {
    "duration": 12,
    "start_time": "2023-01-22T16:03:59.789Z"
   },
   {
    "duration": 18,
    "start_time": "2023-01-22T16:03:59.803Z"
   },
   {
    "duration": 20,
    "start_time": "2023-01-22T16:03:59.823Z"
   },
   {
    "duration": 26,
    "start_time": "2023-01-22T16:03:59.844Z"
   },
   {
    "duration": 20,
    "start_time": "2023-01-22T16:03:59.872Z"
   },
   {
    "duration": 47,
    "start_time": "2023-01-22T16:03:59.894Z"
   },
   {
    "duration": 96,
    "start_time": "2023-01-22T16:03:59.944Z"
   },
   {
    "duration": 22,
    "start_time": "2023-01-22T16:04:00.042Z"
   },
   {
    "duration": 77,
    "start_time": "2023-01-22T16:04:00.066Z"
   },
   {
    "duration": 142,
    "start_time": "2023-01-22T16:04:00.145Z"
   },
   {
    "duration": 267,
    "start_time": "2023-01-22T16:04:00.289Z"
   },
   {
    "duration": 6,
    "start_time": "2023-01-22T16:04:13.530Z"
   },
   {
    "duration": 6,
    "start_time": "2023-01-22T16:04:24.689Z"
   },
   {
    "duration": 6,
    "start_time": "2023-01-22T16:04:48.723Z"
   },
   {
    "duration": 7,
    "start_time": "2023-01-22T16:04:58.972Z"
   },
   {
    "duration": 6,
    "start_time": "2023-01-22T16:05:08.177Z"
   },
   {
    "duration": 6,
    "start_time": "2023-01-22T16:05:12.682Z"
   },
   {
    "duration": 2461,
    "start_time": "2023-01-22T16:07:22.101Z"
   },
   {
    "duration": 385,
    "start_time": "2023-01-22T16:07:24.564Z"
   },
   {
    "duration": 21,
    "start_time": "2023-01-22T16:07:24.952Z"
   },
   {
    "duration": 90,
    "start_time": "2023-01-22T16:07:24.975Z"
   },
   {
    "duration": 73,
    "start_time": "2023-01-22T16:07:25.068Z"
   },
   {
    "duration": 7,
    "start_time": "2023-01-22T16:07:25.144Z"
   },
   {
    "duration": 105,
    "start_time": "2023-01-22T16:07:25.153Z"
   },
   {
    "duration": 319,
    "start_time": "2023-01-22T16:07:25.260Z"
   },
   {
    "duration": 69,
    "start_time": "2023-01-22T16:07:25.581Z"
   },
   {
    "duration": 93,
    "start_time": "2023-01-22T16:07:25.652Z"
   },
   {
    "duration": 8,
    "start_time": "2023-01-22T16:07:25.747Z"
   },
   {
    "duration": 83,
    "start_time": "2023-01-22T16:07:25.757Z"
   },
   {
    "duration": 98,
    "start_time": "2023-01-22T16:07:25.842Z"
   },
   {
    "duration": 156,
    "start_time": "2023-01-22T16:07:25.943Z"
   },
   {
    "duration": 15,
    "start_time": "2023-01-22T16:07:26.101Z"
   },
   {
    "duration": 41,
    "start_time": "2023-01-22T16:07:26.118Z"
   },
   {
    "duration": 82,
    "start_time": "2023-01-22T16:07:26.161Z"
   },
   {
    "duration": 48,
    "start_time": "2023-01-22T16:07:26.245Z"
   },
   {
    "duration": 47,
    "start_time": "2023-01-22T16:07:26.295Z"
   },
   {
    "duration": 39,
    "start_time": "2023-01-22T16:07:26.344Z"
   },
   {
    "duration": 108,
    "start_time": "2023-01-22T16:07:26.441Z"
   },
   {
    "duration": 67,
    "start_time": "2023-01-22T16:07:26.551Z"
   },
   {
    "duration": 133,
    "start_time": "2023-01-22T16:07:26.624Z"
   },
   {
    "duration": 78,
    "start_time": "2023-01-22T16:07:26.759Z"
   },
   {
    "duration": 204,
    "start_time": "2023-01-22T16:07:26.839Z"
   },
   {
    "duration": 1519,
    "start_time": "2023-01-22T16:36:18.459Z"
   },
   {
    "duration": 172,
    "start_time": "2023-01-22T16:36:19.980Z"
   },
   {
    "duration": 16,
    "start_time": "2023-01-22T16:36:20.153Z"
   },
   {
    "duration": 53,
    "start_time": "2023-01-22T16:36:20.171Z"
   },
   {
    "duration": 47,
    "start_time": "2023-01-22T16:36:20.226Z"
   },
   {
    "duration": 39,
    "start_time": "2023-01-22T16:36:20.274Z"
   },
   {
    "duration": 68,
    "start_time": "2023-01-22T16:36:20.315Z"
   },
   {
    "duration": 179,
    "start_time": "2023-01-22T16:36:20.385Z"
   },
   {
    "duration": 15,
    "start_time": "2023-01-22T16:36:20.565Z"
   },
   {
    "duration": 54,
    "start_time": "2023-01-22T16:36:20.582Z"
   },
   {
    "duration": 33,
    "start_time": "2023-01-22T16:36:20.637Z"
   },
   {
    "duration": 53,
    "start_time": "2023-01-22T16:36:20.673Z"
   },
   {
    "duration": 54,
    "start_time": "2023-01-22T16:36:20.728Z"
   },
   {
    "duration": 174,
    "start_time": "2023-01-22T16:36:20.783Z"
   },
   {
    "duration": 14,
    "start_time": "2023-01-22T16:36:20.960Z"
   },
   {
    "duration": 61,
    "start_time": "2023-01-22T16:36:20.976Z"
   },
   {
    "duration": 30,
    "start_time": "2023-01-22T16:36:21.039Z"
   },
   {
    "duration": 28,
    "start_time": "2023-01-22T16:36:21.071Z"
   },
   {
    "duration": 37,
    "start_time": "2023-01-22T16:36:21.101Z"
   },
   {
    "duration": 40,
    "start_time": "2023-01-22T16:36:21.139Z"
   },
   {
    "duration": 163,
    "start_time": "2023-01-22T16:36:21.181Z"
   },
   {
    "duration": 42,
    "start_time": "2023-01-22T16:36:21.345Z"
   },
   {
    "duration": 159,
    "start_time": "2023-01-22T16:36:21.390Z"
   },
   {
    "duration": 61,
    "start_time": "2023-01-22T16:36:21.551Z"
   },
   {
    "duration": 129,
    "start_time": "2023-01-22T16:36:21.614Z"
   },
   {
    "duration": 1357,
    "start_time": "2023-01-22T16:36:50.794Z"
   },
   {
    "duration": 172,
    "start_time": "2023-01-22T16:36:52.153Z"
   },
   {
    "duration": 23,
    "start_time": "2023-01-22T16:36:52.328Z"
   },
   {
    "duration": 20,
    "start_time": "2023-01-22T16:36:52.354Z"
   },
   {
    "duration": 6,
    "start_time": "2023-01-22T16:36:52.376Z"
   },
   {
    "duration": 10,
    "start_time": "2023-01-22T16:36:52.384Z"
   },
   {
    "duration": 44,
    "start_time": "2023-01-22T16:36:52.396Z"
   },
   {
    "duration": 153,
    "start_time": "2023-01-22T16:36:52.441Z"
   },
   {
    "duration": 14,
    "start_time": "2023-01-22T16:36:52.595Z"
   },
   {
    "duration": 31,
    "start_time": "2023-01-22T16:36:52.612Z"
   },
   {
    "duration": 6,
    "start_time": "2023-01-22T16:36:52.645Z"
   },
   {
    "duration": 8,
    "start_time": "2023-01-22T16:36:52.653Z"
   },
   {
    "duration": 21,
    "start_time": "2023-01-22T16:36:52.662Z"
   },
   {
    "duration": 160,
    "start_time": "2023-01-22T16:36:52.684Z"
   },
   {
    "duration": 15,
    "start_time": "2023-01-22T16:36:52.846Z"
   },
   {
    "duration": 15,
    "start_time": "2023-01-22T16:36:52.863Z"
   },
   {
    "duration": 4,
    "start_time": "2023-01-22T16:36:52.880Z"
   },
   {
    "duration": 6,
    "start_time": "2023-01-22T16:36:52.886Z"
   },
   {
    "duration": 48,
    "start_time": "2023-01-22T16:36:52.894Z"
   },
   {
    "duration": 16,
    "start_time": "2023-01-22T16:36:52.944Z"
   },
   {
    "duration": 81,
    "start_time": "2023-01-22T16:36:52.962Z"
   },
   {
    "duration": 110,
    "start_time": "2023-01-22T16:36:53.045Z"
   },
   {
    "duration": 83,
    "start_time": "2023-01-22T16:36:53.158Z"
   },
   {
    "duration": 102,
    "start_time": "2023-01-22T16:36:53.243Z"
   },
   {
    "duration": 6,
    "start_time": "2023-01-22T16:36:53.348Z"
   },
   {
    "duration": 52,
    "start_time": "2023-01-22T21:14:31.039Z"
   },
   {
    "duration": 2262,
    "start_time": "2023-01-22T21:17:45.667Z"
   },
   {
    "duration": 404,
    "start_time": "2023-01-22T21:17:47.931Z"
   },
   {
    "duration": 11,
    "start_time": "2023-01-22T21:17:48.336Z"
   },
   {
    "duration": 17,
    "start_time": "2023-01-22T21:17:48.350Z"
   },
   {
    "duration": 5,
    "start_time": "2023-01-22T21:17:48.369Z"
   },
   {
    "duration": 8,
    "start_time": "2023-01-22T21:17:48.387Z"
   },
   {
    "duration": 26,
    "start_time": "2023-01-22T21:17:48.397Z"
   },
   {
    "duration": 597,
    "start_time": "2023-01-22T21:17:48.425Z"
   },
   {
    "duration": 14,
    "start_time": "2023-01-22T21:17:49.024Z"
   },
   {
    "duration": 20,
    "start_time": "2023-01-22T21:17:49.042Z"
   },
   {
    "duration": 6,
    "start_time": "2023-01-22T21:17:49.065Z"
   },
   {
    "duration": 16,
    "start_time": "2023-01-22T21:17:49.073Z"
   },
   {
    "duration": 22,
    "start_time": "2023-01-22T21:17:49.093Z"
   },
   {
    "duration": 568,
    "start_time": "2023-01-22T21:17:49.117Z"
   },
   {
    "duration": 14,
    "start_time": "2023-01-22T21:17:49.688Z"
   },
   {
    "duration": 19,
    "start_time": "2023-01-22T21:17:49.705Z"
   },
   {
    "duration": 6,
    "start_time": "2023-01-22T21:17:49.726Z"
   },
   {
    "duration": 7,
    "start_time": "2023-01-22T21:17:49.734Z"
   },
   {
    "duration": 51,
    "start_time": "2023-01-22T21:17:49.742Z"
   },
   {
    "duration": 13,
    "start_time": "2023-01-22T21:17:49.795Z"
   },
   {
    "duration": 74,
    "start_time": "2023-01-22T21:17:49.810Z"
   },
   {
    "duration": 112,
    "start_time": "2023-01-22T21:17:49.886Z"
   },
   {
    "duration": 185,
    "start_time": "2023-01-22T21:17:50.000Z"
   },
   {
    "duration": 17,
    "start_time": "2023-01-22T21:17:50.186Z"
   },
   {
    "duration": 87,
    "start_time": "2023-01-22T21:17:50.206Z"
   },
   {
    "duration": 97,
    "start_time": "2023-01-22T21:17:50.298Z"
   },
   {
    "duration": 1411,
    "start_time": "2023-01-25T12:31:47.067Z"
   },
   {
    "duration": 525,
    "start_time": "2023-01-25T12:31:48.480Z"
   },
   {
    "duration": 14,
    "start_time": "2023-01-25T12:31:49.006Z"
   },
   {
    "duration": 19,
    "start_time": "2023-01-25T12:31:49.021Z"
   },
   {
    "duration": 8,
    "start_time": "2023-01-25T12:31:49.042Z"
   },
   {
    "duration": 8,
    "start_time": "2023-01-25T12:31:49.052Z"
   },
   {
    "duration": 20,
    "start_time": "2023-01-25T12:31:49.061Z"
   },
   {
    "duration": 202,
    "start_time": "2023-01-25T12:31:49.082Z"
   },
   {
    "duration": 10,
    "start_time": "2023-01-25T12:31:49.286Z"
   },
   {
    "duration": 10,
    "start_time": "2023-01-25T12:31:49.298Z"
   },
   {
    "duration": 4,
    "start_time": "2023-01-25T12:31:49.310Z"
   },
   {
    "duration": 9,
    "start_time": "2023-01-25T12:31:49.315Z"
   },
   {
    "duration": 20,
    "start_time": "2023-01-25T12:31:49.326Z"
   },
   {
    "duration": 206,
    "start_time": "2023-01-25T12:31:49.347Z"
   },
   {
    "duration": 11,
    "start_time": "2023-01-25T12:31:49.554Z"
   },
   {
    "duration": 12,
    "start_time": "2023-01-25T12:31:49.566Z"
   },
   {
    "duration": 4,
    "start_time": "2023-01-25T12:31:49.579Z"
   },
   {
    "duration": 7,
    "start_time": "2023-01-25T12:31:49.585Z"
   },
   {
    "duration": 20,
    "start_time": "2023-01-25T12:31:49.593Z"
   },
   {
    "duration": 129,
    "start_time": "2023-01-25T12:31:49.614Z"
   },
   {
    "duration": 96,
    "start_time": "2023-01-25T12:31:49.744Z"
   },
   {
    "duration": 17,
    "start_time": "2023-01-25T12:31:49.842Z"
   },
   {
    "duration": 6,
    "start_time": "2023-01-25T12:31:49.938Z"
   },
   {
    "duration": 107,
    "start_time": "2023-01-25T12:31:49.945Z"
   },
   {
    "duration": 88,
    "start_time": "2023-01-25T12:31:50.053Z"
   },
   {
    "duration": 109,
    "start_time": "2023-01-25T12:31:50.143Z"
   },
   {
    "duration": 1291,
    "start_time": "2023-01-25T12:35:49.126Z"
   },
   {
    "duration": 142,
    "start_time": "2023-01-25T12:35:50.419Z"
   },
   {
    "duration": 13,
    "start_time": "2023-01-25T12:35:50.562Z"
   },
   {
    "duration": 1323,
    "start_time": "2023-01-25T12:36:25.270Z"
   },
   {
    "duration": 145,
    "start_time": "2023-01-25T12:36:26.595Z"
   },
   {
    "duration": 13,
    "start_time": "2023-01-25T12:36:26.742Z"
   },
   {
    "duration": 1522,
    "start_time": "2023-01-25T12:38:12.849Z"
   },
   {
    "duration": 287,
    "start_time": "2023-01-25T12:38:14.373Z"
   },
   {
    "duration": 12,
    "start_time": "2023-01-25T12:38:14.662Z"
   },
   {
    "duration": 521487,
    "start_time": "2023-01-25T12:38:14.676Z"
   },
   {
    "duration": 8,
    "start_time": "2023-01-25T12:46:56.165Z"
   },
   {
    "duration": 26,
    "start_time": "2023-01-25T12:46:56.175Z"
   },
   {
    "duration": 24,
    "start_time": "2023-01-25T12:46:56.202Z"
   },
   {
    "duration": 40,
    "start_time": "2023-01-25T12:46:56.228Z"
   },
   {
    "duration": 149,
    "start_time": "2023-01-25T12:46:56.269Z"
   },
   {
    "duration": 10,
    "start_time": "2023-01-25T12:46:56.419Z"
   },
   {
    "duration": 32,
    "start_time": "2023-01-25T12:46:56.431Z"
   },
   {
    "duration": 21,
    "start_time": "2023-01-25T12:46:56.464Z"
   },
   {
    "duration": 30,
    "start_time": "2023-01-25T12:46:56.486Z"
   },
   {
    "duration": 48,
    "start_time": "2023-01-25T12:46:56.518Z"
   },
   {
    "duration": 158,
    "start_time": "2023-01-25T12:46:56.567Z"
   },
   {
    "duration": 16,
    "start_time": "2023-01-25T12:46:56.726Z"
   },
   {
    "duration": 39,
    "start_time": "2023-01-25T12:46:56.743Z"
   },
   {
    "duration": 26,
    "start_time": "2023-01-25T12:46:56.783Z"
   },
   {
    "duration": 28,
    "start_time": "2023-01-25T12:46:56.810Z"
   },
   {
    "duration": 50,
    "start_time": "2023-01-25T12:46:56.839Z"
   },
   {
    "duration": 28,
    "start_time": "2023-01-25T12:46:56.890Z"
   },
   {
    "duration": 142,
    "start_time": "2023-01-25T12:46:56.919Z"
   },
   {
    "duration": 74,
    "start_time": "2023-01-25T12:46:57.063Z"
   },
   {
    "duration": 114,
    "start_time": "2023-01-25T12:46:57.139Z"
   },
   {
    "duration": 41,
    "start_time": "2023-01-25T12:46:57.255Z"
   },
   {
    "duration": 140,
    "start_time": "2023-01-25T12:46:57.298Z"
   },
   {
    "duration": 17,
    "start_time": "2023-01-25T12:46:57.439Z"
   },
   {
    "duration": 1251,
    "start_time": "2023-01-25T12:49:05.100Z"
   },
   {
    "duration": 148,
    "start_time": "2023-01-25T12:49:06.353Z"
   },
   {
    "duration": 13,
    "start_time": "2023-01-25T12:49:06.502Z"
   },
   {
    "duration": 31175,
    "start_time": "2023-01-25T12:49:06.516Z"
   },
   {
    "duration": 0,
    "start_time": "2023-01-25T12:49:37.693Z"
   },
   {
    "duration": 0,
    "start_time": "2023-01-25T12:49:37.694Z"
   },
   {
    "duration": 0,
    "start_time": "2023-01-25T12:49:37.695Z"
   },
   {
    "duration": 0,
    "start_time": "2023-01-25T12:49:37.697Z"
   },
   {
    "duration": 0,
    "start_time": "2023-01-25T12:49:37.697Z"
   },
   {
    "duration": 0,
    "start_time": "2023-01-25T12:49:37.698Z"
   },
   {
    "duration": 0,
    "start_time": "2023-01-25T12:49:37.699Z"
   },
   {
    "duration": 0,
    "start_time": "2023-01-25T12:49:37.700Z"
   },
   {
    "duration": 0,
    "start_time": "2023-01-25T12:49:37.701Z"
   },
   {
    "duration": 0,
    "start_time": "2023-01-25T12:49:37.702Z"
   },
   {
    "duration": 0,
    "start_time": "2023-01-25T12:49:37.702Z"
   },
   {
    "duration": 0,
    "start_time": "2023-01-25T12:49:37.704Z"
   },
   {
    "duration": 0,
    "start_time": "2023-01-25T12:49:37.705Z"
   },
   {
    "duration": 0,
    "start_time": "2023-01-25T12:49:37.706Z"
   },
   {
    "duration": 1,
    "start_time": "2023-01-25T12:49:37.706Z"
   },
   {
    "duration": 0,
    "start_time": "2023-01-25T12:49:37.707Z"
   },
   {
    "duration": 0,
    "start_time": "2023-01-25T12:49:37.708Z"
   },
   {
    "duration": 0,
    "start_time": "2023-01-25T12:49:37.737Z"
   },
   {
    "duration": 0,
    "start_time": "2023-01-25T12:49:37.738Z"
   },
   {
    "duration": 0,
    "start_time": "2023-01-25T12:49:37.739Z"
   },
   {
    "duration": 0,
    "start_time": "2023-01-25T12:49:37.740Z"
   },
   {
    "duration": 0,
    "start_time": "2023-01-25T12:49:37.741Z"
   },
   {
    "duration": 0,
    "start_time": "2023-01-25T12:49:37.742Z"
   },
   {
    "duration": 1263,
    "start_time": "2023-01-25T12:50:31.147Z"
   },
   {
    "duration": 164,
    "start_time": "2023-01-25T12:50:32.412Z"
   },
   {
    "duration": 14,
    "start_time": "2023-01-25T12:50:32.577Z"
   },
   {
    "duration": 369,
    "start_time": "2023-01-25T12:50:32.593Z"
   },
   {
    "duration": 11,
    "start_time": "2023-01-25T12:50:32.964Z"
   },
   {
    "duration": 22,
    "start_time": "2023-01-25T12:50:32.976Z"
   },
   {
    "duration": 18,
    "start_time": "2023-01-25T12:50:32.999Z"
   },
   {
    "duration": 35,
    "start_time": "2023-01-25T12:50:33.019Z"
   },
   {
    "duration": 196,
    "start_time": "2023-01-25T12:50:33.055Z"
   },
   {
    "duration": 11,
    "start_time": "2023-01-25T12:50:33.253Z"
   },
   {
    "duration": 80,
    "start_time": "2023-01-25T12:50:33.266Z"
   },
   {
    "duration": 5,
    "start_time": "2023-01-25T12:50:33.347Z"
   },
   {
    "duration": 23,
    "start_time": "2023-01-25T12:50:33.353Z"
   },
   {
    "duration": 74,
    "start_time": "2023-01-25T12:50:33.377Z"
   },
   {
    "duration": 284,
    "start_time": "2023-01-25T12:50:33.453Z"
   },
   {
    "duration": 11,
    "start_time": "2023-01-25T12:50:33.739Z"
   },
   {
    "duration": 12,
    "start_time": "2023-01-25T12:50:33.752Z"
   },
   {
    "duration": 5,
    "start_time": "2023-01-25T12:50:33.766Z"
   },
   {
    "duration": 9,
    "start_time": "2023-01-25T12:50:33.773Z"
   },
   {
    "duration": 70,
    "start_time": "2023-01-25T12:50:33.784Z"
   },
   {
    "duration": 13,
    "start_time": "2023-01-25T12:50:33.855Z"
   },
   {
    "duration": 72,
    "start_time": "2023-01-25T12:50:33.869Z"
   },
   {
    "duration": 102,
    "start_time": "2023-01-25T12:50:33.943Z"
   },
   {
    "duration": 91,
    "start_time": "2023-01-25T12:50:34.047Z"
   },
   {
    "duration": 122,
    "start_time": "2023-01-25T12:50:34.140Z"
   },
   {
    "duration": 102,
    "start_time": "2023-01-25T12:50:34.338Z"
   },
   {
    "duration": 12,
    "start_time": "2023-01-25T12:50:34.442Z"
   },
   {
    "duration": 244,
    "start_time": "2023-01-25T12:51:54.372Z"
   },
   {
    "duration": 252,
    "start_time": "2023-01-25T12:52:00.751Z"
   },
   {
    "duration": 1226,
    "start_time": "2023-01-25T12:57:10.075Z"
   },
   {
    "duration": 173,
    "start_time": "2023-01-25T12:57:11.303Z"
   },
   {
    "duration": 62,
    "start_time": "2023-01-25T12:57:11.477Z"
   },
   {
    "duration": 599,
    "start_time": "2023-01-25T12:57:11.541Z"
   },
   {
    "duration": 10,
    "start_time": "2023-01-25T12:57:12.141Z"
   },
   {
    "duration": 8,
    "start_time": "2023-01-25T12:57:12.152Z"
   },
   {
    "duration": 14,
    "start_time": "2023-01-25T12:57:12.162Z"
   },
   {
    "duration": 71,
    "start_time": "2023-01-25T12:57:12.177Z"
   },
   {
    "duration": 292,
    "start_time": "2023-01-25T12:57:12.250Z"
   },
   {
    "duration": 12,
    "start_time": "2023-01-25T12:57:12.544Z"
   },
   {
    "duration": 523,
    "start_time": "2023-01-25T12:57:12.558Z"
   },
   {
    "duration": 63,
    "start_time": "2023-01-25T12:57:13.082Z"
   },
   {
    "duration": 4,
    "start_time": "2023-01-25T12:57:13.146Z"
   },
   {
    "duration": 9,
    "start_time": "2023-01-25T12:57:13.151Z"
   },
   {
    "duration": 17,
    "start_time": "2023-01-25T12:57:13.162Z"
   },
   {
    "duration": 273,
    "start_time": "2023-01-25T12:57:13.180Z"
   },
   {
    "duration": 10,
    "start_time": "2023-01-25T12:57:13.455Z"
   },
   {
    "duration": 509,
    "start_time": "2023-01-25T12:57:13.466Z"
   },
   {
    "duration": 60,
    "start_time": "2023-01-25T12:57:13.977Z"
   },
   {
    "duration": 3,
    "start_time": "2023-01-25T12:57:14.039Z"
   },
   {
    "duration": 9,
    "start_time": "2023-01-25T12:57:14.044Z"
   },
   {
    "duration": 18,
    "start_time": "2023-01-25T12:57:14.055Z"
   },
   {
    "duration": 67,
    "start_time": "2023-01-25T12:57:14.075Z"
   },
   {
    "duration": 96,
    "start_time": "2023-01-25T12:57:14.143Z"
   },
   {
    "duration": 18,
    "start_time": "2023-01-25T12:57:14.241Z"
   },
   {
    "duration": 6,
    "start_time": "2023-01-25T12:57:14.338Z"
   },
   {
    "duration": 108,
    "start_time": "2023-01-25T12:57:14.348Z"
   },
   {
    "duration": 81,
    "start_time": "2023-01-25T12:57:14.460Z"
   },
   {
    "duration": 107,
    "start_time": "2023-01-25T12:57:14.542Z"
   },
   {
    "duration": 4,
    "start_time": "2023-01-25T13:25:45.008Z"
   },
   {
    "duration": 4,
    "start_time": "2023-01-25T13:26:45.447Z"
   },
   {
    "duration": 4,
    "start_time": "2023-01-25T13:26:56.579Z"
   },
   {
    "duration": 1724,
    "start_time": "2023-01-25T15:30:13.272Z"
   },
   {
    "duration": 1006,
    "start_time": "2023-01-25T15:30:14.998Z"
   },
   {
    "duration": 15,
    "start_time": "2023-01-25T15:30:16.006Z"
   },
   {
    "duration": 466,
    "start_time": "2023-01-25T15:30:16.023Z"
   },
   {
    "duration": 11,
    "start_time": "2023-01-25T15:30:16.491Z"
   },
   {
    "duration": 28,
    "start_time": "2023-01-25T15:30:16.504Z"
   },
   {
    "duration": 28,
    "start_time": "2023-01-25T15:30:16.534Z"
   },
   {
    "duration": 45,
    "start_time": "2023-01-25T15:30:16.564Z"
   },
   {
    "duration": 299,
    "start_time": "2023-01-25T15:30:16.611Z"
   },
   {
    "duration": 14,
    "start_time": "2023-01-25T15:30:16.913Z"
   },
   {
    "duration": 415,
    "start_time": "2023-01-25T15:30:16.928Z"
   },
   {
    "duration": 12,
    "start_time": "2023-01-25T15:30:17.345Z"
   },
   {
    "duration": 9,
    "start_time": "2023-01-25T15:30:17.359Z"
   },
   {
    "duration": 7,
    "start_time": "2023-01-25T15:30:17.385Z"
   },
   {
    "duration": 46,
    "start_time": "2023-01-25T15:30:17.394Z"
   },
   {
    "duration": 247,
    "start_time": "2023-01-25T15:30:17.442Z"
   },
   {
    "duration": 14,
    "start_time": "2023-01-25T15:30:17.691Z"
   },
   {
    "duration": 407,
    "start_time": "2023-01-25T15:30:17.707Z"
   },
   {
    "duration": 11,
    "start_time": "2023-01-25T15:30:18.116Z"
   },
   {
    "duration": 25,
    "start_time": "2023-01-25T15:30:18.129Z"
   },
   {
    "duration": 16,
    "start_time": "2023-01-25T15:30:18.156Z"
   },
   {
    "duration": 44,
    "start_time": "2023-01-25T15:30:18.174Z"
   },
   {
    "duration": 165,
    "start_time": "2023-01-25T15:30:18.220Z"
   },
   {
    "duration": 12,
    "start_time": "2023-01-25T15:30:18.388Z"
   },
   {
    "duration": 106,
    "start_time": "2023-01-25T15:30:18.485Z"
   },
   {
    "duration": 16,
    "start_time": "2023-01-25T15:30:18.683Z"
   },
   {
    "duration": 83,
    "start_time": "2023-01-25T15:30:18.701Z"
   },
   {
    "duration": 22,
    "start_time": "2023-01-25T15:30:18.884Z"
   },
   {
    "duration": 34,
    "start_time": "2023-01-25T15:30:18.908Z"
   },
   {
    "duration": 10,
    "start_time": "2023-01-29T17:14:55.226Z"
   },
   {
    "duration": 3,
    "start_time": "2023-01-29T17:16:36.104Z"
   },
   {
    "duration": 46,
    "start_time": "2023-01-30T07:26:09.160Z"
   },
   {
    "duration": 2,
    "start_time": "2023-01-30T07:26:13.308Z"
   },
   {
    "duration": 8,
    "start_time": "2023-01-30T07:26:13.694Z"
   },
   {
    "duration": 5,
    "start_time": "2023-01-30T07:26:30.849Z"
   },
   {
    "duration": 6,
    "start_time": "2023-01-30T07:26:46.815Z"
   },
   {
    "duration": 6,
    "start_time": "2023-01-30T07:27:02.545Z"
   },
   {
    "duration": 5,
    "start_time": "2023-01-30T07:27:20.417Z"
   },
   {
    "duration": 7,
    "start_time": "2023-01-30T07:27:34.704Z"
   },
   {
    "duration": 3,
    "start_time": "2023-01-30T07:29:40.961Z"
   },
   {
    "duration": 6,
    "start_time": "2023-01-30T07:29:41.289Z"
   },
   {
    "duration": 3,
    "start_time": "2023-01-30T07:30:17.392Z"
   },
   {
    "duration": 5,
    "start_time": "2023-01-30T07:30:27.369Z"
   },
   {
    "duration": 4,
    "start_time": "2023-01-30T07:30:49.665Z"
   },
   {
    "duration": 3,
    "start_time": "2023-01-30T07:31:19.913Z"
   },
   {
    "duration": 7,
    "start_time": "2023-01-30T07:31:27.288Z"
   },
   {
    "duration": 3,
    "start_time": "2023-01-30T07:31:31.177Z"
   },
   {
    "duration": 3,
    "start_time": "2023-01-30T07:34:02.745Z"
   },
   {
    "duration": 3,
    "start_time": "2023-01-30T07:34:28.049Z"
   },
   {
    "duration": 3,
    "start_time": "2023-01-30T07:35:35.641Z"
   },
   {
    "duration": 4,
    "start_time": "2023-01-30T07:36:00.034Z"
   },
   {
    "duration": 3,
    "start_time": "2023-01-30T07:36:06.737Z"
   },
   {
    "duration": 78,
    "start_time": "2023-01-30T07:36:49.881Z"
   },
   {
    "duration": 6,
    "start_time": "2023-01-30T07:37:05.394Z"
   },
   {
    "duration": 6,
    "start_time": "2023-01-30T07:37:17.609Z"
   },
   {
    "duration": 53,
    "start_time": "2023-01-30T07:37:24.408Z"
   },
   {
    "duration": 6,
    "start_time": "2023-01-30T07:37:49.432Z"
   },
   {
    "duration": 4,
    "start_time": "2023-01-30T07:38:09.335Z"
   },
   {
    "duration": 43,
    "start_time": "2023-01-30T07:38:59.816Z"
   },
   {
    "duration": 3,
    "start_time": "2023-01-30T07:39:16.657Z"
   },
   {
    "duration": 4,
    "start_time": "2023-01-30T08:03:41.465Z"
   },
   {
    "duration": 4,
    "start_time": "2023-01-30T08:03:42.081Z"
   },
   {
    "duration": 4,
    "start_time": "2023-01-30T08:04:49.841Z"
   },
   {
    "duration": 5,
    "start_time": "2023-01-30T08:07:25.972Z"
   },
   {
    "duration": 2189,
    "start_time": "2023-01-30T08:10:28.667Z"
   },
   {
    "duration": 4,
    "start_time": "2023-01-30T08:10:30.858Z"
   },
   {
    "duration": 631,
    "start_time": "2023-01-30T08:10:30.864Z"
   },
   {
    "duration": 18,
    "start_time": "2023-01-30T08:10:31.497Z"
   },
   {
    "duration": 436,
    "start_time": "2023-01-30T08:10:31.517Z"
   },
   {
    "duration": 12,
    "start_time": "2023-01-30T08:10:31.955Z"
   },
   {
    "duration": 5,
    "start_time": "2023-01-30T08:10:31.969Z"
   },
   {
    "duration": 6,
    "start_time": "2023-01-30T08:10:31.977Z"
   },
   {
    "duration": 20,
    "start_time": "2023-01-30T08:10:31.985Z"
   },
   {
    "duration": 247,
    "start_time": "2023-01-30T08:10:32.008Z"
   },
   {
    "duration": 11,
    "start_time": "2023-01-30T08:10:32.257Z"
   },
   {
    "duration": 361,
    "start_time": "2023-01-30T08:10:32.270Z"
   },
   {
    "duration": 19,
    "start_time": "2023-01-30T08:10:32.634Z"
   },
   {
    "duration": 6,
    "start_time": "2023-01-30T08:10:32.656Z"
   },
   {
    "duration": 34,
    "start_time": "2023-01-30T08:10:32.664Z"
   },
   {
    "duration": 22,
    "start_time": "2023-01-30T08:10:32.700Z"
   },
   {
    "duration": 224,
    "start_time": "2023-01-30T08:10:32.724Z"
   },
   {
    "duration": 12,
    "start_time": "2023-01-30T08:10:32.950Z"
   },
   {
    "duration": 343,
    "start_time": "2023-01-30T08:10:32.964Z"
   },
   {
    "duration": 10,
    "start_time": "2023-01-30T08:10:33.309Z"
   },
   {
    "duration": 33,
    "start_time": "2023-01-30T08:10:33.321Z"
   },
   {
    "duration": 21,
    "start_time": "2023-01-30T08:10:33.355Z"
   },
   {
    "duration": 42,
    "start_time": "2023-01-30T08:10:33.378Z"
   },
   {
    "duration": 35,
    "start_time": "2023-01-30T08:10:33.422Z"
   },
   {
    "duration": 195,
    "start_time": "2023-01-30T08:10:33.461Z"
   },
   {
    "duration": 57,
    "start_time": "2023-01-30T08:10:33.658Z"
   },
   {
    "duration": 42,
    "start_time": "2023-01-30T08:10:33.719Z"
   },
   {
    "duration": 107,
    "start_time": "2023-01-30T08:10:33.764Z"
   },
   {
    "duration": 5,
    "start_time": "2023-01-30T08:10:33.873Z"
   },
   {
    "duration": 282,
    "start_time": "2023-01-30T08:10:33.880Z"
   },
   {
    "duration": 0,
    "start_time": "2023-01-30T08:10:34.164Z"
   },
   {
    "duration": 0,
    "start_time": "2023-01-30T08:10:34.165Z"
   },
   {
    "duration": 0,
    "start_time": "2023-01-30T08:10:34.167Z"
   },
   {
    "duration": 0,
    "start_time": "2023-01-30T08:10:34.168Z"
   },
   {
    "duration": 0,
    "start_time": "2023-01-30T08:10:34.169Z"
   },
   {
    "duration": 4,
    "start_time": "2023-01-30T08:10:55.727Z"
   },
   {
    "duration": 4,
    "start_time": "2023-01-30T08:10:56.192Z"
   },
   {
    "duration": 2068,
    "start_time": "2023-01-30T08:10:59.387Z"
   },
   {
    "duration": 3,
    "start_time": "2023-01-30T08:11:01.457Z"
   },
   {
    "duration": 338,
    "start_time": "2023-01-30T08:11:01.462Z"
   },
   {
    "duration": 15,
    "start_time": "2023-01-30T08:11:01.853Z"
   },
   {
    "duration": 461,
    "start_time": "2023-01-30T08:11:01.870Z"
   },
   {
    "duration": 10,
    "start_time": "2023-01-30T08:11:02.333Z"
   },
   {
    "duration": 16,
    "start_time": "2023-01-30T08:11:02.353Z"
   },
   {
    "duration": 32,
    "start_time": "2023-01-30T08:11:02.371Z"
   },
   {
    "duration": 81,
    "start_time": "2023-01-30T08:11:02.405Z"
   },
   {
    "duration": 207,
    "start_time": "2023-01-30T08:11:02.488Z"
   },
   {
    "duration": 12,
    "start_time": "2023-01-30T08:11:02.697Z"
   },
   {
    "duration": 392,
    "start_time": "2023-01-30T08:11:02.711Z"
   },
   {
    "duration": 11,
    "start_time": "2023-01-30T08:11:03.105Z"
   },
   {
    "duration": 58,
    "start_time": "2023-01-30T08:11:03.119Z"
   },
   {
    "duration": 58,
    "start_time": "2023-01-30T08:11:03.179Z"
   },
   {
    "duration": 30,
    "start_time": "2023-01-30T08:11:03.239Z"
   },
   {
    "duration": 162,
    "start_time": "2023-01-30T08:11:03.270Z"
   },
   {
    "duration": 11,
    "start_time": "2023-01-30T08:11:03.434Z"
   },
   {
    "duration": 391,
    "start_time": "2023-01-30T08:11:03.454Z"
   },
   {
    "duration": 10,
    "start_time": "2023-01-30T08:11:03.847Z"
   },
   {
    "duration": 13,
    "start_time": "2023-01-30T08:11:03.858Z"
   },
   {
    "duration": 20,
    "start_time": "2023-01-30T08:11:03.872Z"
   },
   {
    "duration": 35,
    "start_time": "2023-01-30T08:11:03.893Z"
   },
   {
    "duration": 39,
    "start_time": "2023-01-30T08:11:03.930Z"
   },
   {
    "duration": 7,
    "start_time": "2023-01-30T08:11:04.052Z"
   },
   {
    "duration": 106,
    "start_time": "2023-01-30T08:11:04.060Z"
   },
   {
    "duration": 188,
    "start_time": "2023-01-30T08:11:04.168Z"
   },
   {
    "duration": 30,
    "start_time": "2023-01-30T08:11:04.358Z"
   },
   {
    "duration": 169,
    "start_time": "2023-01-30T08:11:04.390Z"
   },
   {
    "duration": 21,
    "start_time": "2023-01-30T08:11:04.561Z"
   },
   {
    "duration": 31,
    "start_time": "2023-01-30T08:11:04.584Z"
   },
   {
    "duration": 16,
    "start_time": "2023-01-30T08:11:04.617Z"
   },
   {
    "duration": 20,
    "start_time": "2023-01-30T08:11:04.634Z"
   },
   {
    "duration": 37,
    "start_time": "2023-01-30T08:11:04.655Z"
   },
   {
    "duration": 21,
    "start_time": "2023-01-30T08:11:04.694Z"
   },
   {
    "duration": 6,
    "start_time": "2023-01-30T09:19:35.084Z"
   },
   {
    "duration": 14,
    "start_time": "2023-01-30T09:19:47.275Z"
   },
   {
    "duration": 10,
    "start_time": "2023-01-30T09:20:05.897Z"
   },
   {
    "duration": 145,
    "start_time": "2023-01-30T09:20:10.994Z"
   },
   {
    "duration": 11,
    "start_time": "2023-01-30T09:20:17.505Z"
   },
   {
    "duration": 9,
    "start_time": "2023-01-30T09:25:57.195Z"
   },
   {
    "duration": 11,
    "start_time": "2023-01-30T09:26:37.628Z"
   },
   {
    "duration": 12,
    "start_time": "2023-01-30T09:26:38.594Z"
   },
   {
    "duration": 11,
    "start_time": "2023-01-30T09:26:39.627Z"
   },
   {
    "duration": 15,
    "start_time": "2023-01-30T09:32:32.149Z"
   },
   {
    "duration": 9,
    "start_time": "2023-01-30T09:32:33.018Z"
   },
   {
    "duration": 4,
    "start_time": "2023-01-30T10:41:23.348Z"
   },
   {
    "duration": 4,
    "start_time": "2023-01-30T10:47:18.399Z"
   },
   {
    "duration": 5,
    "start_time": "2023-01-30T10:56:58.349Z"
   },
   {
    "duration": 4,
    "start_time": "2023-01-30T11:15:41.412Z"
   },
   {
    "duration": 4,
    "start_time": "2023-01-30T11:22:05.834Z"
   },
   {
    "duration": 7,
    "start_time": "2023-01-30T11:23:41.990Z"
   },
   {
    "duration": 5,
    "start_time": "2023-01-30T11:24:43.321Z"
   },
   {
    "duration": 4,
    "start_time": "2023-01-30T11:24:54.665Z"
   },
   {
    "duration": 4,
    "start_time": "2023-01-30T11:24:58.567Z"
   },
   {
    "duration": 1438,
    "start_time": "2023-01-30T11:32:18.024Z"
   },
   {
    "duration": 3,
    "start_time": "2023-01-30T11:32:19.464Z"
   },
   {
    "duration": 491,
    "start_time": "2023-01-30T11:32:19.469Z"
   },
   {
    "duration": 16,
    "start_time": "2023-01-30T11:32:19.962Z"
   },
   {
    "duration": 382,
    "start_time": "2023-01-30T11:32:19.980Z"
   },
   {
    "duration": 14,
    "start_time": "2023-01-30T11:32:20.364Z"
   },
   {
    "duration": 5,
    "start_time": "2023-01-30T11:32:20.380Z"
   },
   {
    "duration": 29,
    "start_time": "2023-01-30T11:32:20.387Z"
   },
   {
    "duration": 24,
    "start_time": "2023-01-30T11:32:20.418Z"
   },
   {
    "duration": 146,
    "start_time": "2023-01-30T11:32:20.453Z"
   },
   {
    "duration": 12,
    "start_time": "2023-01-30T11:32:20.600Z"
   },
   {
    "duration": 412,
    "start_time": "2023-01-30T11:32:20.613Z"
   },
   {
    "duration": 12,
    "start_time": "2023-01-30T11:32:21.026Z"
   },
   {
    "duration": 17,
    "start_time": "2023-01-30T11:32:21.040Z"
   },
   {
    "duration": 25,
    "start_time": "2023-01-30T11:32:21.059Z"
   },
   {
    "duration": 27,
    "start_time": "2023-01-30T11:32:21.086Z"
   },
   {
    "duration": 162,
    "start_time": "2023-01-30T11:32:21.115Z"
   },
   {
    "duration": 14,
    "start_time": "2023-01-30T11:32:21.279Z"
   },
   {
    "duration": 419,
    "start_time": "2023-01-30T11:32:21.294Z"
   },
   {
    "duration": 11,
    "start_time": "2023-01-30T11:32:21.714Z"
   },
   {
    "duration": 13,
    "start_time": "2023-01-30T11:32:21.728Z"
   },
   {
    "duration": 8,
    "start_time": "2023-01-30T11:32:21.753Z"
   },
   {
    "duration": 30,
    "start_time": "2023-01-30T11:32:21.762Z"
   },
   {
    "duration": 62,
    "start_time": "2023-01-30T11:32:21.794Z"
   },
   {
    "duration": 98,
    "start_time": "2023-01-30T11:32:21.858Z"
   },
   {
    "duration": 96,
    "start_time": "2023-01-30T11:32:21.959Z"
   },
   {
    "duration": 6,
    "start_time": "2023-01-30T11:32:22.058Z"
   },
   {
    "duration": 185,
    "start_time": "2023-01-30T11:32:22.068Z"
   },
   {
    "duration": 98,
    "start_time": "2023-01-30T11:32:22.258Z"
   },
   {
    "duration": 22,
    "start_time": "2023-01-30T11:32:22.358Z"
   },
   {
    "duration": 41,
    "start_time": "2023-01-30T11:32:22.382Z"
   },
   {
    "duration": 26,
    "start_time": "2023-01-30T11:32:22.425Z"
   },
   {
    "duration": 25,
    "start_time": "2023-01-30T11:32:22.453Z"
   },
   {
    "duration": 26,
    "start_time": "2023-01-30T11:32:22.480Z"
   },
   {
    "duration": 19,
    "start_time": "2023-01-30T11:32:22.508Z"
   },
   {
    "duration": 29,
    "start_time": "2023-01-30T11:32:22.529Z"
   },
   {
    "duration": 18,
    "start_time": "2023-01-30T11:32:22.560Z"
   },
   {
    "duration": 40,
    "start_time": "2023-01-30T11:32:22.581Z"
   },
   {
    "duration": 34,
    "start_time": "2023-01-30T11:32:22.622Z"
   },
   {
    "duration": 26,
    "start_time": "2023-01-30T11:32:22.657Z"
   },
   {
    "duration": 2158,
    "start_time": "2023-01-30T13:57:07.112Z"
   },
   {
    "duration": 3,
    "start_time": "2023-01-30T13:57:09.275Z"
   },
   {
    "duration": 179,
    "start_time": "2023-01-30T13:57:09.280Z"
   },
   {
    "duration": 12,
    "start_time": "2023-01-30T13:57:09.461Z"
   },
   {
    "duration": 413,
    "start_time": "2023-01-30T13:57:09.474Z"
   },
   {
    "duration": 11,
    "start_time": "2023-01-30T13:57:09.889Z"
   },
   {
    "duration": 4,
    "start_time": "2023-01-30T13:57:09.902Z"
   },
   {
    "duration": 8,
    "start_time": "2023-01-30T13:57:09.920Z"
   },
   {
    "duration": 22,
    "start_time": "2023-01-30T13:57:09.929Z"
   },
   {
    "duration": 158,
    "start_time": "2023-01-30T13:57:09.954Z"
   },
   {
    "duration": 17,
    "start_time": "2023-01-30T13:57:10.114Z"
   },
   {
    "duration": 347,
    "start_time": "2023-01-30T13:57:10.133Z"
   },
   {
    "duration": 12,
    "start_time": "2023-01-30T13:57:10.481Z"
   },
   {
    "duration": 4,
    "start_time": "2023-01-30T13:57:10.495Z"
   },
   {
    "duration": 20,
    "start_time": "2023-01-30T13:57:10.501Z"
   },
   {
    "duration": 20,
    "start_time": "2023-01-30T13:57:10.523Z"
   },
   {
    "duration": 173,
    "start_time": "2023-01-30T13:57:10.545Z"
   },
   {
    "duration": 12,
    "start_time": "2023-01-30T13:57:10.721Z"
   },
   {
    "duration": 350,
    "start_time": "2023-01-30T13:57:10.734Z"
   },
   {
    "duration": 10,
    "start_time": "2023-01-30T13:57:11.086Z"
   },
   {
    "duration": 6,
    "start_time": "2023-01-30T13:57:11.098Z"
   },
   {
    "duration": 7,
    "start_time": "2023-01-30T13:57:11.120Z"
   },
   {
    "duration": 22,
    "start_time": "2023-01-30T13:57:11.129Z"
   },
   {
    "duration": 15,
    "start_time": "2023-01-30T13:57:11.153Z"
   },
   {
    "duration": 57,
    "start_time": "2023-01-30T13:57:11.169Z"
   },
   {
    "duration": 15,
    "start_time": "2023-01-30T13:57:11.321Z"
   },
   {
    "duration": 6,
    "start_time": "2023-01-30T13:57:11.338Z"
   },
   {
    "duration": 100,
    "start_time": "2023-01-30T13:57:11.423Z"
   },
   {
    "duration": 99,
    "start_time": "2023-01-30T13:57:11.525Z"
   },
   {
    "duration": 102,
    "start_time": "2023-01-30T13:57:11.627Z"
   },
   {
    "duration": 7,
    "start_time": "2023-01-30T13:57:11.731Z"
   },
   {
    "duration": 12,
    "start_time": "2023-01-30T13:57:11.740Z"
   },
   {
    "duration": 6,
    "start_time": "2023-01-30T13:57:11.753Z"
   },
   {
    "duration": 7,
    "start_time": "2023-01-30T13:57:11.760Z"
   },
   {
    "duration": 8,
    "start_time": "2023-01-30T13:57:11.769Z"
   },
   {
    "duration": 5,
    "start_time": "2023-01-30T13:57:11.778Z"
   },
   {
    "duration": 36,
    "start_time": "2023-01-30T13:57:11.785Z"
   },
   {
    "duration": 16,
    "start_time": "2023-01-30T13:57:11.823Z"
   },
   {
    "duration": 11,
    "start_time": "2023-01-30T13:57:11.841Z"
   },
   {
    "duration": 10,
    "start_time": "2023-01-30T13:57:11.854Z"
   },
   {
    "duration": 6,
    "start_time": "2023-01-30T14:00:07.811Z"
   },
   {
    "duration": 6,
    "start_time": "2023-01-30T14:00:20.576Z"
   },
   {
    "duration": 6,
    "start_time": "2023-01-30T14:00:25.704Z"
   },
   {
    "duration": 6,
    "start_time": "2023-01-30T14:00:34.977Z"
   },
   {
    "duration": 6,
    "start_time": "2023-01-30T14:00:40.727Z"
   },
   {
    "duration": 1570,
    "start_time": "2023-02-01T09:31:50.234Z"
   },
   {
    "duration": 4,
    "start_time": "2023-02-01T09:31:51.806Z"
   },
   {
    "duration": 417,
    "start_time": "2023-02-01T09:31:51.811Z"
   },
   {
    "duration": 14,
    "start_time": "2023-02-01T09:31:52.230Z"
   },
   {
    "duration": 414,
    "start_time": "2023-02-01T09:31:52.246Z"
   },
   {
    "duration": 12,
    "start_time": "2023-02-01T09:31:52.662Z"
   },
   {
    "duration": 6,
    "start_time": "2023-02-01T09:31:52.675Z"
   },
   {
    "duration": 15,
    "start_time": "2023-02-01T09:31:52.683Z"
   },
   {
    "duration": 37,
    "start_time": "2023-02-01T09:31:52.700Z"
   },
   {
    "duration": 592,
    "start_time": "2023-02-01T09:31:52.741Z"
   },
   {
    "duration": 13,
    "start_time": "2023-02-01T09:31:53.335Z"
   },
   {
    "duration": 344,
    "start_time": "2023-02-01T09:31:53.350Z"
   },
   {
    "duration": 11,
    "start_time": "2023-02-01T09:31:53.696Z"
   },
   {
    "duration": 6,
    "start_time": "2023-02-01T09:31:53.708Z"
   },
   {
    "duration": 21,
    "start_time": "2023-02-01T09:31:53.715Z"
   },
   {
    "duration": 18,
    "start_time": "2023-02-01T09:31:53.738Z"
   },
   {
    "duration": 606,
    "start_time": "2023-02-01T09:31:53.758Z"
   },
   {
    "duration": 13,
    "start_time": "2023-02-01T09:31:54.366Z"
   },
   {
    "duration": 403,
    "start_time": "2023-02-01T09:31:54.381Z"
   },
   {
    "duration": 12,
    "start_time": "2023-02-01T09:31:54.786Z"
   },
   {
    "duration": 7,
    "start_time": "2023-02-01T09:31:54.800Z"
   },
   {
    "duration": 28,
    "start_time": "2023-02-01T09:31:54.809Z"
   },
   {
    "duration": 18,
    "start_time": "2023-02-01T09:31:54.839Z"
   },
   {
    "duration": 178,
    "start_time": "2023-02-01T09:31:54.859Z"
   },
   {
    "duration": 6,
    "start_time": "2023-02-01T09:31:55.040Z"
   },
   {
    "duration": 100,
    "start_time": "2023-02-01T09:31:55.050Z"
   },
   {
    "duration": 101,
    "start_time": "2023-02-01T09:31:55.152Z"
   },
   {
    "duration": 105,
    "start_time": "2023-02-01T09:31:55.257Z"
   },
   {
    "duration": 77,
    "start_time": "2023-02-01T09:31:55.365Z"
   },
   {
    "duration": 100,
    "start_time": "2023-02-01T09:31:55.445Z"
   },
   {
    "duration": 7,
    "start_time": "2023-02-01T09:31:55.547Z"
   },
   {
    "duration": 14,
    "start_time": "2023-02-01T09:31:55.556Z"
   },
   {
    "duration": 8,
    "start_time": "2023-02-01T09:31:55.572Z"
   },
   {
    "duration": 6,
    "start_time": "2023-02-01T09:31:55.582Z"
   },
   {
    "duration": 9,
    "start_time": "2023-02-01T09:31:55.589Z"
   },
   {
    "duration": 4,
    "start_time": "2023-02-01T09:31:55.599Z"
   },
   {
    "duration": 33,
    "start_time": "2023-02-01T09:31:55.604Z"
   },
   {
    "duration": 23,
    "start_time": "2023-02-01T09:31:55.640Z"
   },
   {
    "duration": 20,
    "start_time": "2023-02-01T09:31:55.665Z"
   },
   {
    "duration": 14,
    "start_time": "2023-02-01T09:31:55.687Z"
   },
   {
    "duration": 5,
    "start_time": "2023-02-01T10:38:23.682Z"
   },
   {
    "duration": 126,
    "start_time": "2023-02-01T10:46:14.994Z"
   },
   {
    "duration": 5,
    "start_time": "2023-02-01T10:47:56.692Z"
   },
   {
    "duration": 1509,
    "start_time": "2023-02-01T10:48:01.167Z"
   },
   {
    "duration": 4,
    "start_time": "2023-02-01T10:48:02.678Z"
   },
   {
    "duration": 194,
    "start_time": "2023-02-01T10:48:02.686Z"
   },
   {
    "duration": 16,
    "start_time": "2023-02-01T10:48:02.883Z"
   },
   {
    "duration": 435,
    "start_time": "2023-02-01T10:48:02.901Z"
   },
   {
    "duration": 14,
    "start_time": "2023-02-01T10:48:03.338Z"
   },
   {
    "duration": 27,
    "start_time": "2023-02-01T10:48:03.355Z"
   },
   {
    "duration": 57,
    "start_time": "2023-02-01T10:48:03.384Z"
   },
   {
    "duration": 39,
    "start_time": "2023-02-01T10:48:03.443Z"
   },
   {
    "duration": 288,
    "start_time": "2023-02-01T10:48:03.484Z"
   },
   {
    "duration": 64,
    "start_time": "2023-02-01T10:48:03.774Z"
   },
   {
    "duration": 625,
    "start_time": "2023-02-01T10:48:03.840Z"
   },
   {
    "duration": 69,
    "start_time": "2023-02-01T10:48:04.469Z"
   },
   {
    "duration": 8,
    "start_time": "2023-02-01T10:48:04.539Z"
   },
   {
    "duration": 35,
    "start_time": "2023-02-01T10:48:04.548Z"
   },
   {
    "duration": 66,
    "start_time": "2023-02-01T10:48:04.585Z"
   },
   {
    "duration": 320,
    "start_time": "2023-02-01T10:48:04.652Z"
   },
   {
    "duration": 65,
    "start_time": "2023-02-01T10:48:04.974Z"
   },
   {
    "duration": 508,
    "start_time": "2023-02-01T10:48:05.041Z"
   },
   {
    "duration": 12,
    "start_time": "2023-02-01T10:48:05.551Z"
   },
   {
    "duration": 6,
    "start_time": "2023-02-01T10:48:05.565Z"
   },
   {
    "duration": 9,
    "start_time": "2023-02-01T10:48:05.572Z"
   },
   {
    "duration": 26,
    "start_time": "2023-02-01T10:48:05.582Z"
   },
   {
    "duration": 32,
    "start_time": "2023-02-01T10:48:05.610Z"
   },
   {
    "duration": 7,
    "start_time": "2023-02-01T10:48:05.647Z"
   },
   {
    "duration": 182,
    "start_time": "2023-02-01T10:48:05.655Z"
   },
   {
    "duration": 102,
    "start_time": "2023-02-01T10:48:05.840Z"
   },
   {
    "duration": 103,
    "start_time": "2023-02-01T10:48:05.944Z"
   },
   {
    "duration": 191,
    "start_time": "2023-02-01T10:48:06.049Z"
   },
   {
    "duration": 28,
    "start_time": "2023-02-01T10:48:06.243Z"
   },
   {
    "duration": 33,
    "start_time": "2023-02-01T10:48:06.272Z"
   },
   {
    "duration": 21,
    "start_time": "2023-02-01T10:48:06.307Z"
   },
   {
    "duration": 16,
    "start_time": "2023-02-01T10:48:06.330Z"
   },
   {
    "duration": 29,
    "start_time": "2023-02-01T10:48:06.348Z"
   },
   {
    "duration": 23,
    "start_time": "2023-02-01T10:48:06.379Z"
   },
   {
    "duration": 17,
    "start_time": "2023-02-01T10:48:06.404Z"
   },
   {
    "duration": 32,
    "start_time": "2023-02-01T10:48:06.423Z"
   },
   {
    "duration": 34,
    "start_time": "2023-02-01T10:48:06.456Z"
   },
   {
    "duration": 1088,
    "start_time": "2023-02-01T10:48:06.492Z"
   },
   {
    "duration": 0,
    "start_time": "2023-02-01T10:48:07.582Z"
   },
   {
    "duration": 0,
    "start_time": "2023-02-01T10:48:07.583Z"
   },
   {
    "duration": 5,
    "start_time": "2023-02-01T10:49:39.061Z"
   },
   {
    "duration": 1027,
    "start_time": "2023-02-01T10:49:42.256Z"
   },
   {
    "duration": 6,
    "start_time": "2023-02-01T10:54:08.010Z"
   },
   {
    "duration": 4,
    "start_time": "2023-02-01T10:55:41.504Z"
   },
   {
    "duration": 6,
    "start_time": "2023-02-01T10:56:43.929Z"
   },
   {
    "duration": 976,
    "start_time": "2023-02-01T10:56:46.552Z"
   },
   {
    "duration": 1986,
    "start_time": "2023-02-01T10:56:52.299Z"
   },
   {
    "duration": 3,
    "start_time": "2023-02-01T10:56:54.338Z"
   },
   {
    "duration": 412,
    "start_time": "2023-02-01T10:56:54.343Z"
   },
   {
    "duration": 14,
    "start_time": "2023-02-01T10:56:54.757Z"
   },
   {
    "duration": 506,
    "start_time": "2023-02-01T10:56:54.774Z"
   },
   {
    "duration": 12,
    "start_time": "2023-02-01T10:56:55.283Z"
   },
   {
    "duration": 5,
    "start_time": "2023-02-01T10:56:55.297Z"
   },
   {
    "duration": 13,
    "start_time": "2023-02-01T10:56:55.304Z"
   },
   {
    "duration": 21,
    "start_time": "2023-02-01T10:56:55.336Z"
   },
   {
    "duration": 144,
    "start_time": "2023-02-01T10:56:55.358Z"
   },
   {
    "duration": 12,
    "start_time": "2023-02-01T10:56:55.504Z"
   },
   {
    "duration": 377,
    "start_time": "2023-02-01T10:56:55.518Z"
   },
   {
    "duration": 11,
    "start_time": "2023-02-01T10:56:55.897Z"
   },
   {
    "duration": 5,
    "start_time": "2023-02-01T10:56:55.912Z"
   },
   {
    "duration": 7,
    "start_time": "2023-02-01T10:56:55.936Z"
   },
   {
    "duration": 24,
    "start_time": "2023-02-01T10:56:55.945Z"
   },
   {
    "duration": 157,
    "start_time": "2023-02-01T10:56:55.971Z"
   },
   {
    "duration": 14,
    "start_time": "2023-02-01T10:56:56.130Z"
   },
   {
    "duration": 351,
    "start_time": "2023-02-01T10:56:56.145Z"
   },
   {
    "duration": 11,
    "start_time": "2023-02-01T10:56:56.497Z"
   },
   {
    "duration": 6,
    "start_time": "2023-02-01T10:56:56.510Z"
   },
   {
    "duration": 24,
    "start_time": "2023-02-01T10:56:56.517Z"
   },
   {
    "duration": 26,
    "start_time": "2023-02-01T10:56:56.543Z"
   },
   {
    "duration": 13,
    "start_time": "2023-02-01T10:56:56.571Z"
   },
   {
    "duration": 61,
    "start_time": "2023-02-01T10:56:56.586Z"
   },
   {
    "duration": 113,
    "start_time": "2023-02-01T10:56:56.649Z"
   },
   {
    "duration": 7,
    "start_time": "2023-02-01T10:56:56.764Z"
   },
   {
    "duration": 108,
    "start_time": "2023-02-01T10:56:56.836Z"
   },
   {
    "duration": 94,
    "start_time": "2023-02-01T10:56:56.947Z"
   },
   {
    "duration": 109,
    "start_time": "2023-02-01T10:56:57.043Z"
   },
   {
    "duration": 13,
    "start_time": "2023-02-01T10:56:57.153Z"
   },
   {
    "duration": 6,
    "start_time": "2023-02-01T10:56:57.168Z"
   },
   {
    "duration": 8,
    "start_time": "2023-02-01T10:56:57.175Z"
   },
   {
    "duration": 11,
    "start_time": "2023-02-01T10:56:57.184Z"
   },
   {
    "duration": 14,
    "start_time": "2023-02-01T10:56:57.197Z"
   },
   {
    "duration": 3,
    "start_time": "2023-02-01T10:56:57.213Z"
   },
   {
    "duration": 7,
    "start_time": "2023-02-01T10:56:57.218Z"
   },
   {
    "duration": 20,
    "start_time": "2023-02-01T10:56:57.227Z"
   },
   {
    "duration": 1066,
    "start_time": "2023-02-01T10:56:57.249Z"
   },
   {
    "duration": 0,
    "start_time": "2023-02-01T10:56:58.317Z"
   },
   {
    "duration": 0,
    "start_time": "2023-02-01T10:56:58.318Z"
   },
   {
    "duration": 6,
    "start_time": "2023-02-01T10:57:47.061Z"
   },
   {
    "duration": 948,
    "start_time": "2023-02-01T10:57:49.249Z"
   },
   {
    "duration": 6,
    "start_time": "2023-02-01T11:17:31.516Z"
   },
   {
    "duration": 2305,
    "start_time": "2023-02-01T11:17:35.552Z"
   },
   {
    "duration": 3,
    "start_time": "2023-02-01T11:17:37.859Z"
   },
   {
    "duration": 373,
    "start_time": "2023-02-01T11:17:37.864Z"
   },
   {
    "duration": 15,
    "start_time": "2023-02-01T11:17:38.239Z"
   },
   {
    "duration": 700,
    "start_time": "2023-02-01T11:17:38.256Z"
   },
   {
    "duration": 15,
    "start_time": "2023-02-01T11:17:38.959Z"
   },
   {
    "duration": 62,
    "start_time": "2023-02-01T11:17:38.975Z"
   },
   {
    "duration": 10,
    "start_time": "2023-02-01T11:17:39.039Z"
   },
   {
    "duration": 29,
    "start_time": "2023-02-01T11:17:39.051Z"
   },
   {
    "duration": 380,
    "start_time": "2023-02-01T11:17:39.083Z"
   },
   {
    "duration": 12,
    "start_time": "2023-02-01T11:17:39.465Z"
   },
   {
    "duration": 493,
    "start_time": "2023-02-01T11:17:39.479Z"
   },
   {
    "duration": 12,
    "start_time": "2023-02-01T11:17:39.974Z"
   },
   {
    "duration": 48,
    "start_time": "2023-02-01T11:17:39.988Z"
   },
   {
    "duration": 32,
    "start_time": "2023-02-01T11:17:40.038Z"
   },
   {
    "duration": 40,
    "start_time": "2023-02-01T11:17:40.072Z"
   },
   {
    "duration": 170,
    "start_time": "2023-02-01T11:17:40.115Z"
   },
   {
    "duration": 12,
    "start_time": "2023-02-01T11:17:40.286Z"
   },
   {
    "duration": 384,
    "start_time": "2023-02-01T11:17:40.300Z"
   },
   {
    "duration": 10,
    "start_time": "2023-02-01T11:17:40.686Z"
   },
   {
    "duration": 5,
    "start_time": "2023-02-01T11:17:40.698Z"
   },
   {
    "duration": 11,
    "start_time": "2023-02-01T11:17:40.704Z"
   },
   {
    "duration": 35,
    "start_time": "2023-02-01T11:17:40.717Z"
   },
   {
    "duration": 17,
    "start_time": "2023-02-01T11:17:40.754Z"
   },
   {
    "duration": 73,
    "start_time": "2023-02-01T11:17:40.772Z"
   },
   {
    "duration": 108,
    "start_time": "2023-02-01T11:17:40.847Z"
   },
   {
    "duration": 6,
    "start_time": "2023-02-01T11:17:40.958Z"
   },
   {
    "duration": 97,
    "start_time": "2023-02-01T11:17:41.044Z"
   },
   {
    "duration": 93,
    "start_time": "2023-02-01T11:17:41.147Z"
   },
   {
    "duration": 99,
    "start_time": "2023-02-01T11:17:41.243Z"
   },
   {
    "duration": 9,
    "start_time": "2023-02-01T11:17:41.344Z"
   },
   {
    "duration": 7,
    "start_time": "2023-02-01T11:17:41.355Z"
   },
   {
    "duration": 7,
    "start_time": "2023-02-01T11:17:41.364Z"
   },
   {
    "duration": 6,
    "start_time": "2023-02-01T11:17:41.372Z"
   },
   {
    "duration": 24,
    "start_time": "2023-02-01T11:17:41.380Z"
   },
   {
    "duration": 6,
    "start_time": "2023-02-01T11:17:41.405Z"
   },
   {
    "duration": 24,
    "start_time": "2023-02-01T11:17:41.412Z"
   },
   {
    "duration": 9,
    "start_time": "2023-02-01T11:17:41.438Z"
   },
   {
    "duration": 939,
    "start_time": "2023-02-01T11:17:41.449Z"
   },
   {
    "duration": 9,
    "start_time": "2023-02-01T11:17:42.391Z"
   },
   {
    "duration": 10,
    "start_time": "2023-02-01T11:17:42.401Z"
   },
   {
    "duration": 950,
    "start_time": "2023-02-01T11:18:26.470Z"
   },
   {
    "duration": 960,
    "start_time": "2023-02-01T11:18:29.797Z"
   },
   {
    "duration": 5,
    "start_time": "2023-02-01T11:21:52.894Z"
   },
   {
    "duration": 10,
    "start_time": "2023-02-01T11:21:58.792Z"
   },
   {
    "duration": 1058,
    "start_time": "2023-02-01T11:22:00.963Z"
   },
   {
    "duration": 1020,
    "start_time": "2023-02-01T11:22:12.946Z"
   },
   {
    "duration": 1493,
    "start_time": "2023-02-01T11:22:18.832Z"
   },
   {
    "duration": 2,
    "start_time": "2023-02-01T11:22:20.327Z"
   },
   {
    "duration": 175,
    "start_time": "2023-02-01T11:22:20.331Z"
   },
   {
    "duration": 14,
    "start_time": "2023-02-01T11:22:20.509Z"
   },
   {
    "duration": 372,
    "start_time": "2023-02-01T11:22:20.525Z"
   },
   {
    "duration": 11,
    "start_time": "2023-02-01T11:22:20.899Z"
   },
   {
    "duration": 13,
    "start_time": "2023-02-01T11:22:20.912Z"
   },
   {
    "duration": 18,
    "start_time": "2023-02-01T11:22:20.927Z"
   },
   {
    "duration": 29,
    "start_time": "2023-02-01T11:22:20.947Z"
   },
   {
    "duration": 143,
    "start_time": "2023-02-01T11:22:20.980Z"
   },
   {
    "duration": 18,
    "start_time": "2023-02-01T11:22:21.125Z"
   },
   {
    "duration": 354,
    "start_time": "2023-02-01T11:22:21.145Z"
   },
   {
    "duration": 13,
    "start_time": "2023-02-01T11:22:21.500Z"
   },
   {
    "duration": 6,
    "start_time": "2023-02-01T11:22:21.515Z"
   },
   {
    "duration": 8,
    "start_time": "2023-02-01T11:22:21.537Z"
   },
   {
    "duration": 27,
    "start_time": "2023-02-01T11:22:21.547Z"
   },
   {
    "duration": 166,
    "start_time": "2023-02-01T11:22:21.575Z"
   },
   {
    "duration": 12,
    "start_time": "2023-02-01T11:22:21.743Z"
   },
   {
    "duration": 364,
    "start_time": "2023-02-01T11:22:21.756Z"
   },
   {
    "duration": 17,
    "start_time": "2023-02-01T11:22:22.122Z"
   },
   {
    "duration": 5,
    "start_time": "2023-02-01T11:22:22.141Z"
   },
   {
    "duration": 9,
    "start_time": "2023-02-01T11:22:22.148Z"
   },
   {
    "duration": 21,
    "start_time": "2023-02-01T11:22:22.159Z"
   },
   {
    "duration": 59,
    "start_time": "2023-02-01T11:22:22.181Z"
   },
   {
    "duration": 6,
    "start_time": "2023-02-01T11:22:22.242Z"
   },
   {
    "duration": 102,
    "start_time": "2023-02-01T11:22:22.250Z"
   },
   {
    "duration": 6,
    "start_time": "2023-02-01T11:22:22.354Z"
   },
   {
    "duration": 99,
    "start_time": "2023-02-01T11:22:22.439Z"
   },
   {
    "duration": 103,
    "start_time": "2023-02-01T11:22:22.540Z"
   },
   {
    "duration": 13,
    "start_time": "2023-02-01T11:22:22.645Z"
   },
   {
    "duration": 9,
    "start_time": "2023-02-01T11:22:22.736Z"
   },
   {
    "duration": 15,
    "start_time": "2023-02-01T11:22:22.746Z"
   },
   {
    "duration": 13,
    "start_time": "2023-02-01T11:22:22.763Z"
   },
   {
    "duration": 7,
    "start_time": "2023-02-01T11:22:22.778Z"
   },
   {
    "duration": 10,
    "start_time": "2023-02-01T11:22:22.787Z"
   },
   {
    "duration": 4,
    "start_time": "2023-02-01T11:22:22.798Z"
   },
   {
    "duration": 6,
    "start_time": "2023-02-01T11:22:22.803Z"
   },
   {
    "duration": 31,
    "start_time": "2023-02-01T11:22:22.810Z"
   },
   {
    "duration": 1067,
    "start_time": "2023-02-01T11:22:22.843Z"
   },
   {
    "duration": 0,
    "start_time": "2023-02-01T11:22:23.912Z"
   },
   {
    "duration": 0,
    "start_time": "2023-02-01T11:22:23.913Z"
   },
   {
    "duration": 0,
    "start_time": "2023-02-01T11:22:23.914Z"
   },
   {
    "duration": 0,
    "start_time": "2023-02-01T11:22:23.916Z"
   },
   {
    "duration": 4,
    "start_time": "2023-02-01T11:23:22.759Z"
   },
   {
    "duration": 920,
    "start_time": "2023-02-01T11:23:27.356Z"
   },
   {
    "duration": 1439,
    "start_time": "2023-02-01T11:25:11.856Z"
   },
   {
    "duration": 3,
    "start_time": "2023-02-01T11:25:13.298Z"
   },
   {
    "duration": 186,
    "start_time": "2023-02-01T11:25:13.302Z"
   },
   {
    "duration": 16,
    "start_time": "2023-02-01T11:25:13.490Z"
   },
   {
    "duration": 421,
    "start_time": "2023-02-01T11:25:13.508Z"
   },
   {
    "duration": 11,
    "start_time": "2023-02-01T11:25:13.936Z"
   },
   {
    "duration": 6,
    "start_time": "2023-02-01T11:25:13.950Z"
   },
   {
    "duration": 12,
    "start_time": "2023-02-01T11:25:13.957Z"
   },
   {
    "duration": 23,
    "start_time": "2023-02-01T11:25:13.971Z"
   },
   {
    "duration": 153,
    "start_time": "2023-02-01T11:25:13.996Z"
   },
   {
    "duration": 12,
    "start_time": "2023-02-01T11:25:14.151Z"
   },
   {
    "duration": 365,
    "start_time": "2023-02-01T11:25:14.165Z"
   },
   {
    "duration": 15,
    "start_time": "2023-02-01T11:25:14.531Z"
   },
   {
    "duration": 5,
    "start_time": "2023-02-01T11:25:14.548Z"
   },
   {
    "duration": 10,
    "start_time": "2023-02-01T11:25:14.556Z"
   },
   {
    "duration": 28,
    "start_time": "2023-02-01T11:25:14.567Z"
   },
   {
    "duration": 162,
    "start_time": "2023-02-01T11:25:14.597Z"
   },
   {
    "duration": 13,
    "start_time": "2023-02-01T11:25:14.762Z"
   },
   {
    "duration": 368,
    "start_time": "2023-02-01T11:25:14.777Z"
   },
   {
    "duration": 11,
    "start_time": "2023-02-01T11:25:15.146Z"
   },
   {
    "duration": 5,
    "start_time": "2023-02-01T11:25:15.159Z"
   },
   {
    "duration": 21,
    "start_time": "2023-02-01T11:25:15.166Z"
   },
   {
    "duration": 21,
    "start_time": "2023-02-01T11:25:15.189Z"
   },
   {
    "duration": 26,
    "start_time": "2023-02-01T11:25:15.212Z"
   },
   {
    "duration": 5,
    "start_time": "2023-02-01T11:25:15.241Z"
   },
   {
    "duration": 197,
    "start_time": "2023-02-01T11:25:15.248Z"
   },
   {
    "duration": 88,
    "start_time": "2023-02-01T11:25:15.448Z"
   },
   {
    "duration": 98,
    "start_time": "2023-02-01T11:25:15.543Z"
   },
   {
    "duration": 6,
    "start_time": "2023-02-01T11:25:15.644Z"
   },
   {
    "duration": 195,
    "start_time": "2023-02-01T11:25:15.651Z"
   },
   {
    "duration": 5,
    "start_time": "2023-02-01T11:25:15.848Z"
   },
   {
    "duration": 7,
    "start_time": "2023-02-01T11:25:15.855Z"
   },
   {
    "duration": 10,
    "start_time": "2023-02-01T11:25:15.864Z"
   },
   {
    "duration": 6,
    "start_time": "2023-02-01T11:25:15.876Z"
   },
   {
    "duration": 9,
    "start_time": "2023-02-01T11:25:15.884Z"
   },
   {
    "duration": 4,
    "start_time": "2023-02-01T11:25:15.895Z"
   },
   {
    "duration": 7,
    "start_time": "2023-02-01T11:25:15.901Z"
   },
   {
    "duration": 33,
    "start_time": "2023-02-01T11:25:15.909Z"
   },
   {
    "duration": 1064,
    "start_time": "2023-02-01T11:25:15.944Z"
   },
   {
    "duration": 0,
    "start_time": "2023-02-01T11:25:17.010Z"
   },
   {
    "duration": 0,
    "start_time": "2023-02-01T11:25:17.011Z"
   },
   {
    "duration": 0,
    "start_time": "2023-02-01T11:25:17.013Z"
   },
   {
    "duration": 0,
    "start_time": "2023-02-01T11:25:17.014Z"
   },
   {
    "duration": 4,
    "start_time": "2023-02-01T11:27:38.940Z"
   },
   {
    "duration": 920,
    "start_time": "2023-02-01T11:27:41.654Z"
   },
   {
    "duration": 5,
    "start_time": "2023-02-01T11:32:00.607Z"
   },
   {
    "duration": 13,
    "start_time": "2023-02-01T11:32:27.116Z"
   },
   {
    "duration": 7,
    "start_time": "2023-02-01T11:33:23.763Z"
   },
   {
    "duration": 1242,
    "start_time": "2023-02-01T11:34:18.523Z"
   },
   {
    "duration": 6,
    "start_time": "2023-02-01T11:34:29.411Z"
   },
   {
    "duration": 1794,
    "start_time": "2023-02-01T11:35:26.400Z"
   },
   {
    "duration": 5,
    "start_time": "2023-02-01T11:35:28.197Z"
   },
   {
    "duration": 231,
    "start_time": "2023-02-01T11:35:28.205Z"
   },
   {
    "duration": 25,
    "start_time": "2023-02-01T11:35:28.441Z"
   },
   {
    "duration": 541,
    "start_time": "2023-02-01T11:35:28.470Z"
   },
   {
    "duration": 16,
    "start_time": "2023-02-01T11:35:29.013Z"
   },
   {
    "duration": 42,
    "start_time": "2023-02-01T11:35:29.040Z"
   },
   {
    "duration": 23,
    "start_time": "2023-02-01T11:35:29.085Z"
   },
   {
    "duration": 34,
    "start_time": "2023-02-01T11:35:29.110Z"
   },
   {
    "duration": 193,
    "start_time": "2023-02-01T11:35:29.151Z"
   },
   {
    "duration": 19,
    "start_time": "2023-02-01T11:35:29.353Z"
   },
   {
    "duration": 457,
    "start_time": "2023-02-01T11:35:29.374Z"
   },
   {
    "duration": 17,
    "start_time": "2023-02-01T11:35:29.833Z"
   },
   {
    "duration": 21,
    "start_time": "2023-02-01T11:35:29.858Z"
   },
   {
    "duration": 20,
    "start_time": "2023-02-01T11:35:29.881Z"
   },
   {
    "duration": 24,
    "start_time": "2023-02-01T11:35:29.904Z"
   },
   {
    "duration": 191,
    "start_time": "2023-02-01T11:35:29.930Z"
   },
   {
    "duration": 20,
    "start_time": "2023-02-01T11:35:30.123Z"
   },
   {
    "duration": 413,
    "start_time": "2023-02-01T11:35:30.144Z"
   },
   {
    "duration": 15,
    "start_time": "2023-02-01T11:35:30.559Z"
   },
   {
    "duration": 26,
    "start_time": "2023-02-01T11:35:30.577Z"
   },
   {
    "duration": 52,
    "start_time": "2023-02-01T11:35:30.605Z"
   },
   {
    "duration": 57,
    "start_time": "2023-02-01T11:35:30.660Z"
   },
   {
    "duration": 84,
    "start_time": "2023-02-01T11:35:30.720Z"
   },
   {
    "duration": 180,
    "start_time": "2023-02-01T11:35:30.806Z"
   },
   {
    "duration": 46,
    "start_time": "2023-02-01T11:35:30.988Z"
   },
   {
    "duration": 96,
    "start_time": "2023-02-01T11:35:31.043Z"
   },
   {
    "duration": 89,
    "start_time": "2023-02-01T11:35:31.141Z"
   },
   {
    "duration": 156,
    "start_time": "2023-02-01T11:35:31.237Z"
   },
   {
    "duration": 39,
    "start_time": "2023-02-01T11:35:31.395Z"
   },
   {
    "duration": 48,
    "start_time": "2023-02-01T11:35:31.436Z"
   },
   {
    "duration": 35,
    "start_time": "2023-02-01T11:35:31.487Z"
   },
   {
    "duration": 39,
    "start_time": "2023-02-01T11:35:31.524Z"
   },
   {
    "duration": 43,
    "start_time": "2023-02-01T11:35:31.566Z"
   },
   {
    "duration": 41,
    "start_time": "2023-02-01T11:35:31.611Z"
   },
   {
    "duration": 25,
    "start_time": "2023-02-01T11:35:31.655Z"
   },
   {
    "duration": 32,
    "start_time": "2023-02-01T11:35:31.683Z"
   },
   {
    "duration": 97,
    "start_time": "2023-02-01T11:35:31.717Z"
   },
   {
    "duration": 1348,
    "start_time": "2023-02-01T11:35:31.817Z"
   },
   {
    "duration": 1,
    "start_time": "2023-02-01T11:35:33.167Z"
   },
   {
    "duration": 0,
    "start_time": "2023-02-01T11:35:33.169Z"
   },
   {
    "duration": 0,
    "start_time": "2023-02-01T11:35:33.171Z"
   },
   {
    "duration": 0,
    "start_time": "2023-02-01T11:35:33.173Z"
   },
   {
    "duration": 2392,
    "start_time": "2023-02-01T11:59:36.802Z"
   },
   {
    "duration": 3,
    "start_time": "2023-02-01T11:59:39.196Z"
   },
   {
    "duration": 561,
    "start_time": "2023-02-01T11:59:39.200Z"
   },
   {
    "duration": 11,
    "start_time": "2023-02-01T11:59:39.763Z"
   },
   {
    "duration": 481,
    "start_time": "2023-02-01T11:59:39.776Z"
   },
   {
    "duration": 14,
    "start_time": "2023-02-01T11:59:40.259Z"
   },
   {
    "duration": 5,
    "start_time": "2023-02-01T11:59:40.275Z"
   },
   {
    "duration": 15,
    "start_time": "2023-02-01T11:59:40.281Z"
   },
   {
    "duration": 20,
    "start_time": "2023-02-01T11:59:40.297Z"
   },
   {
    "duration": 236,
    "start_time": "2023-02-01T11:59:40.319Z"
   },
   {
    "duration": 12,
    "start_time": "2023-02-01T11:59:40.556Z"
   },
   {
    "duration": 347,
    "start_time": "2023-02-01T11:59:40.569Z"
   },
   {
    "duration": 9,
    "start_time": "2023-02-01T11:59:40.918Z"
   },
   {
    "duration": 6,
    "start_time": "2023-02-01T11:59:40.939Z"
   },
   {
    "duration": 25,
    "start_time": "2023-02-01T11:59:40.946Z"
   },
   {
    "duration": 21,
    "start_time": "2023-02-01T11:59:40.973Z"
   },
   {
    "duration": 223,
    "start_time": "2023-02-01T11:59:40.996Z"
   },
   {
    "duration": 13,
    "start_time": "2023-02-01T11:59:41.221Z"
   },
   {
    "duration": 356,
    "start_time": "2023-02-01T11:59:41.235Z"
   },
   {
    "duration": 10,
    "start_time": "2023-02-01T11:59:41.592Z"
   },
   {
    "duration": 9,
    "start_time": "2023-02-01T11:59:41.603Z"
   },
   {
    "duration": 8,
    "start_time": "2023-02-01T11:59:41.613Z"
   },
   {
    "duration": 34,
    "start_time": "2023-02-01T11:59:41.623Z"
   },
   {
    "duration": 182,
    "start_time": "2023-02-01T11:59:41.659Z"
   },
   {
    "duration": 8,
    "start_time": "2023-02-01T11:59:41.843Z"
   },
   {
    "duration": 93,
    "start_time": "2023-02-01T11:59:41.855Z"
   },
   {
    "duration": 185,
    "start_time": "2023-02-01T11:59:41.954Z"
   },
   {
    "duration": 26,
    "start_time": "2023-02-01T11:59:42.141Z"
   },
   {
    "duration": 75,
    "start_time": "2023-02-01T11:59:42.169Z"
   },
   {
    "duration": 94,
    "start_time": "2023-02-01T11:59:42.253Z"
   },
   {
    "duration": 7,
    "start_time": "2023-02-01T11:59:42.348Z"
   },
   {
    "duration": 9,
    "start_time": "2023-02-01T11:59:42.356Z"
   },
   {
    "duration": 11,
    "start_time": "2023-02-01T11:59:42.367Z"
   },
   {
    "duration": 6,
    "start_time": "2023-02-01T11:59:42.380Z"
   },
   {
    "duration": 18,
    "start_time": "2023-02-01T11:59:42.387Z"
   },
   {
    "duration": 9,
    "start_time": "2023-02-01T11:59:42.407Z"
   },
   {
    "duration": 7,
    "start_time": "2023-02-01T11:59:42.418Z"
   },
   {
    "duration": 20,
    "start_time": "2023-02-01T11:59:42.427Z"
   },
   {
    "duration": 1099,
    "start_time": "2023-02-01T11:59:42.449Z"
   },
   {
    "duration": 0,
    "start_time": "2023-02-01T11:59:43.549Z"
   },
   {
    "duration": 0,
    "start_time": "2023-02-01T11:59:43.551Z"
   },
   {
    "duration": 0,
    "start_time": "2023-02-01T11:59:43.552Z"
   },
   {
    "duration": 0,
    "start_time": "2023-02-01T11:59:43.554Z"
   },
   {
    "duration": 2017,
    "start_time": "2023-02-01T12:03:43.525Z"
   },
   {
    "duration": 3,
    "start_time": "2023-02-01T12:03:45.544Z"
   },
   {
    "duration": 194,
    "start_time": "2023-02-01T12:03:45.548Z"
   },
   {
    "duration": 13,
    "start_time": "2023-02-01T12:03:45.745Z"
   },
   {
    "duration": 388,
    "start_time": "2023-02-01T12:03:45.760Z"
   },
   {
    "duration": 12,
    "start_time": "2023-02-01T12:03:46.150Z"
   },
   {
    "duration": 5,
    "start_time": "2023-02-01T12:03:46.164Z"
   },
   {
    "duration": 10,
    "start_time": "2023-02-01T12:03:46.170Z"
   },
   {
    "duration": 26,
    "start_time": "2023-02-01T12:03:46.182Z"
   },
   {
    "duration": 180,
    "start_time": "2023-02-01T12:03:46.210Z"
   },
   {
    "duration": 13,
    "start_time": "2023-02-01T12:03:46.392Z"
   },
   {
    "duration": 410,
    "start_time": "2023-02-01T12:03:46.407Z"
   },
   {
    "duration": 10,
    "start_time": "2023-02-01T12:03:46.820Z"
   },
   {
    "duration": 5,
    "start_time": "2023-02-01T12:03:46.841Z"
   },
   {
    "duration": 14,
    "start_time": "2023-02-01T12:03:46.848Z"
   },
   {
    "duration": 34,
    "start_time": "2023-02-01T12:03:46.864Z"
   },
   {
    "duration": 182,
    "start_time": "2023-02-01T12:03:46.900Z"
   },
   {
    "duration": 14,
    "start_time": "2023-02-01T12:03:47.084Z"
   },
   {
    "duration": 418,
    "start_time": "2023-02-01T12:03:47.100Z"
   },
   {
    "duration": 9,
    "start_time": "2023-02-01T12:03:47.521Z"
   },
   {
    "duration": 5,
    "start_time": "2023-02-01T12:03:47.541Z"
   },
   {
    "duration": 9,
    "start_time": "2023-02-01T12:03:47.548Z"
   },
   {
    "duration": 21,
    "start_time": "2023-02-01T12:03:47.559Z"
   },
   {
    "duration": 63,
    "start_time": "2023-02-01T12:03:47.581Z"
   },
   {
    "duration": 96,
    "start_time": "2023-02-01T12:03:47.647Z"
   },
   {
    "duration": 19,
    "start_time": "2023-02-01T12:03:47.745Z"
   },
   {
    "duration": 77,
    "start_time": "2023-02-01T12:03:47.767Z"
   },
   {
    "duration": 105,
    "start_time": "2023-02-01T12:03:47.850Z"
   },
   {
    "duration": 88,
    "start_time": "2023-02-01T12:03:47.958Z"
   },
   {
    "duration": 93,
    "start_time": "2023-02-01T12:03:48.049Z"
   },
   {
    "duration": 17,
    "start_time": "2023-02-01T12:03:48.144Z"
   },
   {
    "duration": 10,
    "start_time": "2023-02-01T12:03:48.163Z"
   },
   {
    "duration": 9,
    "start_time": "2023-02-01T12:03:48.174Z"
   },
   {
    "duration": 13,
    "start_time": "2023-02-01T12:03:48.184Z"
   },
   {
    "duration": 11,
    "start_time": "2023-02-01T12:03:48.199Z"
   },
   {
    "duration": 5,
    "start_time": "2023-02-01T12:03:48.212Z"
   },
   {
    "duration": 79,
    "start_time": "2023-02-01T12:03:48.219Z"
   },
   {
    "duration": 0,
    "start_time": "2023-02-01T12:03:48.300Z"
   },
   {
    "duration": 0,
    "start_time": "2023-02-01T12:03:48.301Z"
   },
   {
    "duration": 0,
    "start_time": "2023-02-01T12:03:48.303Z"
   },
   {
    "duration": 0,
    "start_time": "2023-02-01T12:03:48.304Z"
   },
   {
    "duration": 0,
    "start_time": "2023-02-01T12:03:48.305Z"
   },
   {
    "duration": 0,
    "start_time": "2023-02-01T12:03:48.306Z"
   },
   {
    "duration": 127,
    "start_time": "2023-02-01T12:04:34.983Z"
   },
   {
    "duration": 6,
    "start_time": "2023-02-01T12:05:43.219Z"
   },
   {
    "duration": 9,
    "start_time": "2023-02-01T12:05:48.120Z"
   },
   {
    "duration": 963,
    "start_time": "2023-02-01T12:05:50.051Z"
   },
   {
    "duration": 2089,
    "start_time": "2023-02-01T12:06:23.711Z"
   },
   {
    "duration": 3,
    "start_time": "2023-02-01T12:06:25.802Z"
   },
   {
    "duration": 203,
    "start_time": "2023-02-01T12:06:25.807Z"
   },
   {
    "duration": 12,
    "start_time": "2023-02-01T12:06:26.013Z"
   },
   {
    "duration": 391,
    "start_time": "2023-02-01T12:06:26.039Z"
   },
   {
    "duration": 18,
    "start_time": "2023-02-01T12:06:26.431Z"
   },
   {
    "duration": 5,
    "start_time": "2023-02-01T12:06:26.452Z"
   },
   {
    "duration": 11,
    "start_time": "2023-02-01T12:06:26.459Z"
   },
   {
    "duration": 29,
    "start_time": "2023-02-01T12:06:26.471Z"
   },
   {
    "duration": 166,
    "start_time": "2023-02-01T12:06:26.503Z"
   },
   {
    "duration": 13,
    "start_time": "2023-02-01T12:06:26.671Z"
   },
   {
    "duration": 392,
    "start_time": "2023-02-01T12:06:26.686Z"
   },
   {
    "duration": 12,
    "start_time": "2023-02-01T12:06:27.079Z"
   },
   {
    "duration": 4,
    "start_time": "2023-02-01T12:06:27.093Z"
   },
   {
    "duration": 14,
    "start_time": "2023-02-01T12:06:27.099Z"
   },
   {
    "duration": 41,
    "start_time": "2023-02-01T12:06:27.114Z"
   },
   {
    "duration": 167,
    "start_time": "2023-02-01T12:06:27.156Z"
   },
   {
    "duration": 17,
    "start_time": "2023-02-01T12:06:27.325Z"
   },
   {
    "duration": 357,
    "start_time": "2023-02-01T12:06:27.344Z"
   },
   {
    "duration": 10,
    "start_time": "2023-02-01T12:06:27.703Z"
   },
   {
    "duration": 12,
    "start_time": "2023-02-01T12:06:27.715Z"
   },
   {
    "duration": 20,
    "start_time": "2023-02-01T12:06:27.728Z"
   },
   {
    "duration": 33,
    "start_time": "2023-02-01T12:06:27.750Z"
   },
   {
    "duration": 14,
    "start_time": "2023-02-01T12:06:27.785Z"
   },
   {
    "duration": 137,
    "start_time": "2023-02-01T12:06:27.803Z"
   },
   {
    "duration": 15,
    "start_time": "2023-02-01T12:06:27.942Z"
   },
   {
    "duration": 83,
    "start_time": "2023-02-01T12:06:27.960Z"
   },
   {
    "duration": 105,
    "start_time": "2023-02-01T12:06:28.049Z"
   },
   {
    "duration": 92,
    "start_time": "2023-02-01T12:06:28.156Z"
   },
   {
    "duration": 112,
    "start_time": "2023-02-01T12:06:28.250Z"
   },
   {
    "duration": 18,
    "start_time": "2023-02-01T12:06:28.364Z"
   },
   {
    "duration": 22,
    "start_time": "2023-02-01T12:06:28.384Z"
   },
   {
    "duration": 15,
    "start_time": "2023-02-01T12:06:28.408Z"
   },
   {
    "duration": 15,
    "start_time": "2023-02-01T12:06:28.424Z"
   },
   {
    "duration": 8,
    "start_time": "2023-02-01T12:06:28.441Z"
   },
   {
    "duration": 12,
    "start_time": "2023-02-01T12:06:28.451Z"
   },
   {
    "duration": 12,
    "start_time": "2023-02-01T12:06:28.465Z"
   },
   {
    "duration": 16,
    "start_time": "2023-02-01T12:06:28.478Z"
   },
   {
    "duration": 1027,
    "start_time": "2023-02-01T12:06:28.496Z"
   },
   {
    "duration": 15,
    "start_time": "2023-02-01T12:06:29.525Z"
   },
   {
    "duration": 938,
    "start_time": "2023-02-01T12:06:29.542Z"
   },
   {
    "duration": 10,
    "start_time": "2023-02-01T12:06:30.483Z"
   },
   {
    "duration": 953,
    "start_time": "2023-02-01T12:06:30.495Z"
   },
   {
    "duration": 8,
    "start_time": "2023-02-01T12:06:56.422Z"
   },
   {
    "duration": 781,
    "start_time": "2023-02-01T12:07:02.460Z"
   },
   {
    "duration": 758,
    "start_time": "2023-02-01T12:07:07.555Z"
   },
   {
    "duration": 745,
    "start_time": "2023-02-01T12:07:12.445Z"
   },
   {
    "duration": 1924,
    "start_time": "2023-02-01T12:14:25.827Z"
   },
   {
    "duration": 3,
    "start_time": "2023-02-01T12:14:27.753Z"
   },
   {
    "duration": 209,
    "start_time": "2023-02-01T12:14:27.758Z"
   },
   {
    "duration": 13,
    "start_time": "2023-02-01T12:14:27.969Z"
   },
   {
    "duration": 460,
    "start_time": "2023-02-01T12:14:27.984Z"
   },
   {
    "duration": 13,
    "start_time": "2023-02-01T12:14:28.446Z"
   },
   {
    "duration": 5,
    "start_time": "2023-02-01T12:14:28.461Z"
   },
   {
    "duration": 20,
    "start_time": "2023-02-01T12:14:28.468Z"
   },
   {
    "duration": 37,
    "start_time": "2023-02-01T12:14:28.490Z"
   },
   {
    "duration": 157,
    "start_time": "2023-02-01T12:14:28.532Z"
   },
   {
    "duration": 13,
    "start_time": "2023-02-01T12:14:28.691Z"
   },
   {
    "duration": 425,
    "start_time": "2023-02-01T12:14:28.705Z"
   },
   {
    "duration": 16,
    "start_time": "2023-02-01T12:14:29.132Z"
   },
   {
    "duration": 20,
    "start_time": "2023-02-01T12:14:29.150Z"
   },
   {
    "duration": 49,
    "start_time": "2023-02-01T12:14:29.172Z"
   },
   {
    "duration": 41,
    "start_time": "2023-02-01T12:14:29.223Z"
   },
   {
    "duration": 174,
    "start_time": "2023-02-01T12:14:29.266Z"
   },
   {
    "duration": 13,
    "start_time": "2023-02-01T12:14:29.442Z"
   },
   {
    "duration": 342,
    "start_time": "2023-02-01T12:14:29.457Z"
   },
   {
    "duration": 11,
    "start_time": "2023-02-01T12:14:29.801Z"
   },
   {
    "duration": 8,
    "start_time": "2023-02-01T12:14:29.814Z"
   },
   {
    "duration": 21,
    "start_time": "2023-02-01T12:14:29.824Z"
   },
   {
    "duration": 21,
    "start_time": "2023-02-01T12:14:29.847Z"
   },
   {
    "duration": 70,
    "start_time": "2023-02-01T12:14:29.870Z"
   },
   {
    "duration": 96,
    "start_time": "2023-02-01T12:14:29.944Z"
   },
   {
    "duration": 36,
    "start_time": "2023-02-01T12:14:30.042Z"
   },
   {
    "duration": 163,
    "start_time": "2023-02-01T12:14:30.080Z"
   },
   {
    "duration": 52,
    "start_time": "2023-02-01T12:14:30.247Z"
   },
   {
    "duration": 143,
    "start_time": "2023-02-01T12:14:30.301Z"
   },
   {
    "duration": 52,
    "start_time": "2023-02-01T12:14:30.446Z"
   },
   {
    "duration": 34,
    "start_time": "2023-02-01T12:14:30.499Z"
   },
   {
    "duration": 35,
    "start_time": "2023-02-01T12:14:30.534Z"
   },
   {
    "duration": 36,
    "start_time": "2023-02-01T12:14:30.570Z"
   },
   {
    "duration": 37,
    "start_time": "2023-02-01T12:14:30.608Z"
   },
   {
    "duration": 26,
    "start_time": "2023-02-01T12:14:30.647Z"
   },
   {
    "duration": 73,
    "start_time": "2023-02-01T12:14:30.675Z"
   },
   {
    "duration": 27,
    "start_time": "2023-02-01T12:14:30.749Z"
   },
   {
    "duration": 54,
    "start_time": "2023-02-01T12:14:30.778Z"
   },
   {
    "duration": 966,
    "start_time": "2023-02-01T12:14:30.834Z"
   },
   {
    "duration": 8,
    "start_time": "2023-02-01T12:14:31.802Z"
   },
   {
    "duration": 915,
    "start_time": "2023-02-01T12:14:31.812Z"
   },
   {
    "duration": 16,
    "start_time": "2023-02-01T12:14:32.729Z"
   },
   {
    "duration": 917,
    "start_time": "2023-02-01T12:14:32.747Z"
   },
   {
    "duration": 2098,
    "start_time": "2023-02-01T12:15:09.348Z"
   },
   {
    "duration": 3,
    "start_time": "2023-02-01T12:15:11.448Z"
   },
   {
    "duration": 438,
    "start_time": "2023-02-01T12:15:11.452Z"
   },
   {
    "duration": 12,
    "start_time": "2023-02-01T12:15:11.893Z"
   },
   {
    "duration": 433,
    "start_time": "2023-02-01T12:15:11.907Z"
   },
   {
    "duration": 12,
    "start_time": "2023-02-01T12:15:12.341Z"
   },
   {
    "duration": 41,
    "start_time": "2023-02-01T12:15:12.355Z"
   },
   {
    "duration": 57,
    "start_time": "2023-02-01T12:15:12.397Z"
   },
   {
    "duration": 80,
    "start_time": "2023-02-01T12:15:12.456Z"
   },
   {
    "duration": 179,
    "start_time": "2023-02-01T12:15:12.539Z"
   },
   {
    "duration": 21,
    "start_time": "2023-02-01T12:15:12.720Z"
   },
   {
    "duration": 403,
    "start_time": "2023-02-01T12:15:12.743Z"
   },
   {
    "duration": 9,
    "start_time": "2023-02-01T12:15:13.148Z"
   },
   {
    "duration": 41,
    "start_time": "2023-02-01T12:15:13.159Z"
   },
   {
    "duration": 62,
    "start_time": "2023-02-01T12:15:13.202Z"
   },
   {
    "duration": 65,
    "start_time": "2023-02-01T12:15:13.265Z"
   },
   {
    "duration": 211,
    "start_time": "2023-02-01T12:15:13.332Z"
   },
   {
    "duration": 13,
    "start_time": "2023-02-01T12:15:13.545Z"
   },
   {
    "duration": 436,
    "start_time": "2023-02-01T12:15:13.560Z"
   },
   {
    "duration": 10,
    "start_time": "2023-02-01T12:15:13.998Z"
   },
   {
    "duration": 42,
    "start_time": "2023-02-01T12:15:14.009Z"
   },
   {
    "duration": 55,
    "start_time": "2023-02-01T12:15:14.053Z"
   },
   {
    "duration": 73,
    "start_time": "2023-02-01T12:15:14.110Z"
   },
   {
    "duration": 61,
    "start_time": "2023-02-01T12:15:14.185Z"
   },
   {
    "duration": 254,
    "start_time": "2023-02-01T12:15:14.249Z"
   },
   {
    "duration": 64,
    "start_time": "2023-02-01T12:15:14.505Z"
   },
   {
    "duration": 171,
    "start_time": "2023-02-01T12:15:14.572Z"
   },
   {
    "duration": 65,
    "start_time": "2023-02-01T12:15:14.746Z"
   },
   {
    "duration": 173,
    "start_time": "2023-02-01T12:15:14.813Z"
   },
   {
    "duration": 52,
    "start_time": "2023-02-01T12:15:14.988Z"
   },
   {
    "duration": 74,
    "start_time": "2023-02-01T12:15:15.043Z"
   },
   {
    "duration": 61,
    "start_time": "2023-02-01T12:15:15.118Z"
   },
   {
    "duration": 47,
    "start_time": "2023-02-01T12:15:15.181Z"
   },
   {
    "duration": 72,
    "start_time": "2023-02-01T12:15:15.230Z"
   },
   {
    "duration": 51,
    "start_time": "2023-02-01T12:15:15.304Z"
   },
   {
    "duration": 75,
    "start_time": "2023-02-01T12:15:15.357Z"
   },
   {
    "duration": 96,
    "start_time": "2023-02-01T12:15:15.434Z"
   },
   {
    "duration": 51,
    "start_time": "2023-02-01T12:15:15.532Z"
   },
   {
    "duration": 776,
    "start_time": "2023-02-01T12:15:15.585Z"
   },
   {
    "duration": 9,
    "start_time": "2023-02-01T12:15:16.363Z"
   },
   {
    "duration": 779,
    "start_time": "2023-02-01T12:15:16.374Z"
   },
   {
    "duration": 10,
    "start_time": "2023-02-01T12:15:17.155Z"
   },
   {
    "duration": 776,
    "start_time": "2023-02-01T12:15:17.166Z"
   },
   {
    "duration": 2159,
    "start_time": "2023-02-01T12:18:50.810Z"
   },
   {
    "duration": 4,
    "start_time": "2023-02-01T12:18:52.972Z"
   },
   {
    "duration": 195,
    "start_time": "2023-02-01T12:18:52.978Z"
   },
   {
    "duration": 17,
    "start_time": "2023-02-01T12:18:53.175Z"
   },
   {
    "duration": 457,
    "start_time": "2023-02-01T12:18:53.194Z"
   },
   {
    "duration": 12,
    "start_time": "2023-02-01T12:18:53.653Z"
   },
   {
    "duration": 5,
    "start_time": "2023-02-01T12:18:53.667Z"
   },
   {
    "duration": 9,
    "start_time": "2023-02-01T12:18:53.674Z"
   },
   {
    "duration": 23,
    "start_time": "2023-02-01T12:18:53.685Z"
   },
   {
    "duration": 171,
    "start_time": "2023-02-01T12:18:53.712Z"
   },
   {
    "duration": 13,
    "start_time": "2023-02-01T12:18:53.885Z"
   },
   {
    "duration": 394,
    "start_time": "2023-02-01T12:18:53.900Z"
   },
   {
    "duration": 11,
    "start_time": "2023-02-01T12:18:54.295Z"
   },
   {
    "duration": 21,
    "start_time": "2023-02-01T12:18:54.308Z"
   },
   {
    "duration": 10,
    "start_time": "2023-02-01T12:18:54.330Z"
   },
   {
    "duration": 30,
    "start_time": "2023-02-01T12:18:54.342Z"
   },
   {
    "duration": 176,
    "start_time": "2023-02-01T12:18:54.373Z"
   },
   {
    "duration": 12,
    "start_time": "2023-02-01T12:18:54.551Z"
   },
   {
    "duration": 406,
    "start_time": "2023-02-01T12:18:54.564Z"
   },
   {
    "duration": 10,
    "start_time": "2023-02-01T12:18:54.972Z"
   },
   {
    "duration": 5,
    "start_time": "2023-02-01T12:18:54.984Z"
   },
   {
    "duration": 10,
    "start_time": "2023-02-01T12:18:54.991Z"
   },
   {
    "duration": 41,
    "start_time": "2023-02-01T12:18:55.003Z"
   },
   {
    "duration": 12,
    "start_time": "2023-02-01T12:18:55.046Z"
   },
   {
    "duration": 188,
    "start_time": "2023-02-01T12:18:55.060Z"
   },
   {
    "duration": 18,
    "start_time": "2023-02-01T12:18:55.250Z"
   },
   {
    "duration": 70,
    "start_time": "2023-02-01T12:18:55.270Z"
   },
   {
    "duration": 104,
    "start_time": "2023-02-01T12:18:55.347Z"
   },
   {
    "duration": 87,
    "start_time": "2023-02-01T12:18:55.454Z"
   },
   {
    "duration": 95,
    "start_time": "2023-02-01T12:18:55.546Z"
   },
   {
    "duration": 5,
    "start_time": "2023-02-01T12:18:55.643Z"
   },
   {
    "duration": 7,
    "start_time": "2023-02-01T12:18:55.649Z"
   },
   {
    "duration": 8,
    "start_time": "2023-02-01T12:18:55.658Z"
   },
   {
    "duration": 6,
    "start_time": "2023-02-01T12:18:55.668Z"
   },
   {
    "duration": 14,
    "start_time": "2023-02-01T12:18:55.676Z"
   },
   {
    "duration": 5,
    "start_time": "2023-02-01T12:18:55.692Z"
   },
   {
    "duration": 6,
    "start_time": "2023-02-01T12:18:55.699Z"
   },
   {
    "duration": 39,
    "start_time": "2023-02-01T12:18:55.707Z"
   },
   {
    "duration": 1142,
    "start_time": "2023-02-01T12:18:55.747Z"
   },
   {
    "duration": 0,
    "start_time": "2023-02-01T12:18:56.891Z"
   },
   {
    "duration": 0,
    "start_time": "2023-02-01T12:18:56.892Z"
   },
   {
    "duration": 0,
    "start_time": "2023-02-01T12:18:56.893Z"
   },
   {
    "duration": 0,
    "start_time": "2023-02-01T12:18:56.894Z"
   },
   {
    "duration": 16,
    "start_time": "2023-02-01T12:36:21.056Z"
   },
   {
    "duration": 1571,
    "start_time": "2023-02-01T12:36:28.017Z"
   },
   {
    "duration": 3,
    "start_time": "2023-02-01T12:36:29.590Z"
   },
   {
    "duration": 196,
    "start_time": "2023-02-01T12:36:29.595Z"
   },
   {
    "duration": 17,
    "start_time": "2023-02-01T12:36:29.793Z"
   },
   {
    "duration": 406,
    "start_time": "2023-02-01T12:36:29.813Z"
   },
   {
    "duration": 18,
    "start_time": "2023-02-01T12:36:30.221Z"
   },
   {
    "duration": 29,
    "start_time": "2023-02-01T12:36:30.240Z"
   },
   {
    "duration": 33,
    "start_time": "2023-02-01T12:36:30.271Z"
   },
   {
    "duration": 54,
    "start_time": "2023-02-01T12:36:30.306Z"
   },
   {
    "duration": 217,
    "start_time": "2023-02-01T12:36:30.362Z"
   },
   {
    "duration": 14,
    "start_time": "2023-02-01T12:36:30.581Z"
   },
   {
    "duration": 405,
    "start_time": "2023-02-01T12:36:30.598Z"
   },
   {
    "duration": 13,
    "start_time": "2023-02-01T12:36:31.005Z"
   },
   {
    "duration": 17,
    "start_time": "2023-02-01T12:36:31.023Z"
   },
   {
    "duration": 55,
    "start_time": "2023-02-01T12:36:31.042Z"
   },
   {
    "duration": 44,
    "start_time": "2023-02-01T12:36:31.099Z"
   },
   {
    "duration": 206,
    "start_time": "2023-02-01T12:36:31.145Z"
   },
   {
    "duration": 18,
    "start_time": "2023-02-01T12:36:31.353Z"
   },
   {
    "duration": 389,
    "start_time": "2023-02-01T12:36:31.373Z"
   },
   {
    "duration": 11,
    "start_time": "2023-02-01T12:36:31.764Z"
   },
   {
    "duration": 8,
    "start_time": "2023-02-01T12:36:31.778Z"
   },
   {
    "duration": 13,
    "start_time": "2023-02-01T12:36:31.788Z"
   },
   {
    "duration": 33,
    "start_time": "2023-02-01T12:36:31.803Z"
   },
   {
    "duration": 104,
    "start_time": "2023-02-01T12:36:31.838Z"
   },
   {
    "duration": 101,
    "start_time": "2023-02-01T12:36:31.944Z"
   },
   {
    "duration": 37,
    "start_time": "2023-02-01T12:36:32.047Z"
   },
   {
    "duration": 60,
    "start_time": "2023-02-01T12:36:32.086Z"
   },
   {
    "duration": 115,
    "start_time": "2023-02-01T12:36:32.149Z"
   },
   {
    "duration": 181,
    "start_time": "2023-02-01T12:36:32.267Z"
   },
   {
    "duration": 22,
    "start_time": "2023-02-01T12:36:32.453Z"
   },
   {
    "duration": 14,
    "start_time": "2023-02-01T12:36:32.477Z"
   },
   {
    "duration": 10,
    "start_time": "2023-02-01T12:36:32.493Z"
   },
   {
    "duration": 25,
    "start_time": "2023-02-01T12:36:32.504Z"
   },
   {
    "duration": 36,
    "start_time": "2023-02-01T12:36:32.531Z"
   },
   {
    "duration": 11,
    "start_time": "2023-02-01T12:36:32.568Z"
   },
   {
    "duration": 6,
    "start_time": "2023-02-01T12:36:32.581Z"
   },
   {
    "duration": 17,
    "start_time": "2023-02-01T12:36:32.588Z"
   },
   {
    "duration": 18,
    "start_time": "2023-02-01T12:36:32.607Z"
   },
   {
    "duration": 821,
    "start_time": "2023-02-01T12:36:32.626Z"
   },
   {
    "duration": 10,
    "start_time": "2023-02-01T12:36:33.455Z"
   },
   {
    "duration": 795,
    "start_time": "2023-02-01T12:36:33.468Z"
   },
   {
    "duration": 10,
    "start_time": "2023-02-01T12:36:34.265Z"
   },
   {
    "duration": 788,
    "start_time": "2023-02-01T12:36:34.276Z"
   },
   {
    "duration": 1465,
    "start_time": "2023-02-01T12:41:11.521Z"
   },
   {
    "duration": 3,
    "start_time": "2023-02-01T12:41:12.988Z"
   },
   {
    "duration": 198,
    "start_time": "2023-02-01T12:41:12.992Z"
   },
   {
    "duration": 14,
    "start_time": "2023-02-01T12:41:13.192Z"
   },
   {
    "duration": 434,
    "start_time": "2023-02-01T12:41:13.208Z"
   },
   {
    "duration": 16,
    "start_time": "2023-02-01T12:41:13.643Z"
   },
   {
    "duration": 12,
    "start_time": "2023-02-01T12:41:13.661Z"
   },
   {
    "duration": 19,
    "start_time": "2023-02-01T12:41:13.675Z"
   },
   {
    "duration": 25,
    "start_time": "2023-02-01T12:41:13.696Z"
   },
   {
    "duration": 158,
    "start_time": "2023-02-01T12:41:13.723Z"
   },
   {
    "duration": 16,
    "start_time": "2023-02-01T12:41:13.883Z"
   },
   {
    "duration": 385,
    "start_time": "2023-02-01T12:41:13.900Z"
   },
   {
    "duration": 11,
    "start_time": "2023-02-01T12:41:14.287Z"
   },
   {
    "duration": 5,
    "start_time": "2023-02-01T12:41:14.301Z"
   },
   {
    "duration": 12,
    "start_time": "2023-02-01T12:41:14.307Z"
   },
   {
    "duration": 42,
    "start_time": "2023-02-01T12:41:14.320Z"
   },
   {
    "duration": 178,
    "start_time": "2023-02-01T12:41:14.364Z"
   },
   {
    "duration": 15,
    "start_time": "2023-02-01T12:41:14.549Z"
   },
   {
    "duration": 359,
    "start_time": "2023-02-01T12:41:14.566Z"
   },
   {
    "duration": 16,
    "start_time": "2023-02-01T12:41:14.927Z"
   },
   {
    "duration": 10,
    "start_time": "2023-02-01T12:41:14.946Z"
   },
   {
    "duration": 12,
    "start_time": "2023-02-01T12:41:14.957Z"
   },
   {
    "duration": 23,
    "start_time": "2023-02-01T12:41:14.971Z"
   },
   {
    "duration": 51,
    "start_time": "2023-02-01T12:41:14.996Z"
   },
   {
    "duration": 91,
    "start_time": "2023-02-01T12:41:15.051Z"
   },
   {
    "duration": 32,
    "start_time": "2023-02-01T12:41:15.147Z"
   },
   {
    "duration": 63,
    "start_time": "2023-02-01T12:41:15.184Z"
   },
   {
    "duration": 114,
    "start_time": "2023-02-01T12:41:15.248Z"
   },
   {
    "duration": 81,
    "start_time": "2023-02-01T12:41:15.365Z"
   },
   {
    "duration": 7,
    "start_time": "2023-02-01T12:41:15.447Z"
   },
   {
    "duration": 100,
    "start_time": "2023-02-01T12:41:15.457Z"
   },
   {
    "duration": 6,
    "start_time": "2023-02-01T12:41:15.559Z"
   },
   {
    "duration": 5,
    "start_time": "2023-02-01T12:41:15.567Z"
   },
   {
    "duration": 21,
    "start_time": "2023-02-01T12:41:15.574Z"
   },
   {
    "duration": 9,
    "start_time": "2023-02-01T12:41:15.597Z"
   },
   {
    "duration": 4,
    "start_time": "2023-02-01T12:41:15.608Z"
   },
   {
    "duration": 9,
    "start_time": "2023-02-01T12:41:15.613Z"
   },
   {
    "duration": 13,
    "start_time": "2023-02-01T12:41:15.624Z"
   },
   {
    "duration": 766,
    "start_time": "2023-02-01T12:41:15.639Z"
   },
   {
    "duration": 9,
    "start_time": "2023-02-01T12:41:16.406Z"
   },
   {
    "duration": 746,
    "start_time": "2023-02-01T12:41:16.419Z"
   },
   {
    "duration": 9,
    "start_time": "2023-02-01T12:41:17.167Z"
   },
   {
    "duration": 768,
    "start_time": "2023-02-01T12:41:17.178Z"
   },
   {
    "duration": 2032,
    "start_time": "2023-02-01T13:43:10.316Z"
   },
   {
    "duration": 3,
    "start_time": "2023-02-01T13:43:12.350Z"
   },
   {
    "duration": 437,
    "start_time": "2023-02-01T13:43:12.354Z"
   },
   {
    "duration": 13,
    "start_time": "2023-02-01T13:43:12.794Z"
   },
   {
    "duration": 429,
    "start_time": "2023-02-01T13:43:12.809Z"
   },
   {
    "duration": 11,
    "start_time": "2023-02-01T13:43:13.240Z"
   },
   {
    "duration": 9,
    "start_time": "2023-02-01T13:43:13.253Z"
   },
   {
    "duration": 14,
    "start_time": "2023-02-01T13:43:13.263Z"
   },
   {
    "duration": 24,
    "start_time": "2023-02-01T13:43:13.279Z"
   },
   {
    "duration": 609,
    "start_time": "2023-02-01T13:43:13.307Z"
   },
   {
    "duration": 14,
    "start_time": "2023-02-01T13:43:13.918Z"
   },
   {
    "duration": 349,
    "start_time": "2023-02-01T13:43:13.933Z"
   },
   {
    "duration": 12,
    "start_time": "2023-02-01T13:43:14.284Z"
   },
   {
    "duration": 22,
    "start_time": "2023-02-01T13:43:14.298Z"
   },
   {
    "duration": 29,
    "start_time": "2023-02-01T13:43:14.322Z"
   },
   {
    "duration": 48,
    "start_time": "2023-02-01T13:43:14.353Z"
   },
   {
    "duration": 593,
    "start_time": "2023-02-01T13:43:14.403Z"
   },
   {
    "duration": 11,
    "start_time": "2023-02-01T13:43:14.998Z"
   },
   {
    "duration": 382,
    "start_time": "2023-02-01T13:43:15.011Z"
   },
   {
    "duration": 10,
    "start_time": "2023-02-01T13:43:15.395Z"
   },
   {
    "duration": 8,
    "start_time": "2023-02-01T13:43:15.407Z"
   },
   {
    "duration": 52,
    "start_time": "2023-02-01T13:43:15.417Z"
   },
   {
    "duration": 50,
    "start_time": "2023-02-01T13:43:15.471Z"
   },
   {
    "duration": 114,
    "start_time": "2023-02-01T13:43:15.523Z"
   },
   {
    "duration": 106,
    "start_time": "2023-02-01T13:43:15.640Z"
   },
   {
    "duration": 46,
    "start_time": "2023-02-01T13:43:15.749Z"
   },
   {
    "duration": 143,
    "start_time": "2023-02-01T13:43:15.797Z"
   },
   {
    "duration": 36,
    "start_time": "2023-02-01T13:43:15.945Z"
   },
   {
    "duration": 156,
    "start_time": "2023-02-01T13:43:15.984Z"
   },
   {
    "duration": 14,
    "start_time": "2023-02-01T13:43:16.142Z"
   },
   {
    "duration": 27,
    "start_time": "2023-02-01T13:43:16.159Z"
   },
   {
    "duration": 21,
    "start_time": "2023-02-01T13:43:16.187Z"
   },
   {
    "duration": 41,
    "start_time": "2023-02-01T13:43:16.210Z"
   },
   {
    "duration": 30,
    "start_time": "2023-02-01T13:43:16.253Z"
   },
   {
    "duration": 31,
    "start_time": "2023-02-01T13:43:16.284Z"
   },
   {
    "duration": 49,
    "start_time": "2023-02-01T13:43:16.316Z"
   },
   {
    "duration": 21,
    "start_time": "2023-02-01T13:43:16.367Z"
   },
   {
    "duration": 38,
    "start_time": "2023-02-01T13:43:16.390Z"
   },
   {
    "duration": 754,
    "start_time": "2023-02-01T13:43:16.430Z"
   },
   {
    "duration": 9,
    "start_time": "2023-02-01T13:43:17.186Z"
   },
   {
    "duration": 739,
    "start_time": "2023-02-01T13:43:17.197Z"
   },
   {
    "duration": 9,
    "start_time": "2023-02-01T13:43:17.938Z"
   },
   {
    "duration": 787,
    "start_time": "2023-02-01T13:43:17.949Z"
   },
   {
    "duration": 2000,
    "start_time": "2023-02-01T13:44:22.902Z"
   },
   {
    "duration": 3,
    "start_time": "2023-02-01T13:44:24.904Z"
   },
   {
    "duration": 170,
    "start_time": "2023-02-01T13:44:24.909Z"
   },
   {
    "duration": 13,
    "start_time": "2023-02-01T13:44:25.081Z"
   },
   {
    "duration": 420,
    "start_time": "2023-02-01T13:44:25.096Z"
   },
   {
    "duration": 19,
    "start_time": "2023-02-01T13:44:25.518Z"
   },
   {
    "duration": 5,
    "start_time": "2023-02-01T13:44:25.539Z"
   },
   {
    "duration": 13,
    "start_time": "2023-02-01T13:44:25.546Z"
   },
   {
    "duration": 22,
    "start_time": "2023-02-01T13:44:25.560Z"
   },
   {
    "duration": 159,
    "start_time": "2023-02-01T13:44:25.584Z"
   },
   {
    "duration": 13,
    "start_time": "2023-02-01T13:44:25.744Z"
   },
   {
    "duration": 350,
    "start_time": "2023-02-01T13:44:25.760Z"
   },
   {
    "duration": 12,
    "start_time": "2023-02-01T13:44:26.112Z"
   },
   {
    "duration": 5,
    "start_time": "2023-02-01T13:44:26.136Z"
   },
   {
    "duration": 22,
    "start_time": "2023-02-01T13:44:26.143Z"
   },
   {
    "duration": 23,
    "start_time": "2023-02-01T13:44:26.168Z"
   },
   {
    "duration": 167,
    "start_time": "2023-02-01T13:44:26.193Z"
   },
   {
    "duration": 14,
    "start_time": "2023-02-01T13:44:26.362Z"
   },
   {
    "duration": 399,
    "start_time": "2023-02-01T13:44:26.378Z"
   },
   {
    "duration": 11,
    "start_time": "2023-02-01T13:44:26.780Z"
   },
   {
    "duration": 5,
    "start_time": "2023-02-01T13:44:26.794Z"
   },
   {
    "duration": 9,
    "start_time": "2023-02-01T13:44:26.801Z"
   },
   {
    "duration": 42,
    "start_time": "2023-02-01T13:44:26.811Z"
   },
   {
    "duration": 14,
    "start_time": "2023-02-01T13:44:26.855Z"
   },
   {
    "duration": 67,
    "start_time": "2023-02-01T13:44:26.871Z"
   },
   {
    "duration": 109,
    "start_time": "2023-02-01T13:44:26.939Z"
   },
   {
    "duration": 7,
    "start_time": "2023-02-01T13:44:27.050Z"
   },
   {
    "duration": 100,
    "start_time": "2023-02-01T13:44:27.141Z"
   },
   {
    "duration": 98,
    "start_time": "2023-02-01T13:44:27.243Z"
   },
   {
    "duration": 99,
    "start_time": "2023-02-01T13:44:27.343Z"
   },
   {
    "duration": 12,
    "start_time": "2023-02-01T13:44:27.444Z"
   },
   {
    "duration": 6,
    "start_time": "2023-02-01T13:44:27.459Z"
   },
   {
    "duration": 10,
    "start_time": "2023-02-01T13:44:27.467Z"
   },
   {
    "duration": 8,
    "start_time": "2023-02-01T13:44:27.479Z"
   },
   {
    "duration": 9,
    "start_time": "2023-02-01T13:44:27.490Z"
   },
   {
    "duration": 6,
    "start_time": "2023-02-01T13:44:27.501Z"
   },
   {
    "duration": 9,
    "start_time": "2023-02-01T13:44:27.508Z"
   },
   {
    "duration": 24,
    "start_time": "2023-02-01T13:44:27.519Z"
   },
   {
    "duration": 722,
    "start_time": "2023-02-01T13:44:27.544Z"
   },
   {
    "duration": 9,
    "start_time": "2023-02-01T13:44:28.267Z"
   },
   {
    "duration": 794,
    "start_time": "2023-02-01T13:44:28.279Z"
   },
   {
    "duration": 12,
    "start_time": "2023-02-01T13:44:29.075Z"
   },
   {
    "duration": 745,
    "start_time": "2023-02-01T13:44:29.088Z"
   },
   {
    "duration": 1582,
    "start_time": "2023-02-01T14:48:40.348Z"
   },
   {
    "duration": 3,
    "start_time": "2023-02-01T14:48:41.932Z"
   },
   {
    "duration": 432,
    "start_time": "2023-02-01T14:48:41.936Z"
   },
   {
    "duration": 13,
    "start_time": "2023-02-01T14:48:42.370Z"
   },
   {
    "duration": 399,
    "start_time": "2023-02-01T14:48:42.385Z"
   },
   {
    "duration": 10,
    "start_time": "2023-02-01T14:48:42.786Z"
   },
   {
    "duration": 5,
    "start_time": "2023-02-01T14:48:42.798Z"
   },
   {
    "duration": 13,
    "start_time": "2023-02-01T14:48:42.804Z"
   },
   {
    "duration": 28,
    "start_time": "2023-02-01T14:48:42.819Z"
   },
   {
    "duration": 642,
    "start_time": "2023-02-01T14:48:42.850Z"
   },
   {
    "duration": 11,
    "start_time": "2023-02-01T14:48:43.493Z"
   },
   {
    "duration": 354,
    "start_time": "2023-02-01T14:48:43.507Z"
   },
   {
    "duration": 13,
    "start_time": "2023-02-01T14:48:43.863Z"
   },
   {
    "duration": 14,
    "start_time": "2023-02-01T14:48:43.890Z"
   },
   {
    "duration": 24,
    "start_time": "2023-02-01T14:48:43.905Z"
   },
   {
    "duration": 20,
    "start_time": "2023-02-01T14:48:43.931Z"
   },
   {
    "duration": 585,
    "start_time": "2023-02-01T14:48:43.952Z"
   },
   {
    "duration": 11,
    "start_time": "2023-02-01T14:48:44.538Z"
   },
   {
    "duration": 381,
    "start_time": "2023-02-01T14:48:44.551Z"
   },
   {
    "duration": 10,
    "start_time": "2023-02-01T14:48:44.933Z"
   },
   {
    "duration": 16,
    "start_time": "2023-02-01T14:48:44.944Z"
   },
   {
    "duration": 20,
    "start_time": "2023-02-01T14:48:44.962Z"
   },
   {
    "duration": 51,
    "start_time": "2023-02-01T14:48:44.984Z"
   },
   {
    "duration": 167,
    "start_time": "2023-02-01T14:48:45.036Z"
   },
   {
    "duration": 90,
    "start_time": "2023-02-01T14:48:45.205Z"
   },
   {
    "duration": 31,
    "start_time": "2023-02-01T14:48:45.298Z"
   },
   {
    "duration": 7,
    "start_time": "2023-02-01T14:48:45.391Z"
   },
   {
    "duration": 109,
    "start_time": "2023-02-01T14:48:45.403Z"
   },
   {
    "duration": 183,
    "start_time": "2023-02-01T14:48:45.515Z"
   },
   {
    "duration": 14,
    "start_time": "2023-02-01T14:48:45.700Z"
   },
   {
    "duration": 19,
    "start_time": "2023-02-01T14:48:45.716Z"
   },
   {
    "duration": 9,
    "start_time": "2023-02-01T14:48:45.736Z"
   },
   {
    "duration": 11,
    "start_time": "2023-02-01T14:48:45.747Z"
   },
   {
    "duration": 14,
    "start_time": "2023-02-01T14:48:45.760Z"
   },
   {
    "duration": 14,
    "start_time": "2023-02-01T14:48:45.776Z"
   },
   {
    "duration": 4,
    "start_time": "2023-02-01T14:48:45.792Z"
   },
   {
    "duration": 31,
    "start_time": "2023-02-01T14:48:45.797Z"
   },
   {
    "duration": 32,
    "start_time": "2023-02-01T14:48:45.829Z"
   },
   {
    "duration": 753,
    "start_time": "2023-02-01T14:48:45.863Z"
   },
   {
    "duration": 11,
    "start_time": "2023-02-01T14:48:46.618Z"
   },
   {
    "duration": 710,
    "start_time": "2023-02-01T14:48:46.631Z"
   },
   {
    "duration": 8,
    "start_time": "2023-02-01T14:48:47.342Z"
   },
   {
    "duration": 682,
    "start_time": "2023-02-01T14:48:47.352Z"
   }
  ],
  "kernelspec": {
   "display_name": "Python 3 (ipykernel)",
   "language": "python",
   "name": "python3"
  },
  "language_info": {
   "codemirror_mode": {
    "name": "ipython",
    "version": 3
   },
   "file_extension": ".py",
   "mimetype": "text/x-python",
   "name": "python",
   "nbconvert_exporter": "python",
   "pygments_lexer": "ipython3",
   "version": "3.10.11"
  },
  "toc": {
   "base_numbering": 1,
   "nav_menu": {},
   "number_sections": true,
   "sideBar": true,
   "skip_h1_title": true,
   "title_cell": "Table of Contents",
   "title_sidebar": "Contents",
   "toc_cell": false,
   "toc_position": {
    "height": "calc(100% - 180px)",
    "left": "10px",
    "top": "150px",
    "width": "331.25px"
   },
   "toc_section_display": true,
   "toc_window_display": true
  }
 },
 "nbformat": 4,
 "nbformat_minor": 2
}
