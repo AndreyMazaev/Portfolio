{
 "cells": [
  {
   "cell_type": "markdown",
   "metadata": {},
   "source": [
    "# Определение стоимости автомобилей"
   ]
  },
  {
   "cell_type": "markdown",
   "metadata": {},
   "source": [
    "Сервис по продаже автомобилей с пробегом «Не бит, не крашен» разрабатывает приложение для привлечения новых клиентов. В нём можно быстро узнать рыночную стоимость своего автомобиля. В вашем распоряжении исторические данные: технические характеристики, комплектации и цены автомобилей. Вам нужно построить модель для определения стоимости. \n",
    "\n",
    "Заказчику важны:\n",
    "\n",
    "- качество предсказания;\n",
    "- скорость предсказания;\n",
    "- время обучения."
   ]
  },
  {
   "cell_type": "markdown",
   "metadata": {},
   "source": [
    "### Импорт библиотек ⬇"
   ]
  },
  {
   "cell_type": "code",
   "execution_count": 1,
   "metadata": {},
   "outputs": [],
   "source": [
    "import matplotlib.pyplot as plt\n",
    "import numpy as np\n",
    "import pandas as pd\n",
    "import warnings\n",
    "from sklearn.model_selection import train_test_split\n",
    "from sklearn.preprocessing import StandardScaler\n",
    "from sklearn.metrics import mean_squared_error\n",
    "from sklearn.preprocessing import PolynomialFeatures\n",
    "from sklearn.preprocessing import OrdinalEncoder\n",
    "from sklearn.linear_model import LinearRegression\n",
    "from sklearn.linear_model import Ridge\n",
    "from sklearn.tree import DecisionTreeRegressor\n",
    "from sklearn.ensemble import ExtraTreesRegressor\n",
    "from catboost import Pool, CatBoostRegressor, cv\n",
    "from lightgbm import LGBMRegressor\n",
    "from sklearn.model_selection import cross_val_score\n",
    "from sklearn.model_selection import GridSearchCV\n",
    "from sklearn.pipeline import Pipeline\n",
    "from sklearn.preprocessing import OneHotEncoder\n",
    "\n",
    "warnings.filterwarnings('ignore')"
   ]
  },
  {
   "cell_type": "markdown",
   "metadata": {},
   "source": [
    "## Подготовка данных"
   ]
  },
  {
   "cell_type": "markdown",
   "metadata": {},
   "source": [
    "### Анализ данных"
   ]
  },
  {
   "cell_type": "code",
   "execution_count": 2,
   "metadata": {},
   "outputs": [
    {
     "name": "stdout",
     "output_type": "stream",
     "text": [
      "<class 'pandas.core.frame.DataFrame'>\n",
      "RangeIndex: 354369 entries, 0 to 354368\n",
      "Data columns (total 16 columns):\n",
      " #   Column             Non-Null Count   Dtype \n",
      "---  ------             --------------   ----- \n",
      " 0   DateCrawled        354369 non-null  object\n",
      " 1   Price              354369 non-null  int64 \n",
      " 2   VehicleType        316879 non-null  object\n",
      " 3   RegistrationYear   354369 non-null  int64 \n",
      " 4   Gearbox            334536 non-null  object\n",
      " 5   Power              354369 non-null  int64 \n",
      " 6   Model              334664 non-null  object\n",
      " 7   Kilometer          354369 non-null  int64 \n",
      " 8   RegistrationMonth  354369 non-null  int64 \n",
      " 9   FuelType           321474 non-null  object\n",
      " 10  Brand              354369 non-null  object\n",
      " 11  Repaired           283215 non-null  object\n",
      " 12  DateCreated        354369 non-null  object\n",
      " 13  NumberOfPictures   354369 non-null  int64 \n",
      " 14  PostalCode         354369 non-null  int64 \n",
      " 15  LastSeen           354369 non-null  object\n",
      "dtypes: int64(7), object(9)\n",
      "memory usage: 43.3+ MB\n"
     ]
    },
    {
     "data": {
      "text/plain": [
       "None"
      ]
     },
     "metadata": {},
     "output_type": "display_data"
    },
    {
     "data": {
      "text/html": [
       "<div>\n",
       "<style scoped>\n",
       "    .dataframe tbody tr th:only-of-type {\n",
       "        vertical-align: middle;\n",
       "    }\n",
       "\n",
       "    .dataframe tbody tr th {\n",
       "        vertical-align: top;\n",
       "    }\n",
       "\n",
       "    .dataframe thead th {\n",
       "        text-align: right;\n",
       "    }\n",
       "</style>\n",
       "<table border=\"1\" class=\"dataframe\">\n",
       "  <thead>\n",
       "    <tr style=\"text-align: right;\">\n",
       "      <th></th>\n",
       "      <th>DateCrawled</th>\n",
       "      <th>Price</th>\n",
       "      <th>VehicleType</th>\n",
       "      <th>RegistrationYear</th>\n",
       "      <th>Gearbox</th>\n",
       "      <th>Power</th>\n",
       "      <th>Model</th>\n",
       "      <th>Kilometer</th>\n",
       "      <th>RegistrationMonth</th>\n",
       "      <th>FuelType</th>\n",
       "      <th>Brand</th>\n",
       "      <th>Repaired</th>\n",
       "      <th>DateCreated</th>\n",
       "      <th>NumberOfPictures</th>\n",
       "      <th>PostalCode</th>\n",
       "      <th>LastSeen</th>\n",
       "    </tr>\n",
       "  </thead>\n",
       "  <tbody>\n",
       "    <tr>\n",
       "      <th>0</th>\n",
       "      <td>2016-03-24 11:52:17</td>\n",
       "      <td>480</td>\n",
       "      <td>NaN</td>\n",
       "      <td>1993</td>\n",
       "      <td>manual</td>\n",
       "      <td>0</td>\n",
       "      <td>golf</td>\n",
       "      <td>150000</td>\n",
       "      <td>0</td>\n",
       "      <td>petrol</td>\n",
       "      <td>volkswagen</td>\n",
       "      <td>NaN</td>\n",
       "      <td>2016-03-24 00:00:00</td>\n",
       "      <td>0</td>\n",
       "      <td>70435</td>\n",
       "      <td>2016-04-07 03:16:57</td>\n",
       "    </tr>\n",
       "    <tr>\n",
       "      <th>1</th>\n",
       "      <td>2016-03-24 10:58:45</td>\n",
       "      <td>18300</td>\n",
       "      <td>coupe</td>\n",
       "      <td>2011</td>\n",
       "      <td>manual</td>\n",
       "      <td>190</td>\n",
       "      <td>NaN</td>\n",
       "      <td>125000</td>\n",
       "      <td>5</td>\n",
       "      <td>gasoline</td>\n",
       "      <td>audi</td>\n",
       "      <td>yes</td>\n",
       "      <td>2016-03-24 00:00:00</td>\n",
       "      <td>0</td>\n",
       "      <td>66954</td>\n",
       "      <td>2016-04-07 01:46:50</td>\n",
       "    </tr>\n",
       "    <tr>\n",
       "      <th>2</th>\n",
       "      <td>2016-03-14 12:52:21</td>\n",
       "      <td>9800</td>\n",
       "      <td>suv</td>\n",
       "      <td>2004</td>\n",
       "      <td>auto</td>\n",
       "      <td>163</td>\n",
       "      <td>grand</td>\n",
       "      <td>125000</td>\n",
       "      <td>8</td>\n",
       "      <td>gasoline</td>\n",
       "      <td>jeep</td>\n",
       "      <td>NaN</td>\n",
       "      <td>2016-03-14 00:00:00</td>\n",
       "      <td>0</td>\n",
       "      <td>90480</td>\n",
       "      <td>2016-04-05 12:47:46</td>\n",
       "    </tr>\n",
       "    <tr>\n",
       "      <th>3</th>\n",
       "      <td>2016-03-17 16:54:04</td>\n",
       "      <td>1500</td>\n",
       "      <td>small</td>\n",
       "      <td>2001</td>\n",
       "      <td>manual</td>\n",
       "      <td>75</td>\n",
       "      <td>golf</td>\n",
       "      <td>150000</td>\n",
       "      <td>6</td>\n",
       "      <td>petrol</td>\n",
       "      <td>volkswagen</td>\n",
       "      <td>no</td>\n",
       "      <td>2016-03-17 00:00:00</td>\n",
       "      <td>0</td>\n",
       "      <td>91074</td>\n",
       "      <td>2016-03-17 17:40:17</td>\n",
       "    </tr>\n",
       "    <tr>\n",
       "      <th>4</th>\n",
       "      <td>2016-03-31 17:25:20</td>\n",
       "      <td>3600</td>\n",
       "      <td>small</td>\n",
       "      <td>2008</td>\n",
       "      <td>manual</td>\n",
       "      <td>69</td>\n",
       "      <td>fabia</td>\n",
       "      <td>90000</td>\n",
       "      <td>7</td>\n",
       "      <td>gasoline</td>\n",
       "      <td>skoda</td>\n",
       "      <td>no</td>\n",
       "      <td>2016-03-31 00:00:00</td>\n",
       "      <td>0</td>\n",
       "      <td>60437</td>\n",
       "      <td>2016-04-06 10:17:21</td>\n",
       "    </tr>\n",
       "  </tbody>\n",
       "</table>\n",
       "</div>"
      ],
      "text/plain": [
       "           DateCrawled  Price VehicleType  RegistrationYear Gearbox  Power   \n",
       "0  2016-03-24 11:52:17    480         NaN              1993  manual      0  \\\n",
       "1  2016-03-24 10:58:45  18300       coupe              2011  manual    190   \n",
       "2  2016-03-14 12:52:21   9800         suv              2004    auto    163   \n",
       "3  2016-03-17 16:54:04   1500       small              2001  manual     75   \n",
       "4  2016-03-31 17:25:20   3600       small              2008  manual     69   \n",
       "\n",
       "   Model  Kilometer  RegistrationMonth  FuelType       Brand Repaired   \n",
       "0   golf     150000                  0    petrol  volkswagen      NaN  \\\n",
       "1    NaN     125000                  5  gasoline        audi      yes   \n",
       "2  grand     125000                  8  gasoline        jeep      NaN   \n",
       "3   golf     150000                  6    petrol  volkswagen       no   \n",
       "4  fabia      90000                  7  gasoline       skoda       no   \n",
       "\n",
       "           DateCreated  NumberOfPictures  PostalCode             LastSeen  \n",
       "0  2016-03-24 00:00:00                 0       70435  2016-04-07 03:16:57  \n",
       "1  2016-03-24 00:00:00                 0       66954  2016-04-07 01:46:50  \n",
       "2  2016-03-14 00:00:00                 0       90480  2016-04-05 12:47:46  \n",
       "3  2016-03-17 00:00:00                 0       91074  2016-03-17 17:40:17  \n",
       "4  2016-03-31 00:00:00                 0       60437  2016-04-06 10:17:21  "
      ]
     },
     "execution_count": 2,
     "metadata": {},
     "output_type": "execute_result"
    }
   ],
   "source": [
    "autos_data = pd.read_csv('/datasets/autos.csv')\n",
    "display(autos_data.info())\n",
    "autos_data.head()"
   ]
  },
  {
   "cell_type": "code",
   "execution_count": 3,
   "metadata": {},
   "outputs": [
    {
     "data": {
      "text/html": [
       "<div>\n",
       "<style scoped>\n",
       "    .dataframe tbody tr th:only-of-type {\n",
       "        vertical-align: middle;\n",
       "    }\n",
       "\n",
       "    .dataframe tbody tr th {\n",
       "        vertical-align: top;\n",
       "    }\n",
       "\n",
       "    .dataframe thead th {\n",
       "        text-align: right;\n",
       "    }\n",
       "</style>\n",
       "<table border=\"1\" class=\"dataframe\">\n",
       "  <thead>\n",
       "    <tr style=\"text-align: right;\">\n",
       "      <th></th>\n",
       "      <th>Price</th>\n",
       "      <th>RegistrationYear</th>\n",
       "      <th>Power</th>\n",
       "      <th>Kilometer</th>\n",
       "      <th>RegistrationMonth</th>\n",
       "      <th>NumberOfPictures</th>\n",
       "      <th>PostalCode</th>\n",
       "    </tr>\n",
       "  </thead>\n",
       "  <tbody>\n",
       "    <tr>\n",
       "      <th>count</th>\n",
       "      <td>354369.000000</td>\n",
       "      <td>354369.000000</td>\n",
       "      <td>354369.000000</td>\n",
       "      <td>354369.000000</td>\n",
       "      <td>354369.000000</td>\n",
       "      <td>354369.0</td>\n",
       "      <td>354369.000000</td>\n",
       "    </tr>\n",
       "    <tr>\n",
       "      <th>mean</th>\n",
       "      <td>4416.656776</td>\n",
       "      <td>2004.234448</td>\n",
       "      <td>110.094337</td>\n",
       "      <td>128211.172535</td>\n",
       "      <td>5.714645</td>\n",
       "      <td>0.0</td>\n",
       "      <td>50508.689087</td>\n",
       "    </tr>\n",
       "    <tr>\n",
       "      <th>std</th>\n",
       "      <td>4514.158514</td>\n",
       "      <td>90.227958</td>\n",
       "      <td>189.850405</td>\n",
       "      <td>37905.341530</td>\n",
       "      <td>3.726421</td>\n",
       "      <td>0.0</td>\n",
       "      <td>25783.096248</td>\n",
       "    </tr>\n",
       "    <tr>\n",
       "      <th>min</th>\n",
       "      <td>0.000000</td>\n",
       "      <td>1000.000000</td>\n",
       "      <td>0.000000</td>\n",
       "      <td>5000.000000</td>\n",
       "      <td>0.000000</td>\n",
       "      <td>0.0</td>\n",
       "      <td>1067.000000</td>\n",
       "    </tr>\n",
       "    <tr>\n",
       "      <th>25%</th>\n",
       "      <td>1050.000000</td>\n",
       "      <td>1999.000000</td>\n",
       "      <td>69.000000</td>\n",
       "      <td>125000.000000</td>\n",
       "      <td>3.000000</td>\n",
       "      <td>0.0</td>\n",
       "      <td>30165.000000</td>\n",
       "    </tr>\n",
       "    <tr>\n",
       "      <th>50%</th>\n",
       "      <td>2700.000000</td>\n",
       "      <td>2003.000000</td>\n",
       "      <td>105.000000</td>\n",
       "      <td>150000.000000</td>\n",
       "      <td>6.000000</td>\n",
       "      <td>0.0</td>\n",
       "      <td>49413.000000</td>\n",
       "    </tr>\n",
       "    <tr>\n",
       "      <th>75%</th>\n",
       "      <td>6400.000000</td>\n",
       "      <td>2008.000000</td>\n",
       "      <td>143.000000</td>\n",
       "      <td>150000.000000</td>\n",
       "      <td>9.000000</td>\n",
       "      <td>0.0</td>\n",
       "      <td>71083.000000</td>\n",
       "    </tr>\n",
       "    <tr>\n",
       "      <th>max</th>\n",
       "      <td>20000.000000</td>\n",
       "      <td>9999.000000</td>\n",
       "      <td>20000.000000</td>\n",
       "      <td>150000.000000</td>\n",
       "      <td>12.000000</td>\n",
       "      <td>0.0</td>\n",
       "      <td>99998.000000</td>\n",
       "    </tr>\n",
       "  </tbody>\n",
       "</table>\n",
       "</div>"
      ],
      "text/plain": [
       "               Price  RegistrationYear          Power      Kilometer   \n",
       "count  354369.000000     354369.000000  354369.000000  354369.000000  \\\n",
       "mean     4416.656776       2004.234448     110.094337  128211.172535   \n",
       "std      4514.158514         90.227958     189.850405   37905.341530   \n",
       "min         0.000000       1000.000000       0.000000    5000.000000   \n",
       "25%      1050.000000       1999.000000      69.000000  125000.000000   \n",
       "50%      2700.000000       2003.000000     105.000000  150000.000000   \n",
       "75%      6400.000000       2008.000000     143.000000  150000.000000   \n",
       "max     20000.000000       9999.000000   20000.000000  150000.000000   \n",
       "\n",
       "       RegistrationMonth  NumberOfPictures     PostalCode  \n",
       "count      354369.000000          354369.0  354369.000000  \n",
       "mean            5.714645               0.0   50508.689087  \n",
       "std             3.726421               0.0   25783.096248  \n",
       "min             0.000000               0.0    1067.000000  \n",
       "25%             3.000000               0.0   30165.000000  \n",
       "50%             6.000000               0.0   49413.000000  \n",
       "75%             9.000000               0.0   71083.000000  \n",
       "max            12.000000               0.0   99998.000000  "
      ]
     },
     "execution_count": 3,
     "metadata": {},
     "output_type": "execute_result"
    }
   ],
   "source": [
    "autos_data.describe()"
   ]
  },
  {
   "cell_type": "markdown",
   "metadata": {},
   "source": [
    "    Оценим количество пропусков по каждому критерию."
   ]
  },
  {
   "cell_type": "code",
   "execution_count": 4,
   "metadata": {},
   "outputs": [
    {
     "data": {
      "text/plain": [
       "DateCrawled          0.000000\n",
       "Price                0.000000\n",
       "VehicleType          0.105794\n",
       "RegistrationYear     0.000000\n",
       "Gearbox              0.055967\n",
       "Power                0.000000\n",
       "Model                0.055606\n",
       "Kilometer            0.000000\n",
       "RegistrationMonth    0.000000\n",
       "FuelType             0.092827\n",
       "Brand                0.000000\n",
       "Repaired             0.200791\n",
       "DateCreated          0.000000\n",
       "NumberOfPictures     0.000000\n",
       "PostalCode           0.000000\n",
       "LastSeen             0.000000\n",
       "dtype: float64"
      ]
     },
     "execution_count": 4,
     "metadata": {},
     "output_type": "execute_result"
    }
   ],
   "source": [
    "autos_data.isna().mean()"
   ]
  },
  {
   "cell_type": "markdown",
   "metadata": {},
   "source": [
    "    Столбцы VehicleType, Gearbox, FuelType и Repaired имеют пропуски. Изучим, какие данные есть в каждом столбце."
   ]
  },
  {
   "cell_type": "code",
   "execution_count": 5,
   "metadata": {},
   "outputs": [],
   "source": [
    "def show_rows(data_frame):\n",
    "    for column in data_frame.columns:\n",
    "        print('Уникальные значения столбца', column)\n",
    "        print(data_frame[column].unique())"
   ]
  },
  {
   "cell_type": "code",
   "execution_count": 6,
   "metadata": {
    "scrolled": false
   },
   "outputs": [
    {
     "name": "stdout",
     "output_type": "stream",
     "text": [
      "Уникальные значения столбца DateCrawled\n",
      "['2016-03-24 11:52:17' '2016-03-24 10:58:45' '2016-03-14 12:52:21' ...\n",
      " '2016-03-21 09:50:58' '2016-03-14 17:48:27' '2016-03-19 18:57:12']\n",
      "Уникальные значения столбца Price\n",
      "[  480 18300  9800 ... 12395 18429 10985]\n",
      "Уникальные значения столбца VehicleType\n",
      "[nan 'coupe' 'suv' 'small' 'sedan' 'convertible' 'bus' 'wagon' 'other']\n",
      "Уникальные значения столбца RegistrationYear\n",
      "[1993 2011 2004 2001 2008 1995 1980 2014 1998 2005 1910 2016 2007 2009\n",
      " 2002 2018 1997 1990 2017 1981 2003 1994 1991 1984 2006 1999 2012 2010\n",
      " 2000 1992 2013 1996 1985 1989 2015 1982 1976 1983 1973 1111 1969 1971\n",
      " 1987 1986 1988 1970 1965 1945 1925 1974 1979 1955 1978 1972 1968 1977\n",
      " 1961 1960 1966 1975 1963 1964 5000 1954 1958 1967 1959 9999 1956 3200\n",
      " 1000 1941 8888 1500 2200 4100 1962 1929 1957 1940 3000 2066 1949 2019\n",
      " 1937 1951 1800 1953 1234 8000 5300 9000 2900 6000 5900 5911 1933 1400\n",
      " 1950 4000 1948 1952 1200 8500 1932 1255 3700 3800 4800 1942 7000 1935\n",
      " 1936 6500 1923 2290 2500 1930 1001 9450 1944 1943 1934 1938 1688 2800\n",
      " 1253 1928 1919 5555 5600 1600 2222 1039 9996 1300 8455 1931 1915 4500\n",
      " 1920 1602 7800 9229 1947 1927 7100 8200 1946 7500 3500]\n",
      "Уникальные значения столбца Gearbox\n",
      "['manual' 'auto' nan]\n",
      "Уникальные значения столбца Power\n",
      "[    0   190   163    75    69   102   109    50   125   101   105   140\n",
      "   115   131    60   136   160   231    90   118   193    99   113   218\n",
      "   122   129    70   306    95    61   177    80   170    55   143    64\n",
      "   286   232   150   156    82   155    54   185    87   180    86    84\n",
      "   224   235   200   178   265    77   110   144   120   116   184   126\n",
      "   204    88   194   305   197   179   250    45   313    41   165    98\n",
      "   130   114   211    56   201   213    58   107    83   174   100   220\n",
      "    85    73   192    68    66   299    74    52   147    65   310    71\n",
      "    97   239   203     5   300   103   258   320    63    81   148    44\n",
      "   145   230   280   260   104   188   333   186   117   141    59   132\n",
      "   234   158    39    92    51   135    53   209    43   146    67   106\n",
      "   166   276   344    72   249   237   245   111   326   279    23   138\n",
      "   175    96   226    26    37   301   334   128   133   124    33   219\n",
      "   241   167    94   182   196   238  1398   228   112    48   272   139\n",
      "  1799    40   240    79   256   360   243   375   252   396   340   108\n",
      "   121   345   187   289   222   198   284   450   233   387   152   347\n",
      "   172    57   137   212   476   314    30     7    47   173   290   207\n",
      "   205   171   750    78    91    89   349   325    76   151   350   953\n",
      "    93   142   500   343   199   119   164    16   264   367   208   210\n",
      "    46   435  1001   225   127   176   161   603   307   354    35   206\n",
      "   771   355   273   223   255   123   154   149  7515  1400   268   620\n",
      "   169   400   275    34     2   242  1779   285   162   328  1753   329\n",
      "   134   420   247   168 10317   215    18   330   283    62    10   214\n",
      "   183   254    15   321   322   315   952   600   181   426   599   379\n",
      "   999    22   157    42   195   553     4   309   507   381   271   440\n",
      "   189   401  1111  2729    21   236  1240  1704   521     1  1900   270\n",
      "    24   159   292   808   515  1200   303    29    38  1993    14   216\n",
      "   610   504    49   267   331   363   261   385  1011   253   696 10520\n",
      "   376   227   311    27   217    20  1999    11  1056    25   394    12\n",
      "   298   296  1659   294   551  6920   246    17  1800  1625   368   390\n",
      "   221  1367   259   606   327  2017  1597   266   374   392     9   405\n",
      "    13   262   601   430   295     8   411   900   541  7512   382 10218\n",
      "  7544  1102   287    19   751   297  1090   457   282   602   388     6\n",
      "  1000  5411   335  1360   202  3750   805  1062  1024 11530   364  1796\n",
      "  5000   269   460  1002   288  1780 12012 17932   316  2005  1399   191\n",
      "   278  1300   380   257   449  1256   153  1653   520   560   281 12510\n",
      "     3  1500   386    32  1202  2016  1436  1405   671   274  1288  1055\n",
      " 10912 15016  6226  1115   277  1105   341  1223  2340  8404  1968   338\n",
      "   445  1920   370   517  4400 10710 10522  9010   431  1164 11509   371\n",
      "  1501   428 11635    36   304   348  1703  1910  1995   579 10000   580\n",
      "   408    31  1005   358  1403   489  5575 19211   585   960   365   353\n",
      "   490   352  1801   346   550  3199   800  7508  1312   357  1937   950\n",
      "  4700  1600  3454 19208   251   850   337   700  8011  2331  2789   487\n",
      "   519  2461  6006  3500  5815  6018  1781  1503   612  1596   229  1506\n",
      "  5809 15020  5867  2172  1598 17410  1363   584  1054   851  1339   318\n",
      "   510   525  1700    28  1151   685  6011   317   703  1771 15001   514\n",
      "   362   332   324  6045   530   425   308  6010   475   903   640  2000\n",
      "   248   651  2799 17011   505  1103  1521   351 16051   398  9000  1998\n",
      " 10311   409  1230 17019 12684  8259  1895   901  1317   871   909  2201\n",
      "  1595   776 17700 11011  1199   459  1162  1120 15033  1896   339   361\n",
      "   574  6512   454   650 13616   604   607 16312  1082   336 20000   416\n",
      "   678  6012  1401  1021  1870 13636  1250  9710   323  1158  2009   902\n",
      "  6062  1275   572   244   399  1016   743  1221  2402 16011  1362   544\n",
      "   645   907   702 12512  1986  1003  1432  9013  9011   442  1017  1394\n",
      " 15017 10910  1992   540  2018 11025  1433  1701  2792  1502  1239  1390\n",
      " 14009  1160  1351 11111  1783  9007   923  1149   754  1988   402  2004\n",
      "  5420  1793  1324   356  7511  1299   293 19312  1079  1689   998  1100\n",
      "  9012  1933   508 16311   682  1252  1922  7529   732  2389  2200  1707\n",
      "  1416  8500  1012   485  3000 10110   421  4507  1631  7518   377  1004\n",
      "  2007  2598  1548  1241]\n",
      "Уникальные значения столбца Model\n",
      "['golf' nan 'grand' 'fabia' '3er' '2_reihe' 'other' 'c_max' '3_reihe'\n",
      " 'passat' 'navara' 'ka' 'polo' 'twingo' 'a_klasse' 'scirocco' '5er'\n",
      " 'meriva' 'arosa' 'c4' 'civic' 'transporter' 'punto' 'e_klasse' 'clio'\n",
      " 'kadett' 'kangoo' 'corsa' 'one' 'fortwo' '1er' 'b_klasse' 'signum'\n",
      " 'astra' 'a8' 'jetta' 'fiesta' 'c_klasse' 'micra' 'vito' 'sprinter' '156'\n",
      " 'escort' 'forester' 'xc_reihe' 'scenic' 'a4' 'a1' 'insignia' 'combo'\n",
      " 'focus' 'tt' 'a6' 'jazz' 'omega' 'slk' '7er' '80' '147' '100' 'z_reihe'\n",
      " 'sportage' 'sorento' 'v40' 'ibiza' 'mustang' 'eos' 'touran' 'getz' 'a3'\n",
      " 'almera' 'megane' 'lupo' 'r19' 'zafira' 'caddy' 'mondeo' 'cordoba' 'colt'\n",
      " 'impreza' 'vectra' 'berlingo' 'tiguan' 'i_reihe' 'espace' 'sharan'\n",
      " '6_reihe' 'panda' 'up' 'seicento' 'ceed' '5_reihe' 'yeti' 'octavia' 'mii'\n",
      " 'rx_reihe' '6er' 'modus' 'fox' 'matiz' 'beetle' 'c1' 'rio' 'touareg'\n",
      " 'logan' 'spider' 'cuore' 's_max' 'a2' 'galaxy' 'c3' 'viano' 's_klasse'\n",
      " '1_reihe' 'avensis' 'roomster' 'sl' 'kaefer' 'santa' 'cooper' 'leon'\n",
      " '4_reihe' 'a5' '500' 'laguna' 'ptcruiser' 'clk' 'primera' 'x_reihe'\n",
      " 'exeo' '159' 'transit' 'juke' 'qashqai' 'carisma' 'accord' 'corolla'\n",
      " 'lanos' 'phaeton' 'verso' 'swift' 'rav' 'picanto' 'boxster' 'kalos'\n",
      " 'superb' 'stilo' 'alhambra' 'mx_reihe' 'roadster' 'ypsilon' 'cayenne'\n",
      " 'galant' 'justy' '90' 'sirion' 'crossfire' 'agila' 'duster' 'cr_reihe'\n",
      " 'v50' 'c_reihe' 'v_klasse' 'm_klasse' 'yaris' 'c5' 'aygo' 'cc' 'carnival'\n",
      " 'fusion' '911' 'bora' 'forfour' 'm_reihe' 'cl' 'tigra' '300c' 'spark'\n",
      " 'v70' 'kuga' 'x_type' 'ducato' 's_type' 'x_trail' 'toledo' 'altea'\n",
      " 'voyager' 'calibra' 'bravo' 'antara' 'tucson' 'citigo' 'jimny' 'wrangler'\n",
      " 'lybra' 'q7' 'lancer' 'captiva' 'c2' 'discovery' 'freelander' 'sandero'\n",
      " 'note' '900' 'cherokee' 'clubman' 'samara' 'defender' '601' 'cx_reihe'\n",
      " 'legacy' 'pajero' 'auris' 'niva' 's60' 'nubira' 'vivaro' 'g_klasse'\n",
      " 'lodgy' '850' 'range_rover' 'q3' 'serie_2' 'glk' 'charade' 'croma'\n",
      " 'outlander' 'doblo' 'musa' 'move' '9000' 'v60' '145' 'aveo' '200' 'b_max'\n",
      " 'range_rover_sport' 'terios' 'rangerover' 'q5' 'range_rover_evoque'\n",
      " 'materia' 'delta' 'gl' 'kalina' 'amarok' 'elefantino' 'i3' 'kappa'\n",
      " 'serie_3' 'serie_1']\n",
      "Уникальные значения столбца Kilometer\n",
      "[150000 125000  90000  40000  30000  70000   5000 100000  60000  20000\n",
      "  80000  50000  10000]\n",
      "Уникальные значения столбца RegistrationMonth\n",
      "[ 0  5  8  6  7 10 12 11  2  3  1  4  9]\n",
      "Уникальные значения столбца FuelType\n",
      "['petrol' 'gasoline' nan 'lpg' 'other' 'hybrid' 'cng' 'electric']\n",
      "Уникальные значения столбца Brand\n",
      "['volkswagen' 'audi' 'jeep' 'skoda' 'bmw' 'peugeot' 'ford' 'mazda'\n",
      " 'nissan' 'renault' 'mercedes_benz' 'opel' 'seat' 'citroen' 'honda' 'fiat'\n",
      " 'mini' 'smart' 'hyundai' 'sonstige_autos' 'alfa_romeo' 'subaru' 'volvo'\n",
      " 'mitsubishi' 'kia' 'suzuki' 'lancia' 'toyota' 'chevrolet' 'dacia'\n",
      " 'daihatsu' 'trabant' 'saab' 'chrysler' 'jaguar' 'daewoo' 'porsche'\n",
      " 'rover' 'land_rover' 'lada']\n",
      "Уникальные значения столбца Repaired\n",
      "[nan 'yes' 'no']\n",
      "Уникальные значения столбца DateCreated\n",
      "['2016-03-24 00:00:00' '2016-03-14 00:00:00' '2016-03-17 00:00:00'\n",
      " '2016-03-31 00:00:00' '2016-04-04 00:00:00' '2016-04-01 00:00:00'\n",
      " '2016-03-21 00:00:00' '2016-03-26 00:00:00' '2016-04-07 00:00:00'\n",
      " '2016-03-15 00:00:00' '2016-03-11 00:00:00' '2016-03-20 00:00:00'\n",
      " '2016-03-23 00:00:00' '2016-03-27 00:00:00' '2016-03-12 00:00:00'\n",
      " '2016-03-13 00:00:00' '2016-03-18 00:00:00' '2016-03-10 00:00:00'\n",
      " '2016-03-07 00:00:00' '2016-03-09 00:00:00' '2016-03-08 00:00:00'\n",
      " '2016-04-03 00:00:00' '2016-03-29 00:00:00' '2016-03-25 00:00:00'\n",
      " '2016-03-28 00:00:00' '2016-03-30 00:00:00' '2016-03-22 00:00:00'\n",
      " '2016-02-09 00:00:00' '2016-03-05 00:00:00' '2016-04-02 00:00:00'\n",
      " '2016-03-16 00:00:00' '2016-03-19 00:00:00' '2016-04-05 00:00:00'\n",
      " '2016-03-06 00:00:00' '2016-02-12 00:00:00' '2016-03-03 00:00:00'\n",
      " '2016-03-01 00:00:00' '2016-03-04 00:00:00' '2016-04-06 00:00:00'\n",
      " '2016-02-15 00:00:00' '2016-02-24 00:00:00' '2016-02-27 00:00:00'\n",
      " '2015-03-20 00:00:00' '2016-02-28 00:00:00' '2016-02-17 00:00:00'\n",
      " '2016-01-27 00:00:00' '2016-02-20 00:00:00' '2016-02-29 00:00:00'\n",
      " '2016-02-10 00:00:00' '2016-02-23 00:00:00' '2016-02-21 00:00:00'\n",
      " '2015-11-02 00:00:00' '2016-02-19 00:00:00' '2016-02-26 00:00:00'\n",
      " '2016-02-11 00:00:00' '2016-01-10 00:00:00' '2016-02-06 00:00:00'\n",
      " '2016-02-18 00:00:00' '2016-01-29 00:00:00' '2016-03-02 00:00:00'\n",
      " '2015-12-06 00:00:00' '2016-01-24 00:00:00' '2016-01-30 00:00:00'\n",
      " '2016-02-02 00:00:00' '2016-02-16 00:00:00' '2016-02-13 00:00:00'\n",
      " '2016-02-05 00:00:00' '2016-02-22 00:00:00' '2015-11-17 00:00:00'\n",
      " '2014-03-10 00:00:00' '2016-02-07 00:00:00' '2016-01-23 00:00:00'\n",
      " '2016-02-25 00:00:00' '2016-02-14 00:00:00' '2016-01-02 00:00:00'\n",
      " '2015-09-04 00:00:00' '2015-11-12 00:00:00' '2015-12-27 00:00:00'\n",
      " '2015-11-24 00:00:00' '2016-01-20 00:00:00' '2016-02-03 00:00:00'\n",
      " '2015-12-05 00:00:00' '2015-08-07 00:00:00' '2016-01-28 00:00:00'\n",
      " '2016-01-31 00:00:00' '2016-02-08 00:00:00' '2016-01-07 00:00:00'\n",
      " '2016-01-22 00:00:00' '2016-01-18 00:00:00' '2016-01-08 00:00:00'\n",
      " '2015-11-23 00:00:00' '2016-01-13 00:00:00' '2016-01-17 00:00:00'\n",
      " '2016-01-15 00:00:00' '2015-11-08 00:00:00' '2016-01-26 00:00:00'\n",
      " '2016-02-04 00:00:00' '2016-01-25 00:00:00' '2016-01-16 00:00:00'\n",
      " '2015-08-10 00:00:00' '2016-01-03 00:00:00' '2016-01-19 00:00:00'\n",
      " '2015-12-30 00:00:00' '2016-02-01 00:00:00' '2015-12-17 00:00:00'\n",
      " '2015-11-10 00:00:00' '2016-01-06 00:00:00' '2015-09-09 00:00:00'\n",
      " '2015-06-18 00:00:00']\n",
      "Уникальные значения столбца NumberOfPictures\n",
      "[0]\n",
      "Уникальные значения столбца PostalCode\n",
      "[70435 66954 90480 ... 38528 38325 31096]\n",
      "Уникальные значения столбца LastSeen\n",
      "['2016-04-07 03:16:57' '2016-04-07 01:46:50' '2016-04-05 12:47:46' ...\n",
      " '2016-03-19 20:44:43' '2016-03-29 10:17:23' '2016-03-21 10:42:49']\n"
     ]
    }
   ],
   "source": [
    "show_rows(autos_data)"
   ]
  },
  {
   "cell_type": "markdown",
   "metadata": {},
   "source": [
    "    В столбце RegistrationYear существуют некорректные значения года регистрации.\n",
    "    В столбце RegistrationMonth отсутсвует месяц регистрации.\n",
    "    В столбце Power присутвует некорректное значение мощности."
   ]
  },
  {
   "cell_type": "markdown",
   "metadata": {},
   "source": [
    "    К значимым признакам отнесем следующие столбцы:"
   ]
  },
  {
   "cell_type": "markdown",
   "metadata": {},
   "source": [
    "    1)VehicleType. Тип машины определяет ее функционал. Чем больше возможносей у машины, тем выше цена.\n",
    "    2)Gearbox. Наличие автоматической коробки передач повышает стоимость машины из-за сложности конструкции.\n",
    "    3)Power. Мощность в лоашдиных силах (далее л.с.) напрямую влияют на цену.\n",
    "    4)Kilometer. Имеет обратно пропорциональную зависиммость от цены. Чем больше километров проехала машина, тем меньше ее\n",
    "    надежность и соответсвенно цена.\n",
    "    5)FuelType. Тип топлива определяет конструкцию двигателя внутреннего сгорания.\n",
    "    6)Brand. Концерн/компания, которая создала автомобиль показывает качество и надежность автомобиля.\n",
    "    7)Repaired. Машины, которые побывали в дорожно-транспортных проишествиях означает, что машина подвергалась изменениям и ее надежность ниже.\n",
    "    8)RegistrationYear. Год регистрации определяет сколько уже лет машина на ходу. соответвенно, чем больше возраст, тем\n",
    "    меньше цена.\n",
    "    9)Model. В купе с типом машины и брендом може влиять на популярность у покупателей."
   ]
  },
  {
   "cell_type": "markdown",
   "metadata": {},
   "source": [
    "    Остальные столбцы для модели не требуются, так как не влияют на стоимость."
   ]
  },
  {
   "cell_type": "markdown",
   "metadata": {},
   "source": [
    "### Преобрадотка данных"
   ]
  },
  {
   "cell_type": "markdown",
   "metadata": {},
   "source": [
    "Сократим дата фрейм до нужных столбцов."
   ]
  },
  {
   "cell_type": "code",
   "execution_count": 7,
   "metadata": {},
   "outputs": [
    {
     "name": "stdout",
     "output_type": "stream",
     "text": [
      "<class 'pandas.core.frame.DataFrame'>\n",
      "RangeIndex: 354369 entries, 0 to 354368\n",
      "Data columns (total 10 columns):\n",
      " #   Column            Non-Null Count   Dtype \n",
      "---  ------            --------------   ----- \n",
      " 0   VehicleType       316879 non-null  object\n",
      " 1   Gearbox           334536 non-null  object\n",
      " 2   Power             354369 non-null  int64 \n",
      " 3   Kilometer         354369 non-null  int64 \n",
      " 4   FuelType          321474 non-null  object\n",
      " 5   Brand             354369 non-null  object\n",
      " 6   Repaired          283215 non-null  object\n",
      " 7   RegistrationYear  354369 non-null  int64 \n",
      " 8   Model             334664 non-null  object\n",
      " 9   Price             354369 non-null  int64 \n",
      "dtypes: int64(4), object(6)\n",
      "memory usage: 27.0+ MB\n"
     ]
    }
   ],
   "source": [
    "filtred_autos_data = autos_data[['VehicleType', \n",
    "                         'Gearbox', \n",
    "                         'Power',\n",
    "                         'Kilometer',\n",
    "                         'FuelType',\n",
    "                         'Brand',\n",
    "                         'Repaired',\n",
    "                         'RegistrationYear',\n",
    "                         'Model',\n",
    "                         'Price']]\n",
    "filtred_autos_data.info()"
   ]
  },
  {
   "cell_type": "markdown",
   "metadata": {},
   "source": [
    "    Столбцы, требующие обработки:\n",
    "        \n",
    "        1)VehicleType. Восстановим пропущенные значения по популярному типу из столбца Brand.\n",
    "        2)Gearbox. Для всех NaN установим значение 'manual'.\n",
    "        3)Power. Скоректируем на основе реальных значений в машинах. Иметь 1 л.с. или 15000 л.с. для машины на данный момент\n",
    "        нереально.\n",
    "        4)FuelType. Восстановим пропущенные значения по популярному типу из столбца Brand.\n",
    "        5)Repaired. Для всех NaN установим значение 'yes'.\n",
    "        6)RegistrationYear. Скоректируем на основе реальных значений в машинах.\n",
    "        7)Model. Для всех NaN установим значение 'unknown'."
   ]
  },
  {
   "cell_type": "markdown",
   "metadata": {},
   "source": [
    "    Проверим наполнение целевого признака Price."
   ]
  },
  {
   "cell_type": "code",
   "execution_count": 8,
   "metadata": {},
   "outputs": [
    {
     "data": {
      "text/plain": [
       "Price\n",
       "0        10772\n",
       "500       5670\n",
       "1500      5394\n",
       "1000      4649\n",
       "1200      4594\n",
       "         ...  \n",
       "1368         1\n",
       "233          1\n",
       "11080        1\n",
       "16340        1\n",
       "10985        1\n",
       "Name: count, Length: 3731, dtype: int64"
      ]
     },
     "execution_count": 8,
     "metadata": {},
     "output_type": "execute_result"
    }
   ],
   "source": [
    "filtred_autos_data['Price'].value_counts()"
   ]
  },
  {
   "cell_type": "markdown",
   "metadata": {},
   "source": [
    "    Видно, что существует 10772 записи без цены. Удалим их и проверим распределение цены на гистограмме."
   ]
  },
  {
   "cell_type": "code",
   "execution_count": 9,
   "metadata": {},
   "outputs": [
    {
     "data": {
      "text/plain": [
       "count    343597.000000\n",
       "mean       4555.121974\n",
       "std        4515.058553\n",
       "min           1.000000\n",
       "25%        1200.000000\n",
       "50%        2890.000000\n",
       "75%        6500.000000\n",
       "max       20000.000000\n",
       "Name: Price, dtype: float64"
      ]
     },
     "execution_count": 9,
     "metadata": {},
     "output_type": "execute_result"
    },
    {
     "data": {
      "image/png": "[encoded data removed]",
      "text/plain": [
       "<Figure size 1200x900 with 1 Axes>"
      ]
     },
     "metadata": {},
     "output_type": "display_data"
    }
   ],
   "source": [
    "filtred_autos_data = filtred_autos_data.query('Price > 0')\n",
    "filtred_autos_data['Price'].hist(bins=100, figsize=(12,9))\n",
    "filtred_autos_data['Price'].describe()"
   ]
  },
  {
   "cell_type": "markdown",
   "metadata": {},
   "source": [
    "    Выделим квантили 5% и 80%"
   ]
  },
  {
   "cell_type": "code",
   "execution_count": 10,
   "metadata": {},
   "outputs": [
    {
     "data": {
      "text/plain": [
       "0.05     350.0\n",
       "0.80    7800.0\n",
       "Name: Price, dtype: float64"
      ]
     },
     "execution_count": 10,
     "metadata": {},
     "output_type": "execute_result"
    }
   ],
   "source": [
    "filtred_autos_data['Price'].quantile([.05, 0.8])"
   ]
  },
  {
   "cell_type": "markdown",
   "metadata": {},
   "source": [
    "    Стоимость 350 евро примерно равно 28000 рублей. Это минимальная цена для продажи поддержанного авто. Выбор 80% квантиль обоснован большими выбросами после 7500 евро."
   ]
  },
  {
   "cell_type": "code",
   "execution_count": 11,
   "metadata": {},
   "outputs": [
    {
     "name": "stdout",
     "output_type": "stream",
     "text": [
      "<class 'pandas.core.frame.DataFrame'>\n",
      "Index: 343597 entries, 0 to 354368\n",
      "Data columns (total 10 columns):\n",
      " #   Column            Non-Null Count   Dtype \n",
      "---  ------            --------------   ----- \n",
      " 0   VehicleType       309847 non-null  object\n",
      " 1   Gearbox           326242 non-null  object\n",
      " 2   Power             343597 non-null  int64 \n",
      " 3   Kilometer         343597 non-null  int64 \n",
      " 4   FuelType          314138 non-null  object\n",
      " 5   Brand             343597 non-null  object\n",
      " 6   Repaired          277731 non-null  object\n",
      " 7   RegistrationYear  343597 non-null  int64 \n",
      " 8   Model             326076 non-null  object\n",
      " 9   Price             343597 non-null  int64 \n",
      "dtypes: int64(4), object(6)\n",
      "memory usage: 28.8+ MB\n"
     ]
    }
   ],
   "source": [
    "filtred_autos_data = filtred_autos_data\n",
    "filtred_autos_data.info()"
   ]
  },
  {
   "cell_type": "markdown",
   "metadata": {},
   "source": [
    "    Проверим значения столбца RegistrationYear на гистограмме."
   ]
  },
  {
   "cell_type": "code",
   "execution_count": 12,
   "metadata": {},
   "outputs": [
    {
     "data": {
      "text/plain": [
       "count    343597.000000\n",
       "mean       2004.089797\n",
       "std          78.413225\n",
       "min        1000.000000\n",
       "25%        1999.000000\n",
       "50%        2003.000000\n",
       "75%        2008.000000\n",
       "max        9999.000000\n",
       "Name: RegistrationYear, dtype: float64"
      ]
     },
     "execution_count": 12,
     "metadata": {},
     "output_type": "execute_result"
    },
    {
     "data": {
      "image/png": "[encoded data removed]",
      "text/plain": [
       "<Figure size 1200x900 with 1 Axes>"
      ]
     },
     "metadata": {},
     "output_type": "display_data"
    }
   ],
   "source": [
    "filtred_autos_data['RegistrationYear'].hist(bins=100, figsize=(12,9))\n",
    "filtred_autos_data['RegistrationYear'].describe()"
   ]
  },
  {
   "cell_type": "markdown",
   "metadata": {},
   "source": [
    "    В годе регистрации наблюдаются выбросы. Отсечем правые выбросы, узнав максимальную дату скачивания анкеты автомобиля."
   ]
  },
  {
   "cell_type": "code",
   "execution_count": 13,
   "metadata": {},
   "outputs": [
    {
     "data": {
      "text/plain": [
       "Timestamp('2016-04-07 14:36:58')"
      ]
     },
     "execution_count": 13,
     "metadata": {},
     "output_type": "execute_result"
    }
   ],
   "source": [
    "date = pd.to_datetime(autos_data['DateCrawled'])\n",
    "date.max()"
   ]
  },
  {
   "cell_type": "markdown",
   "metadata": {},
   "source": [
    "    Даты регистрации после 2016 года некорректны и машины появились не раньше 1900 года. Отсечем ненужные года и промотрим\n",
    "    левые выбросы."
   ]
  },
  {
   "cell_type": "code",
   "execution_count": 14,
   "metadata": {},
   "outputs": [
    {
     "data": {
      "text/plain": [
       "count    329765.000000\n",
       "mean       2002.593583\n",
       "std           6.927865\n",
       "min        1910.000000\n",
       "25%        1999.000000\n",
       "50%        2003.000000\n",
       "75%        2007.000000\n",
       "max        2016.000000\n",
       "Name: RegistrationYear, dtype: float64"
      ]
     },
     "execution_count": 14,
     "metadata": {},
     "output_type": "execute_result"
    },
    {
     "data": {
      "image/png": "[encoded data removed]",
      "text/plain": [
       "<Figure size 1200x900 with 1 Axes>"
      ]
     },
     "metadata": {},
     "output_type": "display_data"
    }
   ],
   "source": [
    "filtred_autos_data = filtred_autos_data.query('1899 < RegistrationYear < 2017')\n",
    "filtred_autos_data['RegistrationYear'].hist(bins=100, figsize=(12,9))\n",
    "filtred_autos_data['RegistrationYear'].describe()"
   ]
  },
  {
   "cell_type": "markdown",
   "metadata": {},
   "source": [
    "    По левой части гистограммы видно, что адекватно использовать левую границу в 1960 год, так как это старые, но возможно\n",
    "    еще работающие машины."
   ]
  },
  {
   "cell_type": "code",
   "execution_count": 15,
   "metadata": {},
   "outputs": [
    {
     "data": {
      "text/plain": [
       "count    329478.000000\n",
       "mean       2002.646426\n",
       "std           6.674531\n",
       "min        1960.000000\n",
       "25%        1999.000000\n",
       "50%        2003.000000\n",
       "75%        2007.000000\n",
       "max        2016.000000\n",
       "Name: RegistrationYear, dtype: float64"
      ]
     },
     "execution_count": 15,
     "metadata": {},
     "output_type": "execute_result"
    },
    {
     "data": {
      "image/png": "[encoded data removed]",
      "text/plain": [
       "<Figure size 1200x900 with 1 Axes>"
      ]
     },
     "metadata": {},
     "output_type": "display_data"
    }
   ],
   "source": [
    "filtred_autos_data = filtred_autos_data.query('1959 < RegistrationYear < 2017')\n",
    "filtred_autos_data['RegistrationYear'].hist(bins=50, figsize=(12,9))\n",
    "filtred_autos_data['RegistrationYear'].describe()"
   ]
  },
  {
   "cell_type": "markdown",
   "metadata": {},
   "source": [
    "    Проведем замену NaN в Gearbox, Repaired, Model."
   ]
  },
  {
   "cell_type": "code",
   "execution_count": 16,
   "metadata": {},
   "outputs": [
    {
     "data": {
      "text/plain": [
       "VehicleType         0.060389\n",
       "Gearbox             0.000000\n",
       "Power               0.000000\n",
       "Kilometer           0.000000\n",
       "FuelType            0.073161\n",
       "Brand               0.000000\n",
       "Repaired            0.000000\n",
       "RegistrationYear    0.000000\n",
       "Model               0.000000\n",
       "Price               0.000000\n",
       "dtype: float64"
      ]
     },
     "execution_count": 16,
     "metadata": {},
     "output_type": "execute_result"
    }
   ],
   "source": [
    "filtred_autos_data.fillna({'Gearbox':'manual', \n",
    "                           'Repaired':'yes',\n",
    "                           'Model':'unknown'},\n",
    "                          inplace=True)\n",
    "filtred_autos_data.isna().mean()"
   ]
  },
  {
   "cell_type": "markdown",
   "metadata": {},
   "source": [
    "    Оценим количество пропущенных значений относительно всех значений в столбце VehicleType"
   ]
  },
  {
   "cell_type": "code",
   "execution_count": 17,
   "metadata": {},
   "outputs": [
    {
     "data": {
      "text/plain": [
       "VehicleType\n",
       "sedan          89298\n",
       "small          77986\n",
       "wagon          63692\n",
       "bus            28337\n",
       "convertible    19844\n",
       "coupe          15613\n",
       "suv            11760\n",
       "other           3051\n",
       "Name: count, dtype: int64"
      ]
     },
     "metadata": {},
     "output_type": "display_data"
    },
    {
     "data": {
      "text/plain": [
       "19897"
      ]
     },
     "execution_count": 17,
     "metadata": {},
     "output_type": "execute_result"
    }
   ],
   "source": [
    "display(filtred_autos_data['VehicleType'].value_counts())\n",
    "filtred_autos_data['VehicleType'].isna().sum()"
   ]
  },
  {
   "cell_type": "markdown",
   "metadata": {},
   "source": [
    "    Выполним замену NaN в соотвествии с популярным типом кузова для каждого бренда."
   ]
  },
  {
   "cell_type": "code",
   "execution_count": 18,
   "metadata": {},
   "outputs": [
    {
     "data": {
      "text/html": [
       "<div>\n",
       "<style scoped>\n",
       "    .dataframe tbody tr th:only-of-type {\n",
       "        vertical-align: middle;\n",
       "    }\n",
       "\n",
       "    .dataframe tbody tr th {\n",
       "        vertical-align: top;\n",
       "    }\n",
       "\n",
       "    .dataframe thead tr th {\n",
       "        text-align: left;\n",
       "    }\n",
       "\n",
       "    .dataframe thead tr:last-of-type th {\n",
       "        text-align: right;\n",
       "    }\n",
       "</style>\n",
       "<table border=\"1\" class=\"dataframe\">\n",
       "  <thead>\n",
       "    <tr>\n",
       "      <th></th>\n",
       "      <th colspan=\"21\" halign=\"left\">count</th>\n",
       "    </tr>\n",
       "    <tr>\n",
       "      <th></th>\n",
       "      <th colspan=\"21\" halign=\"left\">Price</th>\n",
       "    </tr>\n",
       "    <tr>\n",
       "      <th>Brand</th>\n",
       "      <th>alfa_romeo</th>\n",
       "      <th>audi</th>\n",
       "      <th>bmw</th>\n",
       "      <th>chevrolet</th>\n",
       "      <th>chrysler</th>\n",
       "      <th>citroen</th>\n",
       "      <th>dacia</th>\n",
       "      <th>daewoo</th>\n",
       "      <th>daihatsu</th>\n",
       "      <th>fiat</th>\n",
       "      <th>...</th>\n",
       "      <th>seat</th>\n",
       "      <th>skoda</th>\n",
       "      <th>smart</th>\n",
       "      <th>sonstige_autos</th>\n",
       "      <th>subaru</th>\n",
       "      <th>suzuki</th>\n",
       "      <th>toyota</th>\n",
       "      <th>trabant</th>\n",
       "      <th>volkswagen</th>\n",
       "      <th>volvo</th>\n",
       "    </tr>\n",
       "    <tr>\n",
       "      <th>VehicleType</th>\n",
       "      <th></th>\n",
       "      <th></th>\n",
       "      <th></th>\n",
       "      <th></th>\n",
       "      <th></th>\n",
       "      <th></th>\n",
       "      <th></th>\n",
       "      <th></th>\n",
       "      <th></th>\n",
       "      <th></th>\n",
       "      <th></th>\n",
       "      <th></th>\n",
       "      <th></th>\n",
       "      <th></th>\n",
       "      <th></th>\n",
       "      <th></th>\n",
       "      <th></th>\n",
       "      <th></th>\n",
       "      <th></th>\n",
       "      <th></th>\n",
       "      <th></th>\n",
       "    </tr>\n",
       "  </thead>\n",
       "  <tbody>\n",
       "    <tr>\n",
       "      <th>bus</th>\n",
       "      <td>NaN</td>\n",
       "      <td>10.0</td>\n",
       "      <td>6.0</td>\n",
       "      <td>156.0</td>\n",
       "      <td>415.0</td>\n",
       "      <td>1251.0</td>\n",
       "      <td>50.0</td>\n",
       "      <td>27.0</td>\n",
       "      <td>34.0</td>\n",
       "      <td>818.0</td>\n",
       "      <td>...</td>\n",
       "      <td>610.0</td>\n",
       "      <td>231.0</td>\n",
       "      <td>1.0</td>\n",
       "      <td>183.0</td>\n",
       "      <td>17.0</td>\n",
       "      <td>27.0</td>\n",
       "      <td>446.0</td>\n",
       "      <td>NaN</td>\n",
       "      <td>9387.0</td>\n",
       "      <td>NaN</td>\n",
       "    </tr>\n",
       "    <tr>\n",
       "      <th>convertible</th>\n",
       "      <td>177.0</td>\n",
       "      <td>1612.0</td>\n",
       "      <td>3195.0</td>\n",
       "      <td>17.0</td>\n",
       "      <td>228.0</td>\n",
       "      <td>110.0</td>\n",
       "      <td>NaN</td>\n",
       "      <td>1.0</td>\n",
       "      <td>17.0</td>\n",
       "      <td>505.0</td>\n",
       "      <td>...</td>\n",
       "      <td>NaN</td>\n",
       "      <td>4.0</td>\n",
       "      <td>1126.0</td>\n",
       "      <td>315.0</td>\n",
       "      <td>1.0</td>\n",
       "      <td>35.0</td>\n",
       "      <td>63.0</td>\n",
       "      <td>36.0</td>\n",
       "      <td>2886.0</td>\n",
       "      <td>75.0</td>\n",
       "    </tr>\n",
       "    <tr>\n",
       "      <th>coupe</th>\n",
       "      <td>225.0</td>\n",
       "      <td>1464.0</td>\n",
       "      <td>3679.0</td>\n",
       "      <td>88.0</td>\n",
       "      <td>47.0</td>\n",
       "      <td>148.0</td>\n",
       "      <td>NaN</td>\n",
       "      <td>8.0</td>\n",
       "      <td>NaN</td>\n",
       "      <td>168.0</td>\n",
       "      <td>...</td>\n",
       "      <td>84.0</td>\n",
       "      <td>8.0</td>\n",
       "      <td>338.0</td>\n",
       "      <td>217.0</td>\n",
       "      <td>8.0</td>\n",
       "      <td>7.0</td>\n",
       "      <td>222.0</td>\n",
       "      <td>2.0</td>\n",
       "      <td>1725.0</td>\n",
       "      <td>67.0</td>\n",
       "    </tr>\n",
       "    <tr>\n",
       "      <th>other</th>\n",
       "      <td>12.0</td>\n",
       "      <td>106.0</td>\n",
       "      <td>222.0</td>\n",
       "      <td>41.0</td>\n",
       "      <td>9.0</td>\n",
       "      <td>112.0</td>\n",
       "      <td>6.0</td>\n",
       "      <td>5.0</td>\n",
       "      <td>10.0</td>\n",
       "      <td>177.0</td>\n",
       "      <td>...</td>\n",
       "      <td>62.0</td>\n",
       "      <td>26.0</td>\n",
       "      <td>9.0</td>\n",
       "      <td>207.0</td>\n",
       "      <td>6.0</td>\n",
       "      <td>14.0</td>\n",
       "      <td>19.0</td>\n",
       "      <td>5.0</td>\n",
       "      <td>720.0</td>\n",
       "      <td>5.0</td>\n",
       "    </tr>\n",
       "    <tr>\n",
       "      <th>sedan</th>\n",
       "      <td>912.0</td>\n",
       "      <td>10676.0</td>\n",
       "      <td>17219.0</td>\n",
       "      <td>222.0</td>\n",
       "      <td>276.0</td>\n",
       "      <td>688.0</td>\n",
       "      <td>100.0</td>\n",
       "      <td>105.0</td>\n",
       "      <td>47.0</td>\n",
       "      <td>875.0</td>\n",
       "      <td>...</td>\n",
       "      <td>1737.0</td>\n",
       "      <td>904.0</td>\n",
       "      <td>28.0</td>\n",
       "      <td>430.0</td>\n",
       "      <td>164.0</td>\n",
       "      <td>178.0</td>\n",
       "      <td>887.0</td>\n",
       "      <td>198.0</td>\n",
       "      <td>19294.0</td>\n",
       "      <td>633.0</td>\n",
       "    </tr>\n",
       "    <tr>\n",
       "      <th>small</th>\n",
       "      <td>235.0</td>\n",
       "      <td>1536.0</td>\n",
       "      <td>437.0</td>\n",
       "      <td>580.0</td>\n",
       "      <td>12.0</td>\n",
       "      <td>1569.0</td>\n",
       "      <td>221.0</td>\n",
       "      <td>265.0</td>\n",
       "      <td>512.0</td>\n",
       "      <td>5186.0</td>\n",
       "      <td>...</td>\n",
       "      <td>3060.0</td>\n",
       "      <td>1115.0</td>\n",
       "      <td>3232.0</td>\n",
       "      <td>234.0</td>\n",
       "      <td>117.0</td>\n",
       "      <td>967.0</td>\n",
       "      <td>1580.0</td>\n",
       "      <td>54.0</td>\n",
       "      <td>17973.0</td>\n",
       "      <td>7.0</td>\n",
       "    </tr>\n",
       "    <tr>\n",
       "      <th>suv</th>\n",
       "      <td>NaN</td>\n",
       "      <td>177.0</td>\n",
       "      <td>805.0</td>\n",
       "      <td>373.0</td>\n",
       "      <td>23.0</td>\n",
       "      <td>36.0</td>\n",
       "      <td>214.0</td>\n",
       "      <td>1.0</td>\n",
       "      <td>46.0</td>\n",
       "      <td>24.0</td>\n",
       "      <td>...</td>\n",
       "      <td>4.0</td>\n",
       "      <td>173.0</td>\n",
       "      <td>NaN</td>\n",
       "      <td>412.0</td>\n",
       "      <td>59.0</td>\n",
       "      <td>743.0</td>\n",
       "      <td>438.0</td>\n",
       "      <td>1.0</td>\n",
       "      <td>1304.0</td>\n",
       "      <td>218.0</td>\n",
       "    </tr>\n",
       "    <tr>\n",
       "      <th>wagon</th>\n",
       "      <td>451.0</td>\n",
       "      <td>10825.0</td>\n",
       "      <td>7763.0</td>\n",
       "      <td>105.0</td>\n",
       "      <td>241.0</td>\n",
       "      <td>617.0</td>\n",
       "      <td>251.0</td>\n",
       "      <td>46.0</td>\n",
       "      <td>16.0</td>\n",
       "      <td>443.0</td>\n",
       "      <td>...</td>\n",
       "      <td>387.0</td>\n",
       "      <td>2684.0</td>\n",
       "      <td>9.0</td>\n",
       "      <td>122.0</td>\n",
       "      <td>292.0</td>\n",
       "      <td>87.0</td>\n",
       "      <td>568.0</td>\n",
       "      <td>70.0</td>\n",
       "      <td>12372.0</td>\n",
       "      <td>1934.0</td>\n",
       "    </tr>\n",
       "  </tbody>\n",
       "</table>\n",
       "<p>8 rows × 40 columns</p>\n",
       "</div>"
      ],
      "text/plain": [
       "                 count                                                       \n",
       "                 Price                                                       \n",
       "Brand       alfa_romeo     audi      bmw chevrolet chrysler citroen  dacia   \n",
       "VehicleType                                                                  \n",
       "bus                NaN     10.0      6.0     156.0    415.0  1251.0   50.0  \\\n",
       "convertible      177.0   1612.0   3195.0      17.0    228.0   110.0    NaN   \n",
       "coupe            225.0   1464.0   3679.0      88.0     47.0   148.0    NaN   \n",
       "other             12.0    106.0    222.0      41.0      9.0   112.0    6.0   \n",
       "sedan            912.0  10676.0  17219.0     222.0    276.0   688.0  100.0   \n",
       "small            235.0   1536.0    437.0     580.0     12.0  1569.0  221.0   \n",
       "suv                NaN    177.0    805.0     373.0     23.0    36.0  214.0   \n",
       "wagon            451.0  10825.0   7763.0     105.0    241.0   617.0  251.0   \n",
       "\n",
       "                                     ...                           \n",
       "                                     ...                           \n",
       "Brand       daewoo daihatsu    fiat  ...    seat   skoda   smart   \n",
       "VehicleType                          ...                           \n",
       "bus           27.0     34.0   818.0  ...   610.0   231.0     1.0  \\\n",
       "convertible    1.0     17.0   505.0  ...     NaN     4.0  1126.0   \n",
       "coupe          8.0      NaN   168.0  ...    84.0     8.0   338.0   \n",
       "other          5.0     10.0   177.0  ...    62.0    26.0     9.0   \n",
       "sedan        105.0     47.0   875.0  ...  1737.0   904.0    28.0   \n",
       "small        265.0    512.0  5186.0  ...  3060.0  1115.0  3232.0   \n",
       "suv            1.0     46.0    24.0  ...     4.0   173.0     NaN   \n",
       "wagon         46.0     16.0   443.0  ...   387.0  2684.0     9.0   \n",
       "\n",
       "                                                                             \n",
       "                                                                             \n",
       "Brand       sonstige_autos subaru suzuki  toyota trabant volkswagen   volvo  \n",
       "VehicleType                                                                  \n",
       "bus                  183.0   17.0   27.0   446.0     NaN     9387.0     NaN  \n",
       "convertible          315.0    1.0   35.0    63.0    36.0     2886.0    75.0  \n",
       "coupe                217.0    8.0    7.0   222.0     2.0     1725.0    67.0  \n",
       "other                207.0    6.0   14.0    19.0     5.0      720.0     5.0  \n",
       "sedan                430.0  164.0  178.0   887.0   198.0    19294.0   633.0  \n",
       "small                234.0  117.0  967.0  1580.0    54.0    17973.0     7.0  \n",
       "suv                  412.0   59.0  743.0   438.0     1.0     1304.0   218.0  \n",
       "wagon                122.0  292.0   87.0   568.0    70.0    12372.0  1934.0  \n",
       "\n",
       "[8 rows x 40 columns]"
      ]
     },
     "metadata": {},
     "output_type": "display_data"
    },
    {
     "data": {
      "text/plain": [
       "VehicleType\n",
       "sedan          912\n",
       "wagon          451\n",
       "small          235\n",
       "coupe          225\n",
       "convertible    177\n",
       "other           12\n",
       "Name: count, dtype: int64"
      ]
     },
     "execution_count": 18,
     "metadata": {},
     "output_type": "execute_result"
    }
   ],
   "source": [
    "vehicle_type_pivot_table = filtred_autos_data.pivot_table(index=['VehicleType'], \n",
    "                                                          columns=['Brand'],\n",
    "                                                          values=['Price'],\n",
    "                                                          aggfunc=['count'])\n",
    "display(vehicle_type_pivot_table)\n",
    "filtred_autos_data[filtred_autos_data['Brand'] == 'alfa_romeo']['VehicleType'].value_counts()"
   ]
  },
  {
   "cell_type": "code",
   "execution_count": 19,
   "metadata": {},
   "outputs": [
    {
     "data": {
      "text/html": [
       "<div>\n",
       "<style scoped>\n",
       "    .dataframe tbody tr th:only-of-type {\n",
       "        vertical-align: middle;\n",
       "    }\n",
       "\n",
       "    .dataframe tbody tr th {\n",
       "        vertical-align: top;\n",
       "    }\n",
       "\n",
       "    .dataframe thead th {\n",
       "        text-align: right;\n",
       "    }\n",
       "</style>\n",
       "<table border=\"1\" class=\"dataframe\">\n",
       "  <thead>\n",
       "    <tr style=\"text-align: right;\">\n",
       "      <th>Brand</th>\n",
       "      <th>alfa_romeo</th>\n",
       "      <th>audi</th>\n",
       "      <th>bmw</th>\n",
       "      <th>chevrolet</th>\n",
       "      <th>chrysler</th>\n",
       "      <th>citroen</th>\n",
       "      <th>dacia</th>\n",
       "      <th>daewoo</th>\n",
       "      <th>daihatsu</th>\n",
       "      <th>fiat</th>\n",
       "      <th>...</th>\n",
       "      <th>seat</th>\n",
       "      <th>skoda</th>\n",
       "      <th>smart</th>\n",
       "      <th>sonstige_autos</th>\n",
       "      <th>subaru</th>\n",
       "      <th>suzuki</th>\n",
       "      <th>toyota</th>\n",
       "      <th>trabant</th>\n",
       "      <th>volkswagen</th>\n",
       "      <th>volvo</th>\n",
       "    </tr>\n",
       "    <tr>\n",
       "      <th>VehicleType</th>\n",
       "      <th></th>\n",
       "      <th></th>\n",
       "      <th></th>\n",
       "      <th></th>\n",
       "      <th></th>\n",
       "      <th></th>\n",
       "      <th></th>\n",
       "      <th></th>\n",
       "      <th></th>\n",
       "      <th></th>\n",
       "      <th></th>\n",
       "      <th></th>\n",
       "      <th></th>\n",
       "      <th></th>\n",
       "      <th></th>\n",
       "      <th></th>\n",
       "      <th></th>\n",
       "      <th></th>\n",
       "      <th></th>\n",
       "      <th></th>\n",
       "      <th></th>\n",
       "    </tr>\n",
       "  </thead>\n",
       "  <tbody>\n",
       "    <tr>\n",
       "      <th>bus</th>\n",
       "      <td>NaN</td>\n",
       "      <td>10.0</td>\n",
       "      <td>6.0</td>\n",
       "      <td>156.0</td>\n",
       "      <td>415.0</td>\n",
       "      <td>1251.0</td>\n",
       "      <td>50.0</td>\n",
       "      <td>27.0</td>\n",
       "      <td>34.0</td>\n",
       "      <td>818.0</td>\n",
       "      <td>...</td>\n",
       "      <td>610.0</td>\n",
       "      <td>231.0</td>\n",
       "      <td>1.0</td>\n",
       "      <td>183.0</td>\n",
       "      <td>17.0</td>\n",
       "      <td>27.0</td>\n",
       "      <td>446.0</td>\n",
       "      <td>NaN</td>\n",
       "      <td>9387.0</td>\n",
       "      <td>NaN</td>\n",
       "    </tr>\n",
       "    <tr>\n",
       "      <th>convertible</th>\n",
       "      <td>177.0</td>\n",
       "      <td>1612.0</td>\n",
       "      <td>3195.0</td>\n",
       "      <td>17.0</td>\n",
       "      <td>228.0</td>\n",
       "      <td>110.0</td>\n",
       "      <td>NaN</td>\n",
       "      <td>1.0</td>\n",
       "      <td>17.0</td>\n",
       "      <td>505.0</td>\n",
       "      <td>...</td>\n",
       "      <td>NaN</td>\n",
       "      <td>4.0</td>\n",
       "      <td>1126.0</td>\n",
       "      <td>315.0</td>\n",
       "      <td>1.0</td>\n",
       "      <td>35.0</td>\n",
       "      <td>63.0</td>\n",
       "      <td>36.0</td>\n",
       "      <td>2886.0</td>\n",
       "      <td>75.0</td>\n",
       "    </tr>\n",
       "    <tr>\n",
       "      <th>coupe</th>\n",
       "      <td>225.0</td>\n",
       "      <td>1464.0</td>\n",
       "      <td>3679.0</td>\n",
       "      <td>88.0</td>\n",
       "      <td>47.0</td>\n",
       "      <td>148.0</td>\n",
       "      <td>NaN</td>\n",
       "      <td>8.0</td>\n",
       "      <td>NaN</td>\n",
       "      <td>168.0</td>\n",
       "      <td>...</td>\n",
       "      <td>84.0</td>\n",
       "      <td>8.0</td>\n",
       "      <td>338.0</td>\n",
       "      <td>217.0</td>\n",
       "      <td>8.0</td>\n",
       "      <td>7.0</td>\n",
       "      <td>222.0</td>\n",
       "      <td>2.0</td>\n",
       "      <td>1725.0</td>\n",
       "      <td>67.0</td>\n",
       "    </tr>\n",
       "    <tr>\n",
       "      <th>other</th>\n",
       "      <td>12.0</td>\n",
       "      <td>106.0</td>\n",
       "      <td>222.0</td>\n",
       "      <td>41.0</td>\n",
       "      <td>9.0</td>\n",
       "      <td>112.0</td>\n",
       "      <td>6.0</td>\n",
       "      <td>5.0</td>\n",
       "      <td>10.0</td>\n",
       "      <td>177.0</td>\n",
       "      <td>...</td>\n",
       "      <td>62.0</td>\n",
       "      <td>26.0</td>\n",
       "      <td>9.0</td>\n",
       "      <td>207.0</td>\n",
       "      <td>6.0</td>\n",
       "      <td>14.0</td>\n",
       "      <td>19.0</td>\n",
       "      <td>5.0</td>\n",
       "      <td>720.0</td>\n",
       "      <td>5.0</td>\n",
       "    </tr>\n",
       "    <tr>\n",
       "      <th>sedan</th>\n",
       "      <td>912.0</td>\n",
       "      <td>10676.0</td>\n",
       "      <td>17219.0</td>\n",
       "      <td>222.0</td>\n",
       "      <td>276.0</td>\n",
       "      <td>688.0</td>\n",
       "      <td>100.0</td>\n",
       "      <td>105.0</td>\n",
       "      <td>47.0</td>\n",
       "      <td>875.0</td>\n",
       "      <td>...</td>\n",
       "      <td>1737.0</td>\n",
       "      <td>904.0</td>\n",
       "      <td>28.0</td>\n",
       "      <td>430.0</td>\n",
       "      <td>164.0</td>\n",
       "      <td>178.0</td>\n",
       "      <td>887.0</td>\n",
       "      <td>198.0</td>\n",
       "      <td>19294.0</td>\n",
       "      <td>633.0</td>\n",
       "    </tr>\n",
       "    <tr>\n",
       "      <th>small</th>\n",
       "      <td>235.0</td>\n",
       "      <td>1536.0</td>\n",
       "      <td>437.0</td>\n",
       "      <td>580.0</td>\n",
       "      <td>12.0</td>\n",
       "      <td>1569.0</td>\n",
       "      <td>221.0</td>\n",
       "      <td>265.0</td>\n",
       "      <td>512.0</td>\n",
       "      <td>5186.0</td>\n",
       "      <td>...</td>\n",
       "      <td>3060.0</td>\n",
       "      <td>1115.0</td>\n",
       "      <td>3232.0</td>\n",
       "      <td>234.0</td>\n",
       "      <td>117.0</td>\n",
       "      <td>967.0</td>\n",
       "      <td>1580.0</td>\n",
       "      <td>54.0</td>\n",
       "      <td>17973.0</td>\n",
       "      <td>7.0</td>\n",
       "    </tr>\n",
       "    <tr>\n",
       "      <th>suv</th>\n",
       "      <td>NaN</td>\n",
       "      <td>177.0</td>\n",
       "      <td>805.0</td>\n",
       "      <td>373.0</td>\n",
       "      <td>23.0</td>\n",
       "      <td>36.0</td>\n",
       "      <td>214.0</td>\n",
       "      <td>1.0</td>\n",
       "      <td>46.0</td>\n",
       "      <td>24.0</td>\n",
       "      <td>...</td>\n",
       "      <td>4.0</td>\n",
       "      <td>173.0</td>\n",
       "      <td>NaN</td>\n",
       "      <td>412.0</td>\n",
       "      <td>59.0</td>\n",
       "      <td>743.0</td>\n",
       "      <td>438.0</td>\n",
       "      <td>1.0</td>\n",
       "      <td>1304.0</td>\n",
       "      <td>218.0</td>\n",
       "    </tr>\n",
       "    <tr>\n",
       "      <th>wagon</th>\n",
       "      <td>451.0</td>\n",
       "      <td>10825.0</td>\n",
       "      <td>7763.0</td>\n",
       "      <td>105.0</td>\n",
       "      <td>241.0</td>\n",
       "      <td>617.0</td>\n",
       "      <td>251.0</td>\n",
       "      <td>46.0</td>\n",
       "      <td>16.0</td>\n",
       "      <td>443.0</td>\n",
       "      <td>...</td>\n",
       "      <td>387.0</td>\n",
       "      <td>2684.0</td>\n",
       "      <td>9.0</td>\n",
       "      <td>122.0</td>\n",
       "      <td>292.0</td>\n",
       "      <td>87.0</td>\n",
       "      <td>568.0</td>\n",
       "      <td>70.0</td>\n",
       "      <td>12372.0</td>\n",
       "      <td>1934.0</td>\n",
       "    </tr>\n",
       "  </tbody>\n",
       "</table>\n",
       "<p>8 rows × 40 columns</p>\n",
       "</div>"
      ],
      "text/plain": [
       "Brand        alfa_romeo     audi      bmw  chevrolet  chrysler  citroen   \n",
       "VehicleType                                                               \n",
       "bus                 NaN     10.0      6.0      156.0     415.0   1251.0  \\\n",
       "convertible       177.0   1612.0   3195.0       17.0     228.0    110.0   \n",
       "coupe             225.0   1464.0   3679.0       88.0      47.0    148.0   \n",
       "other              12.0    106.0    222.0       41.0       9.0    112.0   \n",
       "sedan             912.0  10676.0  17219.0      222.0     276.0    688.0   \n",
       "small             235.0   1536.0    437.0      580.0      12.0   1569.0   \n",
       "suv                 NaN    177.0    805.0      373.0      23.0     36.0   \n",
       "wagon             451.0  10825.0   7763.0      105.0     241.0    617.0   \n",
       "\n",
       "Brand        dacia  daewoo  daihatsu    fiat  ...    seat   skoda   smart   \n",
       "VehicleType                                   ...                           \n",
       "bus           50.0    27.0      34.0   818.0  ...   610.0   231.0     1.0  \\\n",
       "convertible    NaN     1.0      17.0   505.0  ...     NaN     4.0  1126.0   \n",
       "coupe          NaN     8.0       NaN   168.0  ...    84.0     8.0   338.0   \n",
       "other          6.0     5.0      10.0   177.0  ...    62.0    26.0     9.0   \n",
       "sedan        100.0   105.0      47.0   875.0  ...  1737.0   904.0    28.0   \n",
       "small        221.0   265.0     512.0  5186.0  ...  3060.0  1115.0  3232.0   \n",
       "suv          214.0     1.0      46.0    24.0  ...     4.0   173.0     NaN   \n",
       "wagon        251.0    46.0      16.0   443.0  ...   387.0  2684.0     9.0   \n",
       "\n",
       "Brand        sonstige_autos  subaru  suzuki  toyota  trabant  volkswagen   \n",
       "VehicleType                                                                \n",
       "bus                   183.0    17.0    27.0   446.0      NaN      9387.0  \\\n",
       "convertible           315.0     1.0    35.0    63.0     36.0      2886.0   \n",
       "coupe                 217.0     8.0     7.0   222.0      2.0      1725.0   \n",
       "other                 207.0     6.0    14.0    19.0      5.0       720.0   \n",
       "sedan                 430.0   164.0   178.0   887.0    198.0     19294.0   \n",
       "small                 234.0   117.0   967.0  1580.0     54.0     17973.0   \n",
       "suv                   412.0    59.0   743.0   438.0      1.0      1304.0   \n",
       "wagon                 122.0   292.0    87.0   568.0     70.0     12372.0   \n",
       "\n",
       "Brand         volvo  \n",
       "VehicleType          \n",
       "bus             NaN  \n",
       "convertible    75.0  \n",
       "coupe          67.0  \n",
       "other           5.0  \n",
       "sedan         633.0  \n",
       "small           7.0  \n",
       "suv           218.0  \n",
       "wagon        1934.0  \n",
       "\n",
       "[8 rows x 40 columns]"
      ]
     },
     "execution_count": 19,
     "metadata": {},
     "output_type": "execute_result"
    }
   ],
   "source": [
    "vehicle_type_pivot_table = vehicle_type_pivot_table['count']['Price']\n",
    "vehicle_type_pivot_table"
   ]
  },
  {
   "cell_type": "markdown",
   "metadata": {},
   "source": [
    "    Заполним словарь брендов и популярных типов машин и заполним пропуски по столбцу VehicleType."
   ]
  },
  {
   "cell_type": "code",
   "execution_count": 20,
   "metadata": {},
   "outputs": [
    {
     "name": "stdout",
     "output_type": "stream",
     "text": [
      "<class 'pandas.core.frame.DataFrame'>\n",
      "Index: 329478 entries, 0 to 354368\n",
      "Data columns (total 10 columns):\n",
      " #   Column            Non-Null Count   Dtype \n",
      "---  ------            --------------   ----- \n",
      " 0   VehicleType       309581 non-null  object\n",
      " 1   Gearbox           329478 non-null  object\n",
      " 2   Power             329478 non-null  int64 \n",
      " 3   Kilometer         329478 non-null  int64 \n",
      " 4   FuelType          305373 non-null  object\n",
      " 5   Brand             329478 non-null  object\n",
      " 6   Repaired          329478 non-null  object\n",
      " 7   RegistrationYear  329478 non-null  int64 \n",
      " 8   Model             329478 non-null  object\n",
      " 9   Price             329478 non-null  int64 \n",
      "dtypes: int64(4), object(6)\n",
      "memory usage: 27.7+ MB\n"
     ]
    }
   ],
   "source": [
    "filtred_autos_data.info()"
   ]
  },
  {
   "cell_type": "code",
   "execution_count": 21,
   "metadata": {},
   "outputs": [
    {
     "data": {
      "text/plain": [
       "0"
      ]
     },
     "metadata": {},
     "output_type": "display_data"
    },
    {
     "data": {
      "text/plain": [
       "VehicleType\n",
       "sedan          98712\n",
       "small          86610\n",
       "wagon          65269\n",
       "bus            28409\n",
       "convertible    19902\n",
       "coupe          15613\n",
       "suv            11912\n",
       "other           3051\n",
       "Name: count, dtype: int64"
      ]
     },
     "execution_count": 21,
     "metadata": {},
     "output_type": "execute_result"
    }
   ],
   "source": [
    "filtred_autos_data.fillna({'VehicleType':0},inplace=True)\n",
    "\n",
    "def fillna_by_brand(row, row_number, vehicle_type_pivot_table):\n",
    "    brand = row[5]\n",
    "    fill_value = row[row_number]\n",
    "    if row[row_number] == 0:\n",
    "        fill_value = vehicle_type_pivot_table[brand].idxmax()\n",
    "    return fill_value\n",
    "\n",
    "filtred_autos_data['VehicleType'] = filtred_autos_data.apply(\n",
    "                                fillna_by_brand, \n",
    "                                args=[0, vehicle_type_pivot_table],\n",
    "                                axis=1)\n",
    "display(filtred_autos_data['VehicleType'].isna().sum())\n",
    "filtred_autos_data['VehicleType'].value_counts()"
   ]
  },
  {
   "cell_type": "markdown",
   "metadata": {},
   "source": [
    "    Также аполним пропуски в FuelType"
   ]
  },
  {
   "cell_type": "code",
   "execution_count": 22,
   "metadata": {},
   "outputs": [
    {
     "data": {
      "text/html": [
       "<div>\n",
       "<style scoped>\n",
       "    .dataframe tbody tr th:only-of-type {\n",
       "        vertical-align: middle;\n",
       "    }\n",
       "\n",
       "    .dataframe tbody tr th {\n",
       "        vertical-align: top;\n",
       "    }\n",
       "\n",
       "    .dataframe thead th {\n",
       "        text-align: right;\n",
       "    }\n",
       "</style>\n",
       "<table border=\"1\" class=\"dataframe\">\n",
       "  <thead>\n",
       "    <tr style=\"text-align: right;\">\n",
       "      <th>Brand</th>\n",
       "      <th>alfa_romeo</th>\n",
       "      <th>audi</th>\n",
       "      <th>bmw</th>\n",
       "      <th>chevrolet</th>\n",
       "      <th>chrysler</th>\n",
       "      <th>citroen</th>\n",
       "      <th>dacia</th>\n",
       "      <th>daewoo</th>\n",
       "      <th>daihatsu</th>\n",
       "      <th>fiat</th>\n",
       "      <th>...</th>\n",
       "      <th>seat</th>\n",
       "      <th>skoda</th>\n",
       "      <th>smart</th>\n",
       "      <th>sonstige_autos</th>\n",
       "      <th>subaru</th>\n",
       "      <th>suzuki</th>\n",
       "      <th>toyota</th>\n",
       "      <th>trabant</th>\n",
       "      <th>volkswagen</th>\n",
       "      <th>volvo</th>\n",
       "    </tr>\n",
       "    <tr>\n",
       "      <th>FuelType</th>\n",
       "      <th></th>\n",
       "      <th></th>\n",
       "      <th></th>\n",
       "      <th></th>\n",
       "      <th></th>\n",
       "      <th></th>\n",
       "      <th></th>\n",
       "      <th></th>\n",
       "      <th></th>\n",
       "      <th></th>\n",
       "      <th></th>\n",
       "      <th></th>\n",
       "      <th></th>\n",
       "      <th></th>\n",
       "      <th></th>\n",
       "      <th></th>\n",
       "      <th></th>\n",
       "      <th></th>\n",
       "      <th></th>\n",
       "      <th></th>\n",
       "      <th></th>\n",
       "    </tr>\n",
       "  </thead>\n",
       "  <tbody>\n",
       "    <tr>\n",
       "      <th>cng</th>\n",
       "      <td>NaN</td>\n",
       "      <td>1.0</td>\n",
       "      <td>10.0</td>\n",
       "      <td>4.0</td>\n",
       "      <td>NaN</td>\n",
       "      <td>7.0</td>\n",
       "      <td>2.0</td>\n",
       "      <td>NaN</td>\n",
       "      <td>NaN</td>\n",
       "      <td>67.0</td>\n",
       "      <td>...</td>\n",
       "      <td>2.0</td>\n",
       "      <td>6.0</td>\n",
       "      <td>2.0</td>\n",
       "      <td>7.0</td>\n",
       "      <td>2.0</td>\n",
       "      <td>NaN</td>\n",
       "      <td>NaN</td>\n",
       "      <td>NaN</td>\n",
       "      <td>181.0</td>\n",
       "      <td>20.0</td>\n",
       "    </tr>\n",
       "    <tr>\n",
       "      <th>electric</th>\n",
       "      <td>NaN</td>\n",
       "      <td>2.0</td>\n",
       "      <td>3.0</td>\n",
       "      <td>NaN</td>\n",
       "      <td>NaN</td>\n",
       "      <td>1.0</td>\n",
       "      <td>NaN</td>\n",
       "      <td>NaN</td>\n",
       "      <td>1.0</td>\n",
       "      <td>4.0</td>\n",
       "      <td>...</td>\n",
       "      <td>NaN</td>\n",
       "      <td>NaN</td>\n",
       "      <td>7.0</td>\n",
       "      <td>21.0</td>\n",
       "      <td>NaN</td>\n",
       "      <td>NaN</td>\n",
       "      <td>NaN</td>\n",
       "      <td>NaN</td>\n",
       "      <td>4.0</td>\n",
       "      <td>NaN</td>\n",
       "    </tr>\n",
       "    <tr>\n",
       "      <th>gasoline</th>\n",
       "      <td>589.0</td>\n",
       "      <td>12027.0</td>\n",
       "      <td>11788.0</td>\n",
       "      <td>235.0</td>\n",
       "      <td>365.0</td>\n",
       "      <td>1545.0</td>\n",
       "      <td>204.0</td>\n",
       "      <td>1.0</td>\n",
       "      <td>4.0</td>\n",
       "      <td>1407.0</td>\n",
       "      <td>...</td>\n",
       "      <td>1616.0</td>\n",
       "      <td>1892.0</td>\n",
       "      <td>842.0</td>\n",
       "      <td>431.0</td>\n",
       "      <td>41.0</td>\n",
       "      <td>226.0</td>\n",
       "      <td>969.0</td>\n",
       "      <td>1.0</td>\n",
       "      <td>24485.0</td>\n",
       "      <td>1036.0</td>\n",
       "    </tr>\n",
       "    <tr>\n",
       "      <th>hybrid</th>\n",
       "      <td>NaN</td>\n",
       "      <td>1.0</td>\n",
       "      <td>NaN</td>\n",
       "      <td>NaN</td>\n",
       "      <td>NaN</td>\n",
       "      <td>NaN</td>\n",
       "      <td>NaN</td>\n",
       "      <td>NaN</td>\n",
       "      <td>NaN</td>\n",
       "      <td>3.0</td>\n",
       "      <td>...</td>\n",
       "      <td>1.0</td>\n",
       "      <td>NaN</td>\n",
       "      <td>1.0</td>\n",
       "      <td>19.0</td>\n",
       "      <td>NaN</td>\n",
       "      <td>NaN</td>\n",
       "      <td>125.0</td>\n",
       "      <td>1.0</td>\n",
       "      <td>5.0</td>\n",
       "      <td>NaN</td>\n",
       "    </tr>\n",
       "    <tr>\n",
       "      <th>lpg</th>\n",
       "      <td>33.0</td>\n",
       "      <td>443.0</td>\n",
       "      <td>725.0</td>\n",
       "      <td>176.0</td>\n",
       "      <td>93.0</td>\n",
       "      <td>68.0</td>\n",
       "      <td>52.0</td>\n",
       "      <td>23.0</td>\n",
       "      <td>6.0</td>\n",
       "      <td>67.0</td>\n",
       "      <td>...</td>\n",
       "      <td>62.0</td>\n",
       "      <td>51.0</td>\n",
       "      <td>3.0</td>\n",
       "      <td>121.0</td>\n",
       "      <td>29.0</td>\n",
       "      <td>22.0</td>\n",
       "      <td>25.0</td>\n",
       "      <td>NaN</td>\n",
       "      <td>519.0</td>\n",
       "      <td>108.0</td>\n",
       "    </tr>\n",
       "    <tr>\n",
       "      <th>other</th>\n",
       "      <td>NaN</td>\n",
       "      <td>3.0</td>\n",
       "      <td>7.0</td>\n",
       "      <td>1.0</td>\n",
       "      <td>NaN</td>\n",
       "      <td>3.0</td>\n",
       "      <td>NaN</td>\n",
       "      <td>1.0</td>\n",
       "      <td>NaN</td>\n",
       "      <td>4.0</td>\n",
       "      <td>...</td>\n",
       "      <td>NaN</td>\n",
       "      <td>NaN</td>\n",
       "      <td>1.0</td>\n",
       "      <td>29.0</td>\n",
       "      <td>1.0</td>\n",
       "      <td>1.0</td>\n",
       "      <td>NaN</td>\n",
       "      <td>36.0</td>\n",
       "      <td>22.0</td>\n",
       "      <td>3.0</td>\n",
       "    </tr>\n",
       "    <tr>\n",
       "      <th>petrol</th>\n",
       "      <td>1372.0</td>\n",
       "      <td>13553.0</td>\n",
       "      <td>20069.0</td>\n",
       "      <td>1129.0</td>\n",
       "      <td>771.0</td>\n",
       "      <td>2873.0</td>\n",
       "      <td>562.0</td>\n",
       "      <td>425.0</td>\n",
       "      <td>662.0</td>\n",
       "      <td>6536.0</td>\n",
       "      <td>...</td>\n",
       "      <td>4237.0</td>\n",
       "      <td>3120.0</td>\n",
       "      <td>3856.0</td>\n",
       "      <td>1377.0</td>\n",
       "      <td>573.0</td>\n",
       "      <td>1781.0</td>\n",
       "      <td>3082.0</td>\n",
       "      <td>276.0</td>\n",
       "      <td>40175.0</td>\n",
       "      <td>1714.0</td>\n",
       "    </tr>\n",
       "  </tbody>\n",
       "</table>\n",
       "<p>7 rows × 40 columns</p>\n",
       "</div>"
      ],
      "text/plain": [
       "Brand     alfa_romeo     audi      bmw  chevrolet  chrysler  citroen  dacia   \n",
       "FuelType                                                                      \n",
       "cng              NaN      1.0     10.0        4.0       NaN      7.0    2.0  \\\n",
       "electric         NaN      2.0      3.0        NaN       NaN      1.0    NaN   \n",
       "gasoline       589.0  12027.0  11788.0      235.0     365.0   1545.0  204.0   \n",
       "hybrid           NaN      1.0      NaN        NaN       NaN      NaN    NaN   \n",
       "lpg             33.0    443.0    725.0      176.0      93.0     68.0   52.0   \n",
       "other            NaN      3.0      7.0        1.0       NaN      3.0    NaN   \n",
       "petrol        1372.0  13553.0  20069.0     1129.0     771.0   2873.0  562.0   \n",
       "\n",
       "Brand     daewoo  daihatsu    fiat  ...    seat   skoda   smart   \n",
       "FuelType                            ...                           \n",
       "cng          NaN       NaN    67.0  ...     2.0     6.0     2.0  \\\n",
       "electric     NaN       1.0     4.0  ...     NaN     NaN     7.0   \n",
       "gasoline     1.0       4.0  1407.0  ...  1616.0  1892.0   842.0   \n",
       "hybrid       NaN       NaN     3.0  ...     1.0     NaN     1.0   \n",
       "lpg         23.0       6.0    67.0  ...    62.0    51.0     3.0   \n",
       "other        1.0       NaN     4.0  ...     NaN     NaN     1.0   \n",
       "petrol     425.0     662.0  6536.0  ...  4237.0  3120.0  3856.0   \n",
       "\n",
       "Brand     sonstige_autos  subaru  suzuki  toyota  trabant  volkswagen   volvo  \n",
       "FuelType                                                                       \n",
       "cng                  7.0     2.0     NaN     NaN      NaN       181.0    20.0  \n",
       "electric            21.0     NaN     NaN     NaN      NaN         4.0     NaN  \n",
       "gasoline           431.0    41.0   226.0   969.0      1.0     24485.0  1036.0  \n",
       "hybrid              19.0     NaN     NaN   125.0      1.0         5.0     NaN  \n",
       "lpg                121.0    29.0    22.0    25.0      NaN       519.0   108.0  \n",
       "other               29.0     1.0     1.0     NaN     36.0        22.0     3.0  \n",
       "petrol            1377.0   573.0  1781.0  3082.0    276.0     40175.0  1714.0  \n",
       "\n",
       "[7 rows x 40 columns]"
      ]
     },
     "metadata": {},
     "output_type": "display_data"
    },
    {
     "data": {
      "text/plain": [
       "0"
      ]
     },
     "metadata": {},
     "output_type": "display_data"
    },
    {
     "data": {
      "text/plain": [
       "FuelType\n",
       "petrol         204515\n",
       "gasoline        94833\n",
       "sedan           11116\n",
       "small           10493\n",
       "lpg              5023\n",
       "wagon            2127\n",
       "cng               533\n",
       "hybrid            220\n",
       "suv               202\n",
       "other             162\n",
       "bus                94\n",
       "electric           87\n",
       "convertible        73\n",
       "Name: count, dtype: int64"
      ]
     },
     "execution_count": 22,
     "metadata": {},
     "output_type": "execute_result"
    }
   ],
   "source": [
    "filtred_autos_data['FuelType'].value_counts()\n",
    "fuel_type_pivot_table = filtred_autos_data.pivot_table(index=['FuelType'], \n",
    "                                                          columns=['Brand'],\n",
    "                                                          values=['Price'],\n",
    "                                                          aggfunc=['count'])\n",
    "fuel_type_pivot_table = fuel_type_pivot_table['count']['Price']\n",
    "display(fuel_type_pivot_table)\n",
    "\n",
    "filtred_autos_data.fillna({'FuelType':0},inplace=True)\n",
    "\n",
    "filtred_autos_data['FuelType'] = filtred_autos_data.apply(\n",
    "                                fillna_by_brand, \n",
    "                                args=[4, vehicle_type_pivot_table],\n",
    "                                axis=1)\n",
    "display(filtred_autos_data['FuelType'].isna().sum())\n",
    "filtred_autos_data['FuelType'].value_counts()"
   ]
  },
  {
   "cell_type": "code",
   "execution_count": 23,
   "metadata": {},
   "outputs": [
    {
     "data": {
      "text/plain": [
       "VehicleType         0.0\n",
       "Gearbox             0.0\n",
       "Power               0.0\n",
       "Kilometer           0.0\n",
       "FuelType            0.0\n",
       "Brand               0.0\n",
       "Repaired            0.0\n",
       "RegistrationYear    0.0\n",
       "Model               0.0\n",
       "Price               0.0\n",
       "dtype: float64"
      ]
     },
     "execution_count": 23,
     "metadata": {},
     "output_type": "execute_result"
    }
   ],
   "source": [
    "filtred_autos_data.isna().mean()"
   ]
  },
  {
   "cell_type": "markdown",
   "metadata": {},
   "source": [
    "    Пропуски убраны. Остались некорректные значения в столбце Power."
   ]
  },
  {
   "cell_type": "code",
   "execution_count": 24,
   "metadata": {},
   "outputs": [
    {
     "data": {
      "text/plain": [
       "count    329478.000000\n",
       "mean        111.959214\n",
       "std         184.883693\n",
       "min           0.000000\n",
       "25%          71.000000\n",
       "50%         105.000000\n",
       "75%         143.000000\n",
       "max       20000.000000\n",
       "Name: Power, dtype: float64"
      ]
     },
     "execution_count": 24,
     "metadata": {},
     "output_type": "execute_result"
    },
    {
     "data": {
      "image/png": "[encoded data removed]",
      "text/plain": [
       "<Figure size 1200x900 with 1 Axes>"
      ]
     },
     "metadata": {},
     "output_type": "display_data"
    }
   ],
   "source": [
    "filtred_autos_data['Power'].hist(bins=100, figsize=(12,9))\n",
    "filtred_autos_data['Power'].describe()"
   ]
  },
  {
   "cell_type": "markdown",
   "metadata": {},
   "source": [
    "    Раброс очень сильный, усечем выбросы больше 1000 л.с."
   ]
  },
  {
   "cell_type": "code",
   "execution_count": 25,
   "metadata": {},
   "outputs": [
    {
     "data": {
      "text/plain": [
       "count    329217.000000\n",
       "mean        108.743926\n",
       "std          63.315293\n",
       "min           0.000000\n",
       "25%          71.000000\n",
       "50%         105.000000\n",
       "75%         143.000000\n",
       "max        1000.000000\n",
       "Name: Power, dtype: float64"
      ]
     },
     "execution_count": 25,
     "metadata": {},
     "output_type": "execute_result"
    },
    {
     "data": {
      "image/png": "[encoded data removed]",
      "text/plain": [
       "<Figure size 1200x900 with 1 Axes>"
      ]
     },
     "metadata": {},
     "output_type": "display_data"
    }
   ],
   "source": [
    "filtred_autos_data = filtred_autos_data.query('Power < 1001')\n",
    "filtred_autos_data['Power'].hist(bins=100, figsize=(12,9))\n",
    "filtred_autos_data['Power'].describe()"
   ]
  },
  {
   "cell_type": "markdown",
   "metadata": {},
   "source": [
    "    Из графика видно, что многие машины имеют мощность 0. Эти строки не подлежат восстановлению и будут удалены. По правому\n",
    "    отсечению выбреме границу в 400 л.с"
   ]
  },
  {
   "cell_type": "code",
   "execution_count": 26,
   "metadata": {},
   "outputs": [
    {
     "data": {
      "text/plain": [
       "count    296091.000000\n",
       "mean        120.218963\n",
       "std          52.645441\n",
       "min           1.000000\n",
       "25%          75.000000\n",
       "50%         110.000000\n",
       "75%         150.000000\n",
       "max         400.000000\n",
       "Name: Power, dtype: float64"
      ]
     },
     "execution_count": 26,
     "metadata": {},
     "output_type": "execute_result"
    },
    {
     "data": {
      "image/png": "[encoded data removed]",
      "text/plain": [
       "<Figure size 1200x900 with 1 Axes>"
      ]
     },
     "metadata": {},
     "output_type": "display_data"
    }
   ],
   "source": [
    "filtred_autos_data = filtred_autos_data.query('0 < Power < 401')\n",
    "filtred_autos_data['Power'].hist(bins=100, figsize=(12,9))\n",
    "filtred_autos_data['Power'].describe()"
   ]
  },
  {
   "cell_type": "markdown",
   "metadata": {},
   "source": [
    "    Следующими границами выберем 25 и 350 л.с."
   ]
  },
  {
   "cell_type": "code",
   "execution_count": 27,
   "metadata": {},
   "outputs": [
    {
     "data": {
      "text/plain": [
       "count    295191.000000\n",
       "mean        120.006101\n",
       "std          51.619754\n",
       "min          25.000000\n",
       "25%          75.000000\n",
       "50%         110.000000\n",
       "75%         150.000000\n",
       "max         350.000000\n",
       "Name: Power, dtype: float64"
      ]
     },
     "execution_count": 27,
     "metadata": {},
     "output_type": "execute_result"
    },
    {
     "data": {
      "image/png": "[encoded data removed]",
      "text/plain": [
       "<Figure size 1200x900 with 1 Axes>"
      ]
     },
     "metadata": {},
     "output_type": "display_data"
    }
   ],
   "source": [
    "good_autos_data = filtred_autos_data.query('24 < Power < 351')\n",
    "good_autos_data['Power'].hist(bins=100, figsize=(12,9))\n",
    "good_autos_data['Power'].describe()"
   ]
  },
  {
   "cell_type": "code",
   "execution_count": 28,
   "metadata": {},
   "outputs": [
    {
     "name": "stdout",
     "output_type": "stream",
     "text": [
      "<class 'pandas.core.frame.DataFrame'>\n",
      "Index: 295191 entries, 1 to 354368\n",
      "Data columns (total 10 columns):\n",
      " #   Column            Non-Null Count   Dtype \n",
      "---  ------            --------------   ----- \n",
      " 0   VehicleType       295191 non-null  object\n",
      " 1   Gearbox           295191 non-null  object\n",
      " 2   Power             295191 non-null  int64 \n",
      " 3   Kilometer         295191 non-null  int64 \n",
      " 4   FuelType          295191 non-null  object\n",
      " 5   Brand             295191 non-null  object\n",
      " 6   Repaired          295191 non-null  object\n",
      " 7   RegistrationYear  295191 non-null  int64 \n",
      " 8   Model             295191 non-null  object\n",
      " 9   Price             295191 non-null  int64 \n",
      "dtypes: int64(4), object(6)\n",
      "memory usage: 24.8+ MB\n"
     ]
    }
   ],
   "source": [
    "good_autos_data.info()"
   ]
  },
  {
   "cell_type": "markdown",
   "metadata": {},
   "source": [
    "    Проведем замену столбцов Gearbox и Repaired на булев тип\n",
    "\n",
    "        1) IsManualGearbox. 1(manual) - означает механическую коробку передач. 0(auto) - автоматическую.\n",
    "        2) IsNotRepaired. 1(yes) - означает машину без ремонта. 0(no) - с ремонтом.\n"
   ]
  },
  {
   "cell_type": "code",
   "execution_count": 29,
   "metadata": {},
   "outputs": [
    {
     "data": {
      "text/plain": [
       "IsManualGearbox\n",
       "1    237054\n",
       "0     58137\n",
       "Name: count, dtype: int64"
      ]
     },
     "metadata": {},
     "output_type": "display_data"
    },
    {
     "data": {
      "text/plain": [
       "Gearbox\n",
       "manual    237054\n",
       "auto       58137\n",
       "Name: count, dtype: int64"
      ]
     },
     "execution_count": 29,
     "metadata": {},
     "output_type": "execute_result"
    }
   ],
   "source": [
    "good_autos_data['IsManualGearbox'] = 0\n",
    "good_autos_data.loc[good_autos_data['Gearbox'] == 'manual', 'IsManualGearbox'] = 1\n",
    "display(good_autos_data['IsManualGearbox'].value_counts())\n",
    "good_autos_data['Gearbox'].value_counts()"
   ]
  },
  {
   "cell_type": "code",
   "execution_count": 30,
   "metadata": {},
   "outputs": [
    {
     "data": {
      "text/plain": [
       "IsRepaired\n",
       "0    223685\n",
       "1     71506\n",
       "Name: count, dtype: int64"
      ]
     },
     "metadata": {},
     "output_type": "display_data"
    },
    {
     "data": {
      "text/plain": [
       "Repaired\n",
       "no     223685\n",
       "yes     71506\n",
       "Name: count, dtype: int64"
      ]
     },
     "execution_count": 30,
     "metadata": {},
     "output_type": "execute_result"
    }
   ],
   "source": [
    "good_autos_data['IsRepaired'] = 0\n",
    "good_autos_data.loc[good_autos_data['Repaired'] == 'yes', 'IsRepaired'] = 1\n",
    "display(good_autos_data['IsRepaired'].value_counts())\n",
    "good_autos_data['Repaired'].value_counts()"
   ]
  },
  {
   "cell_type": "markdown",
   "metadata": {},
   "source": [
    "    Удалим ненужные столбцы и уменьшим размерность хранения типа для ускорения работы с дата фреймом."
   ]
  },
  {
   "cell_type": "code",
   "execution_count": 31,
   "metadata": {
    "scrolled": true
   },
   "outputs": [
    {
     "name": "stdout",
     "output_type": "stream",
     "text": [
      "<class 'pandas.core.frame.DataFrame'>\n",
      "Index: 295191 entries, 1 to 354368\n",
      "Data columns (total 10 columns):\n",
      " #   Column            Non-Null Count   Dtype \n",
      "---  ------            --------------   ----- \n",
      " 0   VehicleType       295191 non-null  object\n",
      " 1   Power             295191 non-null  int16 \n",
      " 2   Kilometer         295191 non-null  int32 \n",
      " 3   FuelType          295191 non-null  object\n",
      " 4   Brand             295191 non-null  object\n",
      " 5   RegistrationYear  295191 non-null  int16 \n",
      " 6   Model             295191 non-null  object\n",
      " 7   Price             295191 non-null  int16 \n",
      " 8   IsManualGearbox   295191 non-null  int8  \n",
      " 9   IsRepaired        295191 non-null  int8  \n",
      "dtypes: int16(3), int32(1), int8(2), object(4)\n",
      "memory usage: 14.6+ MB\n"
     ]
    }
   ],
   "source": [
    "good_autos_data.drop(['Repaired','Gearbox'], inplace=True, axis=1)\n",
    "good_autos_data['IsRepaired'] = pd.to_numeric(good_autos_data['IsRepaired'], downcast='integer')\n",
    "good_autos_data['IsManualGearbox'] = pd.to_numeric(good_autos_data['IsManualGearbox'], downcast='integer')\n",
    "good_autos_data['RegistrationYear'] = pd.to_numeric(good_autos_data['RegistrationYear'], downcast='integer')\n",
    "good_autos_data['Power'] = pd.to_numeric(good_autos_data['Power'], downcast='integer')\n",
    "good_autos_data['Kilometer'] = pd.to_numeric(good_autos_data['Kilometer'], downcast='integer')\n",
    "good_autos_data['Price'] = pd.to_numeric(good_autos_data['Price'], downcast='integer')\n",
    "good_autos_data.info()"
   ]
  },
  {
   "cell_type": "code",
   "execution_count": 32,
   "metadata": {},
   "outputs": [
    {
     "name": "stdout",
     "output_type": "stream",
     "text": [
      "Уменьшение использования памяти на 74.60%\n"
     ]
    }
   ],
   "source": [
    "print('Уменьшение использования памяти на {:.2%}'.format(1 - 11.0/43.3))"
   ]
  },
  {
   "cell_type": "markdown",
   "metadata": {},
   "source": [
    "### Вывод:"
   ]
  },
  {
   "cell_type": "markdown",
   "metadata": {},
   "source": [
    "    1) Была изучена таблица данных.\n",
    "    2) Выведены аномальные и пропущенные значения.\n",
    "    3) Отобраны небходимые столбцы для обучения модели.\n",
    "    4) Заполнены пропуски в столбцах и удалены некорректные значения.\n",
    "    5) Заменены два категориальных признака на численные.\n",
    "    6) Выигрыш в памяти составляет 75%, что ускорит обращение к памяти при обучении модели."
   ]
  },
  {
   "cell_type": "markdown",
   "metadata": {},
   "source": [
    "## Обучение моделей"
   ]
  },
  {
   "cell_type": "markdown",
   "metadata": {},
   "source": [
    "    Возьмём следующие модели для обучения:\n",
    "    \n",
    "        1) LinearRegression\n",
    "        2) Ridge\n",
    "        3) CatBoostRegressor\n",
    "        4) LGBMRegressor"
   ]
  },
  {
   "cell_type": "markdown",
   "metadata": {},
   "source": [
    "    В качестве метрики для всех моделей будем использовать MSE и в финальной таблице переведем в RMSE. Качество моделей\n",
    "    будем проверять на кроссвалидации."
   ]
  },
  {
   "cell_type": "markdown",
   "metadata": {},
   "source": [
    "    Подготовим три типа признаков для кроссвалидации:"
   ]
  },
  {
   "cell_type": "markdown",
   "metadata": {},
   "source": [
    "-Неизмененные. original_features.\n",
    "\n",
    "-Закодированные методом OHE. ohe_features.\n",
    "\n",
    "-Закодированные методом OE. ordinal_features."
   ]
  },
  {
   "cell_type": "markdown",
   "metadata": {},
   "source": [
    "#Неизмененные признаки\n",
    "original_features = good_autos_data.drop('Price', axis=1)\n",
    "\n",
    "#Прямое кодирование\n",
    "encoder = OrdinalEncoder()\n",
    "cat_columns = ['VehicleType','FuelType','Brand','Model']\n",
    "cat_features = original_features[cat_columns]\n",
    "cat_features = pd.DataFrame(encoder.fit_transform(cat_features),\n",
    "                                columns=cat_features.columns, \n",
    "                                index=cat_features.index)\n",
    "ordinal_features = original_features.copy()\n",
    "for column in cat_columns:\n",
    "    ordinal_features[column] = cat_features[column]\n",
    "\n",
    "#OHE кодирование\n",
    "ohe_features = pd.get_dummies(original_features, drop_first=True)\n",
    "\n",
    "#Целевой признак\n",
    "target = good_autos_data['Price']\n"
   ]
  },
  {
   "cell_type": "code",
   "execution_count": 33,
   "metadata": {},
   "outputs": [],
   "source": [
    "\n",
    "features = good_autos_data.drop(['Price'], axis=1)\n",
    "target = good_autos_data['Price']\n",
    "\n",
    "original_features = good_autos_data.drop('Price', axis=1).astype('bool')\n",
    "\n",
    "ohe_features = pd.get_dummies(original_features, drop_first=True)\n",
    "\n",
    "#создаем обучающую,валидационную и тестовую выборки\n",
    "features_train, features_valid, target_train, target_valid = train_test_split(features, \n",
    "                                                                              target, \n",
    "                                                                              test_size=0.2, \n",
    "                                                                              random_state=12345)\n",
    "features_train, features_test, target_train, target_test = train_test_split(features_train,\n",
    "                                                                            target_train, \n",
    "                                                                            random_state=12345)\n",
    "\n",
    "# создаем копию чистых данных, чтобы их не исказить.\n",
    "ohe_features_train = features_train.copy()\n",
    "ohe_features_valid = features_train.copy()\n",
    "ohe_features_test = features_test.copy()\n",
    "\n",
    "# сохраняем список категориальных признаков\n",
    "cat_features = features_train.select_dtypes(include='object').columns.to_list()\n",
    "\n",
    "\n",
    "# проведем иницаилизацию OHE-енкодера\n",
    "encoder_ohe = OneHotEncoder(drop='first', handle_unknown='ignore', sparse=False)\n",
    "\n",
    "# обучим энкодер по тренировочным данным\n",
    "encoder_ohe.fit(ohe_features_train[ohe_features])\n",
    "\n",
    "# добавим закодированные признаки и удалим колонки с категориальными признаками\n",
    "ohe_features_train[encoder_ohe.get_feature_names_out()] = encoder_ohe.transform(ohe_features_train[ohe_features])\n",
    "ohe_features_valid[encoder_ohe.get_feature_names_out()] = encoder_ohe.transform(ohe_features_valid[ohe_features])\n",
    "ohe_features_test[encoder_ohe.get_feature_names_out()] = encoder_ohe.transform(ohe_features_test[ohe_features])\n",
    "\n",
    "ohe_features_train = ohe_features_train.drop(ohe_features, axis=1)\n",
    "ohe_features_valid = ohe_features_valid.drop(ohe_features, axis=1)\n",
    "ohe_features_test = ohe_features_test.drop(ohe_features, axis=1)"
   ]
  },
  {
   "cell_type": "code",
   "execution_count": 34,
   "metadata": {},
   "outputs": [],
   "source": [
    "oe_features_train = features_train.copy()\n",
    "oe_features_valid = features_valid.copy()\n",
    "oe_features_test = features_test.copy()\n",
    "\n",
    "\n",
    "oe_encoder = OrdinalEncoder(handle_unknown='use_encoded_value', unknown_value=-1)\n",
    "oe_encoder.fit(oe_features_train[cat_features])\n",
    "oe_features_train[cat_features] = oe_encoder.transform(oe_features_train[cat_features])\n",
    "oe_features_valid[cat_features] = oe_encoder.transform(oe_features_valid[cat_features])\n",
    "oe_features_test[cat_features] = oe_encoder.transform(oe_features_test[cat_features])"
   ]
  },
  {
   "cell_type": "code",
   "execution_count": 35,
   "metadata": {},
   "outputs": [
    {
     "data": {
      "text/plain": [
       "['VehicleType', 'FuelType', 'Brand', 'Model']"
      ]
     },
     "execution_count": 35,
     "metadata": {},
     "output_type": "execute_result"
    }
   ],
   "source": [
    "cat_features"
   ]
  },
  {
   "cell_type": "code",
   "execution_count": 36,
   "metadata": {},
   "outputs": [
    {
     "data": {
      "text/html": [
       "<div>\n",
       "<style scoped>\n",
       "    .dataframe tbody tr th:only-of-type {\n",
       "        vertical-align: middle;\n",
       "    }\n",
       "\n",
       "    .dataframe tbody tr th {\n",
       "        vertical-align: top;\n",
       "    }\n",
       "\n",
       "    .dataframe thead th {\n",
       "        text-align: right;\n",
       "    }\n",
       "</style>\n",
       "<table border=\"1\" class=\"dataframe\">\n",
       "  <thead>\n",
       "    <tr style=\"text-align: right;\">\n",
       "      <th></th>\n",
       "      <th>VehicleType</th>\n",
       "      <th>Power</th>\n",
       "      <th>Kilometer</th>\n",
       "      <th>FuelType</th>\n",
       "      <th>Brand</th>\n",
       "      <th>RegistrationYear</th>\n",
       "      <th>Model</th>\n",
       "      <th>IsManualGearbox</th>\n",
       "      <th>IsRepaired</th>\n",
       "    </tr>\n",
       "  </thead>\n",
       "  <tbody>\n",
       "    <tr>\n",
       "      <th>294827</th>\n",
       "      <td>5.0</td>\n",
       "      <td>60</td>\n",
       "      <td>150000</td>\n",
       "      <td>8.0</td>\n",
       "      <td>38.0</td>\n",
       "      <td>1996</td>\n",
       "      <td>116.0</td>\n",
       "      <td>1</td>\n",
       "      <td>0</td>\n",
       "    </tr>\n",
       "    <tr>\n",
       "      <th>39555</th>\n",
       "      <td>4.0</td>\n",
       "      <td>129</td>\n",
       "      <td>5000</td>\n",
       "      <td>8.0</td>\n",
       "      <td>2.0</td>\n",
       "      <td>2005</td>\n",
       "      <td>11.0</td>\n",
       "      <td>1</td>\n",
       "      <td>0</td>\n",
       "    </tr>\n",
       "    <tr>\n",
       "      <th>282727</th>\n",
       "      <td>7.0</td>\n",
       "      <td>125</td>\n",
       "      <td>150000</td>\n",
       "      <td>4.0</td>\n",
       "      <td>20.0</td>\n",
       "      <td>1999</td>\n",
       "      <td>59.0</td>\n",
       "      <td>0</td>\n",
       "      <td>0</td>\n",
       "    </tr>\n",
       "    <tr>\n",
       "      <th>37929</th>\n",
       "      <td>4.0</td>\n",
       "      <td>94</td>\n",
       "      <td>150000</td>\n",
       "      <td>4.0</td>\n",
       "      <td>20.0</td>\n",
       "      <td>1990</td>\n",
       "      <td>166.0</td>\n",
       "      <td>1</td>\n",
       "      <td>0</td>\n",
       "    </tr>\n",
       "    <tr>\n",
       "      <th>334678</th>\n",
       "      <td>7.0</td>\n",
       "      <td>197</td>\n",
       "      <td>150000</td>\n",
       "      <td>4.0</td>\n",
       "      <td>2.0</td>\n",
       "      <td>2010</td>\n",
       "      <td>15.0</td>\n",
       "      <td>0</td>\n",
       "      <td>0</td>\n",
       "    </tr>\n",
       "    <tr>\n",
       "      <th>...</th>\n",
       "      <td>...</td>\n",
       "      <td>...</td>\n",
       "      <td>...</td>\n",
       "      <td>...</td>\n",
       "      <td>...</td>\n",
       "      <td>...</td>\n",
       "      <td>...</td>\n",
       "      <td>...</td>\n",
       "      <td>...</td>\n",
       "    </tr>\n",
       "    <tr>\n",
       "      <th>1925</th>\n",
       "      <td>4.0</td>\n",
       "      <td>140</td>\n",
       "      <td>150000</td>\n",
       "      <td>4.0</td>\n",
       "      <td>1.0</td>\n",
       "      <td>2004</td>\n",
       "      <td>28.0</td>\n",
       "      <td>1</td>\n",
       "      <td>0</td>\n",
       "    </tr>\n",
       "    <tr>\n",
       "      <th>27559</th>\n",
       "      <td>7.0</td>\n",
       "      <td>163</td>\n",
       "      <td>125000</td>\n",
       "      <td>8.0</td>\n",
       "      <td>1.0</td>\n",
       "      <td>2007</td>\n",
       "      <td>29.0</td>\n",
       "      <td>1</td>\n",
       "      <td>0</td>\n",
       "    </tr>\n",
       "    <tr>\n",
       "      <th>16139</th>\n",
       "      <td>7.0</td>\n",
       "      <td>97</td>\n",
       "      <td>125000</td>\n",
       "      <td>8.0</td>\n",
       "      <td>15.0</td>\n",
       "      <td>2003</td>\n",
       "      <td>186.0</td>\n",
       "      <td>1</td>\n",
       "      <td>0</td>\n",
       "    </tr>\n",
       "    <tr>\n",
       "      <th>286125</th>\n",
       "      <td>1.0</td>\n",
       "      <td>90</td>\n",
       "      <td>125000</td>\n",
       "      <td>8.0</td>\n",
       "      <td>21.0</td>\n",
       "      <td>2005</td>\n",
       "      <td>165.0</td>\n",
       "      <td>1</td>\n",
       "      <td>0</td>\n",
       "    </tr>\n",
       "    <tr>\n",
       "      <th>56918</th>\n",
       "      <td>4.0</td>\n",
       "      <td>194</td>\n",
       "      <td>150000</td>\n",
       "      <td>8.0</td>\n",
       "      <td>2.0</td>\n",
       "      <td>1999</td>\n",
       "      <td>15.0</td>\n",
       "      <td>1</td>\n",
       "      <td>0</td>\n",
       "    </tr>\n",
       "  </tbody>\n",
       "</table>\n",
       "<p>177114 rows × 9 columns</p>\n",
       "</div>"
      ],
      "text/plain": [
       "        VehicleType  Power  Kilometer  FuelType  Brand  RegistrationYear   \n",
       "294827          5.0     60     150000       8.0   38.0              1996  \\\n",
       "39555           4.0    129       5000       8.0    2.0              2005   \n",
       "282727          7.0    125     150000       4.0   20.0              1999   \n",
       "37929           4.0     94     150000       4.0   20.0              1990   \n",
       "334678          7.0    197     150000       4.0    2.0              2010   \n",
       "...             ...    ...        ...       ...    ...               ...   \n",
       "1925            4.0    140     150000       4.0    1.0              2004   \n",
       "27559           7.0    163     125000       8.0    1.0              2007   \n",
       "16139           7.0     97     125000       8.0   15.0              2003   \n",
       "286125          1.0     90     125000       8.0   21.0              2005   \n",
       "56918           4.0    194     150000       8.0    2.0              1999   \n",
       "\n",
       "        Model  IsManualGearbox  IsRepaired  \n",
       "294827  116.0                1           0  \n",
       "39555    11.0                1           0  \n",
       "282727   59.0                0           0  \n",
       "37929   166.0                1           0  \n",
       "334678   15.0                0           0  \n",
       "...       ...              ...         ...  \n",
       "1925     28.0                1           0  \n",
       "27559    29.0                1           0  \n",
       "16139   186.0                1           0  \n",
       "286125  165.0                1           0  \n",
       "56918    15.0                1           0  \n",
       "\n",
       "[177114 rows x 9 columns]"
      ]
     },
     "execution_count": 36,
     "metadata": {},
     "output_type": "execute_result"
    }
   ],
   "source": [
    "oe_features_train"
   ]
  },
  {
   "cell_type": "markdown",
   "metadata": {},
   "source": [
    "cat_features = pd.DataFrame(encoder.fit_transform(cat_features),\n",
    "                                columns=cat_features.columns, \n",
    "                                index=cat_features.index)"
   ]
  },
  {
   "cell_type": "markdown",
   "metadata": {},
   "source": [
    "### Линейная регрессия"
   ]
  },
  {
   "cell_type": "code",
   "execution_count": 37,
   "metadata": {},
   "outputs": [
    {
     "name": "stdout",
     "output_type": "stream",
     "text": [
      "# Train for root_mean_squared_error\n",
      "\n",
      "Mean RMSE from CV of LinearRegression = 10238547245031.422\n",
      "CPU times: total: 3min 14s\n",
      "Wall time: 57.1 s\n"
     ]
    }
   ],
   "source": [
    "%%time\n",
    "\n",
    "regressor = LinearRegression()\n",
    "print('# Train for root_mean_squared_error')\n",
    "print()\n",
    "cv_RMSE_LR = (cross_val_score(regressor, \n",
    "                             ohe_features_train, \n",
    "                             target_train, \n",
    "                             cv=5, \n",
    "                             scoring='neg_mean_squared_error').mean() * -1) ** 0.5\n",
    "print('Mean RMSE from CV of LinearRegression =', cv_RMSE_LR)"
   ]
  },
  {
   "cell_type": "markdown",
   "metadata": {},
   "source": [
    "### Регрессия Ridge"
   ]
  },
  {
   "cell_type": "code",
   "execution_count": 38,
   "metadata": {},
   "outputs": [
    {
     "name": "stdout",
     "output_type": "stream",
     "text": [
      "# Tuning hyper-parameters for root_mean_squared_error\n",
      "\n",
      "Best parameters set found on development set:\n",
      "\n",
      "{'solver': 'svd'}\n",
      "\n",
      "Grid scores on development set:\n",
      "\n",
      "1983.399098 for {'solver': 'auto'}\n",
      "1983.399098 for {'solver': 'svd'}\n",
      "1983.399098 for {'solver': 'cholesky'}\n",
      "1985.895341 for {'solver': 'lsqr'}\n",
      "1983.943420 for {'solver': 'sparse_cg'}\n",
      "\n",
      "CPU times: total: 14min 58s\n",
      "Wall time: 2min 54s\n"
     ]
    }
   ],
   "source": [
    "%%time\n",
    "\n",
    "regressor = Ridge()\n",
    "hyperparams = [{'solver':['auto', 'svd', 'cholesky', 'lsqr','sparse_cg']}]\n",
    "\n",
    "\n",
    "print('# Tuning hyper-parameters for root_mean_squared_error')\n",
    "print()\n",
    "clf = GridSearchCV(regressor, hyperparams, scoring='neg_mean_squared_error')\n",
    "clf.fit(ohe_features_train, target_train)\n",
    "print(\"Best parameters set found on development set:\")\n",
    "print()\n",
    "print(clf.best_params_)\n",
    "print()\n",
    "print(\"Grid scores on development set:\")\n",
    "print()\n",
    "means = clf.cv_results_['mean_test_score']\n",
    "stds = clf.cv_results_['std_test_score']\n",
    "for mean, std, params in zip(means, stds, clf.cv_results_['params']):\n",
    "    print(\"%0.6f for %r\"% ((mean*-1)** 0.5, params))\n",
    "print()\n",
    "\n",
    "cv_RMSE_R = (max(means)*-1) ** 0.5"
   ]
  },
  {
   "cell_type": "markdown",
   "metadata": {},
   "source": [
    "### Регрессия CatBoostRegressor"
   ]
  },
  {
   "cell_type": "markdown",
   "metadata": {},
   "source": [
    "    Проверим модель на признаках:\n",
    "    \n",
    "        -закодированных по методу OHE.\n",
    "        -закодированных по методу OE."
   ]
  },
  {
   "cell_type": "code",
   "execution_count": 39,
   "metadata": {},
   "outputs": [
    {
     "name": "stdout",
     "output_type": "stream",
     "text": [
      "# Tuning hyper-parameters for root_mean_squared_error\n",
      "\n",
      "Best parameters set found on development set:\n",
      "\n",
      "{'learning_rate': 0.5, 'random_state': 19072020, 'verbose': False}\n",
      "\n",
      "Grid scores on development set:\n",
      "\n",
      "1610.695303 for {'learning_rate': 0.1, 'random_state': 19072020, 'verbose': False}\n",
      "1592.712777 for {'learning_rate': 0.5, 'random_state': 19072020, 'verbose': False}\n",
      "1624.760345 for {'learning_rate': 0.8, 'random_state': 19072020, 'verbose': False}\n",
      "\n",
      "CPU times: total: 16min 30s\n",
      "Wall time: 2min 41s\n"
     ]
    }
   ],
   "source": [
    "%%time\n",
    "\n",
    "regressor = CatBoostRegressor() \n",
    "hyperparams = [{'learning_rate':[0.1, 0.5, 0.8],\n",
    "                'random_state':[19072020],\n",
    "                'verbose':[False]}]\n",
    "\n",
    "print('# Tuning hyper-parameters for root_mean_squared_error')\n",
    "print()\n",
    "clf = GridSearchCV(regressor, hyperparams, scoring='neg_mean_squared_error')\n",
    "clf.fit(oe_features_train, target_train)\n",
    "print(\"Best parameters set found on development set:\")\n",
    "print()\n",
    "print(clf.best_params_)\n",
    "print()\n",
    "print(\"Grid scores on development set:\")\n",
    "print()\n",
    "means = clf.cv_results_['mean_test_score']\n",
    "stds = clf.cv_results_['std_test_score']\n",
    "for mean, std, params in zip(means, stds, clf.cv_results_['params']):\n",
    "    print(\"%0.6f for %r\"% ((mean*-1)** 0.5, params))\n",
    "print()\n",
    "\n",
    "cv_RMSE_CBR_ordinal = (max(means)*-1) ** 0.5"
   ]
  },
  {
   "cell_type": "code",
   "execution_count": 40,
   "metadata": {},
   "outputs": [
    {
     "name": "stdout",
     "output_type": "stream",
     "text": [
      "# Train for root_mean_squared_error\n",
      "\n",
      "Mean RMSE from CV of CatBoostRegressor = 1633.9688913914833\n",
      "CPU times: total: 1min 5s\n",
      "Wall time: 9.8 s\n"
     ]
    }
   ],
   "source": [
    "%%time\n",
    "\n",
    "regressor = CatBoostRegressor(learning_rate=0.5,\n",
    "                              iterations = 200,\n",
    "                              random_state=19072020, \n",
    "                              verbose=False) \n",
    "print('# Train for root_mean_squared_error')\n",
    "print()\n",
    "\n",
    "cv_RMSE_CBR_original = (cross_val_score(regressor,\n",
    "                                oe_features_train, \n",
    "                                target_train, \n",
    "                                cv=5, error_score='raise', \n",
    "                                scoring='neg_mean_squared_error').mean() * -1) ** 0.5\n",
    "print('Mean RMSE from CV of CatBoostRegressor =', cv_RMSE_CBR_original)"
   ]
  },
  {
   "cell_type": "markdown",
   "metadata": {},
   "source": [
    "### Регрессия LGBMRegressor"
   ]
  },
  {
   "cell_type": "code",
   "execution_count": 41,
   "metadata": {},
   "outputs": [
    {
     "name": "stdout",
     "output_type": "stream",
     "text": [
      "# Tuning hyper-parameters for root_mean_squared_error\n",
      "\n",
      "Best parameters set found on development set:\n",
      "\n",
      "{'learning_rate': 0.1, 'num_leaves': 200, 'random_state': 19072020}\n",
      "\n",
      "Grid scores on development set:\n",
      "\n",
      "1693.539247 for {'learning_rate': 0.1, 'num_leaves': 31, 'random_state': 19072020}\n",
      "1613.443918 for {'learning_rate': 0.1, 'num_leaves': 100, 'random_state': 19072020}\n",
      "1583.640502 for {'learning_rate': 0.1, 'num_leaves': 200, 'random_state': 19072020}\n",
      "1637.693131 for {'learning_rate': 0.3, 'num_leaves': 31, 'random_state': 19072020}\n",
      "1586.966231 for {'learning_rate': 0.3, 'num_leaves': 100, 'random_state': 19072020}\n",
      "1589.031283 for {'learning_rate': 0.3, 'num_leaves': 200, 'random_state': 19072020}\n",
      "1636.343845 for {'learning_rate': 0.5, 'num_leaves': 31, 'random_state': 19072020}\n",
      "1617.564041 for {'learning_rate': 0.5, 'num_leaves': 100, 'random_state': 19072020}\n",
      "1620.027962 for {'learning_rate': 0.5, 'num_leaves': 200, 'random_state': 19072020}\n",
      "\n",
      "CPU times: total: 4min 19s\n",
      "Wall time: 35.1 s\n"
     ]
    }
   ],
   "source": [
    "%%time\n",
    "\n",
    "regressor = LGBMRegressor() \n",
    "hyperparams = [{'num_leaves':[31, 100, 200], \n",
    "                'learning_rate':[0.1, 0.3, 0.5],\n",
    "                'random_state':[19072020]}]\n",
    "\n",
    "print('# Tuning hyper-parameters for root_mean_squared_error')\n",
    "print()\n",
    "clf = GridSearchCV(regressor, hyperparams, scoring='neg_mean_squared_error')\n",
    "clf.fit(oe_features_train, target_train)\n",
    "print(\"Best parameters set found on development set:\")\n",
    "print()\n",
    "print(clf.best_params_)\n",
    "print()\n",
    "print(\"Grid scores on development set:\")\n",
    "print()\n",
    "means = clf.cv_results_['mean_test_score']\n",
    "stds = clf.cv_results_['std_test_score']\n",
    "for mean, std, params in zip(means, stds, clf.cv_results_['params']):\n",
    "    print(\"%0.6f for %r\"% ((mean*-1)** 0.5, params))\n",
    "print()\n",
    "\n",
    "cv_RMSE_LGBMR = (max(means)*-1) ** 0.5"
   ]
  },
  {
   "cell_type": "markdown",
   "metadata": {},
   "source": [
    "### Вывод"
   ]
  },
  {
   "cell_type": "markdown",
   "metadata": {},
   "source": [
    "    Были изучены 4 регрессионных моделей. Зафиксированы лучшие гиперпараметры и время их выполнения."
   ]
  },
  {
   "cell_type": "markdown",
   "metadata": {},
   "source": [
    "## Анализ моделей"
   ]
  },
  {
   "cell_type": "markdown",
   "metadata": {},
   "source": [
    "### Линейная регрессия"
   ]
  },
  {
   "cell_type": "code",
   "execution_count": 42,
   "metadata": {},
   "outputs": [
    {
     "name": "stdout",
     "output_type": "stream",
     "text": [
      "CPU times: total: 49.4 s\n",
      "Wall time: 13.2 s\n"
     ]
    },
    {
     "data": {
      "text/html": [
       "<style>#sk-container-id-1 {color: black;background-color: white;}#sk-container-id-1 pre{padding: 0;}#sk-container-id-1 div.sk-toggleable {background-color: white;}#sk-container-id-1 label.sk-toggleable__label {cursor: pointer;display: block;width: 100%;margin-bottom: 0;padding: 0.3em;box-sizing: border-box;text-align: center;}#sk-container-id-1 label.sk-toggleable__label-arrow:before {content: \"▸\";float: left;margin-right: 0.25em;color: #696969;}#sk-container-id-1 label.sk-toggleable__label-arrow:hover:before {color: black;}#sk-container-id-1 div.sk-estimator:hover label.sk-toggleable__label-arrow:before {color: black;}#sk-container-id-1 div.sk-toggleable__content {max-height: 0;max-width: 0;overflow: hidden;text-align: left;background-color: #f0f8ff;}#sk-container-id-1 div.sk-toggleable__content pre {margin: 0.2em;color: black;border-radius: 0.25em;background-color: #f0f8ff;}#sk-container-id-1 input.sk-toggleable__control:checked~div.sk-toggleable__content {max-height: 200px;max-width: 100%;overflow: auto;}#sk-container-id-1 input.sk-toggleable__control:checked~label.sk-toggleable__label-arrow:before {content: \"▾\";}#sk-container-id-1 div.sk-estimator input.sk-toggleable__control:checked~label.sk-toggleable__label {background-color: #d4ebff;}#sk-container-id-1 div.sk-label input.sk-toggleable__control:checked~label.sk-toggleable__label {background-color: #d4ebff;}#sk-container-id-1 input.sk-hidden--visually {border: 0;clip: rect(1px 1px 1px 1px);clip: rect(1px, 1px, 1px, 1px);height: 1px;margin: -1px;overflow: hidden;padding: 0;position: absolute;width: 1px;}#sk-container-id-1 div.sk-estimator {font-family: monospace;background-color: #f0f8ff;border: 1px dotted black;border-radius: 0.25em;box-sizing: border-box;margin-bottom: 0.5em;}#sk-container-id-1 div.sk-estimator:hover {background-color: #d4ebff;}#sk-container-id-1 div.sk-parallel-item::after {content: \"\";width: 100%;border-bottom: 1px solid gray;flex-grow: 1;}#sk-container-id-1 div.sk-label:hover label.sk-toggleable__label {background-color: #d4ebff;}#sk-container-id-1 div.sk-serial::before {content: \"\";position: absolute;border-left: 1px solid gray;box-sizing: border-box;top: 0;bottom: 0;left: 50%;z-index: 0;}#sk-container-id-1 div.sk-serial {display: flex;flex-direction: column;align-items: center;background-color: white;padding-right: 0.2em;padding-left: 0.2em;position: relative;}#sk-container-id-1 div.sk-item {position: relative;z-index: 1;}#sk-container-id-1 div.sk-parallel {display: flex;align-items: stretch;justify-content: center;background-color: white;position: relative;}#sk-container-id-1 div.sk-item::before, #sk-container-id-1 div.sk-parallel-item::before {content: \"\";position: absolute;border-left: 1px solid gray;box-sizing: border-box;top: 0;bottom: 0;left: 50%;z-index: -1;}#sk-container-id-1 div.sk-parallel-item {display: flex;flex-direction: column;z-index: 1;position: relative;background-color: white;}#sk-container-id-1 div.sk-parallel-item:first-child::after {align-self: flex-end;width: 50%;}#sk-container-id-1 div.sk-parallel-item:last-child::after {align-self: flex-start;width: 50%;}#sk-container-id-1 div.sk-parallel-item:only-child::after {width: 0;}#sk-container-id-1 div.sk-dashed-wrapped {border: 1px dashed gray;margin: 0 0.4em 0.5em 0.4em;box-sizing: border-box;padding-bottom: 0.4em;background-color: white;}#sk-container-id-1 div.sk-label label {font-family: monospace;font-weight: bold;display: inline-block;line-height: 1.2em;}#sk-container-id-1 div.sk-label-container {text-align: center;}#sk-container-id-1 div.sk-container {/* jupyter's `normalize.less` sets `[hidden] { display: none; }` but bootstrap.min.css set `[hidden] { display: none !important; }` so we also need the `!important` here to be able to override the default hidden behavior on the sphinx rendered scikit-learn.org. See: https://github.com/scikit-learn/scikit-learn/issues/21755 */display: inline-block !important;position: relative;}#sk-container-id-1 div.sk-text-repr-fallback {display: none;}</style><div id=\"sk-container-id-1\" class=\"sk-top-container\"><div class=\"sk-text-repr-fallback\"><pre>LinearRegression()</pre><b>In a Jupyter environment, please rerun this cell to show the HTML representation or trust the notebook. <br />On GitHub, the HTML representation is unable to render, please try loading this page with nbviewer.org.</b></div><div class=\"sk-container\" hidden><div class=\"sk-item\"><div class=\"sk-estimator sk-toggleable\"><input class=\"sk-toggleable__control sk-hidden--visually\" id=\"sk-estimator-id-1\" type=\"checkbox\" checked><label for=\"sk-estimator-id-1\" class=\"sk-toggleable__label sk-toggleable__label-arrow\">LinearRegression</label><div class=\"sk-toggleable__content\"><pre>LinearRegression()</pre></div></div></div></div></div>"
      ],
      "text/plain": [
       "LinearRegression()"
      ]
     },
     "execution_count": 42,
     "metadata": {},
     "output_type": "execute_result"
    }
   ],
   "source": [
    "%%time\n",
    "\n",
    "model = LinearRegression()\n",
    "model.fit(ohe_features_train, target_train)"
   ]
  },
  {
   "cell_type": "code",
   "execution_count": 43,
   "metadata": {},
   "outputs": [
    {
     "name": "stdout",
     "output_type": "stream",
     "text": [
      "CPU times: total: 1.12 s\n",
      "Wall time: 903 ms\n"
     ]
    }
   ],
   "source": [
    "%%time\n",
    "\n",
    "target_predict = model.predict(ohe_features_valid)"
   ]
  },
  {
   "cell_type": "code",
   "execution_count": 44,
   "metadata": {},
   "outputs": [],
   "source": [
    "final_RMSE_LR = mean_squared_error(target_train, target_predict) ** 0.5"
   ]
  },
  {
   "cell_type": "markdown",
   "metadata": {},
   "source": [
    "### Ridge"
   ]
  },
  {
   "cell_type": "code",
   "execution_count": 45,
   "metadata": {},
   "outputs": [
    {
     "name": "stdout",
     "output_type": "stream",
     "text": [
      "CPU times: total: 1min 30s\n",
      "Wall time: 16.5 s\n"
     ]
    },
    {
     "data": {
      "text/html": [
       "<style>#sk-container-id-2 {color: black;background-color: white;}#sk-container-id-2 pre{padding: 0;}#sk-container-id-2 div.sk-toggleable {background-color: white;}#sk-container-id-2 label.sk-toggleable__label {cursor: pointer;display: block;width: 100%;margin-bottom: 0;padding: 0.3em;box-sizing: border-box;text-align: center;}#sk-container-id-2 label.sk-toggleable__label-arrow:before {content: \"▸\";float: left;margin-right: 0.25em;color: #696969;}#sk-container-id-2 label.sk-toggleable__label-arrow:hover:before {color: black;}#sk-container-id-2 div.sk-estimator:hover label.sk-toggleable__label-arrow:before {color: black;}#sk-container-id-2 div.sk-toggleable__content {max-height: 0;max-width: 0;overflow: hidden;text-align: left;background-color: #f0f8ff;}#sk-container-id-2 div.sk-toggleable__content pre {margin: 0.2em;color: black;border-radius: 0.25em;background-color: #f0f8ff;}#sk-container-id-2 input.sk-toggleable__control:checked~div.sk-toggleable__content {max-height: 200px;max-width: 100%;overflow: auto;}#sk-container-id-2 input.sk-toggleable__control:checked~label.sk-toggleable__label-arrow:before {content: \"▾\";}#sk-container-id-2 div.sk-estimator input.sk-toggleable__control:checked~label.sk-toggleable__label {background-color: #d4ebff;}#sk-container-id-2 div.sk-label input.sk-toggleable__control:checked~label.sk-toggleable__label {background-color: #d4ebff;}#sk-container-id-2 input.sk-hidden--visually {border: 0;clip: rect(1px 1px 1px 1px);clip: rect(1px, 1px, 1px, 1px);height: 1px;margin: -1px;overflow: hidden;padding: 0;position: absolute;width: 1px;}#sk-container-id-2 div.sk-estimator {font-family: monospace;background-color: #f0f8ff;border: 1px dotted black;border-radius: 0.25em;box-sizing: border-box;margin-bottom: 0.5em;}#sk-container-id-2 div.sk-estimator:hover {background-color: #d4ebff;}#sk-container-id-2 div.sk-parallel-item::after {content: \"\";width: 100%;border-bottom: 1px solid gray;flex-grow: 1;}#sk-container-id-2 div.sk-label:hover label.sk-toggleable__label {background-color: #d4ebff;}#sk-container-id-2 div.sk-serial::before {content: \"\";position: absolute;border-left: 1px solid gray;box-sizing: border-box;top: 0;bottom: 0;left: 50%;z-index: 0;}#sk-container-id-2 div.sk-serial {display: flex;flex-direction: column;align-items: center;background-color: white;padding-right: 0.2em;padding-left: 0.2em;position: relative;}#sk-container-id-2 div.sk-item {position: relative;z-index: 1;}#sk-container-id-2 div.sk-parallel {display: flex;align-items: stretch;justify-content: center;background-color: white;position: relative;}#sk-container-id-2 div.sk-item::before, #sk-container-id-2 div.sk-parallel-item::before {content: \"\";position: absolute;border-left: 1px solid gray;box-sizing: border-box;top: 0;bottom: 0;left: 50%;z-index: -1;}#sk-container-id-2 div.sk-parallel-item {display: flex;flex-direction: column;z-index: 1;position: relative;background-color: white;}#sk-container-id-2 div.sk-parallel-item:first-child::after {align-self: flex-end;width: 50%;}#sk-container-id-2 div.sk-parallel-item:last-child::after {align-self: flex-start;width: 50%;}#sk-container-id-2 div.sk-parallel-item:only-child::after {width: 0;}#sk-container-id-2 div.sk-dashed-wrapped {border: 1px dashed gray;margin: 0 0.4em 0.5em 0.4em;box-sizing: border-box;padding-bottom: 0.4em;background-color: white;}#sk-container-id-2 div.sk-label label {font-family: monospace;font-weight: bold;display: inline-block;line-height: 1.2em;}#sk-container-id-2 div.sk-label-container {text-align: center;}#sk-container-id-2 div.sk-container {/* jupyter's `normalize.less` sets `[hidden] { display: none; }` but bootstrap.min.css set `[hidden] { display: none !important; }` so we also need the `!important` here to be able to override the default hidden behavior on the sphinx rendered scikit-learn.org. See: https://github.com/scikit-learn/scikit-learn/issues/21755 */display: inline-block !important;position: relative;}#sk-container-id-2 div.sk-text-repr-fallback {display: none;}</style><div id=\"sk-container-id-2\" class=\"sk-top-container\"><div class=\"sk-text-repr-fallback\"><pre>Ridge(solver=&#x27;svd&#x27;)</pre><b>In a Jupyter environment, please rerun this cell to show the HTML representation or trust the notebook. <br />On GitHub, the HTML representation is unable to render, please try loading this page with nbviewer.org.</b></div><div class=\"sk-container\" hidden><div class=\"sk-item\"><div class=\"sk-estimator sk-toggleable\"><input class=\"sk-toggleable__control sk-hidden--visually\" id=\"sk-estimator-id-2\" type=\"checkbox\" checked><label for=\"sk-estimator-id-2\" class=\"sk-toggleable__label sk-toggleable__label-arrow\">Ridge</label><div class=\"sk-toggleable__content\"><pre>Ridge(solver=&#x27;svd&#x27;)</pre></div></div></div></div></div>"
      ],
      "text/plain": [
       "Ridge(solver='svd')"
      ]
     },
     "execution_count": 45,
     "metadata": {},
     "output_type": "execute_result"
    }
   ],
   "source": [
    "%%time\n",
    "\n",
    "model = Ridge(solver='svd')\n",
    "model.fit(ohe_features_train, target_train)"
   ]
  },
  {
   "cell_type": "code",
   "execution_count": 46,
   "metadata": {},
   "outputs": [
    {
     "name": "stdout",
     "output_type": "stream",
     "text": [
      "CPU times: total: 1 s\n",
      "Wall time: 696 ms\n"
     ]
    }
   ],
   "source": [
    "%%time\n",
    "\n",
    "target_predict = model.predict(ohe_features_valid)"
   ]
  },
  {
   "cell_type": "code",
   "execution_count": 47,
   "metadata": {},
   "outputs": [],
   "source": [
    "final_RMSE_R = mean_squared_error(target_train, target_predict) ** 0.5"
   ]
  },
  {
   "cell_type": "markdown",
   "metadata": {},
   "source": [
    "### CatBoostRegressor"
   ]
  },
  {
   "cell_type": "code",
   "execution_count": 48,
   "metadata": {},
   "outputs": [
    {
     "name": "stdout",
     "output_type": "stream",
     "text": [
      "CPU times: total: 1min 22s\n",
      "Wall time: 13.9 s\n"
     ]
    },
    {
     "data": {
      "text/plain": [
       "<catboost.core.CatBoostRegressor at 0x14280f52020>"
      ]
     },
     "execution_count": 48,
     "metadata": {},
     "output_type": "execute_result"
    }
   ],
   "source": [
    "%%time\n",
    "\n",
    "model = CatBoostRegressor(learning_rate=0.5, \n",
    "                          random_state=19072020, \n",
    "                          verbose=False) \n",
    "model.fit(ohe_features_train, target_train)"
   ]
  },
  {
   "cell_type": "code",
   "execution_count": 49,
   "metadata": {},
   "outputs": [
    {
     "name": "stdout",
     "output_type": "stream",
     "text": [
      "CPU times: total: 2.06 s\n",
      "Wall time: 329 ms\n"
     ]
    }
   ],
   "source": [
    "%%time\n",
    "\n",
    "target_predict = model.predict(ohe_features_valid)"
   ]
  },
  {
   "cell_type": "code",
   "execution_count": 50,
   "metadata": {},
   "outputs": [],
   "source": [
    "final_RMSE_CBR_ordinal = mean_squared_error(target_train, target_predict) ** 0.5"
   ]
  },
  {
   "cell_type": "code",
   "execution_count": 51,
   "metadata": {},
   "outputs": [
    {
     "name": "stdout",
     "output_type": "stream",
     "text": [
      "CPU times: total: 14.6 s\n",
      "Wall time: 2.21 s\n"
     ]
    },
    {
     "data": {
      "text/plain": [
       "<catboost.core.CatBoostRegressor at 0x142ec38ece0>"
      ]
     },
     "execution_count": 51,
     "metadata": {},
     "output_type": "execute_result"
    }
   ],
   "source": [
    "%%time\n",
    "\n",
    "model = CatBoostRegressor(learning_rate=0.5, \n",
    "                          iterations = 200, \n",
    "                          random_state=19072020, \n",
    "                          verbose=False) \n",
    "model.fit(oe_features_train, target_train)"
   ]
  },
  {
   "cell_type": "code",
   "execution_count": 52,
   "metadata": {},
   "outputs": [
    {
     "name": "stdout",
     "output_type": "stream",
     "text": [
      "CPU times: total: 15.6 ms\n",
      "Wall time: 11.1 ms\n"
     ]
    }
   ],
   "source": [
    "%%time\n",
    "\n",
    "target_predict = model.predict(oe_features_valid)"
   ]
  },
  {
   "cell_type": "code",
   "execution_count": 53,
   "metadata": {},
   "outputs": [],
   "source": [
    "final_RMSE_CBR_original = mean_squared_error(target_valid, target_predict) ** 0.5"
   ]
  },
  {
   "cell_type": "markdown",
   "metadata": {},
   "source": [
    "### LGBMRegressor"
   ]
  },
  {
   "cell_type": "code",
   "execution_count": 74,
   "metadata": {},
   "outputs": [
    {
     "name": "stdout",
     "output_type": "stream",
     "text": [
      "CPU times: total: 8.59 s\n",
      "Wall time: 1.32 s\n"
     ]
    },
    {
     "data": {
      "text/html": [
       "<style>#sk-container-id-7 {color: black;background-color: white;}#sk-container-id-7 pre{padding: 0;}#sk-container-id-7 div.sk-toggleable {background-color: white;}#sk-container-id-7 label.sk-toggleable__label {cursor: pointer;display: block;width: 100%;margin-bottom: 0;padding: 0.3em;box-sizing: border-box;text-align: center;}#sk-container-id-7 label.sk-toggleable__label-arrow:before {content: \"▸\";float: left;margin-right: 0.25em;color: #696969;}#sk-container-id-7 label.sk-toggleable__label-arrow:hover:before {color: black;}#sk-container-id-7 div.sk-estimator:hover label.sk-toggleable__label-arrow:before {color: black;}#sk-container-id-7 div.sk-toggleable__content {max-height: 0;max-width: 0;overflow: hidden;text-align: left;background-color: #f0f8ff;}#sk-container-id-7 div.sk-toggleable__content pre {margin: 0.2em;color: black;border-radius: 0.25em;background-color: #f0f8ff;}#sk-container-id-7 input.sk-toggleable__control:checked~div.sk-toggleable__content {max-height: 200px;max-width: 100%;overflow: auto;}#sk-container-id-7 input.sk-toggleable__control:checked~label.sk-toggleable__label-arrow:before {content: \"▾\";}#sk-container-id-7 div.sk-estimator input.sk-toggleable__control:checked~label.sk-toggleable__label {background-color: #d4ebff;}#sk-container-id-7 div.sk-label input.sk-toggleable__control:checked~label.sk-toggleable__label {background-color: #d4ebff;}#sk-container-id-7 input.sk-hidden--visually {border: 0;clip: rect(1px 1px 1px 1px);clip: rect(1px, 1px, 1px, 1px);height: 1px;margin: -1px;overflow: hidden;padding: 0;position: absolute;width: 1px;}#sk-container-id-7 div.sk-estimator {font-family: monospace;background-color: #f0f8ff;border: 1px dotted black;border-radius: 0.25em;box-sizing: border-box;margin-bottom: 0.5em;}#sk-container-id-7 div.sk-estimator:hover {background-color: #d4ebff;}#sk-container-id-7 div.sk-parallel-item::after {content: \"\";width: 100%;border-bottom: 1px solid gray;flex-grow: 1;}#sk-container-id-7 div.sk-label:hover label.sk-toggleable__label {background-color: #d4ebff;}#sk-container-id-7 div.sk-serial::before {content: \"\";position: absolute;border-left: 1px solid gray;box-sizing: border-box;top: 0;bottom: 0;left: 50%;z-index: 0;}#sk-container-id-7 div.sk-serial {display: flex;flex-direction: column;align-items: center;background-color: white;padding-right: 0.2em;padding-left: 0.2em;position: relative;}#sk-container-id-7 div.sk-item {position: relative;z-index: 1;}#sk-container-id-7 div.sk-parallel {display: flex;align-items: stretch;justify-content: center;background-color: white;position: relative;}#sk-container-id-7 div.sk-item::before, #sk-container-id-7 div.sk-parallel-item::before {content: \"\";position: absolute;border-left: 1px solid gray;box-sizing: border-box;top: 0;bottom: 0;left: 50%;z-index: -1;}#sk-container-id-7 div.sk-parallel-item {display: flex;flex-direction: column;z-index: 1;position: relative;background-color: white;}#sk-container-id-7 div.sk-parallel-item:first-child::after {align-self: flex-end;width: 50%;}#sk-container-id-7 div.sk-parallel-item:last-child::after {align-self: flex-start;width: 50%;}#sk-container-id-7 div.sk-parallel-item:only-child::after {width: 0;}#sk-container-id-7 div.sk-dashed-wrapped {border: 1px dashed gray;margin: 0 0.4em 0.5em 0.4em;box-sizing: border-box;padding-bottom: 0.4em;background-color: white;}#sk-container-id-7 div.sk-label label {font-family: monospace;font-weight: bold;display: inline-block;line-height: 1.2em;}#sk-container-id-7 div.sk-label-container {text-align: center;}#sk-container-id-7 div.sk-container {/* jupyter's `normalize.less` sets `[hidden] { display: none; }` but bootstrap.min.css set `[hidden] { display: none !important; }` so we also need the `!important` here to be able to override the default hidden behavior on the sphinx rendered scikit-learn.org. See: https://github.com/scikit-learn/scikit-learn/issues/21755 */display: inline-block !important;position: relative;}#sk-container-id-7 div.sk-text-repr-fallback {display: none;}</style><div id=\"sk-container-id-7\" class=\"sk-top-container\"><div class=\"sk-text-repr-fallback\"><pre>LGBMRegressor(num_leaves=200, random_state=19072020)</pre><b>In a Jupyter environment, please rerun this cell to show the HTML representation or trust the notebook. <br />On GitHub, the HTML representation is unable to render, please try loading this page with nbviewer.org.</b></div><div class=\"sk-container\" hidden><div class=\"sk-item\"><div class=\"sk-estimator sk-toggleable\"><input class=\"sk-toggleable__control sk-hidden--visually\" id=\"sk-estimator-id-7\" type=\"checkbox\" checked><label for=\"sk-estimator-id-7\" class=\"sk-toggleable__label sk-toggleable__label-arrow\">LGBMRegressor</label><div class=\"sk-toggleable__content\"><pre>LGBMRegressor(num_leaves=200, random_state=19072020)</pre></div></div></div></div></div>"
      ],
      "text/plain": [
       "LGBMRegressor(num_leaves=200, random_state=19072020)"
      ]
     },
     "execution_count": 74,
     "metadata": {},
     "output_type": "execute_result"
    }
   ],
   "source": [
    "%%time\n",
    "\n",
    "model = LGBMRegressor(learning_rate=0.1, \n",
    "                      num_leaves=200, \n",
    "                      random_state=19072020)\n",
    "model.fit(oe_features_train, target_train)"
   ]
  },
  {
   "cell_type": "code",
   "execution_count": 75,
   "metadata": {},
   "outputs": [
    {
     "name": "stdout",
     "output_type": "stream",
     "text": [
      "CPU times: total: 844 ms\n",
      "Wall time: 135 ms\n"
     ]
    }
   ],
   "source": [
    "%%time\n",
    "\n",
    "target_predict = model.predict(oe_features_valid)"
   ]
  },
  {
   "cell_type": "code",
   "execution_count": 76,
   "metadata": {},
   "outputs": [],
   "source": [
    "final_RMSE_LGBMR = mean_squared_error(target_valid, target_predict) ** 0.5"
   ]
  },
  {
   "cell_type": "code",
   "execution_count": 77,
   "metadata": {},
   "outputs": [
    {
     "data": {
      "text/plain": [
       "1578.4954553036048"
      ]
     },
     "execution_count": 77,
     "metadata": {},
     "output_type": "execute_result"
    }
   ],
   "source": [
    "final_RMSE_LGBMR"
   ]
  },
  {
   "cell_type": "markdown",
   "metadata": {},
   "source": [
    "### Сравнение моделей"
   ]
  },
  {
   "cell_type": "code",
   "execution_count": 78,
   "metadata": {},
   "outputs": [
    {
     "data": {
      "text/html": [
       "<div>\n",
       "<style scoped>\n",
       "    .dataframe tbody tr th:only-of-type {\n",
       "        vertical-align: middle;\n",
       "    }\n",
       "\n",
       "    .dataframe tbody tr th {\n",
       "        vertical-align: top;\n",
       "    }\n",
       "\n",
       "    .dataframe thead th {\n",
       "        text-align: right;\n",
       "    }\n",
       "</style>\n",
       "<table border=\"1\" class=\"dataframe\">\n",
       "  <thead>\n",
       "    <tr style=\"text-align: right;\">\n",
       "      <th></th>\n",
       "      <th>RMSE на CV, евро</th>\n",
       "      <th>Время обучения на CV, сек</th>\n",
       "      <th>RMSE модели на тестовой выборке, евро</th>\n",
       "      <th>Время обучения модели, сек</th>\n",
       "      <th>Время предсказания модели, сек</th>\n",
       "      <th>Рейтинг RMSE</th>\n",
       "      <th>Рейтинг времени обучения</th>\n",
       "      <th>Рейтинг времени предсказания</th>\n",
       "      <th>Итоговый рейтинг</th>\n",
       "    </tr>\n",
       "  </thead>\n",
       "  <tbody>\n",
       "    <tr>\n",
       "      <th>LinearRegression</th>\n",
       "      <td>1.023855e+13</td>\n",
       "      <td>57.1</td>\n",
       "      <td>1966.874938</td>\n",
       "      <td>13.20</td>\n",
       "      <td>0.903</td>\n",
       "      <td>1.546743e-10</td>\n",
       "      <td>0.084848</td>\n",
       "      <td>0.012182</td>\n",
       "      <td>0.097030</td>\n",
       "    </tr>\n",
       "    <tr>\n",
       "      <th>Ridge</th>\n",
       "      <td>1.983399e+03</td>\n",
       "      <td>174.0</td>\n",
       "      <td>1967.678419</td>\n",
       "      <td>16.50</td>\n",
       "      <td>0.696</td>\n",
       "      <td>7.984477e-01</td>\n",
       "      <td>0.067879</td>\n",
       "      <td>0.015805</td>\n",
       "      <td>0.882131</td>\n",
       "    </tr>\n",
       "    <tr>\n",
       "      <th>CatBoostRegressor on OE features</th>\n",
       "      <td>1.592713e+03</td>\n",
       "      <td>161.0</td>\n",
       "      <td>1404.194807</td>\n",
       "      <td>13.90</td>\n",
       "      <td>0.329</td>\n",
       "      <td>9.943039e-01</td>\n",
       "      <td>0.080576</td>\n",
       "      <td>0.033435</td>\n",
       "      <td>1.108314</td>\n",
       "    </tr>\n",
       "    <tr>\n",
       "      <th>CatBoostRegressor on original features</th>\n",
       "      <td>1.633969e+03</td>\n",
       "      <td>9.8</td>\n",
       "      <td>1630.357845</td>\n",
       "      <td>2.21</td>\n",
       "      <td>0.011</td>\n",
       "      <td>9.691987e-01</td>\n",
       "      <td>0.506787</td>\n",
       "      <td>1.000000</td>\n",
       "      <td>2.475986</td>\n",
       "    </tr>\n",
       "    <tr>\n",
       "      <th>LGBMRegressor</th>\n",
       "      <td>1.583641e+03</td>\n",
       "      <td>35.1</td>\n",
       "      <td>1578.495455</td>\n",
       "      <td>1.12</td>\n",
       "      <td>0.114</td>\n",
       "      <td>1.000000e+00</td>\n",
       "      <td>1.000000</td>\n",
       "      <td>0.096491</td>\n",
       "      <td>2.096491</td>\n",
       "    </tr>\n",
       "  </tbody>\n",
       "</table>\n",
       "</div>"
      ],
      "text/plain": [
       "                                        RMSE на CV, евро   \n",
       "LinearRegression                            1.023855e+13  \\\n",
       "Ridge                                       1.983399e+03   \n",
       "CatBoostRegressor on OE features            1.592713e+03   \n",
       "CatBoostRegressor on original features      1.633969e+03   \n",
       "LGBMRegressor                               1.583641e+03   \n",
       "\n",
       "                                        Время обучения на CV, сек   \n",
       "LinearRegression                                             57.1  \\\n",
       "Ridge                                                       174.0   \n",
       "CatBoostRegressor on OE features                            161.0   \n",
       "CatBoostRegressor on original features                        9.8   \n",
       "LGBMRegressor                                                35.1   \n",
       "\n",
       "                                        RMSE модели на тестовой выборке, евро   \n",
       "LinearRegression                                                  1966.874938  \\\n",
       "Ridge                                                             1967.678419   \n",
       "CatBoostRegressor on OE features                                  1404.194807   \n",
       "CatBoostRegressor on original features                            1630.357845   \n",
       "LGBMRegressor                                                     1578.495455   \n",
       "\n",
       "                                        Время обучения модели, сек   \n",
       "LinearRegression                                             13.20  \\\n",
       "Ridge                                                        16.50   \n",
       "CatBoostRegressor on OE features                             13.90   \n",
       "CatBoostRegressor on original features                        2.21   \n",
       "LGBMRegressor                                                 1.12   \n",
       "\n",
       "                                        Время предсказания модели, сек   \n",
       "LinearRegression                                                 0.903  \\\n",
       "Ridge                                                            0.696   \n",
       "CatBoostRegressor on OE features                                 0.329   \n",
       "CatBoostRegressor on original features                           0.011   \n",
       "LGBMRegressor                                                    0.114   \n",
       "\n",
       "                                        Рейтинг RMSE   \n",
       "LinearRegression                        1.546743e-10  \\\n",
       "Ridge                                   7.984477e-01   \n",
       "CatBoostRegressor on OE features        9.943039e-01   \n",
       "CatBoostRegressor on original features  9.691987e-01   \n",
       "LGBMRegressor                           1.000000e+00   \n",
       "\n",
       "                                        Рейтинг времени обучения   \n",
       "LinearRegression                                        0.084848  \\\n",
       "Ridge                                                   0.067879   \n",
       "CatBoostRegressor on OE features                        0.080576   \n",
       "CatBoostRegressor on original features                  0.506787   \n",
       "LGBMRegressor                                           1.000000   \n",
       "\n",
       "                                        Рейтинг времени предсказания   \n",
       "LinearRegression                                            0.012182  \\\n",
       "Ridge                                                       0.015805   \n",
       "CatBoostRegressor on OE features                            0.033435   \n",
       "CatBoostRegressor on original features                      1.000000   \n",
       "LGBMRegressor                                               0.096491   \n",
       "\n",
       "                                        Итоговый рейтинг  \n",
       "LinearRegression                                0.097030  \n",
       "Ridge                                           0.882131  \n",
       "CatBoostRegressor on OE features                1.108314  \n",
       "CatBoostRegressor on original features          2.475986  \n",
       "LGBMRegressor                                   2.096491  "
      ]
     },
     "execution_count": 78,
     "metadata": {},
     "output_type": "execute_result"
    }
   ],
   "source": [
    "index = ['LinearRegression',\n",
    "         'Ridge',\n",
    "         'CatBoostRegressor on OE features',\n",
    "         'CatBoostRegressor on original features',\n",
    "         'LGBMRegressor']\n",
    "data = {'RMSE на CV, евро':[cv_RMSE_LR,\n",
    "                            cv_RMSE_R,\n",
    "                            cv_RMSE_CBR_ordinal,\n",
    "                            cv_RMSE_CBR_original,\n",
    "                            cv_RMSE_LGBMR],\n",
    "        'Время обучения на CV, сек':[57.1,\n",
    "                                     174,\n",
    "                                     161,\n",
    "                                     9.8,\n",
    "                                     35.1],\n",
    "        'RMSE модели на тестовой выборке, евро':[final_RMSE_LR,\n",
    "                                                final_RMSE_R,\n",
    "                                                final_RMSE_CBR_ordinal,\n",
    "                                                final_RMSE_CBR_original,\n",
    "                                                final_RMSE_LGBMR],\n",
    "        'Время обучения модели, сек':[13.2,\n",
    "                                      16.5,\n",
    "                                      13.9,\n",
    "                                      2.21,\n",
    "                                      1.12],\n",
    "        'Время предсказания модели, сек':[0.903,\n",
    "                                          0.696,\n",
    "                                          0.329,\n",
    "                                          0.011,\n",
    "                                          0.114]}\n",
    "\n",
    "scores_data = pd.DataFrame(data=data, index=index)\n",
    "scores_data['Рейтинг RMSE'] = (scores_data['RMSE на CV, евро'].min() /\n",
    "                              scores_data['RMSE на CV, евро'])\n",
    "scores_data['Рейтинг времени обучения'] = (scores_data['Время обучения модели, сек'].min() / \n",
    "                              scores_data['Время обучения модели, сек'])\n",
    "scores_data['Рейтинг времени предсказания'] = (scores_data['Время предсказания модели, сек'].min() / \n",
    "                              scores_data['Время предсказания модели, сек'])\n",
    "scores_data['Итоговый рейтинг'] = (scores_data['Рейтинг RMSE'] +\n",
    "                                   scores_data['Рейтинг времени обучения'] +\n",
    "                                   scores_data['Рейтинг времени предсказания'])\n",
    "scores_data"
   ]
  },
  {
   "cell_type": "markdown",
   "metadata": {},
   "source": [
    "### Тестирование наилучшей модели"
   ]
  },
  {
   "cell_type": "code",
   "execution_count": 69,
   "metadata": {},
   "outputs": [
    {
     "name": "stdout",
     "output_type": "stream",
     "text": [
      "CPU times: total: 8.95 s\n",
      "Wall time: 1.27 s\n"
     ]
    },
    {
     "data": {
      "text/html": [
       "<style>#sk-container-id-6 {color: black;background-color: white;}#sk-container-id-6 pre{padding: 0;}#sk-container-id-6 div.sk-toggleable {background-color: white;}#sk-container-id-6 label.sk-toggleable__label {cursor: pointer;display: block;width: 100%;margin-bottom: 0;padding: 0.3em;box-sizing: border-box;text-align: center;}#sk-container-id-6 label.sk-toggleable__label-arrow:before {content: \"▸\";float: left;margin-right: 0.25em;color: #696969;}#sk-container-id-6 label.sk-toggleable__label-arrow:hover:before {color: black;}#sk-container-id-6 div.sk-estimator:hover label.sk-toggleable__label-arrow:before {color: black;}#sk-container-id-6 div.sk-toggleable__content {max-height: 0;max-width: 0;overflow: hidden;text-align: left;background-color: #f0f8ff;}#sk-container-id-6 div.sk-toggleable__content pre {margin: 0.2em;color: black;border-radius: 0.25em;background-color: #f0f8ff;}#sk-container-id-6 input.sk-toggleable__control:checked~div.sk-toggleable__content {max-height: 200px;max-width: 100%;overflow: auto;}#sk-container-id-6 input.sk-toggleable__control:checked~label.sk-toggleable__label-arrow:before {content: \"▾\";}#sk-container-id-6 div.sk-estimator input.sk-toggleable__control:checked~label.sk-toggleable__label {background-color: #d4ebff;}#sk-container-id-6 div.sk-label input.sk-toggleable__control:checked~label.sk-toggleable__label {background-color: #d4ebff;}#sk-container-id-6 input.sk-hidden--visually {border: 0;clip: rect(1px 1px 1px 1px);clip: rect(1px, 1px, 1px, 1px);height: 1px;margin: -1px;overflow: hidden;padding: 0;position: absolute;width: 1px;}#sk-container-id-6 div.sk-estimator {font-family: monospace;background-color: #f0f8ff;border: 1px dotted black;border-radius: 0.25em;box-sizing: border-box;margin-bottom: 0.5em;}#sk-container-id-6 div.sk-estimator:hover {background-color: #d4ebff;}#sk-container-id-6 div.sk-parallel-item::after {content: \"\";width: 100%;border-bottom: 1px solid gray;flex-grow: 1;}#sk-container-id-6 div.sk-label:hover label.sk-toggleable__label {background-color: #d4ebff;}#sk-container-id-6 div.sk-serial::before {content: \"\";position: absolute;border-left: 1px solid gray;box-sizing: border-box;top: 0;bottom: 0;left: 50%;z-index: 0;}#sk-container-id-6 div.sk-serial {display: flex;flex-direction: column;align-items: center;background-color: white;padding-right: 0.2em;padding-left: 0.2em;position: relative;}#sk-container-id-6 div.sk-item {position: relative;z-index: 1;}#sk-container-id-6 div.sk-parallel {display: flex;align-items: stretch;justify-content: center;background-color: white;position: relative;}#sk-container-id-6 div.sk-item::before, #sk-container-id-6 div.sk-parallel-item::before {content: \"\";position: absolute;border-left: 1px solid gray;box-sizing: border-box;top: 0;bottom: 0;left: 50%;z-index: -1;}#sk-container-id-6 div.sk-parallel-item {display: flex;flex-direction: column;z-index: 1;position: relative;background-color: white;}#sk-container-id-6 div.sk-parallel-item:first-child::after {align-self: flex-end;width: 50%;}#sk-container-id-6 div.sk-parallel-item:last-child::after {align-self: flex-start;width: 50%;}#sk-container-id-6 div.sk-parallel-item:only-child::after {width: 0;}#sk-container-id-6 div.sk-dashed-wrapped {border: 1px dashed gray;margin: 0 0.4em 0.5em 0.4em;box-sizing: border-box;padding-bottom: 0.4em;background-color: white;}#sk-container-id-6 div.sk-label label {font-family: monospace;font-weight: bold;display: inline-block;line-height: 1.2em;}#sk-container-id-6 div.sk-label-container {text-align: center;}#sk-container-id-6 div.sk-container {/* jupyter's `normalize.less` sets `[hidden] { display: none; }` but bootstrap.min.css set `[hidden] { display: none !important; }` so we also need the `!important` here to be able to override the default hidden behavior on the sphinx rendered scikit-learn.org. See: https://github.com/scikit-learn/scikit-learn/issues/21755 */display: inline-block !important;position: relative;}#sk-container-id-6 div.sk-text-repr-fallback {display: none;}</style><div id=\"sk-container-id-6\" class=\"sk-top-container\"><div class=\"sk-text-repr-fallback\"><pre>LGBMRegressor(num_leaves=200, random_state=19072020)</pre><b>In a Jupyter environment, please rerun this cell to show the HTML representation or trust the notebook. <br />On GitHub, the HTML representation is unable to render, please try loading this page with nbviewer.org.</b></div><div class=\"sk-container\" hidden><div class=\"sk-item\"><div class=\"sk-estimator sk-toggleable\"><input class=\"sk-toggleable__control sk-hidden--visually\" id=\"sk-estimator-id-6\" type=\"checkbox\" checked><label for=\"sk-estimator-id-6\" class=\"sk-toggleable__label sk-toggleable__label-arrow\">LGBMRegressor</label><div class=\"sk-toggleable__content\"><pre>LGBMRegressor(num_leaves=200, random_state=19072020)</pre></div></div></div></div></div>"
      ],
      "text/plain": [
       "LGBMRegressor(num_leaves=200, random_state=19072020)"
      ]
     },
     "execution_count": 69,
     "metadata": {},
     "output_type": "execute_result"
    }
   ],
   "source": [
    "%%time\n",
    "\n",
    "model = LGBMRegressor(learning_rate=0.1, \n",
    "                      num_leaves=200, \n",
    "                      random_state=19072020)\n",
    "model.fit(oe_features_train, target_train)"
   ]
  },
  {
   "cell_type": "code",
   "execution_count": 70,
   "metadata": {},
   "outputs": [
    {
     "name": "stdout",
     "output_type": "stream",
     "text": [
      "CPU times: total: 984 ms\n",
      "Wall time: 139 ms\n"
     ]
    }
   ],
   "source": [
    "%%time\n",
    "\n",
    "target_predict = model.predict(oe_features_test)"
   ]
  },
  {
   "cell_type": "code",
   "execution_count": 71,
   "metadata": {},
   "outputs": [],
   "source": [
    "final_RMSE_LGBMR = mean_squared_error(target_test, target_predict) ** 0.5"
   ]
  },
  {
   "cell_type": "code",
   "execution_count": 72,
   "metadata": {},
   "outputs": [
    {
     "data": {
      "text/plain": [
       "1569.0166458059944"
      ]
     },
     "execution_count": 72,
     "metadata": {},
     "output_type": "execute_result"
    }
   ],
   "source": [
    "final_RMSE_LGBMR"
   ]
  },
  {
   "cell_type": "markdown",
   "metadata": {},
   "source": [
    "### Тестирование наилучшей модели v2"
   ]
  },
  {
   "cell_type": "code",
   "execution_count": 79,
   "metadata": {},
   "outputs": [
    {
     "name": "stdout",
     "output_type": "stream",
     "text": [
      "CPU times: total: 15.2 s\n",
      "Wall time: 2.48 s\n"
     ]
    },
    {
     "data": {
      "text/plain": [
       "<catboost.core.CatBoostRegressor at 0x14280f51420>"
      ]
     },
     "execution_count": 79,
     "metadata": {},
     "output_type": "execute_result"
    }
   ],
   "source": [
    "%%time\n",
    "\n",
    "model = CatBoostRegressor(learning_rate=0.5, \n",
    "                          iterations = 200, \n",
    "                          random_state=19072020, \n",
    "                          verbose=False) \n",
    "model.fit(oe_features_train, target_train)"
   ]
  },
  {
   "cell_type": "code",
   "execution_count": 80,
   "metadata": {},
   "outputs": [
    {
     "name": "stdout",
     "output_type": "stream",
     "text": [
      "CPU times: total: 15.6 ms\n",
      "Wall time: 9.99 ms\n"
     ]
    }
   ],
   "source": [
    "%%time\n",
    "\n",
    "target_predict = model.predict(oe_features_test)"
   ]
  },
  {
   "cell_type": "code",
   "execution_count": 81,
   "metadata": {},
   "outputs": [],
   "source": [
    "final_RMSE_CBR_original = mean_squared_error(target_test, target_predict) ** 0.5"
   ]
  },
  {
   "cell_type": "code",
   "execution_count": 82,
   "metadata": {},
   "outputs": [
    {
     "data": {
      "text/plain": [
       "1629.6734089670204"
      ]
     },
     "execution_count": 82,
     "metadata": {},
     "output_type": "execute_result"
    }
   ],
   "source": [
    "final_RMSE_CBR_original"
   ]
  },
  {
   "cell_type": "markdown",
   "metadata": {},
   "source": [
    "## Вывод:"
   ]
  },
  {
   "cell_type": "markdown",
   "metadata": {},
   "source": [
    "    В ходе работы было выполнено:\n",
    "\n",
    "        1) Загружены данные и проведена предобработка.\n",
    "        2) Выполнено сравнение моделей с использованием различных наборов гиперпараметров.\n",
    "        3) Выбрана лучшая модель по результатам метрики RMSE и времени обучения.\n",
    "        \n",
    "    Для общей оценки по трем параметрам был создан относительный рейтинг. 1 получает регрессор с самым минмальным временем\n",
    "    или RMSE. Остальные получают рейтинг как отношение лучшего в столбце к своему значению. Считаем, что все параметры\n",
    "    равнозначны.\n",
    "    \n",
    "    На выбор модели не влияло время обучения на кросвалидации, так как на одном типе данных ее проводят один раз. В то\n",
    "    время переобучить модель на новых данных приходится намного чаще.\n",
    "\n",
    "        1) Лучшей моделью по трем параметрам качество, скорость обучения и скорость предсказания можно считать\n",
    "        LGBMRegressor. Сочетания скорости и точности на подготовленных данных выводит его в лидеры рейтинга. Все\n",
    "        остальные показали себя в целом хуже.\n",
    "        2) Если рассматривать только оценивание точности, то в лидеры выходит LGBMRegressor. Следом за ним идет\n",
    "        CatBoostRegressor и Ridge.\n",
    "        3) LinearRegression и Ridge показали себя хуже всех."
   ]
  }
 ],
 "metadata": {
  "ExecuteTimeLog": [
   {
    "duration": 1573,
    "start_time": "2023-04-24T13:24:33.327Z"
   },
   {
    "duration": 3226,
    "start_time": "2023-04-24T13:26:20.556Z"
   },
   {
    "duration": 4,
    "start_time": "2023-04-24T13:26:34.696Z"
   },
   {
    "duration": 973,
    "start_time": "2023-04-24T13:27:08.596Z"
   },
   {
    "duration": 95,
    "start_time": "2023-04-24T13:27:20.541Z"
   },
   {
    "duration": 105,
    "start_time": "2023-04-24T13:29:44.402Z"
   },
   {
    "duration": 116,
    "start_time": "2023-04-24T13:38:29.461Z"
   },
   {
    "duration": 3,
    "start_time": "2023-04-24T13:38:36.238Z"
   },
   {
    "duration": 292,
    "start_time": "2023-04-24T13:38:36.620Z"
   },
   {
    "duration": 14,
    "start_time": "2023-04-24T14:47:05.144Z"
   },
   {
    "duration": 2078,
    "start_time": "2023-04-24T14:47:47.817Z"
   },
   {
    "duration": 1191,
    "start_time": "2023-04-24T14:47:49.897Z"
   },
   {
    "duration": 109,
    "start_time": "2023-04-24T14:47:51.090Z"
   },
   {
    "duration": 122,
    "start_time": "2023-04-24T14:47:51.201Z"
   },
   {
    "duration": 3,
    "start_time": "2023-04-24T14:47:51.326Z"
   },
   {
    "duration": 322,
    "start_time": "2023-04-24T14:47:51.331Z"
   },
   {
    "duration": 144,
    "start_time": "2023-04-24T14:47:51.654Z"
   },
   {
    "duration": 13,
    "start_time": "2023-04-24T14:48:27.000Z"
   },
   {
    "duration": 13,
    "start_time": "2023-04-24T14:48:43.898Z"
   },
   {
    "duration": 13,
    "start_time": "2023-04-24T14:49:32.993Z"
   },
   {
    "duration": 1505,
    "start_time": "2023-04-24T14:53:43.343Z"
   },
   {
    "duration": 995,
    "start_time": "2023-04-24T14:53:44.850Z"
   },
   {
    "duration": 121,
    "start_time": "2023-04-24T14:53:45.847Z"
   },
   {
    "duration": 124,
    "start_time": "2023-04-24T14:53:45.970Z"
   },
   {
    "duration": 3,
    "start_time": "2023-04-24T14:53:46.096Z"
   },
   {
    "duration": 317,
    "start_time": "2023-04-24T14:53:46.101Z"
   },
   {
    "duration": 105,
    "start_time": "2023-04-24T14:53:46.420Z"
   },
   {
    "duration": 12,
    "start_time": "2023-04-24T14:58:34.789Z"
   },
   {
    "duration": 385,
    "start_time": "2023-04-24T15:00:09.204Z"
   },
   {
    "duration": 14,
    "start_time": "2023-04-24T15:05:59.783Z"
   },
   {
    "duration": 80,
    "start_time": "2023-04-24T15:17:38.991Z"
   },
   {
    "duration": 283,
    "start_time": "2023-04-24T15:18:14.586Z"
   },
   {
    "duration": 81,
    "start_time": "2023-04-24T15:19:01.033Z"
   },
   {
    "duration": 310,
    "start_time": "2023-04-24T15:19:35.520Z"
   },
   {
    "duration": 241,
    "start_time": "2023-04-24T15:20:55.818Z"
   },
   {
    "duration": 70,
    "start_time": "2023-04-24T15:27:46.293Z"
   },
   {
    "duration": 78,
    "start_time": "2023-04-24T15:28:27.477Z"
   },
   {
    "duration": 33,
    "start_time": "2023-04-24T15:29:26.549Z"
   },
   {
    "duration": 99,
    "start_time": "2023-04-24T15:30:34.458Z"
   },
   {
    "duration": 29,
    "start_time": "2023-04-24T15:31:32.174Z"
   },
   {
    "duration": 55,
    "start_time": "2023-04-24T15:32:49.036Z"
   },
   {
    "duration": 3173,
    "start_time": "2023-04-24T15:33:57.950Z"
   },
   {
    "duration": 3399,
    "start_time": "2023-04-24T15:34:55.409Z"
   },
   {
    "duration": 50,
    "start_time": "2023-04-24T15:42:33.110Z"
   },
   {
    "duration": 297,
    "start_time": "2023-04-24T15:43:22.030Z"
   },
   {
    "duration": 642,
    "start_time": "2023-04-24T15:46:12.087Z"
   },
   {
    "duration": 319,
    "start_time": "2023-04-24T15:48:12.772Z"
   },
   {
    "duration": 322,
    "start_time": "2023-04-24T15:48:54.210Z"
   },
   {
    "duration": 52,
    "start_time": "2023-04-24T15:49:08.761Z"
   },
   {
    "duration": 46,
    "start_time": "2023-04-24T15:52:21.721Z"
   },
   {
    "duration": 2264,
    "start_time": "2023-04-24T15:52:39.695Z"
   },
   {
    "duration": 39,
    "start_time": "2023-04-24T15:53:14.007Z"
   },
   {
    "duration": 39,
    "start_time": "2023-04-24T15:54:32.095Z"
   },
   {
    "duration": 18,
    "start_time": "2023-04-24T15:56:17.195Z"
   },
   {
    "duration": 95,
    "start_time": "2023-04-24T15:56:37.962Z"
   },
   {
    "duration": 4,
    "start_time": "2023-04-24T15:58:02.321Z"
   },
   {
    "duration": 13,
    "start_time": "2023-04-25T10:59:22.219Z"
   },
   {
    "duration": 4,
    "start_time": "2023-04-25T11:10:14.076Z"
   },
   {
    "duration": 4,
    "start_time": "2023-04-25T11:10:50.703Z"
   },
   {
    "duration": 107,
    "start_time": "2023-04-25T11:10:57.684Z"
   },
   {
    "duration": 91,
    "start_time": "2023-04-25T11:11:09.302Z"
   },
   {
    "duration": 5,
    "start_time": "2023-04-25T11:11:16.716Z"
   },
   {
    "duration": 5,
    "start_time": "2023-04-25T11:11:37.630Z"
   },
   {
    "duration": 63,
    "start_time": "2023-04-25T11:18:27.736Z"
   },
   {
    "duration": 2040,
    "start_time": "2023-04-25T11:19:23.821Z"
   },
   {
    "duration": 1558,
    "start_time": "2023-04-25T11:19:25.866Z"
   },
   {
    "duration": 152,
    "start_time": "2023-04-25T11:19:27.427Z"
   },
   {
    "duration": 145,
    "start_time": "2023-04-25T11:19:27.581Z"
   },
   {
    "duration": 30,
    "start_time": "2023-04-25T11:19:27.745Z"
   },
   {
    "duration": 472,
    "start_time": "2023-04-25T11:19:27.777Z"
   },
   {
    "duration": 136,
    "start_time": "2023-04-25T11:19:28.251Z"
   },
   {
    "duration": 16,
    "start_time": "2023-04-25T11:19:28.389Z"
   },
   {
    "duration": 504,
    "start_time": "2023-04-25T11:19:28.407Z"
   },
   {
    "duration": 33,
    "start_time": "2023-04-25T11:19:28.914Z"
   },
   {
    "duration": 140,
    "start_time": "2023-04-25T11:19:28.953Z"
   },
   {
    "duration": 490,
    "start_time": "2023-04-25T11:19:29.095Z"
   },
   {
    "duration": 93,
    "start_time": "2023-04-25T11:19:29.588Z"
   },
   {
    "duration": 444,
    "start_time": "2023-04-25T11:19:29.684Z"
   },
   {
    "duration": 391,
    "start_time": "2023-04-25T11:19:30.131Z"
   },
   {
    "duration": 166,
    "start_time": "2023-04-25T11:19:30.525Z"
   },
   {
    "duration": 59,
    "start_time": "2023-04-25T11:19:30.693Z"
   },
   {
    "duration": 227,
    "start_time": "2023-04-25T11:19:30.755Z"
   },
   {
    "duration": 37,
    "start_time": "2023-04-25T11:19:30.984Z"
   },
   {
    "duration": 191,
    "start_time": "2023-04-25T11:19:31.024Z"
   },
   {
    "duration": 3805,
    "start_time": "2023-04-25T11:19:31.218Z"
   },
   {
    "duration": 4164,
    "start_time": "2023-04-25T11:19:35.025Z"
   },
   {
    "duration": 65,
    "start_time": "2023-04-25T11:19:39.191Z"
   },
   {
    "duration": 374,
    "start_time": "2023-04-25T11:19:39.258Z"
   },
   {
    "duration": 390,
    "start_time": "2023-04-25T11:19:39.634Z"
   },
   {
    "duration": 407,
    "start_time": "2023-04-25T11:19:40.026Z"
   },
   {
    "duration": 590,
    "start_time": "2023-04-25T11:19:40.440Z"
   },
   {
    "duration": 77,
    "start_time": "2023-04-25T11:19:41.033Z"
   },
   {
    "duration": 66,
    "start_time": "2023-04-25T11:19:41.112Z"
   },
   {
    "duration": 64,
    "start_time": "2023-04-25T11:19:41.180Z"
   },
   {
    "duration": 130,
    "start_time": "2023-04-25T11:19:41.246Z"
   },
   {
    "duration": 4,
    "start_time": "2023-04-25T11:19:41.378Z"
   },
   {
    "duration": 19,
    "start_time": "2023-04-25T11:19:41.384Z"
   },
   {
    "duration": 1200,
    "start_time": "2023-04-25T11:21:41.206Z"
   },
   {
    "duration": 449,
    "start_time": "2023-04-25T11:22:02.432Z"
   },
   {
    "duration": 160277,
    "start_time": "2023-04-25T11:24:54.169Z"
   },
   {
    "duration": 131,
    "start_time": "2023-04-25T11:43:46.988Z"
   },
   {
    "duration": 2451,
    "start_time": "2023-04-25T11:44:01.896Z"
   },
   {
    "duration": 2636,
    "start_time": "2023-04-25T11:44:04.352Z"
   },
   {
    "duration": 352,
    "start_time": "2023-04-25T11:44:06.990Z"
   },
   {
    "duration": 323,
    "start_time": "2023-04-25T11:44:07.351Z"
   },
   {
    "duration": 66,
    "start_time": "2023-04-25T11:44:07.677Z"
   },
   {
    "duration": 906,
    "start_time": "2023-04-25T11:44:07.745Z"
   },
   {
    "duration": 223,
    "start_time": "2023-04-25T11:44:08.654Z"
   },
   {
    "duration": 84,
    "start_time": "2023-04-25T11:44:08.880Z"
   },
   {
    "duration": 706,
    "start_time": "2023-04-25T11:44:08.968Z"
   },
   {
    "duration": 16,
    "start_time": "2023-04-25T11:44:09.677Z"
   },
   {
    "duration": 129,
    "start_time": "2023-04-25T11:44:09.695Z"
   },
   {
    "duration": 460,
    "start_time": "2023-04-25T11:44:09.826Z"
   },
   {
    "duration": 87,
    "start_time": "2023-04-25T11:44:10.288Z"
   },
   {
    "duration": 392,
    "start_time": "2023-04-25T11:44:10.377Z"
   },
   {
    "duration": 312,
    "start_time": "2023-04-25T11:44:10.772Z"
   },
   {
    "duration": 107,
    "start_time": "2023-04-25T11:44:11.086Z"
   },
   {
    "duration": 60,
    "start_time": "2023-04-25T11:44:11.195Z"
   },
   {
    "duration": 145,
    "start_time": "2023-04-25T11:44:11.260Z"
   },
   {
    "duration": 60,
    "start_time": "2023-04-25T11:44:11.407Z"
   },
   {
    "duration": 81,
    "start_time": "2023-04-25T11:44:11.469Z"
   },
   {
    "duration": 3741,
    "start_time": "2023-04-25T11:44:11.556Z"
   },
   {
    "duration": 4160,
    "start_time": "2023-04-25T11:44:15.299Z"
   },
   {
    "duration": 57,
    "start_time": "2023-04-25T11:44:19.461Z"
   },
   {
    "duration": 394,
    "start_time": "2023-04-25T11:44:19.520Z"
   },
   {
    "duration": 398,
    "start_time": "2023-04-25T11:44:19.916Z"
   },
   {
    "duration": 408,
    "start_time": "2023-04-25T11:44:20.316Z"
   },
   {
    "duration": 573,
    "start_time": "2023-04-25T11:44:20.726Z"
   },
   {
    "duration": 74,
    "start_time": "2023-04-25T11:44:21.303Z"
   },
   {
    "duration": 56,
    "start_time": "2023-04-25T11:44:21.379Z"
   },
   {
    "duration": 56,
    "start_time": "2023-04-25T11:44:21.445Z"
   },
   {
    "duration": 150,
    "start_time": "2023-04-25T11:44:21.503Z"
   },
   {
    "duration": 5,
    "start_time": "2023-04-25T11:44:21.664Z"
   },
   {
    "duration": 1105,
    "start_time": "2023-04-25T11:44:21.671Z"
   },
   {
    "duration": 449,
    "start_time": "2023-04-25T11:44:22.778Z"
   },
   {
    "duration": 166832,
    "start_time": "2023-04-25T11:44:23.229Z"
   },
   {
    "duration": 243,
    "start_time": "2023-04-25T12:53:24.429Z"
   },
   {
    "duration": 2125,
    "start_time": "2023-04-25T12:54:30.450Z"
   },
   {
    "duration": 2290,
    "start_time": "2023-04-25T12:54:32.577Z"
   },
   {
    "duration": 156,
    "start_time": "2023-04-25T12:54:34.869Z"
   },
   {
    "duration": 135,
    "start_time": "2023-04-25T12:54:35.028Z"
   },
   {
    "duration": 3,
    "start_time": "2023-04-25T12:54:35.165Z"
   },
   {
    "duration": 402,
    "start_time": "2023-04-25T12:54:35.170Z"
   },
   {
    "duration": 143,
    "start_time": "2023-04-25T12:54:35.574Z"
   },
   {
    "duration": 36,
    "start_time": "2023-04-25T12:54:35.720Z"
   },
   {
    "duration": 411,
    "start_time": "2023-04-25T12:54:35.767Z"
   },
   {
    "duration": 14,
    "start_time": "2023-04-25T12:54:36.181Z"
   },
   {
    "duration": 118,
    "start_time": "2023-04-25T12:54:36.198Z"
   },
   {
    "duration": 563,
    "start_time": "2023-04-25T12:54:36.317Z"
   },
   {
    "duration": 73,
    "start_time": "2023-04-25T12:54:36.883Z"
   },
   {
    "duration": 386,
    "start_time": "2023-04-25T12:54:36.959Z"
   },
   {
    "duration": 283,
    "start_time": "2023-04-25T12:54:37.347Z"
   },
   {
    "duration": 109,
    "start_time": "2023-04-25T12:54:37.632Z"
   },
   {
    "duration": 40,
    "start_time": "2023-04-25T12:54:37.744Z"
   },
   {
    "duration": 189,
    "start_time": "2023-04-25T12:54:37.786Z"
   },
   {
    "duration": 35,
    "start_time": "2023-04-25T12:54:37.977Z"
   },
   {
    "duration": 75,
    "start_time": "2023-04-25T12:54:38.014Z"
   },
   {
    "duration": 3630,
    "start_time": "2023-04-25T12:54:38.092Z"
   },
   {
    "duration": 3823,
    "start_time": "2023-04-25T12:54:41.724Z"
   },
   {
    "duration": 54,
    "start_time": "2023-04-25T12:54:45.550Z"
   },
   {
    "duration": 401,
    "start_time": "2023-04-25T12:54:45.606Z"
   },
   {
    "duration": 394,
    "start_time": "2023-04-25T12:54:46.010Z"
   },
   {
    "duration": 422,
    "start_time": "2023-04-25T12:54:46.406Z"
   },
   {
    "duration": 570,
    "start_time": "2023-04-25T12:54:46.830Z"
   },
   {
    "duration": 69,
    "start_time": "2023-04-25T12:54:47.404Z"
   },
   {
    "duration": 69,
    "start_time": "2023-04-25T12:54:47.477Z"
   },
   {
    "duration": 44,
    "start_time": "2023-04-25T12:54:47.548Z"
   },
   {
    "duration": 137,
    "start_time": "2023-04-25T12:54:47.594Z"
   },
   {
    "duration": 10,
    "start_time": "2023-04-25T12:54:47.733Z"
   },
   {
    "duration": 1090,
    "start_time": "2023-04-25T12:54:47.745Z"
   },
   {
    "duration": 441,
    "start_time": "2023-04-25T12:54:48.837Z"
   },
   {
    "duration": 5,
    "start_time": "2023-04-25T14:35:33.621Z"
   },
   {
    "duration": 1782,
    "start_time": "2023-04-25T14:35:48.005Z"
   },
   {
    "duration": 1285,
    "start_time": "2023-04-25T14:35:49.790Z"
   },
   {
    "duration": 151,
    "start_time": "2023-04-25T14:35:51.077Z"
   },
   {
    "duration": 131,
    "start_time": "2023-04-25T14:35:51.230Z"
   },
   {
    "duration": 16,
    "start_time": "2023-04-25T14:35:51.364Z"
   },
   {
    "duration": 401,
    "start_time": "2023-04-25T14:35:51.382Z"
   },
   {
    "duration": 132,
    "start_time": "2023-04-25T14:35:51.785Z"
   },
   {
    "duration": 29,
    "start_time": "2023-04-25T14:35:51.920Z"
   },
   {
    "duration": 442,
    "start_time": "2023-04-25T14:35:51.953Z"
   },
   {
    "duration": 15,
    "start_time": "2023-04-25T14:35:52.397Z"
   },
   {
    "duration": 112,
    "start_time": "2023-04-25T14:35:52.413Z"
   },
   {
    "duration": 449,
    "start_time": "2023-04-25T14:35:52.527Z"
   },
   {
    "duration": 85,
    "start_time": "2023-04-25T14:35:52.979Z"
   },
   {
    "duration": 389,
    "start_time": "2023-04-25T14:35:53.068Z"
   },
   {
    "duration": 300,
    "start_time": "2023-04-25T14:35:53.460Z"
   },
   {
    "duration": 110,
    "start_time": "2023-04-25T14:35:53.762Z"
   },
   {
    "duration": 37,
    "start_time": "2023-04-25T14:35:53.874Z"
   },
   {
    "duration": 147,
    "start_time": "2023-04-25T14:35:53.913Z"
   },
   {
    "duration": 35,
    "start_time": "2023-04-25T14:35:54.062Z"
   },
   {
    "duration": 81,
    "start_time": "2023-04-25T14:35:54.100Z"
   },
   {
    "duration": 3713,
    "start_time": "2023-04-25T14:35:54.183Z"
   },
   {
    "duration": 3990,
    "start_time": "2023-04-25T14:35:57.898Z"
   },
   {
    "duration": 66,
    "start_time": "2023-04-25T14:36:01.890Z"
   },
   {
    "duration": 423,
    "start_time": "2023-04-25T14:36:01.958Z"
   },
   {
    "duration": 378,
    "start_time": "2023-04-25T14:36:02.384Z"
   },
   {
    "duration": 397,
    "start_time": "2023-04-25T14:36:02.764Z"
   },
   {
    "duration": 540,
    "start_time": "2023-04-25T14:36:03.163Z"
   },
   {
    "duration": 64,
    "start_time": "2023-04-25T14:36:03.705Z"
   },
   {
    "duration": 45,
    "start_time": "2023-04-25T14:36:03.771Z"
   },
   {
    "duration": 49,
    "start_time": "2023-04-25T14:36:03.841Z"
   },
   {
    "duration": 127,
    "start_time": "2023-04-25T14:36:03.892Z"
   },
   {
    "duration": 3,
    "start_time": "2023-04-25T14:36:04.021Z"
   },
   {
    "duration": 1050,
    "start_time": "2023-04-25T14:36:04.026Z"
   },
   {
    "duration": 453,
    "start_time": "2023-04-25T14:36:05.078Z"
   },
   {
    "duration": 8408,
    "start_time": "2023-04-28T21:01:17.952Z"
   },
   {
    "duration": 1132,
    "start_time": "2023-04-28T21:01:26.362Z"
   },
   {
    "duration": 121,
    "start_time": "2023-04-28T21:01:27.495Z"
   },
   {
    "duration": 132,
    "start_time": "2023-04-28T21:01:27.617Z"
   },
   {
    "duration": 3,
    "start_time": "2023-04-28T21:01:27.751Z"
   },
   {
    "duration": 372,
    "start_time": "2023-04-28T21:01:27.756Z"
   },
   {
    "duration": 123,
    "start_time": "2023-04-28T21:01:28.130Z"
   },
   {
    "duration": 13,
    "start_time": "2023-04-28T21:01:28.255Z"
   },
   {
    "duration": 415,
    "start_time": "2023-04-28T21:01:28.269Z"
   },
   {
    "duration": 16,
    "start_time": "2023-04-28T21:01:28.689Z"
   },
   {
    "duration": 109,
    "start_time": "2023-04-28T21:01:28.706Z"
   },
   {
    "duration": 406,
    "start_time": "2023-04-28T21:01:28.818Z"
   },
   {
    "duration": 78,
    "start_time": "2023-04-28T21:01:29.226Z"
   },
   {
    "duration": 338,
    "start_time": "2023-04-28T21:01:29.318Z"
   },
   {
    "duration": 280,
    "start_time": "2023-04-28T21:01:29.657Z"
   },
   {
    "duration": 109,
    "start_time": "2023-04-28T21:01:29.939Z"
   },
   {
    "duration": 58,
    "start_time": "2023-04-28T21:01:30.050Z"
   },
   {
    "duration": 146,
    "start_time": "2023-04-28T21:01:30.109Z"
   },
   {
    "duration": 57,
    "start_time": "2023-04-28T21:01:30.257Z"
   },
   {
    "duration": 80,
    "start_time": "2023-04-28T21:01:30.317Z"
   },
   {
    "duration": 3859,
    "start_time": "2023-04-28T21:01:30.398Z"
   },
   {
    "duration": 3890,
    "start_time": "2023-04-28T21:01:34.259Z"
   },
   {
    "duration": 76,
    "start_time": "2023-04-28T21:01:38.151Z"
   },
   {
    "duration": 338,
    "start_time": "2023-04-28T21:01:38.228Z"
   },
   {
    "duration": 355,
    "start_time": "2023-04-28T21:01:38.567Z"
   },
   {
    "duration": 369,
    "start_time": "2023-04-28T21:01:38.924Z"
   },
   {
    "duration": 480,
    "start_time": "2023-04-28T21:01:39.296Z"
   },
   {
    "duration": 71,
    "start_time": "2023-04-28T21:01:39.778Z"
   },
   {
    "duration": 80,
    "start_time": "2023-04-28T21:01:39.851Z"
   },
   {
    "duration": 72,
    "start_time": "2023-04-28T21:01:39.933Z"
   },
   {
    "duration": 108,
    "start_time": "2023-04-28T21:01:40.015Z"
   },
   {
    "duration": 4,
    "start_time": "2023-04-28T21:01:40.125Z"
   },
   {
    "duration": 769,
    "start_time": "2023-04-28T21:01:40.131Z"
   },
   {
    "duration": 360,
    "start_time": "2023-04-28T21:01:40.913Z"
   },
   {
    "duration": 147,
    "start_time": "2023-04-28T21:01:45.974Z"
   },
   {
    "duration": 3,
    "start_time": "2023-04-28T21:02:12.715Z"
   },
   {
    "duration": 16,
    "start_time": "2023-04-28T21:02:13.243Z"
   },
   {
    "duration": 16,
    "start_time": "2023-04-28T21:02:31.349Z"
   },
   {
    "duration": 86,
    "start_time": "2023-04-28T21:02:41.941Z"
   },
   {
    "duration": 7468,
    "start_time": "2023-04-28T21:02:58.756Z"
   },
   {
    "duration": 2340,
    "start_time": "2023-04-28T21:03:10.727Z"
   },
   {
    "duration": 1381,
    "start_time": "2023-04-28T21:03:13.070Z"
   },
   {
    "duration": 1164,
    "start_time": "2023-04-28T21:03:14.453Z"
   },
   {
    "duration": 131,
    "start_time": "2023-04-28T21:03:15.620Z"
   },
   {
    "duration": 125,
    "start_time": "2023-04-28T21:03:15.754Z"
   },
   {
    "duration": 21,
    "start_time": "2023-04-28T21:03:15.881Z"
   },
   {
    "duration": 359,
    "start_time": "2023-04-28T21:03:15.904Z"
   },
   {
    "duration": 114,
    "start_time": "2023-04-28T21:03:16.265Z"
   },
   {
    "duration": 27,
    "start_time": "2023-04-28T21:03:16.381Z"
   },
   {
    "duration": 398,
    "start_time": "2023-04-28T21:03:16.410Z"
   },
   {
    "duration": 14,
    "start_time": "2023-04-28T21:03:16.810Z"
   },
   {
    "duration": 114,
    "start_time": "2023-04-28T21:03:16.826Z"
   },
   {
    "duration": 324,
    "start_time": "2023-04-28T21:03:16.942Z"
   },
   {
    "duration": 82,
    "start_time": "2023-04-28T21:03:17.269Z"
   },
   {
    "duration": 436,
    "start_time": "2023-04-28T21:03:17.353Z"
   },
   {
    "duration": 282,
    "start_time": "2023-04-28T21:03:17.790Z"
   },
   {
    "duration": 97,
    "start_time": "2023-04-28T21:03:18.075Z"
   },
   {
    "duration": 56,
    "start_time": "2023-04-28T21:03:18.174Z"
   },
   {
    "duration": 126,
    "start_time": "2023-04-28T21:03:18.232Z"
   },
   {
    "duration": 57,
    "start_time": "2023-04-28T21:03:18.360Z"
   },
   {
    "duration": 62,
    "start_time": "2023-04-28T21:03:18.419Z"
   },
   {
    "duration": 3725,
    "start_time": "2023-04-28T21:03:18.492Z"
   },
   {
    "duration": 3965,
    "start_time": "2023-04-28T21:03:22.218Z"
   },
   {
    "duration": 62,
    "start_time": "2023-04-28T21:03:26.184Z"
   },
   {
    "duration": 358,
    "start_time": "2023-04-28T21:03:26.248Z"
   },
   {
    "duration": 343,
    "start_time": "2023-04-28T21:03:26.607Z"
   },
   {
    "duration": 370,
    "start_time": "2023-04-28T21:03:26.951Z"
   },
   {
    "duration": 349,
    "start_time": "2023-04-28T21:03:27.323Z"
   },
   {
    "duration": 67,
    "start_time": "2023-04-28T21:03:27.674Z"
   },
   {
    "duration": 64,
    "start_time": "2023-04-28T21:03:27.743Z"
   },
   {
    "duration": 45,
    "start_time": "2023-04-28T21:03:27.808Z"
   },
   {
    "duration": 125,
    "start_time": "2023-04-28T21:03:27.855Z"
   },
   {
    "duration": 4,
    "start_time": "2023-04-28T21:03:27.989Z"
   },
   {
    "duration": 757,
    "start_time": "2023-04-28T21:03:27.994Z"
   },
   {
    "duration": 376,
    "start_time": "2023-04-28T21:03:28.753Z"
   },
   {
    "duration": 126,
    "start_time": "2023-04-28T21:03:29.131Z"
   },
   {
    "duration": 3,
    "start_time": "2023-04-28T21:03:29.259Z"
   },
   {
    "duration": 74758,
    "start_time": "2023-04-28T21:03:29.264Z"
   },
   {
    "duration": 169,
    "start_time": "2023-04-28T21:09:50.612Z"
   },
   {
    "duration": 4,
    "start_time": "2023-04-28T21:09:58.367Z"
   },
   {
    "duration": 81,
    "start_time": "2023-04-28T21:10:00.237Z"
   },
   {
    "duration": 65,
    "start_time": "2023-04-28T21:10:10.619Z"
   },
   {
    "duration": 58,
    "start_time": "2023-04-28T21:10:31.937Z"
   },
   {
    "duration": 20,
    "start_time": "2023-04-28T21:10:45.776Z"
   },
   {
    "duration": 83,
    "start_time": "2023-04-28T21:11:03.020Z"
   },
   {
    "duration": 63,
    "start_time": "2023-04-28T21:11:21.347Z"
   }
  ],
  "kernelspec": {
   "display_name": "Python 3 (ipykernel)",
   "language": "python",
   "name": "python3"
  },
  "language_info": {
   "codemirror_mode": {
    "name": "ipython",
    "version": 3
   },
   "file_extension": ".py",
   "mimetype": "text/x-python",
   "name": "python",
   "nbconvert_exporter": "python",
   "pygments_lexer": "ipython3",
   "version": "3.10.11"
  },
  "toc": {
   "base_numbering": 1,
   "nav_menu": {},
   "number_sections": true,
   "sideBar": true,
   "skip_h1_title": true,
   "title_cell": "Table of Contents",
   "title_sidebar": "Contents",
   "toc_cell": false,
   "toc_position": {
    "height": "calc(100% - 180px)",
    "left": "10px",
    "top": "150px",
    "width": "360px"
   },
   "toc_section_display": true,
   "toc_window_display": true
  }
 },
 "nbformat": 4,
 "nbformat_minor": 2
}
