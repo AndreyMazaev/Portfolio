{
 "cells": [
  {
   "cell_type": "markdown",
   "metadata": {
    "deletable": false,
    "editable": false,
    "id": "E0vqbgi9ay0H"
   },
   "source": [
    "# Яндекс Музыка"
   ]
  },
  {
   "cell_type": "markdown",
   "metadata": {
    "deletable": false,
    "editable": false,
    "id": "VUC88oWjTJw2"
   },
   "source": [
    "Сравнение Москвы и Петербурга окружено мифами. Например:\n",
    " * Москва — мегаполис, подчинённый жёсткому ритму рабочей недели;\n",
    " * Петербург — культурная столица, со своими вкусами.\n",
    "\n",
    "На данных Яндекс Музыки вы сравните поведение пользователей двух столиц.\n",
    "\n",
    "**Цель исследования** — проверьте три гипотезы:\n",
    "1. Активность пользователей зависит от дня недели. Причём в Москве и Петербурге это проявляется по-разному.\n",
    "2. В понедельник утром в Москве преобладают одни жанры, а в Петербурге — другие. Так же и вечером пятницы преобладают разные жанры — в зависимости от города. \n",
    "3. Москва и Петербург предпочитают разные жанры музыки. В Москве чаще слушают поп-музыку, в Петербурге — русский рэп.\n",
    "\n",
    "**Ход исследования**\n",
    "\n",
    "Данные о поведении пользователей вы получите из файла `yandex_music_project.csv`. О качестве данных ничего не известно. Поэтому перед проверкой гипотез понадобится обзор данных. \n",
    "\n",
    "Вы проверите данные на ошибки и оцените их влияние на исследование. Затем, на этапе предобработки вы поищете возможность исправить самые критичные ошибки данных.\n",
    " \n",
    "Таким образом, исследование пройдёт в три этапа:\n",
    " 1. Обзор данных.\n",
    " 2. Предобработка данных.\n",
    " 3. Проверка гипотез.\n",
    "\n"
   ]
  },
  {
   "cell_type": "markdown",
   "metadata": {
    "deletable": false,
    "editable": false,
    "id": "Ml1hmfXC_Zcs"
   },
   "source": [
    "## Обзор данных\n",
    "\n",
    "Составьте первое представление о данных Яндекс Музыки.\n",
    "\n",
    "\n"
   ]
  },
  {
   "cell_type": "markdown",
   "metadata": {
    "deletable": false,
    "editable": false,
    "id": "57eAOGIz_Zcs",
    "tags": [
     "start_task"
    ]
   },
   "source": [
    "**Задание 1**\n",
    "\n",
    "Основной инструмент аналитика — `pandas`. Импортируйте эту библиотеку."
   ]
  },
  {
   "cell_type": "code",
   "execution_count": 1,
   "metadata": {
    "deletable": false,
    "id": "AXN7PHPN_Zcs"
   },
   "outputs": [],
   "source": [
    "# импорт библиотеки pandas\n",
    "import pandas as pd"
   ]
  },
  {
   "cell_type": "markdown",
   "metadata": {
    "deletable": false,
    "editable": false,
    "id": "SG23P8tt_Zcs",
    "tags": [
     "start_task"
    ]
   },
   "source": [
    "**Задание 2**\n",
    "\n",
    "Прочитайте файл `yandex_music_project.csv` из папки `/datasets` и сохраните его в переменной `df`:"
   ]
  },
  {
   "cell_type": "code",
   "execution_count": 2,
   "metadata": {
    "deletable": false,
    "id": "fFVu7vqh_Zct"
   },
   "outputs": [],
   "source": [
    "# чтение файла с данными и сохранение в df\n",
    "df = pd.read_csv('/datasets/yandex_music_project.csv')"
   ]
  },
  {
   "cell_type": "markdown",
   "metadata": {
    "deletable": false,
    "editable": false,
    "id": "rDoOMd3uTqnZ",
    "tags": [
     "start_task"
    ]
   },
   "source": [
    "**Задание 3**\n",
    "\n",
    "\n",
    "Выведите на экран первые десять строк таблицы:"
   ]
  },
  {
   "cell_type": "code",
   "execution_count": 3,
   "metadata": {
    "deletable": false,
    "id": "oWTVX3gW_Zct",
    "scrolled": true
   },
   "outputs": [
    {
     "data": {
      "text/html": [
       "<div>\n",
       "<style scoped>\n",
       "    .dataframe tbody tr th:only-of-type {\n",
       "        vertical-align: middle;\n",
       "    }\n",
       "\n",
       "    .dataframe tbody tr th {\n",
       "        vertical-align: top;\n",
       "    }\n",
       "\n",
       "    .dataframe thead th {\n",
       "        text-align: right;\n",
       "    }\n",
       "</style>\n",
       "<table border=\"1\" class=\"dataframe\">\n",
       "  <thead>\n",
       "    <tr style=\"text-align: right;\">\n",
       "      <th></th>\n",
       "      <th>userID</th>\n",
       "      <th>Track</th>\n",
       "      <th>artist</th>\n",
       "      <th>genre</th>\n",
       "      <th>City</th>\n",
       "      <th>time</th>\n",
       "      <th>Day</th>\n",
       "    </tr>\n",
       "  </thead>\n",
       "  <tbody>\n",
       "    <tr>\n",
       "      <th>0</th>\n",
       "      <td>FFB692EC</td>\n",
       "      <td>Kamigata To Boots</td>\n",
       "      <td>The Mass Missile</td>\n",
       "      <td>rock</td>\n",
       "      <td>Saint-Petersburg</td>\n",
       "      <td>20:28:33</td>\n",
       "      <td>Wednesday</td>\n",
       "    </tr>\n",
       "    <tr>\n",
       "      <th>1</th>\n",
       "      <td>55204538</td>\n",
       "      <td>Delayed Because of Accident</td>\n",
       "      <td>Andreas Rönnberg</td>\n",
       "      <td>rock</td>\n",
       "      <td>Moscow</td>\n",
       "      <td>14:07:09</td>\n",
       "      <td>Friday</td>\n",
       "    </tr>\n",
       "    <tr>\n",
       "      <th>2</th>\n",
       "      <td>20EC38</td>\n",
       "      <td>Funiculì funiculà</td>\n",
       "      <td>Mario Lanza</td>\n",
       "      <td>pop</td>\n",
       "      <td>Saint-Petersburg</td>\n",
       "      <td>20:58:07</td>\n",
       "      <td>Wednesday</td>\n",
       "    </tr>\n",
       "    <tr>\n",
       "      <th>3</th>\n",
       "      <td>A3DD03C9</td>\n",
       "      <td>Dragons in the Sunset</td>\n",
       "      <td>Fire + Ice</td>\n",
       "      <td>folk</td>\n",
       "      <td>Saint-Petersburg</td>\n",
       "      <td>08:37:09</td>\n",
       "      <td>Monday</td>\n",
       "    </tr>\n",
       "    <tr>\n",
       "      <th>4</th>\n",
       "      <td>E2DC1FAE</td>\n",
       "      <td>Soul People</td>\n",
       "      <td>Space Echo</td>\n",
       "      <td>dance</td>\n",
       "      <td>Moscow</td>\n",
       "      <td>08:34:34</td>\n",
       "      <td>Monday</td>\n",
       "    </tr>\n",
       "    <tr>\n",
       "      <th>5</th>\n",
       "      <td>842029A1</td>\n",
       "      <td>Преданная</td>\n",
       "      <td>IMPERVTOR</td>\n",
       "      <td>rusrap</td>\n",
       "      <td>Saint-Petersburg</td>\n",
       "      <td>13:09:41</td>\n",
       "      <td>Friday</td>\n",
       "    </tr>\n",
       "    <tr>\n",
       "      <th>6</th>\n",
       "      <td>4CB90AA5</td>\n",
       "      <td>True</td>\n",
       "      <td>Roman Messer</td>\n",
       "      <td>dance</td>\n",
       "      <td>Moscow</td>\n",
       "      <td>13:00:07</td>\n",
       "      <td>Wednesday</td>\n",
       "    </tr>\n",
       "    <tr>\n",
       "      <th>7</th>\n",
       "      <td>F03E1C1F</td>\n",
       "      <td>Feeling This Way</td>\n",
       "      <td>Polina Griffith</td>\n",
       "      <td>dance</td>\n",
       "      <td>Moscow</td>\n",
       "      <td>20:47:49</td>\n",
       "      <td>Wednesday</td>\n",
       "    </tr>\n",
       "    <tr>\n",
       "      <th>8</th>\n",
       "      <td>8FA1D3BE</td>\n",
       "      <td>И вновь продолжается бой</td>\n",
       "      <td>NaN</td>\n",
       "      <td>ruspop</td>\n",
       "      <td>Moscow</td>\n",
       "      <td>09:17:40</td>\n",
       "      <td>Friday</td>\n",
       "    </tr>\n",
       "    <tr>\n",
       "      <th>9</th>\n",
       "      <td>E772D5C0</td>\n",
       "      <td>Pessimist</td>\n",
       "      <td>NaN</td>\n",
       "      <td>dance</td>\n",
       "      <td>Saint-Petersburg</td>\n",
       "      <td>21:20:49</td>\n",
       "      <td>Wednesday</td>\n",
       "    </tr>\n",
       "  </tbody>\n",
       "</table>\n",
       "</div>"
      ],
      "text/plain": [
       "     userID                        Track            artist   genre  \\\n",
       "0  FFB692EC            Kamigata To Boots  The Mass Missile    rock   \n",
       "1  55204538  Delayed Because of Accident  Andreas Rönnberg    rock   \n",
       "2    20EC38            Funiculì funiculà       Mario Lanza     pop   \n",
       "3  A3DD03C9        Dragons in the Sunset        Fire + Ice    folk   \n",
       "4  E2DC1FAE                  Soul People        Space Echo   dance   \n",
       "5  842029A1                    Преданная         IMPERVTOR  rusrap   \n",
       "6  4CB90AA5                         True      Roman Messer   dance   \n",
       "7  F03E1C1F             Feeling This Way   Polina Griffith   dance   \n",
       "8  8FA1D3BE     И вновь продолжается бой               NaN  ruspop   \n",
       "9  E772D5C0                    Pessimist               NaN   dance   \n",
       "\n",
       "             City        time        Day  \n",
       "0  Saint-Petersburg  20:28:33  Wednesday  \n",
       "1            Moscow  14:07:09     Friday  \n",
       "2  Saint-Petersburg  20:58:07  Wednesday  \n",
       "3  Saint-Petersburg  08:37:09     Monday  \n",
       "4            Moscow  08:34:34     Monday  \n",
       "5  Saint-Petersburg  13:09:41     Friday  \n",
       "6            Moscow  13:00:07  Wednesday  \n",
       "7            Moscow  20:47:49  Wednesday  \n",
       "8            Moscow  09:17:40     Friday  \n",
       "9  Saint-Petersburg  21:20:49  Wednesday  "
      ]
     },
     "execution_count": 3,
     "metadata": {},
     "output_type": "execute_result"
    }
   ],
   "source": [
    "# получение первых 10 строк таблицы df\n",
    "df.head(10)"
   ]
  },
  {
   "cell_type": "markdown",
   "metadata": {
    "deletable": false,
    "editable": false,
    "id": "EO73Kwic_Zct",
    "tags": [
     "start_task"
    ]
   },
   "source": [
    "**Задание 4**\n",
    "\n",
    "\n",
    "Одной командой получить общую информацию о таблице c помощью метода `info()`:"
   ]
  },
  {
   "cell_type": "code",
   "execution_count": 4,
   "metadata": {
    "deletable": false,
    "id": "DSf2kIb-_Zct"
   },
   "outputs": [
    {
     "name": "stdout",
     "output_type": "stream",
     "text": [
      "<class 'pandas.core.frame.DataFrame'>\n",
      "RangeIndex: 65079 entries, 0 to 65078\n",
      "Data columns (total 7 columns):\n",
      " #   Column    Non-Null Count  Dtype \n",
      "---  ------    --------------  ----- \n",
      " 0     userID  65079 non-null  object\n",
      " 1   Track     63848 non-null  object\n",
      " 2   artist    57876 non-null  object\n",
      " 3   genre     63881 non-null  object\n",
      " 4     City    65079 non-null  object\n",
      " 5   time      65079 non-null  object\n",
      " 6   Day       65079 non-null  object\n",
      "dtypes: object(7)\n",
      "memory usage: 3.5+ MB\n"
     ]
    }
   ],
   "source": [
    "# получение общей информации о данных в таблице df\n",
    "df.info()"
   ]
  },
  {
   "cell_type": "markdown",
   "metadata": {
    "deletable": false,
    "editable": false,
    "id": "TaQ2Iwbr_Zct"
   },
   "source": [
    "Итак, в таблице семь столбцов. Тип данных во всех столбцах — `object`.\n",
    "\n",
    "Согласно документации к данным:\n",
    "* `userID` — идентификатор пользователя;\n",
    "* `Track` — название трека;  \n",
    "* `artist` — имя исполнителя;\n",
    "* `genre` — название жанра;\n",
    "* `City` — город пользователя;\n",
    "* `time` — время начала прослушивания;\n",
    "* `Day` — день недели.\n",
    "\n",
    "Количество значений в столбцах различается. Значит, в данных есть пропущенные значения."
   ]
  },
  {
   "cell_type": "markdown",
   "metadata": {
    "deletable": false,
    "editable": false,
    "id": "rAfziTBDmf2h",
    "tags": [
     "start_task"
    ]
   },
   "source": [
    "**Задание 5**\n",
    "\n",
    "**Вопрос со свободной формой ответа**\n",
    "\n",
    "В названиях колонок видны нарушения стиля:\n",
    "* Строчные буквы сочетаются с прописными.\n",
    "* Встречаются пробелы.\n",
    "\n",
    "Какое третье нарушение?"
   ]
  },
  {
   "cell_type": "code",
   "execution_count": 5,
   "metadata": {
    "id": "jD8EXEIvmf2h"
   },
   "outputs": [],
   "source": [
    "# Напишите ваш ответ здесь комментарием. Не удаляйте символ #. Не меняйте тип этой ячейки на Markdown.\n",
    "# Отсутвует змеиный регистр"
   ]
  },
  {
   "cell_type": "markdown",
   "metadata": {
    "deletable": false,
    "editable": false,
    "id": "MCB6-dXG_Zct"
   },
   "source": [
    "**Выводы**\n",
    "\n",
    "В каждой строке таблицы — данные о прослушанном треке. Часть колонок описывает саму композицию: название, исполнителя и жанр. Остальные данные рассказывают о пользователе: из какого он города, когда он слушал музыку. \n",
    "\n",
    "Предварительно можно утверждать, что данных достаточно для проверки гипотез. Но встречаются пропуски в данных, а в названиях колонок — расхождения с хорошим стилем.\n",
    "\n",
    "Чтобы двигаться дальше, нужно устранить проблемы в данных."
   ]
  },
  {
   "cell_type": "markdown",
   "metadata": {
    "deletable": false,
    "editable": false,
    "id": "SjYF6Ub9_Zct"
   },
   "source": [
    "## Предобработка данных\n",
    "Исправьте стиль в заголовках столбцов, исключите пропуски. Затем проверьте данные на дубликаты."
   ]
  },
  {
   "cell_type": "markdown",
   "metadata": {
    "deletable": false,
    "editable": false,
    "id": "dIaKXr29_Zct",
    "tags": [
     "start_task"
    ]
   },
   "source": [
    "### Стиль заголовков\n",
    "\n",
    "**Задание 6**\n",
    "\n",
    "Выведите на экран названия столбцов:"
   ]
  },
  {
   "cell_type": "code",
   "execution_count": 6,
   "metadata": {
    "deletable": false,
    "id": "oKOTdF_Q_Zct"
   },
   "outputs": [
    {
     "name": "stdout",
     "output_type": "stream",
     "text": [
      "Index(['  userID', 'Track', 'artist', 'genre', '  City  ', 'time', 'Day'], dtype='object')\n"
     ]
    }
   ],
   "source": [
    "# перечень названий столбцов таблицы df\n",
    "print(df.columns)"
   ]
  },
  {
   "cell_type": "markdown",
   "metadata": {
    "deletable": false,
    "editable": false,
    "id": "zj5534cv_Zct",
    "tags": [
     "start_task"
    ]
   },
   "source": [
    "**Задание 7**\n",
    "\n",
    "\n",
    "Приведите названия в соответствие с хорошим стилем:\n",
    "* несколько слов в названии запишите в «змеином_регистре»,\n",
    "* все символы сделайте строчными,\n",
    "* устраните пробелы.\n",
    "\n",
    "Для этого переименуйте колонки так:\n",
    "* `'  userID'` → `'user_id'`;\n",
    "* `'Track'` → `'track'`;\n",
    "* `'  City  '` → `'city'`;\n",
    "* `'Day'` → `'day'`."
   ]
  },
  {
   "cell_type": "code",
   "execution_count": 7,
   "metadata": {
    "deletable": false,
    "id": "ISlFqs5y_Zct"
   },
   "outputs": [],
   "source": [
    "# переименование столбцов\n",
    "df = df.rename(columns={'  userID': 'user_id', 'Track': 'track', '  City  ': 'city', 'Day': 'day'})"
   ]
  },
  {
   "cell_type": "markdown",
   "metadata": {
    "deletable": false,
    "editable": false,
    "id": "1dqbh00J_Zct",
    "tags": [
     "start_task"
    ]
   },
   "source": [
    "**Задание 8**\n",
    "\n",
    "\n",
    "Проверьте результат. Для этого ещё раз выведите на экран названия столбцов:"
   ]
  },
  {
   "cell_type": "code",
   "execution_count": 8,
   "metadata": {
    "deletable": false,
    "id": "d4NOAmTW_Zct"
   },
   "outputs": [
    {
     "name": "stdout",
     "output_type": "stream",
     "text": [
      "Index(['user_id', 'track', 'artist', 'genre', 'city', 'time', 'day'], dtype='object')\n"
     ]
    }
   ],
   "source": [
    "# проверка результатов - перечень названий столбцов\n",
    "print(df.columns)"
   ]
  },
  {
   "cell_type": "markdown",
   "metadata": {
    "deletable": false,
    "editable": false,
    "id": "5ISfbcfY_Zct",
    "tags": [
     "start_task"
    ]
   },
   "source": [
    "### Пропуски значений\n",
    "\n",
    "**Задание 9**\n",
    "\n",
    "Сначала посчитайте, сколько в таблице пропущенных значений. Для этого достаточно двух методов `pandas`:"
   ]
  },
  {
   "cell_type": "code",
   "execution_count": 9,
   "metadata": {
    "deletable": false,
    "id": "RskX29qr_Zct"
   },
   "outputs": [
    {
     "name": "stdout",
     "output_type": "stream",
     "text": [
      "user_id       0\n",
      "track      1231\n",
      "artist     7203\n",
      "genre      1198\n",
      "city          0\n",
      "time          0\n",
      "day           0\n",
      "dtype: int64\n"
     ]
    }
   ],
   "source": [
    "# подсчёт пропусков\n",
    "print(df.isna().sum())"
   ]
  },
  {
   "cell_type": "markdown",
   "metadata": {
    "deletable": false,
    "editable": false,
    "id": "qubhgnlO_Zct"
   },
   "source": [
    "Не все пропущенные значения влияют на исследование. Так в `track` и `artist` пропуски не важны для вашей работы. Достаточно заменить их явными обозначениями.\n",
    "\n",
    "Но пропуски в `genre` могут помешать сравнению музыкальных вкусов в Москве и Санкт-Петербурге. На практике было бы правильно установить причину пропусков и восстановить данные. Такой возможности нет в учебном проекте. Придётся:\n",
    "* заполнить и эти пропуски явными обозначениями;\n",
    "* оценить, насколько они повредят расчётам. "
   ]
  },
  {
   "cell_type": "markdown",
   "metadata": {
    "deletable": false,
    "editable": false,
    "id": "fSv2laPA_Zct",
    "tags": [
     "start_task"
    ]
   },
   "source": [
    "**Задание 10**\n",
    "\n",
    "Замените пропущенные значения в столбцах `track`, `artist` и `genre` на строку `'unknown'`. Для этого создайте список `columns_to_replace`, переберите его элементы циклом `for` и для каждого столбца выполните замену пропущенных значений:"
   ]
  },
  {
   "cell_type": "code",
   "execution_count": 10,
   "metadata": {
    "deletable": false,
    "id": "KplB5qWs_Zct"
   },
   "outputs": [],
   "source": [
    "# перебор названий столбцов в цикле и замена пропущенных значений на 'unknown'\n",
    "columns_to_replace = ['track', 'artist', 'genre']\n",
    "for i in columns_to_replace:\n",
    "    df[i] = df[i].fillna('unknown')"
   ]
  },
  {
   "cell_type": "markdown",
   "metadata": {
    "deletable": false,
    "editable": false,
    "id": "Ilsm-MZo_Zct",
    "tags": [
     "start_task"
    ]
   },
   "source": [
    "**Задание 11**\n",
    "\n",
    "Убедитесь, что в таблице не осталось пропусков. Для этого ещё раз посчитайте пропущенные значения."
   ]
  },
  {
   "cell_type": "code",
   "execution_count": 11,
   "metadata": {
    "deletable": false,
    "id": "Tq4nYRX4_Zct"
   },
   "outputs": [
    {
     "name": "stdout",
     "output_type": "stream",
     "text": [
      "user_id    0\n",
      "track      0\n",
      "artist     0\n",
      "genre      0\n",
      "city       0\n",
      "time       0\n",
      "day        0\n",
      "dtype: int64\n"
     ]
    }
   ],
   "source": [
    "# подсчёт пропусков\n",
    "print(df.isna().sum())"
   ]
  },
  {
   "cell_type": "markdown",
   "metadata": {
    "deletable": false,
    "editable": false,
    "id": "BWKRtBJ3_Zct",
    "tags": [
     "start_task"
    ]
   },
   "source": [
    "### Дубликаты\n",
    "\n",
    "**Задание 12**\n",
    "\n",
    "Посчитайте явные дубликаты в таблице одной командой:"
   ]
  },
  {
   "cell_type": "code",
   "execution_count": 12,
   "metadata": {
    "deletable": false,
    "id": "36eES_S0_Zct"
   },
   "outputs": [
    {
     "name": "stdout",
     "output_type": "stream",
     "text": [
      "3826\n"
     ]
    }
   ],
   "source": [
    "# подсчёт явных дубликатов\n",
    "print(df.duplicated().sum())"
   ]
  },
  {
   "cell_type": "markdown",
   "metadata": {
    "deletable": false,
    "editable": false,
    "id": "Ot25h6XR_Zct",
    "tags": [
     "start_task"
    ]
   },
   "source": [
    "**Задание 13**\n",
    "\n",
    "Вызовите специальный метод `pandas`, чтобы удалить явные дубликаты:"
   ]
  },
  {
   "cell_type": "code",
   "execution_count": 13,
   "metadata": {
    "deletable": false,
    "id": "exFHq6tt_Zct"
   },
   "outputs": [],
   "source": [
    "# удаление явных дубликатов\n",
    "df = df.drop_duplicates()"
   ]
  },
  {
   "cell_type": "markdown",
   "metadata": {
    "deletable": false,
    "editable": false,
    "id": "Im2YwBEG_Zct",
    "tags": [
     "start_task"
    ]
   },
   "source": [
    "**Задание 14**\n",
    "\n",
    "Ещё раз посчитайте явные дубликаты в таблице — убедитесь, что полностью от них избавились:"
   ]
  },
  {
   "cell_type": "code",
   "execution_count": 14,
   "metadata": {
    "deletable": false,
    "id": "-8PuNWQ0_Zct"
   },
   "outputs": [
    {
     "name": "stdout",
     "output_type": "stream",
     "text": [
      "0\n"
     ]
    }
   ],
   "source": [
    "# проверка на отсутствие дубликатов\n",
    "print(df.duplicated().sum())"
   ]
  },
  {
   "cell_type": "markdown",
   "metadata": {
    "deletable": false,
    "editable": false,
    "id": "QlFBsxAr_Zct"
   },
   "source": [
    "Теперь избавьтесь от неявных дубликатов в колонке `genre`. Например, название одного и того же жанра может быть записано немного по-разному. Такие ошибки тоже повлияют на результат исследования."
   ]
  },
  {
   "cell_type": "markdown",
   "metadata": {
    "deletable": false,
    "editable": false,
    "id": "eSjWwsOh_Zct",
    "tags": [
     "start_task"
    ]
   },
   "source": [
    "**Задание 15**\n",
    "\n",
    "Выведите на экран список уникальных названий жанров, отсортированный в алфавитном порядке. Для этого:\n",
    "1. извлеките нужный столбец датафрейма; \n",
    "2. примените к нему метод сортировки;\n",
    "3. для отсортированного столбца вызовите метод, который вернёт уникальные значения из столбца."
   ]
  },
  {
   "cell_type": "code",
   "execution_count": 15,
   "metadata": {
    "deletable": false,
    "id": "JIUcqzZN_Zct"
   },
   "outputs": [
    {
     "name": "stdout",
     "output_type": "stream",
     "text": [
      "['acid' 'acoustic' 'action' 'adult' 'africa' 'afrikaans' 'alternative'\n",
      " 'alternativepunk' 'ambient' 'americana' 'animated' 'anime' 'arabesk'\n",
      " 'arabic' 'arena' 'argentinetango' 'art' 'audiobook' 'author' 'avantgarde'\n",
      " 'axé' 'baile' 'balkan' 'beats' 'bigroom' 'black' 'bluegrass' 'blues'\n",
      " 'bollywood' 'bossa' 'brazilian' 'breakbeat' 'breaks' 'broadway'\n",
      " 'cantautori' 'cantopop' 'canzone' 'caribbean' 'caucasian' 'celtic'\n",
      " 'chamber' 'chanson' 'children' 'chill' 'chinese' 'choral' 'christian'\n",
      " 'christmas' 'classical' 'classicmetal' 'club' 'colombian' 'comedy'\n",
      " 'conjazz' 'contemporary' 'country' 'cuban' 'dance' 'dancehall' 'dancepop'\n",
      " 'dark' 'death' 'deep' 'deutschrock' 'deutschspr' 'dirty' 'disco' 'dnb'\n",
      " 'documentary' 'downbeat' 'downtempo' 'drum' 'dub' 'dubstep' 'eastern'\n",
      " 'easy' 'electronic' 'electropop' 'emo' 'entehno' 'epicmetal' 'estrada'\n",
      " 'ethnic' 'eurofolk' 'european' 'experimental' 'extrememetal' 'fado'\n",
      " 'fairytail' 'film' 'fitness' 'flamenco' 'folk' 'folklore' 'folkmetal'\n",
      " 'folkrock' 'folktronica' 'forró' 'frankreich' 'französisch' 'french'\n",
      " 'funk' 'future' 'gangsta' 'garage' 'german' 'ghazal' 'gitarre' 'glitch'\n",
      " 'gospel' 'gothic' 'grime' 'grunge' 'gypsy' 'handsup' \"hard'n'heavy\"\n",
      " 'hardcore' 'hardstyle' 'hardtechno' 'hip' 'hip-hop' 'hiphop' 'historisch'\n",
      " 'holiday' 'hop' 'horror' 'house' 'hymn' 'idm' 'independent' 'indian'\n",
      " 'indie' 'indipop' 'industrial' 'inspirational' 'instrumental'\n",
      " 'international' 'irish' 'jam' 'japanese' 'jazz' 'jewish' 'jpop' 'jungle'\n",
      " 'k-pop' 'karadeniz' 'karaoke' 'kayokyoku' 'korean' 'laiko' 'latin'\n",
      " 'latino' 'leftfield' 'local' 'lounge' 'loungeelectronic' 'lovers'\n",
      " 'malaysian' 'mandopop' 'marschmusik' 'meditative' 'mediterranean'\n",
      " 'melodic' 'metal' 'metalcore' 'mexican' 'middle' 'minimal'\n",
      " 'miscellaneous' 'modern' 'mood' 'mpb' 'muslim' 'native' 'neoklassik'\n",
      " 'neue' 'new' 'newage' 'newwave' 'nu' 'nujazz' 'numetal' 'oceania' 'old'\n",
      " 'opera' 'orchestral' 'other' 'piano' 'podcasts' 'pop' 'popdance'\n",
      " 'popelectronic' 'popeurodance' 'poprussian' 'post' 'posthardcore'\n",
      " 'postrock' 'power' 'progmetal' 'progressive' 'psychedelic' 'punjabi'\n",
      " 'punk' 'quebecois' 'ragga' 'ram' 'rancheras' 'rap' 'rave' 'reggae'\n",
      " 'reggaeton' 'regional' 'relax' 'religious' 'retro' 'rhythm' 'rnb' 'rnr'\n",
      " 'rock' 'rockabilly' 'rockalternative' 'rockindie' 'rockother' 'romance'\n",
      " 'roots' 'ruspop' 'rusrap' 'rusrock' 'russian' 'salsa' 'samba' 'scenic'\n",
      " 'schlager' 'self' 'sertanejo' 'shanson' 'shoegazing' 'showtunes' 'singer'\n",
      " 'ska' 'skarock' 'slow' 'smooth' 'soft' 'soul' 'soulful' 'sound'\n",
      " 'soundtrack' 'southern' 'specialty' 'speech' 'spiritual' 'sport'\n",
      " 'stonerrock' 'surf' 'swing' 'synthpop' 'synthrock' 'sängerportrait'\n",
      " 'tango' 'tanzorchester' 'taraftar' 'tatar' 'tech' 'techno' 'teen'\n",
      " 'thrash' 'top' 'traditional' 'tradjazz' 'trance' 'tribal' 'trip'\n",
      " 'triphop' 'tropical' 'türk' 'türkçe' 'ukrrock' 'unknown' 'urban' 'uzbek'\n",
      " 'variété' 'vi' 'videogame' 'vocal' 'western' 'world' 'worldbeat' 'ïîï'\n",
      " 'электроника']\n"
     ]
    }
   ],
   "source": [
    "# Просмотр уникальных названий жанров\n",
    "print(df['genre'].sort_values().unique())\n"
   ]
  },
  {
   "cell_type": "markdown",
   "metadata": {
    "deletable": false,
    "editable": false,
    "id": "qej-Qmuo_Zct",
    "tags": [
     "start_task"
    ]
   },
   "source": [
    "**Задание 16**\n",
    "\n",
    "Просмотрите список и найдите неявные дубликаты названия `hiphop`. Это могут быть названия с ошибками или альтернативные названия того же жанра.\n",
    "\n",
    "Вы увидите следующие неявные дубликаты:\n",
    "* *hip*,\n",
    "* *hop*,\n",
    "* *hip-hop*.\n",
    "\n",
    "Чтобы очистить от них таблицу используйте метод `replace()` с двумя аргументами: списком строк-дубликатов (включащий *hip*, *hop* и *hip-hop*) и строкой с правильным значением. Вам нужно исправить колонку `genre` в таблице `df`: заменить каждое значение из списка дубликатов на верное. Вместо `hip`, `hop` и `hip-hop` в таблице должно быть значение `hiphop`:"
   ]
  },
  {
   "cell_type": "code",
   "execution_count": 16,
   "metadata": {
    "deletable": false,
    "id": "ErNDkmns_Zct"
   },
   "outputs": [],
   "source": [
    "# Устранение неявных дубликатов\n",
    "df = df.replace(['hip', 'hop', 'hip-hop'], 'hiphop')"
   ]
  },
  {
   "cell_type": "markdown",
   "metadata": {
    "deletable": false,
    "editable": false,
    "id": "zQKF16_RG15m",
    "tags": [
     "start_task"
    ]
   },
   "source": [
    "**Задание 17**\n",
    "\n",
    "Проверьте, что заменили неправильные названия:\n",
    "\n",
    "*   hip,\n",
    "*   hop,\n",
    "*   hip-hop.\n",
    "\n",
    "Выведите отсортированный список уникальных значений столбца `genre`:"
   ]
  },
  {
   "cell_type": "code",
   "execution_count": 17,
   "metadata": {
    "deletable": false,
    "id": "wvixALnFG15m",
    "scrolled": false
   },
   "outputs": [
    {
     "name": "stdout",
     "output_type": "stream",
     "text": [
      "['acid' 'acoustic' 'action' 'adult' 'africa' 'afrikaans' 'alternative'\n",
      " 'alternativepunk' 'ambient' 'americana' 'animated' 'anime' 'arabesk'\n",
      " 'arabic' 'arena' 'argentinetango' 'art' 'audiobook' 'author' 'avantgarde'\n",
      " 'axé' 'baile' 'balkan' 'beats' 'bigroom' 'black' 'bluegrass' 'blues'\n",
      " 'bollywood' 'bossa' 'brazilian' 'breakbeat' 'breaks' 'broadway'\n",
      " 'cantautori' 'cantopop' 'canzone' 'caribbean' 'caucasian' 'celtic'\n",
      " 'chamber' 'chanson' 'children' 'chill' 'chinese' 'choral' 'christian'\n",
      " 'christmas' 'classical' 'classicmetal' 'club' 'colombian' 'comedy'\n",
      " 'conjazz' 'contemporary' 'country' 'cuban' 'dance' 'dancehall' 'dancepop'\n",
      " 'dark' 'death' 'deep' 'deutschrock' 'deutschspr' 'dirty' 'disco' 'dnb'\n",
      " 'documentary' 'downbeat' 'downtempo' 'drum' 'dub' 'dubstep' 'eastern'\n",
      " 'easy' 'electronic' 'electropop' 'emo' 'entehno' 'epicmetal' 'estrada'\n",
      " 'ethnic' 'eurofolk' 'european' 'experimental' 'extrememetal' 'fado'\n",
      " 'fairytail' 'film' 'fitness' 'flamenco' 'folk' 'folklore' 'folkmetal'\n",
      " 'folkrock' 'folktronica' 'forró' 'frankreich' 'französisch' 'french'\n",
      " 'funk' 'future' 'gangsta' 'garage' 'german' 'ghazal' 'gitarre' 'glitch'\n",
      " 'gospel' 'gothic' 'grime' 'grunge' 'gypsy' 'handsup' \"hard'n'heavy\"\n",
      " 'hardcore' 'hardstyle' 'hardtechno' 'hiphop' 'historisch' 'holiday'\n",
      " 'horror' 'house' 'hymn' 'idm' 'independent' 'indian' 'indie' 'indipop'\n",
      " 'industrial' 'inspirational' 'instrumental' 'international' 'irish' 'jam'\n",
      " 'japanese' 'jazz' 'jewish' 'jpop' 'jungle' 'k-pop' 'karadeniz' 'karaoke'\n",
      " 'kayokyoku' 'korean' 'laiko' 'latin' 'latino' 'leftfield' 'local'\n",
      " 'lounge' 'loungeelectronic' 'lovers' 'malaysian' 'mandopop' 'marschmusik'\n",
      " 'meditative' 'mediterranean' 'melodic' 'metal' 'metalcore' 'mexican'\n",
      " 'middle' 'minimal' 'miscellaneous' 'modern' 'mood' 'mpb' 'muslim'\n",
      " 'native' 'neoklassik' 'neue' 'new' 'newage' 'newwave' 'nu' 'nujazz'\n",
      " 'numetal' 'oceania' 'old' 'opera' 'orchestral' 'other' 'piano' 'podcasts'\n",
      " 'pop' 'popdance' 'popelectronic' 'popeurodance' 'poprussian' 'post'\n",
      " 'posthardcore' 'postrock' 'power' 'progmetal' 'progressive' 'psychedelic'\n",
      " 'punjabi' 'punk' 'quebecois' 'ragga' 'ram' 'rancheras' 'rap' 'rave'\n",
      " 'reggae' 'reggaeton' 'regional' 'relax' 'religious' 'retro' 'rhythm'\n",
      " 'rnb' 'rnr' 'rock' 'rockabilly' 'rockalternative' 'rockindie' 'rockother'\n",
      " 'romance' 'roots' 'ruspop' 'rusrap' 'rusrock' 'russian' 'salsa' 'samba'\n",
      " 'scenic' 'schlager' 'self' 'sertanejo' 'shanson' 'shoegazing' 'showtunes'\n",
      " 'singer' 'ska' 'skarock' 'slow' 'smooth' 'soft' 'soul' 'soulful' 'sound'\n",
      " 'soundtrack' 'southern' 'specialty' 'speech' 'spiritual' 'sport'\n",
      " 'stonerrock' 'surf' 'swing' 'synthpop' 'synthrock' 'sängerportrait'\n",
      " 'tango' 'tanzorchester' 'taraftar' 'tatar' 'tech' 'techno' 'teen'\n",
      " 'thrash' 'top' 'traditional' 'tradjazz' 'trance' 'tribal' 'trip'\n",
      " 'triphop' 'tropical' 'türk' 'türkçe' 'ukrrock' 'unknown' 'urban' 'uzbek'\n",
      " 'variété' 'vi' 'videogame' 'vocal' 'western' 'world' 'worldbeat' 'ïîï'\n",
      " 'электроника']\n"
     ]
    }
   ],
   "source": [
    "# Проверка на неявные дубликаты\n",
    "print(df['genre'].sort_values().unique())\n"
   ]
  },
  {
   "cell_type": "markdown",
   "metadata": {
    "deletable": false,
    "editable": false,
    "id": "jz6a9-7HQUDd"
   },
   "source": [
    "**Выводы**\n",
    "\n",
    "Предобработка обнаружила три проблемы в данных:\n",
    "\n",
    "- нарушения в стиле заголовков,\n",
    "- пропущенные значения,\n",
    "- дубликаты — явные и неявные.\n",
    "\n",
    "Вы исправили заголовки, чтобы упростить работу с таблицей. Без дубликатов исследование станет более точным.\n",
    "\n",
    "Пропущенные значения вы заменили на `'unknown'`. Ещё предстоит увидеть, не повредят ли исследованию пропуски в колонке `genre`.\n",
    "\n",
    "Теперь можно перейти к проверке гипотез. "
   ]
  },
  {
   "cell_type": "markdown",
   "metadata": {
    "deletable": false,
    "editable": false,
    "id": "WttZHXH0SqKk"
   },
   "source": [
    "## Проверка гипотез"
   ]
  },
  {
   "cell_type": "markdown",
   "metadata": {
    "deletable": false,
    "editable": false,
    "id": "Im936VVi_Zcu"
   },
   "source": [
    "### Сравнение поведения пользователей двух столиц"
   ]
  },
  {
   "cell_type": "markdown",
   "metadata": {
    "deletable": false,
    "editable": false,
    "id": "nwt_MuaL_Zcu"
   },
   "source": [
    "Первая гипотеза утверждает, что пользователи по-разному слушают музыку в Москве и Санкт-Петербурге. Проверьте это предположение по данным о трёх днях недели — понедельнике, среде и пятнице. Для этого:\n",
    "\n",
    "* Разделите пользователей Москвы и Санкт-Петербурга.\n",
    "* Сравните, сколько треков послушала каждая группа пользователей в понедельник, среду и пятницу.\n"
   ]
  },
  {
   "cell_type": "markdown",
   "metadata": {
    "deletable": false,
    "editable": false,
    "id": "8Dw_YMmT_Zcu",
    "tags": [
     "start_task"
    ]
   },
   "source": [
    "**Задание 18**\n",
    "\n",
    "Для тренировки сначала выполните каждый из расчётов по отдельности. \n",
    "\n",
    "Оцените активность пользователей в каждом городе. Сгруппируйте данные по городу и посчитайте прослушивания в каждой группе.\n",
    "\n"
   ]
  },
  {
   "cell_type": "code",
   "execution_count": 18,
   "metadata": {
    "deletable": false,
    "id": "0_Qs96oh_Zcu"
   },
   "outputs": [
    {
     "data": {
      "text/plain": [
       "city\n",
       "Moscow              42741\n",
       "Saint-Petersburg    18512\n",
       "Name: user_id, dtype: int64"
      ]
     },
     "execution_count": 18,
     "metadata": {},
     "output_type": "execute_result"
    }
   ],
   "source": [
    "# Подсчёт прослушиваний в каждом городе\n",
    "df.groupby('city')['user_id'].count()"
   ]
  },
  {
   "cell_type": "markdown",
   "metadata": {
    "deletable": false,
    "editable": false,
    "id": "dzli3w8o_Zcu",
    "tags": [
     "start_task"
    ]
   },
   "source": [
    "В Москве прослушиваний больше, чем в Петербурге. Из этого не следует, что московские пользователи чаще слушают музыку. Просто самих пользователей в Москве больше.\n",
    "\n",
    "**Задание 19**\n",
    "\n",
    "Теперь сгруппируйте данные по дню недели и посчитайте прослушивания в понедельник, среду и пятницу. Учтите, что в данных есть информация о прослушиваниях только за эти дни.\n"
   ]
  },
  {
   "cell_type": "code",
   "execution_count": 19,
   "metadata": {
    "deletable": false,
    "id": "uZMKjiJz_Zcu"
   },
   "outputs": [
    {
     "data": {
      "text/plain": [
       "day\n",
       "Friday       21840\n",
       "Monday       21354\n",
       "Wednesday    18059\n",
       "Name: user_id, dtype: int64"
      ]
     },
     "execution_count": 19,
     "metadata": {},
     "output_type": "execute_result"
    }
   ],
   "source": [
    "# Подсчёт прослушиваний в каждый из трёх дней\n",
    "df.groupby('day')['user_id'].count()"
   ]
  },
  {
   "cell_type": "markdown",
   "metadata": {
    "deletable": false,
    "editable": false,
    "id": "cC2tNrlL_Zcu"
   },
   "source": [
    "В среднем пользователи из двух городов менее активны по средам. Но картина может измениться, если рассмотреть каждый город в отдельности."
   ]
  },
  {
   "cell_type": "markdown",
   "metadata": {
    "deletable": false,
    "editable": false,
    "id": "POzs8bGa_Zcu",
    "tags": [
     "start_task"
    ]
   },
   "source": [
    "**Задание 20**\n",
    "\n",
    "\n",
    "Вы видели, как работает группировка по городу и по дням недели. Теперь напишите функцию, которая объединит два эти расчёта.\n",
    "\n",
    "Создайте функцию `number_tracks()`, которая посчитает прослушивания для заданного дня и города. Ей понадобятся два параметра:\n",
    "* день недели,\n",
    "* название города.\n",
    "\n",
    "В функции сохраните в переменную строки исходной таблицы, у которых значение:\n",
    "  * в колонке `day` равно параметру `day`,\n",
    "  * в колонке `city` равно параметру `city`.\n",
    "\n",
    "Для этого примените последовательную фильтрацию с логической индексацией (или сложные логические выражения в одну строку, если вы уже знакомы с ними).\n",
    "\n",
    "Затем посчитайте значения в столбце `user_id` получившейся таблицы. Результат сохраните в новую переменную. Верните эту переменную из функции."
   ]
  },
  {
   "cell_type": "code",
   "execution_count": 20,
   "metadata": {
    "deletable": false,
    "id": "Nz3GdQB1_Zcu"
   },
   "outputs": [],
   "source": [
    "# <создание функции number_tracks()>\n",
    "# Объявляется функция с двумя параметрами: day, city.\n",
    "# В переменной track_list сохраняются те строки таблицы df, для которых \n",
    "# значение в столбце 'day' равно параметру day и одновременно значение\n",
    "# в столбце 'city' равно параметру city (используйте последовательную фильтрацию\n",
    "# с помощью логической индексации или сложные логические выражения в одну строку, если вы уже знакомы с ними).\n",
    "# В переменной track_list_count сохраняется число значений столбца 'user_id',\n",
    "# рассчитанное методом count() для таблицы track_list.\n",
    "# Функция возвращает число - значение track_list_count.\n",
    "\n",
    "# Функция для подсчёта прослушиваний для конкретного города и дня.\n",
    "# С помощью последовательной фильтрации с логической индексацией она \n",
    "# сначала получит из исходной таблицы строки с нужным днём,\n",
    "# затем из результата отфильтрует строки с нужным городом,\n",
    "# методом count() посчитает количество значений в колонке user_id. \n",
    "# Это количество функция вернёт в качестве результата\n",
    "def number_tracks(day, city):\n",
    "    track_list = df[df['day'] == day]\n",
    "    track_list = track_list[track_list['city'] == city]\n",
    "    track_list_count = track_list['user_id'].count()\n",
    "    return track_list_count\n"
   ]
  },
  {
   "cell_type": "markdown",
   "metadata": {
    "deletable": false,
    "editable": false,
    "id": "ytf7xFrFJQ2r",
    "tags": [
     "start_task"
    ]
   },
   "source": [
    "**Задание 21**\n",
    "\n",
    "Вызовите `number_tracks()` шесть раз, меняя значение параметров — так, чтобы получить данные для каждого города в каждый из трёх дней."
   ]
  },
  {
   "cell_type": "code",
   "execution_count": 21,
   "metadata": {
    "deletable": false,
    "id": "rJcRATNQ_Zcu"
   },
   "outputs": [
    {
     "data": {
      "text/plain": [
       "15740"
      ]
     },
     "execution_count": 21,
     "metadata": {},
     "output_type": "execute_result"
    }
   ],
   "source": [
    "# количество прослушиваний в Москве по понедельникам\n",
    "number_tracks('Monday', 'Moscow')"
   ]
  },
  {
   "cell_type": "code",
   "execution_count": 22,
   "metadata": {
    "deletable": false,
    "id": "hq_ncZ5T_Zcu"
   },
   "outputs": [
    {
     "data": {
      "text/plain": [
       "5614"
      ]
     },
     "execution_count": 22,
     "metadata": {},
     "output_type": "execute_result"
    }
   ],
   "source": [
    "# количество прослушиваний в Санкт-Петербурге по понедельникам\n",
    "number_tracks('Monday', 'Saint-Petersburg')"
   ]
  },
  {
   "cell_type": "code",
   "execution_count": 23,
   "metadata": {
    "deletable": false,
    "id": "_NTy2VPU_Zcu"
   },
   "outputs": [
    {
     "data": {
      "text/plain": [
       "11056"
      ]
     },
     "execution_count": 23,
     "metadata": {},
     "output_type": "execute_result"
    }
   ],
   "source": [
    "# количество прослушиваний в Москве по средам\n",
    "number_tracks('Wednesday', 'Moscow')"
   ]
  },
  {
   "cell_type": "code",
   "execution_count": 24,
   "metadata": {
    "deletable": false,
    "id": "j2y3TAwo_Zcu"
   },
   "outputs": [
    {
     "data": {
      "text/plain": [
       "7003"
      ]
     },
     "execution_count": 24,
     "metadata": {},
     "output_type": "execute_result"
    }
   ],
   "source": [
    "# количество прослушиваний в Санкт-Петербурге по средам\n",
    "number_tracks('Wednesday', 'Saint-Petersburg')"
   ]
  },
  {
   "cell_type": "code",
   "execution_count": 25,
   "metadata": {
    "deletable": false,
    "id": "vYDw5u_K_Zcu"
   },
   "outputs": [
    {
     "data": {
      "text/plain": [
       "15945"
      ]
     },
     "execution_count": 25,
     "metadata": {},
     "output_type": "execute_result"
    }
   ],
   "source": [
    "# количество прослушиваний в Москве по пятницам\n",
    "number_tracks('Friday', 'Moscow')"
   ]
  },
  {
   "cell_type": "code",
   "execution_count": 26,
   "metadata": {
    "deletable": false,
    "id": "8_yzFtW3_Zcu"
   },
   "outputs": [
    {
     "data": {
      "text/plain": [
       "5895"
      ]
     },
     "execution_count": 26,
     "metadata": {},
     "output_type": "execute_result"
    }
   ],
   "source": [
    "# количество прослушиваний в Санкт-Петербурге по пятницам\n",
    "number_tracks('Friday', 'Saint-Petersburg')"
   ]
  },
  {
   "cell_type": "markdown",
   "metadata": {
    "deletable": false,
    "editable": false,
    "id": "7QXffbO-_Zcu",
    "tags": [
     "start_task"
    ]
   },
   "source": [
    "**Задание 22**\n",
    "\n",
    "Создайте c помощью конструктора `pd.DataFrame` таблицу, где\n",
    "* названия колонок — `['city', 'monday', 'wednesday', 'friday']`;\n",
    "* данные — результаты, которые вы получили с помощью `number_tracks`."
   ]
  },
  {
   "cell_type": "code",
   "execution_count": 27,
   "metadata": {
    "deletable": false,
    "id": "APAcLpOr_Zcu"
   },
   "outputs": [],
   "source": [
    "# Таблица с результатами\n",
    "info = pd.DataFrame(data=[['Москва', 15740, 11056, 15945], ['Saint-Petersburg', 5614, 7003, 5895]], columns=['city', 'monday', 'wednesday', 'friday'])"
   ]
  },
  {
   "cell_type": "markdown",
   "metadata": {
    "deletable": false,
    "editable": false,
    "id": "-EgPIHYu_Zcu"
   },
   "source": [
    "**Выводы**\n",
    "\n",
    "Данные показывают разницу поведения пользователей:\n",
    "\n",
    "- В Москве пик прослушиваний приходится на понедельник и пятницу, а в среду заметен спад.\n",
    "- В Петербурге, наоборот, больше слушают музыку по средам. Активность в понедельник и пятницу здесь почти в равной мере уступает среде.\n",
    "\n",
    "Значит, данные говорят в пользу первой гипотезы."
   ]
  },
  {
   "cell_type": "markdown",
   "metadata": {
    "deletable": false,
    "editable": false,
    "id": "atZAxtq4_Zcu"
   },
   "source": [
    "### Музыка в начале и в конце недели"
   ]
  },
  {
   "cell_type": "markdown",
   "metadata": {
    "deletable": false,
    "editable": false,
    "id": "eXrQqXFH_Zcu"
   },
   "source": [
    "Согласно второй гипотезе, утром в понедельник в Москве преобладают одни жанры, а в Петербурге — другие. Так же и вечером пятницы преобладают разные жанры — в зависимости от города."
   ]
  },
  {
   "cell_type": "markdown",
   "metadata": {
    "deletable": false,
    "editable": false,
    "id": "S8UcW6Hw_Zcu",
    "tags": [
     "start_task"
    ]
   },
   "source": [
    "**Задание 23**\n",
    "\n",
    "Сохраните таблицы с данными в две переменные:\n",
    "* по Москве — в `moscow_general`;\n",
    "* по Санкт-Петербургу — в `spb_general`."
   ]
  },
  {
   "cell_type": "code",
   "execution_count": 28,
   "metadata": {
    "deletable": false,
    "id": "qeaFfM_P_Zcu"
   },
   "outputs": [],
   "source": [
    "# получение таблицы moscow_general из тех строк таблицы df, \n",
    "# для которых значение в столбце 'city' равно 'Moscow'\n",
    "moscow_general = df[df['city'] == 'Moscow']"
   ]
  },
  {
   "cell_type": "code",
   "execution_count": 29,
   "metadata": {
    "deletable": false,
    "id": "ORaVRKto_Zcu"
   },
   "outputs": [],
   "source": [
    "# получение таблицы spb_general из тех строк таблицы df,\n",
    "# для которых значение в столбце 'city' равно 'Saint-Petersburg'\n",
    "spb_general = df[df['city'] == 'Saint-Petersburg']"
   ]
  },
  {
   "cell_type": "markdown",
   "metadata": {
    "deletable": false,
    "editable": false,
    "id": "MEJV-CX2_Zcu",
    "tags": [
     "start_task"
    ]
   },
   "source": [
    "**Задание 24**\n",
    "\n",
    "Создайте функцию `genre_weekday()` с четырьмя параметрами:\n",
    "* таблица (датафрейм) с данными,\n",
    "* день недели,\n",
    "* начальная временная метка в формате 'hh:mm', \n",
    "* последняя временная метка в формате 'hh:mm'.\n",
    "\n",
    "Функция должна вернуть информацию о топ-10 жанров тех треков, которые прослушивали в указанный день, в промежутке между двумя отметками времени."
   ]
  },
  {
   "cell_type": "code",
   "execution_count": 30,
   "metadata": {
    "deletable": false,
    "id": "laJT9BYl_Zcu"
   },
   "outputs": [],
   "source": [
    "# Объявление функции genre_weekday() с параметрами table, day, time1, time2,\n",
    "# которая возвращает информацию о самых популярных жанрах в указанный день в\n",
    "# заданное время:\n",
    "# 1) в переменную genre_df сохраняются те строки переданного датафрейма table, для\n",
    "#    которых одновременно:\n",
    "#    - значение в столбце day равно значению аргумента day\n",
    "#    - значение в столбце time больше значения аргумента time1\n",
    "#    - значение в столбце time меньше значения аргумента time2\n",
    "#    Используйте последовательную фильтрацию с помощью логической индексации.\n",
    "# 2) сгруппировать датафрейм genre_df по столбцу genre, взять один из его\n",
    "#    столбцов и посчитать методом count() количество записей для каждого из\n",
    "#    присутствующих жанров, получившийся Series записать в переменную\n",
    "#    genre_df_count\n",
    "# 3) отсортировать genre_df_count по убыванию встречаемости и сохранить\n",
    "#    в переменную genre_df_sorted\n",
    "# 4) вернуть Series из 10 первых значений genre_df_sorted, это будут топ-10\n",
    "#    популярных жанров (в указанный день, в заданное время)\n",
    "\n",
    "def genre_weekday(df, day, time1, time2):\n",
    "    # последовательная фильтрация\n",
    "    # оставляем в genre_df только те строки df, у которых день равен day\n",
    "    genre_df = df[df['day'] == day] # ваш код здесь\n",
    "    # оставляем в genre_df только те строки genre_df, у которых время меньше time2\n",
    "    genre_df = genre_df[genre_df['time'] < time2] # ваш код здесь\n",
    "    # оставляем в genre_df только те строки genre_df, у которых время больше time1\n",
    "    genre_df = genre_df[genre_df['time'] > time1] # ваш код здесь\n",
    "    # сгруппируем отфильтрованный датафрейм по столбцу с названиями жанров, возьмём столбец genre и посчитаем кол-во строк для каждого жанра методом count()\n",
    "    genre_df_grouped = genre_df.groupby('genre')['genre'].count() # ваш код здесь\n",
    "    # отсортируем результат по убыванию (чтобы в начале Series оказались самые популярные жанры)\n",
    "    genre_df_sorted = genre_df_grouped.sort_values(ascending=False) # ваш код здесь\n",
    "    # вернём Series с 10 самыми популярными жанрами в указанный отрезок времени заданного дня\n",
    "    return genre_df_sorted[:10]"
   ]
  },
  {
   "cell_type": "markdown",
   "metadata": {
    "deletable": false,
    "editable": false,
    "id": "la2s2_PF_Zcu",
    "tags": [
     "start_task"
    ]
   },
   "source": [
    "**Задание 25**\n",
    "\n",
    "\n",
    "Cравните результаты функции `genre_weekday()` для Москвы и Санкт-Петербурга в понедельник утром (с 7:00 до 11:00) и в пятницу вечером (с 17:00 до 23:00):"
   ]
  },
  {
   "cell_type": "code",
   "execution_count": 31,
   "metadata": {
    "deletable": false,
    "id": "yz7itPUQ_Zcu"
   },
   "outputs": [
    {
     "data": {
      "text/plain": [
       "genre\n",
       "pop            781\n",
       "dance          549\n",
       "electronic     480\n",
       "rock           474\n",
       "hiphop         286\n",
       "ruspop         186\n",
       "world          181\n",
       "rusrap         175\n",
       "alternative    164\n",
       "unknown        161\n",
       "Name: genre, dtype: int64"
      ]
     },
     "execution_count": 31,
     "metadata": {},
     "output_type": "execute_result"
    }
   ],
   "source": [
    "# вызов функции для утра понедельника в Москве (вместо df — таблица moscow_general)\n",
    "# объекты, хранящие время, являются строками и сравниваются как строки\n",
    "# пример вызова: genre_weekday(moscow_general, 'Monday', '07:00', '11:00')\n",
    "genre_weekday(moscow_general, 'Monday', '07:00', '11:00')"
   ]
  },
  {
   "cell_type": "code",
   "execution_count": 32,
   "metadata": {
    "deletable": false,
    "id": "kwUcHPdy_Zcu"
   },
   "outputs": [
    {
     "data": {
      "text/plain": [
       "genre\n",
       "pop            218\n",
       "dance          182\n",
       "rock           162\n",
       "electronic     147\n",
       "hiphop          80\n",
       "ruspop          64\n",
       "alternative     58\n",
       "rusrap          55\n",
       "jazz            44\n",
       "classical       40\n",
       "Name: genre, dtype: int64"
      ]
     },
     "execution_count": 32,
     "metadata": {},
     "output_type": "execute_result"
    }
   ],
   "source": [
    "# вызов функции для утра понедельника в Петербурге (вместо df — таблица spb_general)\n",
    "genre_weekday(spb_general, 'Monday', '07:00', '11:00')"
   ]
  },
  {
   "cell_type": "code",
   "execution_count": 33,
   "metadata": {
    "deletable": false,
    "id": "EzXVRE1o_Zcu"
   },
   "outputs": [
    {
     "data": {
      "text/plain": [
       "genre\n",
       "pop            713\n",
       "rock           517\n",
       "dance          495\n",
       "electronic     482\n",
       "hiphop         273\n",
       "world          208\n",
       "ruspop         170\n",
       "alternative    163\n",
       "classical      163\n",
       "rusrap         142\n",
       "Name: genre, dtype: int64"
      ]
     },
     "execution_count": 33,
     "metadata": {},
     "output_type": "execute_result"
    }
   ],
   "source": [
    "# вызов функции для вечера пятницы в Москве\n",
    "genre_weekday(moscow_general, 'Friday', '17:00', '23:00')"
   ]
  },
  {
   "cell_type": "code",
   "execution_count": 34,
   "metadata": {
    "deletable": false,
    "id": "JZaEKu5v_Zcu"
   },
   "outputs": [
    {
     "data": {
      "text/plain": [
       "genre\n",
       "pop            256\n",
       "electronic     216\n",
       "rock           216\n",
       "dance          210\n",
       "hiphop          97\n",
       "alternative     63\n",
       "jazz            61\n",
       "classical       60\n",
       "rusrap          59\n",
       "world           54\n",
       "Name: genre, dtype: int64"
      ]
     },
     "execution_count": 34,
     "metadata": {},
     "output_type": "execute_result"
    }
   ],
   "source": [
    "# вызов функции для вечера пятницы в Петербурге\n",
    "genre_weekday(spb_general, 'Friday', '17:00', '23:00')"
   ]
  },
  {
   "cell_type": "markdown",
   "metadata": {
    "deletable": false,
    "editable": false,
    "id": "wrCe4MNX_Zcu"
   },
   "source": [
    "**Выводы**\n",
    "\n",
    "Если сравнить топ-10 жанров в понедельник утром, можно сделать такие выводы:\n",
    "\n",
    "1. В Москве и Петербурге слушают похожую музыку. Единственное отличие — в московский рейтинг вошёл жанр “world”, а в петербургский — джаз и классика.\n",
    "\n",
    "2. В Москве пропущенных значений оказалось так много, что значение `'unknown'` заняло десятое место среди самых популярных жанров. Значит, пропущенные значения занимают существенную долю в данных и угрожают достоверности исследования.\n",
    "\n",
    "Вечер пятницы не меняет эту картину. Некоторые жанры поднимаются немного выше, другие спускаются, но в целом топ-10 остаётся тем же самым.\n",
    "\n",
    "Таким образом, вторая гипотеза подтвердилась лишь частично:\n",
    "* Пользователи слушают похожую музыку в начале недели и в конце.\n",
    "* Разница между Москвой и Петербургом не слишком выражена. В Москве чаще слушают русскую популярную музыку, в Петербурге — джаз.\n",
    "\n",
    "Однако пропуски в данных ставят под сомнение этот результат. В Москве их так много, что рейтинг топ-10 мог бы выглядеть иначе, если бы не утерянные  данные о жанрах."
   ]
  },
  {
   "cell_type": "markdown",
   "metadata": {
    "deletable": false,
    "editable": false,
    "id": "JolODAqr_Zcu"
   },
   "source": [
    "### Жанровые предпочтения в Москве и Петербурге\n",
    "\n",
    "Гипотеза: Петербург — столица рэпа, музыку этого жанра там слушают чаще, чем в Москве.  А Москва — город контрастов, в котором, тем не менее, преобладает поп-музыка."
   ]
  },
  {
   "cell_type": "markdown",
   "metadata": {
    "deletable": false,
    "editable": false,
    "id": "DlegSvaT_Zcu",
    "tags": [
     "start_task"
    ]
   },
   "source": [
    "**Задание 26**\n",
    "\n",
    "Сгруппируйте таблицу `moscow_general` по жанру и посчитайте прослушивания треков каждого жанра методом `count()`. Затем отсортируйте результат в порядке убывания и сохраните его в таблице `moscow_genres`."
   ]
  },
  {
   "cell_type": "code",
   "execution_count": 35,
   "metadata": {
    "deletable": false,
    "id": "r19lIPke_Zcu"
   },
   "outputs": [],
   "source": [
    "# одной строкой: группировка таблицы moscow_general по столбцу 'genre', \n",
    "# подсчёт числа значений 'genre' в этой группировке методом count(), \n",
    "# сортировка получившегося Series в порядке убывания и сохранение в moscow_genres\n",
    "moscow_genres = moscow_general.groupby('genre')['genre'].count().sort_values(ascending=False)"
   ]
  },
  {
   "cell_type": "markdown",
   "metadata": {
    "deletable": false,
    "editable": false,
    "id": "6kMuomxTiIr8",
    "tags": [
     "start_task"
    ]
   },
   "source": [
    "**Задание 27**\n",
    "\n",
    "Выведите на экран первые десять строк `moscow_genres`:"
   ]
  },
  {
   "cell_type": "code",
   "execution_count": 36,
   "metadata": {
    "deletable": false,
    "id": "WhCSooF8_Zcv"
   },
   "outputs": [
    {
     "name": "stdout",
     "output_type": "stream",
     "text": [
      "genre\n",
      "pop            5892\n",
      "dance          4435\n",
      "rock           3965\n",
      "electronic     3786\n",
      "hiphop         2096\n",
      "classical      1616\n",
      "world          1432\n",
      "alternative    1379\n",
      "ruspop         1372\n",
      "rusrap         1161\n",
      "Name: genre, dtype: int64\n"
     ]
    }
   ],
   "source": [
    "# просмотр первых 10 строк moscow_genres\n",
    "print(moscow_genres.head(10))"
   ]
  },
  {
   "cell_type": "markdown",
   "metadata": {
    "deletable": false,
    "editable": false,
    "id": "cnPG2vnN_Zcv",
    "tags": [
     "start_task"
    ]
   },
   "source": [
    "**Задание 28**\n",
    "\n",
    "\n",
    "Теперь повторите то же и для Петербурга.\n",
    "\n",
    "Сгруппируйте таблицу `spb_general` по жанру. Посчитайте прослушивания треков каждого жанра. Результат отсортируйте в порядке убывания и сохраните в таблице `spb_genres`:\n"
   ]
  },
  {
   "cell_type": "code",
   "execution_count": 41,
   "metadata": {
    "deletable": false,
    "id": "gluLIpE7_Zcv"
   },
   "outputs": [],
   "source": [
    "# одной строкой: группировка таблицы spb_general по столбцу 'genre', \n",
    "# подсчёт числа значений 'genre' в этой группировке методом count(), \n",
    "# сортировка получившегося Series в порядке убывания и сохранение в spb_genres\n",
    "spb_genres = spb_general.groupby('genre')['genre'].count().sort_values(ascending=False)"
   ]
  },
  {
   "cell_type": "markdown",
   "metadata": {
    "deletable": false,
    "editable": false,
    "id": "5Doha_ODgyQ8",
    "tags": [
     "start_task"
    ]
   },
   "source": [
    "**Задание 29**\n",
    "\n",
    "Выведите на экран первые десять строк `spb_genres`:"
   ]
  },
  {
   "cell_type": "code",
   "execution_count": 42,
   "metadata": {
    "deletable": false,
    "id": "uaGJHjVU_Zcv"
   },
   "outputs": [
    {
     "name": "stdout",
     "output_type": "stream",
     "text": [
      "genre\n",
      "pop            2431\n",
      "dance          1932\n",
      "rock           1879\n",
      "electronic     1736\n",
      "hiphop          960\n",
      "alternative     649\n",
      "classical       646\n",
      "rusrap          564\n",
      "ruspop          538\n",
      "world           515\n",
      "Name: genre, dtype: int64\n"
     ]
    }
   ],
   "source": [
    "# просмотр первых 10 строк spb_genres\n",
    "print(spb_genres.head(10))"
   ]
  },
  {
   "cell_type": "markdown",
   "metadata": {
    "deletable": false,
    "editable": false,
    "id": "RY51YJYu_Zcv"
   },
   "source": [
    "**Выводы**"
   ]
  },
  {
   "cell_type": "markdown",
   "metadata": {
    "deletable": false,
    "editable": false,
    "id": "nVhnJEm__Zcv"
   },
   "source": [
    "Гипотеза частично подтвердилась:\n",
    "* Поп-музыка — самый популярный жанр в Москве, как и предполагала гипотеза. Более того, в топ-10 жанров встречается близкий жанр — русская популярная музыка.\n",
    "* Вопреки ожиданиям, рэп одинаково популярен в Москве и Петербурге. \n"
   ]
  },
  {
   "cell_type": "markdown",
   "metadata": {
    "deletable": false,
    "editable": false,
    "id": "ykKQ0N65_Zcv"
   },
   "source": [
    "## Итоги исследования"
   ]
  },
  {
   "cell_type": "markdown",
   "metadata": {
    "deletable": false,
    "editable": false,
    "id": "tjUwbHb3_Zcv"
   },
   "source": [
    "Вы проверили три гипотезы и установили:\n",
    "\n",
    "1. День недели по-разному влияет на активность пользователей в Москве и Петербурге. \n",
    "\n",
    "Первая гипотеза полностью подтвердилась.\n",
    "\n",
    "2. Музыкальные предпочтения не сильно меняются в течение недели — будь то Москва или Петербург. Небольшие различия заметны в начале недели, по понедельникам:\n",
    "* в Москве слушают музыку жанра “world”,\n",
    "* в Петербурге — джаз и классику.\n",
    "\n",
    "Таким образом, вторая гипотеза подтвердилась лишь отчасти. Этот результат мог оказаться иным, если бы не пропуски в данных.\n",
    "\n",
    "3. Во вкусах пользователей Москвы и Петербурга больше общего чем различий. Вопреки ожиданиям, предпочтения жанров в Петербурге напоминают московские.\n",
    "\n",
    "Третья гипотеза не подтвердилась. Если различия в предпочтениях и существуют, на основной массе пользователей они незаметны.\n",
    "\n",
    "**На практике исследования содержат проверки статистических гипотез.**\n",
    "Из данных одного сервиса не всегда можно сделать вывод о всех жителях города.\n",
    "Проверки статистических гипотез покажут, насколько они достоверны, исходя из имеющихся данных. \n",
    "С методами проверок гипотез вы ещё познакомитесь в следующих темах."
   ]
  }
 ],
 "metadata": {
  "ExecuteTimeLog": [
   {
    "duration": 341,
    "start_time": "2022-08-06T10:16:43.819Z"
   },
   {
    "duration": 2,
    "start_time": "2022-08-06T10:16:54.408Z"
   },
   {
    "duration": 60,
    "start_time": "2022-08-06T10:20:59.853Z"
   },
   {
    "duration": 2,
    "start_time": "2022-08-06T10:21:20.612Z"
   },
   {
    "duration": 404,
    "start_time": "2022-08-06T10:21:22.716Z"
   },
   {
    "duration": 16,
    "start_time": "2022-08-06T10:21:25.608Z"
   },
   {
    "duration": 10,
    "start_time": "2022-08-06T10:24:14.502Z"
   },
   {
    "duration": 13,
    "start_time": "2022-08-06T10:24:19.237Z"
   },
   {
    "duration": 11,
    "start_time": "2022-08-06T10:25:00.653Z"
   },
   {
    "duration": 24,
    "start_time": "2022-08-06T10:29:59.508Z"
   },
   {
    "duration": 8,
    "start_time": "2022-08-06T10:33:24.780Z"
   },
   {
    "duration": 3,
    "start_time": "2022-08-06T10:33:42.276Z"
   },
   {
    "duration": 19,
    "start_time": "2022-08-06T10:37:28.207Z"
   },
   {
    "duration": 19,
    "start_time": "2022-08-06T10:38:38.234Z"
   },
   {
    "duration": 11,
    "start_time": "2022-08-06T10:39:31.378Z"
   },
   {
    "duration": 11,
    "start_time": "2022-08-06T10:40:57.077Z"
   },
   {
    "duration": 31,
    "start_time": "2022-08-06T10:42:48.189Z"
   },
   {
    "duration": 24,
    "start_time": "2022-08-06T10:48:37.749Z"
   },
   {
    "duration": 17,
    "start_time": "2022-08-06T10:53:46.502Z"
   },
   {
    "duration": 19,
    "start_time": "2022-08-06T10:54:40.742Z"
   },
   {
    "duration": 59,
    "start_time": "2022-08-06T10:56:03.978Z"
   },
   {
    "duration": 14,
    "start_time": "2022-08-06T10:57:18.830Z"
   },
   {
    "duration": 7,
    "start_time": "2022-08-06T10:58:38.341Z"
   },
   {
    "duration": 7,
    "start_time": "2022-08-06T10:59:03.535Z"
   },
   {
    "duration": 82,
    "start_time": "2022-08-06T10:59:27.926Z"
   },
   {
    "duration": 67,
    "start_time": "2022-08-06T11:05:57.006Z"
   },
   {
    "duration": 65,
    "start_time": "2022-08-06T11:06:17.545Z"
   },
   {
    "duration": 77,
    "start_time": "2022-08-06T11:06:32.517Z"
   },
   {
    "duration": 67,
    "start_time": "2022-08-06T11:06:35.450Z"
   },
   {
    "duration": 66,
    "start_time": "2022-08-06T11:06:45.215Z"
   },
   {
    "duration": 54,
    "start_time": "2022-08-06T11:06:51.176Z"
   },
   {
    "duration": 75,
    "start_time": "2022-08-06T11:09:08.145Z"
   },
   {
    "duration": 4,
    "start_time": "2022-08-06T11:09:27.231Z"
   },
   {
    "duration": 50,
    "start_time": "2022-08-06T11:11:07.600Z"
   },
   {
    "duration": 3,
    "start_time": "2022-08-06T11:12:58.401Z"
   },
   {
    "duration": 6,
    "start_time": "2022-08-06T11:14:03.600Z"
   },
   {
    "duration": 4,
    "start_time": "2022-08-06T11:15:10.928Z"
   },
   {
    "duration": 31,
    "start_time": "2022-08-06T11:16:12.337Z"
   },
   {
    "duration": 33,
    "start_time": "2022-08-06T11:17:04.506Z"
   },
   {
    "duration": 34,
    "start_time": "2022-08-06T11:18:37.538Z"
   },
   {
    "duration": 34,
    "start_time": "2022-08-06T11:18:46.594Z"
   },
   {
    "duration": 12,
    "start_time": "2022-08-06T11:20:07.337Z"
   },
   {
    "duration": 33,
    "start_time": "2022-08-06T11:20:58.507Z"
   },
   {
    "duration": 36,
    "start_time": "2022-08-06T11:21:07.283Z"
   },
   {
    "duration": 31,
    "start_time": "2022-08-06T11:22:29.986Z"
   },
   {
    "duration": 32,
    "start_time": "2022-08-06T11:29:55.578Z"
   },
   {
    "duration": 30,
    "start_time": "2022-08-06T11:30:00.331Z"
   },
   {
    "duration": 33,
    "start_time": "2022-08-06T11:30:38.115Z"
   },
   {
    "duration": 78,
    "start_time": "2022-08-06T11:35:54.915Z"
   },
   {
    "duration": 7,
    "start_time": "2022-08-06T11:38:21.018Z"
   },
   {
    "duration": 7,
    "start_time": "2022-08-06T11:39:24.539Z"
   },
   {
    "duration": 8,
    "start_time": "2022-08-06T11:40:40.620Z"
   },
   {
    "duration": 8,
    "start_time": "2022-08-06T11:41:07.482Z"
   },
   {
    "duration": 8,
    "start_time": "2022-08-06T11:42:14.362Z"
   },
   {
    "duration": 9,
    "start_time": "2022-08-06T11:42:16.898Z"
   },
   {
    "duration": 29,
    "start_time": "2022-08-06T11:44:08.626Z"
   },
   {
    "duration": 30,
    "start_time": "2022-08-06T11:44:33.146Z"
   },
   {
    "duration": 30,
    "start_time": "2022-08-06T11:46:04.590Z"
   },
   {
    "duration": 85,
    "start_time": "2022-08-06T11:46:11.694Z"
   },
   {
    "duration": 31,
    "start_time": "2022-08-06T11:46:15.378Z"
   },
   {
    "duration": 50,
    "start_time": "2022-08-06T12:09:21.654Z"
   },
   {
    "duration": 6,
    "start_time": "2022-08-06T12:09:48.539Z"
   },
   {
    "duration": 388,
    "start_time": "2022-08-06T12:09:55.627Z"
   },
   {
    "duration": 168,
    "start_time": "2022-08-06T12:09:56.017Z"
   },
   {
    "duration": 16,
    "start_time": "2022-08-06T12:09:56.186Z"
   },
   {
    "duration": 29,
    "start_time": "2022-08-06T12:09:56.203Z"
   },
   {
    "duration": 2,
    "start_time": "2022-08-06T12:09:56.234Z"
   },
   {
    "duration": 5,
    "start_time": "2022-08-06T12:09:56.255Z"
   },
   {
    "duration": 22,
    "start_time": "2022-08-06T12:09:56.262Z"
   },
   {
    "duration": 5,
    "start_time": "2022-08-06T12:09:56.285Z"
   },
   {
    "duration": 35,
    "start_time": "2022-08-06T12:09:56.292Z"
   },
   {
    "duration": 17,
    "start_time": "2022-08-06T12:09:56.329Z"
   },
   {
    "duration": 28,
    "start_time": "2022-08-06T12:09:56.362Z"
   },
   {
    "duration": 66,
    "start_time": "2022-08-06T12:09:56.392Z"
   },
   {
    "duration": 70,
    "start_time": "2022-08-06T12:09:56.461Z"
   },
   {
    "duration": 76,
    "start_time": "2022-08-06T12:09:56.533Z"
   },
   {
    "duration": 31,
    "start_time": "2022-08-06T12:09:56.611Z"
   },
   {
    "duration": 96,
    "start_time": "2022-08-06T12:09:56.643Z"
   },
   {
    "duration": 58,
    "start_time": "2022-08-06T12:09:56.741Z"
   },
   {
    "duration": 4,
    "start_time": "2022-08-06T12:09:56.801Z"
   },
   {
    "duration": 7,
    "start_time": "2022-08-06T12:09:56.807Z"
   },
   {
    "duration": 6,
    "start_time": "2022-08-06T12:09:56.815Z"
   },
   {
    "duration": 7,
    "start_time": "2022-08-06T12:09:56.822Z"
   },
   {
    "duration": 5,
    "start_time": "2022-08-06T12:09:56.830Z"
   },
   {
    "duration": 19,
    "start_time": "2022-08-06T12:09:56.836Z"
   },
   {
    "duration": 3,
    "start_time": "2022-08-06T12:09:56.857Z"
   },
   {
    "duration": 13,
    "start_time": "2022-08-06T12:09:56.861Z"
   },
   {
    "duration": 11,
    "start_time": "2022-08-06T12:09:56.877Z"
   },
   {
    "duration": 4,
    "start_time": "2022-08-06T12:09:56.889Z"
   },
   {
    "duration": 4,
    "start_time": "2022-08-06T12:09:56.896Z"
   },
   {
    "duration": 6,
    "start_time": "2022-08-06T12:09:56.901Z"
   },
   {
    "duration": 85,
    "start_time": "2022-08-06T12:09:56.908Z"
   },
   {
    "duration": 0,
    "start_time": "2022-08-06T12:09:56.994Z"
   },
   {
    "duration": 0,
    "start_time": "2022-08-06T12:09:56.995Z"
   },
   {
    "duration": 0,
    "start_time": "2022-08-06T12:09:56.997Z"
   },
   {
    "duration": 0,
    "start_time": "2022-08-06T12:09:56.998Z"
   },
   {
    "duration": 0,
    "start_time": "2022-08-06T12:09:56.999Z"
   },
   {
    "duration": 0,
    "start_time": "2022-08-06T12:09:57.000Z"
   },
   {
    "duration": 0,
    "start_time": "2022-08-06T12:09:57.001Z"
   },
   {
    "duration": 0,
    "start_time": "2022-08-06T12:09:57.003Z"
   },
   {
    "duration": 3,
    "start_time": "2022-08-06T12:10:07.824Z"
   },
   {
    "duration": 72,
    "start_time": "2022-08-06T12:10:16.823Z"
   },
   {
    "duration": 4,
    "start_time": "2022-08-06T12:10:29.751Z"
   },
   {
    "duration": 8,
    "start_time": "2022-08-06T12:10:44.831Z"
   },
   {
    "duration": 4,
    "start_time": "2022-08-06T12:11:06.737Z"
   },
   {
    "duration": 10,
    "start_time": "2022-08-06T12:11:13.392Z"
   },
   {
    "duration": 12,
    "start_time": "2022-08-06T12:11:22.774Z"
   },
   {
    "duration": 10,
    "start_time": "2022-08-06T12:11:28.031Z"
   },
   {
    "duration": 9,
    "start_time": "2022-08-06T12:11:49.401Z"
   },
   {
    "duration": 8,
    "start_time": "2022-08-06T12:12:09.512Z"
   },
   {
    "duration": 11,
    "start_time": "2022-08-06T12:13:01.857Z"
   },
   {
    "duration": 8,
    "start_time": "2022-08-06T12:13:08.017Z"
   },
   {
    "duration": 9,
    "start_time": "2022-08-06T12:13:53.847Z"
   },
   {
    "duration": 10,
    "start_time": "2022-08-06T12:14:02.672Z"
   },
   {
    "duration": 354,
    "start_time": "2022-08-06T12:14:26.006Z"
   },
   {
    "duration": 157,
    "start_time": "2022-08-06T12:14:26.362Z"
   },
   {
    "duration": 19,
    "start_time": "2022-08-06T12:14:26.521Z"
   },
   {
    "duration": 40,
    "start_time": "2022-08-06T12:14:26.554Z"
   },
   {
    "duration": 13,
    "start_time": "2022-08-06T12:14:26.595Z"
   },
   {
    "duration": 6,
    "start_time": "2022-08-06T12:14:26.613Z"
   },
   {
    "duration": 32,
    "start_time": "2022-08-06T12:14:26.620Z"
   },
   {
    "duration": 9,
    "start_time": "2022-08-06T12:14:26.654Z"
   },
   {
    "duration": 26,
    "start_time": "2022-08-06T12:14:26.665Z"
   },
   {
    "duration": 27,
    "start_time": "2022-08-06T12:14:26.694Z"
   },
   {
    "duration": 23,
    "start_time": "2022-08-06T12:14:26.722Z"
   },
   {
    "duration": 116,
    "start_time": "2022-08-06T12:14:26.747Z"
   },
   {
    "duration": 94,
    "start_time": "2022-08-06T12:14:26.865Z"
   },
   {
    "duration": 64,
    "start_time": "2022-08-06T12:14:26.961Z"
   },
   {
    "duration": 46,
    "start_time": "2022-08-06T12:14:27.027Z"
   },
   {
    "duration": 84,
    "start_time": "2022-08-06T12:14:27.075Z"
   },
   {
    "duration": 31,
    "start_time": "2022-08-06T12:14:27.161Z"
   },
   {
    "duration": 71,
    "start_time": "2022-08-06T12:14:27.194Z"
   },
   {
    "duration": 0,
    "start_time": "2022-08-06T12:14:27.267Z"
   },
   {
    "duration": 0,
    "start_time": "2022-08-06T12:14:27.268Z"
   },
   {
    "duration": 0,
    "start_time": "2022-08-06T12:14:27.269Z"
   },
   {
    "duration": 0,
    "start_time": "2022-08-06T12:14:27.271Z"
   },
   {
    "duration": 0,
    "start_time": "2022-08-06T12:14:27.272Z"
   },
   {
    "duration": 0,
    "start_time": "2022-08-06T12:14:27.273Z"
   },
   {
    "duration": 0,
    "start_time": "2022-08-06T12:14:27.274Z"
   },
   {
    "duration": 0,
    "start_time": "2022-08-06T12:14:27.275Z"
   },
   {
    "duration": 0,
    "start_time": "2022-08-06T12:14:27.276Z"
   },
   {
    "duration": 0,
    "start_time": "2022-08-06T12:14:27.278Z"
   },
   {
    "duration": 0,
    "start_time": "2022-08-06T12:14:27.279Z"
   },
   {
    "duration": 0,
    "start_time": "2022-08-06T12:14:27.280Z"
   },
   {
    "duration": 0,
    "start_time": "2022-08-06T12:14:27.281Z"
   },
   {
    "duration": 0,
    "start_time": "2022-08-06T12:14:27.282Z"
   },
   {
    "duration": 0,
    "start_time": "2022-08-06T12:14:27.282Z"
   },
   {
    "duration": 0,
    "start_time": "2022-08-06T12:14:27.283Z"
   },
   {
    "duration": 0,
    "start_time": "2022-08-06T12:14:27.286Z"
   },
   {
    "duration": 0,
    "start_time": "2022-08-06T12:14:27.287Z"
   },
   {
    "duration": 0,
    "start_time": "2022-08-06T12:14:27.288Z"
   },
   {
    "duration": 0,
    "start_time": "2022-08-06T12:14:27.290Z"
   },
   {
    "duration": 5,
    "start_time": "2022-08-06T12:18:35.313Z"
   },
   {
    "duration": 4,
    "start_time": "2022-08-06T12:18:40.633Z"
   },
   {
    "duration": 6,
    "start_time": "2022-08-06T12:19:08.585Z"
   },
   {
    "duration": 4,
    "start_time": "2022-08-06T12:19:39.968Z"
   },
   {
    "duration": 11,
    "start_time": "2022-08-06T12:20:03.401Z"
   },
   {
    "duration": 29,
    "start_time": "2022-08-06T12:20:12.449Z"
   },
   {
    "duration": 11,
    "start_time": "2022-08-06T12:20:48.606Z"
   },
   {
    "duration": 11,
    "start_time": "2022-08-06T12:21:10.145Z"
   },
   {
    "duration": 10,
    "start_time": "2022-08-06T12:22:16.361Z"
   },
   {
    "duration": 11,
    "start_time": "2022-08-06T12:22:23.826Z"
   },
   {
    "duration": 10,
    "start_time": "2022-08-06T12:22:29.937Z"
   },
   {
    "duration": 11,
    "start_time": "2022-08-06T12:22:34.386Z"
   },
   {
    "duration": 11,
    "start_time": "2022-08-06T12:24:39.154Z"
   },
   {
    "duration": 4,
    "start_time": "2022-08-06T12:45:09.763Z"
   },
   {
    "duration": 5,
    "start_time": "2022-08-06T12:46:08.116Z"
   },
   {
    "duration": 3,
    "start_time": "2022-08-06T12:46:23.541Z"
   },
   {
    "duration": 378,
    "start_time": "2022-08-06T12:49:19.319Z"
   },
   {
    "duration": 177,
    "start_time": "2022-08-06T12:49:19.699Z"
   },
   {
    "duration": 18,
    "start_time": "2022-08-06T12:49:19.878Z"
   },
   {
    "duration": 25,
    "start_time": "2022-08-06T12:49:19.897Z"
   },
   {
    "duration": 1,
    "start_time": "2022-08-06T12:49:19.924Z"
   },
   {
    "duration": 4,
    "start_time": "2022-08-06T12:49:19.927Z"
   },
   {
    "duration": 31,
    "start_time": "2022-08-06T12:49:19.933Z"
   },
   {
    "duration": 7,
    "start_time": "2022-08-06T12:49:19.966Z"
   },
   {
    "duration": 24,
    "start_time": "2022-08-06T12:49:19.976Z"
   },
   {
    "duration": 18,
    "start_time": "2022-08-06T12:49:20.004Z"
   },
   {
    "duration": 39,
    "start_time": "2022-08-06T12:49:20.024Z"
   },
   {
    "duration": 68,
    "start_time": "2022-08-06T12:49:20.065Z"
   },
   {
    "duration": 76,
    "start_time": "2022-08-06T12:49:20.135Z"
   },
   {
    "duration": 64,
    "start_time": "2022-08-06T12:49:20.212Z"
   },
   {
    "duration": 32,
    "start_time": "2022-08-06T12:49:20.278Z"
   },
   {
    "duration": 93,
    "start_time": "2022-08-06T12:49:20.312Z"
   },
   {
    "duration": 31,
    "start_time": "2022-08-06T12:49:20.407Z"
   },
   {
    "duration": 22,
    "start_time": "2022-08-06T12:49:20.440Z"
   },
   {
    "duration": 12,
    "start_time": "2022-08-06T12:49:20.464Z"
   },
   {
    "duration": 9,
    "start_time": "2022-08-06T12:49:20.478Z"
   },
   {
    "duration": 11,
    "start_time": "2022-08-06T12:49:20.488Z"
   },
   {
    "duration": 13,
    "start_time": "2022-08-06T12:49:20.500Z"
   },
   {
    "duration": 19,
    "start_time": "2022-08-06T12:49:20.515Z"
   },
   {
    "duration": 10,
    "start_time": "2022-08-06T12:49:20.536Z"
   },
   {
    "duration": 7,
    "start_time": "2022-08-06T12:49:20.547Z"
   },
   {
    "duration": 9,
    "start_time": "2022-08-06T12:49:20.556Z"
   },
   {
    "duration": 11,
    "start_time": "2022-08-06T12:49:20.567Z"
   },
   {
    "duration": 4,
    "start_time": "2022-08-06T12:49:20.581Z"
   },
   {
    "duration": 5,
    "start_time": "2022-08-06T12:49:20.587Z"
   },
   {
    "duration": 71,
    "start_time": "2022-08-06T12:49:20.594Z"
   },
   {
    "duration": 0,
    "start_time": "2022-08-06T12:49:20.667Z"
   },
   {
    "duration": 0,
    "start_time": "2022-08-06T12:49:20.668Z"
   },
   {
    "duration": 0,
    "start_time": "2022-08-06T12:49:20.669Z"
   },
   {
    "duration": 0,
    "start_time": "2022-08-06T12:49:20.670Z"
   },
   {
    "duration": 0,
    "start_time": "2022-08-06T12:49:20.672Z"
   },
   {
    "duration": 0,
    "start_time": "2022-08-06T12:49:20.673Z"
   },
   {
    "duration": 0,
    "start_time": "2022-08-06T12:49:20.674Z"
   },
   {
    "duration": 0,
    "start_time": "2022-08-06T12:49:20.675Z"
   },
   {
    "duration": 3,
    "start_time": "2022-08-06T12:49:51.529Z"
   },
   {
    "duration": 3,
    "start_time": "2022-08-06T12:50:16.184Z"
   },
   {
    "duration": 59,
    "start_time": "2022-08-06T12:51:18.655Z"
   },
   {
    "duration": 7,
    "start_time": "2022-08-06T12:51:33.945Z"
   },
   {
    "duration": 7,
    "start_time": "2022-08-06T12:51:51.968Z"
   },
   {
    "duration": 8,
    "start_time": "2022-08-06T12:52:10.329Z"
   },
   {
    "duration": 4,
    "start_time": "2022-08-06T12:52:45.984Z"
   },
   {
    "duration": 4,
    "start_time": "2022-08-06T12:53:40.318Z"
   },
   {
    "duration": 4,
    "start_time": "2022-08-06T12:54:31.719Z"
   },
   {
    "duration": 345,
    "start_time": "2022-08-06T12:54:45.900Z"
   },
   {
    "duration": 161,
    "start_time": "2022-08-06T12:54:46.247Z"
   },
   {
    "duration": 15,
    "start_time": "2022-08-06T12:54:46.410Z"
   },
   {
    "duration": 31,
    "start_time": "2022-08-06T12:54:46.427Z"
   },
   {
    "duration": 2,
    "start_time": "2022-08-06T12:54:46.460Z"
   },
   {
    "duration": 7,
    "start_time": "2022-08-06T12:54:46.463Z"
   },
   {
    "duration": 17,
    "start_time": "2022-08-06T12:54:46.471Z"
   },
   {
    "duration": 9,
    "start_time": "2022-08-06T12:54:46.491Z"
   },
   {
    "duration": 28,
    "start_time": "2022-08-06T12:54:46.502Z"
   },
   {
    "duration": 44,
    "start_time": "2022-08-06T12:54:46.533Z"
   },
   {
    "duration": 36,
    "start_time": "2022-08-06T12:54:46.579Z"
   },
   {
    "duration": 83,
    "start_time": "2022-08-06T12:54:46.617Z"
   },
   {
    "duration": 83,
    "start_time": "2022-08-06T12:54:46.703Z"
   },
   {
    "duration": 68,
    "start_time": "2022-08-06T12:54:46.787Z"
   },
   {
    "duration": 49,
    "start_time": "2022-08-06T12:54:46.857Z"
   },
   {
    "duration": 100,
    "start_time": "2022-08-06T12:54:46.908Z"
   },
   {
    "duration": 37,
    "start_time": "2022-08-06T12:54:47.010Z"
   },
   {
    "duration": 12,
    "start_time": "2022-08-06T12:54:47.055Z"
   },
   {
    "duration": 12,
    "start_time": "2022-08-06T12:54:47.068Z"
   },
   {
    "duration": 3,
    "start_time": "2022-08-06T12:54:47.081Z"
   },
   {
    "duration": 7,
    "start_time": "2022-08-06T12:54:47.086Z"
   },
   {
    "duration": 5,
    "start_time": "2022-08-06T12:54:47.095Z"
   },
   {
    "duration": 9,
    "start_time": "2022-08-06T12:54:47.102Z"
   },
   {
    "duration": 6,
    "start_time": "2022-08-06T12:54:47.112Z"
   },
   {
    "duration": 4,
    "start_time": "2022-08-06T12:54:47.120Z"
   },
   {
    "duration": 5,
    "start_time": "2022-08-06T12:54:47.126Z"
   },
   {
    "duration": 6,
    "start_time": "2022-08-06T12:54:47.155Z"
   },
   {
    "duration": 18,
    "start_time": "2022-08-06T12:54:47.166Z"
   },
   {
    "duration": 7,
    "start_time": "2022-08-06T12:54:47.186Z"
   },
   {
    "duration": 72,
    "start_time": "2022-08-06T12:54:47.195Z"
   },
   {
    "duration": 0,
    "start_time": "2022-08-06T12:54:47.269Z"
   },
   {
    "duration": 0,
    "start_time": "2022-08-06T12:54:47.270Z"
   },
   {
    "duration": 0,
    "start_time": "2022-08-06T12:54:47.271Z"
   },
   {
    "duration": 0,
    "start_time": "2022-08-06T12:54:47.273Z"
   },
   {
    "duration": 0,
    "start_time": "2022-08-06T12:54:47.274Z"
   },
   {
    "duration": 0,
    "start_time": "2022-08-06T12:54:47.276Z"
   },
   {
    "duration": 1,
    "start_time": "2022-08-06T12:54:47.277Z"
   },
   {
    "duration": 0,
    "start_time": "2022-08-06T12:54:47.279Z"
   },
   {
    "duration": 54,
    "start_time": "2022-08-06T13:01:08.244Z"
   },
   {
    "duration": 7,
    "start_time": "2022-08-06T13:01:42.659Z"
   },
   {
    "duration": 16,
    "start_time": "2022-08-06T13:01:50.652Z"
   },
   {
    "duration": 11,
    "start_time": "2022-08-06T13:01:53.284Z"
   },
   {
    "duration": 3,
    "start_time": "2022-08-06T13:02:24.812Z"
   },
   {
    "duration": 4,
    "start_time": "2022-08-06T13:03:28.629Z"
   },
   {
    "duration": 3,
    "start_time": "2022-08-06T13:03:30.183Z"
   },
   {
    "duration": 4,
    "start_time": "2022-08-06T13:07:47.673Z"
   },
   {
    "duration": 15,
    "start_time": "2022-08-06T13:08:57.965Z"
   },
   {
    "duration": 14,
    "start_time": "2022-08-06T13:11:26.685Z"
   },
   {
    "duration": 17,
    "start_time": "2022-08-06T13:11:27.389Z"
   },
   {
    "duration": 13,
    "start_time": "2022-08-06T13:11:27.925Z"
   },
   {
    "duration": 15,
    "start_time": "2022-08-06T13:11:28.357Z"
   },
   {
    "duration": 387,
    "start_time": "2022-08-06T13:11:45.338Z"
   },
   {
    "duration": 147,
    "start_time": "2022-08-06T13:11:45.726Z"
   },
   {
    "duration": 15,
    "start_time": "2022-08-06T13:11:45.874Z"
   },
   {
    "duration": 24,
    "start_time": "2022-08-06T13:11:45.890Z"
   },
   {
    "duration": 2,
    "start_time": "2022-08-06T13:11:45.915Z"
   },
   {
    "duration": 6,
    "start_time": "2022-08-06T13:11:45.918Z"
   },
   {
    "duration": 31,
    "start_time": "2022-08-06T13:11:45.925Z"
   },
   {
    "duration": 4,
    "start_time": "2022-08-06T13:11:45.957Z"
   },
   {
    "duration": 26,
    "start_time": "2022-08-06T13:11:45.962Z"
   },
   {
    "duration": 18,
    "start_time": "2022-08-06T13:11:45.990Z"
   },
   {
    "duration": 19,
    "start_time": "2022-08-06T13:11:46.010Z"
   },
   {
    "duration": 76,
    "start_time": "2022-08-06T13:11:46.031Z"
   },
   {
    "duration": 72,
    "start_time": "2022-08-06T13:11:46.108Z"
   },
   {
    "duration": 53,
    "start_time": "2022-08-06T13:11:46.182Z"
   },
   {
    "duration": 42,
    "start_time": "2022-08-06T13:11:46.236Z"
   },
   {
    "duration": 77,
    "start_time": "2022-08-06T13:11:46.279Z"
   },
   {
    "duration": 29,
    "start_time": "2022-08-06T13:11:46.358Z"
   },
   {
    "duration": 10,
    "start_time": "2022-08-06T13:11:46.389Z"
   },
   {
    "duration": 9,
    "start_time": "2022-08-06T13:11:46.401Z"
   },
   {
    "duration": 4,
    "start_time": "2022-08-06T13:11:46.411Z"
   },
   {
    "duration": 41,
    "start_time": "2022-08-06T13:11:46.416Z"
   },
   {
    "duration": 13,
    "start_time": "2022-08-06T13:11:46.458Z"
   },
   {
    "duration": 13,
    "start_time": "2022-08-06T13:11:46.472Z"
   },
   {
    "duration": 11,
    "start_time": "2022-08-06T13:11:46.486Z"
   },
   {
    "duration": 13,
    "start_time": "2022-08-06T13:11:46.499Z"
   },
   {
    "duration": 41,
    "start_time": "2022-08-06T13:11:46.514Z"
   },
   {
    "duration": 3,
    "start_time": "2022-08-06T13:11:46.556Z"
   },
   {
    "duration": 6,
    "start_time": "2022-08-06T13:11:46.561Z"
   },
   {
    "duration": 4,
    "start_time": "2022-08-06T13:11:46.568Z"
   },
   {
    "duration": 107,
    "start_time": "2022-08-06T13:11:46.573Z"
   },
   {
    "duration": 0,
    "start_time": "2022-08-06T13:11:46.681Z"
   },
   {
    "duration": 0,
    "start_time": "2022-08-06T13:11:46.683Z"
   },
   {
    "duration": 0,
    "start_time": "2022-08-06T13:11:46.684Z"
   },
   {
    "duration": 0,
    "start_time": "2022-08-06T13:11:46.685Z"
   },
   {
    "duration": 0,
    "start_time": "2022-08-06T13:11:46.686Z"
   },
   {
    "duration": 0,
    "start_time": "2022-08-06T13:11:46.687Z"
   },
   {
    "duration": 0,
    "start_time": "2022-08-06T13:11:46.688Z"
   },
   {
    "duration": 0,
    "start_time": "2022-08-06T13:11:46.689Z"
   },
   {
    "duration": 59,
    "start_time": "2022-08-06T13:20:45.864Z"
   },
   {
    "duration": 8,
    "start_time": "2022-08-06T13:22:03.049Z"
   },
   {
    "duration": 7,
    "start_time": "2022-08-06T13:22:16.369Z"
   },
   {
    "duration": 4,
    "start_time": "2022-08-06T13:32:59.298Z"
   },
   {
    "duration": 392,
    "start_time": "2022-08-06T13:33:56.645Z"
   },
   {
    "duration": 143,
    "start_time": "2022-08-06T13:33:57.038Z"
   },
   {
    "duration": 17,
    "start_time": "2022-08-06T13:33:57.182Z"
   },
   {
    "duration": 25,
    "start_time": "2022-08-06T13:33:57.202Z"
   },
   {
    "duration": 2,
    "start_time": "2022-08-06T13:33:57.229Z"
   },
   {
    "duration": 24,
    "start_time": "2022-08-06T13:33:57.233Z"
   },
   {
    "duration": 13,
    "start_time": "2022-08-06T13:33:57.259Z"
   },
   {
    "duration": 6,
    "start_time": "2022-08-06T13:33:57.274Z"
   },
   {
    "duration": 28,
    "start_time": "2022-08-06T13:33:57.282Z"
   },
   {
    "duration": 42,
    "start_time": "2022-08-06T13:33:57.313Z"
   },
   {
    "duration": 27,
    "start_time": "2022-08-06T13:33:57.357Z"
   },
   {
    "duration": 81,
    "start_time": "2022-08-06T13:33:57.386Z"
   },
   {
    "duration": 70,
    "start_time": "2022-08-06T13:33:57.470Z"
   },
   {
    "duration": 64,
    "start_time": "2022-08-06T13:33:57.541Z"
   },
   {
    "duration": 31,
    "start_time": "2022-08-06T13:33:57.607Z"
   },
   {
    "duration": 80,
    "start_time": "2022-08-06T13:33:57.639Z"
   },
   {
    "duration": 42,
    "start_time": "2022-08-06T13:33:57.721Z"
   },
   {
    "duration": 10,
    "start_time": "2022-08-06T13:33:57.764Z"
   },
   {
    "duration": 12,
    "start_time": "2022-08-06T13:33:57.776Z"
   },
   {
    "duration": 4,
    "start_time": "2022-08-06T13:33:57.791Z"
   },
   {
    "duration": 22,
    "start_time": "2022-08-06T13:33:57.796Z"
   },
   {
    "duration": 12,
    "start_time": "2022-08-06T13:33:57.819Z"
   },
   {
    "duration": 31,
    "start_time": "2022-08-06T13:33:57.832Z"
   },
   {
    "duration": 11,
    "start_time": "2022-08-06T13:33:57.865Z"
   },
   {
    "duration": 14,
    "start_time": "2022-08-06T13:33:57.877Z"
   },
   {
    "duration": 11,
    "start_time": "2022-08-06T13:33:57.893Z"
   },
   {
    "duration": 4,
    "start_time": "2022-08-06T13:33:57.906Z"
   },
   {
    "duration": 5,
    "start_time": "2022-08-06T13:33:57.912Z"
   },
   {
    "duration": 5,
    "start_time": "2022-08-06T13:33:57.918Z"
   },
   {
    "duration": 79,
    "start_time": "2022-08-06T13:33:57.925Z"
   },
   {
    "duration": 0,
    "start_time": "2022-08-06T13:33:58.006Z"
   },
   {
    "duration": 0,
    "start_time": "2022-08-06T13:33:58.007Z"
   },
   {
    "duration": 0,
    "start_time": "2022-08-06T13:33:58.008Z"
   },
   {
    "duration": 0,
    "start_time": "2022-08-06T13:33:58.009Z"
   },
   {
    "duration": 0,
    "start_time": "2022-08-06T13:33:58.010Z"
   },
   {
    "duration": 0,
    "start_time": "2022-08-06T13:33:58.011Z"
   },
   {
    "duration": 0,
    "start_time": "2022-08-06T13:33:58.011Z"
   },
   {
    "duration": 0,
    "start_time": "2022-08-06T13:33:58.013Z"
   },
   {
    "duration": 3,
    "start_time": "2022-08-06T13:34:15.987Z"
   },
   {
    "duration": 360,
    "start_time": "2022-08-06T13:34:22.270Z"
   },
   {
    "duration": 144,
    "start_time": "2022-08-06T13:34:22.632Z"
   },
   {
    "duration": 15,
    "start_time": "2022-08-06T13:34:22.777Z"
   },
   {
    "duration": 24,
    "start_time": "2022-08-06T13:34:22.793Z"
   },
   {
    "duration": 2,
    "start_time": "2022-08-06T13:34:22.818Z"
   },
   {
    "duration": 6,
    "start_time": "2022-08-06T13:34:22.821Z"
   },
   {
    "duration": 29,
    "start_time": "2022-08-06T13:34:22.829Z"
   },
   {
    "duration": 8,
    "start_time": "2022-08-06T13:34:22.860Z"
   },
   {
    "duration": 21,
    "start_time": "2022-08-06T13:34:22.869Z"
   },
   {
    "duration": 17,
    "start_time": "2022-08-06T13:34:22.893Z"
   },
   {
    "duration": 19,
    "start_time": "2022-08-06T13:34:22.912Z"
   },
   {
    "duration": 75,
    "start_time": "2022-08-06T13:34:22.932Z"
   },
   {
    "duration": 72,
    "start_time": "2022-08-06T13:34:23.008Z"
   },
   {
    "duration": 55,
    "start_time": "2022-08-06T13:34:23.081Z"
   },
   {
    "duration": 42,
    "start_time": "2022-08-06T13:34:23.137Z"
   },
   {
    "duration": 81,
    "start_time": "2022-08-06T13:34:23.180Z"
   },
   {
    "duration": 32,
    "start_time": "2022-08-06T13:34:23.262Z"
   },
   {
    "duration": 12,
    "start_time": "2022-08-06T13:34:23.295Z"
   },
   {
    "duration": 11,
    "start_time": "2022-08-06T13:34:23.308Z"
   },
   {
    "duration": 4,
    "start_time": "2022-08-06T13:34:23.320Z"
   },
   {
    "duration": 39,
    "start_time": "2022-08-06T13:34:23.325Z"
   },
   {
    "duration": 14,
    "start_time": "2022-08-06T13:34:23.366Z"
   },
   {
    "duration": 14,
    "start_time": "2022-08-06T13:34:23.381Z"
   },
   {
    "duration": 12,
    "start_time": "2022-08-06T13:34:23.396Z"
   },
   {
    "duration": 15,
    "start_time": "2022-08-06T13:34:23.410Z"
   },
   {
    "duration": 15,
    "start_time": "2022-08-06T13:34:23.455Z"
   },
   {
    "duration": 4,
    "start_time": "2022-08-06T13:34:23.471Z"
   },
   {
    "duration": 2,
    "start_time": "2022-08-06T13:34:23.479Z"
   },
   {
    "duration": 5,
    "start_time": "2022-08-06T13:34:23.482Z"
   },
   {
    "duration": 71,
    "start_time": "2022-08-06T13:34:23.489Z"
   },
   {
    "duration": 0,
    "start_time": "2022-08-06T13:34:23.561Z"
   },
   {
    "duration": 0,
    "start_time": "2022-08-06T13:34:23.562Z"
   },
   {
    "duration": 0,
    "start_time": "2022-08-06T13:34:23.563Z"
   },
   {
    "duration": 0,
    "start_time": "2022-08-06T13:34:23.564Z"
   },
   {
    "duration": 0,
    "start_time": "2022-08-06T13:34:23.565Z"
   },
   {
    "duration": 0,
    "start_time": "2022-08-06T13:34:23.565Z"
   },
   {
    "duration": 0,
    "start_time": "2022-08-06T13:34:23.567Z"
   },
   {
    "duration": 0,
    "start_time": "2022-08-06T13:34:23.567Z"
   },
   {
    "duration": 9,
    "start_time": "2022-08-06T13:35:20.936Z"
   },
   {
    "duration": 337,
    "start_time": "2022-08-06T13:36:13.788Z"
   },
   {
    "duration": 140,
    "start_time": "2022-08-06T13:36:14.127Z"
   },
   {
    "duration": 15,
    "start_time": "2022-08-06T13:36:14.269Z"
   },
   {
    "duration": 24,
    "start_time": "2022-08-06T13:36:14.285Z"
   },
   {
    "duration": 2,
    "start_time": "2022-08-06T13:36:14.310Z"
   },
   {
    "duration": 6,
    "start_time": "2022-08-06T13:36:14.314Z"
   },
   {
    "duration": 13,
    "start_time": "2022-08-06T13:36:14.322Z"
   },
   {
    "duration": 19,
    "start_time": "2022-08-06T13:36:14.336Z"
   },
   {
    "duration": 19,
    "start_time": "2022-08-06T13:36:14.356Z"
   },
   {
    "duration": 21,
    "start_time": "2022-08-06T13:36:14.376Z"
   },
   {
    "duration": 17,
    "start_time": "2022-08-06T13:36:14.399Z"
   },
   {
    "duration": 75,
    "start_time": "2022-08-06T13:36:14.417Z"
   },
   {
    "duration": 66,
    "start_time": "2022-08-06T13:36:14.494Z"
   },
   {
    "duration": 54,
    "start_time": "2022-08-06T13:36:14.563Z"
   },
   {
    "duration": 41,
    "start_time": "2022-08-06T13:36:14.618Z"
   },
   {
    "duration": 71,
    "start_time": "2022-08-06T13:36:14.661Z"
   },
   {
    "duration": 41,
    "start_time": "2022-08-06T13:36:14.733Z"
   },
   {
    "duration": 10,
    "start_time": "2022-08-06T13:36:14.776Z"
   },
   {
    "duration": 9,
    "start_time": "2022-08-06T13:36:14.787Z"
   },
   {
    "duration": 5,
    "start_time": "2022-08-06T13:36:14.797Z"
   },
   {
    "duration": 20,
    "start_time": "2022-08-06T13:36:14.804Z"
   },
   {
    "duration": 31,
    "start_time": "2022-08-06T13:36:14.825Z"
   },
   {
    "duration": 13,
    "start_time": "2022-08-06T13:36:14.857Z"
   },
   {
    "duration": 12,
    "start_time": "2022-08-06T13:36:14.872Z"
   },
   {
    "duration": 14,
    "start_time": "2022-08-06T13:36:14.885Z"
   },
   {
    "duration": 11,
    "start_time": "2022-08-06T13:36:14.900Z"
   },
   {
    "duration": 4,
    "start_time": "2022-08-06T13:36:14.913Z"
   },
   {
    "duration": 7,
    "start_time": "2022-08-06T13:36:14.919Z"
   },
   {
    "duration": 3,
    "start_time": "2022-08-06T13:36:14.956Z"
   },
   {
    "duration": 286,
    "start_time": "2022-08-06T13:36:14.960Z"
   },
   {
    "duration": 0,
    "start_time": "2022-08-06T13:36:15.247Z"
   },
   {
    "duration": 0,
    "start_time": "2022-08-06T13:36:15.248Z"
   },
   {
    "duration": 0,
    "start_time": "2022-08-06T13:36:15.250Z"
   },
   {
    "duration": 0,
    "start_time": "2022-08-06T13:36:15.250Z"
   },
   {
    "duration": 0,
    "start_time": "2022-08-06T13:36:15.252Z"
   },
   {
    "duration": 0,
    "start_time": "2022-08-06T13:36:15.252Z"
   },
   {
    "duration": 0,
    "start_time": "2022-08-06T13:36:15.253Z"
   },
   {
    "duration": 0,
    "start_time": "2022-08-06T13:36:15.254Z"
   },
   {
    "duration": 9,
    "start_time": "2022-08-06T13:44:54.252Z"
   },
   {
    "duration": 8,
    "start_time": "2022-08-06T13:45:30.085Z"
   },
   {
    "duration": 9,
    "start_time": "2022-08-06T14:00:08.262Z"
   },
   {
    "duration": 5,
    "start_time": "2022-08-06T14:01:27.503Z"
   },
   {
    "duration": 4,
    "start_time": "2022-08-06T14:06:45.283Z"
   },
   {
    "duration": 7,
    "start_time": "2022-08-06T14:07:58.953Z"
   },
   {
    "duration": 7,
    "start_time": "2022-08-06T14:08:16.791Z"
   },
   {
    "duration": 71,
    "start_time": "2022-08-06T14:08:35.652Z"
   },
   {
    "duration": 5,
    "start_time": "2022-08-06T14:08:53.976Z"
   },
   {
    "duration": 406,
    "start_time": "2022-08-06T14:09:04.475Z"
   },
   {
    "duration": 408,
    "start_time": "2022-08-06T14:09:04.882Z"
   },
   {
    "duration": 16,
    "start_time": "2022-08-06T14:09:05.292Z"
   },
   {
    "duration": 24,
    "start_time": "2022-08-06T14:09:05.310Z"
   },
   {
    "duration": 2,
    "start_time": "2022-08-06T14:09:05.336Z"
   },
   {
    "duration": 5,
    "start_time": "2022-08-06T14:09:05.340Z"
   },
   {
    "duration": 22,
    "start_time": "2022-08-06T14:09:05.347Z"
   },
   {
    "duration": 13,
    "start_time": "2022-08-06T14:09:05.370Z"
   },
   {
    "duration": 26,
    "start_time": "2022-08-06T14:09:05.384Z"
   },
   {
    "duration": 17,
    "start_time": "2022-08-06T14:09:05.413Z"
   },
   {
    "duration": 27,
    "start_time": "2022-08-06T14:09:05.431Z"
   },
   {
    "duration": 60,
    "start_time": "2022-08-06T14:09:05.460Z"
   },
   {
    "duration": 82,
    "start_time": "2022-08-06T14:09:05.522Z"
   },
   {
    "duration": 60,
    "start_time": "2022-08-06T14:09:05.605Z"
   },
   {
    "duration": 33,
    "start_time": "2022-08-06T14:09:05.667Z"
   },
   {
    "duration": 85,
    "start_time": "2022-08-06T14:09:05.702Z"
   },
   {
    "duration": 30,
    "start_time": "2022-08-06T14:09:05.789Z"
   },
   {
    "duration": 10,
    "start_time": "2022-08-06T14:09:05.820Z"
   },
   {
    "duration": 24,
    "start_time": "2022-08-06T14:09:05.832Z"
   },
   {
    "duration": 3,
    "start_time": "2022-08-06T14:09:05.857Z"
   },
   {
    "duration": 24,
    "start_time": "2022-08-06T14:09:05.862Z"
   },
   {
    "duration": 15,
    "start_time": "2022-08-06T14:09:05.888Z"
   },
   {
    "duration": 14,
    "start_time": "2022-08-06T14:09:05.904Z"
   },
   {
    "duration": 42,
    "start_time": "2022-08-06T14:09:05.919Z"
   },
   {
    "duration": 20,
    "start_time": "2022-08-06T14:09:05.963Z"
   },
   {
    "duration": 11,
    "start_time": "2022-08-06T14:09:05.984Z"
   },
   {
    "duration": 4,
    "start_time": "2022-08-06T14:09:05.996Z"
   },
   {
    "duration": 10,
    "start_time": "2022-08-06T14:09:06.002Z"
   },
   {
    "duration": 7,
    "start_time": "2022-08-06T14:09:06.014Z"
   },
   {
    "duration": 4,
    "start_time": "2022-08-06T14:09:06.023Z"
   },
   {
    "duration": 28,
    "start_time": "2022-08-06T14:09:06.028Z"
   },
   {
    "duration": 10,
    "start_time": "2022-08-06T14:09:06.058Z"
   },
   {
    "duration": 8,
    "start_time": "2022-08-06T14:09:06.069Z"
   },
   {
    "duration": 14,
    "start_time": "2022-08-06T14:09:06.079Z"
   },
   {
    "duration": 6,
    "start_time": "2022-08-06T14:09:06.094Z"
   },
   {
    "duration": 8,
    "start_time": "2022-08-06T14:09:06.101Z"
   },
   {
    "duration": 5,
    "start_time": "2022-08-06T14:09:06.110Z"
   },
   {
    "duration": 7,
    "start_time": "2022-08-06T14:09:06.116Z"
   },
   {
    "duration": 17,
    "start_time": "2022-08-06T14:16:13.281Z"
   },
   {
    "duration": 13,
    "start_time": "2022-08-06T14:16:26.765Z"
   },
   {
    "duration": 16,
    "start_time": "2022-08-06T14:16:31.394Z"
   },
   {
    "duration": 7,
    "start_time": "2022-08-06T14:16:35.195Z"
   },
   {
    "duration": 544,
    "start_time": "2022-08-06T14:17:18.220Z"
   },
   {
    "duration": 399,
    "start_time": "2022-08-06T14:17:18.766Z"
   },
   {
    "duration": 22,
    "start_time": "2022-08-06T14:17:19.167Z"
   },
   {
    "duration": 27,
    "start_time": "2022-08-06T14:17:19.191Z"
   },
   {
    "duration": 12,
    "start_time": "2022-08-06T14:17:19.219Z"
   },
   {
    "duration": 7,
    "start_time": "2022-08-06T14:17:19.232Z"
   },
   {
    "duration": 12,
    "start_time": "2022-08-06T14:17:19.240Z"
   },
   {
    "duration": 14,
    "start_time": "2022-08-06T14:17:19.253Z"
   },
   {
    "duration": 28,
    "start_time": "2022-08-06T14:17:19.269Z"
   },
   {
    "duration": 20,
    "start_time": "2022-08-06T14:17:19.299Z"
   },
   {
    "duration": 18,
    "start_time": "2022-08-06T14:17:19.320Z"
   },
   {
    "duration": 81,
    "start_time": "2022-08-06T14:17:19.340Z"
   },
   {
    "duration": 82,
    "start_time": "2022-08-06T14:17:19.423Z"
   },
   {
    "duration": 66,
    "start_time": "2022-08-06T14:17:19.506Z"
   },
   {
    "duration": 38,
    "start_time": "2022-08-06T14:17:19.575Z"
   },
   {
    "duration": 101,
    "start_time": "2022-08-06T14:17:19.615Z"
   },
   {
    "duration": 42,
    "start_time": "2022-08-06T14:17:19.718Z"
   },
   {
    "duration": 22,
    "start_time": "2022-08-06T14:17:19.764Z"
   },
   {
    "duration": 10,
    "start_time": "2022-08-06T14:17:19.787Z"
   },
   {
    "duration": 4,
    "start_time": "2022-08-06T14:17:19.798Z"
   },
   {
    "duration": 20,
    "start_time": "2022-08-06T14:17:19.803Z"
   },
   {
    "duration": 49,
    "start_time": "2022-08-06T14:17:19.824Z"
   },
   {
    "duration": 16,
    "start_time": "2022-08-06T14:17:19.876Z"
   },
   {
    "duration": 11,
    "start_time": "2022-08-06T14:17:19.893Z"
   },
   {
    "duration": 14,
    "start_time": "2022-08-06T14:17:19.905Z"
   },
   {
    "duration": 52,
    "start_time": "2022-08-06T14:17:19.921Z"
   },
   {
    "duration": 5,
    "start_time": "2022-08-06T14:17:19.976Z"
   },
   {
    "duration": 15,
    "start_time": "2022-08-06T14:17:19.983Z"
   },
   {
    "duration": 10,
    "start_time": "2022-08-06T14:17:19.999Z"
   },
   {
    "duration": 4,
    "start_time": "2022-08-06T14:17:20.010Z"
   },
   {
    "duration": 25,
    "start_time": "2022-08-06T14:17:20.015Z"
   },
   {
    "duration": 23,
    "start_time": "2022-08-06T14:17:20.041Z"
   },
   {
    "duration": 25,
    "start_time": "2022-08-06T14:17:20.067Z"
   },
   {
    "duration": 6,
    "start_time": "2022-08-06T14:17:20.094Z"
   },
   {
    "duration": 18,
    "start_time": "2022-08-06T14:17:20.101Z"
   },
   {
    "duration": 11,
    "start_time": "2022-08-06T14:17:20.120Z"
   },
   {
    "duration": 7,
    "start_time": "2022-08-06T14:17:20.133Z"
   },
   {
    "duration": 7,
    "start_time": "2022-08-06T14:17:20.141Z"
   },
   {
    "duration": 15,
    "start_time": "2022-08-06T14:19:09.214Z"
   },
   {
    "duration": 12,
    "start_time": "2022-08-06T14:19:10.220Z"
   },
   {
    "duration": 21,
    "start_time": "2022-08-06T14:19:11.270Z"
   },
   {
    "duration": 12,
    "start_time": "2022-08-06T14:19:13.390Z"
   },
   {
    "duration": 9,
    "start_time": "2022-08-06T14:42:32.704Z"
   },
   {
    "duration": 12,
    "start_time": "2022-08-06T14:43:20.152Z"
   },
   {
    "duration": 102,
    "start_time": "2022-08-06T14:43:54.343Z"
   },
   {
    "duration": 63,
    "start_time": "2022-08-06T14:44:00.936Z"
   },
   {
    "duration": 29,
    "start_time": "2022-08-06T14:44:50.208Z"
   },
   {
    "duration": 46,
    "start_time": "2022-08-06T14:46:39.383Z"
   },
   {
    "duration": 9,
    "start_time": "2022-08-06T14:47:56.175Z"
   },
   {
    "duration": 4,
    "start_time": "2022-08-06T14:48:55.991Z"
   },
   {
    "duration": 7,
    "start_time": "2022-08-06T14:49:12.559Z"
   },
   {
    "duration": 5,
    "start_time": "2022-08-06T14:49:14.961Z"
   },
   {
    "duration": 341,
    "start_time": "2022-08-06T14:49:28.286Z"
   },
   {
    "duration": 372,
    "start_time": "2022-08-06T14:49:28.629Z"
   },
   {
    "duration": 18,
    "start_time": "2022-08-06T14:49:29.003Z"
   },
   {
    "duration": 37,
    "start_time": "2022-08-06T14:49:29.023Z"
   },
   {
    "duration": 11,
    "start_time": "2022-08-06T14:49:29.061Z"
   },
   {
    "duration": 17,
    "start_time": "2022-08-06T14:49:29.073Z"
   },
   {
    "duration": 26,
    "start_time": "2022-08-06T14:49:29.091Z"
   },
   {
    "duration": 12,
    "start_time": "2022-08-06T14:49:29.118Z"
   },
   {
    "duration": 22,
    "start_time": "2022-08-06T14:49:29.131Z"
   },
   {
    "duration": 17,
    "start_time": "2022-08-06T14:49:29.155Z"
   },
   {
    "duration": 18,
    "start_time": "2022-08-06T14:49:29.173Z"
   },
   {
    "duration": 64,
    "start_time": "2022-08-06T14:49:29.193Z"
   },
   {
    "duration": 58,
    "start_time": "2022-08-06T14:49:29.258Z"
   },
   {
    "duration": 64,
    "start_time": "2022-08-06T14:49:29.318Z"
   },
   {
    "duration": 30,
    "start_time": "2022-08-06T14:49:29.384Z"
   },
   {
    "duration": 83,
    "start_time": "2022-08-06T14:49:29.416Z"
   },
   {
    "duration": 30,
    "start_time": "2022-08-06T14:49:29.502Z"
   },
   {
    "duration": 10,
    "start_time": "2022-08-06T14:49:29.534Z"
   },
   {
    "duration": 10,
    "start_time": "2022-08-06T14:49:29.554Z"
   },
   {
    "duration": 3,
    "start_time": "2022-08-06T14:49:29.565Z"
   },
   {
    "duration": 19,
    "start_time": "2022-08-06T14:49:29.569Z"
   },
   {
    "duration": 11,
    "start_time": "2022-08-06T14:49:29.589Z"
   },
   {
    "duration": 13,
    "start_time": "2022-08-06T14:49:29.601Z"
   },
   {
    "duration": 38,
    "start_time": "2022-08-06T14:49:29.616Z"
   },
   {
    "duration": 16,
    "start_time": "2022-08-06T14:49:29.656Z"
   },
   {
    "duration": 13,
    "start_time": "2022-08-06T14:49:29.673Z"
   },
   {
    "duration": 4,
    "start_time": "2022-08-06T14:49:29.688Z"
   },
   {
    "duration": 12,
    "start_time": "2022-08-06T14:49:29.695Z"
   },
   {
    "duration": 8,
    "start_time": "2022-08-06T14:49:29.708Z"
   },
   {
    "duration": 4,
    "start_time": "2022-08-06T14:49:29.718Z"
   },
   {
    "duration": 42,
    "start_time": "2022-08-06T14:49:29.723Z"
   },
   {
    "duration": 9,
    "start_time": "2022-08-06T14:49:29.767Z"
   },
   {
    "duration": 38,
    "start_time": "2022-08-06T14:49:29.777Z"
   },
   {
    "duration": 10,
    "start_time": "2022-08-06T14:49:29.816Z"
   },
   {
    "duration": 6,
    "start_time": "2022-08-06T14:49:29.828Z"
   },
   {
    "duration": 4,
    "start_time": "2022-08-06T14:49:29.836Z"
   },
   {
    "duration": 4,
    "start_time": "2022-08-06T14:49:29.841Z"
   },
   {
    "duration": 8,
    "start_time": "2022-08-06T14:49:29.847Z"
   },
   {
    "duration": 4,
    "start_time": "2022-08-06T14:49:45.269Z"
   },
   {
    "duration": 390,
    "start_time": "2022-08-06T14:50:03.638Z"
   },
   {
    "duration": 144,
    "start_time": "2022-08-06T14:50:04.030Z"
   },
   {
    "duration": 16,
    "start_time": "2022-08-06T14:50:04.175Z"
   },
   {
    "duration": 33,
    "start_time": "2022-08-06T14:50:04.193Z"
   },
   {
    "duration": 18,
    "start_time": "2022-08-06T14:50:04.228Z"
   },
   {
    "duration": 17,
    "start_time": "2022-08-06T14:50:04.247Z"
   },
   {
    "duration": 36,
    "start_time": "2022-08-06T14:50:04.265Z"
   },
   {
    "duration": 31,
    "start_time": "2022-08-06T14:50:04.303Z"
   },
   {
    "duration": 38,
    "start_time": "2022-08-06T14:50:04.336Z"
   },
   {
    "duration": 43,
    "start_time": "2022-08-06T14:50:04.376Z"
   },
   {
    "duration": 20,
    "start_time": "2022-08-06T14:50:04.421Z"
   },
   {
    "duration": 68,
    "start_time": "2022-08-06T14:50:04.443Z"
   },
   {
    "duration": 62,
    "start_time": "2022-08-06T14:50:04.513Z"
   },
   {
    "duration": 52,
    "start_time": "2022-08-06T14:50:04.577Z"
   },
   {
    "duration": 41,
    "start_time": "2022-08-06T14:50:04.631Z"
   },
   {
    "duration": 66,
    "start_time": "2022-08-06T14:50:04.673Z"
   },
   {
    "duration": 41,
    "start_time": "2022-08-06T14:50:04.741Z"
   },
   {
    "duration": 10,
    "start_time": "2022-08-06T14:50:04.784Z"
   },
   {
    "duration": 17,
    "start_time": "2022-08-06T14:50:04.795Z"
   },
   {
    "duration": 14,
    "start_time": "2022-08-06T14:50:04.813Z"
   },
   {
    "duration": 39,
    "start_time": "2022-08-06T14:50:04.829Z"
   },
   {
    "duration": 19,
    "start_time": "2022-08-06T14:50:04.869Z"
   },
   {
    "duration": 28,
    "start_time": "2022-08-06T14:50:04.889Z"
   },
   {
    "duration": 13,
    "start_time": "2022-08-06T14:50:04.918Z"
   },
   {
    "duration": 31,
    "start_time": "2022-08-06T14:50:04.932Z"
   },
   {
    "duration": 22,
    "start_time": "2022-08-06T14:50:04.965Z"
   },
   {
    "duration": 6,
    "start_time": "2022-08-06T14:50:04.989Z"
   },
   {
    "duration": 26,
    "start_time": "2022-08-06T14:50:04.997Z"
   },
   {
    "duration": 17,
    "start_time": "2022-08-06T14:50:05.025Z"
   },
   {
    "duration": 14,
    "start_time": "2022-08-06T14:50:05.044Z"
   },
   {
    "duration": 46,
    "start_time": "2022-08-06T14:50:05.059Z"
   },
   {
    "duration": 23,
    "start_time": "2022-08-06T14:50:05.106Z"
   },
   {
    "duration": 43,
    "start_time": "2022-08-06T14:50:05.130Z"
   },
   {
    "duration": 31,
    "start_time": "2022-08-06T14:50:05.175Z"
   },
   {
    "duration": 16,
    "start_time": "2022-08-06T14:50:05.207Z"
   },
   {
    "duration": 19,
    "start_time": "2022-08-06T14:50:05.224Z"
   },
   {
    "duration": 26,
    "start_time": "2022-08-06T14:50:05.245Z"
   },
   {
    "duration": 18,
    "start_time": "2022-08-06T14:50:05.273Z"
   },
   {
    "duration": 63,
    "start_time": "2022-08-06T14:52:19.004Z"
   },
   {
    "duration": 9,
    "start_time": "2022-08-06T14:52:47.129Z"
   },
   {
    "duration": 5,
    "start_time": "2022-08-06T14:53:00.326Z"
   },
   {
    "duration": 4,
    "start_time": "2022-08-06T14:53:36.333Z"
   }
  ],
  "colab": {
   "collapsed_sections": [
    "E0vqbgi9ay0H",
    "VUC88oWjTJw2"
   ],
   "name": "automatization_template_upd4.ipynb",
   "provenance": []
  },
  "kernelspec": {
   "display_name": "Python 3 (ipykernel)",
   "language": "python",
   "name": "python3"
  },
  "language_info": {
   "codemirror_mode": {
    "name": "ipython",
    "version": 3
   },
   "file_extension": ".py",
   "mimetype": "text/x-python",
   "name": "python",
   "nbconvert_exporter": "python",
   "pygments_lexer": "ipython3",
   "version": "3.9.5"
  },
  "toc": {
   "base_numbering": 1,
   "nav_menu": {
    "height": "215px",
    "width": "403px"
   },
   "number_sections": true,
   "sideBar": true,
   "skip_h1_title": true,
   "title_cell": "Table of Contents",
   "title_sidebar": "Contents",
   "toc_cell": false,
   "toc_position": {
    "height": "calc(100% - 180px)",
    "left": "10px",
    "top": "150px",
    "width": "285.825px"
   },
   "toc_section_display": true,
   "toc_window_display": false
  }
 },
 "nbformat": 4,
 "nbformat_minor": 1
}
