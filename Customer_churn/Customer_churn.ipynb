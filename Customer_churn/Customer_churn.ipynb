{
 "cells": [
  {
   "cell_type": "markdown",
   "metadata": {
    "toc": true
   },
   "source": [
    "<h1>Содержание<span class=\"tocSkip\"></span></h1>\n",
    "<div class=\"toc\"><ul class=\"toc-item\"><li><ul class=\"toc-item\"><li><span><a href=\"#Импорт-библиотек-⬇\" data-toc-modified-id=\"Импорт-библиотек-⬇-0.1\"><span class=\"toc-item-num\">0.1&nbsp;&nbsp;</span>Импорт библиотек ⬇</a></span></li></ul></li><li><span><a href=\"#Подготовка-данных\" data-toc-modified-id=\"Подготовка-данных-1\"><span class=\"toc-item-num\">1&nbsp;&nbsp;</span>Подготовка данных</a></span><ul class=\"toc-item\"><li><span><a href=\"#Исправляем-столбец-Tenure\" data-toc-modified-id=\"Исправляем-столбец-Tenure-1.1\"><span class=\"toc-item-num\">1.1&nbsp;&nbsp;</span>Исправляем столбец Tenure</a></span></li></ul></li><li><span><a href=\"#Исследование-задачи\" data-toc-modified-id=\"Исследование-задачи-2\"><span class=\"toc-item-num\">2&nbsp;&nbsp;</span>Исследование задачи</a></span><ul class=\"toc-item\"><li><span><a href=\"#Сделаем-порядковое-кодирование\" data-toc-modified-id=\"Сделаем-порядковое-кодирование-2.1\"><span class=\"toc-item-num\">2.1&nbsp;&nbsp;</span>Сделаем порядковое кодирование</a></span></li><li><span><a href=\"#Разделим-данные-на-валидационную-и-тестовую-выборки:\" data-toc-modified-id=\"Разделим-данные-на-валидационную-и-тестовую-выборки:-2.2\"><span class=\"toc-item-num\">2.2&nbsp;&nbsp;</span>Разделим данные на валидационную и тестовую выборки:</a></span></li><li><span><a href=\"#Сделаем-прямое-кодирование\" data-toc-modified-id=\"Сделаем-прямое-кодирование-2.3\"><span class=\"toc-item-num\">2.3&nbsp;&nbsp;</span>Сделаем прямое кодирование</a></span></li><li><span><a href=\"#Отмаштабируем-данные\" data-toc-modified-id=\"Отмаштабируем-данные-2.4\"><span class=\"toc-item-num\">2.4&nbsp;&nbsp;</span>Отмаштабируем данные</a></span></li><li><span><a href=\"#модель-Случайного-леса\" data-toc-modified-id=\"модель-Случайного-леса-2.5\"><span class=\"toc-item-num\">2.5&nbsp;&nbsp;</span>модель Случайного леса</a></span></li><li><span><a href=\"#модель-Логистической-регрессии\" data-toc-modified-id=\"модель-Логистической-регрессии-2.6\"><span class=\"toc-item-num\">2.6&nbsp;&nbsp;</span>модель Логистической регрессии</a></span></li><li><span><a href=\"#f1-мера\" data-toc-modified-id=\"f1-мера-2.7\"><span class=\"toc-item-num\">2.7&nbsp;&nbsp;</span>f1-мера</a></span></li></ul></li><li><span><a href=\"#Борьба-с-дисбалансом\" data-toc-modified-id=\"Борьба-с-дисбалансом-3\"><span class=\"toc-item-num\">3&nbsp;&nbsp;</span>Борьба с дисбалансом</a></span><ul class=\"toc-item\"><li><span><a href=\"#Увеличим-выборку\" data-toc-modified-id=\"Увеличим-выборку-3.1\"><span class=\"toc-item-num\">3.1&nbsp;&nbsp;</span>Увеличим выборку</a></span></li><li><span><a href=\"#Уменьшим-выборку\" data-toc-modified-id=\"Уменьшим-выборку-3.2\"><span class=\"toc-item-num\">3.2&nbsp;&nbsp;</span>Уменьшим выборку</a></span></li></ul></li><li><span><a href=\"#Тестирование-модели\" data-toc-modified-id=\"Тестирование-модели-4\"><span class=\"toc-item-num\">4&nbsp;&nbsp;</span>Тестирование модели</a></span></li></ul></div>"
   ]
  },
  {
   "cell_type": "markdown",
   "metadata": {},
   "source": [
    "# Отток клиентов"
   ]
  },
  {
   "cell_type": "markdown",
   "metadata": {},
   "source": [
    "Из «Бета-Банка» стали уходить клиенты. Каждый месяц. Немного, но заметно. Банковские маркетологи посчитали: сохранять текущих клиентов дешевле, чем привлекать новых.\n",
    "\n",
    "Нужно спрогнозировать, уйдёт клиент из банка в ближайшее время или нет. Вам предоставлены исторические данные о поведении клиентов и расторжении договоров с банком. \n",
    "\n",
    "Постройте модель с предельно большим значением *F1*-меры. Чтобы сдать проект успешно, нужно довести метрику до 0.59. Проверьте *F1*-меру на тестовой выборке самостоятельно.\n",
    "\n",
    "Дополнительно измеряйте *AUC-ROC*, сравнивайте её значение с *F1*-мерой.\n",
    "\n",
    "Источник данных: [https://www.kaggle.com/barelydedicated/bank-customer-churn-modeling](https://www.kaggle.com/barelydedicated/bank-customer-churn-modeling)"
   ]
  },
  {
   "cell_type": "markdown",
   "metadata": {},
   "source": [
    "VVVVVVVVVVVVVVVVVVVVVVVVVVVVVVVVVVVVVVVVVVVVVVVVVVVVVVVVVVVVVVVVVVVVVVVVVVVVVVVVVVVVVVVVVVVVVVVVVVVV"
   ]
  },
  {
   "cell_type": "markdown",
   "metadata": {},
   "source": [
    "### Импорт библиотек ⬇"
   ]
  },
  {
   "cell_type": "code",
   "execution_count": 1,
   "metadata": {},
   "outputs": [],
   "source": [
    "import pandas as pd\n",
    "import seaborn as sns\n",
    "import matplotlib.pyplot as plt\n",
    "from sklearn.model_selection import train_test_split\n",
    "from sklearn.ensemble import RandomForestClassifier\n",
    "from sklearn.preprocessing import OrdinalEncoder\n",
    "from sklearn.preprocessing import StandardScaler\n",
    "from sklearn.metrics import f1_score\n",
    "from sklearn.linear_model import LogisticRegression\n",
    "from sklearn.utils import shuffle\n",
    "from sklearn.metrics import roc_curve\n",
    "\n",
    "pd.options.mode.chained_assignment = None"
   ]
  },
  {
   "cell_type": "markdown",
   "metadata": {},
   "source": [
    "## Подготовка данных"
   ]
  },
  {
   "cell_type": "code",
   "execution_count": 2,
   "metadata": {},
   "outputs": [
    {
     "data": {
      "text/html": [
       "<div>\n",
       "<style scoped>\n",
       "    .dataframe tbody tr th:only-of-type {\n",
       "        vertical-align: middle;\n",
       "    }\n",
       "\n",
       "    .dataframe tbody tr th {\n",
       "        vertical-align: top;\n",
       "    }\n",
       "\n",
       "    .dataframe thead th {\n",
       "        text-align: right;\n",
       "    }\n",
       "</style>\n",
       "<table border=\"1\" class=\"dataframe\">\n",
       "  <thead>\n",
       "    <tr style=\"text-align: right;\">\n",
       "      <th></th>\n",
       "      <th>RowNumber</th>\n",
       "      <th>CustomerId</th>\n",
       "      <th>Surname</th>\n",
       "      <th>CreditScore</th>\n",
       "      <th>Geography</th>\n",
       "      <th>Gender</th>\n",
       "      <th>Age</th>\n",
       "      <th>Tenure</th>\n",
       "      <th>Balance</th>\n",
       "      <th>NumOfProducts</th>\n",
       "      <th>HasCrCard</th>\n",
       "      <th>IsActiveMember</th>\n",
       "      <th>EstimatedSalary</th>\n",
       "      <th>Exited</th>\n",
       "    </tr>\n",
       "  </thead>\n",
       "  <tbody>\n",
       "    <tr>\n",
       "      <th>0</th>\n",
       "      <td>1</td>\n",
       "      <td>15634602</td>\n",
       "      <td>Hargrave</td>\n",
       "      <td>619</td>\n",
       "      <td>France</td>\n",
       "      <td>Female</td>\n",
       "      <td>42</td>\n",
       "      <td>2.0</td>\n",
       "      <td>0.00</td>\n",
       "      <td>1</td>\n",
       "      <td>1</td>\n",
       "      <td>1</td>\n",
       "      <td>101348.88</td>\n",
       "      <td>1</td>\n",
       "    </tr>\n",
       "    <tr>\n",
       "      <th>1</th>\n",
       "      <td>2</td>\n",
       "      <td>15647311</td>\n",
       "      <td>Hill</td>\n",
       "      <td>608</td>\n",
       "      <td>Spain</td>\n",
       "      <td>Female</td>\n",
       "      <td>41</td>\n",
       "      <td>1.0</td>\n",
       "      <td>83807.86</td>\n",
       "      <td>1</td>\n",
       "      <td>0</td>\n",
       "      <td>1</td>\n",
       "      <td>112542.58</td>\n",
       "      <td>0</td>\n",
       "    </tr>\n",
       "    <tr>\n",
       "      <th>2</th>\n",
       "      <td>3</td>\n",
       "      <td>15619304</td>\n",
       "      <td>Onio</td>\n",
       "      <td>502</td>\n",
       "      <td>France</td>\n",
       "      <td>Female</td>\n",
       "      <td>42</td>\n",
       "      <td>8.0</td>\n",
       "      <td>159660.80</td>\n",
       "      <td>3</td>\n",
       "      <td>1</td>\n",
       "      <td>0</td>\n",
       "      <td>113931.57</td>\n",
       "      <td>1</td>\n",
       "    </tr>\n",
       "    <tr>\n",
       "      <th>3</th>\n",
       "      <td>4</td>\n",
       "      <td>15701354</td>\n",
       "      <td>Boni</td>\n",
       "      <td>699</td>\n",
       "      <td>France</td>\n",
       "      <td>Female</td>\n",
       "      <td>39</td>\n",
       "      <td>1.0</td>\n",
       "      <td>0.00</td>\n",
       "      <td>2</td>\n",
       "      <td>0</td>\n",
       "      <td>0</td>\n",
       "      <td>93826.63</td>\n",
       "      <td>0</td>\n",
       "    </tr>\n",
       "    <tr>\n",
       "      <th>4</th>\n",
       "      <td>5</td>\n",
       "      <td>15737888</td>\n",
       "      <td>Mitchell</td>\n",
       "      <td>850</td>\n",
       "      <td>Spain</td>\n",
       "      <td>Female</td>\n",
       "      <td>43</td>\n",
       "      <td>2.0</td>\n",
       "      <td>125510.82</td>\n",
       "      <td>1</td>\n",
       "      <td>1</td>\n",
       "      <td>1</td>\n",
       "      <td>79084.10</td>\n",
       "      <td>0</td>\n",
       "    </tr>\n",
       "    <tr>\n",
       "      <th>...</th>\n",
       "      <td>...</td>\n",
       "      <td>...</td>\n",
       "      <td>...</td>\n",
       "      <td>...</td>\n",
       "      <td>...</td>\n",
       "      <td>...</td>\n",
       "      <td>...</td>\n",
       "      <td>...</td>\n",
       "      <td>...</td>\n",
       "      <td>...</td>\n",
       "      <td>...</td>\n",
       "      <td>...</td>\n",
       "      <td>...</td>\n",
       "      <td>...</td>\n",
       "    </tr>\n",
       "    <tr>\n",
       "      <th>9995</th>\n",
       "      <td>9996</td>\n",
       "      <td>15606229</td>\n",
       "      <td>Obijiaku</td>\n",
       "      <td>771</td>\n",
       "      <td>France</td>\n",
       "      <td>Male</td>\n",
       "      <td>39</td>\n",
       "      <td>5.0</td>\n",
       "      <td>0.00</td>\n",
       "      <td>2</td>\n",
       "      <td>1</td>\n",
       "      <td>0</td>\n",
       "      <td>96270.64</td>\n",
       "      <td>0</td>\n",
       "    </tr>\n",
       "    <tr>\n",
       "      <th>9996</th>\n",
       "      <td>9997</td>\n",
       "      <td>15569892</td>\n",
       "      <td>Johnstone</td>\n",
       "      <td>516</td>\n",
       "      <td>France</td>\n",
       "      <td>Male</td>\n",
       "      <td>35</td>\n",
       "      <td>10.0</td>\n",
       "      <td>57369.61</td>\n",
       "      <td>1</td>\n",
       "      <td>1</td>\n",
       "      <td>1</td>\n",
       "      <td>101699.77</td>\n",
       "      <td>0</td>\n",
       "    </tr>\n",
       "    <tr>\n",
       "      <th>9997</th>\n",
       "      <td>9998</td>\n",
       "      <td>15584532</td>\n",
       "      <td>Liu</td>\n",
       "      <td>709</td>\n",
       "      <td>France</td>\n",
       "      <td>Female</td>\n",
       "      <td>36</td>\n",
       "      <td>7.0</td>\n",
       "      <td>0.00</td>\n",
       "      <td>1</td>\n",
       "      <td>0</td>\n",
       "      <td>1</td>\n",
       "      <td>42085.58</td>\n",
       "      <td>1</td>\n",
       "    </tr>\n",
       "    <tr>\n",
       "      <th>9998</th>\n",
       "      <td>9999</td>\n",
       "      <td>15682355</td>\n",
       "      <td>Sabbatini</td>\n",
       "      <td>772</td>\n",
       "      <td>Germany</td>\n",
       "      <td>Male</td>\n",
       "      <td>42</td>\n",
       "      <td>3.0</td>\n",
       "      <td>75075.31</td>\n",
       "      <td>2</td>\n",
       "      <td>1</td>\n",
       "      <td>0</td>\n",
       "      <td>92888.52</td>\n",
       "      <td>1</td>\n",
       "    </tr>\n",
       "    <tr>\n",
       "      <th>9999</th>\n",
       "      <td>10000</td>\n",
       "      <td>15628319</td>\n",
       "      <td>Walker</td>\n",
       "      <td>792</td>\n",
       "      <td>France</td>\n",
       "      <td>Female</td>\n",
       "      <td>28</td>\n",
       "      <td>NaN</td>\n",
       "      <td>130142.79</td>\n",
       "      <td>1</td>\n",
       "      <td>1</td>\n",
       "      <td>0</td>\n",
       "      <td>38190.78</td>\n",
       "      <td>0</td>\n",
       "    </tr>\n",
       "  </tbody>\n",
       "</table>\n",
       "<p>10000 rows × 14 columns</p>\n",
       "</div>"
      ],
      "text/plain": [
       "      RowNumber  CustomerId    Surname  CreditScore Geography  Gender  Age  \\\n",
       "0             1    15634602   Hargrave          619    France  Female   42   \n",
       "1             2    15647311       Hill          608     Spain  Female   41   \n",
       "2             3    15619304       Onio          502    France  Female   42   \n",
       "3             4    15701354       Boni          699    France  Female   39   \n",
       "4             5    15737888   Mitchell          850     Spain  Female   43   \n",
       "...         ...         ...        ...          ...       ...     ...  ...   \n",
       "9995       9996    15606229   Obijiaku          771    France    Male   39   \n",
       "9996       9997    15569892  Johnstone          516    France    Male   35   \n",
       "9997       9998    15584532        Liu          709    France  Female   36   \n",
       "9998       9999    15682355  Sabbatini          772   Germany    Male   42   \n",
       "9999      10000    15628319     Walker          792    France  Female   28   \n",
       "\n",
       "      Tenure    Balance  NumOfProducts  HasCrCard  IsActiveMember  \\\n",
       "0        2.0       0.00              1          1               1   \n",
       "1        1.0   83807.86              1          0               1   \n",
       "2        8.0  159660.80              3          1               0   \n",
       "3        1.0       0.00              2          0               0   \n",
       "4        2.0  125510.82              1          1               1   \n",
       "...      ...        ...            ...        ...             ...   \n",
       "9995     5.0       0.00              2          1               0   \n",
       "9996    10.0   57369.61              1          1               1   \n",
       "9997     7.0       0.00              1          0               1   \n",
       "9998     3.0   75075.31              2          1               0   \n",
       "9999     NaN  130142.79              1          1               0   \n",
       "\n",
       "      EstimatedSalary  Exited  \n",
       "0           101348.88       1  \n",
       "1           112542.58       0  \n",
       "2           113931.57       1  \n",
       "3            93826.63       0  \n",
       "4            79084.10       0  \n",
       "...               ...     ...  \n",
       "9995         96270.64       0  \n",
       "9996        101699.77       0  \n",
       "9997         42085.58       1  \n",
       "9998         92888.52       1  \n",
       "9999         38190.78       0  \n",
       "\n",
       "[10000 rows x 14 columns]"
      ]
     },
     "metadata": {},
     "output_type": "display_data"
    },
    {
     "name": "stdout",
     "output_type": "stream",
     "text": [
      "<class 'pandas.core.frame.DataFrame'>\n",
      "RangeIndex: 10000 entries, 0 to 9999\n",
      "Data columns (total 14 columns):\n",
      " #   Column           Non-Null Count  Dtype  \n",
      "---  ------           --------------  -----  \n",
      " 0   RowNumber        10000 non-null  int64  \n",
      " 1   CustomerId       10000 non-null  int64  \n",
      " 2   Surname          10000 non-null  object \n",
      " 3   CreditScore      10000 non-null  int64  \n",
      " 4   Geography        10000 non-null  object \n",
      " 5   Gender           10000 non-null  object \n",
      " 6   Age              10000 non-null  int64  \n",
      " 7   Tenure           9091 non-null   float64\n",
      " 8   Balance          10000 non-null  float64\n",
      " 9   NumOfProducts    10000 non-null  int64  \n",
      " 10  HasCrCard        10000 non-null  int64  \n",
      " 11  IsActiveMember   10000 non-null  int64  \n",
      " 12  EstimatedSalary  10000 non-null  float64\n",
      " 13  Exited           10000 non-null  int64  \n",
      "dtypes: float64(3), int64(8), object(3)\n",
      "memory usage: 1.1+ MB\n"
     ]
    }
   ],
   "source": [
    "df = pd.read_csv('/datasets/Churn.csv')\n",
    "display(df)\n",
    "df.info()"
   ]
  },
  {
   "cell_type": "markdown",
   "metadata": {},
   "source": [
    "Все данные выглядят прекрасно кроме столбца Tenure - сколько лет человек является клиентом банка"
   ]
  },
  {
   "cell_type": "markdown",
   "metadata": {},
   "source": [
    "### Исправляем столбец Tenure"
   ]
  },
  {
   "cell_type": "code",
   "execution_count": 3,
   "metadata": {},
   "outputs": [
    {
     "name": "stdout",
     "output_type": "stream",
     "text": [
      "[ 2.  1.  8.  7.  4.  6.  3. 10.  5.  9.  0. nan]\n"
     ]
    }
   ],
   "source": [
    "print(df['Tenure'].unique())"
   ]
  },
  {
   "cell_type": "markdown",
   "metadata": {},
   "source": [
    "Заполним пропуски медианой и изменим тип данных на int"
   ]
  },
  {
   "cell_type": "code",
   "execution_count": 4,
   "metadata": {},
   "outputs": [
    {
     "data": {
      "text/html": [
       "<div>\n",
       "<style scoped>\n",
       "    .dataframe tbody tr th:only-of-type {\n",
       "        vertical-align: middle;\n",
       "    }\n",
       "\n",
       "    .dataframe tbody tr th {\n",
       "        vertical-align: top;\n",
       "    }\n",
       "\n",
       "    .dataframe thead th {\n",
       "        text-align: right;\n",
       "    }\n",
       "</style>\n",
       "<table border=\"1\" class=\"dataframe\">\n",
       "  <thead>\n",
       "    <tr style=\"text-align: right;\">\n",
       "      <th></th>\n",
       "      <th>RowNumber</th>\n",
       "      <th>CustomerId</th>\n",
       "      <th>Surname</th>\n",
       "      <th>CreditScore</th>\n",
       "      <th>Geography</th>\n",
       "      <th>Gender</th>\n",
       "      <th>Age</th>\n",
       "      <th>Tenure</th>\n",
       "      <th>Balance</th>\n",
       "      <th>NumOfProducts</th>\n",
       "      <th>HasCrCard</th>\n",
       "      <th>IsActiveMember</th>\n",
       "      <th>EstimatedSalary</th>\n",
       "      <th>Exited</th>\n",
       "    </tr>\n",
       "  </thead>\n",
       "  <tbody>\n",
       "    <tr>\n",
       "      <th>0</th>\n",
       "      <td>1</td>\n",
       "      <td>15634602</td>\n",
       "      <td>Hargrave</td>\n",
       "      <td>619</td>\n",
       "      <td>France</td>\n",
       "      <td>Female</td>\n",
       "      <td>42</td>\n",
       "      <td>2</td>\n",
       "      <td>0.00</td>\n",
       "      <td>1</td>\n",
       "      <td>1</td>\n",
       "      <td>1</td>\n",
       "      <td>101348.88</td>\n",
       "      <td>1</td>\n",
       "    </tr>\n",
       "    <tr>\n",
       "      <th>1</th>\n",
       "      <td>2</td>\n",
       "      <td>15647311</td>\n",
       "      <td>Hill</td>\n",
       "      <td>608</td>\n",
       "      <td>Spain</td>\n",
       "      <td>Female</td>\n",
       "      <td>41</td>\n",
       "      <td>1</td>\n",
       "      <td>83807.86</td>\n",
       "      <td>1</td>\n",
       "      <td>0</td>\n",
       "      <td>1</td>\n",
       "      <td>112542.58</td>\n",
       "      <td>0</td>\n",
       "    </tr>\n",
       "  </tbody>\n",
       "</table>\n",
       "</div>"
      ],
      "text/plain": [
       "   RowNumber  CustomerId   Surname  CreditScore Geography  Gender  Age  \\\n",
       "0          1    15634602  Hargrave          619    France  Female   42   \n",
       "1          2    15647311      Hill          608     Spain  Female   41   \n",
       "\n",
       "   Tenure   Balance  NumOfProducts  HasCrCard  IsActiveMember  \\\n",
       "0       2      0.00              1          1               1   \n",
       "1       1  83807.86              1          0               1   \n",
       "\n",
       "   EstimatedSalary  Exited  \n",
       "0        101348.88       1  \n",
       "1        112542.58       0  "
      ]
     },
     "metadata": {},
     "output_type": "display_data"
    },
    {
     "name": "stdout",
     "output_type": "stream",
     "text": [
      "<class 'pandas.core.frame.DataFrame'>\n",
      "RangeIndex: 10000 entries, 0 to 9999\n",
      "Data columns (total 14 columns):\n",
      " #   Column           Non-Null Count  Dtype  \n",
      "---  ------           --------------  -----  \n",
      " 0   RowNumber        10000 non-null  int64  \n",
      " 1   CustomerId       10000 non-null  int64  \n",
      " 2   Surname          10000 non-null  object \n",
      " 3   CreditScore      10000 non-null  int64  \n",
      " 4   Geography        10000 non-null  object \n",
      " 5   Gender           10000 non-null  object \n",
      " 6   Age              10000 non-null  int64  \n",
      " 7   Tenure           10000 non-null  int64  \n",
      " 8   Balance          10000 non-null  float64\n",
      " 9   NumOfProducts    10000 non-null  int64  \n",
      " 10  HasCrCard        10000 non-null  int64  \n",
      " 11  IsActiveMember   10000 non-null  int64  \n",
      " 12  EstimatedSalary  10000 non-null  float64\n",
      " 13  Exited           10000 non-null  int64  \n",
      "dtypes: float64(2), int64(9), object(3)\n",
      "memory usage: 1.1+ MB\n"
     ]
    }
   ],
   "source": [
    "df['Tenure'] = df['Tenure'].fillna(df['Tenure'].median()).astype('int')\n",
    "display(df.head(2))\n",
    "df.info()"
   ]
  },
  {
   "cell_type": "markdown",
   "metadata": {},
   "source": [
    "Все данные в норме"
   ]
  },
  {
   "cell_type": "code",
   "execution_count": 6,
   "metadata": {},
   "outputs": [
    {
     "data": {
      "text/html": [
       "<div>\n",
       "<style scoped>\n",
       "    .dataframe tbody tr th:only-of-type {\n",
       "        vertical-align: middle;\n",
       "    }\n",
       "\n",
       "    .dataframe tbody tr th {\n",
       "        vertical-align: top;\n",
       "    }\n",
       "\n",
       "    .dataframe thead th {\n",
       "        text-align: right;\n",
       "    }\n",
       "</style>\n",
       "<table border=\"1\" class=\"dataframe\">\n",
       "  <thead>\n",
       "    <tr style=\"text-align: right;\">\n",
       "      <th></th>\n",
       "      <th>CreditScore</th>\n",
       "      <th>Geography</th>\n",
       "      <th>Gender</th>\n",
       "      <th>Age</th>\n",
       "      <th>Tenure</th>\n",
       "      <th>Balance</th>\n",
       "      <th>NumOfProducts</th>\n",
       "      <th>HasCrCard</th>\n",
       "      <th>IsActiveMember</th>\n",
       "      <th>EstimatedSalary</th>\n",
       "      <th>Exited</th>\n",
       "    </tr>\n",
       "  </thead>\n",
       "  <tbody>\n",
       "    <tr>\n",
       "      <th>0</th>\n",
       "      <td>619</td>\n",
       "      <td>France</td>\n",
       "      <td>Female</td>\n",
       "      <td>42</td>\n",
       "      <td>2</td>\n",
       "      <td>0.00</td>\n",
       "      <td>1</td>\n",
       "      <td>1</td>\n",
       "      <td>1</td>\n",
       "      <td>101348.88</td>\n",
       "      <td>1</td>\n",
       "    </tr>\n",
       "    <tr>\n",
       "      <th>1</th>\n",
       "      <td>608</td>\n",
       "      <td>Spain</td>\n",
       "      <td>Female</td>\n",
       "      <td>41</td>\n",
       "      <td>1</td>\n",
       "      <td>83807.86</td>\n",
       "      <td>1</td>\n",
       "      <td>0</td>\n",
       "      <td>1</td>\n",
       "      <td>112542.58</td>\n",
       "      <td>0</td>\n",
       "    </tr>\n",
       "  </tbody>\n",
       "</table>\n",
       "</div>"
      ],
      "text/plain": [
       "   CreditScore Geography  Gender  Age  Tenure   Balance  NumOfProducts  \\\n",
       "0          619    France  Female   42       2      0.00              1   \n",
       "1          608     Spain  Female   41       1  83807.86              1   \n",
       "\n",
       "   HasCrCard  IsActiveMember  EstimatedSalary  Exited  \n",
       "0          1               1        101348.88       1  \n",
       "1          0               1        112542.58       0  "
      ]
     },
     "execution_count": 6,
     "metadata": {},
     "output_type": "execute_result"
    }
   ],
   "source": [
    "df = df.drop(['RowNumber', 'CustomerId', 'Surname'], axis=1)\n",
    "df.head(2)"
   ]
  },
  {
   "cell_type": "markdown",
   "metadata": {},
   "source": [
    "## Исследование задачи"
   ]
  },
  {
   "cell_type": "markdown",
   "metadata": {},
   "source": [
    "### Разделим данные на валидационную и тестовую выборки:"
   ]
  },
  {
   "cell_type": "code",
   "execution_count": 8,
   "metadata": {},
   "outputs": [],
   "source": [
    "df_train, df_valid = train_test_split(df, test_size=0.25, random_state=12345) # валидационная выборка (25%)\n",
    "\n",
    "df_train, df_test = train_test_split(df_train, test_size=0.25, random_state=12345) # тестовая выборка (25%)"
   ]
  },
  {
   "cell_type": "code",
   "execution_count": 9,
   "metadata": {},
   "outputs": [
    {
     "name": "stdout",
     "output_type": "stream",
     "text": [
      "df: 10000\n",
      "train: 56.25 %\n",
      "valid: 25.0 %\n",
      "test: 18.75 %\n"
     ]
    }
   ],
   "source": [
    "print('df:', df.shape[0])\n",
    "print('train:', (df_train.shape[0]*100) / df.shape[0],'%')\n",
    "print('valid:', (df_valid.shape[0]*100) / df.shape[0],'%')\n",
    "print('test:', (df_test.shape[0]*100) / df.shape[0],'%')"
   ]
  },
  {
   "cell_type": "code",
   "execution_count": 10,
   "metadata": {},
   "outputs": [],
   "source": [
    "features_train = df_train.drop(['Exited'], axis=1)\n",
    "target_train = df_train['Exited']\n",
    "\n",
    "features_valid = df_valid.drop(['Exited'], axis=1)\n",
    "target_valid = df_valid['Exited']\n",
    "\n",
    "features_test = df_test.drop(['Exited'], axis=1)\n",
    "target_test = df_test['Exited']"
   ]
  },
  {
   "cell_type": "markdown",
   "metadata": {},
   "source": [
    "### Сделаем прямое кодирование "
   ]
  },
  {
   "cell_type": "code",
   "execution_count": 11,
   "metadata": {},
   "outputs": [],
   "source": [
    "features_train = pd.get_dummies(features_train, drop_first=True)\n",
    "features_valid = pd.get_dummies(features_valid, drop_first=True)\n",
    "features_test = pd.get_dummies(features_test, drop_first=True)"
   ]
  },
  {
   "cell_type": "markdown",
   "metadata": {},
   "source": [
    "### Отмаштабируем данные"
   ]
  },
  {
   "cell_type": "code",
   "execution_count": 12,
   "metadata": {},
   "outputs": [],
   "source": [
    "numeric = ['CreditScore', 'Age', 'Balance', 'EstimatedSalary']\n",
    "scaler = StandardScaler()\n",
    "scaler.fit(features_train[numeric])\n",
    "features_train[numeric] = scaler.transform(features_train[numeric])\n",
    "features_valid[numeric] = scaler.transform(features_valid[numeric])\n",
    "features_test[numeric] = scaler.transform(features_test[numeric])"
   ]
  },
  {
   "cell_type": "markdown",
   "metadata": {},
   "source": [
    "### модель Случайного леса"
   ]
  },
  {
   "cell_type": "code",
   "execution_count": 13,
   "metadata": {},
   "outputs": [
    {
     "name": "stdout",
     "output_type": "stream",
     "text": [
      "Accuracy наилучшей модели на валидационной выборке: 0.857\n",
      "Глубина дерева 14\n",
      "Количество деревьев 50\n"
     ]
    }
   ],
   "source": [
    "best_model = None\n",
    "best_depth = 0\n",
    "best_est = 0\n",
    "best_result = 0\n",
    "for depth in range(2, 22, 2):\n",
    "    for est in range(50, 351, 50):\n",
    "        model_forest = RandomForestClassifier(random_state=12345, n_estimators=est, max_depth=depth, class_weight='balanced')\n",
    "        model_forest.fit(features_train, target_train)\n",
    "        result = model_forest.score(features_valid, target_valid)\n",
    "    \n",
    "        if result > best_result:\n",
    "            best_model = model_forest\n",
    "            best_result = result\n",
    "            best_depth = depth\n",
    "            best_est = est\n",
    "print('Accuracy наилучшей модели на валидационной выборке:', best_result.round(3))\n",
    "print('Глубина дерева', best_depth)\n",
    "print('Количество деревьев', best_est)"
   ]
  },
  {
   "cell_type": "markdown",
   "metadata": {},
   "source": [
    "### модель Логистической регрессии"
   ]
  },
  {
   "cell_type": "code",
   "execution_count": 14,
   "metadata": {},
   "outputs": [
    {
     "name": "stdout",
     "output_type": "stream",
     "text": [
      "Accuracy наилучшей модели на валидационной выборке: 0.817\n"
     ]
    }
   ],
   "source": [
    "model_log = LogisticRegression(random_state=12345, solver='lbfgs', max_iter=1000)\n",
    "model_log.fit(features_train, target_train)\n",
    "result = model_log.score(features_train, target_train)\n",
    "print('Accuracy наилучшей модели на валидационной выборке:', result.round(3))"
   ]
  },
  {
   "cell_type": "markdown",
   "metadata": {},
   "source": [
    "### f1-мера"
   ]
  },
  {
   "cell_type": "code",
   "execution_count": 15,
   "metadata": {},
   "outputs": [
    {
     "name": "stdout",
     "output_type": "stream",
     "text": [
      "F1: 0.7261392606755894\n"
     ]
    }
   ],
   "source": [
    "predicted_forest = model_forest.predict(features_valid)\n",
    "print('F1:',f1_score(target_valid, predicted_forest, average='macro'))"
   ]
  },
  {
   "cell_type": "code",
   "execution_count": 16,
   "metadata": {},
   "outputs": [
    {
     "name": "stdout",
     "output_type": "stream",
     "text": [
      "F1: 0.5827248416262416\n"
     ]
    }
   ],
   "source": [
    "predicted_log = model_log.predict(features_valid)\n",
    "print('F1:',f1_score(target_valid, predicted_log, average='macro'))"
   ]
  },
  {
   "cell_type": "code",
   "execution_count": 17,
   "metadata": {},
   "outputs": [],
   "source": [
    "#del model_log"
   ]
  },
  {
   "cell_type": "markdown",
   "metadata": {},
   "source": [
    "Довольно низкие значения"
   ]
  },
  {
   "cell_type": "markdown",
   "metadata": {},
   "source": [
    "## Борьба с дисбалансом"
   ]
  },
  {
   "cell_type": "markdown",
   "metadata": {},
   "source": [
    "### Увеличим выборку"
   ]
  },
  {
   "cell_type": "code",
   "execution_count": 18,
   "metadata": {},
   "outputs": [],
   "source": [
    "def upsample(features, target, repeat):\n",
    "    features_zeros = features[target == 0]\n",
    "    features_ones = features[target == 1]\n",
    "    target_zeros = target[target == 0]\n",
    "    target_ones = target[target == 1]\n",
    "    \n",
    "    features_upsampled = pd.concat([features_zeros] + [features_ones] * repeat)\n",
    "    target_upsampled = pd.concat([target_zeros] + [target_ones] * repeat)\n",
    "    \n",
    "    features_upsampled, target_upsampled = shuffle(features_upsampled, target_upsampled, random_state=12345)\n",
    "    \n",
    "    return features_upsampled, target_upsampled\n",
    "\n",
    "features_upsampled, target_upsampled = upsample(features_train, target_train, 4)"
   ]
  },
  {
   "cell_type": "code",
   "execution_count": 19,
   "metadata": {},
   "outputs": [
    {
     "name": "stdout",
     "output_type": "stream",
     "text": [
      "[[0.84489228 0.15510772]\n",
      " [0.90522055 0.09477945]\n",
      " [0.93919137 0.06080863]\n",
      " ...\n",
      " [0.76642192 0.23357808]\n",
      " [0.74829098 0.25170902]\n",
      " [0.78494441 0.21505559]]\n",
      "--------------------------\n",
      "[0.15510772 0.09477945 0.06080863 ... 0.23357808 0.25170902 0.21505559]\n"
     ]
    }
   ],
   "source": [
    "probabilities_valid = model_log.predict_proba(features_valid)\n",
    "probabilities_one_valid = probabilities_valid[:, 1]\n",
    "print(probabilities_valid)\n",
    "print('--------------------------')\n",
    "print(probabilities_one_valid)"
   ]
  },
  {
   "cell_type": "code",
   "execution_count": 20,
   "metadata": {},
   "outputs": [
    {
     "name": "stdout",
     "output_type": "stream",
     "text": [
      "0    0.7963\n",
      "1    0.2037\n",
      "Name: Exited, dtype: float64\n"
     ]
    }
   ],
   "source": [
    "print(df['Exited'].value_counts(normalize=True))"
   ]
  },
  {
   "cell_type": "code",
   "execution_count": 21,
   "metadata": {},
   "outputs": [
    {
     "name": "stdout",
     "output_type": "stream",
     "text": [
      "F1: 0.5827248416262416\n"
     ]
    }
   ],
   "source": [
    "model_log = LogisticRegression(random_state=12345, solver='lbfgs', max_iter=1000)\n",
    "model_log.fit(features_train, target_train)\n",
    "predicted_log = model_log.predict(features_valid)\n",
    "print('F1:',f1_score(target_valid, predicted_log, average='macro'))"
   ]
  },
  {
   "cell_type": "markdown",
   "metadata": {},
   "source": [
    "!!!\n",
    "\n",
    "    Увеличение выборки никак не повлияло на f1 меру\n",
    "!!!"
   ]
  },
  {
   "cell_type": "code",
   "execution_count": 22,
   "metadata": {},
   "outputs": [],
   "source": [
    "del model_log"
   ]
  },
  {
   "cell_type": "markdown",
   "metadata": {},
   "source": [
    "### Уменьшим выборку"
   ]
  },
  {
   "cell_type": "code",
   "execution_count": 23,
   "metadata": {},
   "outputs": [],
   "source": [
    "def downsample(features, target, fraction):\n",
    "    features_zeros = features[target == 0]\n",
    "    features_ones = features[target == 1]\n",
    "    target_zeros = target[target == 0]\n",
    "    target_ones = target[target == 1]\n",
    "    \n",
    "    features_downsampled = pd.concat([features_zeros.sample(frac=fraction, random_state=12345)] + [features_ones])\n",
    "    target_downsampled = pd.concat([target_zeros.sample(frac=fraction, random_state=12345)] + [target_ones])\n",
    "    \n",
    "    features_downsampled, target_downsampled = shuffle(features_downsampled, target_downsampled, random_state=12345)\n",
    "    \n",
    "    return features_downsampled, target_downsampled\n",
    "\n",
    "features_downsampled, target_downsampled = downsample(features_train, target_train, 0.25)"
   ]
  },
  {
   "cell_type": "code",
   "execution_count": 24,
   "metadata": {},
   "outputs": [
    {
     "name": "stdout",
     "output_type": "stream",
     "text": [
      "F1: 0.5827248416262416\n"
     ]
    }
   ],
   "source": [
    "model_log = LogisticRegression(random_state=12345, solver='lbfgs', max_iter=1000)\n",
    "model_log.fit(features_train, target_train)\n",
    "predicted_log = model_log.predict(features_valid)\n",
    "print('F1:',f1_score(target_valid, predicted_log, average='macro'))"
   ]
  },
  {
   "cell_type": "markdown",
   "metadata": {},
   "source": [
    "!!!\n",
    "\n",
    "    Уменьшение выборки никак не повлияло на f1 меру\n",
    "!!!"
   ]
  },
  {
   "cell_type": "code",
   "execution_count": 25,
   "metadata": {},
   "outputs": [
    {
     "data": {
      "image/png": "[encoded data removed]",
      "text/plain": [
       "<Figure size 432x288 with 1 Axes>"
      ]
     },
     "metadata": {
      "needs_background": "light"
     },
     "output_type": "display_data"
    }
   ],
   "source": [
    "probabilities_valid = model_log.predict_proba(features_valid)\n",
    "probabilities_one_valid = probabilities_valid[:, 1]\n",
    "\n",
    "fpr, tpr, thresholds = roc_curve(target_valid, probabilities_one_valid)\n",
    "\n",
    "plt.figure()\n",
    "\n",
    "plt.plot(fpr, tpr)\n",
    "plt.xlim([0.0, 1.0])\n",
    "plt.ylim([0.0, 1.0])\n",
    "plt.xlabel('False Positive Rate')\n",
    "plt.ylabel('True Positive Rate')\n",
    "plt.title('ROC-кривая')\n",
    "plt.plot([0, 1], [0, 1], linestyle='--')\n",
    "plt.show()"
   ]
  },
  {
   "cell_type": "markdown",
   "metadata": {},
   "source": [
    "## Тестирование модели"
   ]
  },
  {
   "cell_type": "code",
   "execution_count": 26,
   "metadata": {},
   "outputs": [
    {
     "name": "stdout",
     "output_type": "stream",
     "text": [
      "Accuracy наилучшей модели на тестовой выборке: 0.84\n",
      "F1_score 0.6052631578947368\n"
     ]
    }
   ],
   "source": [
    "model = RandomForestClassifier(random_state=12345, n_estimators=100, max_depth=10, class_weight='balanced')\n",
    "model.fit(features_train, target_train)\n",
    "pred = model.predict(features_test)\n",
    "result_test = model.score(features_test, target_test)\n",
    "final_score = f1_score(target_test, pred)\n",
    "print('Accuracy наилучшей модели на тестовой выборке:', result_test.round(3))\n",
    "print('F1_score', final_score)"
   ]
  }
 ],
 "metadata": {
  "ExecuteTimeLog": [
   {
    "duration": 78,
    "start_time": "2022-12-25T10:12:23.193Z"
   },
   {
    "duration": 359,
    "start_time": "2022-12-28T12:34:50.469Z"
   },
   {
    "duration": 208,
    "start_time": "2022-12-28T12:34:50.830Z"
   },
   {
    "duration": 379,
    "start_time": "2022-12-28T12:40:23.255Z"
   },
   {
    "duration": 75,
    "start_time": "2022-12-28T12:40:23.636Z"
   },
   {
    "duration": 3,
    "start_time": "2022-12-28T12:40:23.713Z"
   },
   {
    "duration": 4,
    "start_time": "2022-12-28T12:45:52.218Z"
   },
   {
    "duration": 441,
    "start_time": "2022-12-28T12:48:35.508Z"
   },
   {
    "duration": 72,
    "start_time": "2022-12-28T12:48:35.951Z"
   },
   {
    "duration": 4,
    "start_time": "2022-12-28T12:48:36.026Z"
   },
   {
    "duration": 7,
    "start_time": "2022-12-28T12:48:36.032Z"
   },
   {
    "duration": 20,
    "start_time": "2022-12-28T12:48:41.200Z"
   },
   {
    "duration": 13,
    "start_time": "2022-12-28T12:48:52.712Z"
   },
   {
    "duration": 12,
    "start_time": "2022-12-28T12:49:33.501Z"
   },
   {
    "duration": 391,
    "start_time": "2022-12-28T12:49:40.831Z"
   },
   {
    "duration": 72,
    "start_time": "2022-12-28T12:49:41.225Z"
   },
   {
    "duration": 5,
    "start_time": "2022-12-28T12:49:41.298Z"
   },
   {
    "duration": 14,
    "start_time": "2022-12-28T12:49:41.305Z"
   },
   {
    "duration": 400,
    "start_time": "2022-12-28T12:50:09.136Z"
   },
   {
    "duration": 71,
    "start_time": "2022-12-28T12:50:09.538Z"
   },
   {
    "duration": 4,
    "start_time": "2022-12-28T12:50:09.611Z"
   },
   {
    "duration": 18,
    "start_time": "2022-12-28T12:50:09.617Z"
   },
   {
    "duration": 23,
    "start_time": "2022-12-28T12:50:23.374Z"
   },
   {
    "duration": 20,
    "start_time": "2022-12-28T12:50:45.233Z"
   },
   {
    "duration": 16,
    "start_time": "2022-12-28T12:51:12.966Z"
   },
   {
    "duration": 22,
    "start_time": "2022-12-28T12:51:28.839Z"
   },
   {
    "duration": 417,
    "start_time": "2022-12-28T12:52:15.313Z"
   },
   {
    "duration": 73,
    "start_time": "2022-12-28T12:52:15.732Z"
   },
   {
    "duration": 3,
    "start_time": "2022-12-28T12:52:15.808Z"
   },
   {
    "duration": 58,
    "start_time": "2022-12-28T12:52:15.813Z"
   },
   {
    "duration": 68,
    "start_time": "2022-12-28T12:52:15.873Z"
   },
   {
    "duration": 53,
    "start_time": "2022-12-28T17:08:16.361Z"
   },
   {
    "duration": 1317,
    "start_time": "2022-12-28T17:09:02.717Z"
   },
   {
    "duration": 116,
    "start_time": "2022-12-28T17:09:04.035Z"
   },
   {
    "duration": 4,
    "start_time": "2022-12-28T17:09:04.153Z"
   },
   {
    "duration": 38,
    "start_time": "2022-12-28T17:09:04.159Z"
   },
   {
    "duration": 56671,
    "start_time": "2022-12-28T17:09:04.200Z"
   },
   {
    "duration": 1465,
    "start_time": "2022-12-29T09:23:34.984Z"
   },
   {
    "duration": 177,
    "start_time": "2022-12-29T09:23:36.454Z"
   },
   {
    "duration": 5,
    "start_time": "2022-12-29T09:23:36.632Z"
   },
   {
    "duration": 27,
    "start_time": "2022-12-29T09:23:36.639Z"
   },
   {
    "duration": 66820,
    "start_time": "2022-12-29T09:23:36.668Z"
   },
   {
    "duration": 22130,
    "start_time": "2022-12-29T09:37:06.228Z"
   },
   {
    "duration": 65874,
    "start_time": "2022-12-29T09:38:11.664Z"
   },
   {
    "duration": 64655,
    "start_time": "2022-12-29T10:01:20.577Z"
   },
   {
    "duration": 108,
    "start_time": "2022-12-29T10:35:26.398Z"
   },
   {
    "duration": 3,
    "start_time": "2022-12-29T10:38:03.133Z"
   },
   {
    "duration": 8,
    "start_time": "2022-12-29T10:38:42.925Z"
   },
   {
    "duration": 4,
    "start_time": "2022-12-29T10:38:54.438Z"
   },
   {
    "duration": 9,
    "start_time": "2022-12-29T10:38:58.125Z"
   },
   {
    "duration": 3,
    "start_time": "2022-12-29T10:39:06.303Z"
   },
   {
    "duration": 4,
    "start_time": "2022-12-29T10:39:11.831Z"
   },
   {
    "duration": 9,
    "start_time": "2022-12-29T10:40:11.470Z"
   },
   {
    "duration": 4,
    "start_time": "2022-12-29T10:40:16.354Z"
   },
   {
    "duration": 4,
    "start_time": "2022-12-29T10:40:21.285Z"
   },
   {
    "duration": 1681,
    "start_time": "2022-12-29T11:04:59.345Z"
   },
   {
    "duration": 83,
    "start_time": "2022-12-29T11:05:01.029Z"
   },
   {
    "duration": 5,
    "start_time": "2022-12-29T11:05:01.115Z"
   },
   {
    "duration": 78,
    "start_time": "2022-12-29T11:05:01.122Z"
   },
   {
    "duration": 63562,
    "start_time": "2022-12-29T11:05:01.203Z"
   },
   {
    "duration": 10,
    "start_time": "2022-12-29T11:06:04.767Z"
   },
   {
    "duration": 17,
    "start_time": "2022-12-29T11:06:04.779Z"
   },
   {
    "duration": 84,
    "start_time": "2022-12-29T11:07:57.947Z"
   },
   {
    "duration": 7,
    "start_time": "2022-12-29T11:08:17.917Z"
   },
   {
    "duration": 6,
    "start_time": "2022-12-29T11:12:50.605Z"
   },
   {
    "duration": 7,
    "start_time": "2022-12-29T11:13:18.717Z"
   },
   {
    "duration": 6,
    "start_time": "2022-12-29T11:14:27.844Z"
   },
   {
    "duration": 1514,
    "start_time": "2022-12-29T12:19:14.954Z"
   },
   {
    "duration": 73,
    "start_time": "2022-12-29T12:19:16.470Z"
   },
   {
    "duration": 5,
    "start_time": "2022-12-29T12:19:16.544Z"
   },
   {
    "duration": 43,
    "start_time": "2022-12-29T12:19:16.550Z"
   },
   {
    "duration": 60669,
    "start_time": "2022-12-29T12:19:16.595Z"
   },
   {
    "duration": 18,
    "start_time": "2022-12-29T12:20:17.266Z"
   },
   {
    "duration": 7,
    "start_time": "2022-12-29T12:20:17.286Z"
   },
   {
    "duration": 16,
    "start_time": "2022-12-29T12:20:17.295Z"
   },
   {
    "duration": 155,
    "start_time": "2022-12-29T12:20:17.350Z"
   },
   {
    "duration": 1632,
    "start_time": "2022-12-29T12:23:33.851Z"
   },
   {
    "duration": 87,
    "start_time": "2022-12-29T12:23:35.485Z"
   },
   {
    "duration": 6,
    "start_time": "2022-12-29T12:23:35.575Z"
   },
   {
    "duration": 42,
    "start_time": "2022-12-29T12:23:35.582Z"
   },
   {
    "duration": 66479,
    "start_time": "2022-12-29T12:23:35.625Z"
   },
   {
    "duration": 9,
    "start_time": "2022-12-29T12:24:42.108Z"
   },
   {
    "duration": 6,
    "start_time": "2022-12-29T12:24:42.119Z"
   },
   {
    "duration": 17,
    "start_time": "2022-12-29T12:24:42.152Z"
   },
   {
    "duration": 205,
    "start_time": "2022-12-29T12:24:42.174Z"
   },
   {
    "duration": 22,
    "start_time": "2022-12-29T15:16:04.939Z"
   },
   {
    "duration": 1785,
    "start_time": "2022-12-29T15:16:10.755Z"
   },
   {
    "duration": 103,
    "start_time": "2022-12-29T15:16:12.542Z"
   },
   {
    "duration": 13,
    "start_time": "2022-12-29T15:16:12.647Z"
   },
   {
    "duration": 56,
    "start_time": "2022-12-29T15:16:12.665Z"
   },
   {
    "duration": 1905,
    "start_time": "2022-12-29T15:17:13.308Z"
   },
   {
    "duration": 118,
    "start_time": "2022-12-29T15:17:15.219Z"
   },
   {
    "duration": 5,
    "start_time": "2022-12-29T15:17:15.339Z"
   },
   {
    "duration": 103,
    "start_time": "2022-12-29T15:17:15.347Z"
   },
   {
    "duration": 6,
    "start_time": "2022-12-29T15:17:15.454Z"
   },
   {
    "duration": 53,
    "start_time": "2022-12-29T15:17:15.462Z"
   },
   {
    "duration": 12,
    "start_time": "2022-12-29T15:17:15.518Z"
   },
   {
    "duration": 12,
    "start_time": "2022-12-29T15:17:15.533Z"
   },
   {
    "duration": 238,
    "start_time": "2022-12-29T15:17:15.547Z"
   },
   {
    "duration": 0,
    "start_time": "2022-12-29T15:17:15.788Z"
   },
   {
    "duration": 16,
    "start_time": "2022-12-29T15:17:51.695Z"
   },
   {
    "duration": 69,
    "start_time": "2022-12-29T15:18:07.129Z"
   },
   {
    "duration": 61,
    "start_time": "2022-12-29T15:18:11.367Z"
   },
   {
    "duration": 1886,
    "start_time": "2022-12-29T15:19:39.472Z"
   },
   {
    "duration": 102,
    "start_time": "2022-12-29T15:19:41.371Z"
   },
   {
    "duration": 6,
    "start_time": "2022-12-29T15:19:41.487Z"
   },
   {
    "duration": 32,
    "start_time": "2022-12-29T15:19:41.495Z"
   },
   {
    "duration": 3,
    "start_time": "2022-12-29T15:19:41.530Z"
   },
   {
    "duration": 64,
    "start_time": "2022-12-29T15:19:41.535Z"
   },
   {
    "duration": 10,
    "start_time": "2022-12-29T15:19:41.601Z"
   },
   {
    "duration": 6,
    "start_time": "2022-12-29T15:19:41.613Z"
   },
   {
    "duration": 10,
    "start_time": "2022-12-29T15:19:41.621Z"
   },
   {
    "duration": 4046,
    "start_time": "2022-12-29T15:19:41.633Z"
   },
   {
    "duration": 1081,
    "start_time": "2022-12-29T15:23:45.689Z"
   },
   {
    "duration": 1705,
    "start_time": "2022-12-29T15:23:51.726Z"
   },
   {
    "duration": 95,
    "start_time": "2022-12-29T15:23:53.434Z"
   },
   {
    "duration": 5,
    "start_time": "2022-12-29T15:23:53.530Z"
   },
   {
    "duration": 43,
    "start_time": "2022-12-29T15:23:53.538Z"
   },
   {
    "duration": 9,
    "start_time": "2022-12-29T15:23:53.588Z"
   },
   {
    "duration": 42,
    "start_time": "2022-12-29T15:23:53.599Z"
   },
   {
    "duration": 15,
    "start_time": "2022-12-29T15:23:53.643Z"
   },
   {
    "duration": 36,
    "start_time": "2022-12-29T15:23:53.660Z"
   },
   {
    "duration": 11,
    "start_time": "2022-12-29T15:23:53.698Z"
   },
   {
    "duration": 1125,
    "start_time": "2022-12-29T15:23:53.710Z"
   },
   {
    "duration": 1176,
    "start_time": "2022-12-29T15:24:18.194Z"
   },
   {
    "duration": 1958,
    "start_time": "2022-12-29T15:24:30.367Z"
   },
   {
    "duration": 114,
    "start_time": "2022-12-29T15:24:32.328Z"
   },
   {
    "duration": 5,
    "start_time": "2022-12-29T15:24:32.445Z"
   },
   {
    "duration": 129,
    "start_time": "2022-12-29T15:24:32.452Z"
   },
   {
    "duration": 3,
    "start_time": "2022-12-29T15:24:32.592Z"
   },
   {
    "duration": 77,
    "start_time": "2022-12-29T15:24:32.599Z"
   },
   {
    "duration": 12,
    "start_time": "2022-12-29T15:24:32.683Z"
   },
   {
    "duration": 9,
    "start_time": "2022-12-29T15:24:32.697Z"
   },
   {
    "duration": 13,
    "start_time": "2022-12-29T15:24:32.708Z"
   },
   {
    "duration": 35304,
    "start_time": "2022-12-29T15:24:32.724Z"
   },
   {
    "duration": 99,
    "start_time": "2022-12-29T15:25:40.338Z"
   },
   {
    "duration": 97,
    "start_time": "2022-12-29T15:25:46.819Z"
   },
   {
    "duration": 109,
    "start_time": "2022-12-29T15:26:17.899Z"
   },
   {
    "duration": 1075,
    "start_time": "2022-12-29T15:29:48.134Z"
   },
   {
    "duration": 67,
    "start_time": "2022-12-29T15:30:15.698Z"
   },
   {
    "duration": 85,
    "start_time": "2022-12-29T15:30:24.894Z"
   },
   {
    "duration": 69,
    "start_time": "2022-12-29T15:31:04.578Z"
   },
   {
    "duration": 135,
    "start_time": "2022-12-29T15:42:21.131Z"
   },
   {
    "duration": 1555,
    "start_time": "2022-12-29T15:42:26.424Z"
   },
   {
    "duration": 81,
    "start_time": "2022-12-29T15:42:27.981Z"
   },
   {
    "duration": 9,
    "start_time": "2022-12-29T15:42:28.070Z"
   },
   {
    "duration": 31,
    "start_time": "2022-12-29T15:42:28.082Z"
   },
   {
    "duration": 3,
    "start_time": "2022-12-29T15:42:28.115Z"
   },
   {
    "duration": 81,
    "start_time": "2022-12-29T15:42:28.119Z"
   },
   {
    "duration": 153,
    "start_time": "2022-12-29T15:42:28.201Z"
   },
   {
    "duration": 0,
    "start_time": "2022-12-29T15:42:28.357Z"
   },
   {
    "duration": 0,
    "start_time": "2022-12-29T15:42:28.359Z"
   },
   {
    "duration": 0,
    "start_time": "2022-12-29T15:42:28.360Z"
   },
   {
    "duration": 0,
    "start_time": "2022-12-29T15:42:28.361Z"
   },
   {
    "duration": 39,
    "start_time": "2022-12-29T15:43:46.138Z"
   },
   {
    "duration": 26,
    "start_time": "2022-12-29T15:43:58.938Z"
   },
   {
    "duration": 16,
    "start_time": "2022-12-29T15:44:21.740Z"
   },
   {
    "duration": 1882,
    "start_time": "2022-12-29T15:44:28.680Z"
   },
   {
    "duration": 94,
    "start_time": "2022-12-29T15:44:30.569Z"
   },
   {
    "duration": 8,
    "start_time": "2022-12-29T15:44:30.674Z"
   },
   {
    "duration": 49,
    "start_time": "2022-12-29T15:44:30.685Z"
   },
   {
    "duration": 3,
    "start_time": "2022-12-29T15:44:30.736Z"
   },
   {
    "duration": 112,
    "start_time": "2022-12-29T15:44:30.741Z"
   },
   {
    "duration": 28,
    "start_time": "2022-12-29T15:44:30.858Z"
   },
   {
    "duration": 151,
    "start_time": "2022-12-29T15:44:30.890Z"
   },
   {
    "duration": 0,
    "start_time": "2022-12-29T15:44:31.044Z"
   },
   {
    "duration": 0,
    "start_time": "2022-12-29T15:44:31.045Z"
   },
   {
    "duration": 0,
    "start_time": "2022-12-29T15:44:31.047Z"
   },
   {
    "duration": 1659,
    "start_time": "2022-12-29T15:44:49.656Z"
   },
   {
    "duration": 93,
    "start_time": "2022-12-29T15:44:51.317Z"
   },
   {
    "duration": 5,
    "start_time": "2022-12-29T15:44:51.412Z"
   },
   {
    "duration": 45,
    "start_time": "2022-12-29T15:44:51.420Z"
   },
   {
    "duration": 2,
    "start_time": "2022-12-29T15:44:51.467Z"
   },
   {
    "duration": 78,
    "start_time": "2022-12-29T15:44:51.471Z"
   },
   {
    "duration": 25,
    "start_time": "2022-12-29T15:44:51.551Z"
   },
   {
    "duration": 16,
    "start_time": "2022-12-29T15:44:51.578Z"
   },
   {
    "duration": 23,
    "start_time": "2022-12-29T15:44:51.596Z"
   },
   {
    "duration": 157,
    "start_time": "2022-12-29T15:44:51.621Z"
   },
   {
    "duration": 0,
    "start_time": "2022-12-29T15:44:51.780Z"
   },
   {
    "duration": 1655,
    "start_time": "2022-12-29T15:57:08.173Z"
   },
   {
    "duration": 109,
    "start_time": "2022-12-29T15:57:09.831Z"
   },
   {
    "duration": 6,
    "start_time": "2022-12-29T15:57:09.942Z"
   },
   {
    "duration": 77,
    "start_time": "2022-12-29T15:57:09.949Z"
   },
   {
    "duration": 3,
    "start_time": "2022-12-29T15:57:10.028Z"
   },
   {
    "duration": 85,
    "start_time": "2022-12-29T15:57:10.032Z"
   },
   {
    "duration": 175,
    "start_time": "2022-12-29T15:57:10.120Z"
   },
   {
    "duration": 0,
    "start_time": "2022-12-29T15:57:10.297Z"
   },
   {
    "duration": 0,
    "start_time": "2022-12-29T15:57:10.298Z"
   },
   {
    "duration": 0,
    "start_time": "2022-12-29T15:57:10.299Z"
   },
   {
    "duration": 0,
    "start_time": "2022-12-29T15:57:10.301Z"
   },
   {
    "duration": 1586,
    "start_time": "2022-12-29T15:57:24.109Z"
   },
   {
    "duration": 96,
    "start_time": "2022-12-29T15:57:25.697Z"
   },
   {
    "duration": 5,
    "start_time": "2022-12-29T15:57:25.795Z"
   },
   {
    "duration": 34,
    "start_time": "2022-12-29T15:57:25.803Z"
   },
   {
    "duration": 37,
    "start_time": "2022-12-29T15:57:25.839Z"
   },
   {
    "duration": 66,
    "start_time": "2022-12-29T15:57:25.878Z"
   },
   {
    "duration": 16,
    "start_time": "2022-12-29T15:57:25.946Z"
   },
   {
    "duration": 16,
    "start_time": "2022-12-29T15:57:25.976Z"
   },
   {
    "duration": 15,
    "start_time": "2022-12-29T15:57:25.994Z"
   },
   {
    "duration": 138,
    "start_time": "2022-12-29T15:57:26.011Z"
   },
   {
    "duration": 0,
    "start_time": "2022-12-29T15:57:26.155Z"
   },
   {
    "duration": 12,
    "start_time": "2022-12-29T15:58:23.623Z"
   },
   {
    "duration": 1602,
    "start_time": "2022-12-29T15:58:43.167Z"
   },
   {
    "duration": 78,
    "start_time": "2022-12-29T15:58:44.771Z"
   },
   {
    "duration": 7,
    "start_time": "2022-12-29T15:58:44.852Z"
   },
   {
    "duration": 34,
    "start_time": "2022-12-29T15:58:44.863Z"
   },
   {
    "duration": 3,
    "start_time": "2022-12-29T15:58:44.899Z"
   },
   {
    "duration": 69,
    "start_time": "2022-12-29T15:58:44.904Z"
   },
   {
    "duration": 8,
    "start_time": "2022-12-29T15:58:44.974Z"
   },
   {
    "duration": 10,
    "start_time": "2022-12-29T15:58:44.984Z"
   },
   {
    "duration": 15,
    "start_time": "2022-12-29T15:58:44.996Z"
   },
   {
    "duration": 43,
    "start_time": "2022-12-29T15:58:45.014Z"
   },
   {
    "duration": 1046,
    "start_time": "2022-12-29T15:58:45.062Z"
   },
   {
    "duration": 1620,
    "start_time": "2022-12-29T15:59:21.371Z"
   },
   {
    "duration": 93,
    "start_time": "2022-12-29T15:59:22.993Z"
   },
   {
    "duration": 5,
    "start_time": "2022-12-29T15:59:23.088Z"
   },
   {
    "duration": 31,
    "start_time": "2022-12-29T15:59:23.094Z"
   },
   {
    "duration": 25,
    "start_time": "2022-12-29T15:59:23.127Z"
   },
   {
    "duration": 73,
    "start_time": "2022-12-29T15:59:23.154Z"
   },
   {
    "duration": 8,
    "start_time": "2022-12-29T15:59:23.229Z"
   },
   {
    "duration": 18,
    "start_time": "2022-12-29T15:59:23.239Z"
   },
   {
    "duration": 7,
    "start_time": "2022-12-29T15:59:23.266Z"
   },
   {
    "duration": 17,
    "start_time": "2022-12-29T15:59:23.275Z"
   },
   {
    "duration": 32286,
    "start_time": "2022-12-29T15:59:23.294Z"
   },
   {
    "duration": 230,
    "start_time": "2022-12-29T16:17:36.101Z"
   },
   {
    "duration": 1749,
    "start_time": "2022-12-29T16:17:41.522Z"
   },
   {
    "duration": 84,
    "start_time": "2022-12-29T16:17:43.276Z"
   },
   {
    "duration": 9,
    "start_time": "2022-12-29T16:17:43.362Z"
   },
   {
    "duration": 48,
    "start_time": "2022-12-29T16:17:43.373Z"
   },
   {
    "duration": 5,
    "start_time": "2022-12-29T16:17:43.423Z"
   },
   {
    "duration": 84,
    "start_time": "2022-12-29T16:17:43.430Z"
   },
   {
    "duration": 8,
    "start_time": "2022-12-29T16:17:43.517Z"
   },
   {
    "duration": 6,
    "start_time": "2022-12-29T16:17:43.528Z"
   },
   {
    "duration": 63,
    "start_time": "2022-12-29T16:17:43.536Z"
   },
   {
    "duration": 19,
    "start_time": "2022-12-29T16:17:43.602Z"
   },
   {
    "duration": 38225,
    "start_time": "2022-12-29T16:17:43.623Z"
   },
   {
    "duration": 226,
    "start_time": "2022-12-29T16:18:21.851Z"
   },
   {
    "duration": 83,
    "start_time": "2022-12-29T16:38:26.597Z"
   },
   {
    "duration": 10,
    "start_time": "2022-12-29T16:43:58.864Z"
   },
   {
    "duration": 0,
    "start_time": "2022-12-29T16:45:52.931Z"
   },
   {
    "duration": 0,
    "start_time": "2022-12-29T16:45:52.933Z"
   },
   {
    "duration": 0,
    "start_time": "2022-12-29T16:45:52.934Z"
   },
   {
    "duration": 0,
    "start_time": "2022-12-29T16:45:52.935Z"
   },
   {
    "duration": 0,
    "start_time": "2022-12-29T16:45:52.936Z"
   },
   {
    "duration": 0,
    "start_time": "2022-12-29T16:45:52.937Z"
   },
   {
    "duration": 0,
    "start_time": "2022-12-29T16:45:52.938Z"
   },
   {
    "duration": 0,
    "start_time": "2022-12-29T16:45:52.954Z"
   },
   {
    "duration": 0,
    "start_time": "2022-12-29T16:45:52.955Z"
   },
   {
    "duration": 0,
    "start_time": "2022-12-29T16:45:52.956Z"
   },
   {
    "duration": 0,
    "start_time": "2022-12-29T16:45:52.957Z"
   },
   {
    "duration": 0,
    "start_time": "2022-12-29T16:45:52.957Z"
   },
   {
    "duration": 0,
    "start_time": "2022-12-29T16:45:52.958Z"
   },
   {
    "duration": 2231,
    "start_time": "2022-12-29T16:46:11.247Z"
   },
   {
    "duration": 79,
    "start_time": "2022-12-29T16:46:13.480Z"
   },
   {
    "duration": 6,
    "start_time": "2022-12-29T16:46:13.566Z"
   },
   {
    "duration": 24,
    "start_time": "2022-12-29T16:46:13.575Z"
   },
   {
    "duration": 3,
    "start_time": "2022-12-29T16:46:13.601Z"
   },
   {
    "duration": 73,
    "start_time": "2022-12-29T16:46:13.606Z"
   },
   {
    "duration": 10,
    "start_time": "2022-12-29T16:46:13.681Z"
   },
   {
    "duration": 16,
    "start_time": "2022-12-29T16:46:13.693Z"
   },
   {
    "duration": 12,
    "start_time": "2022-12-29T16:46:13.711Z"
   },
   {
    "duration": 31,
    "start_time": "2022-12-29T16:46:13.725Z"
   },
   {
    "duration": 32064,
    "start_time": "2022-12-29T16:46:13.761Z"
   },
   {
    "duration": 831,
    "start_time": "2022-12-29T16:46:45.827Z"
   },
   {
    "duration": 320,
    "start_time": "2022-12-29T16:46:46.662Z"
   },
   {
    "duration": 25,
    "start_time": "2022-12-29T16:47:15.742Z"
   },
   {
    "duration": 1625,
    "start_time": "2022-12-29T16:47:25.641Z"
   },
   {
    "duration": 73,
    "start_time": "2022-12-29T16:47:27.272Z"
   },
   {
    "duration": 7,
    "start_time": "2022-12-29T16:47:27.347Z"
   },
   {
    "duration": 38,
    "start_time": "2022-12-29T16:47:27.360Z"
   },
   {
    "duration": 3,
    "start_time": "2022-12-29T16:47:27.400Z"
   },
   {
    "duration": 91,
    "start_time": "2022-12-29T16:47:27.405Z"
   },
   {
    "duration": 8,
    "start_time": "2022-12-29T16:47:27.497Z"
   },
   {
    "duration": 18,
    "start_time": "2022-12-29T16:47:27.507Z"
   },
   {
    "duration": 22,
    "start_time": "2022-12-29T16:47:27.526Z"
   },
   {
    "duration": 42,
    "start_time": "2022-12-29T16:47:27.551Z"
   },
   {
    "duration": 32910,
    "start_time": "2022-12-29T16:47:27.595Z"
   },
   {
    "duration": 654,
    "start_time": "2022-12-29T16:48:00.506Z"
   },
   {
    "duration": 257,
    "start_time": "2022-12-29T16:48:01.162Z"
   },
   {
    "duration": 14,
    "start_time": "2022-12-29T16:53:40.616Z"
   },
   {
    "duration": 10,
    "start_time": "2022-12-29T16:56:25.512Z"
   },
   {
    "duration": 1708,
    "start_time": "2022-12-29T16:56:31.274Z"
   },
   {
    "duration": 0,
    "start_time": "2022-12-29T16:56:32.984Z"
   },
   {
    "duration": 0,
    "start_time": "2022-12-29T16:56:32.985Z"
   },
   {
    "duration": 0,
    "start_time": "2022-12-29T16:56:32.987Z"
   },
   {
    "duration": 0,
    "start_time": "2022-12-29T16:56:32.988Z"
   },
   {
    "duration": 0,
    "start_time": "2022-12-29T16:56:32.989Z"
   },
   {
    "duration": 0,
    "start_time": "2022-12-29T16:56:32.989Z"
   },
   {
    "duration": 0,
    "start_time": "2022-12-29T16:56:32.991Z"
   },
   {
    "duration": 1,
    "start_time": "2022-12-29T16:56:32.992Z"
   },
   {
    "duration": 0,
    "start_time": "2022-12-29T16:56:32.994Z"
   },
   {
    "duration": 0,
    "start_time": "2022-12-29T16:56:32.995Z"
   },
   {
    "duration": 0,
    "start_time": "2022-12-29T16:56:32.996Z"
   },
   {
    "duration": 0,
    "start_time": "2022-12-29T16:56:32.997Z"
   },
   {
    "duration": 1738,
    "start_time": "2022-12-29T16:56:38.405Z"
   },
   {
    "duration": 0,
    "start_time": "2022-12-29T16:56:40.145Z"
   },
   {
    "duration": 0,
    "start_time": "2022-12-29T16:56:40.152Z"
   },
   {
    "duration": 0,
    "start_time": "2022-12-29T16:56:40.153Z"
   },
   {
    "duration": 0,
    "start_time": "2022-12-29T16:56:40.154Z"
   },
   {
    "duration": 0,
    "start_time": "2022-12-29T16:56:40.156Z"
   },
   {
    "duration": 0,
    "start_time": "2022-12-29T16:56:40.157Z"
   },
   {
    "duration": 0,
    "start_time": "2022-12-29T16:56:40.158Z"
   },
   {
    "duration": 0,
    "start_time": "2022-12-29T16:56:40.159Z"
   },
   {
    "duration": 0,
    "start_time": "2022-12-29T16:56:40.160Z"
   },
   {
    "duration": 0,
    "start_time": "2022-12-29T16:56:40.161Z"
   },
   {
    "duration": 0,
    "start_time": "2022-12-29T16:56:40.162Z"
   },
   {
    "duration": 0,
    "start_time": "2022-12-29T16:56:40.163Z"
   },
   {
    "duration": 1661,
    "start_time": "2022-12-29T16:56:45.082Z"
   },
   {
    "duration": 0,
    "start_time": "2022-12-29T16:56:46.745Z"
   },
   {
    "duration": 0,
    "start_time": "2022-12-29T16:56:46.747Z"
   },
   {
    "duration": 0,
    "start_time": "2022-12-29T16:56:46.751Z"
   },
   {
    "duration": 0,
    "start_time": "2022-12-29T16:56:46.752Z"
   },
   {
    "duration": 0,
    "start_time": "2022-12-29T16:56:46.753Z"
   },
   {
    "duration": 0,
    "start_time": "2022-12-29T16:56:46.755Z"
   },
   {
    "duration": 0,
    "start_time": "2022-12-29T16:56:46.756Z"
   },
   {
    "duration": 0,
    "start_time": "2022-12-29T16:56:46.758Z"
   },
   {
    "duration": 0,
    "start_time": "2022-12-29T16:56:46.760Z"
   },
   {
    "duration": 0,
    "start_time": "2022-12-29T16:56:46.761Z"
   },
   {
    "duration": 0,
    "start_time": "2022-12-29T16:56:46.763Z"
   },
   {
    "duration": 0,
    "start_time": "2022-12-29T16:56:46.764Z"
   },
   {
    "duration": 1853,
    "start_time": "2022-12-29T16:56:53.227Z"
   },
   {
    "duration": 0,
    "start_time": "2022-12-29T16:56:55.083Z"
   },
   {
    "duration": 0,
    "start_time": "2022-12-29T16:56:55.085Z"
   },
   {
    "duration": 0,
    "start_time": "2022-12-29T16:56:55.087Z"
   },
   {
    "duration": 0,
    "start_time": "2022-12-29T16:56:55.089Z"
   },
   {
    "duration": 0,
    "start_time": "2022-12-29T16:56:55.091Z"
   },
   {
    "duration": 0,
    "start_time": "2022-12-29T16:56:55.093Z"
   },
   {
    "duration": 0,
    "start_time": "2022-12-29T16:56:55.096Z"
   },
   {
    "duration": 0,
    "start_time": "2022-12-29T16:56:55.097Z"
   },
   {
    "duration": 0,
    "start_time": "2022-12-29T16:56:55.099Z"
   },
   {
    "duration": 1,
    "start_time": "2022-12-29T16:56:55.100Z"
   },
   {
    "duration": 0,
    "start_time": "2022-12-29T16:56:55.102Z"
   },
   {
    "duration": 0,
    "start_time": "2022-12-29T16:56:55.104Z"
   },
   {
    "duration": 1680,
    "start_time": "2022-12-29T16:57:10.892Z"
   },
   {
    "duration": 0,
    "start_time": "2022-12-29T16:57:12.575Z"
   },
   {
    "duration": 0,
    "start_time": "2022-12-29T16:57:12.577Z"
   },
   {
    "duration": 0,
    "start_time": "2022-12-29T16:57:12.578Z"
   },
   {
    "duration": 0,
    "start_time": "2022-12-29T16:57:12.580Z"
   },
   {
    "duration": 0,
    "start_time": "2022-12-29T16:57:12.581Z"
   },
   {
    "duration": 0,
    "start_time": "2022-12-29T16:57:12.582Z"
   },
   {
    "duration": 0,
    "start_time": "2022-12-29T16:57:12.584Z"
   },
   {
    "duration": 0,
    "start_time": "2022-12-29T16:57:12.585Z"
   },
   {
    "duration": 0,
    "start_time": "2022-12-29T16:57:12.586Z"
   },
   {
    "duration": 0,
    "start_time": "2022-12-29T16:57:12.587Z"
   },
   {
    "duration": 0,
    "start_time": "2022-12-29T16:57:12.588Z"
   },
   {
    "duration": 0,
    "start_time": "2022-12-29T16:57:12.590Z"
   },
   {
    "duration": 1936,
    "start_time": "2022-12-29T16:57:19.670Z"
   },
   {
    "duration": 0,
    "start_time": "2022-12-29T16:57:21.609Z"
   },
   {
    "duration": 0,
    "start_time": "2022-12-29T16:57:21.610Z"
   },
   {
    "duration": 0,
    "start_time": "2022-12-29T16:57:21.611Z"
   },
   {
    "duration": 0,
    "start_time": "2022-12-29T16:57:21.612Z"
   },
   {
    "duration": 0,
    "start_time": "2022-12-29T16:57:21.613Z"
   },
   {
    "duration": 0,
    "start_time": "2022-12-29T16:57:21.614Z"
   },
   {
    "duration": 0,
    "start_time": "2022-12-29T16:57:21.616Z"
   },
   {
    "duration": 0,
    "start_time": "2022-12-29T16:57:21.617Z"
   },
   {
    "duration": 0,
    "start_time": "2022-12-29T16:57:21.619Z"
   },
   {
    "duration": 0,
    "start_time": "2022-12-29T16:57:21.620Z"
   },
   {
    "duration": 0,
    "start_time": "2022-12-29T16:57:21.621Z"
   },
   {
    "duration": 0,
    "start_time": "2022-12-29T16:57:21.622Z"
   },
   {
    "duration": 5,
    "start_time": "2022-12-29T16:57:55.145Z"
   },
   {
    "duration": 1752,
    "start_time": "2022-12-29T16:57:58.422Z"
   },
   {
    "duration": 82,
    "start_time": "2022-12-29T16:58:00.176Z"
   },
   {
    "duration": 5,
    "start_time": "2022-12-29T16:58:00.261Z"
   },
   {
    "duration": 105,
    "start_time": "2022-12-29T16:58:00.269Z"
   },
   {
    "duration": 21,
    "start_time": "2022-12-29T16:58:00.377Z"
   },
   {
    "duration": 110,
    "start_time": "2022-12-29T16:58:00.400Z"
   },
   {
    "duration": 10,
    "start_time": "2022-12-29T16:58:00.512Z"
   },
   {
    "duration": 37,
    "start_time": "2022-12-29T16:58:00.525Z"
   },
   {
    "duration": 38,
    "start_time": "2022-12-29T16:58:00.564Z"
   },
   {
    "duration": 111,
    "start_time": "2022-12-29T16:58:00.604Z"
   },
   {
    "duration": 30864,
    "start_time": "2022-12-29T16:58:00.717Z"
   },
   {
    "duration": 379,
    "start_time": "2022-12-29T16:58:31.583Z"
   },
   {
    "duration": 301,
    "start_time": "2022-12-29T16:58:31.965Z"
   },
   {
    "duration": 87,
    "start_time": "2022-12-29T16:58:48.236Z"
   },
   {
    "duration": 4,
    "start_time": "2022-12-29T17:00:47.250Z"
   },
   {
    "duration": 1468,
    "start_time": "2022-12-29T17:00:52.353Z"
   },
   {
    "duration": 75,
    "start_time": "2022-12-29T17:00:53.823Z"
   },
   {
    "duration": 4,
    "start_time": "2022-12-29T17:00:53.900Z"
   },
   {
    "duration": 45,
    "start_time": "2022-12-29T17:00:53.906Z"
   },
   {
    "duration": 3,
    "start_time": "2022-12-29T17:00:53.953Z"
   },
   {
    "duration": 55,
    "start_time": "2022-12-29T17:00:53.957Z"
   },
   {
    "duration": 8,
    "start_time": "2022-12-29T17:00:54.014Z"
   },
   {
    "duration": 28,
    "start_time": "2022-12-29T17:00:54.024Z"
   },
   {
    "duration": 7,
    "start_time": "2022-12-29T17:00:54.054Z"
   },
   {
    "duration": 14,
    "start_time": "2022-12-29T17:00:54.064Z"
   },
   {
    "duration": 30962,
    "start_time": "2022-12-29T17:00:54.080Z"
   },
   {
    "duration": 925,
    "start_time": "2022-12-29T17:01:25.044Z"
   },
   {
    "duration": 373,
    "start_time": "2022-12-29T17:01:25.971Z"
   },
   {
    "duration": 97,
    "start_time": "2022-12-29T17:02:49.182Z"
   },
   {
    "duration": 104,
    "start_time": "2022-12-29T17:03:19.565Z"
   },
   {
    "duration": 79,
    "start_time": "2022-12-29T17:03:29.466Z"
   },
   {
    "duration": 93,
    "start_time": "2022-12-29T17:03:42.563Z"
   },
   {
    "duration": 94,
    "start_time": "2022-12-29T17:03:58.503Z"
   },
   {
    "duration": 90,
    "start_time": "2022-12-29T17:04:09.048Z"
   },
   {
    "duration": 90,
    "start_time": "2022-12-29T17:04:18.769Z"
   },
   {
    "duration": 115,
    "start_time": "2022-12-29T17:04:47.730Z"
   },
   {
    "duration": 87,
    "start_time": "2022-12-29T17:05:03.988Z"
   },
   {
    "duration": 113,
    "start_time": "2022-12-29T17:05:20.007Z"
   },
   {
    "duration": 85,
    "start_time": "2022-12-29T17:05:26.296Z"
   },
   {
    "duration": 74,
    "start_time": "2022-12-29T17:06:30.103Z"
   },
   {
    "duration": 78,
    "start_time": "2022-12-29T17:06:49.824Z"
   },
   {
    "duration": 71,
    "start_time": "2022-12-29T17:06:56.484Z"
   },
   {
    "duration": 70,
    "start_time": "2022-12-29T17:07:10.647Z"
   },
   {
    "duration": 1081,
    "start_time": "2022-12-29T17:12:40.105Z"
   },
   {
    "duration": 1048,
    "start_time": "2022-12-29T17:15:39.577Z"
   },
   {
    "duration": 1600,
    "start_time": "2022-12-29T17:15:54.268Z"
   },
   {
    "duration": 77,
    "start_time": "2022-12-29T17:15:55.870Z"
   },
   {
    "duration": 6,
    "start_time": "2022-12-29T17:15:55.948Z"
   },
   {
    "duration": 31,
    "start_time": "2022-12-29T17:15:55.957Z"
   },
   {
    "duration": 3,
    "start_time": "2022-12-29T17:15:55.991Z"
   },
   {
    "duration": 79,
    "start_time": "2022-12-29T17:15:55.996Z"
   },
   {
    "duration": 11,
    "start_time": "2022-12-29T17:15:56.076Z"
   },
   {
    "duration": 17,
    "start_time": "2022-12-29T17:15:56.089Z"
   },
   {
    "duration": 12,
    "start_time": "2022-12-29T17:15:56.107Z"
   },
   {
    "duration": 34,
    "start_time": "2022-12-29T17:15:56.121Z"
   },
   {
    "duration": 31619,
    "start_time": "2022-12-29T17:15:56.157Z"
   },
   {
    "duration": 583,
    "start_time": "2022-12-29T17:16:27.779Z"
   },
   {
    "duration": 247,
    "start_time": "2022-12-29T17:16:28.365Z"
   },
   {
    "duration": 1315,
    "start_time": "2022-12-29T17:16:28.615Z"
   },
   {
    "duration": 2176,
    "start_time": "2022-12-30T12:16:40.562Z"
   },
   {
    "duration": 139,
    "start_time": "2022-12-30T12:16:42.741Z"
   },
   {
    "duration": 4,
    "start_time": "2022-12-30T12:16:42.882Z"
   },
   {
    "duration": 63,
    "start_time": "2022-12-30T12:16:42.887Z"
   },
   {
    "duration": 57030,
    "start_time": "2022-12-30T12:17:04.129Z"
   },
   {
    "duration": 1700,
    "start_time": "2022-12-30T13:27:39.648Z"
   },
   {
    "duration": 141,
    "start_time": "2022-12-30T13:27:41.351Z"
   },
   {
    "duration": 5,
    "start_time": "2022-12-30T13:27:41.494Z"
   },
   {
    "duration": 29,
    "start_time": "2022-12-30T13:27:41.501Z"
   },
   {
    "duration": 60064,
    "start_time": "2022-12-30T13:27:41.532Z"
   },
   {
    "duration": 60,
    "start_time": "2022-12-30T13:28:41.597Z"
   },
   {
    "duration": 6,
    "start_time": "2022-12-30T13:28:41.659Z"
   },
   {
    "duration": 6,
    "start_time": "2022-12-30T13:28:41.666Z"
   },
   {
    "duration": 47,
    "start_time": "2022-12-30T13:28:41.673Z"
   },
   {
    "duration": 32,
    "start_time": "2022-12-30T13:28:41.725Z"
   },
   {
    "duration": 28559,
    "start_time": "2022-12-30T13:28:41.759Z"
   },
   {
    "duration": 402,
    "start_time": "2022-12-30T13:29:10.319Z"
   },
   {
    "duration": 144,
    "start_time": "2022-12-30T13:29:10.727Z"
   },
   {
    "duration": 1052,
    "start_time": "2022-12-30T13:29:10.873Z"
   },
   {
    "duration": 53978,
    "start_time": "2022-12-30T13:54:53.079Z"
   },
   {
    "duration": 1340,
    "start_time": "2022-12-30T14:03:03.735Z"
   },
   {
    "duration": 66,
    "start_time": "2022-12-30T14:03:05.077Z"
   },
   {
    "duration": 4,
    "start_time": "2022-12-30T14:03:05.144Z"
   },
   {
    "duration": 29,
    "start_time": "2022-12-30T14:03:05.150Z"
   },
   {
    "duration": 0,
    "start_time": "2022-12-30T14:03:57.947Z"
   },
   {
    "duration": 1,
    "start_time": "2022-12-30T14:03:57.947Z"
   },
   {
    "duration": 0,
    "start_time": "2022-12-30T14:03:57.948Z"
   },
   {
    "duration": 0,
    "start_time": "2022-12-30T14:03:57.950Z"
   },
   {
    "duration": 0,
    "start_time": "2022-12-30T14:03:57.951Z"
   },
   {
    "duration": 0,
    "start_time": "2022-12-30T14:03:57.952Z"
   },
   {
    "duration": 0,
    "start_time": "2022-12-30T14:03:57.953Z"
   },
   {
    "duration": 0,
    "start_time": "2022-12-30T14:03:57.954Z"
   },
   {
    "duration": 0,
    "start_time": "2022-12-30T14:03:57.954Z"
   },
   {
    "duration": 11,
    "start_time": "2022-12-30T14:04:03.532Z"
   },
   {
    "duration": 53038,
    "start_time": "2022-12-30T14:08:41.131Z"
   },
   {
    "duration": 1399,
    "start_time": "2022-12-30T14:21:15.091Z"
   },
   {
    "duration": 75,
    "start_time": "2022-12-30T14:21:16.492Z"
   },
   {
    "duration": 5,
    "start_time": "2022-12-30T14:21:16.570Z"
   },
   {
    "duration": 36,
    "start_time": "2022-12-30T14:21:16.577Z"
   },
   {
    "duration": 1331,
    "start_time": "2022-12-30T14:21:55.348Z"
   },
   {
    "duration": 70,
    "start_time": "2022-12-30T14:21:56.681Z"
   },
   {
    "duration": 3,
    "start_time": "2022-12-30T14:21:56.753Z"
   },
   {
    "duration": 27,
    "start_time": "2022-12-30T14:21:56.758Z"
   },
   {
    "duration": 1456,
    "start_time": "2022-12-30T14:22:19.466Z"
   },
   {
    "duration": 118,
    "start_time": "2022-12-30T14:22:20.925Z"
   },
   {
    "duration": 4,
    "start_time": "2022-12-30T14:22:21.047Z"
   },
   {
    "duration": 85,
    "start_time": "2022-12-30T14:22:21.052Z"
   },
   {
    "duration": 2,
    "start_time": "2022-12-30T14:22:21.139Z"
   },
   {
    "duration": 23,
    "start_time": "2022-12-30T14:22:21.142Z"
   },
   {
    "duration": 89,
    "start_time": "2022-12-30T14:22:21.166Z"
   },
   {
    "duration": 7,
    "start_time": "2022-12-30T14:22:21.256Z"
   },
   {
    "duration": 7,
    "start_time": "2022-12-30T14:22:21.321Z"
   },
   {
    "duration": 23,
    "start_time": "2022-12-30T14:22:21.332Z"
   },
   {
    "duration": 308,
    "start_time": "2022-12-30T14:22:21.357Z"
   },
   {
    "duration": 0,
    "start_time": "2022-12-30T14:22:21.667Z"
   },
   {
    "duration": 0,
    "start_time": "2022-12-30T14:22:21.723Z"
   },
   {
    "duration": 0,
    "start_time": "2022-12-30T14:22:21.724Z"
   },
   {
    "duration": 1,
    "start_time": "2022-12-30T14:22:21.725Z"
   },
   {
    "duration": 15,
    "start_time": "2022-12-30T14:28:21.757Z"
   },
   {
    "duration": 0,
    "start_time": "2022-12-30T14:28:45.251Z"
   },
   {
    "duration": 0,
    "start_time": "2022-12-30T14:28:45.252Z"
   },
   {
    "duration": 0,
    "start_time": "2022-12-30T14:28:45.253Z"
   },
   {
    "duration": 0,
    "start_time": "2022-12-30T14:28:45.255Z"
   },
   {
    "duration": 0,
    "start_time": "2022-12-30T14:28:45.256Z"
   },
   {
    "duration": 0,
    "start_time": "2022-12-30T14:28:45.257Z"
   },
   {
    "duration": 0,
    "start_time": "2022-12-30T14:28:45.259Z"
   },
   {
    "duration": 0,
    "start_time": "2022-12-30T14:28:45.260Z"
   },
   {
    "duration": 0,
    "start_time": "2022-12-30T14:28:45.261Z"
   },
   {
    "duration": 0,
    "start_time": "2022-12-30T14:28:45.263Z"
   },
   {
    "duration": 0,
    "start_time": "2022-12-30T14:28:45.264Z"
   },
   {
    "duration": 0,
    "start_time": "2022-12-30T14:28:45.265Z"
   },
   {
    "duration": 0,
    "start_time": "2022-12-30T14:28:45.266Z"
   },
   {
    "duration": 0,
    "start_time": "2022-12-30T14:28:45.322Z"
   },
   {
    "duration": 0,
    "start_time": "2022-12-30T14:28:45.324Z"
   },
   {
    "duration": 2047,
    "start_time": "2022-12-30T14:28:57.894Z"
   },
   {
    "duration": 118,
    "start_time": "2022-12-30T14:28:59.943Z"
   },
   {
    "duration": 4,
    "start_time": "2022-12-30T14:29:00.062Z"
   },
   {
    "duration": 92,
    "start_time": "2022-12-30T14:29:00.068Z"
   },
   {
    "duration": 2,
    "start_time": "2022-12-30T14:29:00.162Z"
   },
   {
    "duration": 57,
    "start_time": "2022-12-30T14:29:00.165Z"
   },
   {
    "duration": 40,
    "start_time": "2022-12-30T14:29:00.224Z"
   },
   {
    "duration": 63,
    "start_time": "2022-12-30T14:29:00.266Z"
   },
   {
    "duration": 25,
    "start_time": "2022-12-30T14:29:00.332Z"
   },
   {
    "duration": 19,
    "start_time": "2022-12-30T14:29:00.359Z"
   },
   {
    "duration": 242,
    "start_time": "2022-12-30T14:29:00.421Z"
   },
   {
    "duration": 0,
    "start_time": "2022-12-30T14:29:00.664Z"
   },
   {
    "duration": 0,
    "start_time": "2022-12-30T14:29:00.666Z"
   },
   {
    "duration": 0,
    "start_time": "2022-12-30T14:29:00.667Z"
   },
   {
    "duration": 0,
    "start_time": "2022-12-30T14:29:00.669Z"
   },
   {
    "duration": 44,
    "start_time": "2022-12-30T14:30:29.365Z"
   },
   {
    "duration": 1412,
    "start_time": "2022-12-30T14:36:30.216Z"
   },
   {
    "duration": 72,
    "start_time": "2022-12-30T14:36:31.631Z"
   },
   {
    "duration": 4,
    "start_time": "2022-12-30T14:36:31.706Z"
   },
   {
    "duration": 53,
    "start_time": "2022-12-30T14:36:31.711Z"
   },
   {
    "duration": 3,
    "start_time": "2022-12-30T14:36:31.765Z"
   },
   {
    "duration": 17,
    "start_time": "2022-12-30T14:36:31.769Z"
   },
   {
    "duration": 11,
    "start_time": "2022-12-30T14:36:31.787Z"
   },
   {
    "duration": 112,
    "start_time": "2022-12-30T14:36:31.799Z"
   },
   {
    "duration": 0,
    "start_time": "2022-12-30T14:36:31.913Z"
   },
   {
    "duration": 0,
    "start_time": "2022-12-30T14:36:31.914Z"
   },
   {
    "duration": 0,
    "start_time": "2022-12-30T14:36:31.915Z"
   },
   {
    "duration": 0,
    "start_time": "2022-12-30T14:36:31.916Z"
   },
   {
    "duration": 0,
    "start_time": "2022-12-30T14:36:31.921Z"
   },
   {
    "duration": 0,
    "start_time": "2022-12-30T14:36:31.922Z"
   },
   {
    "duration": 0,
    "start_time": "2022-12-30T14:36:31.925Z"
   },
   {
    "duration": 0,
    "start_time": "2022-12-30T14:36:31.926Z"
   },
   {
    "duration": 67,
    "start_time": "2022-12-30T14:38:50.574Z"
   },
   {
    "duration": 1432,
    "start_time": "2022-12-30T14:38:59.406Z"
   },
   {
    "duration": 69,
    "start_time": "2022-12-30T14:39:00.840Z"
   },
   {
    "duration": 4,
    "start_time": "2022-12-30T14:39:00.910Z"
   },
   {
    "duration": 44,
    "start_time": "2022-12-30T14:39:00.915Z"
   },
   {
    "duration": 10,
    "start_time": "2022-12-30T14:39:00.961Z"
   },
   {
    "duration": 21,
    "start_time": "2022-12-30T14:39:00.973Z"
   },
   {
    "duration": 7,
    "start_time": "2022-12-30T14:39:00.996Z"
   },
   {
    "duration": 146,
    "start_time": "2022-12-30T14:39:01.005Z"
   },
   {
    "duration": 0,
    "start_time": "2022-12-30T14:39:01.153Z"
   },
   {
    "duration": 0,
    "start_time": "2022-12-30T14:39:01.154Z"
   },
   {
    "duration": 0,
    "start_time": "2022-12-30T14:39:01.155Z"
   },
   {
    "duration": 0,
    "start_time": "2022-12-30T14:39:01.156Z"
   },
   {
    "duration": 0,
    "start_time": "2022-12-30T14:39:01.158Z"
   },
   {
    "duration": 0,
    "start_time": "2022-12-30T14:39:01.158Z"
   },
   {
    "duration": 0,
    "start_time": "2022-12-30T14:39:01.160Z"
   },
   {
    "duration": 0,
    "start_time": "2022-12-30T14:39:01.161Z"
   },
   {
    "duration": 1347,
    "start_time": "2022-12-30T14:39:41.871Z"
   },
   {
    "duration": 70,
    "start_time": "2022-12-30T14:39:43.220Z"
   },
   {
    "duration": 4,
    "start_time": "2022-12-30T14:39:43.291Z"
   },
   {
    "duration": 34,
    "start_time": "2022-12-30T14:39:43.297Z"
   },
   {
    "duration": 2,
    "start_time": "2022-12-30T14:39:43.334Z"
   },
   {
    "duration": 39,
    "start_time": "2022-12-30T14:39:43.338Z"
   },
   {
    "duration": 2,
    "start_time": "2022-12-30T14:39:43.379Z"
   },
   {
    "duration": 8,
    "start_time": "2022-12-30T14:39:43.382Z"
   },
   {
    "duration": 7,
    "start_time": "2022-12-30T14:39:43.391Z"
   },
   {
    "duration": 7,
    "start_time": "2022-12-30T14:39:43.400Z"
   },
   {
    "duration": 23,
    "start_time": "2022-12-30T14:39:43.408Z"
   },
   {
    "duration": 25,
    "start_time": "2022-12-30T14:39:43.433Z"
   },
   {
    "duration": 26053,
    "start_time": "2022-12-30T14:39:43.460Z"
   },
   {
    "duration": 47,
    "start_time": "2022-12-30T14:40:09.515Z"
   },
   {
    "duration": 93,
    "start_time": "2022-12-30T14:40:09.563Z"
   },
   {
    "duration": 918,
    "start_time": "2022-12-30T14:40:09.657Z"
   },
   {
    "duration": 1304,
    "start_time": "2022-12-30T14:40:59.282Z"
   },
   {
    "duration": 76,
    "start_time": "2022-12-30T14:41:00.588Z"
   },
   {
    "duration": 4,
    "start_time": "2022-12-30T14:41:00.666Z"
   },
   {
    "duration": 47,
    "start_time": "2022-12-30T14:41:00.671Z"
   },
   {
    "duration": 8,
    "start_time": "2022-12-30T14:41:00.720Z"
   },
   {
    "duration": 52,
    "start_time": "2022-12-30T14:41:00.731Z"
   },
   {
    "duration": 49,
    "start_time": "2022-12-30T14:41:00.785Z"
   },
   {
    "duration": 70,
    "start_time": "2022-12-30T14:41:00.836Z"
   },
   {
    "duration": 38,
    "start_time": "2022-12-30T14:41:00.908Z"
   },
   {
    "duration": 40,
    "start_time": "2022-12-30T14:41:00.948Z"
   },
   {
    "duration": 66,
    "start_time": "2022-12-30T14:41:00.989Z"
   },
   {
    "duration": 52,
    "start_time": "2022-12-30T14:41:01.056Z"
   },
   {
    "duration": 19158,
    "start_time": "2022-12-30T14:41:01.110Z"
   },
   {
    "duration": 3851,
    "start_time": "2022-12-30T14:41:20.269Z"
   },
   {
    "duration": 156,
    "start_time": "2022-12-30T14:41:24.123Z"
   },
   {
    "duration": 634,
    "start_time": "2022-12-30T14:41:24.281Z"
   },
   {
    "duration": 1680,
    "start_time": "2022-12-31T08:30:33.994Z"
   },
   {
    "duration": 126,
    "start_time": "2022-12-31T08:30:35.677Z"
   },
   {
    "duration": 5,
    "start_time": "2022-12-31T08:30:35.805Z"
   },
   {
    "duration": 41,
    "start_time": "2022-12-31T08:30:35.812Z"
   },
   {
    "duration": 3,
    "start_time": "2022-12-31T08:30:35.855Z"
   },
   {
    "duration": 18,
    "start_time": "2022-12-31T08:30:35.860Z"
   },
   {
    "duration": 2,
    "start_time": "2022-12-31T08:30:35.880Z"
   },
   {
    "duration": 12,
    "start_time": "2022-12-31T08:30:35.884Z"
   },
   {
    "duration": 14,
    "start_time": "2022-12-31T08:30:35.898Z"
   },
   {
    "duration": 8,
    "start_time": "2022-12-31T08:30:35.915Z"
   },
   {
    "duration": 24,
    "start_time": "2022-12-31T08:30:35.924Z"
   },
   {
    "duration": 24,
    "start_time": "2022-12-31T08:30:35.949Z"
   },
   {
    "duration": 19496,
    "start_time": "2022-12-31T08:30:35.975Z"
   },
   {
    "duration": 2740,
    "start_time": "2022-12-31T08:30:55.473Z"
   },
   {
    "duration": 148,
    "start_time": "2022-12-31T08:30:58.215Z"
   },
   {
    "duration": 675,
    "start_time": "2022-12-31T08:30:58.364Z"
   },
   {
    "duration": 5,
    "start_time": "2022-12-31T08:58:23.522Z"
   },
   {
    "duration": 72,
    "start_time": "2022-12-31T08:58:23.528Z"
   },
   {
    "duration": 4,
    "start_time": "2022-12-31T08:58:23.601Z"
   },
   {
    "duration": 25,
    "start_time": "2022-12-31T08:58:23.607Z"
   },
   {
    "duration": 3,
    "start_time": "2022-12-31T08:58:23.633Z"
   },
   {
    "duration": 19,
    "start_time": "2022-12-31T08:58:23.638Z"
   },
   {
    "duration": 2,
    "start_time": "2022-12-31T08:58:23.659Z"
   },
   {
    "duration": 8,
    "start_time": "2022-12-31T08:58:23.663Z"
   },
   {
    "duration": 9,
    "start_time": "2022-12-31T08:58:23.673Z"
   },
   {
    "duration": 32,
    "start_time": "2022-12-31T08:58:23.683Z"
   },
   {
    "duration": 20,
    "start_time": "2022-12-31T08:58:23.717Z"
   },
   {
    "duration": 22,
    "start_time": "2022-12-31T08:58:23.740Z"
   },
   {
    "duration": 19325,
    "start_time": "2022-12-31T08:58:23.763Z"
   },
   {
    "duration": 1623,
    "start_time": "2022-12-31T08:58:43.089Z"
   },
   {
    "duration": 155,
    "start_time": "2022-12-31T08:58:44.714Z"
   },
   {
    "duration": 650,
    "start_time": "2022-12-31T08:58:44.871Z"
   },
   {
    "duration": 1076,
    "start_time": "2022-12-31T08:58:59.451Z"
   },
   {
    "duration": 1235,
    "start_time": "2022-12-31T08:59:04.081Z"
   },
   {
    "duration": 1303,
    "start_time": "2022-12-31T08:59:10.840Z"
   },
   {
    "duration": 83,
    "start_time": "2022-12-31T08:59:12.145Z"
   },
   {
    "duration": 4,
    "start_time": "2022-12-31T08:59:12.230Z"
   },
   {
    "duration": 23,
    "start_time": "2022-12-31T08:59:12.236Z"
   },
   {
    "duration": 2,
    "start_time": "2022-12-31T08:59:12.261Z"
   },
   {
    "duration": 16,
    "start_time": "2022-12-31T08:59:12.265Z"
   },
   {
    "duration": 2,
    "start_time": "2022-12-31T08:59:12.283Z"
   },
   {
    "duration": 10,
    "start_time": "2022-12-31T08:59:12.313Z"
   },
   {
    "duration": 5,
    "start_time": "2022-12-31T08:59:12.325Z"
   },
   {
    "duration": 9,
    "start_time": "2022-12-31T08:59:12.332Z"
   },
   {
    "duration": 23,
    "start_time": "2022-12-31T08:59:12.342Z"
   },
   {
    "duration": 48,
    "start_time": "2022-12-31T08:59:12.366Z"
   },
   {
    "duration": 19188,
    "start_time": "2022-12-31T08:59:12.415Z"
   },
   {
    "duration": 1410,
    "start_time": "2022-12-31T08:59:31.604Z"
   },
   {
    "duration": 150,
    "start_time": "2022-12-31T08:59:33.016Z"
   },
   {
    "duration": 620,
    "start_time": "2022-12-31T08:59:33.168Z"
   },
   {
    "duration": 1482,
    "start_time": "2022-12-31T08:59:55.016Z"
   },
   {
    "duration": 87,
    "start_time": "2022-12-31T08:59:56.501Z"
   },
   {
    "duration": 5,
    "start_time": "2022-12-31T08:59:56.590Z"
   },
   {
    "duration": 34,
    "start_time": "2022-12-31T08:59:56.597Z"
   },
   {
    "duration": 2,
    "start_time": "2022-12-31T08:59:56.633Z"
   },
   {
    "duration": 19,
    "start_time": "2022-12-31T08:59:56.636Z"
   },
   {
    "duration": 2,
    "start_time": "2022-12-31T08:59:56.657Z"
   },
   {
    "duration": 36,
    "start_time": "2022-12-31T08:59:56.660Z"
   },
   {
    "duration": 11,
    "start_time": "2022-12-31T08:59:56.698Z"
   },
   {
    "duration": 14,
    "start_time": "2022-12-31T08:59:56.712Z"
   },
   {
    "duration": 31,
    "start_time": "2022-12-31T08:59:56.727Z"
   },
   {
    "duration": 23,
    "start_time": "2022-12-31T08:59:56.760Z"
   },
   {
    "duration": 19103,
    "start_time": "2022-12-31T08:59:56.785Z"
   },
   {
    "duration": 1826,
    "start_time": "2022-12-31T09:00:15.890Z"
   },
   {
    "duration": 242,
    "start_time": "2022-12-31T09:00:17.718Z"
   },
   {
    "duration": 632,
    "start_time": "2022-12-31T09:00:17.962Z"
   },
   {
    "duration": 9,
    "start_time": "2022-12-31T09:13:49.674Z"
   },
   {
    "duration": 1321,
    "start_time": "2022-12-31T09:13:54.434Z"
   },
   {
    "duration": 66,
    "start_time": "2022-12-31T09:13:55.757Z"
   },
   {
    "duration": 4,
    "start_time": "2022-12-31T09:13:55.824Z"
   },
   {
    "duration": 22,
    "start_time": "2022-12-31T09:13:55.830Z"
   },
   {
    "duration": 3,
    "start_time": "2022-12-31T09:13:55.854Z"
   },
   {
    "duration": 13,
    "start_time": "2022-12-31T09:13:55.858Z"
   },
   {
    "duration": 3,
    "start_time": "2022-12-31T09:13:55.873Z"
   },
   {
    "duration": 36,
    "start_time": "2022-12-31T09:13:55.877Z"
   },
   {
    "duration": 5,
    "start_time": "2022-12-31T09:13:55.916Z"
   },
   {
    "duration": 12,
    "start_time": "2022-12-31T09:13:55.923Z"
   },
   {
    "duration": 20,
    "start_time": "2022-12-31T09:13:55.937Z"
   },
   {
    "duration": 20,
    "start_time": "2022-12-31T09:13:55.958Z"
   },
   {
    "duration": 17733,
    "start_time": "2022-12-31T09:13:55.980Z"
   },
   {
    "duration": 1706,
    "start_time": "2022-12-31T09:14:13.716Z"
   },
   {
    "duration": 147,
    "start_time": "2022-12-31T09:14:15.512Z"
   },
   {
    "duration": 56,
    "start_time": "2022-12-31T09:14:15.661Z"
   },
   {
    "duration": 718,
    "start_time": "2022-12-31T09:14:15.719Z"
   },
   {
    "duration": 4,
    "start_time": "2022-12-31T09:29:15.026Z"
   },
   {
    "duration": 148,
    "start_time": "2022-12-31T09:30:32.365Z"
   },
   {
    "duration": 2419,
    "start_time": "2022-12-31T09:30:49.908Z"
   },
   {
    "duration": 139,
    "start_time": "2022-12-31T09:35:31.149Z"
   },
   {
    "duration": 5,
    "start_time": "2022-12-31T09:38:14.157Z"
   },
   {
    "duration": 18,
    "start_time": "2022-12-31T09:38:22.165Z"
   },
   {
    "duration": 2982,
    "start_time": "2022-12-31T09:38:25.380Z"
   },
   {
    "duration": 4,
    "start_time": "2022-12-31T09:39:22.637Z"
   },
   {
    "duration": 2644,
    "start_time": "2022-12-31T09:39:25.414Z"
   },
   {
    "duration": 2356,
    "start_time": "2022-12-31T09:39:40.270Z"
   },
   {
    "duration": 72,
    "start_time": "2022-12-31T09:39:42.628Z"
   },
   {
    "duration": 5,
    "start_time": "2022-12-31T09:39:42.701Z"
   },
   {
    "duration": 28,
    "start_time": "2022-12-31T09:39:42.707Z"
   },
   {
    "duration": 2,
    "start_time": "2022-12-31T09:39:42.737Z"
   },
   {
    "duration": 22,
    "start_time": "2022-12-31T09:39:42.741Z"
   },
   {
    "duration": 2,
    "start_time": "2022-12-31T09:39:42.764Z"
   },
   {
    "duration": 11,
    "start_time": "2022-12-31T09:39:42.768Z"
   },
   {
    "duration": 5,
    "start_time": "2022-12-31T09:39:42.781Z"
   },
   {
    "duration": 9,
    "start_time": "2022-12-31T09:39:42.814Z"
   },
   {
    "duration": 28,
    "start_time": "2022-12-31T09:39:42.824Z"
   },
   {
    "duration": 21,
    "start_time": "2022-12-31T09:39:42.854Z"
   },
   {
    "duration": 19796,
    "start_time": "2022-12-31T09:39:42.877Z"
   },
   {
    "duration": 2541,
    "start_time": "2022-12-31T09:40:02.675Z"
   },
   {
    "duration": 3,
    "start_time": "2022-12-31T09:40:05.217Z"
   },
   {
    "duration": 236,
    "start_time": "2022-12-31T09:40:05.224Z"
   },
   {
    "duration": 15,
    "start_time": "2022-12-31T09:40:05.462Z"
   },
   {
    "duration": 1859,
    "start_time": "2022-12-31T09:40:05.483Z"
   },
   {
    "duration": 617,
    "start_time": "2022-12-31T09:40:07.344Z"
   },
   {
    "duration": 2074,
    "start_time": "2022-12-31T09:40:54.270Z"
   },
   {
    "duration": 2879,
    "start_time": "2022-12-31T09:41:22.837Z"
   },
   {
    "duration": 1435,
    "start_time": "2022-12-31T09:41:46.678Z"
   },
   {
    "duration": 1442,
    "start_time": "2022-12-31T09:42:25.379Z"
   },
   {
    "duration": 72,
    "start_time": "2022-12-31T09:42:26.823Z"
   },
   {
    "duration": 4,
    "start_time": "2022-12-31T09:42:26.897Z"
   },
   {
    "duration": 25,
    "start_time": "2022-12-31T09:42:26.903Z"
   },
   {
    "duration": 3,
    "start_time": "2022-12-31T09:42:26.929Z"
   },
   {
    "duration": 15,
    "start_time": "2022-12-31T09:42:26.933Z"
   },
   {
    "duration": 3,
    "start_time": "2022-12-31T09:42:26.949Z"
   },
   {
    "duration": 9,
    "start_time": "2022-12-31T09:42:26.953Z"
   },
   {
    "duration": 9,
    "start_time": "2022-12-31T09:42:26.963Z"
   },
   {
    "duration": 7,
    "start_time": "2022-12-31T09:42:26.974Z"
   },
   {
    "duration": 47,
    "start_time": "2022-12-31T09:42:26.982Z"
   },
   {
    "duration": 21,
    "start_time": "2022-12-31T09:42:27.031Z"
   },
   {
    "duration": 18864,
    "start_time": "2022-12-31T09:42:27.053Z"
   },
   {
    "duration": 3297,
    "start_time": "2022-12-31T09:42:45.919Z"
   },
   {
    "duration": 3,
    "start_time": "2022-12-31T09:42:49.218Z"
   },
   {
    "duration": 159,
    "start_time": "2022-12-31T09:42:49.223Z"
   },
   {
    "duration": 12,
    "start_time": "2022-12-31T09:42:49.384Z"
   },
   {
    "duration": 1916,
    "start_time": "2022-12-31T09:42:49.397Z"
   },
   {
    "duration": 713,
    "start_time": "2022-12-31T09:42:51.315Z"
   },
   {
    "duration": 1269,
    "start_time": "2022-12-31T09:48:12.375Z"
   },
   {
    "duration": 69,
    "start_time": "2022-12-31T09:48:13.646Z"
   },
   {
    "duration": 4,
    "start_time": "2022-12-31T09:48:13.717Z"
   },
   {
    "duration": 34,
    "start_time": "2022-12-31T09:48:13.723Z"
   },
   {
    "duration": 3,
    "start_time": "2022-12-31T09:48:13.758Z"
   },
   {
    "duration": 15,
    "start_time": "2022-12-31T09:48:13.763Z"
   },
   {
    "duration": 2,
    "start_time": "2022-12-31T09:48:13.780Z"
   },
   {
    "duration": 31,
    "start_time": "2022-12-31T09:48:13.784Z"
   },
   {
    "duration": 7,
    "start_time": "2022-12-31T09:48:13.816Z"
   },
   {
    "duration": 8,
    "start_time": "2022-12-31T09:48:13.826Z"
   },
   {
    "duration": 24,
    "start_time": "2022-12-31T09:48:13.836Z"
   },
   {
    "duration": 25,
    "start_time": "2022-12-31T09:48:13.862Z"
   },
   {
    "duration": 18699,
    "start_time": "2022-12-31T09:48:13.888Z"
   },
   {
    "duration": 1433,
    "start_time": "2022-12-31T09:48:32.589Z"
   },
   {
    "duration": 157,
    "start_time": "2022-12-31T09:48:34.113Z"
   },
   {
    "duration": 42,
    "start_time": "2022-12-31T09:48:34.272Z"
   },
   {
    "duration": 4,
    "start_time": "2022-12-31T09:48:34.316Z"
   },
   {
    "duration": 100,
    "start_time": "2022-12-31T09:48:34.322Z"
   },
   {
    "duration": 1697,
    "start_time": "2022-12-31T09:48:34.423Z"
   },
   {
    "duration": 926,
    "start_time": "2022-12-31T09:48:36.123Z"
   },
   {
    "duration": 2670,
    "start_time": "2022-12-31T09:50:31.036Z"
   },
   {
    "duration": 1436,
    "start_time": "2022-12-31T09:50:44.687Z"
   },
   {
    "duration": 1248,
    "start_time": "2022-12-31T09:50:49.677Z"
   },
   {
    "duration": 13,
    "start_time": "2022-12-31T09:51:15.855Z"
   },
   {
    "duration": 1183,
    "start_time": "2022-12-31T09:51:16.245Z"
   },
   {
    "duration": 59,
    "start_time": "2022-12-31T09:51:33.110Z"
   },
   {
    "duration": 1444,
    "start_time": "2022-12-31T09:51:33.373Z"
   },
   {
    "duration": 1378,
    "start_time": "2022-12-31T09:52:57.406Z"
   },
   {
    "duration": 83,
    "start_time": "2022-12-31T09:52:58.786Z"
   },
   {
    "duration": 4,
    "start_time": "2022-12-31T09:52:58.871Z"
   },
   {
    "duration": 36,
    "start_time": "2022-12-31T09:52:58.877Z"
   },
   {
    "duration": 3,
    "start_time": "2022-12-31T09:52:58.914Z"
   },
   {
    "duration": 16,
    "start_time": "2022-12-31T09:52:58.919Z"
   },
   {
    "duration": 2,
    "start_time": "2022-12-31T09:52:58.938Z"
   },
   {
    "duration": 17,
    "start_time": "2022-12-31T09:52:58.942Z"
   },
   {
    "duration": 8,
    "start_time": "2022-12-31T09:52:58.961Z"
   },
   {
    "duration": 8,
    "start_time": "2022-12-31T09:52:58.972Z"
   },
   {
    "duration": 44,
    "start_time": "2022-12-31T09:52:58.981Z"
   },
   {
    "duration": 21,
    "start_time": "2022-12-31T09:52:59.027Z"
   },
   {
    "duration": 19338,
    "start_time": "2022-12-31T09:52:59.050Z"
   },
   {
    "duration": 1726,
    "start_time": "2022-12-31T09:53:18.390Z"
   },
   {
    "duration": 233,
    "start_time": "2022-12-31T09:53:20.118Z"
   },
   {
    "duration": 8,
    "start_time": "2022-12-31T09:53:20.354Z"
   },
   {
    "duration": 59,
    "start_time": "2022-12-31T09:53:20.364Z"
   },
   {
    "duration": 102,
    "start_time": "2022-12-31T09:53:20.425Z"
   },
   {
    "duration": 3093,
    "start_time": "2022-12-31T09:53:20.529Z"
   },
   {
    "duration": 713,
    "start_time": "2022-12-31T09:53:23.714Z"
   },
   {
    "duration": 1400,
    "start_time": "2022-12-31T10:14:55.143Z"
   },
   {
    "duration": 71,
    "start_time": "2022-12-31T10:14:56.546Z"
   },
   {
    "duration": 5,
    "start_time": "2022-12-31T10:14:56.618Z"
   },
   {
    "duration": 23,
    "start_time": "2022-12-31T10:14:56.625Z"
   },
   {
    "duration": 3,
    "start_time": "2022-12-31T10:14:56.649Z"
   },
   {
    "duration": 15,
    "start_time": "2022-12-31T10:14:56.653Z"
   },
   {
    "duration": 2,
    "start_time": "2022-12-31T10:14:56.669Z"
   },
   {
    "duration": 11,
    "start_time": "2022-12-31T10:14:56.673Z"
   },
   {
    "duration": 29,
    "start_time": "2022-12-31T10:14:56.686Z"
   },
   {
    "duration": 7,
    "start_time": "2022-12-31T10:14:56.718Z"
   },
   {
    "duration": 24,
    "start_time": "2022-12-31T10:14:56.726Z"
   },
   {
    "duration": 21,
    "start_time": "2022-12-31T10:14:56.752Z"
   },
   {
    "duration": 19014,
    "start_time": "2022-12-31T10:14:56.775Z"
   },
   {
    "duration": 1824,
    "start_time": "2022-12-31T10:15:15.792Z"
   },
   {
    "duration": 155,
    "start_time": "2022-12-31T10:15:17.617Z"
   },
   {
    "duration": 39,
    "start_time": "2022-12-31T10:15:17.774Z"
   },
   {
    "duration": 10,
    "start_time": "2022-12-31T10:15:17.815Z"
   },
   {
    "duration": 14,
    "start_time": "2022-12-31T10:15:17.912Z"
   },
   {
    "duration": 1586,
    "start_time": "2022-12-31T10:15:17.927Z"
   },
   {
    "duration": 4,
    "start_time": "2022-12-31T10:15:19.518Z"
   },
   {
    "duration": 13,
    "start_time": "2022-12-31T10:15:19.612Z"
   },
   {
    "duration": 1898,
    "start_time": "2022-12-31T10:15:19.627Z"
   },
   {
    "duration": 811,
    "start_time": "2022-12-31T10:15:21.527Z"
   },
   {
    "duration": 1376,
    "start_time": "2022-12-31T10:33:20.057Z"
   },
   {
    "duration": 70,
    "start_time": "2022-12-31T10:33:21.435Z"
   },
   {
    "duration": 5,
    "start_time": "2022-12-31T10:33:21.507Z"
   },
   {
    "duration": 48,
    "start_time": "2022-12-31T10:33:21.514Z"
   },
   {
    "duration": 3,
    "start_time": "2022-12-31T10:33:21.564Z"
   },
   {
    "duration": 18,
    "start_time": "2022-12-31T10:33:21.569Z"
   },
   {
    "duration": 2,
    "start_time": "2022-12-31T10:33:21.589Z"
   },
   {
    "duration": 9,
    "start_time": "2022-12-31T10:33:21.592Z"
   },
   {
    "duration": 13,
    "start_time": "2022-12-31T10:33:21.603Z"
   },
   {
    "duration": 10,
    "start_time": "2022-12-31T10:33:21.620Z"
   },
   {
    "duration": 26,
    "start_time": "2022-12-31T10:33:21.632Z"
   },
   {
    "duration": 22,
    "start_time": "2022-12-31T10:33:21.660Z"
   },
   {
    "duration": 20899,
    "start_time": "2022-12-31T10:33:21.684Z"
   },
   {
    "duration": 1729,
    "start_time": "2022-12-31T10:33:42.584Z"
   },
   {
    "duration": 149,
    "start_time": "2022-12-31T10:33:44.316Z"
   },
   {
    "duration": 45,
    "start_time": "2022-12-31T10:33:44.467Z"
   },
   {
    "duration": 6,
    "start_time": "2022-12-31T10:33:44.514Z"
   },
   {
    "duration": 107,
    "start_time": "2022-12-31T10:33:44.521Z"
   },
   {
    "duration": 2006,
    "start_time": "2022-12-31T10:33:44.630Z"
   },
   {
    "duration": 3,
    "start_time": "2022-12-31T10:33:46.714Z"
   },
   {
    "duration": 128,
    "start_time": "2022-12-31T10:33:46.719Z"
   },
   {
    "duration": 2167,
    "start_time": "2022-12-31T10:33:46.849Z"
   },
   {
    "duration": 394,
    "start_time": "2022-12-31T10:33:49.032Z"
   },
   {
    "duration": 0,
    "start_time": "2022-12-31T10:33:49.428Z"
   },
   {
    "duration": 1491,
    "start_time": "2022-12-31T10:45:58.506Z"
   },
   {
    "duration": 90,
    "start_time": "2022-12-31T10:45:59.999Z"
   },
   {
    "duration": 4,
    "start_time": "2022-12-31T10:46:00.091Z"
   },
   {
    "duration": 30,
    "start_time": "2022-12-31T10:46:00.097Z"
   },
   {
    "duration": 3,
    "start_time": "2022-12-31T10:46:00.129Z"
   },
   {
    "duration": 27,
    "start_time": "2022-12-31T10:46:00.134Z"
   },
   {
    "duration": 8,
    "start_time": "2022-12-31T10:46:00.163Z"
   },
   {
    "duration": 14,
    "start_time": "2022-12-31T10:46:00.173Z"
   },
   {
    "duration": 9,
    "start_time": "2022-12-31T10:46:00.189Z"
   },
   {
    "duration": 12,
    "start_time": "2022-12-31T10:46:00.214Z"
   },
   {
    "duration": 46,
    "start_time": "2022-12-31T10:46:00.227Z"
   },
   {
    "duration": 24,
    "start_time": "2022-12-31T10:46:00.275Z"
   },
   {
    "duration": 21769,
    "start_time": "2022-12-31T10:46:00.301Z"
   },
   {
    "duration": 1374,
    "start_time": "2022-12-31T10:46:22.072Z"
   },
   {
    "duration": 146,
    "start_time": "2022-12-31T10:46:23.513Z"
   },
   {
    "duration": 12,
    "start_time": "2022-12-31T10:46:23.661Z"
   },
   {
    "duration": 103,
    "start_time": "2022-12-31T10:46:23.713Z"
   },
   {
    "duration": 39,
    "start_time": "2022-12-31T10:46:23.820Z"
   },
   {
    "duration": 1774,
    "start_time": "2022-12-31T10:46:23.861Z"
   },
   {
    "duration": 9,
    "start_time": "2022-12-31T10:46:25.639Z"
   },
   {
    "duration": 106,
    "start_time": "2022-12-31T10:46:25.650Z"
   },
   {
    "duration": 2354,
    "start_time": "2022-12-31T10:46:25.758Z"
   },
   {
    "duration": 299,
    "start_time": "2022-12-31T10:46:28.115Z"
   },
   {
    "duration": 0,
    "start_time": "2022-12-31T10:46:28.417Z"
   },
   {
    "duration": 2243,
    "start_time": "2022-12-31T16:24:13.445Z"
   },
   {
    "duration": 134,
    "start_time": "2022-12-31T16:24:15.690Z"
   },
   {
    "duration": 6,
    "start_time": "2022-12-31T16:24:17.940Z"
   },
   {
    "duration": 36,
    "start_time": "2022-12-31T16:24:18.291Z"
   },
   {
    "duration": 3,
    "start_time": "2022-12-31T16:24:26.847Z"
   },
   {
    "duration": 13,
    "start_time": "2022-12-31T16:24:27.845Z"
   },
   {
    "duration": 2,
    "start_time": "2022-12-31T16:24:31.544Z"
   },
   {
    "duration": 8,
    "start_time": "2022-12-31T16:24:34.877Z"
   },
   {
    "duration": 5,
    "start_time": "2022-12-31T16:24:42.946Z"
   },
   {
    "duration": 6,
    "start_time": "2022-12-31T16:24:51.243Z"
   },
   {
    "duration": 19,
    "start_time": "2022-12-31T16:24:58.382Z"
   },
   {
    "duration": 21,
    "start_time": "2022-12-31T16:25:02.784Z"
   },
   {
    "duration": 21090,
    "start_time": "2022-12-31T16:25:16.687Z"
   },
   {
    "duration": 4574,
    "start_time": "2022-12-31T16:25:38.047Z"
   },
   {
    "duration": 152,
    "start_time": "2022-12-31T16:25:42.623Z"
   },
   {
    "duration": 57,
    "start_time": "2022-12-31T16:25:42.777Z"
   },
   {
    "duration": 2,
    "start_time": "2022-12-31T16:25:43.093Z"
   },
   {
    "duration": 168,
    "start_time": "2022-12-31T16:28:22.243Z"
   },
   {
    "duration": 72,
    "start_time": "2022-12-31T16:28:41.944Z"
   },
   {
    "duration": 1523,
    "start_time": "2023-01-01T15:40:51.310Z"
   },
   {
    "duration": 113,
    "start_time": "2023-01-01T15:40:52.835Z"
   },
   {
    "duration": 4,
    "start_time": "2023-01-01T15:40:52.950Z"
   },
   {
    "duration": 26,
    "start_time": "2023-01-01T15:40:52.955Z"
   },
   {
    "duration": 3,
    "start_time": "2023-01-01T15:40:52.983Z"
   },
   {
    "duration": 31,
    "start_time": "2023-01-01T15:40:52.988Z"
   },
   {
    "duration": 3,
    "start_time": "2023-01-01T15:40:53.020Z"
   },
   {
    "duration": 9,
    "start_time": "2023-01-01T15:40:53.024Z"
   },
   {
    "duration": 6,
    "start_time": "2023-01-01T15:40:53.034Z"
   },
   {
    "duration": 7,
    "start_time": "2023-01-01T15:40:53.041Z"
   },
   {
    "duration": 19,
    "start_time": "2023-01-01T15:40:53.050Z"
   },
   {
    "duration": 46,
    "start_time": "2023-01-01T15:40:53.071Z"
   },
   {
    "duration": 1234,
    "start_time": "2023-01-01T15:41:40.382Z"
   },
   {
    "duration": 69,
    "start_time": "2023-01-01T15:41:41.618Z"
   },
   {
    "duration": 4,
    "start_time": "2023-01-01T15:41:41.688Z"
   },
   {
    "duration": 31,
    "start_time": "2023-01-01T15:41:41.694Z"
   },
   {
    "duration": 2,
    "start_time": "2023-01-01T15:41:41.727Z"
   },
   {
    "duration": 15,
    "start_time": "2023-01-01T15:41:41.731Z"
   },
   {
    "duration": 2,
    "start_time": "2023-01-01T15:41:41.748Z"
   },
   {
    "duration": 9,
    "start_time": "2023-01-01T15:41:41.752Z"
   },
   {
    "duration": 6,
    "start_time": "2023-01-01T15:41:41.762Z"
   },
   {
    "duration": 8,
    "start_time": "2023-01-01T15:41:41.771Z"
   },
   {
    "duration": 51,
    "start_time": "2023-01-01T15:41:41.781Z"
   },
   {
    "duration": 22,
    "start_time": "2023-01-01T15:41:41.834Z"
   },
   {
    "duration": 65889,
    "start_time": "2023-01-01T15:41:41.858Z"
   },
   {
    "duration": 372,
    "start_time": "2023-01-01T15:42:47.748Z"
   },
   {
    "duration": 286,
    "start_time": "2023-01-01T15:42:48.122Z"
   },
   {
    "duration": 8,
    "start_time": "2023-01-01T15:42:48.409Z"
   },
   {
    "duration": 105,
    "start_time": "2023-01-01T15:42:48.420Z"
   },
   {
    "duration": 111,
    "start_time": "2023-01-01T15:42:48.527Z"
   },
   {
    "duration": 379,
    "start_time": "2023-01-01T15:42:48.639Z"
   },
   {
    "duration": 3,
    "start_time": "2023-01-01T15:42:49.020Z"
   },
   {
    "duration": 105,
    "start_time": "2023-01-01T15:42:49.025Z"
   },
   {
    "duration": 289,
    "start_time": "2023-01-01T15:42:49.132Z"
   },
   {
    "duration": 379,
    "start_time": "2023-01-01T15:42:49.424Z"
   },
   {
    "duration": 0,
    "start_time": "2023-01-01T15:42:49.804Z"
   },
   {
    "duration": 179,
    "start_time": "2023-01-01T15:57:46.916Z"
   },
   {
    "duration": 9,
    "start_time": "2023-01-01T16:03:18.869Z"
   },
   {
    "duration": 7,
    "start_time": "2023-01-01T16:03:21.667Z"
   },
   {
    "duration": 194,
    "start_time": "2023-01-01T16:03:25.348Z"
   },
   {
    "duration": 196,
    "start_time": "2023-01-01T16:03:28.908Z"
   },
   {
    "duration": 1328,
    "start_time": "2023-01-01T16:03:34.102Z"
   },
   {
    "duration": 69,
    "start_time": "2023-01-01T16:03:35.431Z"
   },
   {
    "duration": 3,
    "start_time": "2023-01-01T16:03:35.502Z"
   },
   {
    "duration": 28,
    "start_time": "2023-01-01T16:03:35.507Z"
   },
   {
    "duration": 2,
    "start_time": "2023-01-01T16:03:35.536Z"
   },
   {
    "duration": 17,
    "start_time": "2023-01-01T16:03:35.539Z"
   },
   {
    "duration": 2,
    "start_time": "2023-01-01T16:03:35.557Z"
   },
   {
    "duration": 8,
    "start_time": "2023-01-01T16:03:35.560Z"
   },
   {
    "duration": 5,
    "start_time": "2023-01-01T16:03:35.569Z"
   },
   {
    "duration": 7,
    "start_time": "2023-01-01T16:03:35.576Z"
   },
   {
    "duration": 38,
    "start_time": "2023-01-01T16:03:35.584Z"
   },
   {
    "duration": 21,
    "start_time": "2023-01-01T16:03:35.624Z"
   },
   {
    "duration": 65716,
    "start_time": "2023-01-01T16:03:35.646Z"
   },
   {
    "duration": 353,
    "start_time": "2023-01-01T16:04:41.364Z"
   },
   {
    "duration": 273,
    "start_time": "2023-01-01T16:04:41.719Z"
   },
   {
    "duration": 29,
    "start_time": "2023-01-01T16:04:41.993Z"
   },
   {
    "duration": 4,
    "start_time": "2023-01-01T16:04:42.115Z"
   },
   {
    "duration": 102,
    "start_time": "2023-01-01T16:04:42.121Z"
   },
   {
    "duration": 396,
    "start_time": "2023-01-01T16:04:42.224Z"
   },
   {
    "duration": 3,
    "start_time": "2023-01-01T16:04:42.622Z"
   },
   {
    "duration": 101,
    "start_time": "2023-01-01T16:04:42.627Z"
   },
   {
    "duration": 192,
    "start_time": "2023-01-01T16:04:42.730Z"
   },
   {
    "duration": 408,
    "start_time": "2023-01-01T16:04:42.924Z"
   },
   {
    "duration": 0,
    "start_time": "2023-01-01T16:04:43.333Z"
   },
   {
    "duration": 287,
    "start_time": "2023-01-01T16:07:53.335Z"
   },
   {
    "duration": 2082,
    "start_time": "2023-01-01T16:08:51.006Z"
   },
   {
    "duration": 100,
    "start_time": "2023-01-01T16:10:36.719Z"
   },
   {
    "duration": 25,
    "start_time": "2023-01-01T16:12:14.293Z"
   },
   {
    "duration": 1274,
    "start_time": "2023-01-01T16:43:17.066Z"
   },
   {
    "duration": 67,
    "start_time": "2023-01-01T16:43:18.342Z"
   },
   {
    "duration": 4,
    "start_time": "2023-01-01T16:43:18.410Z"
   },
   {
    "duration": 26,
    "start_time": "2023-01-01T16:43:18.415Z"
   },
   {
    "duration": 2,
    "start_time": "2023-01-01T16:43:18.442Z"
   },
   {
    "duration": 17,
    "start_time": "2023-01-01T16:43:18.445Z"
   },
   {
    "duration": 2,
    "start_time": "2023-01-01T16:43:18.464Z"
   },
   {
    "duration": 7,
    "start_time": "2023-01-01T16:43:18.467Z"
   },
   {
    "duration": 5,
    "start_time": "2023-01-01T16:43:18.475Z"
   },
   {
    "duration": 6,
    "start_time": "2023-01-01T16:43:18.483Z"
   },
   {
    "duration": 32,
    "start_time": "2023-01-01T16:43:18.490Z"
   },
   {
    "duration": 21,
    "start_time": "2023-01-01T16:43:18.523Z"
   },
   {
    "duration": 67042,
    "start_time": "2023-01-01T16:43:18.545Z"
   },
   {
    "duration": 331,
    "start_time": "2023-01-01T16:44:25.588Z"
   },
   {
    "duration": 309,
    "start_time": "2023-01-01T16:44:25.922Z"
   },
   {
    "duration": 8,
    "start_time": "2023-01-01T16:44:26.233Z"
   },
   {
    "duration": 72,
    "start_time": "2023-01-01T16:44:26.244Z"
   },
   {
    "duration": 115,
    "start_time": "2023-01-01T16:44:26.321Z"
   },
   {
    "duration": 185,
    "start_time": "2023-01-01T16:44:26.438Z"
   },
   {
    "duration": 92,
    "start_time": "2023-01-01T16:44:26.625Z"
   },
   {
    "duration": 103,
    "start_time": "2023-01-01T16:44:26.719Z"
   },
   {
    "duration": 301,
    "start_time": "2023-01-01T16:44:26.824Z"
   },
   {
    "duration": 290,
    "start_time": "2023-01-01T16:44:27.216Z"
   },
   {
    "duration": 0,
    "start_time": "2023-01-01T16:44:27.515Z"
   },
   {
    "duration": 11,
    "start_time": "2023-01-01T16:44:41.169Z"
   },
   {
    "duration": 43,
    "start_time": "2023-01-01T16:45:07.601Z"
   },
   {
    "duration": 1279,
    "start_time": "2023-01-01T16:45:23.966Z"
   },
   {
    "duration": 67,
    "start_time": "2023-01-01T16:45:25.247Z"
   },
   {
    "duration": 3,
    "start_time": "2023-01-01T16:45:25.316Z"
   },
   {
    "duration": 25,
    "start_time": "2023-01-01T16:45:25.321Z"
   },
   {
    "duration": 2,
    "start_time": "2023-01-01T16:45:25.347Z"
   },
   {
    "duration": 14,
    "start_time": "2023-01-01T16:45:25.351Z"
   },
   {
    "duration": 2,
    "start_time": "2023-01-01T16:45:25.367Z"
   },
   {
    "duration": 11,
    "start_time": "2023-01-01T16:45:25.370Z"
   },
   {
    "duration": 4,
    "start_time": "2023-01-01T16:45:25.383Z"
   },
   {
    "duration": 30,
    "start_time": "2023-01-01T16:45:25.389Z"
   },
   {
    "duration": 19,
    "start_time": "2023-01-01T16:45:25.420Z"
   },
   {
    "duration": 20,
    "start_time": "2023-01-01T16:45:25.440Z"
   },
   {
    "duration": 69172,
    "start_time": "2023-01-01T16:45:25.462Z"
   },
   {
    "duration": 291,
    "start_time": "2023-01-01T16:46:34.636Z"
   },
   {
    "duration": 188,
    "start_time": "2023-01-01T16:46:34.929Z"
   },
   {
    "duration": 0,
    "start_time": "2023-01-01T16:46:35.119Z"
   },
   {
    "duration": 0,
    "start_time": "2023-01-01T16:46:35.120Z"
   },
   {
    "duration": 0,
    "start_time": "2023-01-01T16:46:35.121Z"
   },
   {
    "duration": 0,
    "start_time": "2023-01-01T16:46:35.122Z"
   },
   {
    "duration": 0,
    "start_time": "2023-01-01T16:46:35.123Z"
   },
   {
    "duration": 0,
    "start_time": "2023-01-01T16:46:35.124Z"
   },
   {
    "duration": 0,
    "start_time": "2023-01-01T16:46:35.125Z"
   },
   {
    "duration": 0,
    "start_time": "2023-01-01T16:46:35.127Z"
   },
   {
    "duration": 0,
    "start_time": "2023-01-01T16:46:35.128Z"
   },
   {
    "duration": 177,
    "start_time": "2023-01-01T16:48:25.508Z"
   },
   {
    "duration": 186,
    "start_time": "2023-01-01T16:48:30.793Z"
   },
   {
    "duration": 1266,
    "start_time": "2023-01-01T16:48:38.549Z"
   },
   {
    "duration": 69,
    "start_time": "2023-01-01T16:48:39.817Z"
   },
   {
    "duration": 4,
    "start_time": "2023-01-01T16:48:39.888Z"
   },
   {
    "duration": 28,
    "start_time": "2023-01-01T16:48:39.893Z"
   },
   {
    "duration": 2,
    "start_time": "2023-01-01T16:48:39.922Z"
   },
   {
    "duration": 16,
    "start_time": "2023-01-01T16:48:39.926Z"
   },
   {
    "duration": 14,
    "start_time": "2023-01-01T16:48:39.943Z"
   },
   {
    "duration": 33,
    "start_time": "2023-01-01T16:48:39.959Z"
   },
   {
    "duration": 15,
    "start_time": "2023-01-01T16:48:39.994Z"
   },
   {
    "duration": 21,
    "start_time": "2023-01-01T16:48:40.012Z"
   },
   {
    "duration": 37,
    "start_time": "2023-01-01T16:48:40.034Z"
   },
   {
    "duration": 41,
    "start_time": "2023-01-01T16:48:40.074Z"
   },
   {
    "duration": 68102,
    "start_time": "2023-01-01T16:48:40.116Z"
   },
   {
    "duration": 300,
    "start_time": "2023-01-01T16:49:48.219Z"
   },
   {
    "duration": 310,
    "start_time": "2023-01-01T16:49:48.521Z"
   },
   {
    "duration": 8,
    "start_time": "2023-01-01T16:49:48.833Z"
   },
   {
    "duration": 174,
    "start_time": "2023-01-01T16:49:48.843Z"
   },
   {
    "duration": 20,
    "start_time": "2023-01-01T16:49:49.019Z"
   },
   {
    "duration": 380,
    "start_time": "2023-01-01T16:49:49.041Z"
   },
   {
    "duration": 93,
    "start_time": "2023-01-01T16:49:49.423Z"
   },
   {
    "duration": 11,
    "start_time": "2023-01-01T16:49:49.517Z"
   },
   {
    "duration": 295,
    "start_time": "2023-01-01T16:49:49.529Z"
   },
   {
    "duration": 300,
    "start_time": "2023-01-01T16:49:49.917Z"
   },
   {
    "duration": 0,
    "start_time": "2023-01-01T16:49:50.218Z"
   },
   {
    "duration": 9,
    "start_time": "2023-01-01T16:54:22.268Z"
   },
   {
    "duration": 9,
    "start_time": "2023-01-01T16:54:30.579Z"
   },
   {
    "duration": 7,
    "start_time": "2023-01-01T16:54:38.354Z"
   },
   {
    "duration": 1305,
    "start_time": "2023-01-01T16:55:49.057Z"
   },
   {
    "duration": 68,
    "start_time": "2023-01-01T16:55:50.363Z"
   },
   {
    "duration": 3,
    "start_time": "2023-01-01T16:55:50.433Z"
   },
   {
    "duration": 22,
    "start_time": "2023-01-01T16:55:50.438Z"
   },
   {
    "duration": 9,
    "start_time": "2023-01-01T16:55:50.461Z"
   },
   {
    "duration": 19,
    "start_time": "2023-01-01T16:55:50.471Z"
   },
   {
    "duration": 2,
    "start_time": "2023-01-01T16:55:50.491Z"
   },
   {
    "duration": 7,
    "start_time": "2023-01-01T16:55:50.495Z"
   },
   {
    "duration": 15,
    "start_time": "2023-01-01T16:55:50.503Z"
   },
   {
    "duration": 5,
    "start_time": "2023-01-01T16:55:50.520Z"
   },
   {
    "duration": 19,
    "start_time": "2023-01-01T16:55:50.527Z"
   },
   {
    "duration": 21,
    "start_time": "2023-01-01T16:55:50.547Z"
   },
   {
    "duration": 65370,
    "start_time": "2023-01-01T16:55:50.569Z"
   },
   {
    "duration": 384,
    "start_time": "2023-01-01T16:56:55.940Z"
   },
   {
    "duration": 276,
    "start_time": "2023-01-01T16:56:56.416Z"
   },
   {
    "duration": 25,
    "start_time": "2023-01-01T16:56:56.694Z"
   },
   {
    "duration": 3,
    "start_time": "2023-01-01T16:56:56.720Z"
   },
   {
    "duration": 98,
    "start_time": "2023-01-01T16:56:56.725Z"
   },
   {
    "duration": 101,
    "start_time": "2023-01-01T16:56:56.825Z"
   },
   {
    "duration": 392,
    "start_time": "2023-01-01T16:56:56.929Z"
   },
   {
    "duration": 93,
    "start_time": "2023-01-01T16:56:57.324Z"
   },
   {
    "duration": 109,
    "start_time": "2023-01-01T16:56:57.424Z"
   },
   {
    "duration": 291,
    "start_time": "2023-01-01T16:56:57.535Z"
   },
   {
    "duration": 304,
    "start_time": "2023-01-01T16:56:57.917Z"
   },
   {
    "duration": 0,
    "start_time": "2023-01-01T16:56:58.222Z"
   },
   {
    "duration": 61,
    "start_time": "2023-01-01T16:58:56.444Z"
   },
   {
    "duration": 140,
    "start_time": "2023-01-01T16:58:57.779Z"
   },
   {
    "duration": 15,
    "start_time": "2023-01-01T16:59:08.483Z"
   },
   {
    "duration": 11,
    "start_time": "2023-01-01T16:59:15.107Z"
   },
   {
    "duration": 297,
    "start_time": "2023-01-01T16:59:16.227Z"
   },
   {
    "duration": 8803,
    "start_time": "2023-01-01T16:59:23.435Z"
   },
   {
    "duration": 220,
    "start_time": "2023-01-01T16:59:38.205Z"
   },
   {
    "duration": 17,
    "start_time": "2023-01-01T16:59:44.500Z"
   },
   {
    "duration": 289,
    "start_time": "2023-01-01T16:59:45.732Z"
   },
   {
    "duration": 16,
    "start_time": "2023-01-01T17:02:58.188Z"
   },
   {
    "duration": 7,
    "start_time": "2023-01-01T17:03:15.542Z"
   },
   {
    "duration": 8,
    "start_time": "2023-01-01T17:03:21.788Z"
   },
   {
    "duration": 1274,
    "start_time": "2023-01-01T17:03:33.523Z"
   },
   {
    "duration": 65,
    "start_time": "2023-01-01T17:03:34.799Z"
   },
   {
    "duration": 4,
    "start_time": "2023-01-01T17:03:34.865Z"
   },
   {
    "duration": 22,
    "start_time": "2023-01-01T17:03:34.871Z"
   },
   {
    "duration": 2,
    "start_time": "2023-01-01T17:03:34.895Z"
   },
   {
    "duration": 22,
    "start_time": "2023-01-01T17:03:34.898Z"
   },
   {
    "duration": 2,
    "start_time": "2023-01-01T17:03:34.921Z"
   },
   {
    "duration": 8,
    "start_time": "2023-01-01T17:03:34.925Z"
   },
   {
    "duration": 10,
    "start_time": "2023-01-01T17:03:34.935Z"
   },
   {
    "duration": 8,
    "start_time": "2023-01-01T17:03:34.947Z"
   },
   {
    "duration": 19,
    "start_time": "2023-01-01T17:03:34.956Z"
   },
   {
    "duration": 38,
    "start_time": "2023-01-01T17:03:34.977Z"
   },
   {
    "duration": 67066,
    "start_time": "2023-01-01T17:03:35.017Z"
   },
   {
    "duration": 236,
    "start_time": "2023-01-01T17:04:42.087Z"
   },
   {
    "duration": 362,
    "start_time": "2023-01-01T17:04:42.325Z"
   },
   {
    "duration": 31,
    "start_time": "2023-01-01T17:04:42.688Z"
   },
   {
    "duration": 3,
    "start_time": "2023-01-01T17:04:42.721Z"
   },
   {
    "duration": 355,
    "start_time": "2023-01-01T17:04:42.726Z"
   },
   {
    "duration": 0,
    "start_time": "2023-01-01T17:04:43.083Z"
   },
   {
    "duration": 0,
    "start_time": "2023-01-01T17:04:43.084Z"
   },
   {
    "duration": 0,
    "start_time": "2023-01-01T17:04:43.085Z"
   },
   {
    "duration": 0,
    "start_time": "2023-01-01T17:04:43.087Z"
   },
   {
    "duration": 0,
    "start_time": "2023-01-01T17:04:43.088Z"
   },
   {
    "duration": 0,
    "start_time": "2023-01-01T17:04:43.089Z"
   },
   {
    "duration": 0,
    "start_time": "2023-01-01T17:04:43.090Z"
   },
   {
    "duration": 10,
    "start_time": "2023-01-01T17:04:55.077Z"
   },
   {
    "duration": 15,
    "start_time": "2023-01-01T17:07:11.796Z"
   },
   {
    "duration": 364,
    "start_time": "2023-01-01T17:07:12.856Z"
   },
   {
    "duration": 10,
    "start_time": "2023-01-01T17:10:38.845Z"
   },
   {
    "duration": 8,
    "start_time": "2023-01-01T17:11:03.117Z"
   },
   {
    "duration": 7,
    "start_time": "2023-01-01T17:11:13.587Z"
   },
   {
    "duration": 10,
    "start_time": "2023-01-01T17:11:21.212Z"
   },
   {
    "duration": 8,
    "start_time": "2023-01-01T17:12:02.811Z"
   },
   {
    "duration": 1345,
    "start_time": "2023-01-01T17:17:34.896Z"
   },
   {
    "duration": 79,
    "start_time": "2023-01-01T17:17:36.243Z"
   },
   {
    "duration": 5,
    "start_time": "2023-01-01T17:17:36.324Z"
   },
   {
    "duration": 28,
    "start_time": "2023-01-01T17:17:36.331Z"
   },
   {
    "duration": 3,
    "start_time": "2023-01-01T17:17:36.362Z"
   },
   {
    "duration": 21,
    "start_time": "2023-01-01T17:17:36.367Z"
   },
   {
    "duration": 3,
    "start_time": "2023-01-01T17:17:36.390Z"
   },
   {
    "duration": 26,
    "start_time": "2023-01-01T17:17:36.395Z"
   },
   {
    "duration": 6,
    "start_time": "2023-01-01T17:17:36.422Z"
   },
   {
    "duration": 7,
    "start_time": "2023-01-01T17:17:36.429Z"
   },
   {
    "duration": 18,
    "start_time": "2023-01-01T17:17:36.437Z"
   },
   {
    "duration": 19,
    "start_time": "2023-01-01T17:17:36.456Z"
   },
   {
    "duration": 66264,
    "start_time": "2023-01-01T17:17:36.477Z"
   },
   {
    "duration": 280,
    "start_time": "2023-01-01T17:18:42.743Z"
   },
   {
    "duration": 361,
    "start_time": "2023-01-01T17:18:43.025Z"
   },
   {
    "duration": 29,
    "start_time": "2023-01-01T17:18:43.388Z"
   },
   {
    "duration": 3,
    "start_time": "2023-01-01T17:18:43.420Z"
   },
   {
    "duration": 110,
    "start_time": "2023-01-01T17:18:43.425Z"
   },
   {
    "duration": 7,
    "start_time": "2023-01-01T17:18:43.536Z"
   },
   {
    "duration": 502,
    "start_time": "2023-01-01T17:18:43.615Z"
   },
   {
    "duration": 3,
    "start_time": "2023-01-01T17:18:44.119Z"
   },
   {
    "duration": 105,
    "start_time": "2023-01-01T17:18:44.124Z"
   },
   {
    "duration": 485,
    "start_time": "2023-01-01T17:18:44.231Z"
   },
   {
    "duration": 376,
    "start_time": "2023-01-01T17:18:44.718Z"
   },
   {
    "duration": 0,
    "start_time": "2023-01-01T17:18:45.095Z"
   },
   {
    "duration": 9,
    "start_time": "2023-01-01T17:19:14.525Z"
   },
   {
    "duration": 19,
    "start_time": "2023-01-01T17:19:26.448Z"
   },
   {
    "duration": 11,
    "start_time": "2023-01-01T17:19:32.294Z"
   },
   {
    "duration": 353,
    "start_time": "2023-01-01T17:19:33.967Z"
   },
   {
    "duration": 2119,
    "start_time": "2023-01-02T08:35:44.841Z"
   },
   {
    "duration": 119,
    "start_time": "2023-01-02T08:35:47.205Z"
   },
   {
    "duration": 5,
    "start_time": "2023-01-02T08:35:48.941Z"
   },
   {
    "duration": 21,
    "start_time": "2023-01-02T08:35:50.250Z"
   },
   {
    "duration": 3,
    "start_time": "2023-01-02T08:35:52.324Z"
   },
   {
    "duration": 12,
    "start_time": "2023-01-02T08:35:53.583Z"
   },
   {
    "duration": 2,
    "start_time": "2023-01-02T08:35:56.105Z"
   },
   {
    "duration": 6,
    "start_time": "2023-01-02T08:35:59.495Z"
   },
   {
    "duration": 4,
    "start_time": "2023-01-02T08:36:01.671Z"
   },
   {
    "duration": 10,
    "start_time": "2023-01-02T08:36:03.312Z"
   },
   {
    "duration": 16,
    "start_time": "2023-01-02T08:36:05.436Z"
   },
   {
    "duration": 24,
    "start_time": "2023-01-02T08:36:09.426Z"
   },
   {
    "duration": 59563,
    "start_time": "2023-01-02T08:36:17.173Z"
   },
   {
    "duration": 69698,
    "start_time": "2023-01-02T08:37:58.007Z"
   },
   {
    "duration": 324,
    "start_time": "2023-01-02T08:39:51.124Z"
   },
   {
    "duration": 380,
    "start_time": "2023-01-02T08:41:03.144Z"
   },
   {
    "duration": 323,
    "start_time": "2023-01-02T08:41:09.649Z"
   },
   {
    "duration": 552,
    "start_time": "2023-01-02T08:41:21.524Z"
   },
   {
    "duration": 1608,
    "start_time": "2023-01-02T09:46:57.488Z"
   },
   {
    "duration": 121,
    "start_time": "2023-01-02T09:46:59.098Z"
   },
   {
    "duration": 5,
    "start_time": "2023-01-02T09:46:59.221Z"
   },
   {
    "duration": 26,
    "start_time": "2023-01-02T09:46:59.228Z"
   },
   {
    "duration": 3,
    "start_time": "2023-01-02T09:46:59.256Z"
   },
   {
    "duration": 20,
    "start_time": "2023-01-02T09:46:59.260Z"
   },
   {
    "duration": 2,
    "start_time": "2023-01-02T09:46:59.281Z"
   },
   {
    "duration": 33,
    "start_time": "2023-01-02T09:46:59.285Z"
   },
   {
    "duration": 7,
    "start_time": "2023-01-02T09:46:59.319Z"
   },
   {
    "duration": 17,
    "start_time": "2023-01-02T09:46:59.329Z"
   },
   {
    "duration": 25,
    "start_time": "2023-01-02T09:46:59.348Z"
   },
   {
    "duration": 43,
    "start_time": "2023-01-02T09:46:59.374Z"
   },
   {
    "duration": 69358,
    "start_time": "2023-01-02T09:46:59.419Z"
   },
   {
    "duration": 334,
    "start_time": "2023-01-02T09:48:08.779Z"
   },
   {
    "duration": 292,
    "start_time": "2023-01-02T09:48:09.115Z"
   },
   {
    "duration": 11,
    "start_time": "2023-01-02T09:48:09.409Z"
   },
   {
    "duration": 91,
    "start_time": "2023-01-02T09:48:09.422Z"
   },
   {
    "duration": 111,
    "start_time": "2023-01-02T09:48:09.519Z"
   },
   {
    "duration": 8,
    "start_time": "2023-01-02T09:48:09.632Z"
   },
   {
    "duration": 380,
    "start_time": "2023-01-02T09:48:09.642Z"
   },
   {
    "duration": 6,
    "start_time": "2023-01-02T09:48:10.113Z"
   },
   {
    "duration": 103,
    "start_time": "2023-01-02T09:48:10.122Z"
   },
   {
    "duration": 393,
    "start_time": "2023-01-02T09:48:10.227Z"
   },
   {
    "duration": 398,
    "start_time": "2023-01-02T09:48:10.622Z"
   },
   {
    "duration": 560,
    "start_time": "2023-01-02T09:48:11.022Z"
   },
   {
    "duration": 1354,
    "start_time": "2023-01-02T10:45:09.620Z"
   },
   {
    "duration": 70,
    "start_time": "2023-01-02T10:45:10.976Z"
   },
   {
    "duration": 4,
    "start_time": "2023-01-02T10:45:11.048Z"
   },
   {
    "duration": 23,
    "start_time": "2023-01-02T10:45:11.054Z"
   },
   {
    "duration": 4,
    "start_time": "2023-01-02T10:45:11.079Z"
   },
   {
    "duration": 32,
    "start_time": "2023-01-02T10:45:11.084Z"
   },
   {
    "duration": 2,
    "start_time": "2023-01-02T10:45:11.118Z"
   },
   {
    "duration": 9,
    "start_time": "2023-01-02T10:45:11.122Z"
   },
   {
    "duration": 7,
    "start_time": "2023-01-02T10:45:11.133Z"
   },
   {
    "duration": 6,
    "start_time": "2023-01-02T10:45:11.142Z"
   },
   {
    "duration": 22,
    "start_time": "2023-01-02T10:45:11.149Z"
   },
   {
    "duration": 52,
    "start_time": "2023-01-02T10:45:11.173Z"
   },
   {
    "duration": 68531,
    "start_time": "2023-01-02T10:45:11.227Z"
   },
   {
    "duration": 258,
    "start_time": "2023-01-02T10:46:19.760Z"
   },
   {
    "duration": 399,
    "start_time": "2023-01-02T10:46:20.020Z"
   },
   {
    "duration": 9,
    "start_time": "2023-01-02T10:46:20.421Z"
   },
   {
    "duration": 180,
    "start_time": "2023-01-02T10:46:20.432Z"
   },
   {
    "duration": 32,
    "start_time": "2023-01-02T10:46:20.614Z"
   },
   {
    "duration": 11,
    "start_time": "2023-01-02T10:46:20.648Z"
   },
   {
    "duration": 56,
    "start_time": "2023-01-02T10:46:20.661Z"
   },
   {
    "duration": 402,
    "start_time": "2023-01-02T10:46:20.719Z"
   },
   {
    "duration": 3,
    "start_time": "2023-01-02T10:46:21.213Z"
   },
   {
    "duration": 23,
    "start_time": "2023-01-02T10:46:21.217Z"
   },
   {
    "duration": 371,
    "start_time": "2023-01-02T10:46:21.242Z"
   },
   {
    "duration": 351,
    "start_time": "2023-01-02T10:46:21.615Z"
   },
   {
    "duration": 609,
    "start_time": "2023-01-02T10:46:21.968Z"
   },
   {
    "duration": 1327,
    "start_time": "2023-01-02T11:26:15.358Z"
   },
   {
    "duration": 95,
    "start_time": "2023-01-02T11:26:16.687Z"
   },
   {
    "duration": 7,
    "start_time": "2023-01-02T11:26:16.785Z"
   },
   {
    "duration": 61,
    "start_time": "2023-01-02T11:26:16.794Z"
   },
   {
    "duration": 2,
    "start_time": "2023-01-02T11:26:16.858Z"
   },
   {
    "duration": 30,
    "start_time": "2023-01-02T11:26:16.862Z"
   },
   {
    "duration": 21,
    "start_time": "2023-01-02T11:26:16.894Z"
   },
   {
    "duration": 19,
    "start_time": "2023-01-02T11:26:16.920Z"
   },
   {
    "duration": 23,
    "start_time": "2023-01-02T11:26:16.940Z"
   },
   {
    "duration": 14,
    "start_time": "2023-01-02T11:26:16.965Z"
   },
   {
    "duration": 36,
    "start_time": "2023-01-02T11:26:16.981Z"
   },
   {
    "duration": 28,
    "start_time": "2023-01-02T11:26:17.020Z"
   },
   {
    "duration": 72543,
    "start_time": "2023-01-02T11:26:17.050Z"
   },
   {
    "duration": 138,
    "start_time": "2023-01-02T11:27:29.595Z"
   },
   {
    "duration": 367,
    "start_time": "2023-01-02T11:27:29.735Z"
   },
   {
    "duration": 18,
    "start_time": "2023-01-02T11:27:30.103Z"
   },
   {
    "duration": 116,
    "start_time": "2023-01-02T11:27:30.123Z"
   },
   {
    "duration": 17,
    "start_time": "2023-01-02T11:27:30.315Z"
   },
   {
    "duration": 13,
    "start_time": "2023-01-02T11:27:30.334Z"
   },
   {
    "duration": 118,
    "start_time": "2023-01-02T11:27:30.413Z"
   },
   {
    "duration": 480,
    "start_time": "2023-01-02T11:27:30.533Z"
   },
   {
    "duration": 3,
    "start_time": "2023-01-02T11:27:31.015Z"
   },
   {
    "duration": 116,
    "start_time": "2023-01-02T11:27:31.021Z"
   },
   {
    "duration": 191,
    "start_time": "2023-01-02T11:27:31.139Z"
   },
   {
    "duration": 501,
    "start_time": "2023-01-02T11:27:31.331Z"
   },
   {
    "duration": 634,
    "start_time": "2023-01-02T11:27:31.834Z"
   },
   {
    "duration": 13,
    "start_time": "2023-01-02T11:35:21.130Z"
   },
   {
    "duration": 9,
    "start_time": "2023-01-02T11:35:23.933Z"
   },
   {
    "duration": 6,
    "start_time": "2023-01-02T11:35:26.200Z"
   },
   {
    "duration": 444,
    "start_time": "2023-01-02T11:35:27.069Z"
   },
   {
    "duration": 1339,
    "start_time": "2023-01-02T11:35:32.363Z"
   },
   {
    "duration": 74,
    "start_time": "2023-01-02T11:35:33.704Z"
   },
   {
    "duration": 5,
    "start_time": "2023-01-02T11:35:33.779Z"
   },
   {
    "duration": 38,
    "start_time": "2023-01-02T11:35:33.786Z"
   },
   {
    "duration": 3,
    "start_time": "2023-01-02T11:35:33.827Z"
   },
   {
    "duration": 20,
    "start_time": "2023-01-02T11:35:33.832Z"
   },
   {
    "duration": 6,
    "start_time": "2023-01-02T11:35:33.854Z"
   },
   {
    "duration": 25,
    "start_time": "2023-01-02T11:35:33.862Z"
   },
   {
    "duration": 6,
    "start_time": "2023-01-02T11:35:33.889Z"
   },
   {
    "duration": 37,
    "start_time": "2023-01-02T11:35:33.897Z"
   },
   {
    "duration": 23,
    "start_time": "2023-01-02T11:35:33.935Z"
   },
   {
    "duration": 37,
    "start_time": "2023-01-02T11:35:33.960Z"
   },
   {
    "duration": 67489,
    "start_time": "2023-01-02T11:35:33.998Z"
   },
   {
    "duration": 324,
    "start_time": "2023-01-02T11:36:41.489Z"
   },
   {
    "duration": 282,
    "start_time": "2023-01-02T11:36:41.815Z"
   },
   {
    "duration": 14,
    "start_time": "2023-01-02T11:36:42.098Z"
   },
   {
    "duration": 9,
    "start_time": "2023-01-02T11:36:42.114Z"
   },
   {
    "duration": 187,
    "start_time": "2023-01-02T11:36:42.125Z"
   },
   {
    "duration": 7,
    "start_time": "2023-01-02T11:36:42.314Z"
   },
   {
    "duration": 92,
    "start_time": "2023-01-02T11:36:42.323Z"
   },
   {
    "duration": 305,
    "start_time": "2023-01-02T11:36:42.417Z"
   },
   {
    "duration": 4,
    "start_time": "2023-01-02T11:36:42.818Z"
   },
   {
    "duration": 13,
    "start_time": "2023-01-02T11:36:42.913Z"
   },
   {
    "duration": 585,
    "start_time": "2023-01-02T11:36:42.928Z"
   },
   {
    "duration": 310,
    "start_time": "2023-01-02T11:36:43.515Z"
   },
   {
    "duration": 692,
    "start_time": "2023-01-02T11:36:43.827Z"
   },
   {
    "duration": 13,
    "start_time": "2023-01-02T11:37:35.704Z"
   },
   {
    "duration": 8,
    "start_time": "2023-01-02T11:37:36.734Z"
   },
   {
    "duration": 5,
    "start_time": "2023-01-02T11:37:37.966Z"
   },
   {
    "duration": 264,
    "start_time": "2023-01-02T11:37:38.652Z"
   },
   {
    "duration": 2,
    "start_time": "2023-01-02T11:37:40.304Z"
   },
   {
    "duration": 1457,
    "start_time": "2023-01-22T11:00:34.647Z"
   },
   {
    "duration": 108,
    "start_time": "2023-01-22T11:00:36.106Z"
   },
   {
    "duration": 4,
    "start_time": "2023-01-22T11:00:36.216Z"
   },
   {
    "duration": 36,
    "start_time": "2023-01-22T11:00:36.223Z"
   },
   {
    "duration": 3,
    "start_time": "2023-01-22T11:00:36.260Z"
   },
   {
    "duration": 21,
    "start_time": "2023-01-22T11:00:36.265Z"
   },
   {
    "duration": 2,
    "start_time": "2023-01-22T11:00:36.288Z"
   },
   {
    "duration": 21,
    "start_time": "2023-01-22T11:00:36.292Z"
   },
   {
    "duration": 12,
    "start_time": "2023-01-22T11:00:36.316Z"
   },
   {
    "duration": 17,
    "start_time": "2023-01-22T11:00:36.332Z"
   },
   {
    "duration": 29,
    "start_time": "2023-01-22T11:00:36.351Z"
   },
   {
    "duration": 47,
    "start_time": "2023-01-22T11:00:36.382Z"
   },
   {
    "duration": 80636,
    "start_time": "2023-01-22T11:00:36.432Z"
   },
   {
    "duration": 1481,
    "start_time": "2023-01-22T11:01:57.069Z"
   },
   {
    "duration": 398,
    "start_time": "2023-01-22T11:01:58.553Z"
   },
   {
    "duration": 74,
    "start_time": "2023-01-22T11:01:58.953Z"
   },
   {
    "duration": 102,
    "start_time": "2023-01-22T11:01:59.030Z"
   },
   {
    "duration": 40,
    "start_time": "2023-01-22T11:01:59.135Z"
   },
   {
    "duration": 38,
    "start_time": "2023-01-22T11:01:59.178Z"
   },
   {
    "duration": 136,
    "start_time": "2023-01-22T11:01:59.217Z"
   },
   {
    "duration": 792,
    "start_time": "2023-01-22T11:01:59.356Z"
   },
   {
    "duration": 15,
    "start_time": "2023-01-22T11:02:00.235Z"
   },
   {
    "duration": 30,
    "start_time": "2023-01-22T11:02:00.329Z"
   },
   {
    "duration": 1689,
    "start_time": "2023-01-22T11:02:00.361Z"
   },
   {
    "duration": 401,
    "start_time": "2023-01-22T11:02:02.059Z"
   },
   {
    "duration": 702,
    "start_time": "2023-01-22T11:02:02.462Z"
   }
  ],
  "kernelspec": {
   "display_name": "Python 3 (ipykernel)",
   "language": "python",
   "name": "python3"
  },
  "language_info": {
   "codemirror_mode": {
    "name": "ipython",
    "version": 3
   },
   "file_extension": ".py",
   "mimetype": "text/x-python",
   "name": "python",
   "nbconvert_exporter": "python",
   "pygments_lexer": "ipython3",
   "version": "3.10.11"
  },
  "toc": {
   "base_numbering": 1,
   "nav_menu": {},
   "number_sections": true,
   "sideBar": true,
   "skip_h1_title": true,
   "title_cell": "Содержание",
   "title_sidebar": "Contents",
   "toc_cell": true,
   "toc_position": {
    "height": "calc(100% - 180px)",
    "left": "10px",
    "top": "150px",
    "width": "229px"
   },
   "toc_section_display": true,
   "toc_window_display": true
  }
 },
 "nbformat": 4,
 "nbformat_minor": 2
}
